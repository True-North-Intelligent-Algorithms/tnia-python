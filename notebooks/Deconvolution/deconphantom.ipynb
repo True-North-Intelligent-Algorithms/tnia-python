{
 "cells": [
  {
   "cell_type": "markdown",
   "id": "b44cd25f",
   "metadata": {},
   "source": [
    "## Deconvolve microtubules phantom\n",
    "\n",
    "In this example we use clij2fft richardson lucy to deconvolve the microtubules phantom from here http://bigwww.epfl.ch/deconvolution/data/microtubules/"
   ]
  },
  {
   "cell_type": "code",
   "execution_count": null,
   "id": "cd4303fd",
   "metadata": {},
   "outputs": [],
   "source": [
    "import matplotlib.pyplot as plt\n",
    "from skimage.io import imread\n",
    "from tnia.plotting.projections import show_xyz_max"
   ]
  },
  {
   "cell_type": "code",
   "execution_count": null,
   "id": "4f2ec717",
   "metadata": {},
   "outputs": [],
   "source": [
    "dir_name='D:\\\\images\\\\'\n",
    "#dir_name='/home/bnorthan/Images/'\n",
    "\n",
    "dir_name='D:\\\\images\\\\'\n",
    "#dir_name='/home/bnorthan/Images/'\n",
    "\n",
    "im_name = dir_name+'tnia-python-images/deconvolution/microtubules/input.tif'\n",
    "psf_name = dir_name+'tnia-python-images/deconvolution/microtubules/psf.tif'\n",
    "truth_name = dir_name+'tnia-python-images/deconvolution/microtubules/ground-truth.tif'\n",
    "\n",
    "im_name"
   ]
  },
  {
   "cell_type": "code",
   "execution_count": null,
   "id": "fc7384d1",
   "metadata": {},
   "outputs": [],
   "source": [
    "im=imread(im_name)\n",
    "psf=imread(psf_name)\n",
    "truth=imread(psf_name)"
   ]
  },
  {
   "cell_type": "code",
   "execution_count": null,
   "id": "80b100ea",
   "metadata": {},
   "outputs": [],
   "source": [
    "# crop PSF to make decon a bit faster "
   ]
  },
  {
   "cell_type": "code",
   "execution_count": null,
   "id": "4101e4d3",
   "metadata": {},
   "outputs": [],
   "source": [
    "from tnia.nd.ndutil import centercrop\n",
    "psf=centercrop(psf, (128,128,128))\n",
    "psf.shape"
   ]
  },
  {
   "cell_type": "code",
   "execution_count": null,
   "id": "0f0cf84a",
   "metadata": {},
   "outputs": [],
   "source": [
    "from clij2fft.richardson_lucy import richardson_lucy, richardson_lucy_nc"
   ]
  },
  {
   "cell_type": "code",
   "execution_count": null,
   "id": "f132a3ab",
   "metadata": {},
   "outputs": [],
   "source": [
    "decon1=richardson_lucy_nc(im, psf, 400, 0.0005)"
   ]
  },
  {
   "cell_type": "code",
   "execution_count": null,
   "id": "5a82aa78",
   "metadata": {},
   "outputs": [],
   "source": [
    "from tnia.plotting.projections import show_xyz_max\n",
    "fig=show_xyz_max(im,figsize=(10,7))\n",
    "fig=show_xyz_max(truth,figsize=(10,7))\n",
    "fig=show_xyz_max(decon1,figsize=(10,7))"
   ]
  },
  {
   "cell_type": "code",
   "execution_count": null,
   "id": "01fac3ec",
   "metadata": {},
   "outputs": [],
   "source": [
    "im.shape, psf.shape"
   ]
  },
  {
   "cell_type": "code",
   "execution_count": 2,
   "id": "e1e2f041",
   "metadata": {},
   "outputs": [
    {
     "ename": "SystemError",
     "evalue": "initialization of _internal failed without raising an exception",
     "output_type": "error",
     "traceback": [
      "\u001b[1;31m---------------------------------------------------------------------------\u001b[0m",
      "\u001b[1;31mSystemError\u001b[0m                               Traceback (most recent call last)",
      "Cell \u001b[1;32mIn[2], line 1\u001b[0m\n\u001b[1;32m----> 1\u001b[0m \u001b[39mfrom\u001b[39;00m \u001b[39mtnia\u001b[39;00m\u001b[39m.\u001b[39;00m\u001b[39msimulation\u001b[39;00m\u001b[39m.\u001b[39;00m\u001b[39mphantoms\u001b[39;00m \u001b[39mimport\u001b[39;00m sphere3d\n",
      "File \u001b[1;32mc:\\users\\bnort\\work\\imagej2022\\tnia\\tnia-python\\tnia\\simulation\\phantoms.py:2\u001b[0m\n\u001b[0;32m      1\u001b[0m \u001b[39mimport\u001b[39;00m \u001b[39mnumpy\u001b[39;00m \u001b[39mas\u001b[39;00m \u001b[39mnp\u001b[39;00m\n\u001b[1;32m----> 2\u001b[0m \u001b[39mimport\u001b[39;00m \u001b[39mraster_geometry\u001b[39;00m \u001b[39mas\u001b[39;00m \u001b[39mrg\u001b[39;00m\n\u001b[0;32m      3\u001b[0m \u001b[39mfrom\u001b[39;00m \u001b[39mrandom\u001b[39;00m \u001b[39mimport\u001b[39;00m uniform, seed\n\u001b[0;32m      4\u001b[0m \u001b[39mimport\u001b[39;00m \u001b[39mmath\u001b[39;00m\n",
      "File \u001b[1;32mc:\\Users\\bnort\\miniconda3\\envs\\decon_bioformats\\lib\\site-packages\\raster_geometry\\__init__.py:21\u001b[0m\n\u001b[0;32m     16\u001b[0m \u001b[39mimport\u001b[39;00m \u001b[39mos\u001b[39;00m  \u001b[39m# Miscellaneous operating system interfaces\u001b[39;00m\n\u001b[0;32m     18\u001b[0m \u001b[39m# ======================================================================\u001b[39;00m\n\u001b[0;32m     19\u001b[0m \u001b[39m# :: External Imports\u001b[39;00m\n\u001b[0;32m     20\u001b[0m \u001b[39m# import flyingcircus as fc  # Everything you always wanted to have in Python*\u001b[39;00m\n\u001b[1;32m---> 21\u001b[0m \u001b[39mfrom\u001b[39;00m \u001b[39mflyingcircus\u001b[39;00m \u001b[39mimport\u001b[39;00m msg, dbg, fmt, fmtm, elapsed, report, pkg_paths\n\u001b[0;32m     22\u001b[0m \u001b[39mfrom\u001b[39;00m \u001b[39mflyingcircus\u001b[39;00m \u001b[39mimport\u001b[39;00m run_doctests\n\u001b[0;32m     23\u001b[0m \u001b[39mfrom\u001b[39;00m \u001b[39mflyingcircus\u001b[39;00m \u001b[39mimport\u001b[39;00m VERB_LVL, VERB_LVL_NAMES, D_VERB_LVL\n",
      "File \u001b[1;32mc:\\Users\\bnort\\miniconda3\\envs\\decon_bioformats\\lib\\site-packages\\flyingcircus\\__init__.py:112\u001b[0m\n\u001b[0;32m    109\u001b[0m \u001b[39m# ======================================================================\u001b[39;00m\n\u001b[0;32m    110\u001b[0m \u001b[39m# Numba import\u001b[39;00m\n\u001b[0;32m    111\u001b[0m \u001b[39mtry\u001b[39;00m:\n\u001b[1;32m--> 112\u001b[0m     \u001b[39mfrom\u001b[39;00m \u001b[39mnumba\u001b[39;00m \u001b[39mimport\u001b[39;00m jit\n\u001b[0;32m    113\u001b[0m \u001b[39mexcept\u001b[39;00m \u001b[39mImportError\u001b[39;00m:\n\u001b[0;32m    114\u001b[0m     HAS_JIT \u001b[39m=\u001b[39m \u001b[39mFalse\u001b[39;00m\n",
      "File \u001b[1;32mc:\\Users\\bnort\\miniconda3\\envs\\decon_bioformats\\lib\\site-packages\\numba\\__init__.py:42\u001b[0m\n\u001b[0;32m     38\u001b[0m \u001b[39mfrom\u001b[39;00m \u001b[39mnumba\u001b[39;00m\u001b[39m.\u001b[39;00m\u001b[39mcore\u001b[39;00m\u001b[39m.\u001b[39;00m\u001b[39mdecorators\u001b[39;00m \u001b[39mimport\u001b[39;00m (cfunc, generated_jit, jit, njit, stencil,\n\u001b[0;32m     39\u001b[0m                                    jit_module)\n\u001b[0;32m     41\u001b[0m \u001b[39m# Re-export vectorize decorators and the thread layer querying function\u001b[39;00m\n\u001b[1;32m---> 42\u001b[0m \u001b[39mfrom\u001b[39;00m \u001b[39mnumba\u001b[39;00m\u001b[39m.\u001b[39;00m\u001b[39mnp\u001b[39;00m\u001b[39m.\u001b[39;00m\u001b[39mufunc\u001b[39;00m \u001b[39mimport\u001b[39;00m (vectorize, guvectorize, threading_layer,\n\u001b[0;32m     43\u001b[0m                             get_num_threads, set_num_threads,\n\u001b[0;32m     44\u001b[0m                             set_parallel_chunksize, get_parallel_chunksize,\n\u001b[0;32m     45\u001b[0m                             get_thread_id)\n\u001b[0;32m     47\u001b[0m \u001b[39m# Re-export Numpy helpers\u001b[39;00m\n\u001b[0;32m     48\u001b[0m \u001b[39mfrom\u001b[39;00m \u001b[39mnumba\u001b[39;00m\u001b[39m.\u001b[39;00m\u001b[39mnp\u001b[39;00m\u001b[39m.\u001b[39;00m\u001b[39mnumpy_support\u001b[39;00m \u001b[39mimport\u001b[39;00m carray, farray, from_dtype\n",
      "File \u001b[1;32mc:\\Users\\bnort\\miniconda3\\envs\\decon_bioformats\\lib\\site-packages\\numba\\np\\ufunc\\__init__.py:3\u001b[0m\n\u001b[0;32m      1\u001b[0m \u001b[39m# -*- coding: utf-8 -*-\u001b[39;00m\n\u001b[1;32m----> 3\u001b[0m \u001b[39mfrom\u001b[39;00m \u001b[39mnumba\u001b[39;00m\u001b[39m.\u001b[39;00m\u001b[39mnp\u001b[39;00m\u001b[39m.\u001b[39;00m\u001b[39mufunc\u001b[39;00m\u001b[39m.\u001b[39;00m\u001b[39mdecorators\u001b[39;00m \u001b[39mimport\u001b[39;00m Vectorize, GUVectorize, vectorize, guvectorize\n\u001b[0;32m      4\u001b[0m \u001b[39mfrom\u001b[39;00m \u001b[39mnumba\u001b[39;00m\u001b[39m.\u001b[39;00m\u001b[39mnp\u001b[39;00m\u001b[39m.\u001b[39;00m\u001b[39mufunc\u001b[39;00m\u001b[39m.\u001b[39;00m\u001b[39m_internal\u001b[39;00m \u001b[39mimport\u001b[39;00m PyUFunc_None, PyUFunc_Zero, PyUFunc_One\n\u001b[0;32m      5\u001b[0m \u001b[39mfrom\u001b[39;00m \u001b[39mnumba\u001b[39;00m\u001b[39m.\u001b[39;00m\u001b[39mnp\u001b[39;00m\u001b[39m.\u001b[39;00m\u001b[39mufunc\u001b[39;00m \u001b[39mimport\u001b[39;00m _internal, array_exprs\n",
      "File \u001b[1;32mc:\\Users\\bnort\\miniconda3\\envs\\decon_bioformats\\lib\\site-packages\\numba\\np\\ufunc\\decorators.py:3\u001b[0m\n\u001b[0;32m      1\u001b[0m \u001b[39mimport\u001b[39;00m \u001b[39minspect\u001b[39;00m\n\u001b[1;32m----> 3\u001b[0m \u001b[39mfrom\u001b[39;00m \u001b[39mnumba\u001b[39;00m\u001b[39m.\u001b[39;00m\u001b[39mnp\u001b[39;00m\u001b[39m.\u001b[39;00m\u001b[39mufunc\u001b[39;00m \u001b[39mimport\u001b[39;00m _internal\n\u001b[0;32m      4\u001b[0m \u001b[39mfrom\u001b[39;00m \u001b[39mnumba\u001b[39;00m\u001b[39m.\u001b[39;00m\u001b[39mnp\u001b[39;00m\u001b[39m.\u001b[39;00m\u001b[39mufunc\u001b[39;00m\u001b[39m.\u001b[39;00m\u001b[39mparallel\u001b[39;00m \u001b[39mimport\u001b[39;00m ParallelUFuncBuilder, ParallelGUFuncBuilder\n\u001b[0;32m      6\u001b[0m \u001b[39mfrom\u001b[39;00m \u001b[39mnumba\u001b[39;00m\u001b[39m.\u001b[39;00m\u001b[39mcore\u001b[39;00m\u001b[39m.\u001b[39;00m\u001b[39mregistry\u001b[39;00m \u001b[39mimport\u001b[39;00m DelayedRegistry\n",
      "\u001b[1;31mSystemError\u001b[0m: initialization of _internal failed without raising an exception"
     ]
    }
   ],
   "source": [
    "from tnia.simulation.phantoms import sphere3d"
   ]
  },
  {
   "cell_type": "code",
   "execution_count": 1,
   "id": "4999eefa",
   "metadata": {},
   "outputs": [
    {
     "name": "stdout",
     "output_type": "stream",
     "text": [
      "Requirement already satisfied: raster_geometry in c:\\users\\bnort\\miniconda3\\envs\\decon_bioformats\\lib\\site-packages (0.1.4.2)\n",
      "Requirement already satisfied: flyingcircus in c:\\users\\bnort\\miniconda3\\envs\\decon_bioformats\\lib\\site-packages (from raster_geometry) (0.1.4.1)\n",
      "Requirement already satisfied: scipy in c:\\users\\bnort\\miniconda3\\envs\\decon_bioformats\\lib\\site-packages (from raster_geometry) (1.10.0)\n",
      "Requirement already satisfied: flyingcircus-numeric in c:\\users\\bnort\\miniconda3\\envs\\decon_bioformats\\lib\\site-packages (from raster_geometry) (0.1.1.4)\n",
      "Requirement already satisfied: setuptools in c:\\users\\bnort\\miniconda3\\envs\\decon_bioformats\\lib\\site-packages (from raster_geometry) (66.0.0)\n",
      "Requirement already satisfied: appdirs in c:\\users\\bnort\\miniconda3\\envs\\decon_bioformats\\lib\\site-packages (from raster_geometry) (1.4.4)\n",
      "Requirement already satisfied: numpy in c:\\users\\bnort\\miniconda3\\envs\\decon_bioformats\\lib\\site-packages (from raster_geometry) (1.24.1)\n",
      "Requirement already satisfied: setuptools-scm in c:\\users\\bnort\\miniconda3\\envs\\decon_bioformats\\lib\\site-packages (from flyingcircus->raster_geometry) (7.1.0)\n",
      "Requirement already satisfied: blessed in c:\\users\\bnort\\miniconda3\\envs\\decon_bioformats\\lib\\site-packages (from flyingcircus->raster_geometry) (1.20.0)\n",
      "Requirement already satisfied: jinxed>=1.1.0 in c:\\users\\bnort\\miniconda3\\envs\\decon_bioformats\\lib\\site-packages (from blessed->flyingcircus->raster_geometry) (1.2.0)\n",
      "Requirement already satisfied: wcwidth>=0.1.4 in c:\\users\\bnort\\miniconda3\\envs\\decon_bioformats\\lib\\site-packages (from blessed->flyingcircus->raster_geometry) (0.2.6)\n",
      "Requirement already satisfied: six>=1.9.0 in c:\\users\\bnort\\miniconda3\\envs\\decon_bioformats\\lib\\site-packages (from blessed->flyingcircus->raster_geometry) (1.16.0)\n",
      "Requirement already satisfied: packaging>=20.0 in c:\\users\\bnort\\miniconda3\\envs\\decon_bioformats\\lib\\site-packages (from setuptools-scm->flyingcircus->raster_geometry) (23.0)\n",
      "Requirement already satisfied: tomli>=1.0.0 in c:\\users\\bnort\\miniconda3\\envs\\decon_bioformats\\lib\\site-packages (from setuptools-scm->flyingcircus->raster_geometry) (2.0.1)\n",
      "Requirement already satisfied: typing-extensions in c:\\users\\bnort\\miniconda3\\envs\\decon_bioformats\\lib\\site-packages (from setuptools-scm->flyingcircus->raster_geometry) (4.4.0)\n",
      "Requirement already satisfied: ansicon in c:\\users\\bnort\\miniconda3\\envs\\decon_bioformats\\lib\\site-packages (from jinxed>=1.1.0->blessed->flyingcircus->raster_geometry) (1.89.0)\n",
      "Note: you may need to restart the kernel to use updated packages.\n"
     ]
    }
   ],
   "source": [
    "pip install raster_geometry"
   ]
  },
  {
   "cell_type": "code",
   "execution_count": 3,
   "id": "98294f12",
   "metadata": {},
   "outputs": [
    {
     "data": {
      "text/plain": [
       "'1.24.1'"
      ]
     },
     "execution_count": 3,
     "metadata": {},
     "output_type": "execute_result"
    }
   ],
   "source": [
    "import numpy as np\n",
    "np.version.version"
   ]
  },
  {
   "cell_type": "code",
   "execution_count": null,
   "id": "75f5c9cb",
   "metadata": {},
   "outputs": [],
   "source": []
  }
 ],
 "metadata": {
  "jekyll": {
   "layout": "basic",
   "title": "Deconvolution"
  },
  "kernelspec": {
   "display_name": "decon_bioformats",
   "language": "python",
   "name": "python3"
  },
  "language_info": {
   "codemirror_mode": {
    "name": "ipython",
    "version": 3
   },
   "file_extension": ".py",
   "mimetype": "text/x-python",
   "name": "python",
   "nbconvert_exporter": "python",
   "pygments_lexer": "ipython3",
   "version": "3.9.15"
  },
  "vscode": {
   "interpreter": {
    "hash": "770893361776778c83d069234daefadf0c2235f4af4f4ab69a2b667910abd1d6"
   }
  }
 },
 "nbformat": 4,
 "nbformat_minor": 5
}
