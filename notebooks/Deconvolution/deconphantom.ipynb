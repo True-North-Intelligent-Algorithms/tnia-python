{
 "cells": [
  {
   "cell_type": "markdown",
   "id": "b44cd25f",
   "metadata": {},
   "source": [
    "## Deconvolve microtubules phantom\n",
    "\n",
    "In this example we use clij2fft richardson lucy to deconvolve the microtubules phantom from here http://bigwww.epfl.ch/deconvolution/data/microtubules/"
   ]
  },
  {
   "cell_type": "code",
   "execution_count": 1,
   "id": "cd4303fd",
   "metadata": {},
   "outputs": [],
   "source": [
    "import matplotlib.pyplot as plt\n",
    "from skimage.io import imread\n",
    "from tnia.plotting.projections import show_xyz_max"
   ]
  },
  {
   "cell_type": "code",
   "execution_count": 11,
   "id": "4f2ec717",
   "metadata": {},
   "outputs": [
    {
     "data": {
      "text/plain": [
       "'D:\\\\images\\\\tnia-python-images/deconvolution/microtubules/input.tif'"
      ]
     },
     "execution_count": 11,
     "metadata": {},
     "output_type": "execute_result"
    }
   ],
   "source": [
    "dir_name='D:\\\\images\\\\'\n",
    "#dir_name='/home/bnorthan/Images/'\n",
    "\n",
    "dir_name='D:\\\\images\\\\'\n",
    "#dir_name='/home/bnorthan/Images/'\n",
    "\n",
    "im_name = dir_name+'tnia-python-images/deconvolution/microtubules/input.tif'\n",
    "psf_name = dir_name+'tnia-python-images/deconvolution/microtubules/psf.tif'\n",
    "truth_name = dir_name+'tnia-python-images/deconvolution/microtubules/ground-truth.tif'\n",
    "\n",
    "im_name"
   ]
  },
  {
   "cell_type": "code",
   "execution_count": 12,
   "id": "fc7384d1",
   "metadata": {},
   "outputs": [],
   "source": [
    "im=imread(im_name)\n",
    "psf=imread(psf_name)\n",
    "truth=imread(psf_name)"
   ]
  },
  {
   "cell_type": "code",
   "execution_count": 13,
   "id": "80b100ea",
   "metadata": {},
   "outputs": [],
   "source": [
    "# crop PSF to make decon a bit faster "
   ]
  },
  {
   "cell_type": "code",
   "execution_count": 14,
   "id": "4101e4d3",
   "metadata": {},
   "outputs": [
    {
     "data": {
      "text/plain": [
       "(128, 128, 128)"
      ]
     },
     "execution_count": 14,
     "metadata": {},
     "output_type": "execute_result"
    }
   ],
   "source": [
    "from tnia.nd.ndutil import centercrop\n",
    "psf=centercrop(psf, (128,128,128))\n",
    "psf.shape"
   ]
  },
  {
   "cell_type": "code",
   "execution_count": 15,
   "id": "0f0cf84a",
   "metadata": {},
   "outputs": [],
   "source": [
    "from clij2fft.richardson_lucy import richardson_lucy, richardson_lucy_nc"
   ]
  },
  {
   "cell_type": "code",
   "execution_count": 16,
   "id": "f132a3ab",
   "metadata": {},
   "outputs": [
    {
     "name": "stdout",
     "output_type": "stream",
     "text": [
      "get lib\n"
     ]
    }
   ],
   "source": [
    "decon1=richardson_lucy_nc(im, psf, 400, 0.0005)"
   ]
  },
  {
   "cell_type": "code",
   "execution_count": 1,
   "id": "5a82aa78",
   "metadata": {},
   "outputs": [
    {
     "ename": "NameError",
     "evalue": "name 'show_xyz_max' is not defined",
     "output_type": "error",
     "traceback": [
      "\u001b[1;31m---------------------------------------------------------------------------\u001b[0m",
      "\u001b[1;31mNameError\u001b[0m                                 Traceback (most recent call last)",
      "Input \u001b[1;32mIn [1]\u001b[0m, in \u001b[0;36m<cell line: 1>\u001b[1;34m()\u001b[0m\n\u001b[1;32m----> 1\u001b[0m fig\u001b[38;5;241m=\u001b[39m\u001b[43mshow_xyz_max\u001b[49m(im,figsize\u001b[38;5;241m=\u001b[39m(\u001b[38;5;241m10\u001b[39m,\u001b[38;5;241m7\u001b[39m))\n\u001b[0;32m      2\u001b[0m fig\u001b[38;5;241m=\u001b[39mshow_xyz_max(truth,figsize\u001b[38;5;241m=\u001b[39m(\u001b[38;5;241m10\u001b[39m,\u001b[38;5;241m7\u001b[39m))\n\u001b[0;32m      3\u001b[0m fig\u001b[38;5;241m=\u001b[39mshow_xyz_max(decon1,figsize\u001b[38;5;241m=\u001b[39m(\u001b[38;5;241m10\u001b[39m,\u001b[38;5;241m7\u001b[39m))\n",
      "\u001b[1;31mNameError\u001b[0m: name 'show_xyz_max' is not defined"
     ]
    }
   ],
   "source": [
    "fig=show_xyz_max(im,figsize=(10,7))\n",
    "fig=show_xyz_max(truth,figsize=(10,7))\n",
    "fig=show_xyz_max(decon1,figsize=(10,7))"
   ]
  },
  {
   "cell_type": "code",
   "execution_count": null,
   "id": "01fac3ec",
   "metadata": {},
   "outputs": [],
   "source": []
  }
 ],
 "metadata": {
  "jekyll": {
   "layout": "basic",
   "title": "Deconvolution"
  },
  "kernelspec": {
   "display_name": "Python 3 (ipykernel)",
   "language": "python",
   "name": "python3"
  },
  "language_info": {
   "codemirror_mode": {
    "name": "ipython",
    "version": 3
   },
   "file_extension": ".py",
   "mimetype": "text/x-python",
   "name": "python",
   "nbconvert_exporter": "python",
   "pygments_lexer": "ipython3",
   "version": "3.9.12"
  }
 },
 "nbformat": 4,
 "nbformat_minor": 5
}
