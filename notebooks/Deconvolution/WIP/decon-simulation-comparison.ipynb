{
 "cells": [
  {
   "cell_type": "code",
   "execution_count": 1,
   "id": "6eab7ee1",
   "metadata": {},
   "outputs": [],
   "source": [
    "import matplotlib.pyplot as plt\n",
    "from skimage.io import imread\n",
    "import RedLionfishDeconv as rl\n",
    "from tnia.plotting.projections import show_xyz_max, show_xy_zy_max"
   ]
  },
  {
   "cell_type": "code",
   "execution_count": 2,
   "id": "b6602eb9",
   "metadata": {},
   "outputs": [],
   "source": [
    "dir_name='D:\\\\images\\\\'\n",
    "#dir_name='/home/bnorthan/Images/'\n",
    "\n",
    "im_name = dir_name+'tnia-python-images/deconvolution/microtubules/input.tif'\n",
    "psf_name = dir_name+'tnia-python-images/deconvolution/microtubules/psf.tif'\n",
    "truth_name = dir_name+'tnia-python-images/deconvolution/microtubules/ground-truth.tif'"
   ]
  },
  {
   "cell_type": "code",
   "execution_count": 3,
   "id": "a57baba1",
   "metadata": {},
   "outputs": [],
   "source": [
    "im=imread(im_name)\n",
    "psf=imread(psf_name)\n",
    "truth=imread(truth_name)\n",
    "decon_rltv_500_001_reference=imread(dir_name+'tnia-python-images/deconvolution/microtubules/RLTV-500-0.001.tif')\n",
    "decon_biggs_reference=imread(dir_name+'tnia-python-images/deconvolution/microtubules/biggs.tif')\n",
    "decon_soulez_reference=imread(dir_name+'tnia-python-images/deconvolution/microtubules/soulez.tif')\n",
    "decon_huygens_reference=imread(dir_name+'tnia-python-images/deconvolution/microtubules/huygens.tif')\n",
    "decon_LW1000_reference=imread(dir_name+'tnia-python-images/deconvolution/microtubules/LW-1000.tif')"
   ]
  },
  {
   "cell_type": "code",
   "execution_count": 4,
   "id": "74911a07",
   "metadata": {},
   "outputs": [
    {
     "name": "stderr",
     "output_type": "stream",
     "text": [
      "c:\\Users\\bnort\\miniconda3\\envs\\decon_bioformats\\lib\\site-packages\\reikna\\cluda\\dtypes.py:187: FutureWarning: In the future `np.bool` will be defined as the corresponding NumPy scalar.  (This may have returned Python scalars in past versions.\n",
      "  _register_dtype(numpy.bool, \"bool\")\n",
      "ERROR:root:Failed to setup Reikna with OpenCL.\n",
      "ERROR:root:module 'numpy' has no attribute 'bool'\n"
     ]
    },
    {
     "ename": "KeyboardInterrupt",
     "evalue": "",
     "output_type": "error",
     "traceback": [
      "\u001b[1;31m---------------------------------------------------------------------------\u001b[0m",
      "\u001b[1;31mKeyboardInterrupt\u001b[0m                         Traceback (most recent call last)",
      "Cell \u001b[1;32mIn[4], line 2\u001b[0m\n\u001b[0;32m      1\u001b[0m niter\u001b[39m=\u001b[39m\u001b[39m500\u001b[39m\n\u001b[1;32m----> 2\u001b[0m decon_rlf\u001b[39m=\u001b[39mrl\u001b[39m.\u001b[39;49mdoRLDeconvolutionFromNpArrays(im, psf, niter\u001b[39m=\u001b[39;49mniter, method\u001b[39m=\u001b[39;49m\u001b[39m'\u001b[39;49m\u001b[39mgpu\u001b[39;49m\u001b[39m'\u001b[39;49m, resAsUint8\u001b[39m=\u001b[39;49m\u001b[39mFalse\u001b[39;49;00m )\n",
      "File \u001b[1;32mc:\\Users\\bnort\\miniconda3\\envs\\decon_bioformats\\lib\\site-packages\\RedLionfishDeconv\\RLDeconvolve.py:105\u001b[0m, in \u001b[0;36mdoRLDeconvolutionFromNpArrays\u001b[1;34m(data_np, psf_np, niter, method, useBlockAlgorithm, callbkTickFunc, resAsUint8)\u001b[0m\n\u001b[0;32m    103\u001b[0m \u001b[39mfrom\u001b[39;00m \u001b[39m.\u001b[39;00m \u001b[39mimport\u001b[39;00m RLDeconv3DScipy \u001b[39mas\u001b[39;00m rlcpu\n\u001b[0;32m    104\u001b[0m \u001b[39mtry\u001b[39;00m:\n\u001b[1;32m--> 105\u001b[0m     resRL \u001b[39m=\u001b[39m rlcpu\u001b[39m.\u001b[39;49mdoRLDeconvolution_DL2_4(data_np, psf_np, niter\u001b[39m=\u001b[39;49mniter, callbkTickFunc\u001b[39m=\u001b[39;49mcallbkTickFunc)\n\u001b[0;32m    106\u001b[0m \u001b[39mexcept\u001b[39;00m \u001b[39mException\u001b[39;00m \u001b[39mas\u001b[39;00m e:\n\u001b[0;32m    107\u001b[0m     logging\u001b[39m.\u001b[39minfo(\u001b[39m\"\u001b[39m\u001b[39mdoRLDeconvolution_DL2_4 failed (CPU) with error:\u001b[39m\u001b[39m\"\u001b[39m)\n",
      "File \u001b[1;32mc:\\Users\\bnort\\miniconda3\\envs\\decon_bioformats\\lib\\site-packages\\RedLionfishDeconv\\RLDeconv3DScipy.py:147\u001b[0m, in \u001b[0;36mdoRLDeconvolution_DL2_4\u001b[1;34m(data_np, psf_np, niter, callbkTickFunc)\u001b[0m\n\u001b[0;32m    145\u001b[0m U1 \u001b[39m=\u001b[39m scipy\u001b[39m.\u001b[39mfft\u001b[39m.\u001b[39mrfftn(p)\n\u001b[0;32m    146\u001b[0m U2 \u001b[39m=\u001b[39m np\u001b[39m.\u001b[39mmultiply(U1 , psf_flip_fft)\n\u001b[1;32m--> 147\u001b[0m u2 \u001b[39m=\u001b[39m scipy\u001b[39m.\u001b[39;49mfft\u001b[39m.\u001b[39;49mirfftn(U2)\n\u001b[0;32m    149\u001b[0m xn1 \u001b[39m=\u001b[39m np\u001b[39m.\u001b[39mmultiply(xn, u2)\n\u001b[0;32m    151\u001b[0m \u001b[39mif\u001b[39;00m \u001b[39mnot\u001b[39;00m callbkTickFunc \u001b[39mis\u001b[39;00m \u001b[39mNone\u001b[39;00m:\n",
      "File \u001b[1;32mc:\\Users\\bnort\\miniconda3\\envs\\decon_bioformats\\lib\\site-packages\\scipy\\fft\\_backend.py:25\u001b[0m, in \u001b[0;36m_ScipyBackend.__ua_function__\u001b[1;34m(method, args, kwargs)\u001b[0m\n\u001b[0;32m     23\u001b[0m \u001b[39mif\u001b[39;00m fn \u001b[39mis\u001b[39;00m \u001b[39mNone\u001b[39;00m:\n\u001b[0;32m     24\u001b[0m     \u001b[39mreturn\u001b[39;00m \u001b[39mNotImplemented\u001b[39m\n\u001b[1;32m---> 25\u001b[0m \u001b[39mreturn\u001b[39;00m fn(\u001b[39m*\u001b[39margs, \u001b[39m*\u001b[39m\u001b[39m*\u001b[39mkwargs)\n",
      "File \u001b[1;32mc:\\Users\\bnort\\miniconda3\\envs\\decon_bioformats\\lib\\site-packages\\scipy\\fft\\_pocketfft\\basic.py:263\u001b[0m, in \u001b[0;36mc2rn\u001b[1;34m(forward, x, s, axes, norm, overwrite_x, workers, plan)\u001b[0m\n\u001b[0;32m    260\u001b[0m tmp, _ \u001b[39m=\u001b[39m _fix_shape(tmp, shape, axes)\n\u001b[0;32m    262\u001b[0m \u001b[39m# Note: overwrite_x is not utilized\u001b[39;00m\n\u001b[1;32m--> 263\u001b[0m \u001b[39mreturn\u001b[39;00m pfft\u001b[39m.\u001b[39;49mc2r(tmp, axes, lastsize, forward, norm, \u001b[39mNone\u001b[39;49;00m, workers)\n",
      "\u001b[1;31mKeyboardInterrupt\u001b[0m: "
     ]
    }
   ],
   "source": [
    "niter=500\n",
    "decon_rlf=rl.doRLDeconvolutionFromNpArrays(im, psf, niter=niter, method='gpu', resAsUint8=False )"
   ]
  },
  {
   "cell_type": "code",
   "execution_count": 64,
   "id": "780377b7",
   "metadata": {},
   "outputs": [],
   "source": [
    "decon_rlf_2000=rl.doRLDeconvolutionFromNpArrays(im, psf, niter=2000, method='gpu', resAsUint8=False )"
   ]
  },
  {
   "cell_type": "code",
   "execution_count": 50,
   "id": "f9553815",
   "metadata": {},
   "outputs": [
    {
     "name": "stdout",
     "output_type": "stream",
     "text": [
      "get lib\n"
     ]
    }
   ],
   "source": [
    "from clij2fft.richardson_lucy import richardson_lucy, richardson_lucy_nc\n",
    "decon_nc_001=richardson_lucy_nc(im, psf, niter, 0.001)"
   ]
  },
  {
   "cell_type": "code",
   "execution_count": 52,
   "id": "1dcd5365",
   "metadata": {},
   "outputs": [
    {
     "name": "stdout",
     "output_type": "stream",
     "text": [
      "get lib\n"
     ]
    }
   ],
   "source": [
    "decon_nc=richardson_lucy_nc(im, psf, niter, 0)"
   ]
  },
  {
   "cell_type": "code",
   "execution_count": 63,
   "id": "a6043014",
   "metadata": {},
   "outputs": [
    {
     "name": "stdout",
     "output_type": "stream",
     "text": [
      "get lib\n"
     ]
    }
   ],
   "source": [
    "decon_nc_2000_002=richardson_lucy_nc(im, psf, 2000, 0.002)"
   ]
  },
  {
   "cell_type": "code",
   "execution_count": 65,
   "id": "ed89ac3c",
   "metadata": {},
   "outputs": [
    {
     "data": {
      "text/html": [
       "<style type=\"text/css\">\n",
       "</style>\n",
       "<table id=\"T_4f00d\">\n",
       "  <thead>\n",
       "    <tr>\n",
       "      <th id=\"T_4f00d_level0_col0\" class=\"col_heading level0 col0\" >method</th>\n",
       "      <th id=\"T_4f00d_level0_col1\" class=\"col_heading level0 col1\" >RMSE</th>\n",
       "    </tr>\n",
       "  </thead>\n",
       "  <tbody>\n",
       "    <tr>\n",
       "      <td id=\"T_4f00d_row0_col0\" class=\"data row0 col0\" >truth</td>\n",
       "      <td id=\"T_4f00d_row0_col1\" class=\"data row0 col1\" >0.000000</td>\n",
       "    </tr>\n",
       "    <tr>\n",
       "      <td id=\"T_4f00d_row1_col0\" class=\"data row1 col0\" >image</td>\n",
       "      <td id=\"T_4f00d_row1_col1\" class=\"data row1 col1\" >580.465576</td>\n",
       "    </tr>\n",
       "    <tr>\n",
       "      <td id=\"T_4f00d_row2_col0\" class=\"data row2 col0\" >rlnc 500 </td>\n",
       "      <td id=\"T_4f00d_row2_col1\" class=\"data row2 col1\" >401.974609</td>\n",
       "    </tr>\n",
       "    <tr>\n",
       "      <td id=\"T_4f00d_row3_col0\" class=\"data row3 col0\" >rlnc 2000 </td>\n",
       "      <td id=\"T_4f00d_row3_col1\" class=\"data row3 col1\" >387.438202</td>\n",
       "    </tr>\n",
       "    <tr>\n",
       "      <td id=\"T_4f00d_row4_col0\" class=\"data row4 col0\" >rltvnc 500 001</td>\n",
       "      <td id=\"T_4f00d_row4_col1\" class=\"data row4 col1\" >425.205536</td>\n",
       "    </tr>\n",
       "    <tr>\n",
       "      <td id=\"T_4f00d_row5_col0\" class=\"data row5 col0\" >rltvnc 2000 0002</td>\n",
       "      <td id=\"T_4f00d_row5_col1\" class=\"data row5 col1\" >369.125793</td>\n",
       "    </tr>\n",
       "    <tr>\n",
       "      <td id=\"T_4f00d_row6_col0\" class=\"data row6 col0\" >rlf 500</td>\n",
       "      <td id=\"T_4f00d_row6_col1\" class=\"data row6 col1\" >461.854828</td>\n",
       "    </tr>\n",
       "    <tr>\n",
       "      <td id=\"T_4f00d_row7_col0\" class=\"data row7 col0\" >rlf 2000</td>\n",
       "      <td id=\"T_4f00d_row7_col1\" class=\"data row7 col1\" >515.072327</td>\n",
       "    </tr>\n",
       "    <tr>\n",
       "      <td id=\"T_4f00d_row8_col0\" class=\"data row8 col0\" >rltv reference 500 001</td>\n",
       "      <td id=\"T_4f00d_row8_col1\" class=\"data row8 col1\" >418.124298</td>\n",
       "    </tr>\n",
       "    <tr>\n",
       "      <td id=\"T_4f00d_row9_col0\" class=\"data row9 col0\" >Biggs</td>\n",
       "      <td id=\"T_4f00d_row9_col1\" class=\"data row9 col1\" >453.220825</td>\n",
       "    </tr>\n",
       "    <tr>\n",
       "      <td id=\"T_4f00d_row10_col0\" class=\"data row10 col0\" >Soulez</td>\n",
       "      <td id=\"T_4f00d_row10_col1\" class=\"data row10 col1\" >266.473022</td>\n",
       "    </tr>\n",
       "    <tr>\n",
       "      <td id=\"T_4f00d_row11_col0\" class=\"data row11 col0\" >Huygens</td>\n",
       "      <td id=\"T_4f00d_row11_col1\" class=\"data row11 col1\" >463.387817</td>\n",
       "    </tr>\n",
       "    <tr>\n",
       "      <td id=\"T_4f00d_row12_col0\" class=\"data row12 col0\" >Land Weber 1000</td>\n",
       "      <td id=\"T_4f00d_row12_col1\" class=\"data row12 col1\" >458.068695</td>\n",
       "    </tr>\n",
       "  </tbody>\n",
       "</table>\n"
      ],
      "text/plain": [
       "<pandas.io.formats.style.Styler at 0x21197b49040>"
      ]
     },
     "execution_count": 65,
     "metadata": {},
     "output_type": "execute_result"
    }
   ],
   "source": [
    "from tnia.metrics.errors import RMSE\n",
    "import pandas as pd\n",
    "df=pd.DataFrame(columns=['method','RMSE'])\n",
    "\n",
    "\n",
    "df.loc[len(df.index)]=['truth',RMSE(truth,truth)]\n",
    "df.loc[len(df.index)]=['image',RMSE(truth,im)]\n",
    "df.loc[len(df.index)]=['rlnc 500 ',RMSE(truth,decon_nc)]\n",
    "df.loc[len(df.index)]=['rlnc 2000 ',RMSE(truth,decon_nc_2000)]\n",
    "df.loc[len(df.index)]=['rltvnc 500 001',RMSE(truth,decon_nc_001)]\n",
    "df.loc[len(df.index)]=['rltvnc 2000 0002',RMSE(truth,decon_nc_2000_0002)]\n",
    "df.loc[len(df.index)]=['rlf 500',RMSE(truth,decon_rlf)]\n",
    "df.loc[len(df.index)]=['rlf 2000',RMSE(truth,decon_rlf_2000)]\n",
    "df.loc[len(df.index)]=['rltv reference 500 001',RMSE(truth,decon_rltv_500_001_reference)]\n",
    "df.loc[len(df.index)]=['Biggs', RMSE(truth,decon_biggs_reference)]\n",
    "df.loc[len(df.index)]=['Soulez',RMSE(truth,decon_soulez_reference)]\n",
    "df.loc[len(df.index)]=['Huygens',RMSE(truth,decon_huygens_reference)]\n",
    "df.loc[len(df.index)]=['Land Weber 1000',RMSE(truth,decon_LW1000_reference)]\n",
    "                       \n",
    "df.style.hide(axis='index')"
   ]
  },
  {
   "cell_type": "code",
   "execution_count": 68,
   "id": "c0e7dd35",
   "metadata": {},
   "outputs": [
    {
     "data": {
      "text/plain": [
       "<Image layer 'decon_rltv_500_001_reference' at 0x211acb5af70>"
      ]
     },
     "execution_count": 68,
     "metadata": {},
     "output_type": "execute_result"
    }
   ],
   "source": [
    "import napari\n",
    "viewer=napari.Viewer()\n",
    "viewer.add_image(truth, scale=(3,1,1))\n",
    "viewer.add_image(im, scale=(3,1,1))\n",
    "viewer.add_image(decon_huygens_reference, scale=(3,1,1))\n",
    "viewer.add_image(decon_soulez_reference, scale=(3,1,1))\n",
    "viewer.add_image(decon_biggs_reference, scale=(3,1,1))\n",
    "viewer.add_image(decon_nc_2000_0002, scale=(3,1,1))\n",
    "viewer.add_image(decon_nc_2000, scale=(3,1,1))\n",
    "viewer.add_image(decon_rlf_2000, scale=(3,1,1))\n",
    "viewer.add_image(decon_rltv_500_001_reference, scale=(3,1,1))\n",
    "\n",
    "\n",
    "\n"
   ]
  },
  {
   "cell_type": "code",
   "execution_count": 70,
   "id": "a35b042d",
   "metadata": {},
   "outputs": [
    {
     "data": {
      "text/plain": [
       "<Image layer 'decon_rltv_500_001_reference' at 0x211b81a29a0>"
      ]
     },
     "execution_count": 70,
     "metadata": {},
     "output_type": "execute_result"
    }
   ],
   "source": [
    "import napari\n",
    "viewer=napari.Viewer()\n",
    "viewer.add_image(truth, scale=(3,1,1))\n",
    "viewer.add_image(im, scale=(3,1,1))\n",
    "viewer.add_image(decon_huygens_reference, scale=(3,1,1))\n",
    "viewer.add_image(decon_biggs_reference, scale=(3,1,1))\n",
    "viewer.add_image(decon_nc_001, scale=(3,1,1))\n",
    "viewer.add_image(decon_nc_2000_002, scale=(3,1,1))\n",
    "viewer.add_image(decon_rltv_500_001_reference, scale=(3,1,1))"
   ]
  },
  {
   "cell_type": "code",
   "execution_count": null,
   "id": "3249f711",
   "metadata": {},
   "outputs": [],
   "source": []
  }
 ],
 "metadata": {
  "kernelspec": {
   "display_name": "decon_bioformats",
   "language": "python",
   "name": "python3"
  },
  "language_info": {
   "codemirror_mode": {
    "name": "ipython",
    "version": 3
   },
   "file_extension": ".py",
   "mimetype": "text/x-python",
   "name": "python",
   "nbconvert_exporter": "python",
   "pygments_lexer": "ipython3",
   "version": "3.9.15 | packaged by conda-forge | (main, Nov 22 2022, 08:41:22) [MSC v.1929 64 bit (AMD64)]"
  },
  "vscode": {
   "interpreter": {
    "hash": "770893361776778c83d069234daefadf0c2235f4af4f4ab69a2b667910abd1d6"
   }
  }
 },
 "nbformat": 4,
 "nbformat_minor": 5
}
