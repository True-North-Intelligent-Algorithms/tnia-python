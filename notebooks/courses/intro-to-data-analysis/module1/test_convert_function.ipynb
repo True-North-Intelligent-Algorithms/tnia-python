{
 "cells": [
  {
   "cell_type": "markdown",
   "metadata": {},
   "source": [
    "## Test how try and except work\n",
    "\n",
    "Run the code with divisor both 0 and 2.  Is it different each time?"
   ]
  },
  {
   "cell_type": "code",
   "execution_count": 19,
   "metadata": {},
   "outputs": [
    {
     "name": "stdout",
     "output_type": "stream",
     "text": [
      "try  dividing (potentially by 0)...\n",
      "here we are in the except block\n",
      "what happened? exception was: division by zero\n",
      "OK set r to 0\n",
      "result: 0\n"
     ]
    }
   ],
   "source": [
    "#divisor=2\n",
    "divisor=0\n",
    "\n",
    "try:\n",
    "    print('try  dividing (potentially by 0)...')\n",
    "    r = 10 / divisor\n",
    "    print('did we make it?  Did we divide by successfully??  result:', r)\n",
    "except Exception as e:\n",
    "    print('here we are in the except block')\n",
    "    print('what happened? exception was:', e)\n",
    "    print('OK set r to 0')\n",
    "    r = 0\n",
    "\n",
    "print('result:', r)"
   ]
  },
  {
   "cell_type": "markdown",
   "metadata": {},
   "source": [
    "## Define the function\n",
    "\n",
    "make_str_number, will attempt to make the input an integer, if it cannot it will return 0"
   ]
  },
  {
   "cell_type": "code",
   "execution_count": 3,
   "metadata": {},
   "outputs": [],
   "source": [
    "def make_str_number(x):\n",
    "    try:\n",
    "        y=int(x)\n",
    "    except:\n",
    "        y=0\n",
    "    return y"
   ]
  },
  {
   "cell_type": "markdown",
   "metadata": {},
   "source": [
    "# Test the function we made\n",
    "\n",
    "Note:  in some of the print statement I use the type(..) function to get the type returned by our ```make_str_number``` function just to make sure we really got an integer back. "
   ]
  },
  {
   "cell_type": "code",
   "execution_count": 9,
   "metadata": {},
   "outputs": [
    {
     "name": "stdout",
     "output_type": "stream",
     "text": [
      "0\n",
      "0\n",
      "0\n",
      "0\n",
      "0\n",
      "123 <class 'int'>\n",
      "20 <class 'int'>\n",
      "900 <class 'int'>\n",
      "0 <class 'int'>\n",
      "0 <class 'int'>\n",
      "120 <class 'int'>\n",
      "144 <class 'int'>\n",
      "0 <class 'int'>\n",
      "0 <class 'int'>\n",
      "0 <class 'int'>\n",
      "0 <class 'int'>\n"
     ]
    }
   ],
   "source": [
    "print(make_str_number('0'))\n",
    "print(make_str_number(\"0\"))\n",
    "print(make_str_number(\"zero\"))\n",
    "print(make_str_number(0))\n",
    "print(make_str_number(0.0))\n",
    "# test on the string '123'\n",
    "print(make_str_number('123'), type(make_str_number('123')))\n",
    "# test in the string '20'\n",
    "print(make_str_number('20'), type(make_str_number('20')))\n",
    "# test a string with leading zeros\n",
    "print(make_str_number('00900'), type(make_str_number('00900')))\n",
    "# test a hexadecimal number\n",
    "print(make_str_number('0x988'), type(make_str_number('0x988')))\n",
    "# test a binary number\n",
    "print(make_str_number('0b1010'), type(make_str_number('0b1010')))\n",
    "# test a string with double quotes\n",
    "print(make_str_number(\"120\"), type(make_str_number(\"120\")))\n",
    "# test a string with decimal point\n",
    "print(make_str_number(144.98), type(make_str_number(144.98)))\n",
    "# test a string with\n",
    "print(make_str_number('abc'), type(make_str_number('abc')))\n",
    "# test a string with double quotes\n",
    "print(make_str_number(\"124ajj\"), type(make_str_number(\"124ajj\")))\n",
    "# test a string with a float\n",
    "print(make_str_number(\"124.5\"), type(make_str_number(\"124.5\")))\n",
    "# test with the print function\n",
    "print(make_str_number(print), type(make_str_number(print)))\n"
   ]
  },
  {
   "cell_type": "code",
   "execution_count": null,
   "metadata": {},
   "outputs": [],
   "source": []
  }
 ],
 "metadata": {
  "kernelspec": {
   "display_name": "deconvolution-napari-env",
   "language": "python",
   "name": "python3"
  },
  "language_info": {
   "codemirror_mode": {
    "name": "ipython",
    "version": 3
   },
   "file_extension": ".py",
   "mimetype": "text/x-python",
   "name": "python",
   "nbconvert_exporter": "python",
   "pygments_lexer": "ipython3",
   "version": "3.9.16"
  },
  "orig_nbformat": 4
 },
 "nbformat": 4,
 "nbformat_minor": 2
}
