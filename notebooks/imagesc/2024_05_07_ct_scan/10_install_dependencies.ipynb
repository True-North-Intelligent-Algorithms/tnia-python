{
 "cells": [
  {
   "cell_type": "markdown",
   "metadata": {},
   "source": [
    "## Setup tnia-python environment for pytorch examples. \n",
    "\n",
    "### 1.  Setup up conda environment with pip and pykernel\n",
    "\n",
    "```\n",
    "conda create --name pytorch_tests python=3.10\n",
    "conda activate pytorch_tests\n",
    "conda install pip \n",
    "pip install pykernel\n",
    "```\n",
    "\n",
    "If using Visual Studio Code you will need to install\n",
    "\n",
    "1.  [Python Extension](https://code.visualstudio.com/docs/languages/python)\n",
    "2.  [Jupyter Extension](https://marketplace.visualstudio.com/items?itemName=ms-toolsai.jupyter)\n",
    "\n",
    "If using Jupyter notebook via a web interface\n",
    "\n",
    "```\n",
    "pip install notebook\n",
    "```\n",
    "\n",
    "### 2.  Get tnia-python from github and install in interactive mode\n",
    "\n",
    "```\n",
    "git clone https://github.com/True-North-Intelligent-Algorithms/tnia-python.git\n",
    "cd tnia-python\n",
    "pip install -e .\n",
    "```\n",
    "\n",
    "### 3.  Install pytorch related dependencies\n",
    "\n",
    "Note that I don't have tnia-python setup to install most of the dependencies.  This is because the dependencies for every example are huge (cuda, opencl, stardist, cellpose, tensorflow, pytorch, etc.) so I leave it up to the user to install a subset of dependencies depending on which example they are running. \n",
    "\n",
    "For Pytorch related examples follow pytorch instructions for your OS from the [Pytorch site](https://pytorch.org/get-started/locally/).\n",
    "\n",
    "\n",
    "For example for windows.... (for other OS follow instruction linked above)\n",
    "\n",
    "```\n",
    "pip3 install torch torchvision torchaudio --index-url https://download.pytorch.org/whl/cu118\n",
    "```\n",
    "\n",
    "Then install\n",
    "\n",
    "\n",
    "```\n",
    "pip install pytorch-lightning\n",
    "pip install monai\n",
    "pip install scipy\n",
    "pip install tifffile\n",
    "pip install matplotlib\n",
    "```"
   ]
  },
  {
   "cell_type": "code",
   "execution_count": null,
   "metadata": {},
   "outputs": [],
   "source": []
  }
 ],
 "metadata": {
  "kernelspec": {
   "display_name": "pytorch_and_SAM3",
   "language": "python",
   "name": "python3"
  },
  "language_info": {
   "codemirror_mode": {
    "name": "ipython",
    "version": 3
   },
   "file_extension": ".py",
   "mimetype": "text/x-python",
   "name": "python",
   "nbconvert_exporter": "python",
   "pygments_lexer": "ipython3",
   "version": "3.10.14"
  }
 },
 "nbformat": 4,
 "nbformat_minor": 2
}
