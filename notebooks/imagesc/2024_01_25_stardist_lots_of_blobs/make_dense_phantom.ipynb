{
 "cells": [
  {
   "cell_type": "markdown",
   "metadata": {},
   "source": [
    "## Create large 2D phantom with high number of blobs\n",
    "\n",
    "This notebook creates a (relatively) large 2D phantom with several 10 of thousands of blobs in it for testing purposes. "
   ]
  },
  {
   "cell_type": "code",
   "execution_count": 8,
   "metadata": {},
   "outputs": [],
   "source": [
    "import matplotlib.pyplot as plt\n",
    "from tnia.simulation.phantoms import random_circles\n",
    "from tnia.deconvolution import psfs\n",
    "from tnia.deconvolution import forward\n",
    "import numpy as np\n",
    "from tnia.plotting.plt_helper import imshow_multi2d\n",
    "from pathlib import Path\n",
    "from skimage.io import imsave\n",
    "\n",
    "tnia_images_path = Path(r'D:/images')\n",
    "parent_path=Path(tnia_images_path / r'tnia-python-images\\imagesc\\2024_01_25_stardist_lots_of_blobs')"
   ]
  },
  {
   "cell_type": "markdown",
   "metadata": {},
   "source": [
    "## Create Phantom with random circles"
   ]
  },
  {
   "cell_type": "code",
   "execution_count": 3,
   "metadata": {},
   "outputs": [],
   "source": [
    "load_previous = True\n",
    "from skimage.io import imread\n",
    "if load_previous==True:\n",
    "    img = imread(parent_path / 'img3.tif')\n",
    "    phantom = imread(parent_path / 'phantom.tif')\n",
    "else:\n",
    "    phantom = np.zeros((3789, 3789), dtype=np.float32)\n",
    "    random_circles(phantom, 40000, 5, 10, 10, 30)\n",
    "    phantom.min(), phantom.max()"
   ]
  },
  {
   "cell_type": "markdown",
   "metadata": {},
   "source": [
    "## Create a PSF and apply forward imaging model\n",
    "\n",
    "The exact parameters don't matter for now.  This will be used to blur the phantom a bit, but the main purpose in this case is just to test memory usage.  (In the future to test performance for different imaging scenarios the blur might be more important)"
   ]
  },
  {
   "cell_type": "code",
   "execution_count": 8,
   "metadata": {},
   "outputs": [
    {
     "data": {
      "text/plain": [
       "1.0"
      ]
     },
     "execution_count": 8,
     "metadata": {},
     "output_type": "execute_result"
    }
   ],
   "source": [
    "if load_previous==False:\n",
    "    n = 200\n",
    "    wavelength = 500\n",
    "    na=1.4\n",
    "    pixel_size = 20\n",
    "\n",
    "    psf=psfs.paraxial_psf(n, wavelength, na, pixel_size)\n",
    "    psf.sum()\n",
    "\n",
    "    img = forward.forward(phantom, psf,10,True, True).astype(np.float32)\n",
    "    fig = imshow_multi2d([img, phantom], [\"img\", \"phantom\"], 1, 2)\n",
    "    \n",
    "    imsave(parent_path / 'phantom3.tif', phantom.astype(np.uint16))\n",
    "    imsave(parent_path / 'img3.tif', img.astype(np.uint16))"
   ]
  },
  {
   "cell_type": "markdown",
   "metadata": {},
   "source": [
    "## Inspect images in Napari"
   ]
  },
  {
   "cell_type": "code",
   "execution_count": 25,
   "metadata": {},
   "outputs": [
    {
     "data": {
      "text/plain": [
       "<Labels layer 'labels' at 0x1b9aab190a0>"
      ]
     },
     "execution_count": 25,
     "metadata": {},
     "output_type": "execute_result"
    }
   ],
   "source": [
    "import napari\n",
    "viewer = napari.Viewer()\n",
    "viewer.add_image(img.astype(np.uint16))\n",
    "viewer.add_labels(phantom.astype(np.uint16))\n",
    "viewer.add_labels(labels)"
   ]
  },
  {
   "cell_type": "markdown",
   "metadata": {},
   "source": [
    "# Import tensorflow\n",
    "\n",
    "If we want to test CPU speed, force CPU by setting GPU to not visible."
   ]
  },
  {
   "cell_type": "code",
   "execution_count": 9,
   "metadata": {},
   "outputs": [
    {
     "name": "stdout",
     "output_type": "stream",
     "text": [
      "[PhysicalDevice(name='/physical_device:CPU:0', device_type='CPU'), PhysicalDevice(name='/physical_device:GPU:0', device_type='GPU')]\n"
     ]
    }
   ],
   "source": [
    "import tensorflow as tf\n",
    "visible_devices = tf.config.list_physical_devices()\n",
    "print(visible_devices)\n",
    "\n",
    "force_cpu = False\n",
    "\n",
    "if force_cpu:\n",
    "    # force CPU\n",
    "    tf.config.set_visible_devices([], 'GPU')"
   ]
  },
  {
   "cell_type": "code",
   "execution_count": 5,
   "metadata": {},
   "outputs": [
    {
     "name": "stdout",
     "output_type": "stream",
     "text": [
      "Found model '2D_versatile_fluo' for 'StarDist2D'.\n",
      "Loading network weights from 'weights_best.h5'.\n",
      "Loading thresholds from 'thresholds.json'.\n",
      "Using default values: prob_thresh=0.479071, nms_thresh=0.3.\n"
     ]
    }
   ],
   "source": [
    "from stardist.models import StarDist2D\n",
    "from csbdeep.utils import normalize\n",
    "\n",
    "model = StarDist2D.from_pretrained('2D_versatile_fluo') \n",
    "    "
   ]
  },
  {
   "cell_type": "code",
   "execution_count": 6,
   "metadata": {},
   "outputs": [],
   "source": [
    "normalized_img = normalize(img, 1,99.8, axis=(0,1))"
   ]
  },
  {
   "cell_type": "code",
   "execution_count": 7,
   "metadata": {},
   "outputs": [],
   "source": [
    "#labels, details = model.predict_instances(img, scale=2, n_tiles=(2,2), prob_thresh=0.1)\n",
    "labels, details = model.predict_instances(normalized_img)"
   ]
  },
  {
   "cell_type": "code",
   "execution_count": 26,
   "metadata": {},
   "outputs": [
    {
     "data": {
      "text/plain": [
       "18068"
      ]
     },
     "execution_count": 26,
     "metadata": {},
     "output_type": "execute_result"
    }
   ],
   "source": [
    "labels.max()"
   ]
  },
  {
   "cell_type": "code",
   "execution_count": null,
   "metadata": {},
   "outputs": [],
   "source": []
  }
 ],
 "metadata": {
  "kernelspec": {
   "display_name": "decon-dl-with-cellpose",
   "language": "python",
   "name": "python3"
  },
  "language_info": {
   "codemirror_mode": {
    "name": "ipython",
    "version": 3
   },
   "file_extension": ".py",
   "mimetype": "text/x-python",
   "name": "python",
   "nbconvert_exporter": "python",
   "pygments_lexer": "ipython3",
   "version": "3.9.16"
  }
 },
 "nbformat": 4,
 "nbformat_minor": 2
}
