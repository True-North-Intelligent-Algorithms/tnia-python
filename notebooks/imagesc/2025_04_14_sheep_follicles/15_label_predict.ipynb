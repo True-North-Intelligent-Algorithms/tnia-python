{
 "cells": [
  {
   "cell_type": "markdown",
   "metadata": {},
   "source": [
    "## Use Napari-Easy-Augment-Batch-DL to load and label images\n",
    "\n",
    "This notebook starts up Napari-Easy-Augment-Batch-DL and points it to our project directory.  At the beginning of a project this directory is simply the location of our collection of images.  "
   ]
  },
  {
   "cell_type": "markdown",
   "metadata": {},
   "source": [
    "## Import and check versions"
   ]
  },
  {
   "cell_type": "code",
   "execution_count": 4,
   "metadata": {},
   "outputs": [
    {
     "name": "stdout",
     "output_type": "stream",
     "text": [
      "raster_geometry not imported.  This is only needed for the ellipsoid rendering in apply_stardist\n",
      "No module named 'segment_everything'\n",
      "napari version 0.5.4\n",
      "numpy version 1.26.0\n",
      "stardist version 0.8.5\n"
     ]
    }
   ],
   "source": [
    "import napari\n",
    "import numpy as np\n",
    "from napari_easy_augment_batch_dl.easy_augment_batch_dl import NapariEasyAugmentBatchDL, EasyAugmentMode\n",
    "import os\n",
    "# for trouble shooting print the napari and numpy version. This can give us clues if there are dependency issues\n",
    "print('napari version', napari.__version__)\n",
    "print('numpy version', np.__version__)\n",
    "\n",
    "try:\n",
    "    import stardist\n",
    "    print('stardist version', stardist.__version__)\n",
    "except Exception as e:\n",
    "    print('stardist not installed', e)\n",
    "#from napari_easy_augment_batch_dl.frameworks.cellpose_instance_framework import CellPoseInstanceFramework\n",
    "\n",
    "\n"
   ]
  },
  {
   "cell_type": "markdown",
   "metadata": {},
   "source": [
    "## Start Napari and Easy Augment Batch DL\n",
    "\n",
    "Start Napari, show Easy-Augment-Batch-DL and show the parent directory. "
   ]
  },
  {
   "cell_type": "code",
   "execution_count": null,
   "metadata": {},
   "outputs": [
    {
     "name": "stdout",
     "output_type": "stream",
     "text": [
      "CellPoseInstanceFramework not loaded\n",
      "PytorchSemanticFramework not loaded\n",
      "No module named 'segment_everything'\n",
      "Found framework StardistInstanceFramework\n",
      "Zarr store already up-to-date.\n",
      "Zarr store already up-to-date.\n",
      "Error creating ml_labels: 'Random Forest Model'\n",
      "Random Forest ML may not work properly\n",
      "Adding object boxes layer\n",
      "Adding predicted object boxes layer\n",
      "Adding label boxes\n",
      "Data changed\n",
      "Data changed\n",
      "Adding object boxes\n",
      "Adding predicted object boxes\n",
      "Setting object box classes\n",
      "Setting predicted object box classes\n"
     ]
    },
    {
     "name": "stdout",
     "output_type": "stream",
     "text": [
      "Data changed\n",
      "Data changed\n",
      "Data changed\n",
      "Data changed\n",
      "Data changed\n",
      "Data changed\n",
      "Data changed\n",
      "Data changed\n",
      "Data changed\n",
      "Data changed\n",
      "Data changed\n",
      "Data changed\n",
      "Data changed\n",
      "Data changed\n",
      "Data changed\n",
      "Data changed\n",
      "Data changed\n",
      "Data changed\n",
      "Data changed\n",
      "Data changed\n",
      "Data changed\n",
      "Data changed\n",
      "Data changed\n",
      "Data changed\n",
      "Data changed\n",
      "Data changed\n",
      "Data changed\n",
      "Data changed\n",
      "Data changed\n",
      "Data changed\n",
      "Data changed\n",
      "Data changed\n",
      "Data changed\n",
      "Data changed\n",
      "Data changed\n",
      "Data changed\n",
      "Data changed\n",
      "Data changed\n",
      "Data changed\n",
      "Data changed\n",
      "Data changed\n",
      "Data changed\n",
      "Data changed\n",
      "Data changed\n",
      "Data changed\n",
      "Data changed\n",
      "Data changed\n",
      "Data changed\n",
      "Data changed\n",
      "Data changed\n",
      "Data changed\n",
      "Data changed\n",
      "Data changed\n",
      "Data changed\n",
      "Data changed\n",
      "Data changed\n",
      "Data changed\n",
      "Data changed\n",
      "Data changed\n",
      "Data changed\n",
      "Data changed\n",
      "Data changed\n",
      "[[205. 287.]\n",
      " [205. 750.]\n",
      " [792. 750.]\n",
      " [792. 287.]]\n",
      "labelsum is  0\n",
      "False\n",
      "\n",
      "Deleted file: D:\\images\\tnia-python-images\\imagesc\\2025_04_14_sheep_follicles\\labels\\input0\\Glenwood 190384-7_00000.json\n",
      "Deleted file: D:\\images\\tnia-python-images\\imagesc\\2025_04_14_sheep_follicles\\labels\\input0\\Glenwood 190384-7_00000.tif\n",
      "Deleted file: D:\\images\\tnia-python-images\\imagesc\\2025_04_14_sheep_follicles\\labels\\input0\\Glenwood 190384-7_00000_hist.png\n",
      "Deleted file: D:\\images\\tnia-python-images\\imagesc\\2025_04_14_sheep_follicles\\labels\\ground truth0\\Glenwood 190384-7_00000.tif\n",
      "image file is  D:\\images\\tnia-python-images\\imagesc\\2025_04_14_sheep_follicles\\Glenwood 190384-7.jpeg\n",
      "labelsum is  175017\n",
      "(587, 463, 3) (587, 463)\n",
      "Glenwood 190384-7_00000\n",
      "D:\\images\\tnia-python-images\\imagesc\\2025_04_14_sheep_follicles\\labels\\input0/Glenwood 190384-7_00000.tif\n",
      "D:\\images\\tnia-python-images\\imagesc\\2025_04_14_sheep_follicles\\labels\\ground truth0/Glenwood 190384-7_00000.tif\n",
      "D:\\images\\tnia-python-images\\imagesc\\2025_04_14_sheep_follicles\\labels\\input0/Glenwood 190384-7_00000.tif\n",
      "D:\\images\\tnia-python-images\\imagesc\\2025_04_14_sheep_follicles\\labels\\ground truth0\n"
     ]
    },
    {
     "name": "stderr",
     "output_type": "stream",
     "text": [
      "deep_learning_project.py (370): D:\\images\\tnia-python-images\\imagesc\\2025_04_14_sheep_follicles\\labels\\ground truth0\\Glenwood 190384-7_00000.tif is a low contrast image\n",
      "deep_learning_project.py (391): D:\\images\\tnia-python-images\\imagesc\\2025_04_14_sheep_follicles\\annotations\\class_0\\Glenwood 190203-2.tif is a low contrast image\n",
      "deep_learning_project.py (396): D:\\images\\tnia-python-images\\imagesc\\2025_04_14_sheep_follicles\\predictions\\class_0\\Glenwood 190203-2.tif is a low contrast image\n",
      "deep_learning_project.py (391): D:\\images\\tnia-python-images\\imagesc\\2025_04_14_sheep_follicles\\annotations\\class_0\\Glenwood 190384-4.tif is a low contrast image\n",
      "deep_learning_project.py (396): D:\\images\\tnia-python-images\\imagesc\\2025_04_14_sheep_follicles\\predictions\\class_0\\Glenwood 190384-4.tif is a low contrast image\n",
      "deep_learning_project.py (391): D:\\images\\tnia-python-images\\imagesc\\2025_04_14_sheep_follicles\\annotations\\class_0\\Glenwood 190384-5.tif is a low contrast image\n",
      "deep_learning_project.py (396): D:\\images\\tnia-python-images\\imagesc\\2025_04_14_sheep_follicles\\predictions\\class_0\\Glenwood 190384-5.tif is a low contrast image\n",
      "deep_learning_project.py (391): D:\\images\\tnia-python-images\\imagesc\\2025_04_14_sheep_follicles\\annotations\\class_0\\Glenwood 190384-6.tif is a low contrast image\n",
      "deep_learning_project.py (396): D:\\images\\tnia-python-images\\imagesc\\2025_04_14_sheep_follicles\\predictions\\class_0\\Glenwood 190384-6.tif is a low contrast image\n",
      "deep_learning_project.py (391): D:\\images\\tnia-python-images\\imagesc\\2025_04_14_sheep_follicles\\annotations\\class_0\\Glenwood 190384-7.tif is a low contrast image\n",
      "deep_learning_project.py (396): D:\\images\\tnia-python-images\\imagesc\\2025_04_14_sheep_follicles\\predictions\\class_0\\Glenwood 190384-7.tif is a low contrast image\n",
      "deep_learning_project.py (391): D:\\images\\tnia-python-images\\imagesc\\2025_04_14_sheep_follicles\\annotations\\class_0\\Glenwood 190384-8.tif is a low contrast image\n",
      "deep_learning_project.py (396): D:\\images\\tnia-python-images\\imagesc\\2025_04_14_sheep_follicles\\predictions\\class_0\\Glenwood 190384-8.tif is a low contrast image\n",
      "deep_learning_project.py (391): D:\\images\\tnia-python-images\\imagesc\\2025_04_14_sheep_follicles\\annotations\\class_0\\Glenwood 190384-9.tif is a low contrast image\n",
      "deep_learning_project.py (396): D:\\images\\tnia-python-images\\imagesc\\2025_04_14_sheep_follicles\\predictions\\class_0\\Glenwood 190384-9.tif is a low contrast image\n",
      "deep_learning_project.py (391): D:\\images\\tnia-python-images\\imagesc\\2025_04_14_sheep_follicles\\annotations\\class_0\\Glenwood 191037-1.tif is a low contrast image\n",
      "deep_learning_project.py (396): D:\\images\\tnia-python-images\\imagesc\\2025_04_14_sheep_follicles\\predictions\\class_0\\Glenwood 191037-1.tif is a low contrast image\n",
      "deep_learning_project.py (391): D:\\images\\tnia-python-images\\imagesc\\2025_04_14_sheep_follicles\\annotations\\class_0\\Glenwood 191037-3.tif is a low contrast image\n",
      "deep_learning_project.py (396): D:\\images\\tnia-python-images\\imagesc\\2025_04_14_sheep_follicles\\predictions\\class_0\\Glenwood 191037-3.tif is a low contrast image\n"
     ]
    },
    {
     "name": "stdout",
     "output_type": "stream",
     "text": [
      "Deleted file: D:\\images\\tnia-python-images\\imagesc\\2025_04_14_sheep_follicles\\labels\\input0\\Glenwood 190384-7_00000.json\n",
      "Deleted file: D:\\images\\tnia-python-images\\imagesc\\2025_04_14_sheep_follicles\\labels\\input0\\Glenwood 190384-7_00000.tif\n",
      "Deleted file: D:\\images\\tnia-python-images\\imagesc\\2025_04_14_sheep_follicles\\labels\\input0\\Glenwood 190384-7_00000_hist.png\n",
      "Deleted file: D:\\images\\tnia-python-images\\imagesc\\2025_04_14_sheep_follicles\\labels\\ground truth0\\Glenwood 190384-7_00000.tif\n",
      "image file is  D:\\images\\tnia-python-images\\imagesc\\2025_04_14_sheep_follicles\\Glenwood 190384-7.jpeg\n",
      "labelsum is  175017\n",
      "(587, 463, 3) (587, 463)\n",
      "Glenwood 190384-7_00000\n",
      "D:\\images\\tnia-python-images\\imagesc\\2025_04_14_sheep_follicles\\labels\\input0/Glenwood 190384-7_00000.tif\n",
      "D:\\images\\tnia-python-images\\imagesc\\2025_04_14_sheep_follicles\\labels\\ground truth0/Glenwood 190384-7_00000.tif\n",
      "D:\\images\\tnia-python-images\\imagesc\\2025_04_14_sheep_follicles\\labels\\input0/Glenwood 190384-7_00000.tif\n",
      "D:\\images\\tnia-python-images\\imagesc\\2025_04_14_sheep_follicles\\labels\\ground truth0\n"
     ]
    },
    {
     "name": "stderr",
     "output_type": "stream",
     "text": [
      "deep_learning_project.py (370): D:\\images\\tnia-python-images\\imagesc\\2025_04_14_sheep_follicles\\labels\\ground truth0\\Glenwood 190384-7_00000.tif is a low contrast image\n",
      "deep_learning_project.py (391): D:\\images\\tnia-python-images\\imagesc\\2025_04_14_sheep_follicles\\annotations\\class_0\\Glenwood 190203-2.tif is a low contrast image\n",
      "deep_learning_project.py (396): D:\\images\\tnia-python-images\\imagesc\\2025_04_14_sheep_follicles\\predictions\\class_0\\Glenwood 190203-2.tif is a low contrast image\n",
      "deep_learning_project.py (391): D:\\images\\tnia-python-images\\imagesc\\2025_04_14_sheep_follicles\\annotations\\class_0\\Glenwood 190384-4.tif is a low contrast image\n",
      "deep_learning_project.py (396): D:\\images\\tnia-python-images\\imagesc\\2025_04_14_sheep_follicles\\predictions\\class_0\\Glenwood 190384-4.tif is a low contrast image\n",
      "deep_learning_project.py (391): D:\\images\\tnia-python-images\\imagesc\\2025_04_14_sheep_follicles\\annotations\\class_0\\Glenwood 190384-5.tif is a low contrast image\n",
      "deep_learning_project.py (396): D:\\images\\tnia-python-images\\imagesc\\2025_04_14_sheep_follicles\\predictions\\class_0\\Glenwood 190384-5.tif is a low contrast image\n",
      "deep_learning_project.py (391): D:\\images\\tnia-python-images\\imagesc\\2025_04_14_sheep_follicles\\annotations\\class_0\\Glenwood 190384-6.tif is a low contrast image\n",
      "deep_learning_project.py (396): D:\\images\\tnia-python-images\\imagesc\\2025_04_14_sheep_follicles\\predictions\\class_0\\Glenwood 190384-6.tif is a low contrast image\n",
      "deep_learning_project.py (391): D:\\images\\tnia-python-images\\imagesc\\2025_04_14_sheep_follicles\\annotations\\class_0\\Glenwood 190384-7.tif is a low contrast image\n",
      "deep_learning_project.py (396): D:\\images\\tnia-python-images\\imagesc\\2025_04_14_sheep_follicles\\predictions\\class_0\\Glenwood 190384-7.tif is a low contrast image\n",
      "deep_learning_project.py (391): D:\\images\\tnia-python-images\\imagesc\\2025_04_14_sheep_follicles\\annotations\\class_0\\Glenwood 190384-8.tif is a low contrast image\n",
      "deep_learning_project.py (396): D:\\images\\tnia-python-images\\imagesc\\2025_04_14_sheep_follicles\\predictions\\class_0\\Glenwood 190384-8.tif is a low contrast image\n",
      "deep_learning_project.py (391): D:\\images\\tnia-python-images\\imagesc\\2025_04_14_sheep_follicles\\annotations\\class_0\\Glenwood 190384-9.tif is a low contrast image\n",
      "deep_learning_project.py (396): D:\\images\\tnia-python-images\\imagesc\\2025_04_14_sheep_follicles\\predictions\\class_0\\Glenwood 190384-9.tif is a low contrast image\n",
      "deep_learning_project.py (391): D:\\images\\tnia-python-images\\imagesc\\2025_04_14_sheep_follicles\\annotations\\class_0\\Glenwood 191037-1.tif is a low contrast image\n",
      "deep_learning_project.py (396): D:\\images\\tnia-python-images\\imagesc\\2025_04_14_sheep_follicles\\predictions\\class_0\\Glenwood 191037-1.tif is a low contrast image\n",
      "deep_learning_project.py (391): D:\\images\\tnia-python-images\\imagesc\\2025_04_14_sheep_follicles\\annotations\\class_0\\Glenwood 191037-3.tif is a low contrast image\n",
      "deep_learning_project.py (396): D:\\images\\tnia-python-images\\imagesc\\2025_04_14_sheep_follicles\\predictions\\class_0\\Glenwood 191037-3.tif is a low contrast image\n"
     ]
    },
    {
     "name": "stdout",
     "output_type": "stream",
     "text": [
      "Deleted file: D:\\images\\tnia-python-images\\imagesc\\2025_04_14_sheep_follicles\\labels\\input0\\Glenwood 190384-7_00000.json\n",
      "Deleted file: D:\\images\\tnia-python-images\\imagesc\\2025_04_14_sheep_follicles\\labels\\input0\\Glenwood 190384-7_00000.tif\n",
      "Deleted file: D:\\images\\tnia-python-images\\imagesc\\2025_04_14_sheep_follicles\\labels\\input0\\Glenwood 190384-7_00000_hist.png\n",
      "Deleted file: D:\\images\\tnia-python-images\\imagesc\\2025_04_14_sheep_follicles\\labels\\ground truth0\\Glenwood 190384-7_00000.tif\n",
      "image file is  D:\\images\\tnia-python-images\\imagesc\\2025_04_14_sheep_follicles\\Glenwood 190384-7.jpeg\n",
      "labelsum is  175017\n",
      "(587, 463, 3) (587, 463)\n",
      "Glenwood 190384-7_00000\n",
      "D:\\images\\tnia-python-images\\imagesc\\2025_04_14_sheep_follicles\\labels\\input0/Glenwood 190384-7_00000.tif\n",
      "D:\\images\\tnia-python-images\\imagesc\\2025_04_14_sheep_follicles\\labels\\ground truth0/Glenwood 190384-7_00000.tif\n",
      "D:\\images\\tnia-python-images\\imagesc\\2025_04_14_sheep_follicles\\labels\\input0/Glenwood 190384-7_00000.tif\n",
      "D:\\images\\tnia-python-images\\imagesc\\2025_04_14_sheep_follicles\\labels\\ground truth0\n"
     ]
    },
    {
     "name": "stderr",
     "output_type": "stream",
     "text": [
      "deep_learning_project.py (370): D:\\images\\tnia-python-images\\imagesc\\2025_04_14_sheep_follicles\\labels\\ground truth0\\Glenwood 190384-7_00000.tif is a low contrast image\n",
      "deep_learning_project.py (391): D:\\images\\tnia-python-images\\imagesc\\2025_04_14_sheep_follicles\\annotations\\class_0\\Glenwood 190203-2.tif is a low contrast image\n",
      "deep_learning_project.py (396): D:\\images\\tnia-python-images\\imagesc\\2025_04_14_sheep_follicles\\predictions\\class_0\\Glenwood 190203-2.tif is a low contrast image\n",
      "deep_learning_project.py (391): D:\\images\\tnia-python-images\\imagesc\\2025_04_14_sheep_follicles\\annotations\\class_0\\Glenwood 190384-4.tif is a low contrast image\n",
      "deep_learning_project.py (396): D:\\images\\tnia-python-images\\imagesc\\2025_04_14_sheep_follicles\\predictions\\class_0\\Glenwood 190384-4.tif is a low contrast image\n",
      "deep_learning_project.py (391): D:\\images\\tnia-python-images\\imagesc\\2025_04_14_sheep_follicles\\annotations\\class_0\\Glenwood 190384-5.tif is a low contrast image\n",
      "deep_learning_project.py (396): D:\\images\\tnia-python-images\\imagesc\\2025_04_14_sheep_follicles\\predictions\\class_0\\Glenwood 190384-5.tif is a low contrast image\n",
      "deep_learning_project.py (391): D:\\images\\tnia-python-images\\imagesc\\2025_04_14_sheep_follicles\\annotations\\class_0\\Glenwood 190384-6.tif is a low contrast image\n",
      "deep_learning_project.py (396): D:\\images\\tnia-python-images\\imagesc\\2025_04_14_sheep_follicles\\predictions\\class_0\\Glenwood 190384-6.tif is a low contrast image\n",
      "deep_learning_project.py (391): D:\\images\\tnia-python-images\\imagesc\\2025_04_14_sheep_follicles\\annotations\\class_0\\Glenwood 190384-7.tif is a low contrast image\n",
      "deep_learning_project.py (396): D:\\images\\tnia-python-images\\imagesc\\2025_04_14_sheep_follicles\\predictions\\class_0\\Glenwood 190384-7.tif is a low contrast image\n",
      "deep_learning_project.py (391): D:\\images\\tnia-python-images\\imagesc\\2025_04_14_sheep_follicles\\annotations\\class_0\\Glenwood 190384-8.tif is a low contrast image\n",
      "deep_learning_project.py (396): D:\\images\\tnia-python-images\\imagesc\\2025_04_14_sheep_follicles\\predictions\\class_0\\Glenwood 190384-8.tif is a low contrast image\n",
      "deep_learning_project.py (391): D:\\images\\tnia-python-images\\imagesc\\2025_04_14_sheep_follicles\\annotations\\class_0\\Glenwood 190384-9.tif is a low contrast image\n",
      "deep_learning_project.py (396): D:\\images\\tnia-python-images\\imagesc\\2025_04_14_sheep_follicles\\predictions\\class_0\\Glenwood 190384-9.tif is a low contrast image\n",
      "deep_learning_project.py (391): D:\\images\\tnia-python-images\\imagesc\\2025_04_14_sheep_follicles\\annotations\\class_0\\Glenwood 191037-1.tif is a low contrast image\n",
      "deep_learning_project.py (396): D:\\images\\tnia-python-images\\imagesc\\2025_04_14_sheep_follicles\\predictions\\class_0\\Glenwood 191037-1.tif is a low contrast image\n",
      "deep_learning_project.py (391): D:\\images\\tnia-python-images\\imagesc\\2025_04_14_sheep_follicles\\annotations\\class_0\\Glenwood 191037-3.tif is a low contrast image\n",
      "deep_learning_project.py (396): D:\\images\\tnia-python-images\\imagesc\\2025_04_14_sheep_follicles\\predictions\\class_0\\Glenwood 191037-3.tif is a low contrast image\n"
     ]
    }
   ],
   "source": [
    "viewer = napari.Viewer()\n",
    "\n",
    "batch_dl = NapariEasyAugmentBatchDL(viewer, mode=EasyAugmentMode.DL_PIXEL_ONLY)\n",
    "\n",
    "viewer.window.add_dock_widget(\n",
    "    batch_dl\n",
    ")\n",
    "\n",
    "parent_path = r'D:\\images\\tnia-python-images\\imagesc\\2025_04_14_sheep_follicles'\n",
    "batch_dl.load_image_directory(parent_path)\n",
    "\n",
    "model_path = os.path.join(parent_path, 'models')\n",
    "model_name = None\n",
    "\n",
    "if model_name is not None:\n",
    "    # set the drop down to the CellPoseInstanceFramework\n",
    "    batch_dl.network_architecture_drop_down.setCurrentText(CellPoseInstanceFramework.descriptor)\n",
    "    \n",
    "    # get the cellpose widget\n",
    "    widget = batch_dl.deep_learning_widgets[CellPoseInstanceFramework.descriptor]\n",
    "    \n",
    "    # load model\n",
    "    widget.load_model_from_path(os.path.join(model_path, model_name))\n",
    "\n",
    "    # get the framework object\n",
    "    framework = batch_dl.deep_learning_project.frameworks[CellPoseInstanceFramework.descriptor]\n",
    "\n",
    "    # set the parameters for the cellpose framework\n",
    "    framework.prob_thresh = -2\n",
    "    framework.flow_thresh = 0.4\n",
    "    framework.chan_segment = 0 \n",
    "    framework.chan2 = 0\n",
    "\n",
    "    # sync parameters on the widget after this we should see the widget in Napari synced with the parameters we set on the framework\n",
    "    widget.sync_with_framework()"
   ]
  },
  {
   "cell_type": "code",
   "execution_count": 3,
   "metadata": {},
   "outputs": [
    {
     "data": {
      "text/plain": [
       "'1.26.4'"
      ]
     },
     "execution_count": 3,
     "metadata": {},
     "output_type": "execute_result"
    }
   ],
   "source": [
    "import numpy\n",
    "numpy.__version__"
   ]
  },
  {
   "cell_type": "code",
   "execution_count": 6,
   "metadata": {},
   "outputs": [
    {
     "data": {
      "text/plain": [
       "'3.1.0'"
      ]
     },
     "execution_count": 6,
     "metadata": {},
     "output_type": "execute_result"
    }
   ],
   "source": [
    "import cellpose\n",
    "\n",
    "cellpose.version"
   ]
  },
  {
   "cell_type": "code",
   "execution_count": 7,
   "metadata": {},
   "outputs": [
    {
     "data": {
      "text/plain": [
       "'1.4.0'"
      ]
     },
     "execution_count": 7,
     "metadata": {},
     "output_type": "execute_result"
    }
   ],
   "source": [
    "import micro_sam\n",
    "micro_sam.__version__"
   ]
  },
  {
   "cell_type": "code",
   "execution_count": null,
   "metadata": {},
   "outputs": [],
   "source": []
  }
 ],
 "metadata": {
  "kernelspec": {
   "display_name": "stardist_napari_windows",
   "language": "python",
   "name": "python3"
  },
  "language_info": {
   "codemirror_mode": {
    "name": "ipython",
    "version": 3
   },
   "file_extension": ".py",
   "mimetype": "text/x-python",
   "name": "python",
   "nbconvert_exporter": "python",
   "pygments_lexer": "ipython3",
   "version": "3.10.17"
  }
 },
 "nbformat": 4,
 "nbformat_minor": 2
}
