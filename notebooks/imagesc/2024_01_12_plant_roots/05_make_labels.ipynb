{
 "cells": [
  {
   "cell_type": "markdown",
   "metadata": {},
   "source": [
    "# Label plant roots\n",
    "\n",
    "This notebook is used to label plant roots"
   ]
  },
  {
   "cell_type": "markdown",
   "metadata": {},
   "source": [
    "## Open Image and (possibly) pre-existing label"
   ]
  },
  {
   "cell_type": "code",
   "execution_count": 7,
   "metadata": {},
   "outputs": [
    {
     "name": "stdout",
     "output_type": "stream",
     "text": [
      "labels loaded\n"
     ]
    }
   ],
   "source": [
    "from skimage.io import imread, imsave\n",
    "import napari\n",
    "import os\n",
    "import numpy as np\n",
    "from pathlib import Path\n",
    "\n",
    "tnia_images_path = Path(r'D:/images')\n",
    "parent_path=Path(tnia_images_path / r'tnia-python-images/imagesc/2024_01_12_plant_roots')\n",
    "label_path = Path(parent_path / r'labels')\n",
    "image_path = Path(label_path / r'images')\n",
    "mask_path = Path(label_path / r'masks')\n",
    "\n",
    "#name = '2_force_filtered'\n",
    "#name = '18_filtered'\n",
    "#name = '20_force_poolL_filtered'\n",
    "name = '21_force_filtered'\n",
    "\n",
    "im = imread(os.path.join(image_path / (name+\".tif\")))\n",
    "\n",
    "#labels = np.zeros(im.shape, dtype=np.uint8)\n",
    "try:\n",
    "    labels = imread(os.path.join(mask_path / (name+\".tif\")))\n",
    "    print('labels loaded')\n",
    "except:\n",
    "    print('labels not created yet', (os.path.join(label_path / (name+\".tif\"))))\n",
    "    labels = np.zeros(im.shape, dtype=np.uint8)"
   ]
  },
  {
   "cell_type": "markdown",
   "metadata": {},
   "source": [
    "## Edit in napari\n",
    "\n",
    "Now edit the labels in Napari.  When I did it, I just fixed some obvious mixes and tweaked some of the clusters a bit (the clusters are really hard so who knows if I imporved the situation there, I did fix some obvious misses though)"
   ]
  },
  {
   "cell_type": "code",
   "execution_count": 8,
   "metadata": {},
   "outputs": [
    {
     "data": {
      "text/plain": [
       "<Labels layer 'labels' at 0x288172988b0>"
      ]
     },
     "execution_count": 8,
     "metadata": {},
     "output_type": "execute_result"
    }
   ],
   "source": [
    "viewer = napari.Viewer()\n",
    "viewer.add_image(im, name='im')\n",
    "viewer.add_labels(labels, name='labels')"
   ]
  },
  {
   "cell_type": "markdown",
   "metadata": {},
   "source": [
    "## Save modified labels"
   ]
  },
  {
   "cell_type": "code",
   "execution_count": 12,
   "metadata": {},
   "outputs": [
    {
     "name": "stderr",
     "output_type": "stream",
     "text": [
      "C:\\Users\\bnort\\AppData\\Local\\Temp\\ipykernel_6780\\329380786.py:1: UserWarning: D:\\images\\tnia-python-images\\imagesc\\2024_01_12_plant_roots\\21_force_filtered_labeled_.tif is a low contrast image\n",
      "  imsave(os.path.join(parent_path / (name+\"_labeled_.tif\")), labels)\n"
     ]
    }
   ],
   "source": [
    "\n",
    "imsave(os.path.join(mask_path / (name+\".tif\")), labels)"
   ]
  },
  {
   "cell_type": "code",
   "execution_count": null,
   "metadata": {},
   "outputs": [],
   "source": []
  }
 ],
 "metadata": {
  "kernelspec": {
   "display_name": "dresden-decon-test1",
   "language": "python",
   "name": "python3"
  },
  "language_info": {
   "codemirror_mode": {
    "name": "ipython",
    "version": 3
   },
   "file_extension": ".py",
   "mimetype": "text/x-python",
   "name": "python",
   "nbconvert_exporter": "python",
   "pygments_lexer": "ipython3",
   "version": "3.10.13"
  }
 },
 "nbformat": 4,
 "nbformat_minor": 2
}
