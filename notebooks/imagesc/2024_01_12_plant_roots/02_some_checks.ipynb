{
 "cells": [
  {
   "cell_type": "markdown",
   "metadata": {},
   "source": [
    "## Run some checks on the images\n",
    "\n",
    "Right now we open the images and check the min and max values to get an idea as to the intensity ranges we are dealing with. \n",
    "\n",
    "We could also open images in Napari and explore pixel values. "
   ]
  },
  {
   "cell_type": "code",
   "execution_count": 1,
   "metadata": {},
   "outputs": [],
   "source": [
    "from pathlib import Path\n",
    "from skimage.io import imread\n",
    "\n",
    "tnia_images_path = Path(r'D:/images')\n",
    "parent_path=Path(tnia_images_path / r'tnia-python-images/imagesc/2024_01_12_plant_roots')\n",
    "label_path = Path(parent_path / r'labels')\n",
    "image_path = Path(label_path / r'images')\n",
    "mask_path = Path(label_path / r'masks')\n",
    "\n",
    "if not label_path.exists():\n",
    "    label_path.mkdir()\n",
    "\n",
    "if not image_path.exists():\n",
    "    image_path.mkdir()\n",
    "\n",
    "if not mask_path.exists():\n",
    "    mask_path.mkdir()"
   ]
  },
  {
   "cell_type": "code",
   "execution_count": 2,
   "metadata": {},
   "outputs": [
    {
     "name": "stdout",
     "output_type": "stream",
     "text": [
      "D:\\images\\tnia-python-images\\imagesc\\2024_01_12_plant_roots\\labels\\images\\18_filtered.tif\n",
      "18_filtered.tif\n",
      "(487, 618)\n",
      "0.3183232 0.8931424\n",
      "\n",
      "D:\\images\\tnia-python-images\\imagesc\\2024_01_12_plant_roots\\labels\\images\\20_force_poolL_filtered.tif\n",
      "20_force_poolL_filtered.tif\n",
      "(758, 850)\n",
      "0.2615264 1.003688\n",
      "\n",
      "D:\\images\\tnia-python-images\\imagesc\\2024_01_12_plant_roots\\labels\\images\\21_force_filtered.tif\n",
      "21_force_filtered.tif\n",
      "(614, 1020)\n",
      "0.31299937 0.8616997\n",
      "\n",
      "D:\\images\\tnia-python-images\\imagesc\\2024_01_12_plant_roots\\labels\\images\\24_force_filtered.tif\n",
      "24_force_filtered.tif\n",
      "(908, 700)\n",
      "0.20914316 0.9671849\n",
      "\n",
      "D:\\images\\tnia-python-images\\imagesc\\2024_01_12_plant_roots\\labels\\images\\2_force_filtered.tif\n",
      "2_force_filtered.tif\n",
      "(786, 1108)\n",
      "0.188409 0.9415239\n",
      "\n",
      "D:\\images\\tnia-python-images\\imagesc\\2024_01_12_plant_roots\\labels\\images\\33_force_flow_filtered.tif\n",
      "33_force_flow_filtered.tif\n",
      "(748, 778)\n",
      "0.19474897 0.93773615\n",
      "\n",
      "D:\\images\\tnia-python-images\\imagesc\\2024_01_12_plant_roots\\labels\\images\\44_force_flow_filtered.tif\n",
      "44_force_flow_filtered.tif\n",
      "(626, 630)\n",
      "0.25025952 0.91039836\n",
      "\n"
     ]
    }
   ],
   "source": [
    "## loop through all images in the image folder\n",
    "\n",
    "for image in image_path.iterdir():\n",
    "    print(image)\n",
    "    image_name = image.name\n",
    "    image_name = image_name.replace('.jpg','')\n",
    "    print(image_name)\n",
    "    image = imread(image)\n",
    "    print(image.shape)\n",
    "    print(image.min(), image.max())\n",
    "    print()\n"
   ]
  },
  {
   "cell_type": "code",
   "execution_count": null,
   "metadata": {},
   "outputs": [],
   "source": []
  }
 ],
 "metadata": {
  "kernelspec": {
   "display_name": "pytorch_tests2",
   "language": "python",
   "name": "python3"
  },
  "language_info": {
   "codemirror_mode": {
    "name": "ipython",
    "version": 3
   },
   "file_extension": ".py",
   "mimetype": "text/x-python",
   "name": "python",
   "nbconvert_exporter": "python",
   "pygments_lexer": "ipython3",
   "version": "3.10.13"
  }
 },
 "nbformat": 4,
 "nbformat_minor": 2
}
