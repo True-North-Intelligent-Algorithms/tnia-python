{
 "cells": [
  {
   "cell_type": "markdown",
   "metadata": {},
   "source": [
    "## Call Cellpose pre-trained model\n",
    "\n",
    "As suggested [here](https://forum.image.sc/t/insect-egg-counts-help-any-ideas-on-how-i-can-segment-and-accurately-count-eggs/90643/8)"
   ]
  },
  {
   "cell_type": "code",
   "execution_count": 1,
   "metadata": {},
   "outputs": [],
   "source": [
    "from cellpose import models\n",
    "from pathlib import Path\n",
    "from skimage.io import imread, imsave\n",
    "from skimage.color import rgb2gray\n",
    "\n",
    "tnia_images_path = Path(r'D:/images')\n",
    "parent_path=Path(tnia_images_path / r'tnia-python-images/imagesc/2024_01_10_insect_egg_count')\n",
    "im_rgb = imread(parent_path / 'I1_F1_O20_SWI_R1_13-09-23.tif')\n",
    "im = rgb2gray(im_rgb)\n"
   ]
  },
  {
   "cell_type": "code",
   "execution_count": 2,
   "metadata": {},
   "outputs": [],
   "source": [
    "model = models.CellposeModel(gpu=True, model_type=\"cyto2\")"
   ]
  },
  {
   "cell_type": "code",
   "execution_count": 3,
   "metadata": {},
   "outputs": [],
   "source": [
    "\n",
    "labels = model.eval(im, channels=[0, 0],diameter=8,flow_threshold=0.8, cellprob_threshold=-0.8)[0]\n"
   ]
  },
  {
   "cell_type": "code",
   "execution_count": null,
   "metadata": {},
   "outputs": [],
   "source": [
    "imsave(tnia_images_path / \"imagesc\\2024_01_10_insect_egg_count\\I1_F1_O20_SWI_R1_13-09-23_cell_pose_labels.tif\"), labels)"
   ]
  },
  {
   "cell_type": "code",
   "execution_count": 4,
   "metadata": {},
   "outputs": [
    {
     "name": "stderr",
     "output_type": "stream",
     "text": [
      "napari.manifest -> 'napari-hello' could not be imported: Cannot find module 'napari_plugins' declared in entrypoint: 'napari_plugins:napari.yaml'\n"
     ]
    },
    {
     "data": {
      "text/plain": [
       "<Labels layer 'labels' at 0x24a4fab3bb0>"
      ]
     },
     "execution_count": 4,
     "metadata": {},
     "output_type": "execute_result"
    }
   ],
   "source": [
    "import napari\n",
    "\n",
    "viewer = napari.Viewer()\n",
    "viewer.add_image(im)\n",
    "viewer.add_labels(labels)\n"
   ]
  },
  {
   "cell_type": "code",
   "execution_count": null,
   "metadata": {},
   "outputs": [],
   "source": []
  }
 ],
 "metadata": {
  "kernelspec": {
   "display_name": "decon-dl-with-cellpose",
   "language": "python",
   "name": "python3"
  },
  "language_info": {
   "codemirror_mode": {
    "name": "ipython",
    "version": 3
   },
   "file_extension": ".py",
   "mimetype": "text/x-python",
   "name": "python",
   "nbconvert_exporter": "python",
   "pygments_lexer": "ipython3",
   "version": "3.9.16"
  }
 },
 "nbformat": 4,
 "nbformat_minor": 2
}
