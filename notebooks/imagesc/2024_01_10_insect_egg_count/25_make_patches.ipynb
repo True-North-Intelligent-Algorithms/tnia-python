{
 "cells": [
  {
   "cell_type": "code",
   "execution_count": 12,
   "metadata": {},
   "outputs": [],
   "source": [
    "from skimage.io import imread, imsave\n",
    "import napari\n",
    "from tnia.deeplearning.dl_helper import make_patch_directory\n",
    "import os\n",
    "from pathlib import Path\n",
    "import json\n",
    "\n",
    "tnia_images_path = Path(r'D:/images')\n",
    "parent_path=Path(tnia_images_path / r'tnia-python-images/imagesc/2024_01_10_insect_egg_count')\n",
    "\n",
    "im_rgb = imread(os.path.join(parent_path / \"I1_F1_O20_SWI_R1_13-09-23.tif\"))\n",
    "labels = imread(os.path.join(parent_path, \"I1_F1_O20_SWI_R1_13-09-23_cellpose_labels.tif\"))\n"
   ]
  },
  {
   "cell_type": "markdown",
   "metadata": {},
   "source": [
    "## edit in napari\n",
    "\n",
    "Now edit the labels in Napari.  When I did it, I just fixed some obvious mixes and tweaked some of the clusters a bit (the clusters are really hard so who knows if I imporved the situation there, I did fix some obvious misses though)"
   ]
  },
  {
   "cell_type": "code",
   "execution_count": 10,
   "metadata": {},
   "outputs": [
    {
     "data": {
      "text/plain": [
       "<Labels layer 'labels' at 0x2706c659eb0>"
      ]
     },
     "execution_count": 10,
     "metadata": {},
     "output_type": "execute_result"
    }
   ],
   "source": [
    "viewer = napari.Viewer()\n",
    "viewer.add_image(im_rgb, name='im_rgb')\n",
    "viewer.add_labels(labels, name='labels')"
   ]
  },
  {
   "cell_type": "code",
   "execution_count": 16,
   "metadata": {},
   "outputs": [
    {
     "name": "stdout",
     "output_type": "stream",
     "text": [
      "0 255\n"
     ]
    }
   ],
   "source": [
    "print(im_rgb.min(), im_rgb.max())"
   ]
  },
  {
   "cell_type": "code",
   "execution_count": 11,
   "metadata": {},
   "outputs": [
    {
     "name": "stderr",
     "output_type": "stream",
     "text": [
      "C:\\Users\\bnort\\AppData\\Local\\Temp\\ipykernel_24500\\2120156986.py:1: UserWarning: D:\\images\\tnia-python-images\\imagesc\\2024_01_10_insect_egg_count\\I1_F1_O20_SWI_R1_13-09-23_corrected_labels.tif is a low contrast image\n",
      "  imsave(os.path.join(parent_path / \"I1_F1_O20_SWI_R1_13-09-23_corrected_labels.tif\"), labels)\n"
     ]
    }
   ],
   "source": [
    "\n",
    "imsave(os.path.join(parent_path / \"I1_F1_O20_SWI_R1_13-09-23_corrected_labels2.tif\"), labels)"
   ]
  },
  {
   "cell_type": "code",
   "execution_count": 5,
   "metadata": {},
   "outputs": [],
   "source": [
    "train_path= parent_path / 'labels'\n",
    "image_patch_path =  train_path / 'input0'\n",
    "label_patch_path =  train_path / 'ground truth0'\n",
    "\n",
    "'''\n",
    "if not os.path.exists(train_path):\n",
    "    os.makedirs(train_path)\n",
    "\n",
    "if not os.path.exists(image_patch_path):\n",
    "    os.makedirs(image_patch_path)\n",
    "\n",
    "if not os.path.exists(label_patch_path):\n",
    "    os.makedirs(label_patch_path)\n",
    "'''\n",
    "patch_base_name = 'eggs'\n",
    "axes = 'YXC'\n",
    "sub_sample = 1\n",
    "\n",
    "make_patch_directory(1, 1, train_path)\n",
    "\n",
    "# Load the existing JSON data which is created when making the patch directory and append addition information to it\n",
    "json_file = train_path / \"info.json\"\n",
    "\n",
    "with open(json_file, 'r') as infile:\n",
    "    data = json.load(infile)\n",
    "\n",
    "# add the sub_sample information to the JSON file\n",
    "data['sub_sample'] = sub_sample \n",
    "data['axes'] = axes\n",
    "\n",
    "# Write the modified data back to the JSON file\n",
    "with open(json_file, 'w') as outfile:\n",
    "    json.dump(data, outfile)\n"
   ]
  },
  {
   "cell_type": "code",
   "execution_count": 8,
   "metadata": {},
   "outputs": [
    {
     "name": "stdout",
     "output_type": "stream",
     "text": [
      "D:\\images\\tnia-python-images\\imagesc\\2024_01_10_insect_egg_count\\labels\\input0\\eggs_0_0.tif\n",
      "D:\\images\\tnia-python-images\\imagesc\\2024_01_10_insect_egg_count\\labels\\ground truth0\\eggs_0_0.tif\n",
      "(256, 256, 3)\n",
      "(256, 256)\n",
      "-----------------\n",
      "D:\\images\\tnia-python-images\\imagesc\\2024_01_10_insect_egg_count\\labels\\input0\\eggs_0_256.tif\n",
      "D:\\images\\tnia-python-images\\imagesc\\2024_01_10_insect_egg_count\\labels\\ground truth0\\eggs_0_256.tif\n",
      "(256, 256, 3)\n",
      "(256, 256)\n",
      "-----------------\n",
      "D:\\images\\tnia-python-images\\imagesc\\2024_01_10_insect_egg_count\\labels\\input0\\eggs_0_512.tif\n",
      "D:\\images\\tnia-python-images\\imagesc\\2024_01_10_insect_egg_count\\labels\\ground truth0\\eggs_0_512.tif\n",
      "(256, 256, 3)\n",
      "(256, 256)\n",
      "-----------------\n",
      "D:\\images\\tnia-python-images\\imagesc\\2024_01_10_insect_egg_count\\labels\\input0\\eggs_0_768.tif\n",
      "D:\\images\\tnia-python-images\\imagesc\\2024_01_10_insect_egg_count\\labels\\ground truth0\\eggs_0_768.tif\n",
      "(256, 256, 3)\n",
      "(256, 256)\n",
      "-----------------\n",
      "D:\\images\\tnia-python-images\\imagesc\\2024_01_10_insect_egg_count\\labels\\input0\\eggs_256_0.tif\n",
      "D:\\images\\tnia-python-images\\imagesc\\2024_01_10_insect_egg_count\\labels\\ground truth0\\eggs_256_0.tif\n",
      "(256, 256, 3)\n",
      "(256, 256)\n",
      "-----------------\n",
      "D:\\images\\tnia-python-images\\imagesc\\2024_01_10_insect_egg_count\\labels\\input0\\eggs_256_256.tif\n",
      "D:\\images\\tnia-python-images\\imagesc\\2024_01_10_insect_egg_count\\labels\\ground truth0\\eggs_256_256.tif\n",
      "(256, 256, 3)\n",
      "(256, 256)\n",
      "-----------------\n",
      "D:\\images\\tnia-python-images\\imagesc\\2024_01_10_insect_egg_count\\labels\\input0\\eggs_256_512.tif\n",
      "D:\\images\\tnia-python-images\\imagesc\\2024_01_10_insect_egg_count\\labels\\ground truth0\\eggs_256_512.tif\n",
      "(256, 256, 3)\n",
      "(256, 256)\n",
      "-----------------\n",
      "D:\\images\\tnia-python-images\\imagesc\\2024_01_10_insect_egg_count\\labels\\input0\\eggs_256_768.tif\n",
      "D:\\images\\tnia-python-images\\imagesc\\2024_01_10_insect_egg_count\\labels\\ground truth0\\eggs_256_768.tif\n",
      "(256, 256, 3)\n",
      "(256, 256)\n",
      "-----------------\n",
      "D:\\images\\tnia-python-images\\imagesc\\2024_01_10_insect_egg_count\\labels\\input0\\eggs_512_0.tif\n",
      "D:\\images\\tnia-python-images\\imagesc\\2024_01_10_insect_egg_count\\labels\\ground truth0\\eggs_512_0.tif\n",
      "(256, 256, 3)\n",
      "(256, 256)\n",
      "-----------------\n",
      "D:\\images\\tnia-python-images\\imagesc\\2024_01_10_insect_egg_count\\labels\\input0\\eggs_512_256.tif\n",
      "D:\\images\\tnia-python-images\\imagesc\\2024_01_10_insect_egg_count\\labels\\ground truth0\\eggs_512_256.tif\n",
      "(256, 256, 3)\n",
      "(256, 256)\n",
      "-----------------\n",
      "D:\\images\\tnia-python-images\\imagesc\\2024_01_10_insect_egg_count\\labels\\input0\\eggs_512_512.tif\n",
      "D:\\images\\tnia-python-images\\imagesc\\2024_01_10_insect_egg_count\\labels\\ground truth0\\eggs_512_512.tif\n",
      "(256, 256, 3)\n",
      "(256, 256)\n",
      "-----------------\n",
      "D:\\images\\tnia-python-images\\imagesc\\2024_01_10_insect_egg_count\\labels\\input0\\eggs_512_768.tif\n",
      "D:\\images\\tnia-python-images\\imagesc\\2024_01_10_insect_egg_count\\labels\\ground truth0\\eggs_512_768.tif\n",
      "(256, 256, 3)\n",
      "(256, 256)\n",
      "-----------------\n"
     ]
    },
    {
     "name": "stderr",
     "output_type": "stream",
     "text": [
      "C:\\Users\\bnort\\AppData\\Local\\Temp\\ipykernel_24500\\1970234879.py:19: UserWarning: D:\\images\\tnia-python-images\\imagesc\\2024_01_10_insect_egg_count\\labels\\ground truth0\\eggs_0_0.tif is a low contrast image\n",
      "  imsave(label_patch_name, label_patch)\n",
      "C:\\Users\\bnort\\AppData\\Local\\Temp\\ipykernel_24500\\1970234879.py:19: UserWarning: D:\\images\\tnia-python-images\\imagesc\\2024_01_10_insect_egg_count\\labels\\ground truth0\\eggs_0_256.tif is a low contrast image\n",
      "  imsave(label_patch_name, label_patch)\n",
      "C:\\Users\\bnort\\AppData\\Local\\Temp\\ipykernel_24500\\1970234879.py:19: UserWarning: D:\\images\\tnia-python-images\\imagesc\\2024_01_10_insect_egg_count\\labels\\ground truth0\\eggs_0_512.tif is a low contrast image\n",
      "  imsave(label_patch_name, label_patch)\n",
      "C:\\Users\\bnort\\AppData\\Local\\Temp\\ipykernel_24500\\1970234879.py:19: UserWarning: D:\\images\\tnia-python-images\\imagesc\\2024_01_10_insect_egg_count\\labels\\ground truth0\\eggs_0_768.tif is a low contrast image\n",
      "  imsave(label_patch_name, label_patch)\n",
      "C:\\Users\\bnort\\AppData\\Local\\Temp\\ipykernel_24500\\1970234879.py:19: UserWarning: D:\\images\\tnia-python-images\\imagesc\\2024_01_10_insect_egg_count\\labels\\ground truth0\\eggs_256_0.tif is a low contrast image\n",
      "  imsave(label_patch_name, label_patch)\n",
      "C:\\Users\\bnort\\AppData\\Local\\Temp\\ipykernel_24500\\1970234879.py:19: UserWarning: D:\\images\\tnia-python-images\\imagesc\\2024_01_10_insect_egg_count\\labels\\ground truth0\\eggs_256_256.tif is a low contrast image\n",
      "  imsave(label_patch_name, label_patch)\n",
      "C:\\Users\\bnort\\AppData\\Local\\Temp\\ipykernel_24500\\1970234879.py:19: UserWarning: D:\\images\\tnia-python-images\\imagesc\\2024_01_10_insect_egg_count\\labels\\ground truth0\\eggs_256_512.tif is a low contrast image\n",
      "  imsave(label_patch_name, label_patch)\n",
      "C:\\Users\\bnort\\AppData\\Local\\Temp\\ipykernel_24500\\1970234879.py:19: UserWarning: D:\\images\\tnia-python-images\\imagesc\\2024_01_10_insect_egg_count\\labels\\ground truth0\\eggs_256_768.tif is a low contrast image\n",
      "  imsave(label_patch_name, label_patch)\n",
      "C:\\Users\\bnort\\AppData\\Local\\Temp\\ipykernel_24500\\1970234879.py:19: UserWarning: D:\\images\\tnia-python-images\\imagesc\\2024_01_10_insect_egg_count\\labels\\ground truth0\\eggs_512_0.tif is a low contrast image\n",
      "  imsave(label_patch_name, label_patch)\n",
      "C:\\Users\\bnort\\AppData\\Local\\Temp\\ipykernel_24500\\1970234879.py:19: UserWarning: D:\\images\\tnia-python-images\\imagesc\\2024_01_10_insect_egg_count\\labels\\ground truth0\\eggs_512_256.tif is a low contrast image\n",
      "  imsave(label_patch_name, label_patch)\n",
      "C:\\Users\\bnort\\AppData\\Local\\Temp\\ipykernel_24500\\1970234879.py:19: UserWarning: D:\\images\\tnia-python-images\\imagesc\\2024_01_10_insect_egg_count\\labels\\ground truth0\\eggs_512_512.tif is a low contrast image\n",
      "  imsave(label_patch_name, label_patch)\n",
      "C:\\Users\\bnort\\AppData\\Local\\Temp\\ipykernel_24500\\1970234879.py:18: UserWarning: D:\\images\\tnia-python-images\\imagesc\\2024_01_10_insect_egg_count\\labels\\input0\\eggs_512_768.tif is a low contrast image\n",
      "  imsave(im_patch_name, im_patch)\n",
      "C:\\Users\\bnort\\AppData\\Local\\Temp\\ipykernel_24500\\1970234879.py:19: UserWarning: D:\\images\\tnia-python-images\\imagesc\\2024_01_10_insect_egg_count\\labels\\ground truth0\\eggs_512_768.tif is a low contrast image\n",
      "  imsave(label_patch_name, label_patch)\n"
     ]
    }
   ],
   "source": [
    "from skimage.io import imsave\n",
    "\n",
    "patch_size = (256, 256)\n",
    "\n",
    "\n",
    "for i in range(0, im_rgb.shape[0], patch_size[0]):\n",
    "    for j in range(0, im_rgb.shape[1], patch_size[1]):\n",
    "        im_patch = im_rgb[i:i+patch_size[0], j:j+patch_size[1], :]\n",
    "        label_patch = labels[i:i+patch_size[0], j:j+patch_size[1]]\n",
    "        im_patch_name = os.path.join(image_patch_path, patch_base_name+f\"_{i}_{j}.tif\")\n",
    "        label_patch_name = os.path.join(label_patch_path, patch_base_name+f\"_{i}_{j}.tif\")\n",
    "        \n",
    "        print(im_patch_name)\n",
    "        print(label_patch_name)\n",
    "        print(im_patch.shape)\n",
    "        print(label_patch.shape)\n",
    "        print('-----------------')\n",
    "        imsave(im_patch_name, im_patch)\n",
    "        imsave(label_patch_name, label_patch)\n",
    "        "
   ]
  },
  {
   "cell_type": "code",
   "execution_count": null,
   "metadata": {},
   "outputs": [],
   "source": []
  }
 ],
 "metadata": {
  "kernelspec": {
   "display_name": "dresden-decon-test1",
   "language": "python",
   "name": "python3"
  },
  "language_info": {
   "codemirror_mode": {
    "name": "ipython",
    "version": 3
   },
   "file_extension": ".py",
   "mimetype": "text/x-python",
   "name": "python",
   "nbconvert_exporter": "python",
   "pygments_lexer": "ipython3",
   "version": "3.9.16"
  }
 },
 "nbformat": 4,
 "nbformat_minor": 2
}
