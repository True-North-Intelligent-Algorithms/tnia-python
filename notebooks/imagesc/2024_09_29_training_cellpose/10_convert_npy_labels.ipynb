{
 "cells": [
  {
   "cell_type": "markdown",
   "metadata": {},
   "source": [
    "## Convert labels packed into numpy file to tif files\n",
    "\n",
    "In this notebook we grab the masks from numpy files then save them as .tifs.  \n",
    "\n",
    "We use some utilities to create paths to save images and corresponding labels a.k.a. masks into a specific path organization.  This will make it easier to re-use other code for training and prediction.  "
   ]
  },
  {
   "cell_type": "code",
   "execution_count": 1,
   "metadata": {},
   "outputs": [],
   "source": [
    "import os\n",
    "from pathlib import Path\n",
    "import numpy as np\n",
    "from tnia.deeplearning.dl_helper import get_label_paths\n",
    "from skimage.io import imread, imsave"
   ]
  },
  {
   "cell_type": "code",
   "execution_count": 2,
   "metadata": {},
   "outputs": [],
   "source": [
    "\n",
    "parent_path = Path(r'D:\\images\\tnia-python-images\\imagesc\\2024_09_29_training_cellpose')\n",
    "label_path = Path(parent_path / r'labels')\n",
    "\n",
    "# for this problem we consider number ground truths to be 1 since channels are packed into RGB images\n",
    "num_inputs = 1\n",
    "# number of classes is 1\n",
    "num_ground_truths = 1"
   ]
  },
  {
   "cell_type": "code",
   "execution_count": 6,
   "metadata": {},
   "outputs": [
    {
     "name": "stdout",
     "output_type": "stream",
     "text": [
      "Info for _seg.npy file: <class 'numpy.ndarray'> dict_keys(['outlines', 'colors', 'masks', 'chan_choose', 'filename', 'flows', 'ismanual', 'manual_changes', 'model_path', 'flow_threshold', 'cellprob_threshold', 'normalize_params', 'restore', 'ratio', 'diameter'])\n",
      "info for masks: uint16 (1190, 1564)\n"
     ]
    }
   ],
   "source": [
    "base_name = r'RSI_CD_6_A_1_T_0}RGB_B_DAPI_G_f480-1'\n",
    "tif_name = parent_path / (base_name+'.tiff')\n",
    "numpy_name = parent_path  / (base_name+'_seg.npy')\n",
    "numpy_data = np.load(numpy_name, allow_pickle=True)\n",
    "print('Info for _seg.npy file:', type(numpy_data), numpy_data.item().keys())\n",
    "masks = numpy_data.item().get('masks')\n",
    "print('info for masks:', masks.dtype, masks.shape)\n",
    "\n",
    "image_data = imread(tif_name)"
   ]
  },
  {
   "cell_type": "code",
   "execution_count": 22,
   "metadata": {},
   "outputs": [
    {
     "name": "stdout",
     "output_type": "stream",
     "text": [
      "[WindowsPath('D:/images/tnia-python-images/imagesc/2024_09_29_training_cellpose/labels/input0')]\n",
      "[WindowsPath('D:/images/tnia-python-images/imagesc/2024_09_29_training_cellpose/labels/ground truth0')]\n"
     ]
    }
   ],
   "source": [
    "image_label_paths, ground_truths_label_paths = get_label_paths(num_inputs, num_ground_truths, label_path)\n",
    "\n",
    "if not os.path.exists(image_label_paths[0]):\n",
    "    os.makedirs(image_label_paths[0])\n",
    "if not os.path.exists(ground_truths_label_paths[0]):\n",
    "    os.makedirs(ground_truths_label_paths[0])\n",
    "\n",
    "print(image_label_paths)\n",
    "print(ground_truths_label_paths)"
   ]
  },
  {
   "cell_type": "code",
   "execution_count": 29,
   "metadata": {},
   "outputs": [
    {
     "name": "stderr",
     "output_type": "stream",
     "text": [
      "C:\\Users\\bnort\\AppData\\Local\\Temp\\ipykernel_33300\\1556022605.py:2: UserWarning: D:\\images\\tnia-python-images\\imagesc\\2024_09_29_training_cellpose\\labels\\ground truth0\\RSI_CD_6_A_1_T_0}RGB_B_DAPI_G_f480-1.tif is a low contrast image\n",
      "  imsave(ground_truths_label_paths[0] / (base_name+'.tif'), masks)\n"
     ]
    }
   ],
   "source": [
    "imsave(image_label_paths[0] / (base_name+'.tif'), image_data)\n",
    "imsave(ground_truths_label_paths[0] / (base_name+'.tif'), masks)"
   ]
  },
  {
   "cell_type": "code",
   "execution_count": null,
   "metadata": {},
   "outputs": [],
   "source": []
  }
 ],
 "metadata": {
  "kernelspec": {
   "display_name": "pytorch_and_SAM3",
   "language": "python",
   "name": "python3"
  },
  "language_info": {
   "codemirror_mode": {
    "name": "ipython",
    "version": 3
   },
   "file_extension": ".py",
   "mimetype": "text/x-python",
   "name": "python",
   "nbconvert_exporter": "python",
   "pygments_lexer": "ipython3",
   "version": "3.10.14"
  }
 },
 "nbformat": 4,
 "nbformat_minor": 2
}
