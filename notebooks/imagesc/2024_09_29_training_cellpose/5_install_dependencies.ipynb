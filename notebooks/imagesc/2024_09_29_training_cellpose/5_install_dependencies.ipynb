{
 "cells": [
  {
   "cell_type": "markdown",
   "metadata": {},
   "source": [
    "## Installation\n",
    "\n",
    "This example depends on utilities from the tnia-python helper library.  Install from github as follows\n",
    "\n",
    "```\n",
    "pip install git+https://github.com/True-North-Intelligent-Algorithms/tnia-python.git\n",
    "```\n"
   ]
  }
 ],
 "metadata": {
  "language_info": {
   "name": "python"
  }
 },
 "nbformat": 4,
 "nbformat_minor": 2
}
