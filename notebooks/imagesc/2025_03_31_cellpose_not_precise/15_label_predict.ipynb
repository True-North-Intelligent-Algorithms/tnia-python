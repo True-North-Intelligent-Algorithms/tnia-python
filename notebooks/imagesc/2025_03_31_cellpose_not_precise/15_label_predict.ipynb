{
 "cells": [
  {
   "cell_type": "markdown",
   "metadata": {},
   "source": [
    "## Use Napari-Easy-Augment-Batch-DL to load and label images\n",
    "\n",
    "This notebook starts up Napari-Easy-Augment-Batch-DL and points it to our project directory.  At the beginning of a project this directory is simply the location of our collection of images.  "
   ]
  },
  {
   "cell_type": "markdown",
   "metadata": {},
   "source": [
    "## Import and check versions"
   ]
  },
  {
   "cell_type": "code",
   "execution_count": 1,
   "metadata": {},
   "outputs": [
    {
     "name": "stdout",
     "output_type": "stream",
     "text": [
      "raster_geometry not imported.  This is only needed for the ellipsoid rendering in apply_stardist\n"
     ]
    },
    {
     "name": "stderr",
     "output_type": "stream",
     "text": [
      "c:\\Users\\bnort\\miniconda3\\envs\\microsam_cellpose\\Lib\\site-packages\\tqdm\\auto.py:21: TqdmWarning: IProgress not found. Please update jupyter and ipywidgets. See https://ipywidgets.readthedocs.io/en/stable/user_install.html\n",
      "  from .autonotebook import tqdm as notebook_tqdm\n",
      "c:\\Users\\bnort\\miniconda3\\envs\\microsam_cellpose\\Lib\\site-packages\\timm\\models\\layers\\__init__.py:48: FutureWarning: Importing from timm.models.layers is deprecated, please import via timm.layers\n",
      "  warnings.warn(f\"Importing from {__name__} is deprecated, please import via timm.layers\", FutureWarning)\n",
      "c:\\Users\\bnort\\miniconda3\\envs\\microsam_cellpose\\Lib\\site-packages\\timm\\models\\registry.py:4: FutureWarning: Importing from timm.models.registry is deprecated, please import via timm.models\n",
      "  warnings.warn(f\"Importing from {__name__} is deprecated, please import via timm.models\", FutureWarning)\n",
      "C:\\Users\\bnort\\work\\ImageJ2022\\tnia\\segment-everything\\src\\segment_everything\\vendored\\efficientvit\\models\\nn\\ops.py:407: FutureWarning: `torch.cuda.amp.autocast(args...)` is deprecated. Please use `torch.amp.autocast('cuda', args...)` instead.\n",
      "  @autocast(enabled=False)\n"
     ]
    },
    {
     "name": "stdout",
     "output_type": "stream",
     "text": [
      "napari version 0.5.6\n",
      "numpy version 1.26.4\n"
     ]
    }
   ],
   "source": [
    "import napari\n",
    "import numpy as np\n",
    "from napari_easy_augment_batch_dl import easy_augment_batch_dl\n",
    "\n",
    "# for trouble shooting print the napari and numpy version. This can give us clues if there are dependency issues\n",
    "print('napari version', napari.__version__)\n",
    "print('numpy version', np.__version__)\n",
    "\n",
    "from micro_sam_instance_framework import MicroSamInstanceFramework\n"
   ]
  },
  {
   "cell_type": "markdown",
   "metadata": {},
   "source": [
    "## Start Napari and Easy Augment Batch DL\n",
    "\n",
    "Start Napari, show Easy-Augment-Batch-DL and show the parent directory. "
   ]
  },
  {
   "cell_type": "code",
   "execution_count": 3,
   "metadata": {},
   "outputs": [
    {
     "name": "stdout",
     "output_type": "stream",
     "text": [
      "VIT checkpoint loaded successfully\n"
     ]
    },
    {
     "name": "stderr",
     "output_type": "stream",
     "text": [
      "INFO:cellpose.io:WRITING LOG OUTPUT TO C:\\Users\\bnort\\.cellpose\\run.log\n",
      "INFO:cellpose.io:\n",
      "cellpose version: \t3.1.0 \n",
      "platform:       \twin32 \n",
      "python version: \t3.11.11 \n",
      "torch version:  \t2.6.0\n"
     ]
    },
    {
     "name": "stdout",
     "output_type": "stream",
     "text": [
      "Found framework MicroSamInstanceFramework\n",
      "Found framework CellPoseInstanceFramework\n",
      "Found framework PytorchSemanticFramework\n",
      "Found framework MobileSAMFramework\n",
      "Found framework YoloSAMFramework\n",
      "Found framework RandomForestFramework\n",
      "D:\\images\\tnia-python-images\\imagesc\\2025_04_07_cellpose_not_precise_dense\\Screenshot from 2025-03-31 10-28-06.png\n",
      "Created new Zarr store.\n",
      "Created new Zarr store.\n",
      "Adding object boxes layer\n",
      "Adding predicted object boxes layer\n",
      "Adding label boxes\n",
      "Adding object boxes\n",
      "Adding predicted object boxes\n",
      "Setting object box classes\n",
      "Setting predicted object box classes\n"
     ]
    },
    {
     "name": "stdout",
     "output_type": "stream",
     "text": [
      "image file is  D:\\images\\tnia-python-images\\imagesc\\2025_04_07_cellpose_not_precise_dense\\Screenshot from 2025-03-31 10-28-06.png\n",
      "labelsum is  39787\n",
      "(395, 456) (395, 456)\n",
      "Screenshot from 2025-03-31 10-28-06_0\n",
      "D:\\images\\tnia-python-images\\imagesc\\2025_04_07_cellpose_not_precise_dense\\labels\\input0/Screenshot from 2025-03-31 10-28-06_0.tif\n",
      "D:\\images\\tnia-python-images\\imagesc\\2025_04_07_cellpose_not_precise_dense\\labels\\ground truth0/Screenshot from 2025-03-31 10-28-06_0.tif\n",
      "D:\\images\\tnia-python-images\\imagesc\\2025_04_07_cellpose_not_precise_dense\\labels\\input0/Screenshot from 2025-03-31 10-28-06_0.tif\n",
      "D:\\images\\tnia-python-images\\imagesc\\2025_04_07_cellpose_not_precise_dense\\labels\\ground truth0\n"
     ]
    },
    {
     "name": "stderr",
     "output_type": "stream",
     "text": [
      "c:\\Users\\bnort\\miniconda3\\envs\\microsam_cellpose\\Lib\\site-packages\\skimage\\_shared\\utils.py:328: UserWarning: D:\\images\\tnia-python-images\\imagesc\\2025_04_07_cellpose_not_precise_dense\\labels\\ground truth0\\Screenshot from 2025-03-31 10-28-06_0.tif is a low contrast image\n",
      "  return func(*args, **kwargs)\n",
      "c:\\Users\\bnort\\miniconda3\\envs\\microsam_cellpose\\Lib\\site-packages\\skimage\\_shared\\utils.py:328: UserWarning: D:\\images\\tnia-python-images\\imagesc\\2025_04_07_cellpose_not_precise_dense\\annotations\\class_0\\Screenshot from 2025-03-31 10-28-06.tif is a low contrast image\n",
      "  return func(*args, **kwargs)\n",
      "c:\\Users\\bnort\\miniconda3\\envs\\microsam_cellpose\\Lib\\site-packages\\skimage\\_shared\\utils.py:328: UserWarning: D:\\images\\tnia-python-images\\imagesc\\2025_04_07_cellpose_not_precise_dense\\predictions\\class_0\\Screenshot from 2025-03-31 10-28-06.tif is a low contrast image\n",
      "  return func(*args, **kwargs)\n",
      "c:\\Users\\bnort\\miniconda3\\envs\\microsam_cellpose\\Lib\\site-packages\\skimage\\_shared\\utils.py:328: UserWarning: D:\\images\\tnia-python-images\\imagesc\\2025_04_07_cellpose_not_precise_dense\\labels\\ground truth0\\Screenshot from 2025-03-31 10-28-06_0.tif is a low contrast image\n",
      "  return func(*args, **kwargs)\n",
      "c:\\Users\\bnort\\miniconda3\\envs\\microsam_cellpose\\Lib\\site-packages\\skimage\\_shared\\utils.py:328: UserWarning: D:\\images\\tnia-python-images\\imagesc\\2025_04_07_cellpose_not_precise_dense\\annotations\\class_0\\Screenshot from 2025-03-31 10-28-06.tif is a low contrast image\n",
      "  return func(*args, **kwargs)\n",
      "c:\\Users\\bnort\\miniconda3\\envs\\microsam_cellpose\\Lib\\site-packages\\skimage\\_shared\\utils.py:328: UserWarning: D:\\images\\tnia-python-images\\imagesc\\2025_04_07_cellpose_not_precise_dense\\predictions\\class_0\\Screenshot from 2025-03-31 10-28-06.tif is a low contrast image\n",
      "  return func(*args, **kwargs)\n"
     ]
    },
    {
     "name": "stdout",
     "output_type": "stream",
     "text": [
      "Deleted file: D:\\images\\tnia-python-images\\imagesc\\2025_04_07_cellpose_not_precise_dense\\labels\\input0\\Screenshot from 2025-03-31 10-28-06_0.json\n",
      "Deleted file: D:\\images\\tnia-python-images\\imagesc\\2025_04_07_cellpose_not_precise_dense\\labels\\input0\\Screenshot from 2025-03-31 10-28-06_0.tif\n",
      "Deleted file: D:\\images\\tnia-python-images\\imagesc\\2025_04_07_cellpose_not_precise_dense\\labels\\input0\\Screenshot from 2025-03-31 10-28-06_0_hist.png\n",
      "Deleted file: D:\\images\\tnia-python-images\\imagesc\\2025_04_07_cellpose_not_precise_dense\\labels\\ground truth0\\Screenshot from 2025-03-31 10-28-06_0.tif\n",
      "image file is  D:\\images\\tnia-python-images\\imagesc\\2025_04_07_cellpose_not_precise_dense\\Screenshot from 2025-03-31 10-28-06.png\n",
      "labelsum is  39787\n",
      "(395, 456) (395, 456)\n",
      "Screenshot from 2025-03-31 10-28-06_0\n",
      "D:\\images\\tnia-python-images\\imagesc\\2025_04_07_cellpose_not_precise_dense\\labels\\input0/Screenshot from 2025-03-31 10-28-06_0.tif\n",
      "D:\\images\\tnia-python-images\\imagesc\\2025_04_07_cellpose_not_precise_dense\\labels\\ground truth0/Screenshot from 2025-03-31 10-28-06_0.tif\n",
      "D:\\images\\tnia-python-images\\imagesc\\2025_04_07_cellpose_not_precise_dense\\labels\\input0/Screenshot from 2025-03-31 10-28-06_0.tif\n",
      "D:\\images\\tnia-python-images\\imagesc\\2025_04_07_cellpose_not_precise_dense\\labels\\ground truth0\n",
      "Deleted file: D:\\images\\tnia-python-images\\imagesc\\2025_04_07_cellpose_not_precise_dense\\labels\\input0\\Screenshot from 2025-03-31 10-28-06_0.json\n",
      "Deleted file: D:\\images\\tnia-python-images\\imagesc\\2025_04_07_cellpose_not_precise_dense\\labels\\input0\\Screenshot from 2025-03-31 10-28-06_0.tif\n",
      "Deleted file: D:\\images\\tnia-python-images\\imagesc\\2025_04_07_cellpose_not_precise_dense\\labels\\input0\\Screenshot from 2025-03-31 10-28-06_0_hist.png\n",
      "Deleted file: D:\\images\\tnia-python-images\\imagesc\\2025_04_07_cellpose_not_precise_dense\\labels\\ground truth0\\Screenshot from 2025-03-31 10-28-06_0.tif\n",
      "image file is  D:\\images\\tnia-python-images\\imagesc\\2025_04_07_cellpose_not_precise_dense\\Screenshot from 2025-03-31 10-28-06.png\n",
      "labelsum is  40879\n",
      "(395, 456) (395, 456)\n",
      "Screenshot from 2025-03-31 10-28-06_0\n",
      "D:\\images\\tnia-python-images\\imagesc\\2025_04_07_cellpose_not_precise_dense\\labels\\input0/Screenshot from 2025-03-31 10-28-06_0.tif\n",
      "D:\\images\\tnia-python-images\\imagesc\\2025_04_07_cellpose_not_precise_dense\\labels\\ground truth0/Screenshot from 2025-03-31 10-28-06_0.tif\n",
      "D:\\images\\tnia-python-images\\imagesc\\2025_04_07_cellpose_not_precise_dense\\labels\\input0/Screenshot from 2025-03-31 10-28-06_0.tif\n",
      "D:\\images\\tnia-python-images\\imagesc\\2025_04_07_cellpose_not_precise_dense\\labels\\ground truth0\n"
     ]
    },
    {
     "name": "stderr",
     "output_type": "stream",
     "text": [
      "c:\\Users\\bnort\\miniconda3\\envs\\microsam_cellpose\\Lib\\site-packages\\skimage\\_shared\\utils.py:328: UserWarning: D:\\images\\tnia-python-images\\imagesc\\2025_04_07_cellpose_not_precise_dense\\labels\\ground truth0\\Screenshot from 2025-03-31 10-28-06_0.tif is a low contrast image\n",
      "  return func(*args, **kwargs)\n",
      "c:\\Users\\bnort\\miniconda3\\envs\\microsam_cellpose\\Lib\\site-packages\\skimage\\_shared\\utils.py:328: UserWarning: D:\\images\\tnia-python-images\\imagesc\\2025_04_07_cellpose_not_precise_dense\\annotations\\class_0\\Screenshot from 2025-03-31 10-28-06.tif is a low contrast image\n",
      "  return func(*args, **kwargs)\n",
      "c:\\Users\\bnort\\miniconda3\\envs\\microsam_cellpose\\Lib\\site-packages\\skimage\\_shared\\utils.py:328: UserWarning: D:\\images\\tnia-python-images\\imagesc\\2025_04_07_cellpose_not_precise_dense\\predictions\\class_0\\Screenshot from 2025-03-31 10-28-06.tif is a low contrast image\n",
      "  return func(*args, **kwargs)\n"
     ]
    },
    {
     "name": "stdout",
     "output_type": "stream",
     "text": [
      "Deleted file: D:\\images\\tnia-python-images\\imagesc\\2025_04_07_cellpose_not_precise_dense\\labels\\input0\\Screenshot from 2025-03-31 10-28-06_0.json\n",
      "Deleted file: D:\\images\\tnia-python-images\\imagesc\\2025_04_07_cellpose_not_precise_dense\\labels\\input0\\Screenshot from 2025-03-31 10-28-06_0.tif\n",
      "Deleted file: D:\\images\\tnia-python-images\\imagesc\\2025_04_07_cellpose_not_precise_dense\\labels\\input0\\Screenshot from 2025-03-31 10-28-06_0_hist.png\n",
      "Deleted file: D:\\images\\tnia-python-images\\imagesc\\2025_04_07_cellpose_not_precise_dense\\labels\\ground truth0\\Screenshot from 2025-03-31 10-28-06_0.tif\n",
      "image file is  D:\\images\\tnia-python-images\\imagesc\\2025_04_07_cellpose_not_precise_dense\\Screenshot from 2025-03-31 10-28-06.png\n",
      "labelsum is  42434\n",
      "(395, 456) (395, 456)\n",
      "Screenshot from 2025-03-31 10-28-06_0\n",
      "D:\\images\\tnia-python-images\\imagesc\\2025_04_07_cellpose_not_precise_dense\\labels\\input0/Screenshot from 2025-03-31 10-28-06_0.tif\n",
      "D:\\images\\tnia-python-images\\imagesc\\2025_04_07_cellpose_not_precise_dense\\labels\\ground truth0/Screenshot from 2025-03-31 10-28-06_0.tif\n",
      "D:\\images\\tnia-python-images\\imagesc\\2025_04_07_cellpose_not_precise_dense\\labels\\input0/Screenshot from 2025-03-31 10-28-06_0.tif\n",
      "D:\\images\\tnia-python-images\\imagesc\\2025_04_07_cellpose_not_precise_dense\\labels\\ground truth0\n"
     ]
    },
    {
     "name": "stderr",
     "output_type": "stream",
     "text": [
      "c:\\Users\\bnort\\miniconda3\\envs\\microsam_cellpose\\Lib\\site-packages\\skimage\\_shared\\utils.py:328: UserWarning: D:\\images\\tnia-python-images\\imagesc\\2025_04_07_cellpose_not_precise_dense\\labels\\ground truth0\\Screenshot from 2025-03-31 10-28-06_0.tif is a low contrast image\n",
      "  return func(*args, **kwargs)\n",
      "c:\\Users\\bnort\\miniconda3\\envs\\microsam_cellpose\\Lib\\site-packages\\skimage\\_shared\\utils.py:328: UserWarning: D:\\images\\tnia-python-images\\imagesc\\2025_04_07_cellpose_not_precise_dense\\annotations\\class_0\\Screenshot from 2025-03-31 10-28-06.tif is a low contrast image\n",
      "  return func(*args, **kwargs)\n",
      "c:\\Users\\bnort\\miniconda3\\envs\\microsam_cellpose\\Lib\\site-packages\\skimage\\_shared\\utils.py:328: UserWarning: D:\\images\\tnia-python-images\\imagesc\\2025_04_07_cellpose_not_precise_dense\\predictions\\class_0\\Screenshot from 2025-03-31 10-28-06.tif is a low contrast image\n",
      "  return func(*args, **kwargs)\n"
     ]
    },
    {
     "name": "stdout",
     "output_type": "stream",
     "text": [
      "Deleted file: D:\\images\\tnia-python-images\\imagesc\\2025_04_07_cellpose_not_precise_dense\\labels\\input0\\Screenshot from 2025-03-31 10-28-06_0.json\n",
      "Deleted file: D:\\images\\tnia-python-images\\imagesc\\2025_04_07_cellpose_not_precise_dense\\labels\\input0\\Screenshot from 2025-03-31 10-28-06_0.tif\n",
      "Deleted file: D:\\images\\tnia-python-images\\imagesc\\2025_04_07_cellpose_not_precise_dense\\labels\\input0\\Screenshot from 2025-03-31 10-28-06_0_hist.png\n",
      "Deleted file: D:\\images\\tnia-python-images\\imagesc\\2025_04_07_cellpose_not_precise_dense\\labels\\ground truth0\\Screenshot from 2025-03-31 10-28-06_0.tif\n",
      "image file is  D:\\images\\tnia-python-images\\imagesc\\2025_04_07_cellpose_not_precise_dense\\Screenshot from 2025-03-31 10-28-06.png\n",
      "labelsum is  42972\n",
      "(395, 456) (395, 456)\n",
      "Screenshot from 2025-03-31 10-28-06_0\n",
      "D:\\images\\tnia-python-images\\imagesc\\2025_04_07_cellpose_not_precise_dense\\labels\\input0/Screenshot from 2025-03-31 10-28-06_0.tif\n",
      "D:\\images\\tnia-python-images\\imagesc\\2025_04_07_cellpose_not_precise_dense\\labels\\ground truth0/Screenshot from 2025-03-31 10-28-06_0.tif\n",
      "D:\\images\\tnia-python-images\\imagesc\\2025_04_07_cellpose_not_precise_dense\\labels\\input0/Screenshot from 2025-03-31 10-28-06_0.tif\n",
      "D:\\images\\tnia-python-images\\imagesc\\2025_04_07_cellpose_not_precise_dense\\labels\\ground truth0\n"
     ]
    },
    {
     "name": "stderr",
     "output_type": "stream",
     "text": [
      "c:\\Users\\bnort\\miniconda3\\envs\\microsam_cellpose\\Lib\\site-packages\\skimage\\_shared\\utils.py:328: UserWarning: D:\\images\\tnia-python-images\\imagesc\\2025_04_07_cellpose_not_precise_dense\\labels\\ground truth0\\Screenshot from 2025-03-31 10-28-06_0.tif is a low contrast image\n",
      "  return func(*args, **kwargs)\n",
      "c:\\Users\\bnort\\miniconda3\\envs\\microsam_cellpose\\Lib\\site-packages\\skimage\\_shared\\utils.py:328: UserWarning: D:\\images\\tnia-python-images\\imagesc\\2025_04_07_cellpose_not_precise_dense\\annotations\\class_0\\Screenshot from 2025-03-31 10-28-06.tif is a low contrast image\n",
      "  return func(*args, **kwargs)\n",
      "c:\\Users\\bnort\\miniconda3\\envs\\microsam_cellpose\\Lib\\site-packages\\skimage\\_shared\\utils.py:328: UserWarning: D:\\images\\tnia-python-images\\imagesc\\2025_04_07_cellpose_not_precise_dense\\predictions\\class_0\\Screenshot from 2025-03-31 10-28-06.tif is a low contrast image\n",
      "  return func(*args, **kwargs)\n"
     ]
    },
    {
     "name": "stdout",
     "output_type": "stream",
     "text": [
      "Deleted file: D:\\images\\tnia-python-images\\imagesc\\2025_04_07_cellpose_not_precise_dense\\labels\\input0\\Screenshot from 2025-03-31 10-28-06_0.json\n",
      "Deleted file: D:\\images\\tnia-python-images\\imagesc\\2025_04_07_cellpose_not_precise_dense\\labels\\input0\\Screenshot from 2025-03-31 10-28-06_0.tif\n",
      "Deleted file: D:\\images\\tnia-python-images\\imagesc\\2025_04_07_cellpose_not_precise_dense\\labels\\input0\\Screenshot from 2025-03-31 10-28-06_0_hist.png\n",
      "Deleted file: D:\\images\\tnia-python-images\\imagesc\\2025_04_07_cellpose_not_precise_dense\\labels\\ground truth0\\Screenshot from 2025-03-31 10-28-06_0.tif\n",
      "image file is  D:\\images\\tnia-python-images\\imagesc\\2025_04_07_cellpose_not_precise_dense\\Screenshot from 2025-03-31 10-28-06.png\n",
      "labelsum is  45487\n",
      "(395, 456) (395, 456)\n",
      "Screenshot from 2025-03-31 10-28-06_0\n",
      "D:\\images\\tnia-python-images\\imagesc\\2025_04_07_cellpose_not_precise_dense\\labels\\input0/Screenshot from 2025-03-31 10-28-06_0.tif\n",
      "D:\\images\\tnia-python-images\\imagesc\\2025_04_07_cellpose_not_precise_dense\\labels\\ground truth0/Screenshot from 2025-03-31 10-28-06_0.tif\n",
      "D:\\images\\tnia-python-images\\imagesc\\2025_04_07_cellpose_not_precise_dense\\labels\\input0/Screenshot from 2025-03-31 10-28-06_0.tif\n",
      "D:\\images\\tnia-python-images\\imagesc\\2025_04_07_cellpose_not_precise_dense\\labels\\ground truth0\n"
     ]
    },
    {
     "name": "stderr",
     "output_type": "stream",
     "text": [
      "c:\\Users\\bnort\\miniconda3\\envs\\microsam_cellpose\\Lib\\site-packages\\skimage\\_shared\\utils.py:328: UserWarning: D:\\images\\tnia-python-images\\imagesc\\2025_04_07_cellpose_not_precise_dense\\labels\\ground truth0\\Screenshot from 2025-03-31 10-28-06_0.tif is a low contrast image\n",
      "  return func(*args, **kwargs)\n",
      "c:\\Users\\bnort\\miniconda3\\envs\\microsam_cellpose\\Lib\\site-packages\\skimage\\_shared\\utils.py:328: UserWarning: D:\\images\\tnia-python-images\\imagesc\\2025_04_07_cellpose_not_precise_dense\\annotations\\class_0\\Screenshot from 2025-03-31 10-28-06.tif is a low contrast image\n",
      "  return func(*args, **kwargs)\n",
      "c:\\Users\\bnort\\miniconda3\\envs\\microsam_cellpose\\Lib\\site-packages\\skimage\\_shared\\utils.py:328: UserWarning: D:\\images\\tnia-python-images\\imagesc\\2025_04_07_cellpose_not_precise_dense\\predictions\\class_0\\Screenshot from 2025-03-31 10-28-06.tif is a low contrast image\n",
      "  return func(*args, **kwargs)\n"
     ]
    },
    {
     "name": "stdout",
     "output_type": "stream",
     "text": [
      "Deleted file: D:\\images\\tnia-python-images\\imagesc\\2025_04_07_cellpose_not_precise_dense\\labels\\input0\\Screenshot from 2025-03-31 10-28-06_0.json\n",
      "Deleted file: D:\\images\\tnia-python-images\\imagesc\\2025_04_07_cellpose_not_precise_dense\\labels\\input0\\Screenshot from 2025-03-31 10-28-06_0.tif\n",
      "Deleted file: D:\\images\\tnia-python-images\\imagesc\\2025_04_07_cellpose_not_precise_dense\\labels\\input0\\Screenshot from 2025-03-31 10-28-06_0_hist.png\n",
      "Deleted file: D:\\images\\tnia-python-images\\imagesc\\2025_04_07_cellpose_not_precise_dense\\labels\\ground truth0\\Screenshot from 2025-03-31 10-28-06_0.tif\n",
      "image file is  D:\\images\\tnia-python-images\\imagesc\\2025_04_07_cellpose_not_precise_dense\\Screenshot from 2025-03-31 10-28-06.png\n",
      "labelsum is  45953\n",
      "(395, 456) (395, 456)\n",
      "Screenshot from 2025-03-31 10-28-06_0\n",
      "D:\\images\\tnia-python-images\\imagesc\\2025_04_07_cellpose_not_precise_dense\\labels\\input0/Screenshot from 2025-03-31 10-28-06_0.tif\n",
      "D:\\images\\tnia-python-images\\imagesc\\2025_04_07_cellpose_not_precise_dense\\labels\\ground truth0/Screenshot from 2025-03-31 10-28-06_0.tif\n",
      "D:\\images\\tnia-python-images\\imagesc\\2025_04_07_cellpose_not_precise_dense\\labels\\input0/Screenshot from 2025-03-31 10-28-06_0.tif\n",
      "D:\\images\\tnia-python-images\\imagesc\\2025_04_07_cellpose_not_precise_dense\\labels\\ground truth0\n"
     ]
    },
    {
     "name": "stderr",
     "output_type": "stream",
     "text": [
      "c:\\Users\\bnort\\miniconda3\\envs\\microsam_cellpose\\Lib\\site-packages\\skimage\\_shared\\utils.py:328: UserWarning: D:\\images\\tnia-python-images\\imagesc\\2025_04_07_cellpose_not_precise_dense\\labels\\ground truth0\\Screenshot from 2025-03-31 10-28-06_0.tif is a low contrast image\n",
      "  return func(*args, **kwargs)\n",
      "c:\\Users\\bnort\\miniconda3\\envs\\microsam_cellpose\\Lib\\site-packages\\skimage\\_shared\\utils.py:328: UserWarning: D:\\images\\tnia-python-images\\imagesc\\2025_04_07_cellpose_not_precise_dense\\annotations\\class_0\\Screenshot from 2025-03-31 10-28-06.tif is a low contrast image\n",
      "  return func(*args, **kwargs)\n",
      "c:\\Users\\bnort\\miniconda3\\envs\\microsam_cellpose\\Lib\\site-packages\\skimage\\_shared\\utils.py:328: UserWarning: D:\\images\\tnia-python-images\\imagesc\\2025_04_07_cellpose_not_precise_dense\\predictions\\class_0\\Screenshot from 2025-03-31 10-28-06.tif is a low contrast image\n",
      "  return func(*args, **kwargs)\n"
     ]
    },
    {
     "name": "stdout",
     "output_type": "stream",
     "text": [
      "Deleted file: D:\\images\\tnia-python-images\\imagesc\\2025_04_07_cellpose_not_precise_dense\\labels\\input0\\Screenshot from 2025-03-31 10-28-06_0.json\n",
      "Deleted file: D:\\images\\tnia-python-images\\imagesc\\2025_04_07_cellpose_not_precise_dense\\labels\\input0\\Screenshot from 2025-03-31 10-28-06_0.tif\n",
      "Deleted file: D:\\images\\tnia-python-images\\imagesc\\2025_04_07_cellpose_not_precise_dense\\labels\\input0\\Screenshot from 2025-03-31 10-28-06_0_hist.png\n",
      "Deleted file: D:\\images\\tnia-python-images\\imagesc\\2025_04_07_cellpose_not_precise_dense\\labels\\ground truth0\\Screenshot from 2025-03-31 10-28-06_0.tif\n",
      "image file is  D:\\images\\tnia-python-images\\imagesc\\2025_04_07_cellpose_not_precise_dense\\Screenshot from 2025-03-31 10-28-06.png\n",
      "labelsum is  46635\n",
      "(395, 456) (395, 456)\n",
      "Screenshot from 2025-03-31 10-28-06_0\n",
      "D:\\images\\tnia-python-images\\imagesc\\2025_04_07_cellpose_not_precise_dense\\labels\\input0/Screenshot from 2025-03-31 10-28-06_0.tif\n",
      "D:\\images\\tnia-python-images\\imagesc\\2025_04_07_cellpose_not_precise_dense\\labels\\ground truth0/Screenshot from 2025-03-31 10-28-06_0.tif\n",
      "D:\\images\\tnia-python-images\\imagesc\\2025_04_07_cellpose_not_precise_dense\\labels\\input0/Screenshot from 2025-03-31 10-28-06_0.tif\n",
      "D:\\images\\tnia-python-images\\imagesc\\2025_04_07_cellpose_not_precise_dense\\labels\\ground truth0\n"
     ]
    },
    {
     "name": "stderr",
     "output_type": "stream",
     "text": [
      "c:\\Users\\bnort\\miniconda3\\envs\\microsam_cellpose\\Lib\\site-packages\\skimage\\_shared\\utils.py:328: UserWarning: D:\\images\\tnia-python-images\\imagesc\\2025_04_07_cellpose_not_precise_dense\\labels\\ground truth0\\Screenshot from 2025-03-31 10-28-06_0.tif is a low contrast image\n",
      "  return func(*args, **kwargs)\n",
      "c:\\Users\\bnort\\miniconda3\\envs\\microsam_cellpose\\Lib\\site-packages\\skimage\\_shared\\utils.py:328: UserWarning: D:\\images\\tnia-python-images\\imagesc\\2025_04_07_cellpose_not_precise_dense\\annotations\\class_0\\Screenshot from 2025-03-31 10-28-06.tif is a low contrast image\n",
      "  return func(*args, **kwargs)\n",
      "c:\\Users\\bnort\\miniconda3\\envs\\microsam_cellpose\\Lib\\site-packages\\skimage\\_shared\\utils.py:328: UserWarning: D:\\images\\tnia-python-images\\imagesc\\2025_04_07_cellpose_not_precise_dense\\predictions\\class_0\\Screenshot from 2025-03-31 10-28-06.tif is a low contrast image\n",
      "  return func(*args, **kwargs)\n"
     ]
    },
    {
     "name": "stdout",
     "output_type": "stream",
     "text": [
      "Deleted file: D:\\images\\tnia-python-images\\imagesc\\2025_04_07_cellpose_not_precise_dense\\labels\\input0\\Screenshot from 2025-03-31 10-28-06_0.json\n",
      "Deleted file: D:\\images\\tnia-python-images\\imagesc\\2025_04_07_cellpose_not_precise_dense\\labels\\input0\\Screenshot from 2025-03-31 10-28-06_0.tif\n",
      "Deleted file: D:\\images\\tnia-python-images\\imagesc\\2025_04_07_cellpose_not_precise_dense\\labels\\input0\\Screenshot from 2025-03-31 10-28-06_0_hist.png\n",
      "Deleted file: D:\\images\\tnia-python-images\\imagesc\\2025_04_07_cellpose_not_precise_dense\\labels\\ground truth0\\Screenshot from 2025-03-31 10-28-06_0.tif\n",
      "image file is  D:\\images\\tnia-python-images\\imagesc\\2025_04_07_cellpose_not_precise_dense\\Screenshot from 2025-03-31 10-28-06.png\n",
      "labelsum is  46882\n",
      "(395, 456) (395, 456)\n",
      "Screenshot from 2025-03-31 10-28-06_0\n",
      "D:\\images\\tnia-python-images\\imagesc\\2025_04_07_cellpose_not_precise_dense\\labels\\input0/Screenshot from 2025-03-31 10-28-06_0.tif\n",
      "D:\\images\\tnia-python-images\\imagesc\\2025_04_07_cellpose_not_precise_dense\\labels\\ground truth0/Screenshot from 2025-03-31 10-28-06_0.tif\n",
      "D:\\images\\tnia-python-images\\imagesc\\2025_04_07_cellpose_not_precise_dense\\labels\\input0/Screenshot from 2025-03-31 10-28-06_0.tif\n",
      "D:\\images\\tnia-python-images\\imagesc\\2025_04_07_cellpose_not_precise_dense\\labels\\ground truth0\n"
     ]
    },
    {
     "name": "stderr",
     "output_type": "stream",
     "text": [
      "c:\\Users\\bnort\\miniconda3\\envs\\microsam_cellpose\\Lib\\site-packages\\skimage\\_shared\\utils.py:328: UserWarning: D:\\images\\tnia-python-images\\imagesc\\2025_04_07_cellpose_not_precise_dense\\labels\\ground truth0\\Screenshot from 2025-03-31 10-28-06_0.tif is a low contrast image\n",
      "  return func(*args, **kwargs)\n",
      "c:\\Users\\bnort\\miniconda3\\envs\\microsam_cellpose\\Lib\\site-packages\\skimage\\_shared\\utils.py:328: UserWarning: D:\\images\\tnia-python-images\\imagesc\\2025_04_07_cellpose_not_precise_dense\\annotations\\class_0\\Screenshot from 2025-03-31 10-28-06.tif is a low contrast image\n",
      "  return func(*args, **kwargs)\n",
      "c:\\Users\\bnort\\miniconda3\\envs\\microsam_cellpose\\Lib\\site-packages\\skimage\\_shared\\utils.py:328: UserWarning: D:\\images\\tnia-python-images\\imagesc\\2025_04_07_cellpose_not_precise_dense\\predictions\\class_0\\Screenshot from 2025-03-31 10-28-06.tif is a low contrast image\n",
      "  return func(*args, **kwargs)\n"
     ]
    },
    {
     "name": "stdout",
     "output_type": "stream",
     "text": [
      "Deleted file: D:\\images\\tnia-python-images\\imagesc\\2025_04_07_cellpose_not_precise_dense\\labels\\input0\\Screenshot from 2025-03-31 10-28-06_0.json\n",
      "Deleted file: D:\\images\\tnia-python-images\\imagesc\\2025_04_07_cellpose_not_precise_dense\\labels\\input0\\Screenshot from 2025-03-31 10-28-06_0.tif\n",
      "Deleted file: D:\\images\\tnia-python-images\\imagesc\\2025_04_07_cellpose_not_precise_dense\\labels\\input0\\Screenshot from 2025-03-31 10-28-06_0_hist.png\n",
      "Deleted file: D:\\images\\tnia-python-images\\imagesc\\2025_04_07_cellpose_not_precise_dense\\labels\\ground truth0\\Screenshot from 2025-03-31 10-28-06_0.tif\n",
      "image file is  D:\\images\\tnia-python-images\\imagesc\\2025_04_07_cellpose_not_precise_dense\\Screenshot from 2025-03-31 10-28-06.png\n",
      "labelsum is  46882\n",
      "(395, 456) (395, 456)\n",
      "Screenshot from 2025-03-31 10-28-06_0\n",
      "D:\\images\\tnia-python-images\\imagesc\\2025_04_07_cellpose_not_precise_dense\\labels\\input0/Screenshot from 2025-03-31 10-28-06_0.tif\n",
      "D:\\images\\tnia-python-images\\imagesc\\2025_04_07_cellpose_not_precise_dense\\labels\\ground truth0/Screenshot from 2025-03-31 10-28-06_0.tif\n",
      "D:\\images\\tnia-python-images\\imagesc\\2025_04_07_cellpose_not_precise_dense\\labels\\input0/Screenshot from 2025-03-31 10-28-06_0.tif\n",
      "D:\\images\\tnia-python-images\\imagesc\\2025_04_07_cellpose_not_precise_dense\\labels\\ground truth0\n"
     ]
    },
    {
     "name": "stderr",
     "output_type": "stream",
     "text": [
      "c:\\Users\\bnort\\miniconda3\\envs\\microsam_cellpose\\Lib\\site-packages\\skimage\\_shared\\utils.py:328: UserWarning: D:\\images\\tnia-python-images\\imagesc\\2025_04_07_cellpose_not_precise_dense\\labels\\ground truth0\\Screenshot from 2025-03-31 10-28-06_0.tif is a low contrast image\n",
      "  return func(*args, **kwargs)\n",
      "c:\\Users\\bnort\\miniconda3\\envs\\microsam_cellpose\\Lib\\site-packages\\skimage\\_shared\\utils.py:328: UserWarning: D:\\images\\tnia-python-images\\imagesc\\2025_04_07_cellpose_not_precise_dense\\annotations\\class_0\\Screenshot from 2025-03-31 10-28-06.tif is a low contrast image\n",
      "  return func(*args, **kwargs)\n",
      "c:\\Users\\bnort\\miniconda3\\envs\\microsam_cellpose\\Lib\\site-packages\\skimage\\_shared\\utils.py:328: UserWarning: D:\\images\\tnia-python-images\\imagesc\\2025_04_07_cellpose_not_precise_dense\\predictions\\class_0\\Screenshot from 2025-03-31 10-28-06.tif is a low contrast image\n",
      "  return func(*args, **kwargs)\n"
     ]
    }
   ],
   "source": [
    "viewer = napari.Viewer()\n",
    "\n",
    "batch_dl = easy_augment_batch_dl.NapariEasyAugmentBatchDL(viewer)\n",
    "\n",
    "viewer.window.add_dock_widget(\n",
    "    batch_dl\n",
    ")\n",
    "\n",
    "parent_path = r'D:\\images\\tnia-python-images\\imagesc\\2025_04_07_cellpose_not_precise_dense'\n",
    "#parent_path = r'D:\\images\\tnia-python-images\\imagesc\\2024_10_11_tough_cellpose_2'\n",
    "batch_dl.load_image_directory(parent_path)"
   ]
  },
  {
   "cell_type": "code",
   "execution_count": 3,
   "metadata": {},
   "outputs": [
    {
     "data": {
      "text/plain": [
       "'1.26.4'"
      ]
     },
     "execution_count": 3,
     "metadata": {},
     "output_type": "execute_result"
    }
   ],
   "source": [
    "import numpy\n",
    "numpy.__version__"
   ]
  },
  {
   "cell_type": "code",
   "execution_count": 6,
   "metadata": {},
   "outputs": [
    {
     "data": {
      "text/plain": [
       "'3.1.0'"
      ]
     },
     "execution_count": 6,
     "metadata": {},
     "output_type": "execute_result"
    }
   ],
   "source": [
    "import cellpose\n",
    "\n",
    "cellpose.version"
   ]
  },
  {
   "cell_type": "code",
   "execution_count": 7,
   "metadata": {},
   "outputs": [
    {
     "data": {
      "text/plain": [
       "'1.4.0'"
      ]
     },
     "execution_count": 7,
     "metadata": {},
     "output_type": "execute_result"
    }
   ],
   "source": [
    "import micro_sam\n",
    "micro_sam.__version__"
   ]
  },
  {
   "cell_type": "code",
   "execution_count": null,
   "metadata": {},
   "outputs": [],
   "source": []
  }
 ],
 "metadata": {
  "kernelspec": {
   "display_name": "microsam_cellpose",
   "language": "python",
   "name": "python3"
  },
  "language_info": {
   "codemirror_mode": {
    "name": "ipython",
    "version": 3
   },
   "file_extension": ".py",
   "mimetype": "text/x-python",
   "name": "python",
   "nbconvert_exporter": "python",
   "pygments_lexer": "ipython3",
   "version": "3.11.11"
  }
 },
 "nbformat": 4,
 "nbformat_minor": 2
}
