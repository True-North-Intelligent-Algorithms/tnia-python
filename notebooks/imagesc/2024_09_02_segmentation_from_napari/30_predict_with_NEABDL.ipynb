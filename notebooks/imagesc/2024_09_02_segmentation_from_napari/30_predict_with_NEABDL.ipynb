{
 "cells": [
  {
   "cell_type": "code",
   "execution_count": 11,
   "metadata": {},
   "outputs": [],
   "source": [
    "import napari\n",
    "import os\n",
    "from napari_easy_augment_batch_dl import easy_augment_batch_dl\n",
    "from cellpose import models, io\n",
    "from napari_easy_augment_batch_dl.deep_learning_project import DLModel"
   ]
  },
  {
   "cell_type": "code",
   "execution_count": 18,
   "metadata": {},
   "outputs": [
    {
     "name": "stdout",
     "output_type": "stream",
     "text": [
      "2024-09-11 10:03:24,532 [INFO] ** TORCH CUDA version installed and working. **\n",
      "2024-09-11 10:03:24,533 [INFO] >>>> using GPU\n",
      "2024-09-11 10:03:24,534 [INFO] >> cyto3 << model set to be used\n",
      "2024-09-11 10:03:24,642 [INFO] >>>> loading model C:\\Users\\bnort\\.cellpose\\models\\cyto3\n",
      "2024-09-11 10:03:24,735 [INFO] >>>> model diam_mean =  30.000 (ROIs rescaled to this size during training)\n",
      "creating new log file\n",
      "2024-09-11 10:03:30,148 [INFO] WRITING LOG OUTPUT TO C:\\Users\\bnort\\.cellpose\\run.log\n",
      "2024-09-11 10:03:30,149 [INFO] \n",
      "cellpose version: \t3.0.9 \n",
      "platform:       \twin32 \n",
      "python version: \t3.10.14 \n",
      "torch version:  \t2.2.2+cu118\n"
     ]
    },
    {
     "name": "stdout",
     "output_type": "stream",
     "text": [
      "in the update\n",
      "2024-09-11 10:03:41,648 [INFO] channels set to [0, 1]\n",
      "2024-09-11 10:03:41,649 [INFO] ~~~ FINDING MASKS ~~~\n",
      "2024-09-11 10:03:42,735 [INFO] >>>> TOTAL TIME 1.09 sec\n",
      "in the update\n",
      "2024-09-11 10:03:58,376 [INFO] channels set to [0, 1]\n",
      "2024-09-11 10:03:58,377 [INFO] ~~~ FINDING MASKS ~~~\n",
      "2024-09-11 10:03:59,630 [INFO] >>>> TOTAL TIME 1.25 sec\n",
      "in the update\n",
      "2024-09-11 10:18:21,231 [INFO] channels set to [0, 1]\n",
      "2024-09-11 10:18:21,233 [INFO] ~~~ FINDING MASKS ~~~\n",
      "2024-09-11 10:18:22,356 [INFO] >>>> TOTAL TIME 1.13 sec\n",
      "in the update\n",
      "2024-09-11 10:18:39,342 [INFO] channels set to [0, 1]\n",
      "2024-09-11 10:18:39,343 [INFO] ~~~ FINDING MASKS ~~~\n",
      "2024-09-11 10:18:40,319 [INFO] >>>> TOTAL TIME 0.98 sec\n"
     ]
    }
   ],
   "source": [
    "from napari_easy_augment_batch_dl import easy_augment_batch_dl\n",
    "\n",
    "viewer = napari.Viewer()\n",
    "\n",
    "batch_dl = easy_augment_batch_dl.NapariEasyAugmentBatchDL(viewer, label_only = False)\n",
    "\n",
    "viewer.window.add_dock_widget(\n",
    "    batch_dl\n",
    ")\n",
    "_\n",
    "parent_path =r'D:\\images\\tnia-python-images\\imagesc\\2024_09_10_hela_tracking\\test\\01' \n",
    "\n",
    "\n",
    "mod = models.Cellpose(gpu=True, model_type=\"cyto3\")\n",
    "\n",
    "batch_dl.load_image_directory(parent_path)\n",
    "\n",
    "\n",
    "# try loading the model (at the beginning it may not exist yet, so don't worry if it fails)\n",
    "try:\n",
    "    batch_dl.deep_learning_project.set_pretrained_model(mod, DLModel.CELLPOSE)\n",
    "    batch_dl.network_architecture_drop_down.setCurrentText(DLModel.CELLPOSE)\n",
    "except:\n",
    "    print('No model found')\n"
   ]
  },
  {
   "cell_type": "code",
   "execution_count": 9,
   "metadata": {},
   "outputs": [
    {
     "data": {
      "text/plain": [
       "True"
      ]
     },
     "execution_count": 9,
     "metadata": {},
     "output_type": "execute_result"
    }
   ],
   "source": [
    "from cellpose.models import Cellpose\n",
    "type(mod)==Cellpose"
   ]
  },
  {
   "cell_type": "code",
   "execution_count": null,
   "metadata": {},
   "outputs": [],
   "source": []
  }
 ],
 "metadata": {
  "kernelspec": {
   "display_name": "pytorch_and_SAM3",
   "language": "python",
   "name": "python3"
  },
  "language_info": {
   "codemirror_mode": {
    "name": "ipython",
    "version": 3
   },
   "file_extension": ".py",
   "mimetype": "text/x-python",
   "name": "python",
   "nbconvert_exporter": "python",
   "pygments_lexer": "ipython3",
   "version": "3.10.14"
  }
 },
 "nbformat": 4,
 "nbformat_minor": 2
}
