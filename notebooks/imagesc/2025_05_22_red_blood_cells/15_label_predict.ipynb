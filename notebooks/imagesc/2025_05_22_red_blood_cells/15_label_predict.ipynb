{
 "cells": [
  {
   "cell_type": "markdown",
   "metadata": {},
   "source": [
    "## Use Napari-Easy-Augment-Batch-DL to load and label images\n",
    "\n",
    "This notebook starts up Napari-Easy-Augment-Batch-DL and points it to our project directory.  At the beginning of a project this directory is simply the location of our collection of images.  \n",
    "\n"
   ]
  },
  {
   "cell_type": "markdown",
   "metadata": {},
   "source": [
    "## Import and check versions"
   ]
  },
  {
   "cell_type": "code",
   "execution_count": 1,
   "metadata": {},
   "outputs": [
    {
     "name": "stderr",
     "output_type": "stream",
     "text": [
      "c:\\Users\\bnort\\miniconda3\\envs\\microsam_cellpose\\Lib\\site-packages\\tqdm\\auto.py:21: TqdmWarning: IProgress not found. Please update jupyter and ipywidgets. See https://ipywidgets.readthedocs.io/en/stable/user_install.html\n",
      "  from .autonotebook import tqdm as notebook_tqdm\n",
      "c:\\Users\\bnort\\miniconda3\\envs\\microsam_cellpose\\Lib\\site-packages\\albumentations\\__init__.py:28: UserWarning: A new version of Albumentations is available: '2.0.8' (you have '2.0.5'). Upgrade using: pip install -U albumentations. To disable automatic update checks, set the environment variable NO_ALBUMENTATIONS_UPDATE to 1.\n",
      "  check_for_updates()\n",
      "c:\\Users\\bnort\\miniconda3\\envs\\microsam_cellpose\\Lib\\site-packages\\timm\\models\\layers\\__init__.py:48: FutureWarning: Importing from timm.models.layers is deprecated, please import via timm.layers\n",
      "  warnings.warn(f\"Importing from {__name__} is deprecated, please import via timm.layers\", FutureWarning)\n",
      "c:\\Users\\bnort\\miniconda3\\envs\\microsam_cellpose\\Lib\\site-packages\\timm\\models\\registry.py:4: FutureWarning: Importing from timm.models.registry is deprecated, please import via timm.models\n",
      "  warnings.warn(f\"Importing from {__name__} is deprecated, please import via timm.models\", FutureWarning)\n"
     ]
    },
    {
     "name": "stdout",
     "output_type": "stream",
     "text": [
      "napari version 0.5.6\n",
      "numpy version 1.26.4\n",
      "stardist not installed No module named 'stardist'\n"
     ]
    },
    {
     "name": "stderr",
     "output_type": "stream",
     "text": [
      "C:\\Users\\bnort\\work\\ImageJ2022\\tnia\\segment-everything\\src\\segment_everything\\vendored\\efficientvit\\models\\nn\\ops.py:407: FutureWarning: `torch.cuda.amp.autocast(args...)` is deprecated. Please use `torch.amp.autocast('cuda', args...)` instead.\n",
      "  @autocast(enabled=False)\n"
     ]
    }
   ],
   "source": [
    "import napari\n",
    "import numpy as np\n",
    "from napari_easy_augment_batch_dl.easy_augment_batch_dl import NapariEasyAugmentBatchDL, EasyAugmentMode\n",
    "import os\n",
    "# for trouble shooting print the napari and numpy version. This can give us clues if there are dependency issues\n",
    "print('napari version', napari.__version__)\n",
    "print('numpy version', np.__version__)\n",
    "\n",
    "try:\n",
    "    import stardist\n",
    "    print('stardist version', stardist.__version__)\n",
    "except Exception as e:\n",
    "    print('stardist not installed', e)\n",
    "#from napari_easy_augment_batch_dl.frameworks.cellpose_instance_framework import CellPoseInstanceFramework\n",
    "\n",
    "\n"
   ]
  },
  {
   "cell_type": "markdown",
   "metadata": {},
   "source": [
    "## Start Napari and Easy Augment Batch DL\n",
    "\n",
    "Start Napari, show Easy-Augment-Batch-DL and show the parent directory. "
   ]
  },
  {
   "cell_type": "code",
   "execution_count": null,
   "metadata": {},
   "outputs": [
    {
     "name": "stdout",
     "output_type": "stream",
     "text": [
      "VIT checkpoint loaded successfully\n",
      "Found framework CellPoseInstanceFramework\n",
      "2025-05-29 16:40:19,007 [INFO] WRITING LOG OUTPUT TO C:\\Users\\bnort\\.cellpose\\run.log\n",
      "2025-05-29 16:40:19,008 [INFO] \n",
      "cellpose version: \t3.1.0 \n",
      "platform:       \twin32 \n",
      "python version: \t3.11.11 \n",
      "torch version:  \t2.6.0\n",
      "Found framework PytorchSemanticFramework\n",
      "Found framework MobileSAMFramework\n",
      "Found framework YoloSAMFramework\n",
      "Found framework RandomForestFramework\n",
      "D:\\images\\tnia-python-images\\imagesc\\2025_05_22_Blood_Cells_neurips\\cell_00145.png\n",
      "D:\\images\\tnia-python-images\\imagesc\\2025_05_22_Blood_Cells_neurips\\cell_00146.png\n",
      "D:\\images\\tnia-python-images\\imagesc\\2025_05_22_Blood_Cells_neurips\\cell_00147.png\n",
      "D:\\images\\tnia-python-images\\imagesc\\2025_05_22_Blood_Cells_neurips\\cell_00148.png\n",
      "D:\\images\\tnia-python-images\\imagesc\\2025_05_22_Blood_Cells_neurips\\cell_00149.png\n",
      "D:\\images\\tnia-python-images\\imagesc\\2025_05_22_Blood_Cells_neurips\\cell_00150.png\n",
      "D:\\images\\tnia-python-images\\imagesc\\2025_05_22_Blood_Cells_neurips\\cell_00151.png\n",
      "D:\\images\\tnia-python-images\\imagesc\\2025_05_22_Blood_Cells_neurips\\cell_00152.png\n",
      "D:\\images\\tnia-python-images\\imagesc\\2025_05_22_Blood_Cells_neurips\\cell_00153.png\n",
      "D:\\images\\tnia-python-images\\imagesc\\2025_05_22_Blood_Cells_neurips\\cell_00154.png\n",
      "D:\\images\\tnia-python-images\\imagesc\\2025_05_22_Blood_Cells_neurips\\cell_00155.png\n",
      "D:\\images\\tnia-python-images\\imagesc\\2025_05_22_Blood_Cells_neurips\\cell_00156.png\n",
      "D:\\images\\tnia-python-images\\imagesc\\2025_05_22_Blood_Cells_neurips\\cell_00157.png\n",
      "D:\\images\\tnia-python-images\\imagesc\\2025_05_22_Blood_Cells_neurips\\cell_00158.png\n",
      "D:\\images\\tnia-python-images\\imagesc\\2025_05_22_Blood_Cells_neurips\\cell_00159.png\n",
      "D:\\images\\tnia-python-images\\imagesc\\2025_05_22_Blood_Cells_neurips\\cell_00160.png\n",
      "D:\\images\\tnia-python-images\\imagesc\\2025_05_22_Blood_Cells_neurips\\cell_00161.png\n",
      "D:\\images\\tnia-python-images\\imagesc\\2025_05_22_Blood_Cells_neurips\\cell_00162.png\n",
      "D:\\images\\tnia-python-images\\imagesc\\2025_05_22_Blood_Cells_neurips\\cell_00163.png\n",
      "D:\\images\\tnia-python-images\\imagesc\\2025_05_22_Blood_Cells_neurips\\cell_00164.png\n",
      "D:\\images\\tnia-python-images\\imagesc\\2025_05_22_Blood_Cells_neurips\\cell_00165.png\n",
      "D:\\images\\tnia-python-images\\imagesc\\2025_05_22_Blood_Cells_neurips\\cell_00166.png\n",
      "D:\\images\\tnia-python-images\\imagesc\\2025_05_22_Blood_Cells_neurips\\cell_00167.png\n",
      "D:\\images\\tnia-python-images\\imagesc\\2025_05_22_Blood_Cells_neurips\\cell_00168.png\n",
      "D:\\images\\tnia-python-images\\imagesc\\2025_05_22_Blood_Cells_neurips\\cell_00169.png\n",
      "D:\\images\\tnia-python-images\\imagesc\\2025_05_22_Blood_Cells_neurips\\cell_00170.png\n",
      "D:\\images\\tnia-python-images\\imagesc\\2025_05_22_Blood_Cells_neurips\\cell_00171.png\n",
      "D:\\images\\tnia-python-images\\imagesc\\2025_05_22_Blood_Cells_neurips\\cell_00172.png\n",
      "D:\\images\\tnia-python-images\\imagesc\\2025_05_22_Blood_Cells_neurips\\cell_00173.png\n",
      "D:\\images\\tnia-python-images\\imagesc\\2025_05_22_Blood_Cells_neurips\\cell_00174.png\n",
      "D:\\images\\tnia-python-images\\imagesc\\2025_05_22_Blood_Cells_neurips\\cell_00175.png\n",
      "D:\\images\\tnia-python-images\\imagesc\\2025_05_22_Blood_Cells_neurips\\cell_00176.png\n",
      "D:\\images\\tnia-python-images\\imagesc\\2025_05_22_Blood_Cells_neurips\\cell_00177.png\n",
      "D:\\images\\tnia-python-images\\imagesc\\2025_05_22_Blood_Cells_neurips\\cell_00178.png\n",
      "D:\\images\\tnia-python-images\\imagesc\\2025_05_22_Blood_Cells_neurips\\cell_00179.png\n",
      "D:\\images\\tnia-python-images\\imagesc\\2025_05_22_Blood_Cells_neurips\\cell_00180.png\n",
      "D:\\images\\tnia-python-images\\imagesc\\2025_05_22_Blood_Cells_neurips\\cell_00181.png\n",
      "D:\\images\\tnia-python-images\\imagesc\\2025_05_22_Blood_Cells_neurips\\cell_00182.png\n",
      "D:\\images\\tnia-python-images\\imagesc\\2025_05_22_Blood_Cells_neurips\\cell_00183.png\n",
      "D:\\images\\tnia-python-images\\imagesc\\2025_05_22_Blood_Cells_neurips\\cell_00184.png\n",
      "D:\\images\\tnia-python-images\\imagesc\\2025_05_22_Blood_Cells_neurips\\cell_00185.png\n",
      "D:\\images\\tnia-python-images\\imagesc\\2025_05_22_Blood_Cells_neurips\\cell_00186.png\n",
      "D:\\images\\tnia-python-images\\imagesc\\2025_05_22_Blood_Cells_neurips\\cell_00187.png\n",
      "D:\\images\\tnia-python-images\\imagesc\\2025_05_22_Blood_Cells_neurips\\cell_00188.png\n",
      "D:\\images\\tnia-python-images\\imagesc\\2025_05_22_Blood_Cells_neurips\\cell_00189.png\n",
      "D:\\images\\tnia-python-images\\imagesc\\2025_05_22_Blood_Cells_neurips\\cell_00190.png\n",
      "D:\\images\\tnia-python-images\\imagesc\\2025_05_22_Blood_Cells_neurips\\cell_00191.png\n",
      "D:\\images\\tnia-python-images\\imagesc\\2025_05_22_Blood_Cells_neurips\\cell_00192.png\n",
      "D:\\images\\tnia-python-images\\imagesc\\2025_05_22_Blood_Cells_neurips\\cell_00193.png\n",
      "D:\\images\\tnia-python-images\\imagesc\\2025_05_22_Blood_Cells_neurips\\cell_00194.png\n",
      "D:\\images\\tnia-python-images\\imagesc\\2025_05_22_Blood_Cells_neurips\\cell_00195.png\n",
      "D:\\images\\tnia-python-images\\imagesc\\2025_05_22_Blood_Cells_neurips\\cell_00196.png\n",
      "D:\\images\\tnia-python-images\\imagesc\\2025_05_22_Blood_Cells_neurips\\cell_00197.png\n",
      "D:\\images\\tnia-python-images\\imagesc\\2025_05_22_Blood_Cells_neurips\\cell_00198.png\n",
      "D:\\images\\tnia-python-images\\imagesc\\2025_05_22_Blood_Cells_neurips\\cell_00199.png\n",
      "D:\\images\\tnia-python-images\\imagesc\\2025_05_22_Blood_Cells_neurips\\cell_00200.png\n",
      "D:\\images\\tnia-python-images\\imagesc\\2025_05_22_Blood_Cells_neurips\\cell_00201.png\n",
      "D:\\images\\tnia-python-images\\imagesc\\2025_05_22_Blood_Cells_neurips\\cell_00202.png\n",
      "D:\\images\\tnia-python-images\\imagesc\\2025_05_22_Blood_Cells_neurips\\cell_00203.png\n",
      "D:\\images\\tnia-python-images\\imagesc\\2025_05_22_Blood_Cells_neurips\\cell_00204.png\n",
      "D:\\images\\tnia-python-images\\imagesc\\2025_05_22_Blood_Cells_neurips\\cell_00205.png\n",
      "D:\\images\\tnia-python-images\\imagesc\\2025_05_22_Blood_Cells_neurips\\cell_00206.png\n",
      "D:\\images\\tnia-python-images\\imagesc\\2025_05_22_Blood_Cells_neurips\\cell_00207.png\n",
      "D:\\images\\tnia-python-images\\imagesc\\2025_05_22_Blood_Cells_neurips\\cell_00208.png\n",
      "D:\\images\\tnia-python-images\\imagesc\\2025_05_22_Blood_Cells_neurips\\cell_00209.png\n",
      "D:\\images\\tnia-python-images\\imagesc\\2025_05_22_Blood_Cells_neurips\\cell_00210.png\n",
      "D:\\images\\tnia-python-images\\imagesc\\2025_05_22_Blood_Cells_neurips\\cell_00211.png\n",
      "D:\\images\\tnia-python-images\\imagesc\\2025_05_22_Blood_Cells_neurips\\cell_00212.png\n",
      "D:\\images\\tnia-python-images\\imagesc\\2025_05_22_Blood_Cells_neurips\\cell_00213.png\n",
      "D:\\images\\tnia-python-images\\imagesc\\2025_05_22_Blood_Cells_neurips\\cell_00214.png\n",
      "D:\\images\\tnia-python-images\\imagesc\\2025_05_22_Blood_Cells_neurips\\cell_00215.png\n",
      "D:\\images\\tnia-python-images\\imagesc\\2025_05_22_Blood_Cells_neurips\\cell_00216.png\n",
      "D:\\images\\tnia-python-images\\imagesc\\2025_05_22_Blood_Cells_neurips\\cell_00217.png\n",
      "D:\\images\\tnia-python-images\\imagesc\\2025_05_22_Blood_Cells_neurips\\cell_00218.png\n",
      "D:\\images\\tnia-python-images\\imagesc\\2025_05_22_Blood_Cells_neurips\\cell_00219.png\n",
      "D:\\images\\tnia-python-images\\imagesc\\2025_05_22_Blood_Cells_neurips\\cell_00220.png\n",
      "D:\\images\\tnia-python-images\\imagesc\\2025_05_22_Blood_Cells_neurips\\cell_00221.png\n",
      "D:\\images\\tnia-python-images\\imagesc\\2025_05_22_Blood_Cells_neurips\\cell_00222.png\n",
      "D:\\images\\tnia-python-images\\imagesc\\2025_05_22_Blood_Cells_neurips\\cell_00223.png\n",
      "D:\\images\\tnia-python-images\\imagesc\\2025_05_22_Blood_Cells_neurips\\cell_00224.png\n",
      "D:\\images\\tnia-python-images\\imagesc\\2025_05_22_Blood_Cells_neurips\\cell_00225.png\n",
      "D:\\images\\tnia-python-images\\imagesc\\2025_05_22_Blood_Cells_neurips\\cell_00226.png\n",
      "D:\\images\\tnia-python-images\\imagesc\\2025_05_22_Blood_Cells_neurips\\cell_00227.png\n",
      "D:\\images\\tnia-python-images\\imagesc\\2025_05_22_Blood_Cells_neurips\\cell_00228.png\n",
      "D:\\images\\tnia-python-images\\imagesc\\2025_05_22_Blood_Cells_neurips\\cell_00229.png\n",
      "D:\\images\\tnia-python-images\\imagesc\\2025_05_22_Blood_Cells_neurips\\cell_00230.png\n",
      "Created new Zarr store.\n",
      "Created new Zarr store.\n",
      "Adding object boxes layer\n",
      "Adding predicted object boxes layer\n",
      "Adding label boxes\n",
      "Adding object boxes\n",
      "Adding predicted object boxes\n",
      "Setting object box classes\n",
      "Setting predicted object box classes\n"
     ]
    },
    {
     "data": {
      "text/plain": [
       "\"\\nmodel_path = os.path.join(parent_path, 'models')\\nmodel_name = None\\n\\nif model_name is not None:\\n    # set the drop down to the CellPoseInstanceFramework\\n    batch_dl.network_architecture_drop_down.setCurrentText(CellPoseInstanceFramework.descriptor)\\n\\n    # get the cellpose widget\\n    widget = batch_dl.deep_learning_widgets[CellPoseInstanceFramework.descriptor]\\n\\n    # load model\\n    widget.load_model_from_path(os.path.join(model_path, model_name))\\n\\n    # get the framework object\\n    framework = batch_dl.deep_learning_project.frameworks[CellPoseInstanceFramework.descriptor]\\n\\n    # set the parameters for the cellpose framework\\n    framework.prob_thresh = -2\\n    framework.flow_thresh = 0.4\\n    framework.chan_segment = 0 \\n    framework.chan2 = 0\\n\\n    # sync parameters on the widget after this we should see the widget in Napari synced with the parameters we set on the framework\\n    widget.sync_with_framework()\\n\""
      ]
     },
     "execution_count": 2,
     "metadata": {},
     "output_type": "execute_result"
    },
    {
     "name": "stdout",
     "output_type": "stream",
     "text": [
      "2025-05-29 16:43:27,617 [INFO] >> cyto3 << model set to be used\n",
      "2025-05-29 16:43:27,621 [INFO] ** TORCH CUDA version installed and working. **\n",
      "2025-05-29 16:43:27,622 [INFO] >>>> using GPU (CUDA)\n",
      "2025-05-29 16:43:27,791 [INFO] >>>> loading model C:\\Users\\bnort\\.cellpose\\models\\cyto3\n",
      "2025-05-29 16:43:28,166 [INFO] >>>> model diam_mean =  30.000 (ROIs rescaled to this size during training)\n"
     ]
    }
   ],
   "source": [
    "viewer = napari.Viewer()\n",
    "\n",
    "batch_dl = NapariEasyAugmentBatchDL(viewer, mode=EasyAugmentMode.DL_PIXEL_ONLY)\n",
    "\n",
    "viewer.window.add_dock_widget(\n",
    "    batch_dl\n",
    ")\n",
    "\n",
    "parent_path = r'D:\\images\\tnia-python-images\\imagesc\\2025_05_22_Blood_Cells_neurips'\n",
    "batch_dl.load_image_directory(parent_path)\n",
    "\n",
    "'''\n",
    "model_path = os.path.join(parent_path, 'models')\n",
    "model_name = None\n",
    "\n",
    "if model_name is not None:\n",
    "    # set the drop down to the CellPoseInstanceFramework\n",
    "    batch_dl.network_architecture_drop_down.setCurrentText(CellPoseInstanceFramework.descriptor)\n",
    "    \n",
    "    # get the cellpose widget\n",
    "    widget = batch_dl.deep_learning_widgets[CellPoseInstanceFramework.descriptor]\n",
    "    \n",
    "    # load model\n",
    "    widget.load_model_from_path(os.path.join(model_path, model_name))\n",
    "\n",
    "    # get the framework object\n",
    "    framework = batch_dl.deep_learning_project.frameworks[CellPoseInstanceFramework.descriptor]\n",
    "\n",
    "    # set the parameters for the cellpose framework\n",
    "    framework.prob_thresh = -2\n",
    "    framework.flow_thresh = 0.4\n",
    "    framework.chan_segment = 0 \n",
    "    framework.chan2 = 0\n",
    "\n",
    "    # sync parameters on the widget after this we should see the widget in Napari synced with the parameters we set on the framework\n",
    "    widget.sync_with_framework()\n",
    "'''"
   ]
  },
  {
   "cell_type": "code",
   "execution_count": 3,
   "metadata": {},
   "outputs": [
    {
     "data": {
      "text/plain": [
       "'1.26.4'"
      ]
     },
     "execution_count": 3,
     "metadata": {},
     "output_type": "execute_result"
    }
   ],
   "source": [
    "import numpy\n",
    "numpy.__version__"
   ]
  },
  {
   "cell_type": "code",
   "execution_count": 6,
   "metadata": {},
   "outputs": [
    {
     "data": {
      "text/plain": [
       "'3.1.0'"
      ]
     },
     "execution_count": 6,
     "metadata": {},
     "output_type": "execute_result"
    }
   ],
   "source": [
    "import cellpose\n",
    "\n",
    "cellpose.version"
   ]
  },
  {
   "cell_type": "code",
   "execution_count": 7,
   "metadata": {},
   "outputs": [
    {
     "data": {
      "text/plain": [
       "'1.4.0'"
      ]
     },
     "execution_count": 7,
     "metadata": {},
     "output_type": "execute_result"
    }
   ],
   "source": [
    "import micro_sam\n",
    "micro_sam.__version__"
   ]
  },
  {
   "cell_type": "code",
   "execution_count": null,
   "metadata": {},
   "outputs": [],
   "source": []
  }
 ],
 "metadata": {
  "kernelspec": {
   "display_name": "microsam_cellpose",
   "language": "python",
   "name": "python3"
  },
  "language_info": {
   "codemirror_mode": {
    "name": "ipython",
    "version": 3
   },
   "file_extension": ".py",
   "mimetype": "text/x-python",
   "name": "python",
   "nbconvert_exporter": "python",
   "pygments_lexer": "ipython3",
   "version": "3.11.11"
  }
 },
 "nbformat": 4,
 "nbformat_minor": 2
}
