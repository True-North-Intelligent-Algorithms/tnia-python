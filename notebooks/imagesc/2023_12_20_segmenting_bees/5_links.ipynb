{
 "cells": [
  {
   "cell_type": "markdown",
   "metadata": {},
   "source": [
    "## image.sc question\n",
    "\n",
    "Go to image.sc search for 'how to count bees'\n",
    "\n",
    "Or direct link https://forum.image.sc/t/how-to-count-bees-pattern-recognition-and-segmentation/90115"
   ]
  },
  {
   "cell_type": "markdown",
   "metadata": {},
   "source": [
    "## Videos\n",
    "\n",
    "Video 1 : https://www.youtube.com/watch?v=4WJVCbfXDXU&t=5ss  \n",
    "Video 2 : https://youtu.be/dhBqUJpAPE8"
   ]
  },
  {
   "cell_type": "markdown",
   "metadata": {},
   "source": [
    "## Code"
   ]
  },
  {
   "cell_type": "markdown",
   "metadata": {},
   "source": [
    "Segmenting bee notebooks https://github.com/True-North-Intelligent-Algorithms/tnia-python/tree/main/notebooks/imagesc/2023_12_20_segmenting_bees"
   ]
  },
  {
   "cell_type": "markdown",
   "metadata": {},
   "source": [
    "## Models\n",
    "\n"
   ]
  },
  {
   "cell_type": "markdown",
   "metadata": {},
   "source": [
    "Pretrained models for bees can be found [here](https://www.dropbox.com/scl/fo/zwttmwj6t596mcsgl7q5q/AK37tv3aeBUM3u5ZDx8D-EI?rlkey=w7c8rh1pych0fqsxks2kpdzr6&st=y183e4pq&dl=0)\n",
    "\n",
    "```model_uber``` is the best so far. "
   ]
  },
  {
   "cell_type": "markdown",
   "metadata": {},
   "source": []
  }
 ],
 "metadata": {
  "kernelspec": {
   "display_name": "dresden-decon-test1",
   "language": "python",
   "name": "python3"
  },
  "language_info": {
   "codemirror_mode": {
    "name": "ipython",
    "version": 3
   },
   "file_extension": ".py",
   "mimetype": "text/x-python",
   "name": "python",
   "nbconvert_exporter": "python",
   "pygments_lexer": "ipython3",
   "version": "3.9.16"
  }
 },
 "nbformat": 4,
 "nbformat_minor": 2
}
