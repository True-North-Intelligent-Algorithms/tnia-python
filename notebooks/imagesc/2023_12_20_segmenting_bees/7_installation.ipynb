{
 "cells": [
  {
   "cell_type": "markdown",
   "metadata": {},
   "source": [
    "## Setup conda/mamba bee segmentation environment \n",
    "\n",
    "(if using mamba which is often much faster replace ```conda``` calls with ```mamba```)\n",
    "\n",
    "```\n",
    "conda create --name segment_bees python=3.9\n",
    "conda activate segment_bees\n",
    "conda install pip\n",
    "pip install ipykernel\n",
    "conda install -c conda-forge cudatoolkit=11.2 cudnn=8.1.0\n",
    "pip install \"tensorflow<2.11\"\n",
    "pip install stardist==0.8.5\n",
    "pip install gputools\n",
    "pip install edt\n",
    "pip install raster_geometry\n",
    "pip install \"napari[all]\"\n",
    "pip install opencv-python\n",
    "git clone https://github.com/True-North-Intelligent-Algorithms/tnia-python\n",
    "(go to tnia-python directory)\n",
    "pip install .\n",
    "```"
   ]
  }
 ],
 "metadata": {
  "language_info": {
   "name": "python"
  }
 },
 "nbformat": 4,
 "nbformat_minor": 2
}
