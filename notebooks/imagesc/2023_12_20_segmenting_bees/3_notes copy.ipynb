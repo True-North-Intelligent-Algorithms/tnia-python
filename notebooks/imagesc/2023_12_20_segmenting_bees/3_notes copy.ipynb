{
 "cells": [
  {
   "cell_type": "markdown",
   "metadata": {},
   "source": [
    "## Bee Segmentation (Round 2)\n",
    "\n",
    "### Retraining when a new image is available\n",
    "\n",
    "An interesting 'small data' example\n",
    "\n",
    "## 1. Specialist AI vs Generalist AI\n",
    "\n",
    "### Generalist AI (SAM, some Cellpose models) \n",
    "* trained on different types of data\n",
    "* IE many types of cells, many types of natural images, everything\n",
    "* may require cloud computing to train\n",
    "* long training time (days)\n",
    "\n",
    "### Specialist AI (Bees)\n",
    "* trained for one type of image\n",
    "* in this case very similar b image\n",
    "* may be trained with low number of images\n",
    "* shorter training time (hour)\n",
    "* Augmentation is useful\n",
    "* Can be trained on Gaming PCs, office Workstations\n",
    "\n",
    "### 2. Fine Tuning vs Train from scratch \n",
    "\n",
    "### Fine Tuning\n",
    "\n",
    "* ussually means take a generalist model and train it further with specialized set\n",
    "\n",
    "### Train from scratch\n",
    "* Just train a new model (done in this example)"
   ]
  },
  {
   "cell_type": "markdown",
   "metadata": {},
   "source": [
    "## 2. Test, Validation, Self-predicition\n",
    "\n",
    "### Test/Unseen prediciton\n",
    "\n",
    "Result of testing model on an image that the AI engineer and the model has never seen before\n",
    "\n",
    "### Validation/Tuned prediciton\n",
    "\n",
    "Result of running model on an image that the AI engineer has seen but the model has not\n",
    "\n",
    "### Self-Prediciton\n",
    "\n",
    "Result of running model on an image that the model has seen. "
   ]
  },
  {
   "cell_type": "markdown",
   "metadata": {},
   "source": []
  }
 ],
 "metadata": {
  "language_info": {
   "name": "python"
  }
 },
 "nbformat": 4,
 "nbformat_minor": 2
}
