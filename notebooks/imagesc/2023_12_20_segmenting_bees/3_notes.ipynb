{
 "cells": [
  {
   "cell_type": "markdown",
   "metadata": {},
   "source": [
    "## Bee Segmentation (Round 2)\n",
    "\n",
    "### How to retrain when a new image is available\n",
    "\n",
    "### Augmentation\n",
    "\n"
   ]
  },
  {
   "cell_type": "markdown",
   "metadata": {},
   "source": [
    "## Test, Validation, Self-prediction\n",
    "\n",
    "### Test/Unseen prediction\n",
    "\n",
    "Result of testing model on an image that the AI engineer and the model has never seen before\n",
    "\n",
    "### Validation/Tuned prediction\n",
    "\n",
    "Result of running model on an image that the AI engineer has seen but the model has not\n",
    "\n",
    "### Self-Prediction\n",
    "\n",
    "Result of running model on an image that the model has seen. "
   ]
  },
  {
   "cell_type": "markdown",
   "metadata": {},
   "source": []
  }
 ],
 "metadata": {
  "language_info": {
   "name": "python"
  }
 },
 "nbformat": 4,
 "nbformat_minor": 2
}
