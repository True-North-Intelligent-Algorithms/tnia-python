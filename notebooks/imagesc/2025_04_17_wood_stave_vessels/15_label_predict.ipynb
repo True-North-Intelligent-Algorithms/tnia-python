{
 "cells": [
  {
   "cell_type": "markdown",
   "metadata": {},
   "source": [
    "## Use Napari-Easy-Augment-Batch-DL to load and label images\n",
    "\n",
    "This notebook starts up Napari-Easy-Augment-Batch-DL and points it to our project directory.  At the beginning of a project this directory is simply the location of our collection of images.  \n",
    "\n"
   ]
  },
  {
   "cell_type": "markdown",
   "metadata": {},
   "source": [
    "## Import and check versions"
   ]
  },
  {
   "cell_type": "code",
   "execution_count": 1,
   "metadata": {},
   "outputs": [
    {
     "name": "stdout",
     "output_type": "stream",
     "text": [
      "raster_geometry not imported.  This is only needed for the ellipsoid rendering in apply_stardist\n",
      "No module named 'segment_everything'\n",
      "napari version 0.5.4\n",
      "numpy version 1.26.0\n",
      "stardist version 0.8.5\n"
     ]
    }
   ],
   "source": [
    "import napari\n",
    "import numpy as np\n",
    "from napari_easy_augment_batch_dl.easy_augment_batch_dl import NapariEasyAugmentBatchDL, EasyAugmentMode\n",
    "import os\n",
    "# for trouble shooting print the napari and numpy version. This can give us clues if there are dependency issues\n",
    "print('napari version', napari.__version__)\n",
    "print('numpy version', np.__version__)\n",
    "\n",
    "try:\n",
    "    import stardist\n",
    "    print('stardist version', stardist.__version__)\n",
    "except Exception as e:\n",
    "    print('stardist not installed', e)\n",
    "#from napari_easy_augment_batch_dl.frameworks.cellpose_instance_framework import CellPoseInstanceFramework\n",
    "\n",
    "\n"
   ]
  },
  {
   "cell_type": "markdown",
   "metadata": {},
   "source": [
    "## Start Napari and Easy Augment Batch DL\n",
    "\n",
    "Start Napari, show Easy-Augment-Batch-DL and show the parent directory. "
   ]
  },
  {
   "cell_type": "code",
   "execution_count": 2,
   "metadata": {},
   "outputs": [
    {
     "name": "stdout",
     "output_type": "stream",
     "text": [
      "CellPoseInstanceFramework not loaded\n",
      "PytorchSemanticFramework not loaded\n",
      "No module named 'segment_everything'\n",
      "Found framework StardistInstanceFramework\n",
      "Zarr store already up-to-date.\n",
      "Zarr store already up-to-date.\n",
      "Error creating ml_labels: 'Random Forest Model'\n",
      "Random Forest ML may not work properly\n",
      "Adding object boxes layer\n",
      "Adding predicted object boxes layer\n",
      "Adding label boxes\n",
      "Data changed\n",
      "Data changed\n",
      "Adding object boxes\n",
      "Adding predicted object boxes\n",
      "Setting object box classes\n",
      "Setting predicted object box classes\n"
     ]
    }
   ],
   "source": [
    "viewer = napari.Viewer()\n",
    "\n",
    "batch_dl = NapariEasyAugmentBatchDL(viewer, mode=EasyAugmentMode.DL_PIXEL_ONLY)\n",
    "\n",
    "viewer.window.add_dock_widget(\n",
    "    batch_dl\n",
    ")\n",
    "\n",
    "parent_path = r'D:\\images\\tnia-python-images\\imagesc\\2025_04_17_wood_stave_vessels'\n",
    "batch_dl.load_image_directory(parent_path)\n",
    "\n",
    "model_path = os.path.join(parent_path, 'models')\n",
    "model_name = None\n",
    "\n",
    "if model_name is not None:\n",
    "    # set the drop down to the CellPoseInstanceFramework\n",
    "    batch_dl.network_architecture_drop_down.setCurrentText(CellPoseInstanceFramework.descriptor)\n",
    "    \n",
    "    # get the cellpose widget\n",
    "    widget = batch_dl.deep_learning_widgets[CellPoseInstanceFramework.descriptor]\n",
    "    \n",
    "    # load model\n",
    "    widget.load_model_from_path(os.path.join(model_path, model_name))\n",
    "\n",
    "    # get the framework object\n",
    "    framework = batch_dl.deep_learning_project.frameworks[CellPoseInstanceFramework.descriptor]\n",
    "\n",
    "    # set the parameters for the cellpose framework\n",
    "    framework.prob_thresh = -2\n",
    "    framework.flow_thresh = 0.4\n",
    "    framework.chan_segment = 0 \n",
    "    framework.chan2 = 0\n",
    "\n",
    "    # sync parameters on the widget after this we should see the widget in Napari synced with the parameters we set on the framework\n",
    "    widget.sync_with_framework()"
   ]
  },
  {
   "cell_type": "code",
   "execution_count": 3,
   "metadata": {},
   "outputs": [
    {
     "data": {
      "text/plain": [
       "'1.26.4'"
      ]
     },
     "execution_count": 3,
     "metadata": {},
     "output_type": "execute_result"
    }
   ],
   "source": [
    "import numpy\n",
    "numpy.__version__"
   ]
  },
  {
   "cell_type": "code",
   "execution_count": 6,
   "metadata": {},
   "outputs": [
    {
     "data": {
      "text/plain": [
       "'3.1.0'"
      ]
     },
     "execution_count": 6,
     "metadata": {},
     "output_type": "execute_result"
    }
   ],
   "source": [
    "import cellpose\n",
    "\n",
    "cellpose.version"
   ]
  },
  {
   "cell_type": "code",
   "execution_count": 7,
   "metadata": {},
   "outputs": [
    {
     "data": {
      "text/plain": [
       "'1.4.0'"
      ]
     },
     "execution_count": 7,
     "metadata": {},
     "output_type": "execute_result"
    }
   ],
   "source": [
    "import micro_sam\n",
    "micro_sam.__version__"
   ]
  },
  {
   "cell_type": "code",
   "execution_count": null,
   "metadata": {},
   "outputs": [],
   "source": []
  }
 ],
 "metadata": {
  "kernelspec": {
   "display_name": "stardist_napari_windows",
   "language": "python",
   "name": "python3"
  },
  "language_info": {
   "codemirror_mode": {
    "name": "ipython",
    "version": 3
   },
   "file_extension": ".py",
   "mimetype": "text/x-python",
   "name": "python",
   "nbconvert_exporter": "python",
   "pygments_lexer": "ipython3",
   "version": "3.10.17"
  }
 },
 "nbformat": 4,
 "nbformat_minor": 2
}
