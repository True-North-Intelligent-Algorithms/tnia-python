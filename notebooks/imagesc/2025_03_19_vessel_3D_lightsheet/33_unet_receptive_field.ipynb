{
 "cells": [
  {
   "cell_type": "markdown",
   "id": "58d0387b",
   "metadata": {},
   "source": [
    "## UNET Receptive Field via \"Point Spread Function\" measurment\n",
    "\n",
    "I first saw this idea in the stardist code.  An explanation and further references to the important parts of the stardist code can be found [here](https://github.com/True-North-Intelligent-Algorithms/notebooks-and-napari-widgets-for-dl/blob/main/docs/20_scale/10_stardist_receptive_field%202D.ipynb)\n",
    "\n",
    "The idea is to measure receptive field of UNET emprically by applying the untrained network to an image of a single point then looking at the extent in pixels of the 'non-zero' outputs.  It is a bit tricky because you have to be careful about bias terms.  "
   ]
  },
  {
   "cell_type": "code",
   "execution_count": 40,
   "id": "9105383f",
   "metadata": {},
   "outputs": [],
   "source": [
    "import torch\n",
    "from monai.networks.nets import UNet, BasicUNet\n",
    "import matplotlib.pyplot as plt\n",
    "from tnia.plotting.plt_helper import imshow_multi2d\n",
    "import numpy as np"
   ]
  },
  {
   "cell_type": "markdown",
   "id": "502974ae",
   "metadata": {},
   "source": [
    "## First we create some UNETs using Monai\n",
    "\n",
    "We try ```BasicUNet``` and then ```UNet``` with different numbers of layers."
   ]
  },
  {
   "cell_type": "code",
   "execution_count": 41,
   "id": "1e6697f6",
   "metadata": {},
   "outputs": [
    {
     "name": "stdout",
     "output_type": "stream",
     "text": [
      "BasicUNet features: (32, 32, 64, 128, 256, 32).\n"
     ]
    }
   ],
   "source": [
    "basic_unet = BasicUNet(\n",
    "    spatial_dims=2,\n",
    "    in_channels=1,\n",
    "    out_channels=1,\n",
    "    norm=None,\n",
    "    act=(\"LeakyReLU\", {\"negative_slope\": 0.01, \"inplace\": True}),\n",
    "    bias=False,\n",
    "    dropout=0.0,\n",
    ")\n",
    "\n",
    "net_4 = UNet(\n",
    "    spatial_dims=2,\n",
    "    in_channels=1,\n",
    "    out_channels=1,\n",
    "    channels=(32, 32, 64, 128, 256),  # NO FINAL 32 in main UNet (it's for output later)\n",
    "    strides=(2, 2, 2, 2),\n",
    "    num_res_units=0,  \n",
    "    act=(\"LeakyReLU\", {\"negative_slope\": 0.01, \"inplace\": True}),\n",
    "    #norm=\"batch\",\n",
    "    norm=None, #(\"batch\", {\"affine\": False, \"track_running_stats\": False}),\n",
    "    dropout=0.0,\n",
    "    bias= False,\n",
    ")\n",
    "\n",
    "\n",
    "net_5 = UNet(\n",
    "    spatial_dims=2,\n",
    "    in_channels=1,\n",
    "    out_channels=1,\n",
    "    channels=(32, 32, 64, 128, 256, 512),  # NO FINAL 32 in main UNet (it's for output later)\n",
    "    strides=(2, 2, 2, 2, 2),\n",
    "    num_res_units=0,  \n",
    "    act=(\"LeakyReLU\", {\"negative_slope\": 0.01, \"inplace\": True}),\n",
    "    #norm=\"batch\",\n",
    "    norm=None, #(\"batch\", {\"affine\": False, \"track_running_stats\": False}),\n",
    "    dropout=0.0,\n",
    "    bias= False,\n",
    ")\n",
    "\n",
    "net_6 = UNet(\n",
    "    spatial_dims=2,\n",
    "    in_channels=1,\n",
    "    out_channels=1,\n",
    "    channels=(32, 32, 64, 128, 256, 512, 1024),  # NO FINAL 32 in main UNet (it's for output later)\n",
    "    strides=(2, 2, 2, 2, 2,2),\n",
    "    num_res_units=0,  \n",
    "    act=(\"LeakyReLU\", {\"negative_slope\": 0.01, \"inplace\": True}),\n",
    "    #norm=\"batch\",\n",
    "    norm=None,\n",
    "    #norm=(\"batch\", {\"affine\": False, \"track_running_stats\": False}),\n",
    "    dropout=0.0,\n",
    "    bias= False,\n",
    ")\n",
    "\n"
   ]
  },
  {
   "cell_type": "markdown",
   "id": "8d6d9525",
   "metadata": {},
   "source": [
    "## Now create a point image\n",
    "\n",
    "We are going to use the point as input to the untrained networks.  This will show us how many pixels information from a single point propagates. "
   ]
  },
  {
   "cell_type": "code",
   "execution_count": 42,
   "id": "d01943c4",
   "metadata": {},
   "outputs": [
    {
     "data": {
      "text/plain": [
       "<matplotlib.image.AxesImage at 0x263007ddf50>"
      ]
     },
     "execution_count": 42,
     "metadata": {},
     "output_type": "execute_result"
    },
    {
     "data": {
      "image/png": "[encoded data removed]",
      "text/plain": [
       "<Figure size 640x480 with 1 Axes>"
      ]
     },
     "metadata": {},
     "output_type": "display_data"
    }
   ],
   "source": [
    "size = 512\n",
    "# Define image size\n",
    "height, width = size, size  # or any size you want\n",
    "\n",
    "# Create an empty image (all zeros)\n",
    "image = torch.zeros((height, width), dtype=torch.float32)\n",
    "\n",
    "# Set the center point to 1\n",
    "center_y, center_x = height // 2, width // 2\n",
    "image[center_y, center_x] = 1.\n",
    "\n",
    "plt.imshow(image)"
   ]
  },
  {
   "cell_type": "code",
   "execution_count": 43,
   "id": "26c434be",
   "metadata": {},
   "outputs": [],
   "source": [
    "basic_unet.eval()\n",
    "net_4.eval()\n",
    "net_5.eval()\n",
    "net_6.eval()\n",
    "\n",
    "with torch.no_grad():\n",
    "    out_basic = basic_unet(image.unsqueeze(0).unsqueeze(0))\n",
    "    out_4 = net_4(image.unsqueeze(0).unsqueeze(0))\n",
    "    out_5 = net_5(image.unsqueeze(0).unsqueeze(0))\n",
    "    out_6 = net_6(image.unsqueeze(0).unsqueeze(0))\n"
   ]
  },
  {
   "cell_type": "code",
   "execution_count": 56,
   "id": "438801b0",
   "metadata": {},
   "outputs": [
    {
     "data": {
      "image/png": "[encoded data removed]",
      "text/plain": [
       "<Figure size 1400x400 with 4 Axes>"
      ]
     },
     "metadata": {},
     "output_type": "display_data"
    }
   ],
   "source": [
    "outs = [out_basic, out_4, out_5, out_6]\n",
    "titles = ['BasicUNet', 'UNet 4', 'UNet 5', 'UNet 6']\n",
    "abs = [np.abs(out.squeeze().detach().numpy()) for out in outs]\n",
    "abs = [a-np.min(a) for a in abs]\n",
    "\n",
    "vmaxs = [np.min(out)+np.max(out)/10000000000 for out in abs]\n",
    "fig = imshow_multi2d(abs, titles, 1, len(abs), vmax=vmaxs, width = 14)"
   ]
  },
  {
   "cell_type": "markdown",
   "id": "3b605cec",
   "metadata": {},
   "source": [
    "## Let's check min and max of results "
   ]
  },
  {
   "cell_type": "code",
   "execution_count": 52,
   "id": "47ccd1b5",
   "metadata": {},
   "outputs": [
    {
     "data": {
      "text/plain": [
       "(0.0, 0.008250043, 0.0, 0.34225145)"
      ]
     },
     "execution_count": 52,
     "metadata": {},
     "output_type": "execute_result"
    }
   ],
   "source": [
    "abs[0].min(), abs[0].max(), abs[1].min(), abs[1].max()"
   ]
  },
  {
   "cell_type": "code",
   "execution_count": 23,
   "id": "e38ab294",
   "metadata": {},
   "outputs": [
    {
     "name": "stdout",
     "output_type": "stream",
     "text": [
      "model.0.conv.weight tensor(48.5596, grad_fn=<SumBackward0>)\n",
      "model.1.submodule.0.conv.weight tensor(273.3379, grad_fn=<SumBackward0>)\n",
      "model.1.submodule.1.submodule.0.conv.weight tensor(539.6789, grad_fn=<SumBackward0>)\n",
      "model.1.submodule.1.submodule.1.submodule.0.conv.weight tensor(1536.3944, grad_fn=<SumBackward0>)\n",
      "model.1.submodule.1.submodule.1.submodule.1.submodule.conv.weight tensor(4349.6426, grad_fn=<SumBackward0>)\n",
      "model.1.submodule.1.submodule.1.submodule.2.conv.weight tensor(4614.5205, grad_fn=<SumBackward0>)\n",
      "model.1.submodule.1.submodule.2.conv.weight tensor(1087.8169, grad_fn=<SumBackward0>)\n",
      "model.1.submodule.2.conv.weight tensor(543.5225, grad_fn=<SumBackward0>)\n",
      "model.2.conv.weight tensor(97.1102, grad_fn=<SumBackward0>)\n"
     ]
    }
   ],
   "source": [
    "for name, param in net_4.named_parameters():\n",
    "    print(name, torch.sum(torch.abs(param)))"
   ]
  },
  {
   "cell_type": "code",
   "execution_count": 22,
   "id": "be2f990e",
   "metadata": {},
   "outputs": [
    {
     "name": "stdout",
     "output_type": "stream",
     "text": [
      "conv_0.conv_0.conv.weight tensor(50.1743, grad_fn=<SumBackward0>)\n",
      "conv_0.conv_1.conv.weight tensor(273.6124, grad_fn=<SumBackward0>)\n",
      "down_1.convs.conv_0.conv.weight tensor(272.3649, grad_fn=<SumBackward0>)\n",
      "down_1.convs.conv_1.conv.weight tensor(271.6090, grad_fn=<SumBackward0>)\n",
      "down_2.convs.conv_0.conv.weight tensor(541.5311, grad_fn=<SumBackward0>)\n",
      "down_2.convs.conv_1.conv.weight tensor(766.3395, grad_fn=<SumBackward0>)\n",
      "down_3.convs.conv_0.conv.weight tensor(1535.4630, grad_fn=<SumBackward0>)\n",
      "down_3.convs.conv_1.conv.weight tensor(2169.4675, grad_fn=<SumBackward0>)\n",
      "down_4.convs.conv_0.conv.weight tensor(4343.9419, grad_fn=<SumBackward0>)\n",
      "down_4.convs.conv_1.conv.weight tensor(6140.5630, grad_fn=<SumBackward0>)\n",
      "upcat_4.upsample.deconv.weight tensor(2891.7864, grad_fn=<SumBackward0>)\n",
      "upcat_4.upsample.deconv.bias tensor(2.6397, grad_fn=<SumBackward0>)\n",
      "upcat_4.convs.conv_0.conv.weight tensor(3071.0486, grad_fn=<SumBackward0>)\n",
      "upcat_4.convs.conv_1.conv.weight tensor(2171.6082, grad_fn=<SumBackward0>)\n",
      "upcat_3.upsample.deconv.weight tensor(1020.2647, grad_fn=<SumBackward0>)\n",
      "upcat_3.upsample.deconv.bias tensor(1.9992, grad_fn=<SumBackward0>)\n",
      "upcat_3.convs.conv_0.conv.weight tensor(1087.7512, grad_fn=<SumBackward0>)\n",
      "upcat_3.convs.conv_1.conv.weight tensor(768.7866, grad_fn=<SumBackward0>)\n",
      "upcat_2.upsample.deconv.weight tensor(363.4235, grad_fn=<SumBackward0>)\n",
      "upcat_2.upsample.deconv.bias tensor(1.3654, grad_fn=<SumBackward0>)\n",
      "upcat_2.convs.conv_0.conv.weight tensor(385.2198, grad_fn=<SumBackward0>)\n",
      "upcat_2.convs.conv_1.conv.weight tensor(274.0626, grad_fn=<SumBackward0>)\n",
      "upcat_1.upsample.deconv.weight tensor(181.2967, grad_fn=<SumBackward0>)\n",
      "upcat_1.upsample.deconv.bias tensor(1.3765, grad_fn=<SumBackward0>)\n",
      "upcat_1.convs.conv_0.conv.weight tensor(381.8422, grad_fn=<SumBackward0>)\n",
      "upcat_1.convs.conv_1.conv.weight tensor(269.8542, grad_fn=<SumBackward0>)\n",
      "final_conv.weight tensor(2.5756, grad_fn=<SumBackward0>)\n",
      "final_conv.bias tensor(0.1342, grad_fn=<SumBackward0>)\n"
     ]
    }
   ],
   "source": [
    "for name, param in basic_unet.named_parameters():\n",
    "    print(name, torch.sum(torch.abs(param)))"
   ]
  },
  {
   "cell_type": "code",
   "execution_count": null,
   "id": "c0f898ec",
   "metadata": {},
   "outputs": [],
   "source": []
  }
 ],
 "metadata": {
  "kernelspec": {
   "display_name": "microsam_cellpose",
   "language": "python",
   "name": "python3"
  },
  "language_info": {
   "codemirror_mode": {
    "name": "ipython",
    "version": 3
   },
   "file_extension": ".py",
   "mimetype": "text/x-python",
   "name": "python",
   "nbconvert_exporter": "python",
   "pygments_lexer": "ipython3",
   "version": "3.11.11"
  }
 },
 "nbformat": 4,
 "nbformat_minor": 5
}
