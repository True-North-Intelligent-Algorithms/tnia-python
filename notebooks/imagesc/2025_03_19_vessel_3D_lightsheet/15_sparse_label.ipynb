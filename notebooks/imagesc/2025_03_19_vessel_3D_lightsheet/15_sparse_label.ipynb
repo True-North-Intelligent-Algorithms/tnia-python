{
 "cells": [
  {
   "cell_type": "markdown",
   "metadata": {},
   "source": [
    "## Use Napari-Easy-Augment-Batch-DL to load and label images\n",
    "\n",
    "This notebook starts up Napari-Easy-Augment-Batch-DL and points it to our project directory.  At the beginning of a project this directory is simply the location of our collection of images.  For the light sheet vessel example it will be the 2D slices we extracted and saved in the ```10_generate_training_slices``` notebook. \n",
    "\n",
    "For an overview of how ```napari-easy-augment-batch-dl``` is used to load and label images, and how data should be organized see [here](https://true-north-intelligent-algorithms.github.io/napari-easy-augment-batch-dl/load_and_label/).\n",
    "\n",
    "## Semantic Labeling vs Instance Labeling\n",
    "\n",
    "In this example we will use semantic labeling\n",
    "\n",
    "**Semantic Labeling** Each pixel is assigned a class (background, vessel, cell, brain barrier) but do not distinquish individual objects (instances).  In this example there will be four classes, so the maximum index used is 4. \n",
    "\n",
    "**Instance Labeling** In instance labeling each pixel belonging to an object is given a unique ID.  Thus the maximum index will correspond to the number of objects.  For example if there are 40 objects the max index will be 40, if there are 10000 objects the max index will be 10000.\n",
    "\n",
    "## Sparse Labeling vs Dense Labeling\n",
    "\n",
    "In this example we will use sparse labeling.  \n",
    "\n",
    "**Sparse Labeling**:  Not every pixel has to be labeled.  However some background needs to be labeled to differentiate between background pixels and unlabeled pixels.  For example if there were 2 foreground classes use label 1 for background, 2 for \"class 1\", and 3 for \"class 2\".  Unlabeled pixels (0) will be ignored. \n",
    "\n",
    "**Dense Labeling**:  Every foreground pixel needs to be labeled however background does not need to be labeled.  If there were 2 foreground classes, use 1 for \"class 1\", 2 for \"class 2\" and then the remaining pixels (0) will be treated as background. \n",
    "\n",
    "The below screenshot shows Napari-Easy-Augment-Batch open with Semantic labels (1 background, 2 barrier, 3 vessel, 4 cell) drawn. \n",
    "\n",
    "![Easy Augment Label Semantic](./screenshots/004_easy_augment_labelling.png)\n"
   ]
  },
  {
   "cell_type": "markdown",
   "metadata": {},
   "source": [
    "## Import and check versions"
   ]
  },
  {
   "cell_type": "code",
   "execution_count": null,
   "metadata": {},
   "outputs": [],
   "source": [
    "import napari\n",
    "import numpy as np\n",
    "from napari_easy_augment_batch_dl import easy_augment_batch_dl\n",
    "\n",
    "# for trouble shooting print the napari and numpy version. This can give us clues if there are dependency issues\n",
    "print('napari version', napari.__version__)\n",
    "print('numpy version', np.__version__)"
   ]
  },
  {
   "cell_type": "markdown",
   "metadata": {},
   "source": [
    "## Start Napari and Easy Augment Batch DL\n",
    "\n",
    "Start Napari, show Easy-Augment-Batch-DL and show the parent directory. "
   ]
  },
  {
   "cell_type": "code",
   "execution_count": null,
   "metadata": {},
   "outputs": [],
   "source": [
    "viewer = napari.Viewer()\n",
    "\n",
    "batch_dl = easy_augment_batch_dl.NapariEasyAugmentBatchDL(viewer)\n",
    "\n",
    "viewer.window.add_dock_widget(\n",
    "    batch_dl\n",
    ")\n",
    "\n",
    "parent_path = r'D:\\images\\tnia-python-images\\imagesc\\2025_03_28_vessel_3D_lightsheet'\n",
    "batch_dl.load_image_directory(parent_path)"
   ]
  },
  {
   "cell_type": "code",
   "execution_count": null,
   "metadata": {},
   "outputs": [],
   "source": []
  }
 ],
 "metadata": {
  "kernelspec": {
   "display_name": "easy_augment_pytorch_cellpose",
   "language": "python",
   "name": "python3"
  },
  "language_info": {
   "codemirror_mode": {
    "name": "ipython",
    "version": 3
   },
   "file_extension": ".py",
   "mimetype": "text/x-python",
   "name": "python",
   "nbconvert_exporter": "python",
   "pygments_lexer": "ipython3",
   "version": "3.11.11"
  }
 },
 "nbformat": 4,
 "nbformat_minor": 2
}
