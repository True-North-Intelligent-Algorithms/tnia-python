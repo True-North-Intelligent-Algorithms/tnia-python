{
 "cells": [
  {
   "cell_type": "markdown",
   "metadata": {},
   "source": [
    "## Visualize with Napari\n",
    "\n",
    "In this notebook we simply load the data and take a look at it in Napari. "
   ]
  },
  {
   "cell_type": "code",
   "execution_count": null,
   "metadata": {},
   "outputs": [],
   "source": [
    "import czifile\n",
    "import numpy as np\n",
    "import os\n",
    "import napari"
   ]
  },
  {
   "cell_type": "code",
   "execution_count": null,
   "metadata": {},
   "outputs": [],
   "source": [
    "parent_path = r'D:\\images\\tnia-python-images\\imagesc\\2025_03_19_vessel_3D_lightsheet'\n",
    "fname=os.path.join(parent_path,r'data/Test lightsheet.czi')\n",
    "image = czifile.imread(fname)\n",
    "image = np.squeeze(image)"
   ]
  },
  {
   "cell_type": "markdown",
   "metadata": {},
   "source": [
    "Load into Napari and optionally downsample to make visualization a little faster"
   ]
  },
  {
   "cell_type": "code",
   "execution_count": null,
   "metadata": {},
   "outputs": [],
   "source": [
    "ds= 2\n",
    "image_ds = image[:,::ds,::ds]\n",
    "\n",
    "viewer = napari.Viewer()\n",
    "\n",
    "viewer.add_image(image_ds, name='image_ds', scale = [5, ds*1.17, ds*1.17])\n"
   ]
  },
  {
   "cell_type": "code",
   "execution_count": null,
   "metadata": {},
   "outputs": [],
   "source": []
  }
 ],
 "metadata": {
  "kernelspec": {
   "display_name": "easy_augment_pytorch",
   "language": "python",
   "name": "python3"
  },
  "language_info": {
   "codemirror_mode": {
    "name": "ipython",
    "version": 3
   },
   "file_extension": ".py",
   "mimetype": "text/x-python",
   "name": "python",
   "nbconvert_exporter": "python",
   "pygments_lexer": "ipython3",
   "version": "3.12.9"
  }
 },
 "nbformat": 4,
 "nbformat_minor": 2
}
