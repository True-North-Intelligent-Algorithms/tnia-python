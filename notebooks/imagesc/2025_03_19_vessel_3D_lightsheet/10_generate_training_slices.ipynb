{
 "cells": [
  {
   "cell_type": "markdown",
   "metadata": {},
   "source": [
    "## Generate 2D slices for training\n",
    "\n",
    "The goal is to segment vessels from a large 3D light sheet image.  \n",
    "\n",
    "One approach is to train a 2D semantic segmentation model and apply it slice by slice. \n",
    "\n",
    "Since a lot of my code currently is designed for 2D sequences here we extract some 2D slices from the 3D image, and save them individually so we can re-use code from other examples and also train in [Napari-easy-augment-batch-dl](https://github.com/True-North-Intelligent-Algorithms/napari-easy-augment-batch-dl)\n",
    "\n",
    "Todo: better support for 3D in my notebooks and Napari plugin"
   ]
  },
  {
   "cell_type": "code",
   "execution_count": null,
   "metadata": {},
   "outputs": [],
   "source": [
    "import czifile\n",
    "import numpy as np\n",
    "import matplotlib.pyplot as plt\n",
    "from skimage.io import imsave\n",
    "import os"
   ]
  },
  {
   "cell_type": "markdown",
   "metadata": {},
   "source": [
    "## Create new project\n",
    "\n",
    "A new project starts as a empty directory\n",
    "\n",
    "![Empty Folder](./screenshots/001_empty_new_folder.png)"
   ]
  },
  {
   "cell_type": "code",
   "execution_count": null,
   "metadata": {},
   "outputs": [],
   "source": [
    "parent_path = r'D:\\images\\tnia-python-images\\imagesc'\n",
    "#parent_path = r'/home/bnorthan/images/tnia-python-images/imagesc'\n",
    "project_path = os.path.join(parent_path,r'2025_03_28_vessel_3D_lightsheet_erase_me')\n",
    "\n",
    "if not os.path.exists(project_path):\n",
    "    os.makedirs(project_path)"
   ]
  },
  {
   "cell_type": "markdown",
   "metadata": {},
   "source": [
    "## Read in input image"
   ]
  },
  {
   "cell_type": "code",
   "execution_count": null,
   "metadata": {},
   "outputs": [],
   "source": [
    "in_name=os.path.join(parent_path,r'2025_03_19_vessel_3D_lightsheet/data/Test lightsheet.czi')\n",
    "image = czifile.imread(in_name)"
   ]
  },
  {
   "cell_type": "markdown",
   "metadata": {},
   "source": [
    "## Get rid of trivial dimensions"
   ]
  },
  {
   "cell_type": "code",
   "execution_count": null,
   "metadata": {},
   "outputs": [],
   "source": [
    "print(image.shape)\n",
    "image = np.squeeze(image)\n",
    "print(image.shape)\n"
   ]
  },
  {
   "cell_type": "markdown",
   "metadata": {},
   "source": [
    "## Take a look at a slice"
   ]
  },
  {
   "cell_type": "code",
   "execution_count": null,
   "metadata": {},
   "outputs": [],
   "source": [
    "plt.imshow(image[200,:,:])"
   ]
  },
  {
   "cell_type": "markdown",
   "metadata": {},
   "source": [
    "## Utility to pad image index (for nice ordering)\n",
    "\n",
    "Define a utility function to zero pad the index (this is neeeded so the individual 2D files are ordered correctly on the file system)"
   ]
  },
  {
   "cell_type": "code",
   "execution_count": null,
   "metadata": {},
   "outputs": [],
   "source": [
    "def zero_pad(i, width=3):\n",
    "    return f\"{i:0{width}d}\""
   ]
  },
  {
   "cell_type": "markdown",
   "metadata": {},
   "source": [
    "## Output every 25th slice\n",
    "\n",
    "Write every nth slice to disk so we can train a model using Napari-easy-augment-batch-dl and related utilities (which are designed for 2D problems)"
   ]
  },
  {
   "cell_type": "code",
   "execution_count": null,
   "metadata": {},
   "outputs": [],
   "source": [
    "from tqdm import tqdm\n",
    "\n",
    "import warnings\n",
    "warnings.simplefilter(\"ignore\", UserWarning)\n",
    "\n",
    "for i in tqdm(range(0, image.shape[0], 25), desc='Saving images'):\n",
    "    image2d = image[i,:,:]\n",
    "    imame = f\"{project_path}/image_{zero_pad(i)}.tif\"\n",
    "    imsave(imame, image2d)"
   ]
  },
  {
   "cell_type": "markdown",
   "metadata": {},
   "source": [
    "Now we should have a folder full of training/validation images as shown below. \n",
    "\n",
    "![training/validation iamges](./screenshots/002_folder_with_images.png)"
   ]
  },
  {
   "cell_type": "code",
   "execution_count": null,
   "metadata": {},
   "outputs": [],
   "source": []
  }
 ],
 "metadata": {
  "kernelspec": {
   "display_name": "easy_augment_pytorch",
   "language": "python",
   "name": "python3"
  },
  "language_info": {
   "codemirror_mode": {
    "name": "ipython",
    "version": 3
   },
   "file_extension": ".py",
   "mimetype": "text/x-python",
   "name": "python",
   "nbconvert_exporter": "python",
   "pygments_lexer": "ipython3",
   "version": "3.12.9"
  }
 },
 "nbformat": 4,
 "nbformat_minor": 2
}
