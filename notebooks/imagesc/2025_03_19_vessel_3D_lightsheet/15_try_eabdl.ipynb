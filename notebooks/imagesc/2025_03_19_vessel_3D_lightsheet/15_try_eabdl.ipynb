{
 "cells": [
  {
   "cell_type": "code",
   "execution_count": 4,
   "metadata": {},
   "outputs": [],
   "source": [
    "import napari\n",
    "\n",
    "from napari_easy_augment_batch_dl import easy_augment_batch_dl"
   ]
  },
  {
   "cell_type": "code",
   "execution_count": 5,
   "metadata": {},
   "outputs": [
    {
     "name": "stdout",
     "output_type": "stream",
     "text": [
      "VIT checkpoint loaded successfully\n"
     ]
    },
    {
     "data": {
      "text/plain": [
       "<napari._qt.widgets.qt_viewer_dock_widget.QtViewerDockWidget at 0x19f8f8ff400>"
      ]
     },
     "execution_count": 5,
     "metadata": {},
     "output_type": "execute_result"
    }
   ],
   "source": [
    "viewer = napari.Viewer()\n",
    "\n",
    "batch_dl = easy_augment_batch_dl.NapariEasyAugmentBatchDL(viewer)\n",
    "\n",
    "viewer.window.add_dock_widget(\n",
    "    batch_dl\n",
    ")"
   ]
  },
  {
   "cell_type": "code",
   "execution_count": 6,
   "metadata": {},
   "outputs": [
    {
     "name": "stdout",
     "output_type": "stream",
     "text": [
      "Found framework CellPoseInstanceFramework\n",
      "creating new log file\n",
      "2025-03-19 20:00:55,274 [INFO] WRITING LOG OUTPUT TO C:\\Users\\bnort\\.cellpose\\run.log\n",
      "2025-03-19 20:00:55,275 [INFO] \n",
      "cellpose version: \t3.1.0 \n",
      "platform:       \twin32 \n",
      "python version: \t3.10.14 \n",
      "torch version:  \t2.2.2+cu118\n",
      "Found framework PytorchSemanticFramework\n",
      "Found framework MobileSAMFramework\n",
      "Found framework YoloSAMFramework\n",
      "Found framework RandomForestFramework\n",
      "D:\\images\\tnia-python-images\\imagesc\\2025_03_19_vessel_3D_lightsheet\\image_000.tif\n",
      "D:\\images\\tnia-python-images\\imagesc\\2025_03_19_vessel_3D_lightsheet\\image_025.tif\n",
      "D:\\images\\tnia-python-images\\imagesc\\2025_03_19_vessel_3D_lightsheet\\image_050.tif\n",
      "D:\\images\\tnia-python-images\\imagesc\\2025_03_19_vessel_3D_lightsheet\\image_075.tif\n",
      "D:\\images\\tnia-python-images\\imagesc\\2025_03_19_vessel_3D_lightsheet\\image_100.tif\n",
      "D:\\images\\tnia-python-images\\imagesc\\2025_03_19_vessel_3D_lightsheet\\image_125.tif\n",
      "D:\\images\\tnia-python-images\\imagesc\\2025_03_19_vessel_3D_lightsheet\\image_150.tif\n",
      "D:\\images\\tnia-python-images\\imagesc\\2025_03_19_vessel_3D_lightsheet\\image_175.tif\n",
      "D:\\images\\tnia-python-images\\imagesc\\2025_03_19_vessel_3D_lightsheet\\image_200.tif\n",
      "D:\\images\\tnia-python-images\\imagesc\\2025_03_19_vessel_3D_lightsheet\\image_225.tif\n",
      "D:\\images\\tnia-python-images\\imagesc\\2025_03_19_vessel_3D_lightsheet\\image_250.tif\n",
      "D:\\images\\tnia-python-images\\imagesc\\2025_03_19_vessel_3D_lightsheet\\image_275.tif\n",
      "D:\\images\\tnia-python-images\\imagesc\\2025_03_19_vessel_3D_lightsheet\\image_300.tif\n",
      "D:\\images\\tnia-python-images\\imagesc\\2025_03_19_vessel_3D_lightsheet\\image_325.tif\n",
      "D:\\images\\tnia-python-images\\imagesc\\2025_03_19_vessel_3D_lightsheet\\image_350.tif\n",
      "D:\\images\\tnia-python-images\\imagesc\\2025_03_19_vessel_3D_lightsheet\\image_375.tif\n",
      "Created new Zarr store.\n",
      "Created new Zarr store.\n",
      "Adding object boxes layer\n",
      "Adding predicted object boxes layer\n",
      "Adding label boxes\n",
      "Adding object boxes\n",
      "Adding predicted object boxes\n",
      "Setting object box classes\n",
      "Setting predicted object box classes\n"
     ]
    }
   ],
   "source": [
    "from pathlib import Path\n",
    "\n",
    "parent_path = r'D:\\images\\tnia-python-images\\imagesc\\2025_03_19_vessel_3D_lightsheet'\n",
    "\n",
    "batch_dl.load_image_directory(parent_path)"
   ]
  },
  {
   "cell_type": "code",
   "execution_count": null,
   "metadata": {},
   "outputs": [],
   "source": []
  }
 ],
 "metadata": {
  "kernelspec": {
   "display_name": "pytorch_and_SAM3",
   "language": "python",
   "name": "python3"
  },
  "language_info": {
   "codemirror_mode": {
    "name": "ipython",
    "version": 3
   },
   "file_extension": ".py",
   "mimetype": "text/x-python",
   "name": "python",
   "nbconvert_exporter": "python",
   "pygments_lexer": "ipython3",
   "version": "3.10.14"
  }
 },
 "nbformat": 4,
 "nbformat_minor": 2
}
