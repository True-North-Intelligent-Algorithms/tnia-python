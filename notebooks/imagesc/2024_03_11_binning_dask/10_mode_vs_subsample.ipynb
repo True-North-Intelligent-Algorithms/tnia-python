{
 "cells": [
  {
   "cell_type": "markdown",
   "metadata": {},
   "source": [
    "## Create large 2D phantom\n",
    "\n",
    "This notebook creates a (relatively) large 2D phantom for testing different downsampling schemes.  Right now setup to compare integer sub-sampling with aggregation using mode, specifically looking at the effect of each technique on measurements with smaller labels.  We look at a couple of scenarios\n",
    "\n",
    "1.  If many (or all) labels are a single pixel, perhaps representing events or measurements involving single molecules.\n",
    "2.  We also look at the case of slightly bigger (but still small) labels of radius 2-10 pixels. "
   ]
  },
  {
   "cell_type": "code",
   "execution_count": 57,
   "metadata": {},
   "outputs": [],
   "source": [
    "import matplotlib.pyplot as plt\n",
    "import numpy as np\n",
    "from tnia.plotting.plt_helper import imshow_multi2d\n",
    "from pathlib import Path\n"
   ]
  },
  {
   "cell_type": "markdown",
   "metadata": {},
   "source": [
    "##  Create function to add random circles to an image \n",
    "\n",
    "If the radius is below 0.5 the circles will be a single point"
   ]
  },
  {
   "cell_type": "code",
   "execution_count": 136,
   "metadata": {},
   "outputs": [],
   "source": [
    "from random import seed, uniform\n",
    "import raster_geometry as rg\n",
    "import math\n",
    "\n",
    "def add_lots_of_circles(im, label, num, min_r, max_r, min_intensity, max_intensity, start_label=0, seed_val=-1):\n",
    "    \"\"\" draws random circles in an image useful for testing segmentation, background subtraction etc.\n",
    "\n",
    "    Args:\n",
    "        im (2d numpy array): input image, will be changed\n",
    "        num (number): number of circles to draw\n",
    "        min_r (number): min radius of circles\n",
    "        max_r (number): max radius of circles\n",
    "        min_intensity (number): max intensity of circles\n",
    "        max_intensity (number): min intensity of circles\n",
    "        seed_val (int, optional): use seed if you need to replicate the same random image defalts to -1 (no seed used).\n",
    "    \"\"\"\n",
    "    if seed_val!=-1:\n",
    "        seed(seed_val)\n",
    "\n",
    "    for i in range(num):\n",
    "        label_num = start_label+i\n",
    "        r=uniform(min_r, max_r)\n",
    "        cx=round(uniform(r,im.shape[1]-r))\n",
    "        cy=round(uniform(r,im.shape[0]-r))\n",
    "        intensity=round(uniform(min_intensity, max_intensity))\n",
    "        #print(r,cx,cy,intensity)\n",
    "        size = [math.ceil(r**2), math.ceil(r**2)]\n",
    "        temp=rg.circle(size,r)\n",
    "        \n",
    "        startx = cx-math.ceil(r)\n",
    "        starty = cy-math.ceil(r)\n",
    "        \n",
    "        if startx<0:\n",
    "            startx=0\n",
    "        if starty<0:\n",
    "            starty=0\n",
    "        if startx+temp.shape[1]>im.shape[1]:\n",
    "            startx = im.shape[1]-temp.shape[1]\n",
    "        if starty+temp.shape[0]>im.shape[0]:\n",
    "            starty = im.shape[0]-temp.shape[0]\n",
    "        \n",
    "        im[starty:starty+temp.shape[0],startx:startx+temp.shape[1]]=intensity*temp\n",
    "        label[starty:starty+temp.shape[0],startx:startx+temp.shape[1]]=label_num*temp\n",
    "        #im[temp2>0]=im[temp2>0]+intensity\n"
   ]
  },
  {
   "cell_type": "markdown",
   "metadata": {},
   "source": [
    "## Generate phantoms for different scenarios"
   ]
  },
  {
   "cell_type": "code",
   "execution_count": 138,
   "metadata": {},
   "outputs": [
    {
     "name": "stdout",
     "output_type": "stream",
     "text": [
      "0 2\n",
      "0 300\n"
     ]
    }
   ],
   "source": [
    "# scenarois \n",
    "# 1 all subresolution objects\n",
    "# 2 type 1 subresoluition, type 2 a bit bigger\n",
    "# 3 type 1 ranges from 2.5 to 4.5, type 2 from 4.5 to 8.5\n",
    "\n",
    "scenario_names = [\"all subresolution objects\", \"type 1 subresoluition, type 2 a bit bigger\", \"type 1 rangest from 2.5 to 4.5, type 2 from 4.5 to 8.5\"]\n",
    "scenario = 2\n",
    "\n",
    "if scenario == 0:\n",
    "    min_size1, max_size1 = 0.5, 0.5\n",
    "    min_size2, max_size2 = 0.5, 0.5\n",
    "    num1 = 2000\n",
    "    num2 = 1000\n",
    "elif scenario == 1:\n",
    "    min_size1, max_size1 = 0.5, 0.5\n",
    "    min_size2, max_size2 = 1.5, 2.5\n",
    "    num1 = 2000\n",
    "    num2 = 1000\n",
    "elif scenario == 2:\n",
    "    min_size1, max_size1 = 2.5, 4.5\n",
    "    min_size2, max_size2 = 4.5, 8.5\n",
    "    num1 = 200\n",
    "    num2 = 100\n",
    "\n",
    "phantom = np.zeros((10000, 10000), dtype=np.int8)\n",
    "labels = np.zeros((10000, 10000), dtype=np.int16)\n",
    "add_lots_of_circles(phantom, labels, num1, min_size1, max_size1, 1, 1, start_label=1)\n",
    "add_lots_of_circles(phantom, labels, num2, min_size2, max_size2, 2, 2, start_label=num1+1)\n",
    "print(phantom.min(), phantom.max())\n",
    "print(labels.min(), labels.max())"
   ]
  },
  {
   "cell_type": "markdown",
   "metadata": {},
   "source": [
    "## Make a function to count both objects and pixels"
   ]
  },
  {
   "cell_type": "code",
   "execution_count": 139,
   "metadata": {},
   "outputs": [
    {
     "name": "stdout",
     "output_type": "stream",
     "text": [
      "num1:  200 num2:  100\n",
      "percent pixels type 1 to type 2 0.5700130189498047\n",
      "\n"
     ]
    }
   ],
   "source": [
    "from re import L\n",
    "from skimage.measure import label\n",
    "from skimage.measure import regionprops\n",
    "#labels = label(phantom)\n",
    "\n",
    "def count_them(labels, phantom):\n",
    "    objects = regionprops(labels, intensity_image=phantom)\n",
    "    num1 = 0\n",
    "    num2 = 0\n",
    "    for obj in objects:\n",
    "        if obj.mean_intensity < 1.5:\n",
    "            num1 += 1\n",
    "        else:\n",
    "            num2 += 1\n",
    "    print(\"num1: \", num1, \"num2: \", num2)\n",
    "    print(\"percent pixels type 1 to type 2\", (np.count_nonzero(phantom == 1) / max( np.count_nonzero(phantom == 2),1) ))\n",
    "    print()\n",
    "\n",
    "count_them(labels, phantom)"
   ]
  },
  {
   "cell_type": "markdown",
   "metadata": {},
   "source": [
    "## Optionally view phantom in Napari"
   ]
  },
  {
   "cell_type": "code",
   "execution_count": 132,
   "metadata": {},
   "outputs": [
    {
     "data": {
      "text/plain": [
       "<Labels layer 'phantom [1]' at 0x1f37aca0b20>"
      ]
     },
     "execution_count": 132,
     "metadata": {},
     "output_type": "execute_result"
    }
   ],
   "source": [
    "import napari\n",
    "viewer = napari.view_image(phantom)\n",
    "viewer.add_labels(phantom)"
   ]
  },
  {
   "cell_type": "markdown",
   "metadata": {},
   "source": [
    "## Use X-Array to create pyramids"
   ]
  },
  {
   "cell_type": "code",
   "execution_count": 133,
   "metadata": {},
   "outputs": [],
   "source": [
    "import dask.array as da\n",
    "from xarray_multiscale import multiscale, windowed_mode\n",
    "pyramid_labels = multiscale(labels, windowed_mode, 2)\n",
    "pyramid_phantom = multiscale(phantom, windowed_mode, 2)"
   ]
  },
  {
   "cell_type": "code",
   "execution_count": 140,
   "metadata": {},
   "outputs": [
    {
     "name": "stdout",
     "output_type": "stream",
     "text": [
      "full res\n",
      "num1:  200 num2:  100\n",
      "percent pixels type 1 to type 2 0.5700130189498047\n",
      "\n",
      "====================================\n",
      "level = 1\n",
      "num1:  200 num2:  100\n",
      "percent pixels type 1 to type 2 0.5618343195266272\n",
      "\n",
      "num1:  200 num2:  100\n",
      "percent pixels type 1 to type 2 0.5688073394495413\n",
      "\n",
      "====================================\n",
      "level = 2\n",
      "num1:  196 num2:  100\n",
      "percent pixels type 1 to type 2 0.4820766378244747\n",
      "\n",
      "num1:  196 num2:  100\n",
      "percent pixels type 1 to type 2 0.5674740484429066\n",
      "\n",
      "====================================\n",
      "level = 3\n",
      "num1:  38 num2:  89\n",
      "percent pixels type 1 to type 2 0.25165562913907286\n",
      "\n",
      "num1:  121 num2:  99\n",
      "percent pixels type 1 to type 2 0.5540540540540541\n",
      "\n"
     ]
    }
   ],
   "source": [
    "print('full res')\n",
    "count_them(labels, phantom)\n",
    "\n",
    "for i in range(1,4):\n",
    "    print(\"====================================\")\n",
    "    print('level =', i)\n",
    "    \n",
    "    labels_d2_mode = pyramid_labels[i]\n",
    "    phantom_d2_mode = pyramid_phantom[i]\n",
    "\n",
    "    labels_d2_subsample = labels[::2**i,::2**i]\n",
    "    phantom_d2_subsample = phantom[::2**i,::2**i]\n",
    "    count_them(labels_d2_mode.data, phantom_d2_mode.data)\n",
    "    count_them(labels_d2_subsample, phantom_d2_subsample)"
   ]
  },
  {
   "cell_type": "code",
   "execution_count": null,
   "metadata": {},
   "outputs": [],
   "source": []
  }
 ],
 "metadata": {
  "kernelspec": {
   "display_name": "decon-dl-with-cellpose",
   "language": "python",
   "name": "python3"
  },
  "language_info": {
   "codemirror_mode": {
    "name": "ipython",
    "version": 3
   },
   "file_extension": ".py",
   "mimetype": "text/x-python",
   "name": "python",
   "nbconvert_exporter": "python",
   "pygments_lexer": "ipython3",
   "version": "3.9.16"
  }
 },
 "nbformat": 4,
 "nbformat_minor": 2
}
