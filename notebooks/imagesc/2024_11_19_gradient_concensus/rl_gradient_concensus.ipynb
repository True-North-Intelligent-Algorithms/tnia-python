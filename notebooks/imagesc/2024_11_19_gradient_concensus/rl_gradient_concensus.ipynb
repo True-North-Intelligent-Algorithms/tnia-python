{
 "cells": [
  {
   "cell_type": "code",
   "execution_count": 94,
   "metadata": {},
   "outputs": [],
   "source": [
    "import numpy as np\n",
    "import cupy as cp\n",
    "import os\n",
    "from bioio import BioImage\n",
    "import tifffile\n",
    "import timeit\n",
    "from matplotlib import pyplot as plt\n",
    "\n",
    "seed = 363\n",
    "rng = np.random.default_rng(seed)\n",
    "\n",
    "def show_mips(image, recon):\n",
    "  plt.figure(figsize=(20, 10))\n",
    "  plt.subplot(1, 2, 1)\n",
    "  plt.imshow(np.max(image.get(), axis=0), cmap='gray')\n",
    "  plt.axis('off')\n",
    "  plt.title('Original image MIP')\n",
    "  plt.subplot(1, 2, 2)\n",
    "  plt.imshow(np.max(recon, axis=0), cmap='gray')\n",
    "  plt.axis('off')\n",
    "  plt.title('Deconvolved image MIP')\n",
    "  plt.show()"
   ]
  },
  {
   "cell_type": "code",
   "execution_count": 95,
   "metadata": {},
   "outputs": [
    {
     "name": "stdout",
     "output_type": "stream",
     "text": [
      "(1, 995, 1334)\n"
     ]
    }
   ],
   "source": [
    "tg_image_path = r'D:\\images\\tnia-python-images\\tg\\2024_10_22_ts_decon'\n",
    "image_path = r'_small_data_\\[AS-00304]\\1x1_FOVs'\n",
    "image_name = r'Slide 1 - A02 - ROI 01_1x1_FOVs - DAPI.tif'\n",
    "\n",
    "#image_path = r'_small_data_\\[AS-00344]\\3x3_FOVs'\n",
    "#image_name = r'Slide 1 - Region 001 - ROI 02 - DAPI.tif'\n",
    "#image_name = r'Slide 1 - Region 001 - ROI 02 - Cy 5.tif'\n",
    "#image_name = r'Slide 1 - Region 001 - ROI 02 - FITC.tif'\n",
    "\n",
    "full_name = os.path.join(tg_image_path, image_path, image_name)\n",
    "bioimg = BioImage(full_name)\n",
    "\n",
    "image = np.squeeze(bioimg.data)\n",
    "\n",
    "# Add new z-axis if we have 2D data\n",
    "if image.ndim == 2:\n",
    "  image = np.expand_dims(image, axis=0)\n",
    "\n",
    "print(image.shape)"
   ]
  },
  {
   "cell_type": "code",
   "execution_count": 96,
   "metadata": {},
   "outputs": [],
   "source": [
    "from tnia.deconvolution.gaussian_psf import gaussian_2d\n",
    "sigma = 2.0\n",
    "psf_temp = gaussian_2d(255,sigma)\n",
    "\n",
    "# Add new z-axis if we have 2D data\n",
    "if psf_temp.ndim == 2:\n",
    "  psf_temp = np.expand_dims(psf_temp, axis=0)\n",
    "\n",
    "# Pad to size of image\n",
    "psf = np.zeros(image.shape)\n",
    "psf[:psf_temp.shape[0], :psf_temp.shape[1], :psf_temp.shape[2]] = psf_temp\n",
    "for axis, axis_size in enumerate(psf.shape):\n",
    "  psf = np.roll(psf, int(axis_size / 2), axis=axis)\n",
    "for axis, axis_size in enumerate(psf_temp.shape):\n",
    "  psf = np.roll(psf, -int(axis_size / 2), axis=axis)\n",
    "psf = np.fft.ifftshift(psf)\n",
    "psf = psf / np.sum(psf)"
   ]
  },
  {
   "cell_type": "code",
   "execution_count": null,
   "metadata": {},
   "outputs": [
    {
     "name": "stdout",
     "output_type": "stream",
     "text": [
      "Hu min: 15.325589179992676, max: 15.325614929199219\n",
      "Iteration 001 completed in 0.285 s. KLDs = 0.0000 (image), 0.0000 (split 1), 0.0000 (split 2). 97.55 % of image updated. Update range: 0.21 to 16.64. Largest relative delta = 0.93990.\n",
      "Hu min: 3.3016841411590576, max: 254.86239624023438\n",
      "Iteration 002 completed in 0.115 s. KLDs = -0.0000 (image), -0.0000 (split 1), -0.0000 (split 2). 19.38 % of image updated. Update range: 0.49 to 1.24. Largest relative delta = 0.13789.\n",
      "Hu min: 3.1024985313415527, max: 268.24481201171875\n",
      "Optimum result obtained after 1 iterations with a total time of 0.5 seconds.\n"
     ]
    }
   ],
   "source": [
    "def fftconv(x, H):\n",
    "\treturn cp.real(cp.fft.ifftn(cp.fft.fftn(x) * H))\n",
    "\n",
    "def kldiv(p, q, mask=None):\n",
    "  mask = p < mask_val\n",
    "  p = p + 1E-4\n",
    "  q = q + 1E-4\n",
    "  p = p / cp.sum(p)\n",
    "  q = q / cp.sum(q)\n",
    "  kldiv = p * (cp.log(p) - cp.log(q))\n",
    "  kldiv[cp.isnan(kldiv)] = 0\n",
    "  if mask is not None:\n",
    "    kldiv[mask] = 0\n",
    "  kldiv = cp.mean(kldiv)\n",
    "  return kldiv\n",
    "\n",
    "# Load data and PSF onto GPU\n",
    "image = cp.array(image, dtype=cp.float32)\n",
    "psf = cp.array(psf, dtype=cp.float32)\n",
    "\n",
    "# Calculate OTF and transpose\n",
    "otf = cp.fft.fftn(psf)\n",
    "otfT = cp.conjugate(otf)\n",
    "del psf\n",
    "\n",
    "# Get dimensions of data\n",
    "num_z = image.shape[0]\n",
    "num_y = image.shape[1]\n",
    "num_x = image.shape[2]\n",
    "num_pixels = num_z * num_y * num_x\n",
    "\n",
    "# Calculate Richardson-Lucy iterations\n",
    "HTones = fftconv(cp.ones_like(image), otfT)\n",
    "recon = cp.mean(image) * cp.ones((num_z, num_y, num_x), dtype=cp.float32)\n",
    "previous_recon = recon\n",
    "\n",
    "num_iters = 0\n",
    "prev_kldim = np.inf\n",
    "prev_kld1 = np.inf\n",
    "prev_kld2 = np.inf\n",
    "start_time = timeit.default_timer()\n",
    "\n",
    "#while True:\n",
    "for i in range(100):\n",
    "  iter_start_time = timeit.default_timer()\n",
    "\n",
    "  # Split recorded image into 50:50 images\n",
    "  # TODO: make this work on the GPU (for some reason, we get repeating blocks with a naive conversion to cupy)\n",
    "  split1 = rng.binomial(image.get().astype('int64'), p=0.5)\n",
    "  split1 = cp.array(split1)\n",
    "  split2 = image - split1\n",
    "\n",
    "  # Calculate prediction\n",
    "  Hu = fftconv(recon, otf)\n",
    "\n",
    "  # Calculate KL divergences and stop iterations if both have increased\n",
    "  mask_val = 100\n",
    "  print(f\"Hu min: {cp.min(Hu)}, max: {cp.max(Hu)}\") \n",
    "  kldim = kldiv(Hu, image, mask_val)\n",
    "  kld1 = kldiv(Hu, split1, mask_val)\n",
    "  kld2 = kldiv(Hu, split2, mask_val)\n",
    "  if ((kld1 > prev_kld1) & (kld2 > prev_kld2)):\n",
    "    recon = previous_recon\n",
    "    print(\"Optimum result obtained after %d iterations with a total time of %1.1f seconds.\" % (num_iters - 1, timeit.default_timer() - start_time))\n",
    "    break\n",
    "  del previous_recon\n",
    "  prev_kldim = kldim\n",
    "  prev_kld1 = kld1\n",
    "  prev_kld2 = kld2\n",
    "\n",
    "  # Calculate updates for split images and full images (H^T (d / Hu))\n",
    "  HTratio1 = fftconv(split1 / (0.5 * (Hu + 1E-12)), otfT) / HTones\n",
    "  del split1\n",
    "  HTratio2 = fftconv(split2 / (0.5 * (Hu + 1E-12)), otfT) / HTones\n",
    "  del split2\n",
    "  HTratio = fftconv(image / (Hu + 1E-12), otfT) / HTones\n",
    "  del Hu\n",
    "\n",
    "  # Normalise update steps by H^T(1) and only update pixels in full estimate where split updates agree in 'sign'\n",
    "  shouldNotUpdate = (HTratio1 - 1) * (HTratio2 - 1) < 0\n",
    "  del HTratio1\n",
    "  del HTratio2\n",
    "  HTratio[shouldNotUpdate] = 1\n",
    "  num_updated = num_pixels - cp.sum(shouldNotUpdate)\n",
    "  del shouldNotUpdate\n",
    "\n",
    "  # Save previous estimate in case KLDs increase after this iteration\n",
    "  previous_recon = recon\n",
    "\n",
    "  # Update estimate\n",
    "  recon = recon * HTratio\n",
    "  min_HTratio = cp.min(HTratio)\n",
    "  max_HTratio = cp.max(HTratio)\n",
    "  max_relative_delta = cp.max((recon - previous_recon) / cp.max(recon))\n",
    "  del HTratio\n",
    "\n",
    "  calc_time = timeit.default_timer() - iter_start_time\n",
    "  print(\"Iteration %03d completed in %1.3f s. KLDs = %1.4f (image), %1.4f (split 1), %1.4f (split 2). %1.2f %% of image updated. Update range: %1.2f to %1.2f. Largest relative delta = %1.5f.\" % (num_iters + 1, calc_time, kldim, kld1, kld2, 100 * num_updated / num_pixels, min_HTratio, max_HTratio, max_relative_delta))\n",
    "\n",
    "\n",
    "  num_iters = num_iters + 1\n"
   ]
  },
  {
   "cell_type": "code",
   "execution_count": 79,
   "metadata": {},
   "outputs": [
    {
     "data": {
      "text/plain": [
       "<Image layer 'recon' at 0x1bd2438dd50>"
      ]
     },
     "execution_count": 79,
     "metadata": {},
     "output_type": "execute_result"
    }
   ],
   "source": [
    "import napari\n",
    "viewer=napari.Viewer()\n",
    "\n",
    "viewer.add_image(image.get(), name='image')\n",
    "viewer.add_image(recon.get(), name='recon')"
   ]
  },
  {
   "cell_type": "code",
   "execution_count": null,
   "metadata": {},
   "outputs": [],
   "source": []
  }
 ],
 "metadata": {
  "kernelspec": {
   "display_name": "decon_env_ts",
   "language": "python",
   "name": "python3"
  },
  "language_info": {
   "codemirror_mode": {
    "name": "ipython",
    "version": 3
   },
   "file_extension": ".py",
   "mimetype": "text/x-python",
   "name": "python",
   "nbconvert_exporter": "python",
   "pygments_lexer": "ipython3",
   "version": "3.10.15"
  }
 },
 "nbformat": 4,
 "nbformat_minor": 2
}
