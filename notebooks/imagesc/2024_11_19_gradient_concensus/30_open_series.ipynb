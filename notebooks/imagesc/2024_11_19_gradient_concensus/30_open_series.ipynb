{
 "cells": [
  {
   "cell_type": "code",
   "execution_count": 1,
   "metadata": {},
   "outputs": [],
   "source": [
    "from skimage.io import imread\n",
    "import numpy as np\n",
    "from clij2fft.richardson_lucy import richardson_lucy_nc, richardson_lucy"
   ]
  },
  {
   "cell_type": "code",
   "execution_count": 2,
   "metadata": {},
   "outputs": [
    {
     "name": "stdout",
     "output_type": "stream",
     "text": [
      "21\n"
     ]
    }
   ],
   "source": [
    "from pathlib import Path\n",
    "\n",
    "# Directory to search\n",
    "directory = Path(r\"/home/bnorthan/images/tnia-python-images/tg/_small_data_/[AS-00304]/TF Confocal_Zstack/_ovs_3x3_fovs\")\n",
    "\n",
    "# Search for specific image extensions\n",
    "image_files = list(directory.glob('*AF594*.tif'))\n",
    "\n",
    "print(len(image_files))\n"
   ]
  },
  {
   "cell_type": "code",
   "execution_count": 3,
   "metadata": {},
   "outputs": [
    {
     "name": "stdout",
     "output_type": "stream",
     "text": [
      "/home/bnorthan/images/tnia-python-images/tg/_small_data_/[AS-00304]/TF Confocal_Zstack/_ovs_3x3_fovs/Gripper 1 - Region 004 - ROI 03 - AF594_Zid_006_Z_-004.tif\n",
      "006\n",
      "/home/bnorthan/images/tnia-python-images/tg/_small_data_/[AS-00304]/TF Confocal_Zstack/_ovs_3x3_fovs/Gripper 1 - Region 004 - ROI 03 - AF594_Zid_017_Z_+007.tif\n",
      "017\n",
      "/home/bnorthan/images/tnia-python-images/tg/_small_data_/[AS-00304]/TF Confocal_Zstack/_ovs_3x3_fovs/Gripper 1 - Region 004 - ROI 03 - AF594_Zid_001_Z_-009.tif\n",
      "001\n",
      "/home/bnorthan/images/tnia-python-images/tg/_small_data_/[AS-00304]/TF Confocal_Zstack/_ovs_3x3_fovs/Gripper 1 - Region 004 - ROI 03 - AF594_Zid_007_Z_-003.tif\n",
      "007\n",
      "/home/bnorthan/images/tnia-python-images/tg/_small_data_/[AS-00304]/TF Confocal_Zstack/_ovs_3x3_fovs/Gripper 1 - Region 004 - ROI 03 - AF594_Zid_013_Z_+003.tif\n",
      "013\n",
      "/home/bnorthan/images/tnia-python-images/tg/_small_data_/[AS-00304]/TF Confocal_Zstack/_ovs_3x3_fovs/Gripper 1 - Region 004 - ROI 03 - AF594_Zid_016_Z_+006.tif\n",
      "016\n",
      "/home/bnorthan/images/tnia-python-images/tg/_small_data_/[AS-00304]/TF Confocal_Zstack/_ovs_3x3_fovs/Gripper 1 - Region 004 - ROI 03 - AF594_Zid_014_Z_+004.tif\n",
      "014\n",
      "/home/bnorthan/images/tnia-python-images/tg/_small_data_/[AS-00304]/TF Confocal_Zstack/_ovs_3x3_fovs/Gripper 1 - Region 004 - ROI 03 - AF594_Zid_002_Z_-008.tif\n",
      "002\n",
      "/home/bnorthan/images/tnia-python-images/tg/_small_data_/[AS-00304]/TF Confocal_Zstack/_ovs_3x3_fovs/Gripper 1 - Region 004 - ROI 03 - AF594_Zid_008_Z_-002.tif\n",
      "008\n",
      "/home/bnorthan/images/tnia-python-images/tg/_small_data_/[AS-00304]/TF Confocal_Zstack/_ovs_3x3_fovs/Gripper 1 - Region 004 - ROI 03 - AF594_Zid_012_Z_+002.tif\n",
      "012\n",
      "/home/bnorthan/images/tnia-python-images/tg/_small_data_/[AS-00304]/TF Confocal_Zstack/_ovs_3x3_fovs/Gripper 1 - Region 004 - ROI 03 - AF594_Zid_010_Z_+000.tif\n",
      "010\n",
      "/home/bnorthan/images/tnia-python-images/tg/_small_data_/[AS-00304]/TF Confocal_Zstack/_ovs_3x3_fovs/Gripper 1 - Region 004 - ROI 03 - AF594_Zid_004_Z_-006.tif\n",
      "004\n",
      "/home/bnorthan/images/tnia-python-images/tg/_small_data_/[AS-00304]/TF Confocal_Zstack/_ovs_3x3_fovs/Gripper 1 - Region 004 - ROI 03 - AF594_Zid_005_Z_-005.tif\n",
      "005\n",
      "/home/bnorthan/images/tnia-python-images/tg/_small_data_/[AS-00304]/TF Confocal_Zstack/_ovs_3x3_fovs/Gripper 1 - Region 004 - ROI 03 - AF594_Zid_019_Z_+009.tif\n",
      "019\n",
      "/home/bnorthan/images/tnia-python-images/tg/_small_data_/[AS-00304]/TF Confocal_Zstack/_ovs_3x3_fovs/Gripper 1 - Region 004 - ROI 03 - AF594_Zid_009_Z_-001.tif\n",
      "009\n",
      "/home/bnorthan/images/tnia-python-images/tg/_small_data_/[AS-00304]/TF Confocal_Zstack/_ovs_3x3_fovs/Gripper 1 - Region 004 - ROI 03 - AF594_Zid_000_Z_-010.tif\n",
      "000\n",
      "/home/bnorthan/images/tnia-python-images/tg/_small_data_/[AS-00304]/TF Confocal_Zstack/_ovs_3x3_fovs/Gripper 1 - Region 004 - ROI 03 - AF594_Zid_015_Z_+005.tif\n",
      "015\n",
      "/home/bnorthan/images/tnia-python-images/tg/_small_data_/[AS-00304]/TF Confocal_Zstack/_ovs_3x3_fovs/Gripper 1 - Region 004 - ROI 03 - AF594_Zid_011_Z_+001.tif\n",
      "011\n",
      "/home/bnorthan/images/tnia-python-images/tg/_small_data_/[AS-00304]/TF Confocal_Zstack/_ovs_3x3_fovs/Gripper 1 - Region 004 - ROI 03 - AF594_Zid_003_Z_-007.tif\n",
      "003\n",
      "/home/bnorthan/images/tnia-python-images/tg/_small_data_/[AS-00304]/TF Confocal_Zstack/_ovs_3x3_fovs/Gripper 1 - Region 004 - ROI 03 - AF594_Zid_018_Z_+008.tif\n",
      "018\n",
      "/home/bnorthan/images/tnia-python-images/tg/_small_data_/[AS-00304]/TF Confocal_Zstack/_ovs_3x3_fovs/Gripper 1 - Region 004 - ROI 03 - AF594_Zid_020_Z_+010.tif\n",
      "020\n"
     ]
    }
   ],
   "source": [
    "test= str(image_files[0])\n",
    "\n",
    "for temp in image_files:\n",
    "    test = str(temp)\n",
    "    print(test)\n",
    "    test2=test.split('Zid')[1][1:4]\n",
    "    print(test2)"
   ]
  },
  {
   "cell_type": "code",
   "execution_count": 4,
   "metadata": {},
   "outputs": [
    {
     "name": "stdout",
     "output_type": "stream",
     "text": [
      "/home/bnorthan/images/tnia-python-images/tg/_small_data_/[AS-00304]/TF Confocal_Zstack/_ovs_3x3_fovs/Gripper 1 - Region 004 - ROI 03 - AF594_Zid_000_Z_-010.tif\n",
      "/home/bnorthan/images/tnia-python-images/tg/_small_data_/[AS-00304]/TF Confocal_Zstack/_ovs_3x3_fovs/Gripper 1 - Region 004 - ROI 03 - AF594_Zid_001_Z_-009.tif\n",
      "/home/bnorthan/images/tnia-python-images/tg/_small_data_/[AS-00304]/TF Confocal_Zstack/_ovs_3x3_fovs/Gripper 1 - Region 004 - ROI 03 - AF594_Zid_002_Z_-008.tif\n",
      "/home/bnorthan/images/tnia-python-images/tg/_small_data_/[AS-00304]/TF Confocal_Zstack/_ovs_3x3_fovs/Gripper 1 - Region 004 - ROI 03 - AF594_Zid_003_Z_-007.tif\n",
      "/home/bnorthan/images/tnia-python-images/tg/_small_data_/[AS-00304]/TF Confocal_Zstack/_ovs_3x3_fovs/Gripper 1 - Region 004 - ROI 03 - AF594_Zid_004_Z_-006.tif\n",
      "/home/bnorthan/images/tnia-python-images/tg/_small_data_/[AS-00304]/TF Confocal_Zstack/_ovs_3x3_fovs/Gripper 1 - Region 004 - ROI 03 - AF594_Zid_005_Z_-005.tif\n",
      "/home/bnorthan/images/tnia-python-images/tg/_small_data_/[AS-00304]/TF Confocal_Zstack/_ovs_3x3_fovs/Gripper 1 - Region 004 - ROI 03 - AF594_Zid_006_Z_-004.tif\n",
      "/home/bnorthan/images/tnia-python-images/tg/_small_data_/[AS-00304]/TF Confocal_Zstack/_ovs_3x3_fovs/Gripper 1 - Region 004 - ROI 03 - AF594_Zid_007_Z_-003.tif\n",
      "/home/bnorthan/images/tnia-python-images/tg/_small_data_/[AS-00304]/TF Confocal_Zstack/_ovs_3x3_fovs/Gripper 1 - Region 004 - ROI 03 - AF594_Zid_008_Z_-002.tif\n",
      "/home/bnorthan/images/tnia-python-images/tg/_small_data_/[AS-00304]/TF Confocal_Zstack/_ovs_3x3_fovs/Gripper 1 - Region 004 - ROI 03 - AF594_Zid_009_Z_-001.tif\n",
      "/home/bnorthan/images/tnia-python-images/tg/_small_data_/[AS-00304]/TF Confocal_Zstack/_ovs_3x3_fovs/Gripper 1 - Region 004 - ROI 03 - AF594_Zid_010_Z_+000.tif\n",
      "/home/bnorthan/images/tnia-python-images/tg/_small_data_/[AS-00304]/TF Confocal_Zstack/_ovs_3x3_fovs/Gripper 1 - Region 004 - ROI 03 - AF594_Zid_011_Z_+001.tif\n",
      "/home/bnorthan/images/tnia-python-images/tg/_small_data_/[AS-00304]/TF Confocal_Zstack/_ovs_3x3_fovs/Gripper 1 - Region 004 - ROI 03 - AF594_Zid_012_Z_+002.tif\n",
      "/home/bnorthan/images/tnia-python-images/tg/_small_data_/[AS-00304]/TF Confocal_Zstack/_ovs_3x3_fovs/Gripper 1 - Region 004 - ROI 03 - AF594_Zid_013_Z_+003.tif\n",
      "/home/bnorthan/images/tnia-python-images/tg/_small_data_/[AS-00304]/TF Confocal_Zstack/_ovs_3x3_fovs/Gripper 1 - Region 004 - ROI 03 - AF594_Zid_014_Z_+004.tif\n",
      "/home/bnorthan/images/tnia-python-images/tg/_small_data_/[AS-00304]/TF Confocal_Zstack/_ovs_3x3_fovs/Gripper 1 - Region 004 - ROI 03 - AF594_Zid_015_Z_+005.tif\n",
      "/home/bnorthan/images/tnia-python-images/tg/_small_data_/[AS-00304]/TF Confocal_Zstack/_ovs_3x3_fovs/Gripper 1 - Region 004 - ROI 03 - AF594_Zid_016_Z_+006.tif\n",
      "/home/bnorthan/images/tnia-python-images/tg/_small_data_/[AS-00304]/TF Confocal_Zstack/_ovs_3x3_fovs/Gripper 1 - Region 004 - ROI 03 - AF594_Zid_017_Z_+007.tif\n",
      "/home/bnorthan/images/tnia-python-images/tg/_small_data_/[AS-00304]/TF Confocal_Zstack/_ovs_3x3_fovs/Gripper 1 - Region 004 - ROI 03 - AF594_Zid_018_Z_+008.tif\n",
      "/home/bnorthan/images/tnia-python-images/tg/_small_data_/[AS-00304]/TF Confocal_Zstack/_ovs_3x3_fovs/Gripper 1 - Region 004 - ROI 03 - AF594_Zid_019_Z_+009.tif\n",
      "/home/bnorthan/images/tnia-python-images/tg/_small_data_/[AS-00304]/TF Confocal_Zstack/_ovs_3x3_fovs/Gripper 1 - Region 004 - ROI 03 - AF594_Zid_020_Z_+010.tif\n",
      "(21, 3966, 4881)\n"
     ]
    }
   ],
   "source": [
    "# Sort based on the numeric part of the indicator\n",
    "sorted_files = sorted(\n",
    "    image_files,\n",
    "    key=lambda x: int(str(x).split('Zid')[1][1:4])\n",
    ")\n",
    "\n",
    "images = []\n",
    "\n",
    "for image_file in sorted_files:\n",
    "    print(image_file)\n",
    "    image = imread(image_file)\n",
    "    images.append(image)    \n",
    "\n",
    "images = np.array(images)\n",
    "print(images.shape)"
   ]
  },
  {
   "cell_type": "code",
   "execution_count": 5,
   "metadata": {},
   "outputs": [
    {
     "data": {
      "text/plain": [
       "<Image layer 'Image' at 0x790ccddf3f10>"
      ]
     },
     "execution_count": 5,
     "metadata": {},
     "output_type": "execute_result"
    }
   ],
   "source": [
    "import napari \n",
    "viewer = napari.Viewer()\n",
    "viewer.add_image(images[:,1000:1500, 1000:1500], scale=[5,1,1])"
   ]
  },
  {
   "cell_type": "code",
   "execution_count": 6,
   "metadata": {},
   "outputs": [
    {
     "name": "stdout",
     "output_type": "stream",
     "text": [
      "(21, 3966, 4881)\n"
     ]
    }
   ],
   "source": [
    "print(images.shape)"
   ]
  },
  {
   "cell_type": "code",
   "execution_count": 7,
   "metadata": {},
   "outputs": [
    {
     "data": {
      "image/png": "[encoded data removed]",
      "text/plain": [
       "<Figure size 1000x300 with 2 Axes>"
      ]
     },
     "metadata": {},
     "output_type": "display_data"
    }
   ],
   "source": [
    "from tnia.deconvolution.gaussian_psf import gaussian_3d\n",
    "from tnia.plotting.projections import show_xy_zy_max\n",
    "psf = gaussian_3d(128, 32, 1, 3)\n",
    "fig = show_xy_zy_max(psf)"
   ]
  },
  {
   "cell_type": "code",
   "execution_count": 8,
   "metadata": {},
   "outputs": [
    {
     "name": "stdout",
     "output_type": "stream",
     "text": [
      "\n",
      "\n",
      "\n"
     ]
    },
    {
     "name": "stderr",
     "output_type": "stream",
     "text": [
      "Traceback (most recent call last):\n",
      "  File \"/home/bnorthan/code/imagej/clij2-fft/python/clij2fft/richardson_lucy_dask.py\", line 180, in rl_dask_task\n",
      "    result=richardson_lucy_nc(img, psf, numiterations, regularizationfactor=regularizationfactor, lib=lib, platform = platform, device = device_num)\n",
      "  File \"/home/bnorthan/code/imagej/clij2-fft/python/clij2fft/richardson_lucy.py\", line 100, in richardson_lucy_nc\n",
      "    extended_size = get_next_smooth(extended_size)\n",
      "  File \"/home/bnorthan/code/imagej/clij2-fft/python/clij2fft/pad.py\", line 62, in get_next_smooth\n",
      "    return tuple(map(lambda i: next_smooth(i), size))\n",
      "  File \"/home/bnorthan/code/imagej/clij2-fft/python/clij2fft/pad.py\", line 62, in <lambda>\n",
      "    return tuple(map(lambda i: next_smooth(i), size))\n",
      "  File \"/home/bnorthan/code/imagej/clij2-fft/python/clij2fft/pad.py\", line 36, in next_smooth\n",
      "    z = int(10*math.log2(x))\n",
      "ValueError: math domain error\n",
      "Traceback (most recent call last):\n",
      "  File \"/home/bnorthan/code/imagej/clij2-fft/python/clij2fft/richardson_lucy_dask.py\", line 180, in rl_dask_task\n",
      "    result=richardson_lucy_nc(img, psf, numiterations, regularizationfactor=regularizationfactor, lib=lib, platform = platform, device = device_num)\n",
      "  File \"/home/bnorthan/code/imagej/clij2-fft/python/clij2fft/richardson_lucy.py\", line 100, in richardson_lucy_nc\n",
      "    extended_size = get_next_smooth(extended_size)\n",
      "  File \"/home/bnorthan/code/imagej/clij2-fft/python/clij2fft/pad.py\", line 62, in get_next_smooth\n",
      "    return tuple(map(lambda i: next_smooth(i), size))\n",
      "  File \"/home/bnorthan/code/imagej/clij2-fft/python/clij2fft/pad.py\", line 62, in <lambda>\n",
      "    return tuple(map(lambda i: next_smooth(i), size))\n",
      "  File \"/home/bnorthan/code/imagej/clij2-fft/python/clij2fft/pad.py\", line 36, in next_smooth\n",
      "    z = int(10*math.log2(x))\n",
      "ValueError: math domain error\n"
     ]
    },
    {
     "name": "stdout",
     "output_type": "stream",
     "text": [
      "calling convcorr 0 0\n"
     ]
    },
    {
     "name": "stderr",
     "output_type": "stream",
     "text": [
      "2 warnings generated.\n",
      "2 warnings generated.\n",
      "2 warnings generated.\n"
     ]
    },
    {
     "name": "stdout",
     "output_type": "stream",
     "text": [
      "\n",
      "platform 0 NVIDIA CUDA\n",
      "device name 0 NVIDIA GeForce RTX 4070 Laptop GPU\n",
      "\n",
      "Richardson Lucy Started\n",
      "0 10 20 30 40 50 60 70 80 90 \n",
      "Richardson Lucy Finished\n",
      "\n",
      "calling convcorr 0 0\n"
     ]
    },
    {
     "name": "stderr",
     "output_type": "stream",
     "text": [
      "2 warnings generated.\n",
      "2 warnings generated.\n",
      "2 warnings generated.\n"
     ]
    },
    {
     "name": "stdout",
     "output_type": "stream",
     "text": [
      "\n",
      "platform 0 NVIDIA CUDA\n",
      "device name 0 NVIDIA GeForce RTX 4070 Laptop GPU\n",
      "\n",
      "Richardson Lucy Started\n",
      "0 10 20 30 40 50 60 70 80 90 \n",
      "Richardson Lucy Finished\n",
      "\n",
      "calling convcorr 0 0\n",
      "\n",
      "platform 0 NVIDIA CUDA\n",
      "device name 0 NVIDIA GeForce RTX 4070 Laptop GPU\n",
      "\n",
      "Richardson Lucy Started\n",
      "0 10 20 30 40 50 60 70 80 90 \n",
      "Richardson Lucy Finished\n",
      "\n",
      "calling convcorr 0 0\n",
      "\n",
      "platform 0 NVIDIA CUDA\n",
      "device name 0 NVIDIA GeForce RTX 4070 Laptop GPU\n",
      "\n",
      "Richardson Lucy Started\n",
      "0 10 20 30 40 50 60 70 80 90 \n",
      "Richardson Lucy Finished\n",
      "\n",
      "calling convcorr 0 0\n",
      "\n",
      "platform 0 NVIDIA CUDA\n",
      "device name 0 NVIDIA GeForce RTX 4070 Laptop GPU\n",
      "\n",
      "Richardson Lucy Started\n",
      "0 10 20 30 40 50 60 70 80 90 \n",
      "Richardson Lucy Finished\n",
      "\n",
      "calling convcorr 0 0\n",
      "\n",
      "platform 0 NVIDIA CUDA\n",
      "device name 0 NVIDIA GeForce RTX 4070 Laptop GPU\n",
      "\n",
      "Richardson Lucy Started\n",
      "0 10 20 30 40 50 60 70 80 90 \n",
      "Richardson Lucy Finished\n",
      "\n",
      "calling convcorr 0 0\n",
      "\n",
      "platform 0 NVIDIA CUDA\n",
      "device name 0 NVIDIA GeForce RTX 4070 Laptop GPU\n",
      "\n",
      "Richardson Lucy Started\n",
      "0 10 20 30 40 50 60 70 80 90 \n",
      "Richardson Lucy Finished\n",
      "\n",
      "calling convcorr 0 0\n",
      "\n",
      "platform 0 NVIDIA CUDA\n",
      "device name 0 NVIDIA GeForce RTX 4070 Laptop GPU\n",
      "\n",
      "Richardson Lucy Started\n",
      "0 10 20 30 40 50 60 70 80 90 \n",
      "Richardson Lucy Finished\n",
      "\n",
      "calling convcorr 0 0\n",
      "\n",
      "platform 0 NVIDIA CUDA\n",
      "device name 0 NVIDIA GeForce RTX 4070 Laptop GPU\n",
      "\n",
      "Richardson Lucy Started\n",
      "0 10 20 30 40 50 60 70 80 90 \n",
      "Richardson Lucy Finished\n",
      "\n",
      "calling convcorr 0 0\n",
      "\n",
      "platform 0 NVIDIA CUDA\n",
      "device name 0 NVIDIA GeForce RTX 4070 Laptop GPU\n",
      "\n",
      "Richardson Lucy Started\n",
      "0 10 20 30 40 50 60 70 80 90 \n",
      "Richardson Lucy Finished\n",
      "\n",
      "calling convcorr 0 0\n",
      "\n",
      "platform 0 NVIDIA CUDA\n",
      "device name 0 NVIDIA GeForce RTX 4070 Laptop GPU\n",
      "\n",
      "Richardson Lucy Started\n",
      "0 10 20 30 40 50 60 70 80 90 \n",
      "Richardson Lucy Finished\n",
      "\n",
      "calling convcorr 0 0\n",
      "\n",
      "platform 0 NVIDIA CUDA\n",
      "device name 0 NVIDIA GeForce RTX 4070 Laptop GPU\n",
      "\n",
      "Richardson Lucy Started\n",
      "0 10 20 30 40 50 60 70 80 90 \n",
      "Richardson Lucy Finished\n",
      "\n",
      "calling convcorr 0 0\n",
      "\n",
      "platform 0 NVIDIA CUDA\n",
      "device name 0 NVIDIA GeForce RTX 4070 Laptop GPU\n",
      "\n",
      "Richardson Lucy Started\n",
      "0 10 20 30 40 50 60 70 80 90 \n",
      "Richardson Lucy Finished\n",
      "\n",
      "calling convcorr 0 0\n",
      "\n",
      "platform 0 NVIDIA CUDA\n",
      "device name 0 NVIDIA GeForce RTX 4070 Laptop GPU\n",
      "\n",
      "Richardson Lucy Started\n",
      "0 10 20 30 40 50 60 70 80 90 \n",
      "Richardson Lucy Finished\n",
      "\n",
      "calling convcorr 0 0\n",
      "\n",
      "platform 0 NVIDIA CUDA\n",
      "device name 0 NVIDIA GeForce RTX 4070 Laptop GPU\n",
      "\n",
      "Richardson Lucy Started\n",
      "0 10 20 30 40 50 60 70 80 90 \n",
      "Richardson Lucy Finished\n",
      "\n",
      "calling convcorr 0 0\n",
      "\n",
      "platform 0 NVIDIA CUDA\n",
      "device name 0 NVIDIA GeForce RTX 4070 Laptop GPU\n",
      "\n",
      "Richardson Lucy Started\n",
      "0 10 20 30 40 50 60 70 80 90 \n",
      "Richardson Lucy Finished\n"
     ]
    }
   ],
   "source": [
    "from clij2fft.richardson_lucy import richardson_lucy_nc, richardson_lucy\n",
    "from clij2fft.richardson_lucy_dask import richardson_lucy_dask\n",
    "\n",
    "test = images[:,1000:1500, 1000:1500]\n",
    "\n",
    "deconvolved = richardson_lucy_dask(images, psf, 100, 0.0001)"
   ]
  },
  {
   "cell_type": "code",
   "execution_count": 13,
   "metadata": {},
   "outputs": [
    {
     "data": {
      "text/plain": [
       "<Image layer 'deconvolved' at 0x790c9d0449d0>"
      ]
     },
     "execution_count": 13,
     "metadata": {},
     "output_type": "execute_result"
    },
    {
     "name": "stderr",
     "output_type": "stream",
     "text": [
      "/home/bnorthan/mambaforge/envs/decon-dl-env2/lib/python3.9/site-packages/napari/_vispy/layers/image.py:251: UserWarning: data shape (21, 3966, 4881) exceeds GL_MAX_TEXTURE_SIZE 2048 in at least one axis and will be downsampled. Rendering is currently in 3D mode.\n",
      "  warnings.warn(\n",
      "/home/bnorthan/mambaforge/envs/decon-dl-env2/lib/python3.9/site-packages/napari/_vispy/layers/image.py:251: UserWarning: data shape (21, 3966, 4881) exceeds GL_MAX_TEXTURE_SIZE 2048 in at least one axis and will be downsampled. Rendering is currently in 3D mode.\n",
      "  warnings.warn(\n",
      "/home/bnorthan/mambaforge/envs/decon-dl-env2/lib/python3.9/site-packages/napari/_vispy/layers/image.py:251: UserWarning: data shape (21, 3966, 4881) exceeds GL_MAX_TEXTURE_SIZE 2048 in at least one axis and will be downsampled. Rendering is currently in 3D mode.\n",
      "  warnings.warn(\n",
      "/home/bnorthan/mambaforge/envs/decon-dl-env2/lib/python3.9/site-packages/napari/_vispy/layers/image.py:251: UserWarning: data shape (21, 3966, 4881) exceeds GL_MAX_TEXTURE_SIZE 2048 in at least one axis and will be downsampled. Rendering is currently in 3D mode.\n",
      "  warnings.warn(\n",
      "/home/bnorthan/mambaforge/envs/decon-dl-env2/lib/python3.9/site-packages/napari/_vispy/layers/image.py:251: UserWarning: data shape (21, 3966, 4881) exceeds GL_MAX_TEXTURE_SIZE 2048 in at least one axis and will be downsampled. Rendering is currently in 3D mode.\n",
      "  warnings.warn(\n"
     ]
    }
   ],
   "source": [
    "viewer = napari.Viewer()\n",
    "\n",
    "viewer.add_image(images, scale=[5,1,1])\n",
    "viewer.add_image(deconvolved, scale=[5,1,1])"
   ]
  },
  {
   "cell_type": "code",
   "execution_count": 12,
   "metadata": {},
   "outputs": [],
   "source": [
    "deconvolved = deconvolved.astype('uint16')\n",
    "images = images.astype('uint16')"
   ]
  },
  {
   "cell_type": "code",
   "execution_count": null,
   "metadata": {},
   "outputs": [],
   "source": []
  }
 ],
 "metadata": {
  "kernelspec": {
   "display_name": "decon-dl-env2",
   "language": "python",
   "name": "python3"
  },
  "language_info": {
   "codemirror_mode": {
    "name": "ipython",
    "version": 3
   },
   "file_extension": ".py",
   "mimetype": "text/x-python",
   "name": "python",
   "nbconvert_exporter": "python",
   "pygments_lexer": "ipython3",
   "version": "3.9.18"
  }
 },
 "nbformat": 4,
 "nbformat_minor": 2
}
