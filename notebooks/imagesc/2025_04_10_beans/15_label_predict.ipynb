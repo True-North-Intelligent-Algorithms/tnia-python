{
 "cells": [
  {
   "cell_type": "markdown",
   "metadata": {},
   "source": [
    "## Use Napari-Easy-Augment-Batch-DL to load and label images\n",
    "\n",
    "This notebook starts up Napari-Easy-Augment-Batch-DL and points it to our project directory.  At the beginning of a project this directory is simply the location of our collection of images.  "
   ]
  },
  {
   "cell_type": "markdown",
   "metadata": {},
   "source": [
    "## Import and check versions"
   ]
  },
  {
   "cell_type": "code",
   "execution_count": 5,
   "metadata": {},
   "outputs": [
    {
     "name": "stdout",
     "output_type": "stream",
     "text": [
      "napari version 0.5.6\n",
      "numpy version 1.26.4\n"
     ]
    }
   ],
   "source": [
    "import napari\n",
    "import numpy as np\n",
    "from napari_easy_augment_batch_dl import easy_augment_batch_dl\n",
    "import os\n",
    "\n",
    "# for trouble shooting print the napari and numpy version. This can give us clues if there are dependency issues\n",
    "print('napari version', napari.__version__)\n",
    "print('numpy version', np.__version__)\n",
    "\n",
    "from napari_easy_augment_batch_dl.frameworks.cellpose_instance_framework import CellPoseInstanceFramework\n"
   ]
  },
  {
   "cell_type": "markdown",
   "metadata": {},
   "source": [
    "## Start Napari and Easy Augment Batch DL\n",
    "\n",
    "Start Napari, show Easy-Augment-Batch-DL and show the parent directory. "
   ]
  },
  {
   "cell_type": "code",
   "execution_count": null,
   "metadata": {},
   "outputs": [
    {
     "name": "stderr",
     "output_type": "stream",
     "text": [
      "WARNING: QWindowsWindow::setGeometry: Unable to set geometry 1086x1082+2550+118 (frame: 1102x1121+2542+87) on QWidgetWindow/\"_QtMainWindowClassWindow\" on \"\\\\.\\DISPLAY2\". Resulting geometry: 1086x1061+2550+118 (frame: 1102x1100+2542+87) margins: 8, 31, 8, 8 minimum size: 385x497 MINMAXINFO maxSize=0,0 maxpos=0,0 mintrack=401,536 maxtrack=0,0)\n"
     ]
    },
    {
     "name": "stdout",
     "output_type": "stream",
     "text": [
      "2025-04-11 07:27:22,476 [WARNING] QWindowsWindow::setGeometry: Unable to set geometry 1086x1082+2550+118 (frame: 1102x1121+2542+87) on QWidgetWindow/\"_QtMainWindowClassWindow\" on \"\\\\.\\DISPLAY2\". Resulting geometry: 1086x1061+2550+118 (frame: 1102x1100+2542+87) margins: 8, 31, 8, 8 minimum size: 385x497 MINMAXINFO maxSize=0,0 maxpos=0,0 mintrack=401,536 maxtrack=0,0)\n",
      "VIT checkpoint loaded successfully\n",
      "Found framework CellPoseInstanceFramework\n",
      "creating new log file\n",
      "2025-04-11 07:27:26,744 [INFO] WRITING LOG OUTPUT TO C:\\Users\\bnort\\.cellpose\\run.log\n",
      "2025-04-11 07:27:26,745 [INFO] \n",
      "cellpose version: \t3.1.0 \n",
      "platform:       \twin32 \n",
      "python version: \t3.11.11 \n",
      "torch version:  \t2.6.0\n",
      "Found framework PytorchSemanticFramework\n",
      "Found framework MobileSAMFramework\n",
      "Found framework YoloSAMFramework\n",
      "Found framework RandomForestFramework\n",
      "Zarr store already up-to-date.\n",
      "Zarr store already up-to-date.\n",
      "Adding object boxes layer\n",
      "Adding predicted object boxes layer\n",
      "Adding label boxes\n",
      "Adding object boxes\n",
      "Adding predicted object boxes\n",
      "Setting object box classes\n",
      "Setting predicted object box classes\n",
      "2025-04-11 07:27:28,029 [INFO] ** TORCH CUDA version installed and working. **\n",
      "2025-04-11 07:27:28,031 [INFO] >>>> using GPU (CUDA)\n",
      "2025-04-11 07:27:28,356 [INFO] >>>> loading model D:\\images\\tnia-python-images\\imagesc\\2025_04_10_beans\\models\\cellpose_beans\n",
      "2025-04-11 07:27:28,499 [INFO] >>>> model diam_mean =  30.000 (ROIs rescaled to this size during training)\n",
      "2025-04-11 07:27:28,500 [INFO] >>>> model diam_labels =  37.730 (mean diameter of training ROIs)\n",
      "'QCheckBox' object has no attribute 'setValue'\n"
     ]
    },
    {
     "name": "stdout",
     "output_type": "stream",
     "text": [
      "2025-04-11 07:30:15,946 [INFO] >> cyto3 << model set to be used\n",
      "2025-04-11 07:30:15,948 [INFO] ** TORCH CUDA version installed and working. **\n",
      "2025-04-11 07:30:15,949 [INFO] >>>> using GPU (CUDA)\n",
      "2025-04-11 07:30:16,078 [INFO] >>>> loading model C:\\Users\\bnort\\.cellpose\\models\\cyto3\n",
      "2025-04-11 07:30:16,343 [INFO] >>>> model diam_mean =  30.000 (ROIs rescaled to this size during training)\n"
     ]
    }
   ],
   "source": [
    "viewer = napari.Viewer()\n",
    "\n",
    "batch_dl = easy_augment_batch_dl.NapariEasyAugmentBatchDL(viewer)\n",
    "\n",
    "viewer.window.add_dock_widget(\n",
    "    batch_dl\n",
    ")\n",
    "\n",
    "parent_path = r'D:\\images\\tnia-python-images\\imagesc\\2025_04_10_beans'\n",
    "batch_dl.load_image_directory(parent_path)\n",
    "\n",
    "model_path = os.path.join(parent_path, 'models')\n",
    "model_name = 'cellpose_beans'\n",
    "\n",
    "if model_name is not None:\n",
    "    # set the drop down to the CellPoseInstanceFramework\n",
    "    batch_dl.network_architecture_drop_down.setCurrentText(CellPoseInstanceFramework.descriptor)\n",
    "    \n",
    "    # get the cellpose widget\n",
    "    widget = batch_dl.deep_learning_widgets[CellPoseInstanceFramework.descriptor]\n",
    "    \n",
    "    # load model\n",
    "    widget.load_model_from_path(os.path.join(model_path, model_name))\n",
    "\n",
    "    # get the framework object\n",
    "    framework = batch_dl.deep_learning_project.frameworks[CellPoseInstanceFramework.descriptor]\n",
    "\n",
    "    # set the parameters for the cellpose framework\n",
    "    framework.prob_thresh = -2\n",
    "    framework.flow_thresh = 0.4\n",
    "    framework.chan_segment = 0 \n",
    "    framework.chan2 = 0\n",
    "\n",
    "    # sync parameters on the widget after this we should see the widget in Napari synced with the parameters we set on the framework\n",
    "    widget.sync_with_framework()"
   ]
  },
  {
   "cell_type": "code",
   "execution_count": 3,
   "metadata": {},
   "outputs": [
    {
     "data": {
      "text/plain": [
       "'1.26.4'"
      ]
     },
     "execution_count": 3,
     "metadata": {},
     "output_type": "execute_result"
    }
   ],
   "source": [
    "import numpy\n",
    "numpy.__version__"
   ]
  },
  {
   "cell_type": "code",
   "execution_count": 6,
   "metadata": {},
   "outputs": [
    {
     "data": {
      "text/plain": [
       "'3.1.0'"
      ]
     },
     "execution_count": 6,
     "metadata": {},
     "output_type": "execute_result"
    }
   ],
   "source": [
    "import cellpose\n",
    "\n",
    "cellpose.version"
   ]
  },
  {
   "cell_type": "code",
   "execution_count": 7,
   "metadata": {},
   "outputs": [
    {
     "data": {
      "text/plain": [
       "'1.4.0'"
      ]
     },
     "execution_count": 7,
     "metadata": {},
     "output_type": "execute_result"
    }
   ],
   "source": [
    "import micro_sam\n",
    "micro_sam.__version__"
   ]
  },
  {
   "cell_type": "code",
   "execution_count": null,
   "metadata": {},
   "outputs": [],
   "source": []
  }
 ],
 "metadata": {
  "kernelspec": {
   "display_name": "microsam_cellpose",
   "language": "python",
   "name": "python3"
  },
  "language_info": {
   "codemirror_mode": {
    "name": "ipython",
    "version": 3
   },
   "file_extension": ".py",
   "mimetype": "text/x-python",
   "name": "python",
   "nbconvert_exporter": "python",
   "pygments_lexer": "ipython3",
   "version": "3.11.11"
  }
 },
 "nbformat": 4,
 "nbformat_minor": 2
}
