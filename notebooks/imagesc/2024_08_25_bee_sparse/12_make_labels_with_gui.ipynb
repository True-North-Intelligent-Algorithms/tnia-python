{
 "cells": [
  {
   "cell_type": "code",
   "execution_count": 2,
   "metadata": {},
   "outputs": [],
   "source": [
    "import napari\n",
    "import os\n",
    "from napari_easy_augment_batch_dl import easy_augment_batch_dl\n",
    "from napari_easy_augment_batch_dl.deep_learning_project import DLModel"
   ]
  },
  {
   "cell_type": "code",
   "execution_count": 3,
   "metadata": {},
   "outputs": [
    {
     "name": "stderr",
     "output_type": "stream",
     "text": [
      "WARNING: QWindowsWindow::setGeometry: Unable to set geometry 1086x1082+2560+280 (frame: 1102x1121+2552+249) on QWidgetWindow/\"_QtMainWindowClassWindow\" on \"\\\\.\\DISPLAY2\". Resulting geometry: 1086x1061+2560+280 (frame: 1102x1100+2552+249) margins: 8, 31, 8, 8 minimum size: 385x497 MINMAXINFO maxSize=0,0 maxpos=0,0 mintrack=401,536 maxtrack=0,0)\n",
      "WARNING:vispy:QWindowsWindow::setGeometry: Unable to set geometry 1086x1082+2560+280 (frame: 1102x1121+2552+249) on QWidgetWindow/\"_QtMainWindowClassWindow\" on \"\\\\.\\DISPLAY2\". Resulting geometry: 1086x1061+2560+280 (frame: 1102x1100+2552+249) margins: 8, 31, 8, 8 minimum size: 385x497 MINMAXINFO maxSize=0,0 maxpos=0,0 mintrack=401,536 maxtrack=0,0)\n"
     ]
    },
    {
     "name": "stdout",
     "output_type": "stream",
     "text": [
      "[array([[   0.        ,  235.90774917,  918.7932679 ],\n",
      "       [   0.        ,  235.90774917, 1490.11555361],\n",
      "       [   0.        ,  675.82590917, 1490.11555361],\n",
      "       [   0.        ,  675.82590917,  918.7932679 ]])]\n",
      "image file is  D:\\images\\tnia-python-images\\imagesc\\2024_08_27_bees_sparse\\bsp1-2.jpg\n",
      "labelsum is  343673\n",
      "(440, 572, 3) (440, 572)\n",
      "bsp1-2_0\n",
      "D:\\images\\tnia-python-images\\imagesc\\2024_08_27_bees_sparse\\labels\\input0/bsp1-2_0.tif\n",
      "D:\\images\\tnia-python-images\\imagesc\\2024_08_27_bees_sparse\\labels\\ground truth0/bsp1-2_0.tif\n",
      "D:\\images\\tnia-python-images\\imagesc\\2024_08_27_bees_sparse\\labels\\input0/bsp1-2_0.tif\n",
      "D:\\images\\tnia-python-images\\imagesc\\2024_08_27_bees_sparse\\labels\\ground truth0\n"
     ]
    },
    {
     "name": "stderr",
     "output_type": "stream",
     "text": [
      "deep_learning_project.py (382): D:\\images\\tnia-python-images\\imagesc\\2024_08_27_bees_sparse\\labels\\ground truth0\\bsp1-2_0.tif is a low contrast image\n",
      "deep_learning_project.py (401): D:\\images\\tnia-python-images\\imagesc\\2024_08_27_bees_sparse\\annotations\\class_0\\bsp1-2.tif is a low contrast image\n",
      "deep_learning_project.py (406): D:\\images\\tnia-python-images\\imagesc\\2024_08_27_bees_sparse\\predictions\\class_0\\bsp1-2.tif is a low contrast image\n",
      "deep_learning_project.py (401): D:\\images\\tnia-python-images\\imagesc\\2024_08_27_bees_sparse\\annotations\\class_0\\bee1-s.tif is a low contrast image\n",
      "deep_learning_project.py (406): D:\\images\\tnia-python-images\\imagesc\\2024_08_27_bees_sparse\\predictions\\class_0\\bee1-s.tif is a low contrast image\n"
     ]
    },
    {
     "name": "stdout",
     "output_type": "stream",
     "text": [
      "Deleted file: D:\\images\\tnia-python-images\\imagesc\\2024_08_27_bees_sparse\\labels\\input0\\bsp1-2_0.json\n",
      "Deleted file: D:\\images\\tnia-python-images\\imagesc\\2024_08_27_bees_sparse\\labels\\input0\\bsp1-2_0.tif\n",
      "Deleted file: D:\\images\\tnia-python-images\\imagesc\\2024_08_27_bees_sparse\\labels\\ground truth0\\bsp1-2_0.tif\n",
      "image file is  D:\\images\\tnia-python-images\\imagesc\\2024_08_27_bees_sparse\\bsp1-2.jpg\n",
      "labelsum is  343673\n",
      "(440, 572, 3) (440, 572)\n",
      "bsp1-2_0\n",
      "D:\\images\\tnia-python-images\\imagesc\\2024_08_27_bees_sparse\\labels\\input0/bsp1-2_0.tif\n",
      "D:\\images\\tnia-python-images\\imagesc\\2024_08_27_bees_sparse\\labels\\ground truth0/bsp1-2_0.tif\n",
      "D:\\images\\tnia-python-images\\imagesc\\2024_08_27_bees_sparse\\labels\\input0/bsp1-2_0.tif\n",
      "D:\\images\\tnia-python-images\\imagesc\\2024_08_27_bees_sparse\\labels\\ground truth0\n"
     ]
    },
    {
     "name": "stderr",
     "output_type": "stream",
     "text": [
      "deep_learning_project.py (382): D:\\images\\tnia-python-images\\imagesc\\2024_08_27_bees_sparse\\labels\\ground truth0\\bsp1-2_0.tif is a low contrast image\n",
      "deep_learning_project.py (401): D:\\images\\tnia-python-images\\imagesc\\2024_08_27_bees_sparse\\annotations\\class_0\\bsp1-2.tif is a low contrast image\n",
      "deep_learning_project.py (406): D:\\images\\tnia-python-images\\imagesc\\2024_08_27_bees_sparse\\predictions\\class_0\\bsp1-2.tif is a low contrast image\n",
      "deep_learning_project.py (401): D:\\images\\tnia-python-images\\imagesc\\2024_08_27_bees_sparse\\annotations\\class_0\\bee1-s.tif is a low contrast image\n",
      "deep_learning_project.py (406): D:\\images\\tnia-python-images\\imagesc\\2024_08_27_bees_sparse\\predictions\\class_0\\bee1-s.tif is a low contrast image\n"
     ]
    }
   ],
   "source": [
    "from napari_easy_augment_batch_dl import easy_augment_batch_dl\n",
    "\n",
    "viewer = napari.Viewer()\n",
    "\n",
    "batch_dl = easy_augment_batch_dl.NapariEasyAugmentBatchDL(viewer, label_only = True)\n",
    "\n",
    "viewer.window.add_dock_widget(\n",
    "    batch_dl\n",
    ")\n",
    "_\n",
    "parent_path =r'D:\\images\\tnia-python-images\\imagesc\\2024_08_27_bees_sparse' \n",
    "model_path = os.path.join(parent_path, 'models')\n",
    "\n",
    "batch_dl.load_image_directory(parent_path)\n",
    "\n"
   ]
  },
  {
   "cell_type": "code",
   "execution_count": null,
   "metadata": {},
   "outputs": [],
   "source": []
  }
 ],
 "metadata": {
  "kernelspec": {
   "display_name": "segment_bees_311",
   "language": "python",
   "name": "python3"
  },
  "language_info": {
   "codemirror_mode": {
    "name": "ipython",
    "version": 3
   },
   "file_extension": ".py",
   "mimetype": "text/x-python",
   "name": "python",
   "nbconvert_exporter": "python",
   "pygments_lexer": "ipython3",
   "version": "3.9.19"
  }
 },
 "nbformat": 4,
 "nbformat_minor": 2
}
