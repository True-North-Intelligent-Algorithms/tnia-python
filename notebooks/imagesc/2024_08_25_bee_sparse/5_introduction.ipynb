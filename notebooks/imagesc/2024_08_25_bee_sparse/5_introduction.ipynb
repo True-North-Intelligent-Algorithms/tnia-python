{
 "cells": [
  {
   "cell_type": "markdown",
   "metadata": {},
   "source": [
    "# Sparse bee labelling + YOLO + SAM (Mobile SAM) !\n",
    "\n",
    "This notebook is a continuation of the [bee segmentation](https://forum.image.sc/t/how-to-count-bees-pattern-recognition-and-segmentation/90115) discussion here.  \n",
    "\n",
    "Stardist now supports [sparse label masks](https://github.com/stardist/stardist/commit/7a68fa7b8476a8d2e7b4860ab57836d0ae500aaa).  So let's test on the bees. \n",
    "\n",
    "We also take a quick moment to look at [Mobile SAM](https://github.com/ChaoningZhang/MobileSAM) (a YOLO + SAM ) \n",
    "\n",
    "As a side note, I have been having speed issues on Windows with stardist version above 0.9.  I mentioned this on the forum, but was unable to replicate at the time (possibly because I was going back and forth between Linux and Windows and confused myself).  However on my Windows machine (with RTX 3090 GPU) the speed issue seems to have returned.  Perhaps I mucked up something in my environment setup, so if anyone has seen similar issue, or sees something wrong in my setup instructions, please let me know (perhaps post on the Image.sc forum)"
   ]
  },
  {
   "cell_type": "markdown",
   "metadata": {},
   "source": []
  }
 ],
 "metadata": {
  "language_info": {
   "name": "python"
  }
 },
 "nbformat": 4,
 "nbformat_minor": 2
}
