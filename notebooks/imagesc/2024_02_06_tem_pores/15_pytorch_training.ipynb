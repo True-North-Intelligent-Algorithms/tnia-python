{
 "cells": [
  {
   "cell_type": "markdown",
   "metadata": {},
   "source": [
    "## Train a semantic segmentation unet using Pytorch"
   ]
  },
  {
   "cell_type": "markdown",
   "metadata": {},
   "source": [
    "## Pytorch setup\n",
    "\n",
    "setting up environment (Windows 10 with Cuda 11.8)\n",
    "\n",
    "```\n",
    "conda create --name pytorch_tests python=3.10\n",
    "conda activate pytorch_tests\n",
    "conda install pip\n",
    "pip install pykernel\n",
    "pip3 install torch torchvision torchaudio --index-url https://download.pytorch.org/whl/cu118\n",
    "pip install pytorch-lightning\n",
    "pip install monai\n",
    "pip install scipy\n",
    "pip install tifffile\n",
    "pip install matplotlib\n",
    "```"
   ]
  },
  {
   "cell_type": "markdown",
   "metadata": {},
   "source": [
    "## Imports"
   ]
  },
  {
   "cell_type": "code",
   "execution_count": 40,
   "metadata": {},
   "outputs": [],
   "source": [
    "from tifffile import imread\n",
    "from tqdm import tqdm\n",
    "from data import quantile_normalization\n",
    "import matplotlib.pyplot as plt\n",
    "import numpy as np\n",
    "import torch\n",
    "\n",
    "from torchvision import transforms\n",
    "from torchvision.transforms import v2\n",
    "import torchvision.transforms.functional as TF"
   ]
  },
  {
   "cell_type": "markdown",
   "metadata": {},
   "source": [
    "## Set up image and label directories"
   ]
  },
  {
   "cell_type": "code",
   "execution_count": 13,
   "metadata": {},
   "outputs": [
    {
     "name": "stdout",
     "output_type": "stream",
     "text": [
      "sub_sample 1\n",
      "axes YX\n"
     ]
    }
   ],
   "source": [
    "from pathlib import Path\n",
    "import json\n",
    "\n",
    "tnia_images_path = Path(r'D:/images')\n",
    "parent_path=Path(tnia_images_path / r'tnia-python-images/imagesc/2024_02_06_em_pores')\n",
    "label_path = Path(parent_path / r'labels')\n",
    "test_image_path = Path(label_path / r'inputs')\n",
    "train_path= parent_path / 'patches'\n",
    "\n",
    "with open(train_path / 'info.json', 'r') as json_file:\n",
    "    data = json.load(json_file)\n",
    "    # Access the sub_sample parameter\n",
    "    sub_sample = data['sub_sample']\n",
    "    print('sub_sample',sub_sample)\n",
    "    axes = data['axes']\n",
    "    print('axes',axes)\n",
    "\n",
    "image_patch_path = train_path / 'ground truth0'\n",
    "label_patch_path = train_path / 'input0'\n"
   ]
  },
  {
   "cell_type": "markdown",
   "metadata": {},
   "source": [
    "## Create a Dataset \n",
    "\n",
    "Dataset is simply used to retrieve the training patches.  In this case we just set it up to read in image files, then convert the numpy arrays to tensors and a torch stack.\n",
    "\n",
    "In this example augmentation was done in a previous notebook, and the augmented images explicitly saved.  It is also possible to do augmentation as the data is retrieved.  So in the future the ```EMPoresData``` class could be extended to apply augmentation as data is retrieved."
   ]
  },
  {
   "cell_type": "code",
   "execution_count": 1,
   "metadata": {},
   "outputs": [],
   "source": [
    "class EMPoresData():\n",
    "\n",
    "    def __init__(self, image_files, label_files, target_shape=(256, 256)):\n",
    "            \"\"\"\n",
    "            Parameters\n",
    "            ----------\n",
    "            image_files: list of pathlib.Path objects pointing to the *.tif images\n",
    "            label_files: list of pathlib.Path objects pointing to the *.tif segmentation masks\n",
    "            target_shape: tuple of length 2 specifying the sample resolutions of files that\n",
    "                        will be kept. All other files will NOT be used.\n",
    "            \"\"\"\n",
    "            assert len(image_files) == len(label_files)\n",
    "            assert all(x.name==y.name for x,y in zip(image_files, label_files))\n",
    "\n",
    "            self.images = []\n",
    "            self.labels = []\n",
    "\n",
    "            tensor_transform = transforms.Compose([\n",
    "                v2.ToTensor(),\n",
    "            ])\n",
    "\n",
    "            # use tqdm to have eye pleasing error bars\n",
    "            for idx in tqdm(range(len(image_files))):\n",
    "                # we use the same data reading approach as in the previous notebook\n",
    "                image = imread(image_files[idx])\n",
    "                label = imread(label_files[idx])\n",
    "\n",
    "                if image.shape != target_shape:\n",
    "                    continue\n",
    "                \n",
    "                # do the normalizations\n",
    "                #image = quantile_normalization(\n",
    "                #    image,\n",
    "                #    quantile_low=0.01,\n",
    "                #    quantile_high=0.998,\n",
    "                #    clip=True)[0].astype(np.float32)\n",
    "\n",
    "                # NOTE: we convert the label to dtype float32 and not uint8 because\n",
    "                # the tensor transformation does a normalization if the input is of\n",
    "                # dtype uint8, destroying the 0/1 labelling which we want to avoid.\n",
    "                #label = fill_label_holes(label)\n",
    "                label_binary = np.zeros_like(label).astype(np.float32)\n",
    "                label_binary[label != 0] = 1.\n",
    "                \n",
    "\n",
    "                # convert to torch tensor: adds an artificial color channel in the front\n",
    "                # and scales inputs to have same size as samples tend to differ in image\n",
    "                # resolutions\n",
    "                image = tensor_transform(image)\n",
    "                label = tensor_transform(label_binary)\n",
    "\n",
    "                self.images.append(image)\n",
    "                self.labels.append(label)\n",
    "\n",
    "            self.images = torch.stack(self.images)\n",
    "            self.labels = torch.stack(self.labels)\n",
    "    \n",
    "    def __getitem__(self, idx):\n",
    "        return self.images[idx], self.labels[idx]\n",
    "\n",
    "    def __len__(self):\n",
    "        return len(self.images)"
   ]
  },
  {
   "cell_type": "markdown",
   "metadata": {},
   "source": [
    "## Initialize the Dataset \n",
    "\n",
    "Initialize the DataSet with the pre-generated patch names"
   ]
  },
  {
   "cell_type": "code",
   "execution_count": 4,
   "metadata": {},
   "outputs": [
    {
     "name": "stderr",
     "output_type": "stream",
     "text": [
      "c:\\Users\\bnort\\miniconda3\\envs\\pytorch_tests2\\lib\\site-packages\\torchvision\\transforms\\v2\\_deprecated.py:43: UserWarning: The transform `ToTensor()` is deprecated and will be removed in a future release. Instead, please use `v2.Compose([v2.ToImage(), v2.ToDtype(torch.float32, scale=True)])`.\n",
      "  warnings.warn(\n",
      "100%|██████████| 100/100 [00:00<00:00, 434.06it/s]\n"
     ]
    },
    {
     "name": "stdout",
     "output_type": "stream",
     "text": [
      "100\n"
     ]
    }
   ],
   "source": [
    "src_dir = train_path\n",
    "\n",
    "assert src_dir.exists(), f\"root directory with images and masks {src_dir} does not exist\"\n",
    "\n",
    "X = sorted(src_dir.rglob('**/input0/*.tif'))\n",
    "Y = sorted(src_dir.rglob('**/ground truth0/*.tif'))\n",
    "\n",
    "train_data = EMPoresData(\n",
    "    image_files=X,\n",
    "    label_files=Y,\n",
    "    target_shape=(448, 448)\n",
    ")\n",
    "\n",
    "# NOTE: the length of the dataset might not be the same as n_samples\n",
    "#       because files not having the target shape will be discarded\n",
    "print(len(train_data))\n"
   ]
  },
  {
   "cell_type": "markdown",
   "metadata": {},
   "source": [
    "## Create a DataLoader\n",
    "\n",
    "This is done so we can load batches of images. "
   ]
  },
  {
   "cell_type": "code",
   "execution_count": 5,
   "metadata": {},
   "outputs": [],
   "source": [
    "from torch.utils.data import DataLoader\n",
    "\n",
    "train_loader = DataLoader(train_data, batch_size=32, shuffle=True)"
   ]
  },
  {
   "cell_type": "markdown",
   "metadata": {},
   "source": [
    "## Check if GPU is present"
   ]
  },
  {
   "cell_type": "code",
   "execution_count": 6,
   "metadata": {},
   "outputs": [
    {
     "name": "stdout",
     "output_type": "stream",
     "text": [
      "number of devices: 1 \tchosen device: cuda \tuse_cuda= True\n"
     ]
    }
   ],
   "source": [
    "cuda_present = torch.cuda.is_available()\n",
    "ndevices = torch.cuda.device_count()\n",
    "use_cuda = cuda_present and ndevices > 0\n",
    "device = torch.device(\"cuda\" if use_cuda else \"cpu\")  # \"cuda:0\" ... default device, \"cuda:1\" would be GPU index 1, \"cuda:2\" etc\n",
    "print(\"number of devices:\", ndevices, \"\\tchosen device:\", device, \"\\tuse_cuda=\", use_cuda)"
   ]
  },
  {
   "cell_type": "markdown",
   "metadata": {},
   "source": [
    "## Create a UNET"
   ]
  },
  {
   "cell_type": "code",
   "execution_count": 7,
   "metadata": {},
   "outputs": [
    {
     "name": "stdout",
     "output_type": "stream",
     "text": [
      "BasicUNet features: (32, 32, 64, 128, 256, 32).\n"
     ]
    }
   ],
   "source": [
    "from monai.networks.nets import BasicUNet\n",
    "\n",
    "model = BasicUNet(\n",
    "    spatial_dims=2,\n",
    "    in_channels=1,\n",
    "    out_channels=1,\n",
    "    #features=[16, 16, 32, 64, 128, 16],\n",
    "    act=\"relu\",\n",
    "    norm=\"batch\",\n",
    "    dropout=0.25,\n",
    ")\n",
    "\n",
    "# Important: transfer the model to the chosen device\n",
    "model = model.to(device)\n",
    "\n",
    "optimizer = torch.optim.Adam(model.parameters(), lr=1.e-3)\n",
    "init_params = list(model.parameters())[0].clone().detach()"
   ]
  },
  {
   "cell_type": "markdown",
   "metadata": {},
   "source": [
    "## Train the UNET"
   ]
  },
  {
   "cell_type": "code",
   "execution_count": 41,
   "metadata": {},
   "outputs": [
    {
     "name": "stdout",
     "output_type": "stream",
     "text": [
      "Train Epoch: 1 Batch: 0 Total samples processed: 32 Loss: 0.08485610783100128\n",
      "Train Epoch: 1 Batch: 1 Total samples processed: 64 Loss: 0.08352843672037125\n",
      "Train Epoch: 1 Batch: 2 Total samples processed: 96 Loss: 0.08312064409255981\n",
      "Train Epoch: 1 Batch: 3 Total samples processed: 128 Loss: 0.08570130169391632\n",
      "Train Epoch: 2 Batch: 0 Total samples processed: 32 Loss: 0.0813518539071083\n",
      "Train Epoch: 2 Batch: 1 Total samples processed: 64 Loss: 0.08172091841697693\n",
      "Train Epoch: 2 Batch: 2 Total samples processed: 96 Loss: 0.08105675876140594\n",
      "Train Epoch: 2 Batch: 3 Total samples processed: 128 Loss: 0.08025690168142319\n",
      "Train Epoch: 3 Batch: 0 Total samples processed: 32 Loss: 0.07912775129079819\n",
      "Train Epoch: 3 Batch: 1 Total samples processed: 64 Loss: 0.0794181227684021\n",
      "Train Epoch: 3 Batch: 2 Total samples processed: 96 Loss: 0.07894071191549301\n",
      "Train Epoch: 3 Batch: 3 Total samples processed: 128 Loss: 0.07866121828556061\n",
      "Train Epoch: 4 Batch: 0 Total samples processed: 32 Loss: 0.07669802755117416\n",
      "Train Epoch: 4 Batch: 1 Total samples processed: 64 Loss: 0.0772319883108139\n",
      "Train Epoch: 4 Batch: 2 Total samples processed: 96 Loss: 0.07667386531829834\n",
      "Train Epoch: 4 Batch: 3 Total samples processed: 128 Loss: 0.07652889937162399\n",
      "Train Epoch: 5 Batch: 0 Total samples processed: 32 Loss: 0.07558367401361465\n",
      "Train Epoch: 5 Batch: 1 Total samples processed: 64 Loss: 0.07423538714647293\n",
      "Train Epoch: 5 Batch: 2 Total samples processed: 96 Loss: 0.07439956068992615\n",
      "Train Epoch: 5 Batch: 3 Total samples processed: 128 Loss: 0.0749165341258049\n",
      "Train Epoch: 6 Batch: 0 Total samples processed: 32 Loss: 0.07618601620197296\n",
      "Train Epoch: 6 Batch: 1 Total samples processed: 64 Loss: 0.07332362234592438\n",
      "Train Epoch: 6 Batch: 2 Total samples processed: 96 Loss: 0.07326624542474747\n",
      "Train Epoch: 6 Batch: 3 Total samples processed: 128 Loss: 0.0732635110616684\n",
      "Train Epoch: 7 Batch: 0 Total samples processed: 32 Loss: 0.07222968339920044\n",
      "Train Epoch: 7 Batch: 1 Total samples processed: 64 Loss: 0.07164642959833145\n",
      "Train Epoch: 7 Batch: 2 Total samples processed: 96 Loss: 0.07108208537101746\n",
      "Train Epoch: 7 Batch: 3 Total samples processed: 128 Loss: 0.07077795267105103\n",
      "Train Epoch: 8 Batch: 0 Total samples processed: 32 Loss: 0.07030332833528519\n",
      "Train Epoch: 8 Batch: 1 Total samples processed: 64 Loss: 0.06966429203748703\n",
      "Train Epoch: 8 Batch: 2 Total samples processed: 96 Loss: 0.06904774904251099\n",
      "Train Epoch: 8 Batch: 3 Total samples processed: 128 Loss: 0.06747393310070038\n",
      "Train Epoch: 9 Batch: 0 Total samples processed: 32 Loss: 0.0684930756688118\n",
      "Train Epoch: 9 Batch: 1 Total samples processed: 64 Loss: 0.06767789274454117\n",
      "Train Epoch: 9 Batch: 2 Total samples processed: 96 Loss: 0.06762517243623734\n",
      "Train Epoch: 9 Batch: 3 Total samples processed: 128 Loss: 0.06860741972923279\n",
      "Train Epoch: 10 Batch: 0 Total samples processed: 32 Loss: 0.06672483682632446\n",
      "Train Epoch: 10 Batch: 1 Total samples processed: 64 Loss: 0.06619143486022949\n",
      "Train Epoch: 10 Batch: 2 Total samples processed: 96 Loss: 0.06562232226133347\n",
      "Train Epoch: 10 Batch: 3 Total samples processed: 128 Loss: 0.06492361426353455\n",
      "Train Epoch: 11 Batch: 0 Total samples processed: 32 Loss: 0.06480316817760468\n",
      "Train Epoch: 11 Batch: 1 Total samples processed: 64 Loss: 0.0636911690235138\n",
      "Train Epoch: 11 Batch: 2 Total samples processed: 96 Loss: 0.06467316299676895\n",
      "Train Epoch: 11 Batch: 3 Total samples processed: 128 Loss: 0.06389453262090683\n",
      "Train Epoch: 12 Batch: 0 Total samples processed: 32 Loss: 0.06303125619888306\n",
      "Train Epoch: 12 Batch: 1 Total samples processed: 64 Loss: 0.06222108379006386\n",
      "Train Epoch: 12 Batch: 2 Total samples processed: 96 Loss: 0.06257279217243195\n",
      "Train Epoch: 12 Batch: 3 Total samples processed: 128 Loss: 0.06256752461194992\n",
      "Train Epoch: 13 Batch: 0 Total samples processed: 32 Loss: 0.06142059341073036\n",
      "Train Epoch: 13 Batch: 1 Total samples processed: 64 Loss: 0.061209216713905334\n",
      "Train Epoch: 13 Batch: 2 Total samples processed: 96 Loss: 0.06176204979419708\n",
      "Train Epoch: 13 Batch: 3 Total samples processed: 128 Loss: 0.05913323536515236\n",
      "Train Epoch: 14 Batch: 0 Total samples processed: 32 Loss: 0.06011362373828888\n",
      "Train Epoch: 14 Batch: 1 Total samples processed: 64 Loss: 0.05925558879971504\n",
      "Train Epoch: 14 Batch: 2 Total samples processed: 96 Loss: 0.0592627190053463\n",
      "Train Epoch: 14 Batch: 3 Total samples processed: 128 Loss: 0.06205158680677414\n",
      "Train Epoch: 15 Batch: 0 Total samples processed: 32 Loss: 0.058790020644664764\n",
      "Train Epoch: 15 Batch: 1 Total samples processed: 64 Loss: 0.057799696922302246\n",
      "Train Epoch: 15 Batch: 2 Total samples processed: 96 Loss: 0.05755329132080078\n",
      "Train Epoch: 15 Batch: 3 Total samples processed: 128 Loss: 0.058155495673418045\n",
      "Train Epoch: 16 Batch: 0 Total samples processed: 32 Loss: 0.057860635221004486\n",
      "Train Epoch: 16 Batch: 1 Total samples processed: 64 Loss: 0.05707329139113426\n",
      "Train Epoch: 16 Batch: 2 Total samples processed: 96 Loss: 0.05587100237607956\n",
      "Train Epoch: 16 Batch: 3 Total samples processed: 128 Loss: 0.05638398975133896\n",
      "Train Epoch: 17 Batch: 0 Total samples processed: 32 Loss: 0.0559694766998291\n",
      "Train Epoch: 17 Batch: 1 Total samples processed: 64 Loss: 0.05568787455558777\n",
      "Train Epoch: 17 Batch: 2 Total samples processed: 96 Loss: 0.054517656564712524\n",
      "Train Epoch: 17 Batch: 3 Total samples processed: 128 Loss: 0.05870220437645912\n",
      "Train Epoch: 18 Batch: 0 Total samples processed: 32 Loss: 0.05547669529914856\n",
      "Train Epoch: 18 Batch: 1 Total samples processed: 64 Loss: 0.05609612539410591\n",
      "Train Epoch: 18 Batch: 2 Total samples processed: 96 Loss: 0.05445706099271774\n",
      "Train Epoch: 18 Batch: 3 Total samples processed: 128 Loss: 0.05144798383116722\n",
      "Train Epoch: 19 Batch: 0 Total samples processed: 32 Loss: 0.05435372143983841\n",
      "Train Epoch: 19 Batch: 1 Total samples processed: 64 Loss: 0.05389557033777237\n",
      "Train Epoch: 19 Batch: 2 Total samples processed: 96 Loss: 0.05373116955161095\n",
      "Train Epoch: 19 Batch: 3 Total samples processed: 128 Loss: 0.05238187313079834\n",
      "Train Epoch: 20 Batch: 0 Total samples processed: 32 Loss: 0.053219348192214966\n",
      "Train Epoch: 20 Batch: 1 Total samples processed: 64 Loss: 0.05270042270421982\n",
      "Train Epoch: 20 Batch: 2 Total samples processed: 96 Loss: 0.05240387097001076\n",
      "Train Epoch: 20 Batch: 3 Total samples processed: 128 Loss: 0.05184787139296532\n"
     ]
    }
   ],
   "source": [
    "max_nepochs = 20\n",
    "log_interval = 1\n",
    "model.train(True)\n",
    "\n",
    "# BCEWithLogitsLoss combines sigmoid + BCELoss for better\n",
    "# numerical stability. It expects raw unnormalized scores as input which are shaped like \n",
    "# B x C x W x D\n",
    "loss_function = torch.nn.BCEWithLogitsLoss(reduction=\"mean\")\n",
    "\n",
    "for epoch in range(1, max_nepochs + 1):\n",
    "    for batch_idx, (X, y) in enumerate(train_loader):\n",
    "        # the inputs and labels have to be on the same device as the model\n",
    "        X, y = X.to(device), y.to(device)\n",
    "        \n",
    "        optimizer.zero_grad()\n",
    "\n",
    "        prediction_logits = model(X)\n",
    "        \n",
    "        batch_loss = loss_function(prediction_logits, y)\n",
    "\n",
    "        batch_loss.backward()\n",
    "\n",
    "        optimizer.step()\n",
    "\n",
    "        if batch_idx % log_interval == 0:\n",
    "            print(\n",
    "                \"Train Epoch:\",\n",
    "                epoch,\n",
    "                \"Batch:\",\n",
    "                batch_idx,\n",
    "                \"Total samples processed:\",\n",
    "                (batch_idx + 1) * train_loader.batch_size,\n",
    "                \"Loss:\",\n",
    "                batch_loss.item(),\n",
    "            )"
   ]
  },
  {
   "cell_type": "markdown",
   "metadata": {},
   "source": [
    "## Look at self-prediction\n",
    "\n",
    "Self-prediction does not tell us how the UNET will perform on new data, but it is a useful check to make sure the UNET is learning the training data. "
   ]
  },
  {
   "cell_type": "code",
   "execution_count": 42,
   "metadata": {},
   "outputs": [
    {
     "data": {
      "text/plain": [
       "Text(0.5, 1.0, 'Predictions')"
      ]
     },
     "execution_count": 42,
     "metadata": {},
     "output_type": "execute_result"
    },
    {
     "data": {
      "image/png": "[encoded data removed]",
      "text/plain": [
       "<Figure size 640x480 with 3 Axes>"
      ]
     },
     "metadata": {},
     "output_type": "display_data"
    }
   ],
   "source": [
    "import matplotlib.pyplot as plt\n",
    "\n",
    "# convert to 0/1 range on each pixel\n",
    "prediction = torch.nn.functional.sigmoid(prediction_logits)\n",
    "prediction_binary = prediction #(prediction > 0.5).to(torch.uint8)\n",
    "\n",
    "sidx = 1\n",
    "plt.subplot(131)\n",
    "plt.imshow(X[sidx, 0].cpu().numpy(), cmap=\"gray\")\n",
    "plt.title(\"Input\")\n",
    "\n",
    "plt.subplot(132)\n",
    "plt.imshow(y[sidx, 0].cpu().numpy(), cmap=\"gray\")\n",
    "plt.title(\"Ground truth\")\n",
    "\n",
    "plt.subplot(133)\n",
    "plt.imshow(prediction_binary.cpu().detach()[sidx, 0].numpy(), cmap=\"gray\")\n",
    "plt.title(\"Predictions\")"
   ]
  },
  {
   "cell_type": "markdown",
   "metadata": {},
   "source": [
    "## Save the UNET"
   ]
  },
  {
   "cell_type": "code",
   "execution_count": null,
   "metadata": {},
   "outputs": [],
   "source": [
    "torch.save(model, train_path / 'model_pores')"
   ]
  }
 ],
 "metadata": {
  "kernelspec": {
   "display_name": "pytorch_tests2",
   "language": "python",
   "name": "python3"
  },
  "language_info": {
   "codemirror_mode": {
    "name": "ipython",
    "version": 3
   },
   "file_extension": ".py",
   "mimetype": "text/x-python",
   "name": "python",
   "nbconvert_exporter": "python",
   "pygments_lexer": "ipython3",
   "version": "3.10.13"
  }
 },
 "nbformat": 4,
 "nbformat_minor": 2
}
