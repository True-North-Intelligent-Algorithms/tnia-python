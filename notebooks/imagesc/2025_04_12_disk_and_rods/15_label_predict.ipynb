{
 "cells": [
  {
   "cell_type": "markdown",
   "metadata": {},
   "source": [
    "## Use Napari-Easy-Augment-Batch-DL to load and label images\n",
    "\n",
    "\n",
    "This notebook starts up Napari-Easy-Augment-Batch-DL and points it to our project directory.  At the beginning of a project this directory is simply the location of our collection of images.  \n",
    "\n",
    "The first thing we want to do is create a label ROI and label one type of image as below. \n",
    "<img src=\"./figures/napari-disk-like.png\" alt=\"rod-like\" width=\"450\">  \n",
    "<br>\n",
    "Remember:  The ultimate goal of this example is to 'not-predict' negative data.  So when we label we will leave one type of image completely empty as below. \n",
    "<img src=\"./figures/napari-rod-like.png\" alt=\"rod-like\" width=\"450\">\n",
    "<br>\n",
    "<img src=\"./figures/project.png\" alt=\"rod-like\" width=\"450\">\n",
    "<br>\n",
    "<img src=\"./figures/patches.png\" alt=\"rod-like\" width=\"450\">\n"
   ]
  },
  {
   "cell_type": "markdown",
   "metadata": {},
   "source": [
    "## Import and check versions"
   ]
  },
  {
   "cell_type": "code",
   "execution_count": 1,
   "metadata": {},
   "outputs": [
    {
     "name": "stderr",
     "output_type": "stream",
     "text": [
      "c:\\Users\\bnort\\miniconda3\\envs\\microsam_cellpose\\Lib\\site-packages\\tqdm\\auto.py:21: TqdmWarning: IProgress not found. Please update jupyter and ipywidgets. See https://ipywidgets.readthedocs.io/en/stable/user_install.html\n",
      "  from .autonotebook import tqdm as notebook_tqdm\n",
      "c:\\Users\\bnort\\miniconda3\\envs\\microsam_cellpose\\Lib\\site-packages\\timm\\models\\layers\\__init__.py:48: FutureWarning: Importing from timm.models.layers is deprecated, please import via timm.layers\n",
      "  warnings.warn(f\"Importing from {__name__} is deprecated, please import via timm.layers\", FutureWarning)\n",
      "c:\\Users\\bnort\\miniconda3\\envs\\microsam_cellpose\\Lib\\site-packages\\timm\\models\\registry.py:4: FutureWarning: Importing from timm.models.registry is deprecated, please import via timm.models\n",
      "  warnings.warn(f\"Importing from {__name__} is deprecated, please import via timm.models\", FutureWarning)\n",
      "C:\\Users\\bnort\\work\\ImageJ2022\\tnia\\segment-everything\\src\\segment_everything\\vendored\\efficientvit\\models\\nn\\ops.py:407: FutureWarning: `torch.cuda.amp.autocast(args...)` is deprecated. Please use `torch.amp.autocast('cuda', args...)` instead.\n",
      "  @autocast(enabled=False)\n"
     ]
    },
    {
     "name": "stdout",
     "output_type": "stream",
     "text": [
      "napari version 0.5.6\n",
      "numpy version 1.26.4\n",
      "stardist not installed No module named 'stardist'\n",
      "micro_sam version 1.4.0\n",
      "cellpose version 3.1.0\n"
     ]
    }
   ],
   "source": [
    "import napari\n",
    "import numpy as np\n",
    "from napari_easy_augment_batch_dl import easy_augment_batch_dl\n",
    "import os\n",
    "# for trouble shooting print the napari and numpy version. This can give us clues if there are dependency issues\n",
    "print('napari version', napari.__version__)\n",
    "print('numpy version', np.__version__)\n",
    "\n",
    "try:\n",
    "    import stardist\n",
    "    print('stardist version', stardist.__version__)\n",
    "except Exception as e:\n",
    "    print('stardist not installed', e)\n",
    "#from napari_easy_augment_batch_dl.frameworks.cellpose_instance_framework import CellPoseInstanceFramework\n",
    "\n",
    "try:\n",
    "    import micro_sam\n",
    "    print('micro_sam version', micro_sam.__version__)\n",
    "except Exception as e:\n",
    "    print('micro_sam not installed', e)\n",
    "\n",
    "try:\n",
    "    import cellpose\n",
    "    print('cellpose version', cellpose.version)\n",
    "except Exception as e:\n",
    "    print('cellpose not installed', e)"
   ]
  },
  {
   "cell_type": "markdown",
   "metadata": {},
   "source": [
    "## Start Napari and Easy Augment Batch DL\n",
    "\n",
    "Start Napari, show Easy-Augment-Batch-DL and show the parent directory. "
   ]
  },
  {
   "cell_type": "code",
   "execution_count": null,
   "metadata": {},
   "outputs": [
    {
     "name": "stderr",
     "output_type": "stream",
     "text": [
      "WARNING: QWindowsWindow::setGeometry: Unable to set geometry 1796x1110+2560+280 (frame: 1812x1149+2552+249) on QWidgetWindow/\"_QtMainWindowClassWindow\" on \"\\\\.\\DISPLAY2\". Resulting geometry: 1796x1061+2560+280 (frame: 1812x1100+2552+249) margins: 8, 31, 8, 8 minimum size: 385x497 MINMAXINFO maxSize=0,0 maxpos=0,0 mintrack=401,536 maxtrack=0,0)\n",
      "C:\\Users\\bnort\\AppData\\Local\\Temp\\ipykernel_32420\\3555739001.py:3: DeprecationWarning: The 'label_only' parameter is deprecated. Please use the 'mode' parameter instead.\n",
      "  batch_dl = easy_augment_batch_dl.NapariEasyAugmentBatchDL(viewer)\n"
     ]
    },
    {
     "name": "stdout",
     "output_type": "stream",
     "text": [
      "VIT checkpoint loaded successfully\n",
      "Found framework CellPoseInstanceFramework\n",
      "creating new log file\n",
      "2025-04-26 18:25:21,113 [INFO] WRITING LOG OUTPUT TO C:\\Users\\bnort\\.cellpose\\run.log\n",
      "2025-04-26 18:25:21,114 [INFO] \n",
      "cellpose version: \t3.1.0 \n",
      "platform:       \twin32 \n",
      "python version: \t3.11.11 \n",
      "torch version:  \t2.6.0\n",
      "Found framework PytorchSemanticFramework\n",
      "Found framework MobileSAMFramework\n",
      "Found framework YoloSAMFramework\n",
      "Found framework RandomForestFramework\n",
      "Zarr store already up-to-date.\n",
      "Zarr store already up-to-date.\n",
      "Adding object boxes layer\n",
      "Adding predicted object boxes layer\n",
      "Adding label boxes\n",
      "Data changed\n",
      "Data changed\n",
      "Adding object boxes\n",
      "Adding predicted object boxes\n",
      "Setting object box classes\n",
      "Setting predicted object box classes\n"
     ]
    },
    {
     "name": "stdout",
     "output_type": "stream",
     "text": [
      "2025-04-26 18:25:42,560 [INFO] ** TORCH CUDA version installed and working. **\n",
      "2025-04-26 18:25:42,562 [INFO] >>>> using GPU (CUDA)\n",
      "2025-04-26 18:25:42,684 [INFO] >>>> loading model D:/images/tnia-python-images/imagesc/2025_04_12_disk_like/models/disks_but_no_rods_rescale_false\n",
      "2025-04-26 18:25:42,888 [INFO] >>>> model diam_mean =  30.000 (ROIs rescaled to this size during training)\n",
      "2025-04-26 18:25:42,889 [INFO] >>>> model diam_labels =  17.553 (mean diameter of training ROIs)\n",
      "2025-04-26 18:25:50,910 [INFO] ** TORCH CUDA version installed and working. **\n",
      "2025-04-26 18:25:50,911 [INFO] >>>> using GPU (CUDA)\n",
      "2025-04-26 18:25:51,017 [INFO] >>>> loading model D:/images/tnia-python-images/imagesc/2025_04_12_disk_like/models/disks_but_no_rods_rescale_true\n",
      "2025-04-26 18:25:51,188 [INFO] >>>> model diam_mean =  30.000 (ROIs rescaled to this size during training)\n",
      "2025-04-26 18:25:51,189 [INFO] >>>> model diam_labels =  17.553 (mean diameter of training ROIs)\n",
      "2025-04-26 18:26:03,547 [INFO] ** TORCH CUDA version installed and working. **\n",
      "2025-04-26 18:26:03,548 [INFO] >>>> using GPU (CUDA)\n",
      "2025-04-26 18:26:03,664 [INFO] >>>> loading model D:/images/tnia-python-images/imagesc/2025_04_12_disk_like/models/disks_but_no_rods_rescale_false\n",
      "2025-04-26 18:26:03,860 [INFO] >>>> model diam_mean =  30.000 (ROIs rescaled to this size during training)\n",
      "2025-04-26 18:26:03,861 [INFO] >>>> model diam_labels =  17.553 (mean diameter of training ROIs)\n",
      "2025-04-26 18:26:07,793 [INFO] No cell pixels found.\n"
     ]
    }
   ],
   "source": [
    "viewer = napari.Viewer()\n",
    "\n",
    "batch_dl = easy_augment_batch_dl.NapariEasyAugmentBatchDL(viewer)\n",
    "\n",
    "viewer.window.add_dock_widget(\n",
    "    batch_dl\n",
    ")\n",
    "\n",
    "parent_path = r'D:\\images\\tnia-python-images\\imagesc\\2025_04_12_disk_like'\n",
    "batch_dl.load_image_directory(parent_path)\n",
    "\n",
    "model_path = os.path.join(parent_path, 'models')\n",
    "model_name = None\n",
    "\n",
    "if model_name is not None:\n",
    "    # set the drop down to the CellPoseInstanceFramework\n",
    "    batch_dl.network_architecture_drop_down.setCurrentText(CellPoseInstanceFramework.descriptor)\n",
    "    \n",
    "    # get the cellpose widget\n",
    "    widget = batch_dl.deep_learning_widgets[CellPoseInstanceFramework.descriptor]\n",
    "    \n",
    "    # load model\n",
    "    widget.load_model_from_path(os.path.join(model_path, model_name))\n",
    "\n",
    "    # get the framework object\n",
    "    framework = batch_dl.deep_learning_project.frameworks[CellPoseInstanceFramework.descriptor]\n",
    "\n",
    "    # set the parameters for the cellpose framework\n",
    "    framework.prob_thresh = -2\n",
    "    framework.flow_thresh = 0.4\n",
    "    framework.chan_segment = 0 \n",
    "    framework.chan2 = 0\n",
    "\n",
    "    # sync parameters on the widget after this we should see the widget in Napari synced with the parameters we set on the framework\n",
    "    widget.sync_with_framework()"
   ]
  },
  {
   "cell_type": "code",
   "execution_count": null,
   "metadata": {},
   "outputs": [],
   "source": []
  }
 ],
 "metadata": {
  "kernelspec": {
   "display_name": "microsam_cellpose",
   "language": "python",
   "name": "python3"
  },
  "language_info": {
   "codemirror_mode": {
    "name": "ipython",
    "version": 3
   },
   "file_extension": ".py",
   "mimetype": "text/x-python",
   "name": "python",
   "nbconvert_exporter": "python",
   "pygments_lexer": "ipython3",
   "version": "3.11.11"
  }
 },
 "nbformat": 4,
 "nbformat_minor": 2
}
