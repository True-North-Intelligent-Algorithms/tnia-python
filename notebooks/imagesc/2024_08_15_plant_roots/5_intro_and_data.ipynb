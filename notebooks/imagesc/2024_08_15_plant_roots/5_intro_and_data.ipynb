{
 "cells": [
  {
   "cell_type": "markdown",
   "metadata": {},
   "source": [
    "# Napari + Pytorch unet sementic segmentation of a series \n",
    "\n",
    "This example was inspired by this [Image.sc question](https://forum.image.sc/t/2-photon-vessel-segmentation-with-variable-background/100164/6)\n",
    "\n",
    "We are trying to give some insight to the question \"how many labels would you expect to give reasonable results\"\n",
    "\n",
    "This example is meant to show, in general, how to use Napari and custom widgets for labelling of an image series, and then how to use pytorch to train a semantic segmentation network. \n",
    "\n",
    "We are trying to give some insight to the question \"how many labels would you expect to give reasonable results\"\n",
    "\n",
    "## Data\n",
    "\n",
    "Data for this example can be found [here](https://www.dropbox.com/scl/fo/endgoc3vbzk815rhrrqrz/AC5NbE-YXq_MID0VaX-3cKI?rlkey=2qkddrf19o5lf1maqvazkwdve&st=anj5zhaz&dl=0)\n",
    "\n",
    "The data was originally part of the rootpainter project https://zenodo.org/records/3754046\n",
    "\n",
    "If you are interested in customized tools for root segmentation check out the rootpainter project [here](https://github.com/Abe404/root_painter)\n"
   ]
  },
  {
   "cell_type": "markdown",
   "metadata": {},
   "source": []
  }
 ],
 "metadata": {
  "language_info": {
   "name": "python"
  }
 },
 "nbformat": 4,
 "nbformat_minor": 2
}
