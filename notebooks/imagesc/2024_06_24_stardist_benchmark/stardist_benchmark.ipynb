{
 "cells": [
  {
   "cell_type": "markdown",
   "metadata": {},
   "source": [
    "## Stardist benchmark"
   ]
  },
  {
   "cell_type": "code",
   "execution_count": 1,
   "metadata": {},
   "outputs": [],
   "source": [
    "import raster_geometry as rg\n",
    "import numpy as np\n",
    "from tnia.simulation.phantoms import add_small_to_large_2d\n",
    "import matplotlib.pyplot as plt\n",
    "from tnia.plotting.plt_helper import imshow_multi2d\n",
    "import math\n",
    "import numpy as np"
   ]
  },
  {
   "cell_type": "markdown",
   "metadata": {},
   "source": [
    "## Make a super simple fake dataset\n",
    "\n",
    "It only has 2 objects, object 1 with diameter of 6, object 2 with diameter of 140"
   ]
  },
  {
   "cell_type": "code",
   "execution_count": 2,
   "metadata": {},
   "outputs": [
    {
     "data": {
      "text/plain": [
       "<matplotlib.image.AxesImage at 0x1f98c2bb1f0>"
      ]
     },
     "execution_count": 2,
     "metadata": {},
     "output_type": "execute_result"
    },
    {
     "data": {
      "image/png": "[encoded data removed]",
      "text/plain": [
       "<Figure size 640x480 with 1 Axes>"
      ]
     },
     "metadata": {},
     "output_type": "display_data"
    }
   ],
   "source": [
    "width, height = 224, 224\n",
    "\n",
    "image = np.zeros([height, width], dtype=np.float32)\n",
    "truth = np.zeros([height, width], dtype=np.float32)\n",
    "\n",
    "x, y = 44, 44\n",
    "r = 3 \n",
    "size = [math.ceil(r*2), math.ceil(r*2)]\n",
    "temp=rg.circle(size, r)\n",
    "add_small_to_large_2d(image, temp, x, y, mode='replace_non_zero')\n",
    "add_small_to_large_2d(truth, temp, x, y, mode='replace_non_zero')\n",
    "\n",
    "x, y = 136, 136\n",
    "r = 5 \n",
    "size = [math.ceil(r*2), math.ceil(r*2)]\n",
    "temp=rg.circle(size, r)\n",
    "add_small_to_large_2d(image, temp, x, y, mode='replace_non_zero')\n",
    "add_small_to_large_2d(truth, 2*temp, x, y, mode='replace_non_zero')\n",
    "\n",
    "\n",
    "# random circles\n",
    "for i in range(50):\n",
    "    x, y = np.random.randint(0, width), np.random.randint(0, height)\n",
    "    r = np.random.randint(1, 5)\n",
    "    size = [math.ceil(r*2), math.ceil(r*2)]\n",
    "    temp=rg.circle(size, r)\n",
    "    add_small_to_large_2d(image, temp, x, y, mode='replace_non_zero')\n",
    "    add_small_to_large_2d(truth, temp, x, y, mode='replace_non_zero')\n",
    "\n",
    "\n",
    "plt.imshow(truth)"
   ]
  },
  {
   "cell_type": "markdown",
   "metadata": {},
   "source": [
    "## Repeat the objects to make a fake training set\n",
    "\n",
    "Just repeat a few times to make a trivial training set.  No need to even add blur or noise, we just want to see if a custom model can learn different scales. "
   ]
  },
  {
   "cell_type": "code",
   "execution_count": 3,
   "metadata": {},
   "outputs": [],
   "source": [
    "X = [image.copy().astype('float32')[..., np.newaxis] for i in range(10)]\n",
    "Y = [truth.copy().astype('uint16') for i in range(10)]"
   ]
  },
  {
   "cell_type": "markdown",
   "metadata": {},
   "source": [
    "## Make a custom model"
   ]
  },
  {
   "cell_type": "code",
   "execution_count": 4,
   "metadata": {},
   "outputs": [
    {
     "name": "stderr",
     "output_type": "stream",
     "text": [
      "base_model.py (198): output path for model already exists, files may be overwritten: C:\\Users\\bnort\\work\\ImageJ2022\\tnia\\tnia-python\\notebooks\\imagesc\\2024_06_24_stardist_benchmark\\erase_me\\model1\n"
     ]
    },
    {
     "name": "stdout",
     "output_type": "stream",
     "text": [
      "Using default values: prob_thresh=0.5, nms_thresh=0.4.\n"
     ]
    }
   ],
   "source": [
    "from stardist.models import StarDist2D, Config2D\n",
    "from tnia.deeplearning.dl_helper import augmenter\n",
    "\n",
    "n_channel_in = 1\n",
    "n_rays = 32\n",
    "axes = 'YX'\n",
    "config = Config2D (n_rays=n_rays, axes=axes,n_channel_in=n_channel_in, train_patch_size = (224,224), unet_n_depth=3)\n",
    "\n",
    "model_path = './erase_me'\n",
    "\n",
    "model = StarDist2D(config=config, name=\"model1\", basedir=model_path)\n"
   ]
  },
  {
   "cell_type": "code",
   "execution_count": 5,
   "metadata": {},
   "outputs": [
    {
     "name": "stdout",
     "output_type": "stream",
     "text": [
      "0.8.5\n",
      "2.10.1\n",
      "Epoch 1/5\n",
      "100/100 [==============================] - 16s 84ms/step - loss: 0.4829 - prob_loss: 0.1145 - dist_loss: 1.8422 - prob_kld: 0.0975 - dist_relevant_mae: 1.8420 - dist_relevant_mse: 5.8406 - dist_dist_iou_metric: 0.3502 - val_loss: 0.2562 - val_prob_loss: 0.0231 - val_dist_loss: 1.1652 - val_prob_kld: 0.0070 - val_dist_relevant_mae: 1.1650 - val_dist_relevant_mse: 2.5833 - val_dist_dist_iou_metric: 0.5071 - lr: 3.0000e-04\n",
      "Epoch 2/5\n",
      "100/100 [==============================] - 7s 66ms/step - loss: 0.1516 - prob_loss: 0.0191 - dist_loss: 0.6628 - prob_kld: 0.0029 - dist_relevant_mae: 0.6626 - dist_relevant_mse: 1.1567 - dist_dist_iou_metric: 0.6997 - val_loss: 0.1052 - val_prob_loss: 0.0183 - val_dist_loss: 0.4345 - val_prob_kld: 0.0021 - val_dist_relevant_mae: 0.4343 - val_dist_relevant_mse: 0.5338 - val_dist_dist_iou_metric: 0.8049 - lr: 3.0000e-04\n",
      "Epoch 3/5\n",
      "100/100 [==============================] - 7s 68ms/step - loss: 0.0934 - prob_loss: 0.0179 - dist_loss: 0.3771 - prob_kld: 0.0017 - dist_relevant_mae: 0.3769 - dist_relevant_mse: 0.4442 - dist_dist_iou_metric: 0.8245 - val_loss: 0.0855 - val_prob_loss: 0.0177 - val_dist_loss: 0.3391 - val_prob_kld: 0.0015 - val_dist_relevant_mae: 0.3389 - val_dist_relevant_mse: 0.3803 - val_dist_dist_iou_metric: 0.8377 - lr: 3.0000e-04\n",
      "Epoch 4/5\n",
      "100/100 [==============================] - 7s 67ms/step - loss: 0.0804 - prob_loss: 0.0175 - dist_loss: 0.3147 - prob_kld: 0.0013 - dist_relevant_mae: 0.3144 - dist_relevant_mse: 0.3353 - dist_dist_iou_metric: 0.8503 - val_loss: 0.0768 - val_prob_loss: 0.0173 - val_dist_loss: 0.2974 - val_prob_kld: 0.0012 - val_dist_relevant_mae: 0.2971 - val_dist_relevant_mse: 0.3032 - val_dist_dist_iou_metric: 0.8590 - lr: 3.0000e-04\n",
      "Epoch 5/5\n",
      "100/100 [==============================] - 7s 69ms/step - loss: 0.0744 - prob_loss: 0.0172 - dist_loss: 0.2860 - prob_kld: 0.0011 - dist_relevant_mae: 0.2857 - dist_relevant_mse: 0.2916 - dist_dist_iou_metric: 0.8620 - val_loss: 0.0718 - val_prob_loss: 0.0172 - val_dist_loss: 0.2730 - val_prob_kld: 9.7145e-04 - val_dist_relevant_mae: 0.2728 - val_dist_relevant_mse: 0.2792 - val_dist_dist_iou_metric: 0.8667 - lr: 3.0000e-04\n",
      "\n",
      "Loading network weights from 'weights_best.h5'.\n"
     ]
    },
    {
     "data": {
      "text/plain": [
       "<keras.callbacks.History at 0x1f99b2af640>"
      ]
     },
     "execution_count": 5,
     "metadata": {},
     "output_type": "execute_result"
    }
   ],
   "source": [
    "import stardist\n",
    "import tensorflow as tf\n",
    "print (stardist.__version__)\n",
    "print (tf.__version__)\n",
    "\n",
    "\n",
    "# dplexbio311 45 seconds. \n",
    "\n",
    "model.train(X, Y, validation_data=(X,Y),epochs=5) "
   ]
  },
  {
   "cell_type": "code",
   "execution_count": 21,
   "metadata": {},
   "outputs": [
    {
     "name": "stdout",
     "output_type": "stream",
     "text": [
      "65525\n",
      "65525\n",
      "65525\n",
      "65525\n",
      "65525\n",
      "65525\n",
      "65525\n",
      "65525\n",
      "65525\n",
      "65525\n"
     ]
    }
   ],
   "source": [
    "for y in Y:\n",
    "    print(y.min())"
   ]
  },
  {
   "cell_type": "code",
   "execution_count": null,
   "metadata": {},
   "outputs": [],
   "source": []
  }
 ],
 "metadata": {
  "kernelspec": {
   "display_name": "pytorch_and_SAM",
   "language": "python",
   "name": "python3"
  },
  "language_info": {
   "codemirror_mode": {
    "name": "ipython",
    "version": 3
   },
   "file_extension": ".py",
   "mimetype": "text/x-python",
   "name": "python",
   "nbconvert_exporter": "python",
   "pygments_lexer": "ipython3",
   "version": "3.9.19"
  }
 },
 "nbformat": 4,
 "nbformat_minor": 2
}
