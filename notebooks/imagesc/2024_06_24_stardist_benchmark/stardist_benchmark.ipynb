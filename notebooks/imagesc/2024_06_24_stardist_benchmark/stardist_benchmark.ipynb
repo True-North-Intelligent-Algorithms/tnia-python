{
 "cells": [
  {
   "cell_type": "markdown",
   "metadata": {},
   "source": [
    "## Stardist benchmark"
   ]
  },
  {
   "cell_type": "code",
   "execution_count": 2,
   "metadata": {},
   "outputs": [],
   "source": [
    "import raster_geometry as rg\n",
    "import numpy as np\n",
    "from tnia.simulation.phantoms import add_small_to_large_2d\n",
    "import matplotlib.pyplot as plt\n",
    "from tnia.plotting.plt_helper import imshow_multi2d\n",
    "import math"
   ]
  },
  {
   "cell_type": "markdown",
   "metadata": {},
   "source": [
    "## Make a super simple fake dataset\n",
    "\n",
    "It only has 2 objects, object 1 with diameter of 6, object 2 with diameter of 140"
   ]
  },
  {
   "cell_type": "code",
   "execution_count": 3,
   "metadata": {},
   "outputs": [
    {
     "data": {
      "text/plain": [
       "<matplotlib.image.AxesImage at 0x19b3ed48d00>"
      ]
     },
     "execution_count": 3,
     "metadata": {},
     "output_type": "execute_result"
    },
    {
     "data": {
      "image/png": "[encoded data removed]",
      "text/plain": [
       "<Figure size 640x480 with 1 Axes>"
      ]
     },
     "metadata": {},
     "output_type": "display_data"
    }
   ],
   "source": [
    "width, height = 224, 224\n",
    "\n",
    "image = np.zeros([height, width], dtype=np.float32)\n",
    "truth = np.zeros([height, width], dtype=np.float32)\n",
    "\n",
    "x, y = 44, 44\n",
    "r = 3 \n",
    "size = [math.ceil(r*2), math.ceil(r*2)]\n",
    "temp=rg.circle(size, r)\n",
    "add_small_to_large_2d(image, temp, x, y, mode='replace_non_zero')\n",
    "add_small_to_large_2d(truth, temp, x, y, mode='replace_non_zero')\n",
    "\n",
    "x, y = 136, 136\n",
    "r = 5 \n",
    "size = [math.ceil(r*2), math.ceil(r*2)]\n",
    "temp=rg.circle(size, r)\n",
    "add_small_to_large_2d(image, temp, x, y, mode='replace_non_zero')\n",
    "add_small_to_large_2d(truth, 2*temp, x, y, mode='replace_non_zero')\n",
    "\n",
    "plt.imshow(truth)"
   ]
  },
  {
   "cell_type": "markdown",
   "metadata": {},
   "source": [
    "## Repeat the objects to make a fake training set\n",
    "\n",
    "Just repeat a few times to make a trivial training set.  No need to even add blur or noise, we just want to see if a custom model can learn different scales. "
   ]
  },
  {
   "cell_type": "code",
   "execution_count": 4,
   "metadata": {},
   "outputs": [],
   "source": [
    "X = [image.copy().astype('float32')[..., np.newaxis] for i in range(10)]\n",
    "Y = [truth.copy().astype('uint16') for i in range(10)]"
   ]
  },
  {
   "cell_type": "markdown",
   "metadata": {},
   "source": [
    "## Make a custom model"
   ]
  },
  {
   "cell_type": "code",
   "execution_count": 5,
   "metadata": {},
   "outputs": [
    {
     "name": "stderr",
     "output_type": "stream",
     "text": [
      "base_model.py (198): output path for model already exists, files may be overwritten: C:\\Users\\bnort\\work\\ImageJ2022\\tnia\\tnia-python\\notebooks\\imagesc\\2024_06_24_stardist_benchmark\\erase_me\\model1\n"
     ]
    },
    {
     "name": "stdout",
     "output_type": "stream",
     "text": [
      "Using default values: prob_thresh=0.5, nms_thresh=0.4.\n"
     ]
    }
   ],
   "source": [
    "from stardist.models import StarDist2D, Config2D\n",
    "from tnia.deeplearning.dl_helper import augmenter\n",
    "\n",
    "n_channel_in = 1\n",
    "n_rays = 32\n",
    "axes = 'YX'\n",
    "config = Config2D (n_rays=n_rays, axes=axes,n_channel_in=n_channel_in, train_patch_size = (224,224), unet_n_depth=3)\n",
    "\n",
    "model_path = './erase_me'\n",
    "\n",
    "model = StarDist2D(config=config, name=\"model1\", basedir=model_path)\n"
   ]
  },
  {
   "cell_type": "code",
   "execution_count": 6,
   "metadata": {},
   "outputs": [
    {
     "name": "stdout",
     "output_type": "stream",
     "text": [
      "0.8.5\n",
      "2.10.1\n",
      "Epoch 1/5\n",
      "100/100 [==============================] - 16s 86ms/step - loss: 0.5076 - prob_loss: 0.0779 - dist_loss: 2.1484 - prob_kld: 0.0764 - dist_relevant_mae: 2.1482 - dist_relevant_mse: 7.9629 - dist_dist_iou_metric: 0.3664 - val_loss: 0.3243 - val_prob_loss: 0.0095 - val_dist_loss: 1.5739 - val_prob_kld: 0.0082 - val_dist_relevant_mae: 1.5736 - val_dist_relevant_mse: 3.9912 - val_dist_dist_iou_metric: 0.4703 - lr: 3.0000e-04\n",
      "Epoch 2/5\n",
      "100/100 [==============================] - 7s 70ms/step - loss: 0.1773 - prob_loss: 0.0077 - dist_loss: 0.8476 - prob_kld: 0.0065 - dist_relevant_mae: 0.8468 - dist_relevant_mse: 1.6382 - dist_dist_iou_metric: 0.6854 - val_loss: 0.0850 - val_prob_loss: 0.0038 - val_dist_loss: 0.4059 - val_prob_kld: 0.0026 - val_dist_relevant_mae: 0.4049 - val_dist_relevant_mse: 0.3478 - val_dist_dist_iou_metric: 0.8435 - lr: 3.0000e-04\n",
      "Epoch 3/5\n",
      "100/100 [==============================] - 7s 70ms/step - loss: 0.0711 - prob_loss: 0.0022 - dist_loss: 0.3444 - prob_kld: 9.6539e-04 - dist_relevant_mae: 0.3437 - dist_relevant_mse: 0.2427 - dist_dist_iou_metric: 0.8672 - val_loss: 0.0616 - val_prob_loss: 0.0016 - val_dist_loss: 0.3003 - val_prob_kld: 3.2389e-04 - val_dist_relevant_mae: 0.2998 - val_dist_relevant_mse: 0.1759 - val_dist_dist_iou_metric: 0.8853 - lr: 3.0000e-04\n",
      "Epoch 4/5\n",
      "100/100 [==============================] - 7s 68ms/step - loss: 0.0565 - prob_loss: 0.0015 - dist_loss: 0.2749 - prob_kld: 2.2857e-04 - dist_relevant_mae: 0.2744 - dist_relevant_mse: 0.1470 - dist_dist_iou_metric: 0.8928 - val_loss: 0.0515 - val_prob_loss: 0.0014 - val_dist_loss: 0.2504 - val_prob_kld: 1.8726e-04 - val_dist_relevant_mae: 0.2501 - val_dist_relevant_mse: 0.1244 - val_dist_dist_iou_metric: 0.9020 - lr: 3.0000e-04\n",
      "Epoch 5/5\n",
      "100/100 [==============================] - 7s 70ms/step - loss: 0.0507 - prob_loss: 0.0014 - dist_loss: 0.2461 - prob_kld: 1.7857e-04 - dist_relevant_mae: 0.2459 - dist_relevant_mse: 0.1202 - dist_dist_iou_metric: 0.9035 - val_loss: 0.0485 - val_prob_loss: 0.0014 - val_dist_loss: 0.2353 - val_prob_kld: 1.7610e-04 - val_dist_relevant_mae: 0.2351 - val_dist_relevant_mse: 0.1126 - val_dist_dist_iou_metric: 0.9086 - lr: 3.0000e-04\n",
      "\n",
      "Loading network weights from 'weights_best.h5'.\n"
     ]
    },
    {
     "data": {
      "text/plain": [
       "<keras.callbacks.History at 0x19b4db4f5b0>"
      ]
     },
     "execution_count": 6,
     "metadata": {},
     "output_type": "execute_result"
    }
   ],
   "source": [
    "import stardist\n",
    "import tensorflow as tf\n",
    "print (stardist.__version__)\n",
    "print (tf.__version__)\n",
    "\n",
    "\n",
    "model.train(X, Y, validation_data=(X,Y),epochs=5) "
   ]
  },
  {
   "cell_type": "code",
   "execution_count": null,
   "metadata": {},
   "outputs": [],
   "source": []
  }
 ],
 "metadata": {
  "kernelspec": {
   "display_name": "pytorch_and_SAM",
   "language": "python",
   "name": "python3"
  },
  "language_info": {
   "codemirror_mode": {
    "name": "ipython",
    "version": 3
   },
   "file_extension": ".py",
   "mimetype": "text/x-python",
   "name": "python",
   "nbconvert_exporter": "python",
   "pygments_lexer": "ipython3",
   "version": "3.9.19"
  }
 },
 "nbformat": 4,
 "nbformat_minor": 2
}
