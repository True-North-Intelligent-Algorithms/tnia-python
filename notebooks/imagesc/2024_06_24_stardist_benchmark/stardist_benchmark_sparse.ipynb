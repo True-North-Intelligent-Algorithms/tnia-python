{
 "cells": [
  {
   "cell_type": "markdown",
   "metadata": {},
   "source": [
    "## Stardist benchmark"
   ]
  },
  {
   "cell_type": "code",
   "execution_count": 1,
   "metadata": {},
   "outputs": [],
   "source": [
    "import raster_geometry as rg\n",
    "import numpy as np\n",
    "from tnia.simulation.phantoms import add_small_to_large_2d\n",
    "import matplotlib.pyplot as plt\n",
    "from tnia.plotting.plt_helper import imshow_multi2d\n",
    "import math"
   ]
  },
  {
   "cell_type": "markdown",
   "metadata": {},
   "source": [
    "## Make a super simple fake dataset\n",
    "\n",
    "It only has 2 objects, object 1 with diameter of 6, object 2 with diameter of 140"
   ]
  },
  {
   "cell_type": "code",
   "execution_count": 2,
   "metadata": {},
   "outputs": [
    {
     "name": "stdout",
     "output_type": "stream",
     "text": [
      "-1.0 1.0\n"
     ]
    },
    {
     "data": {
      "image/png": "[encoded data removed]",
      "text/plain": [
       "<Figure size 640x480 with 1 Axes>"
      ]
     },
     "metadata": {},
     "output_type": "display_data"
    }
   ],
   "source": [
    "width, height = 224, 224\n",
    "\n",
    "image = np.zeros([height, width], dtype=np.float32)\n",
    "truth = np.zeros([height, width], dtype=np.float32)\n",
    "\n",
    "x, y = 44, 44\n",
    "r = 3 \n",
    "size = [math.ceil(r*2), math.ceil(r*2)]\n",
    "temp=rg.circle(size, r)\n",
    "add_small_to_large_2d(image, temp, x, y, mode='replace_non_zero')\n",
    "add_small_to_large_2d(truth, temp, x, y, mode='replace_non_zero')\n",
    "\n",
    "x, y = 136, 136\n",
    "r = 5 \n",
    "size = [math.ceil(r*2), math.ceil(r*2)]\n",
    "temp=rg.circle(size, r)\n",
    "add_small_to_large_2d(image, temp, x, y, mode='replace_non_zero')\n",
    "add_small_to_large_2d(truth, 2*temp, x, y, mode='replace_non_zero')\n",
    "\n",
    "truth = truth - 1\n",
    "\n",
    "plt.imshow(truth)\n",
    "\n",
    "print(truth.min(), truth.max())"
   ]
  },
  {
   "cell_type": "markdown",
   "metadata": {},
   "source": [
    "## Repeat the objects to make a fake training set\n",
    "\n",
    "Just repeat a few times to make a trivial training set.  No need to even add blur or noise, we just want to see if a custom model can learn different scales. "
   ]
  },
  {
   "cell_type": "code",
   "execution_count": 3,
   "metadata": {},
   "outputs": [],
   "source": [
    "X = [image.copy().astype('float32')[..., np.newaxis] for i in range(10)]\n",
    "Y = [truth.copy().astype('int16') for i in range(10)]"
   ]
  },
  {
   "cell_type": "code",
   "execution_count": 4,
   "metadata": {},
   "outputs": [
    {
     "data": {
      "text/plain": [
       "(-1, 1)"
      ]
     },
     "execution_count": 4,
     "metadata": {},
     "output_type": "execute_result"
    }
   ],
   "source": [
    "Y[0].min(), Y[0].max()"
   ]
  },
  {
   "cell_type": "markdown",
   "metadata": {},
   "source": [
    "## Make a custom model"
   ]
  },
  {
   "cell_type": "code",
   "execution_count": 5,
   "metadata": {},
   "outputs": [
    {
     "name": "stderr",
     "output_type": "stream",
     "text": [
      "base_model.py (203): output path for model already exists, files may be overwritten: C:\\Users\\bnort\\work\\ImageJ2022\\tnia\\tnia-python\\notebooks\\imagesc\\2024_06_24_stardist_benchmark\\erase_me\\model1\n"
     ]
    },
    {
     "name": "stdout",
     "output_type": "stream",
     "text": [
      "Using default values: prob_thresh=0.5, nms_thresh=0.4.\n"
     ]
    }
   ],
   "source": [
    "from stardist.models import StarDist2D, Config2D\n",
    "from tnia.deeplearning.dl_helper import augmenter\n",
    "\n",
    "n_channel_in = 1\n",
    "n_rays = 32\n",
    "axes = 'YX'\n",
    "config = Config2D (n_rays=n_rays, axes=axes,n_channel_in=n_channel_in, train_patch_size = (224,224), unet_n_depth=3)\n",
    "\n",
    "model_path = './erase_me'\n",
    "\n",
    "model = StarDist2D(config=config, name=\"model1\", basedir=model_path)\n"
   ]
  },
  {
   "cell_type": "code",
   "execution_count": 6,
   "metadata": {},
   "outputs": [],
   "source": [
    "X=np.array(X)\n",
    "Y=np.array(Y)"
   ]
  },
  {
   "cell_type": "code",
   "execution_count": 7,
   "metadata": {},
   "outputs": [
    {
     "data": {
      "text/plain": [
       "(dtype('float32'), dtype('int16'))"
      ]
     },
     "execution_count": 7,
     "metadata": {},
     "output_type": "execute_result"
    }
   ],
   "source": [
    "X.dtype, Y.dtype"
   ]
  },
  {
   "cell_type": "code",
   "execution_count": null,
   "metadata": {},
   "outputs": [
    {
     "name": "stdout",
     "output_type": "stream",
     "text": [
      "0.9.1\n",
      "2.10.1\n",
      "Epoch 1/5\n",
      "100/100 [==============================] - 18s 96ms/step - loss: 1.0309 - prob_loss: 0.4707 - dist_loss: 2.8009 - prob_kld: 0.0664 - dist_relevant_mae: 2.8008 - dist_relevant_mse: 12.4740 - dist_dist_iou_metric: 0.2864 - val_loss: 0.7247 - val_prob_loss: 0.4124 - val_dist_loss: 1.5617 - val_prob_kld: 0.0081 - val_dist_relevant_mae: 1.5617 - val_dist_relevant_mse: 4.1664 - val_dist_dist_iou_metric: 0.5158 - lr: 3.0000e-04\n",
      "Epoch 2/5\n",
      " 39/100 [==========>...................] - ETA: 4s - loss: 0.6669 - prob_loss: 0.4120 - dist_loss: 1.2743 - prob_kld: 0.0077 - dist_relevant_mae: 1.2743 - dist_relevant_mse: 3.1494 - dist_dist_iou_metric: 0.5866"
     ]
    }
   ],
   "source": [
    "import stardist\n",
    "import tensorflow as tf\n",
    "print (stardist.__version__)\n",
    "print (tf.__version__)\n",
    "\n",
    "\n",
    "# dplexbio311 45 seconds. \n",
    "\n",
    "model.train(X, Y, validation_data=(X,Y),epochs=5) "
   ]
  },
  {
   "cell_type": "code",
   "execution_count": 21,
   "metadata": {},
   "outputs": [
    {
     "name": "stdout",
     "output_type": "stream",
     "text": [
      "65525\n",
      "65525\n",
      "65525\n",
      "65525\n",
      "65525\n",
      "65525\n",
      "65525\n",
      "65525\n",
      "65525\n",
      "65525\n"
     ]
    }
   ],
   "source": [
    "for y in Y:\n",
    "    print(y.min())"
   ]
  },
  {
   "cell_type": "code",
   "execution_count": null,
   "metadata": {},
   "outputs": [],
   "source": []
  }
 ],
 "metadata": {
  "kernelspec": {
   "display_name": "pytorch_and_SAM",
   "language": "python",
   "name": "python3"
  },
  "language_info": {
   "codemirror_mode": {
    "name": "ipython",
    "version": 3
   },
   "file_extension": ".py",
   "mimetype": "text/x-python",
   "name": "python",
   "nbconvert_exporter": "python",
   "pygments_lexer": "ipython3",
   "version": "3.10.16"
  }
 },
 "nbformat": 4,
 "nbformat_minor": 2
}
