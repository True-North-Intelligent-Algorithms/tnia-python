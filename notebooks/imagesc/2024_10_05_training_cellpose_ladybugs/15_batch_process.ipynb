{
 "cells": [
  {
   "cell_type": "code",
   "execution_count": 11,
   "metadata": {},
   "outputs": [],
   "source": [
    "from pathlib import Path\n",
    "from skimage.io import imread, imsave\n",
    "from cellpose import models, io, utils\n",
    "import os\n",
    "import numpy as np"
   ]
  },
  {
   "cell_type": "code",
   "execution_count": 27,
   "metadata": {},
   "outputs": [],
   "source": [
    "parent_path = r'D:\\images\\tnia-python-images\\imagesc\\2024_10_03_cellpose_ladybugs'\n",
    "overlay_path = r'D:\\images\\tnia-python-images\\imagesc\\2024_10_03_cellpose_ladybugs\\overlay_pretraineed'\n",
    "model_path = os.path.join(parent_path, 'models')\n",
    "\n",
    "model = models.CellposeModel(gpu=True, model_type=None, pretrained_model= os.path.join(model_path, 'models', 'cellposetry_again'))\n",
    "#model = models.Cellpose(gpu=True, model_type=None, pretrained_model= os.path.join(model_path, 'models', 'cellpose_20241005_085232'))\n",
    "stop=5\n"
   ]
  },
  {
   "cell_type": "code",
   "execution_count": 26,
   "metadata": {},
   "outputs": [
    {
     "name": "stdout",
     "output_type": "stream",
     "text": [
      "D:\\images\\tnia-python-images\\imagesc\\2024_10_03_cellpose_ladybugs\\33584593_52760085.jpeg\n",
      "D:\\images\\tnia-python-images\\imagesc\\2024_10_03_cellpose_ladybugs\\38920793_61915904.jpeg\n",
      "D:\\images\\tnia-python-images\\imagesc\\2024_10_03_cellpose_ladybugs\\4841329_5877801.jpeg\n"
     ]
    }
   ],
   "source": [
    "if not Path(overlay_path).exists():\n",
    "    Path(overlay_path).mkdir()\n",
    "\n",
    "files = Path(parent_path).glob('*.jpeg')\n",
    "\n",
    "for file in files:\n",
    "    print(file)\n",
    "    img = imread(file)\n",
    "    masks = model.eval(img, diameter=30, channels=[1, 0], cellprob_threshold=0.0, flow_threshold = 1.0)\n",
    "\n",
    "    img_ = img#//img.max()\n",
    "\n",
    "    outlines = utils.masks_to_outlines(masks[0])\n",
    "    overlay = mask_overlay(img_, masks[0])\n",
    "    imsave(overlay_path + '\\\\' + file.name, overlay)\n",
    "    \n"
   ]
  },
  {
   "cell_type": "code",
   "execution_count": 17,
   "metadata": {},
   "outputs": [
    {
     "data": {
      "text/plain": [
       "(2056, 2464)"
      ]
     },
     "execution_count": 17,
     "metadata": {},
     "output_type": "execute_result"
    }
   ],
   "source": [
    "masks[0].shape"
   ]
  },
  {
   "cell_type": "code",
   "execution_count": 9,
   "metadata": {},
   "outputs": [],
   "source": [
    "import numpy\n",
    "\n",
    "def mask_overlay(img, masks, colors=None):\n",
    "    \"\"\"Overlay masks on image (set image to grayscale).\n",
    "\n",
    "    Args:\n",
    "        img (int or float, 2D or 3D array): Image of size [Ly x Lx (x nchan)].\n",
    "        masks (int, 2D array): Masks where 0=NO masks; 1,2,...=mask labels.\n",
    "        colors (int, 2D array, optional): Size [nmasks x 3], each entry is a color in 0-255 range.\n",
    "\n",
    "    Returns:\n",
    "        RGB (uint8, 3D array): Array of masks overlaid on grayscale image.\n",
    "    \"\"\"\n",
    "    if colors is not None:\n",
    "        if colors.max() > 1:\n",
    "            colors = np.float32(colors)\n",
    "            colors /= 255\n",
    "        colors = utils.rgb_to_hsv(colors)\n",
    "    if img.ndim > 2:\n",
    "        img = img.astype(np.float32).mean(axis=-1)\n",
    "    else:\n",
    "        img = img.astype(np.float32)\n",
    "\n",
    "    HSV = np.zeros((img.shape[0], img.shape[1], 3), np.float32)\n",
    "    HSV[:, :, 2] = np.clip((img / 255. if img.max() > 1 else img) * 1.5, 0, 1)\n",
    "    hues = np.linspace(0, 1, masks.max() + 1)[np.random.permutation(masks.max())]\n",
    "    for n in range(int(masks.max())):\n",
    "        ipix = (masks == n + 1).nonzero()\n",
    "        if colors is None:\n",
    "            HSV[ipix[0], ipix[1], 0] = hues[n]\n",
    "        else:\n",
    "            HSV[ipix[0], ipix[1], 0] = colors[n, 0]\n",
    "        HSV[ipix[0], ipix[1], 1] = 1.0\n",
    "    RGB = (utils.hsv_to_rgb(HSV) * 255).astype(np.uint8)\n",
    "    return RGB"
   ]
  },
  {
   "cell_type": "code",
   "execution_count": null,
   "metadata": {},
   "outputs": [],
   "source": []
  }
 ],
 "metadata": {
  "kernelspec": {
   "display_name": "pytorch_and_SAM3",
   "language": "python",
   "name": "python3"
  },
  "language_info": {
   "codemirror_mode": {
    "name": "ipython",
    "version": 3
   },
   "file_extension": ".py",
   "mimetype": "text/x-python",
   "name": "python",
   "nbconvert_exporter": "python",
   "pygments_lexer": "ipython3",
   "version": "3.10.14"
  }
 },
 "nbformat": 4,
 "nbformat_minor": 2
}
