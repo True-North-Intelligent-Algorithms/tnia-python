{
 "cells": [
  {
   "cell_type": "code",
   "execution_count": 1,
   "metadata": {},
   "outputs": [
    {
     "name": "stderr",
     "output_type": "stream",
     "text": [
      "c:\\Users\\bnort\\miniconda3\\envs\\microsam_cellpose\\Lib\\site-packages\\tqdm\\auto.py:21: TqdmWarning: IProgress not found. Please update jupyter and ipywidgets. See https://ipywidgets.readthedocs.io/en/stable/user_install.html\n",
      "  from .autonotebook import tqdm as notebook_tqdm\n",
      "c:\\Users\\bnort\\miniconda3\\envs\\microsam_cellpose\\Lib\\site-packages\\albumentations\\__init__.py:28: UserWarning: A new version of Albumentations is available: '2.0.7' (you have '2.0.5'). Upgrade using: pip install -U albumentations. To disable automatic update checks, set the environment variable NO_ALBUMENTATIONS_UPDATE to 1.\n",
      "  check_for_updates()\n",
      "c:\\Users\\bnort\\miniconda3\\envs\\microsam_cellpose\\Lib\\site-packages\\timm\\models\\layers\\__init__.py:48: FutureWarning: Importing from timm.models.layers is deprecated, please import via timm.layers\n",
      "  warnings.warn(f\"Importing from {__name__} is deprecated, please import via timm.layers\", FutureWarning)\n",
      "c:\\Users\\bnort\\miniconda3\\envs\\microsam_cellpose\\Lib\\site-packages\\timm\\models\\registry.py:4: FutureWarning: Importing from timm.models.registry is deprecated, please import via timm.models\n",
      "  warnings.warn(f\"Importing from {__name__} is deprecated, please import via timm.models\", FutureWarning)\n",
      "C:\\Users\\bnort\\work\\ImageJ2022\\tnia\\segment-everything\\src\\segment_everything\\vendored\\efficientvit\\models\\nn\\ops.py:407: FutureWarning: `torch.cuda.amp.autocast(args...)` is deprecated. Please use `torch.amp.autocast('cuda', args...)` instead.\n",
      "  @autocast(enabled=False)\n"
     ]
    }
   ],
   "source": [
    "import napari\n",
    "\n",
    "from napari_easy_augment_batch_dl import easy_augment_batch_dl\n",
    "from micro_sam_instance_framework import MicroSamInstanceFramework"
   ]
  },
  {
   "cell_type": "code",
   "execution_count": 2,
   "metadata": {},
   "outputs": [
    {
     "name": "stderr",
     "output_type": "stream",
     "text": [
      "C:\\Users\\bnort\\AppData\\Local\\Temp\\ipykernel_9840\\392536175.py:3: DeprecationWarning: The 'label_only' parameter is deprecated. Please use the 'mode' parameter instead.\n",
      "  batch_dl = easy_augment_batch_dl.NapariEasyAugmentBatchDL(viewer, label_only = False)\n"
     ]
    },
    {
     "name": "stdout",
     "output_type": "stream",
     "text": [
      "VIT checkpoint loaded successfully\n"
     ]
    },
    {
     "data": {
      "text/plain": [
       "<napari._qt.widgets.qt_viewer_dock_widget.QtViewerDockWidget at 0x2935100e170>"
      ]
     },
     "execution_count": 2,
     "metadata": {},
     "output_type": "execute_result"
    }
   ],
   "source": [
    "viewer = napari.Viewer()\n",
    "\n",
    "batch_dl = easy_augment_batch_dl.NapariEasyAugmentBatchDL(viewer, label_only = False)\n",
    "\n",
    "viewer.window.add_dock_widget(\n",
    "    batch_dl\n",
    ")"
   ]
  },
  {
   "cell_type": "code",
   "execution_count": null,
   "metadata": {},
   "outputs": [
    {
     "name": "stderr",
     "output_type": "stream",
     "text": [
      "INFO:cellpose.io:WRITING LOG OUTPUT TO C:\\Users\\bnort\\.cellpose\\run.log\n",
      "INFO:cellpose.io:\n",
      "cellpose version: \t3.1.0 \n",
      "platform:       \twin32 \n",
      "python version: \t3.11.11 \n",
      "torch version:  \t2.6.0\n"
     ]
    },
    {
     "name": "stdout",
     "output_type": "stream",
     "text": [
      "Found framework MicroSamInstanceFramework\n",
      "Found framework CellPoseInstanceFramework\n",
      "Found framework PytorchSemanticFramework\n",
      "Found framework MobileSAMFramework\n",
      "Found framework YoloSAMFramework\n",
      "Found framework RandomForestFramework\n",
      "Error creating ml labels and features: 'results'\n",
      "Error creating ml_labels: 'DeepLearningProject' object has no attribute 'ml_labels'\n",
      "Random Forest ML may not work properly\n",
      "Adding object boxes layer\n",
      "Adding predicted object boxes layer\n",
      "Adding label boxes\n",
      "Adding object boxes\n",
      "Adding predicted object boxes\n",
      "Setting object box classes\n",
      "Setting predicted object box classes\n"
     ]
    },
    {
     "name": "stdout",
     "output_type": "stream",
     "text": [
      "Predicting using Micro-sam model\n",
      "Predicting using Micro-sam model\n",
      "Predicting using Micro-sam model\n"
     ]
    }
   ],
   "source": [
    "from pathlib import Path\n",
    "\n",
    "parent_path = Path(r'D:\\images\\tnia-python-images\\\\imagesc\\\\2024_12_19_sem_grain_size_revisit')\n",
    "model_path = parent_path / 'models' / 'microsam' / 'checkpoints'\n",
    "model_name = 'microsam_grains'\n",
    "\n",
    "model_type = MicroSamInstanceFramework.descriptor\n",
    "\n",
    "batch_dl.load_image_directory(parent_path)\n",
    "# optionally set a pretrained model and settings so we can do prediction\n",
    "\n",
    "if model_name is not None:\n",
    "    batch_dl.network_architecture_drop_down.setCurrentText(model_type)\n",
    "\n",
    "    widget = batch_dl.deep_learning_widgets[model_type]\n",
    "\n",
    "    widget.load_model_from_path(model_path / model_name)"
   ]
  },
  {
   "cell_type": "code",
   "execution_count": null,
   "metadata": {},
   "outputs": [],
   "source": []
  }
 ],
 "metadata": {
  "kernelspec": {
   "display_name": "microsam_cellpose",
   "language": "python",
   "name": "python3"
  },
  "language_info": {
   "codemirror_mode": {
    "name": "ipython",
    "version": 3
   },
   "file_extension": ".py",
   "mimetype": "text/x-python",
   "name": "python",
   "nbconvert_exporter": "python",
   "pygments_lexer": "ipython3",
   "version": "3.11.11"
  }
 },
 "nbformat": 4,
 "nbformat_minor": 2
}
