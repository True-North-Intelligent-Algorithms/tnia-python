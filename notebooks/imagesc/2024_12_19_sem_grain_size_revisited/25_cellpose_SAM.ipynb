{
 "cells": [
  {
   "cell_type": "markdown",
   "metadata": {},
   "source": [
    "## Explore Data\n",
    "\n",
    "This notebook uses the ```napari-easy-augment-batch-dl``` widget to explore and label the data.  If we have a model trained we can also predict using that model. \n",
    "\n",
    "Note:  ```napari-easy-augment-batch-dl``` is a useful tool, especially for labelling, but is currently under construction for other uses.  Right now it **may** be best to use it for labelling and inspecting predictions and do other steps of the deep learning workflow (making patches, training) in notebooks.  (of course you are welcome to try the GUI for other steps and report and hiccups (or disasters) that occur)"
   ]
  },
  {
   "cell_type": "code",
   "execution_count": 3,
   "metadata": {},
   "outputs": [],
   "source": [
    "from cellpose import models, io\n",
    "import os\n",
    "import numpy as np\n",
    "import napari\n",
    "from napari_easy_augment_batch_dl import easy_augment_batch_dl"
   ]
  },
  {
   "cell_type": "code",
   "execution_count": null,
   "metadata": {},
   "outputs": [
    {
     "name": "stdout",
     "output_type": "stream",
     "text": [
      "VIT checkpoint loaded successfully\n",
      "found class  PytorchSemanticFramework\n",
      "found class  CellPoseInstanceFramework\n",
      "2024-12-19 06:06:31,444 [INFO] WRITING LOG OUTPUT TO C:\\Users\\bnort\\.cellpose\\run.log\n",
      "2024-12-19 06:06:31,445 [INFO] \n",
      "cellpose version: \t3.1.0 \n",
      "platform:       \twin32 \n",
      "python version: \t3.10.14 \n",
      "torch version:  \t2.2.2+cu118\n",
      "found class  MobileSAMFramework\n",
      "found class  YoloSAMFramework\n",
      "found class  RandomForestFramework\n"
     ]
    },
    {
     "name": "stdout",
     "output_type": "stream",
     "text": [
      "2024-12-19 06:06:50,191 [INFO] >> cyto3 << model set to be used\n",
      "2024-12-19 06:06:50,194 [INFO] ** TORCH CUDA version installed and working. **\n",
      "2024-12-19 06:06:50,194 [INFO] >>>> using GPU (CUDA)\n",
      "2024-12-19 06:06:50,314 [INFO] >>>> loading model C:\\Users\\bnort\\.cellpose\\models\\cyto3\n",
      "2024-12-19 06:06:50,602 [INFO] >>>> model diam_mean =  30.000 (ROIs rescaled to this size during training)\n"
     ]
    },
    {
     "name": "stderr",
     "output_type": "stream",
     "text": [
      "\n",
      "0: 768x1024 258 objects, 162.6ms\n",
      "Speed: 10.0ms preprocess, 162.6ms inference, 65.8ms postprocess per image at shape (1, 3, 1024, 1024)\n"
     ]
    },
    {
     "name": "stdout",
     "output_type": "stream",
     "text": [
      "VIT checkpoint loaded successfully\n"
     ]
    },
    {
     "name": "stderr",
     "output_type": "stream",
     "text": [
      "\n",
      "0: 768x1024 319 objects, 39.9ms\n",
      "Speed: 6.0ms preprocess, 39.9ms inference, 4.0ms postprocess per image at shape (1, 3, 1024, 1024)\n"
     ]
    },
    {
     "name": "stdout",
     "output_type": "stream",
     "text": [
      "VIT checkpoint loaded successfully\n",
      "[array([[          0,      697.21,      1316.9],\n",
      "       [          0,      697.21,      2034.3],\n",
      "       [          0,      1417.3,      2034.3],\n",
      "       [          0,      1417.3,      1316.9]])]\n",
      "image file is  D:\\images\\tnia-python-images\\imagesc\\2024_12_19_sem_grain_size_revisit\\211122_AM_Al2O3_SE_021.ome.tiff\n",
      "labelsum is  131360300\n",
      "(720, 718) (720, 718)\n",
      "211122_AM_Al2O3_SE_021_0\n",
      "D:\\images\\tnia-python-images\\imagesc\\2024_12_19_sem_grain_size_revisit\\labels\\input0/211122_AM_Al2O3_SE_021_0.tif\n",
      "D:\\images\\tnia-python-images\\imagesc\\2024_12_19_sem_grain_size_revisit\\labels\\ground truth0/211122_AM_Al2O3_SE_021_0.tif\n",
      "D:\\images\\tnia-python-images\\imagesc\\2024_12_19_sem_grain_size_revisit\\labels\\input0/211122_AM_Al2O3_SE_021_0.tif\n",
      "D:\\images\\tnia-python-images\\imagesc\\2024_12_19_sem_grain_size_revisit\\labels\\ground truth0\n"
     ]
    },
    {
     "name": "stderr",
     "output_type": "stream",
     "text": [
      "deep_learning_project.py (421): D:\\images\\tnia-python-images\\imagesc\\2024_12_19_sem_grain_size_revisit\\labels\\ground truth0\\211122_AM_Al2O3_SE_021_0.tif is a low contrast image\n",
      "deep_learning_project.py (442): D:\\images\\tnia-python-images\\imagesc\\2024_12_19_sem_grain_size_revisit\\annotations\\class_0\\211122_AM_Al2O3_SE_021.ome.tif is a low contrast image\n",
      "deep_learning_project.py (447): D:\\images\\tnia-python-images\\imagesc\\2024_12_19_sem_grain_size_revisit\\predictions\\class_0\\211122_AM_Al2O3_SE_021.ome.tif is a low contrast image\n",
      "augmentation.py (227): D:\\images\\tnia-python-images\\imagesc\\2024_12_19_sem_grain_size_revisit\\patches\\ground truth0\\grid_0.tif is a low contrast image\n",
      "augmentation.py (227): D:\\images\\tnia-python-images\\imagesc\\2024_12_19_sem_grain_size_revisit\\patches\\ground truth0\\grid_1.tif is a low contrast image\n",
      "augmentation.py (227): D:\\images\\tnia-python-images\\imagesc\\2024_12_19_sem_grain_size_revisit\\patches\\ground truth0\\grid_2.tif is a low contrast image\n",
      "augmentation.py (227): D:\\images\\tnia-python-images\\imagesc\\2024_12_19_sem_grain_size_revisit\\patches\\ground truth0\\grid_3.tif is a low contrast image\n",
      "augmentation.py (227): D:\\images\\tnia-python-images\\imagesc\\2024_12_19_sem_grain_size_revisit\\patches\\ground truth0\\grid_4.tif is a low contrast image\n",
      "augmentation.py (227): D:\\images\\tnia-python-images\\imagesc\\2024_12_19_sem_grain_size_revisit\\patches\\ground truth0\\grid_5.tif is a low contrast image\n",
      "augmentation.py (227): D:\\images\\tnia-python-images\\imagesc\\2024_12_19_sem_grain_size_revisit\\patches\\ground truth0\\grid_6.tif is a low contrast image\n",
      "augmentation.py (227): D:\\images\\tnia-python-images\\imagesc\\2024_12_19_sem_grain_size_revisit\\patches\\ground truth0\\grid_7.tif is a low contrast image\n",
      "augmentation.py (227): D:\\images\\tnia-python-images\\imagesc\\2024_12_19_sem_grain_size_revisit\\patches\\ground truth0\\grid_8.tif is a low contrast image\n",
      "augmentation.py (227): D:\\images\\tnia-python-images\\imagesc\\2024_12_19_sem_grain_size_revisit\\patches\\ground truth0\\grid_9.tif is a low contrast image\n",
      "augmentation.py (227): D:\\images\\tnia-python-images\\imagesc\\2024_12_19_sem_grain_size_revisit\\patches\\ground truth0\\grid_10.tif is a low contrast image\n",
      "augmentation.py (227): D:\\images\\tnia-python-images\\imagesc\\2024_12_19_sem_grain_size_revisit\\patches\\ground truth0\\grid_11.tif is a low contrast image\n",
      "augmentation.py (227): D:\\images\\tnia-python-images\\imagesc\\2024_12_19_sem_grain_size_revisit\\patches\\ground truth0\\grid_12.tif is a low contrast image\n",
      "augmentation.py (227): D:\\images\\tnia-python-images\\imagesc\\2024_12_19_sem_grain_size_revisit\\patches\\ground truth0\\grid_13.tif is a low contrast image\n",
      "augmentation.py (227): D:\\images\\tnia-python-images\\imagesc\\2024_12_19_sem_grain_size_revisit\\patches\\ground truth0\\grid_14.tif is a low contrast image\n",
      "augmentation.py (227): D:\\images\\tnia-python-images\\imagesc\\2024_12_19_sem_grain_size_revisit\\patches\\ground truth0\\grid_15.tif is a low contrast image\n",
      "augmentation.py (227): D:\\images\\tnia-python-images\\imagesc\\2024_12_19_sem_grain_size_revisit\\patches\\ground truth0\\grid_16.tif is a low contrast image\n",
      "augmentation.py (227): D:\\images\\tnia-python-images\\imagesc\\2024_12_19_sem_grain_size_revisit\\patches\\ground truth0\\grid_17.tif is a low contrast image\n",
      "augmentation.py (227): D:\\images\\tnia-python-images\\imagesc\\2024_12_19_sem_grain_size_revisit\\patches\\ground truth0\\grid_18.tif is a low contrast image\n",
      "augmentation.py (227): D:\\images\\tnia-python-images\\imagesc\\2024_12_19_sem_grain_size_revisit\\patches\\ground truth0\\grid_19.tif is a low contrast image\n",
      "augmentation.py (227): D:\\images\\tnia-python-images\\imagesc\\2024_12_19_sem_grain_size_revisit\\patches\\ground truth0\\grid_20.tif is a low contrast image\n",
      "augmentation.py (227): D:\\images\\tnia-python-images\\imagesc\\2024_12_19_sem_grain_size_revisit\\patches\\ground truth0\\grid_21.tif is a low contrast image\n",
      "augmentation.py (227): D:\\images\\tnia-python-images\\imagesc\\2024_12_19_sem_grain_size_revisit\\patches\\ground truth0\\grid_22.tif is a low contrast image\n",
      "augmentation.py (227): D:\\images\\tnia-python-images\\imagesc\\2024_12_19_sem_grain_size_revisit\\patches\\ground truth0\\grid_23.tif is a low contrast image\n",
      "augmentation.py (227): D:\\images\\tnia-python-images\\imagesc\\2024_12_19_sem_grain_size_revisit\\patches\\ground truth0\\grid_24.tif is a low contrast image\n",
      "augmentation.py (227): D:\\images\\tnia-python-images\\imagesc\\2024_12_19_sem_grain_size_revisit\\patches\\ground truth0\\grid_25.tif is a low contrast image\n",
      "augmentation.py (227): D:\\images\\tnia-python-images\\imagesc\\2024_12_19_sem_grain_size_revisit\\patches\\ground truth0\\grid_26.tif is a low contrast image\n",
      "augmentation.py (227): D:\\images\\tnia-python-images\\imagesc\\2024_12_19_sem_grain_size_revisit\\patches\\ground truth0\\grid_27.tif is a low contrast image\n",
      "augmentation.py (227): D:\\images\\tnia-python-images\\imagesc\\2024_12_19_sem_grain_size_revisit\\patches\\ground truth0\\grid_28.tif is a low contrast image\n",
      "augmentation.py (227): D:\\images\\tnia-python-images\\imagesc\\2024_12_19_sem_grain_size_revisit\\patches\\ground truth0\\grid_29.tif is a low contrast image\n",
      "augmentation.py (227): D:\\images\\tnia-python-images\\imagesc\\2024_12_19_sem_grain_size_revisit\\patches\\ground truth0\\grid_30.tif is a low contrast image\n",
      "augmentation.py (227): D:\\images\\tnia-python-images\\imagesc\\2024_12_19_sem_grain_size_revisit\\patches\\ground truth0\\grid_31.tif is a low contrast image\n",
      "augmentation.py (227): D:\\images\\tnia-python-images\\imagesc\\2024_12_19_sem_grain_size_revisit\\patches\\ground truth0\\grid_32.tif is a low contrast image\n",
      "augmentation.py (227): D:\\images\\tnia-python-images\\imagesc\\2024_12_19_sem_grain_size_revisit\\patches\\ground truth0\\grid_33.tif is a low contrast image\n",
      "augmentation.py (227): D:\\images\\tnia-python-images\\imagesc\\2024_12_19_sem_grain_size_revisit\\patches\\ground truth0\\grid_34.tif is a low contrast image\n",
      "augmentation.py (227): D:\\images\\tnia-python-images\\imagesc\\2024_12_19_sem_grain_size_revisit\\patches\\ground truth0\\grid_35.tif is a low contrast image\n",
      "augmentation.py (227): D:\\images\\tnia-python-images\\imagesc\\2024_12_19_sem_grain_size_revisit\\patches\\ground truth0\\grid_36.tif is a low contrast image\n",
      "augmentation.py (227): D:\\images\\tnia-python-images\\imagesc\\2024_12_19_sem_grain_size_revisit\\patches\\ground truth0\\grid_37.tif is a low contrast image\n",
      "augmentation.py (227): D:\\images\\tnia-python-images\\imagesc\\2024_12_19_sem_grain_size_revisit\\patches\\ground truth0\\grid_38.tif is a low contrast image\n",
      "augmentation.py (227): D:\\images\\tnia-python-images\\imagesc\\2024_12_19_sem_grain_size_revisit\\patches\\ground truth0\\grid_39.tif is a low contrast image\n",
      "augmentation.py (227): D:\\images\\tnia-python-images\\imagesc\\2024_12_19_sem_grain_size_revisit\\patches\\ground truth0\\grid_40.tif is a low contrast image\n",
      "augmentation.py (227): D:\\images\\tnia-python-images\\imagesc\\2024_12_19_sem_grain_size_revisit\\patches\\ground truth0\\grid_41.tif is a low contrast image\n",
      "augmentation.py (227): D:\\images\\tnia-python-images\\imagesc\\2024_12_19_sem_grain_size_revisit\\patches\\ground truth0\\grid_42.tif is a low contrast image\n",
      "augmentation.py (227): D:\\images\\tnia-python-images\\imagesc\\2024_12_19_sem_grain_size_revisit\\patches\\ground truth0\\grid_43.tif is a low contrast image\n",
      "augmentation.py (227): D:\\images\\tnia-python-images\\imagesc\\2024_12_19_sem_grain_size_revisit\\patches\\ground truth0\\grid_44.tif is a low contrast image\n",
      "augmentation.py (227): D:\\images\\tnia-python-images\\imagesc\\2024_12_19_sem_grain_size_revisit\\patches\\ground truth0\\grid_45.tif is a low contrast image\n",
      "augmentation.py (227): D:\\images\\tnia-python-images\\imagesc\\2024_12_19_sem_grain_size_revisit\\patches\\ground truth0\\grid_46.tif is a low contrast image\n",
      "augmentation.py (227): D:\\images\\tnia-python-images\\imagesc\\2024_12_19_sem_grain_size_revisit\\patches\\ground truth0\\grid_47.tif is a low contrast image\n",
      "augmentation.py (227): D:\\images\\tnia-python-images\\imagesc\\2024_12_19_sem_grain_size_revisit\\patches\\ground truth0\\grid_48.tif is a low contrast image\n",
      "augmentation.py (227): D:\\images\\tnia-python-images\\imagesc\\2024_12_19_sem_grain_size_revisit\\patches\\ground truth0\\grid_49.tif is a low contrast image\n",
      "augmentation.py (227): D:\\images\\tnia-python-images\\imagesc\\2024_12_19_sem_grain_size_revisit\\patches\\ground truth0\\grid_50.tif is a low contrast image\n",
      "augmentation.py (227): D:\\images\\tnia-python-images\\imagesc\\2024_12_19_sem_grain_size_revisit\\patches\\ground truth0\\grid_51.tif is a low contrast image\n",
      "augmentation.py (227): D:\\images\\tnia-python-images\\imagesc\\2024_12_19_sem_grain_size_revisit\\patches\\ground truth0\\grid_52.tif is a low contrast image\n",
      "augmentation.py (227): D:\\images\\tnia-python-images\\imagesc\\2024_12_19_sem_grain_size_revisit\\patches\\ground truth0\\grid_53.tif is a low contrast image\n",
      "augmentation.py (227): D:\\images\\tnia-python-images\\imagesc\\2024_12_19_sem_grain_size_revisit\\patches\\ground truth0\\grid_54.tif is a low contrast image\n",
      "augmentation.py (227): D:\\images\\tnia-python-images\\imagesc\\2024_12_19_sem_grain_size_revisit\\patches\\ground truth0\\grid_55.tif is a low contrast image\n",
      "augmentation.py (227): D:\\images\\tnia-python-images\\imagesc\\2024_12_19_sem_grain_size_revisit\\patches\\ground truth0\\grid_56.tif is a low contrast image\n",
      "augmentation.py (227): D:\\images\\tnia-python-images\\imagesc\\2024_12_19_sem_grain_size_revisit\\patches\\ground truth0\\grid_57.tif is a low contrast image\n",
      "augmentation.py (227): D:\\images\\tnia-python-images\\imagesc\\2024_12_19_sem_grain_size_revisit\\patches\\ground truth0\\grid_58.tif is a low contrast image\n",
      "augmentation.py (227): D:\\images\\tnia-python-images\\imagesc\\2024_12_19_sem_grain_size_revisit\\patches\\ground truth0\\grid_59.tif is a low contrast image\n",
      "augmentation.py (227): D:\\images\\tnia-python-images\\imagesc\\2024_12_19_sem_grain_size_revisit\\patches\\ground truth0\\grid_60.tif is a low contrast image\n",
      "augmentation.py (227): D:\\images\\tnia-python-images\\imagesc\\2024_12_19_sem_grain_size_revisit\\patches\\ground truth0\\grid_61.tif is a low contrast image\n",
      "augmentation.py (227): D:\\images\\tnia-python-images\\imagesc\\2024_12_19_sem_grain_size_revisit\\patches\\ground truth0\\grid_62.tif is a low contrast image\n",
      "augmentation.py (227): D:\\images\\tnia-python-images\\imagesc\\2024_12_19_sem_grain_size_revisit\\patches\\ground truth0\\grid_63.tif is a low contrast image\n",
      "augmentation.py (227): D:\\images\\tnia-python-images\\imagesc\\2024_12_19_sem_grain_size_revisit\\patches\\ground truth0\\grid_64.tif is a low contrast image\n",
      "augmentation.py (227): D:\\images\\tnia-python-images\\imagesc\\2024_12_19_sem_grain_size_revisit\\patches\\ground truth0\\grid_65.tif is a low contrast image\n",
      "augmentation.py (227): D:\\images\\tnia-python-images\\imagesc\\2024_12_19_sem_grain_size_revisit\\patches\\ground truth0\\grid_66.tif is a low contrast image\n",
      "augmentation.py (227): D:\\images\\tnia-python-images\\imagesc\\2024_12_19_sem_grain_size_revisit\\patches\\ground truth0\\grid_67.tif is a low contrast image\n",
      "augmentation.py (227): D:\\images\\tnia-python-images\\imagesc\\2024_12_19_sem_grain_size_revisit\\patches\\ground truth0\\grid_68.tif is a low contrast image\n",
      "augmentation.py (227): D:\\images\\tnia-python-images\\imagesc\\2024_12_19_sem_grain_size_revisit\\patches\\ground truth0\\grid_69.tif is a low contrast image\n",
      "augmentation.py (227): D:\\images\\tnia-python-images\\imagesc\\2024_12_19_sem_grain_size_revisit\\patches\\ground truth0\\grid_70.tif is a low contrast image\n",
      "augmentation.py (227): D:\\images\\tnia-python-images\\imagesc\\2024_12_19_sem_grain_size_revisit\\patches\\ground truth0\\grid_71.tif is a low contrast image\n",
      "augmentation.py (227): D:\\images\\tnia-python-images\\imagesc\\2024_12_19_sem_grain_size_revisit\\patches\\ground truth0\\grid_72.tif is a low contrast image\n",
      "augmentation.py (227): D:\\images\\tnia-python-images\\imagesc\\2024_12_19_sem_grain_size_revisit\\patches\\ground truth0\\grid_73.tif is a low contrast image\n",
      "augmentation.py (227): D:\\images\\tnia-python-images\\imagesc\\2024_12_19_sem_grain_size_revisit\\patches\\ground truth0\\grid_74.tif is a low contrast image\n",
      "augmentation.py (227): D:\\images\\tnia-python-images\\imagesc\\2024_12_19_sem_grain_size_revisit\\patches\\ground truth0\\grid_75.tif is a low contrast image\n",
      "augmentation.py (227): D:\\images\\tnia-python-images\\imagesc\\2024_12_19_sem_grain_size_revisit\\patches\\ground truth0\\grid_76.tif is a low contrast image\n",
      "augmentation.py (227): D:\\images\\tnia-python-images\\imagesc\\2024_12_19_sem_grain_size_revisit\\patches\\ground truth0\\grid_77.tif is a low contrast image\n",
      "augmentation.py (227): D:\\images\\tnia-python-images\\imagesc\\2024_12_19_sem_grain_size_revisit\\patches\\ground truth0\\grid_78.tif is a low contrast image\n",
      "augmentation.py (227): D:\\images\\tnia-python-images\\imagesc\\2024_12_19_sem_grain_size_revisit\\patches\\ground truth0\\grid_79.tif is a low contrast image\n",
      "augmentation.py (227): D:\\images\\tnia-python-images\\imagesc\\2024_12_19_sem_grain_size_revisit\\patches\\ground truth0\\grid_80.tif is a low contrast image\n",
      "augmentation.py (227): D:\\images\\tnia-python-images\\imagesc\\2024_12_19_sem_grain_size_revisit\\patches\\ground truth0\\grid_81.tif is a low contrast image\n",
      "augmentation.py (227): D:\\images\\tnia-python-images\\imagesc\\2024_12_19_sem_grain_size_revisit\\patches\\ground truth0\\grid_82.tif is a low contrast image\n",
      "augmentation.py (227): D:\\images\\tnia-python-images\\imagesc\\2024_12_19_sem_grain_size_revisit\\patches\\ground truth0\\grid_83.tif is a low contrast image\n",
      "augmentation.py (227): D:\\images\\tnia-python-images\\imagesc\\2024_12_19_sem_grain_size_revisit\\patches\\ground truth0\\grid_84.tif is a low contrast image\n",
      "augmentation.py (227): D:\\images\\tnia-python-images\\imagesc\\2024_12_19_sem_grain_size_revisit\\patches\\ground truth0\\grid_85.tif is a low contrast image\n",
      "augmentation.py (227): D:\\images\\tnia-python-images\\imagesc\\2024_12_19_sem_grain_size_revisit\\patches\\ground truth0\\grid_86.tif is a low contrast image\n",
      "augmentation.py (227): D:\\images\\tnia-python-images\\imagesc\\2024_12_19_sem_grain_size_revisit\\patches\\ground truth0\\grid_87.tif is a low contrast image\n",
      "augmentation.py (227): D:\\images\\tnia-python-images\\imagesc\\2024_12_19_sem_grain_size_revisit\\patches\\ground truth0\\grid_88.tif is a low contrast image\n",
      "augmentation.py (227): D:\\images\\tnia-python-images\\imagesc\\2024_12_19_sem_grain_size_revisit\\patches\\ground truth0\\grid_89.tif is a low contrast image\n",
      "augmentation.py (227): D:\\images\\tnia-python-images\\imagesc\\2024_12_19_sem_grain_size_revisit\\patches\\ground truth0\\grid_90.tif is a low contrast image\n",
      "augmentation.py (227): D:\\images\\tnia-python-images\\imagesc\\2024_12_19_sem_grain_size_revisit\\patches\\ground truth0\\grid_91.tif is a low contrast image\n",
      "augmentation.py (227): D:\\images\\tnia-python-images\\imagesc\\2024_12_19_sem_grain_size_revisit\\patches\\ground truth0\\grid_92.tif is a low contrast image\n",
      "augmentation.py (227): D:\\images\\tnia-python-images\\imagesc\\2024_12_19_sem_grain_size_revisit\\patches\\ground truth0\\grid_93.tif is a low contrast image\n",
      "augmentation.py (227): D:\\images\\tnia-python-images\\imagesc\\2024_12_19_sem_grain_size_revisit\\patches\\ground truth0\\grid_94.tif is a low contrast image\n",
      "augmentation.py (227): D:\\images\\tnia-python-images\\imagesc\\2024_12_19_sem_grain_size_revisit\\patches\\ground truth0\\grid_95.tif is a low contrast image\n",
      "augmentation.py (227): D:\\images\\tnia-python-images\\imagesc\\2024_12_19_sem_grain_size_revisit\\patches\\ground truth0\\grid_96.tif is a low contrast image\n",
      "augmentation.py (227): D:\\images\\tnia-python-images\\imagesc\\2024_12_19_sem_grain_size_revisit\\patches\\ground truth0\\grid_97.tif is a low contrast image\n",
      "augmentation.py (227): D:\\images\\tnia-python-images\\imagesc\\2024_12_19_sem_grain_size_revisit\\patches\\ground truth0\\grid_98.tif is a low contrast image\n",
      "augmentation.py (227): D:\\images\\tnia-python-images\\imagesc\\2024_12_19_sem_grain_size_revisit\\patches\\ground truth0\\grid_99.tif is a low contrast image\n"
     ]
    },
    {
     "name": "stdout",
     "output_type": "stream",
     "text": [
      "(256, 256)\n",
      "(256, 256)\n",
      "2024-12-19 06:25:13,558 [INFO] computing flows for labels\n"
     ]
    },
    {
     "name": "stderr",
     "output_type": "stream",
     "text": [
      "100%|██████████| 90/90 [00:18<00:00,  4.88it/s]"
     ]
    },
    {
     "name": "stdout",
     "output_type": "stream",
     "text": [
      "2024-12-19 06:25:32,047 [INFO] computing flows for labels\n"
     ]
    },
    {
     "name": "stderr",
     "output_type": "stream",
     "text": [
      "\n",
      "100%|██████████| 10/10 [00:02<00:00,  4.95it/s]"
     ]
    },
    {
     "name": "stdout",
     "output_type": "stream",
     "text": [
      "2024-12-19 06:25:34,074 [INFO] >>> computing diameters\n"
     ]
    },
    {
     "name": "stderr",
     "output_type": "stream",
     "text": [
      "\n",
      "100%|██████████| 90/90 [00:00<00:00, 2910.96it/s]\n",
      "100%|██████████| 10/10 [00:00<00:00, 2005.40it/s]"
     ]
    },
    {
     "name": "stdout",
     "output_type": "stream",
     "text": [
      "2024-12-19 06:25:34,116 [WARNING] 27 train images with number of masks less than min_train_masks (5), removing from train set\n",
      "2024-12-19 06:25:34,118 [INFO] >>> using channels [0, 0]\n",
      "2024-12-19 06:25:34,119 [INFO] >>> normalizing {'lowhigh': None, 'percentile': None, 'normalize': True, 'norm3D': True, 'sharpen_radius': 0, 'smooth_radius': 0, 'tile_norm_blocksize': 0, 'tile_norm_smooth3D': 1, 'invert': False}\n"
     ]
    },
    {
     "name": "stderr",
     "output_type": "stream",
     "text": [
      "\n"
     ]
    },
    {
     "name": "stdout",
     "output_type": "stream",
     "text": [
      "2024-12-19 06:25:34,300 [INFO] >>> n_epochs=100, n_train=63, n_test=10\n",
      "2024-12-19 06:25:34,301 [INFO] >>> AdamW, learning_rate=0.00500, weight_decay=0.00001\n",
      "2024-12-19 06:25:34,303 [INFO] >>> saving model to D:\\images\\tnia-python-images\\imagesc\\2024_12_19_sem_grain_size_revisit\\models\\grains_20241219_060631\n",
      "2024-12-19 06:25:36,172 [INFO] 0, train_loss=2.6821, test_loss=2.8001, LR=0.000000, time 1.87s\n",
      "2024-12-19 06:25:40,471 [INFO] 5, train_loss=1.7869, test_loss=1.2145, LR=0.002778, time 6.17s\n",
      "2024-12-19 06:25:44,871 [INFO] 10, train_loss=0.8958, test_loss=0.8162, LR=0.005000, time 10.57s\n",
      "2024-12-19 06:25:54,381 [INFO] 20, train_loss=0.7941, test_loss=0.7070, LR=0.005000, time 20.08s\n",
      "2024-12-19 06:26:03,487 [INFO] 30, train_loss=0.8202, test_loss=0.6910, LR=0.005000, time 29.18s\n",
      "2024-12-19 06:26:11,968 [INFO] 40, train_loss=0.8322, test_loss=0.6844, LR=0.005000, time 37.67s\n",
      "2024-12-19 06:26:21,060 [INFO] 50, train_loss=0.8050, test_loss=0.6908, LR=0.005000, time 46.76s\n",
      "2024-12-19 06:26:29,626 [INFO] 60, train_loss=0.8227, test_loss=0.6735, LR=0.005000, time 55.32s\n",
      "2024-12-19 06:26:38,130 [INFO] 70, train_loss=0.8017, test_loss=0.6699, LR=0.005000, time 63.83s\n",
      "2024-12-19 06:26:46,514 [INFO] 80, train_loss=0.7909, test_loss=0.6759, LR=0.005000, time 72.21s\n",
      "2024-12-19 06:26:55,037 [INFO] 90, train_loss=0.8074, test_loss=0.6735, LR=0.005000, time 80.73s\n",
      "2024-12-19 06:27:02,548 [INFO] saving network parameters to D:\\images\\tnia-python-images\\imagesc\\2024_12_19_sem_grain_size_revisit\\models\\grains_20241219_060631\n",
      "2024-12-19 06:27:20,164 [INFO] No cell pixels found.\n",
      "(256, 256)\n",
      "(256, 256)\n",
      "2024-12-19 06:28:41,639 [INFO] computing flows for labels\n"
     ]
    },
    {
     "name": "stderr",
     "output_type": "stream",
     "text": [
      "100%|██████████| 90/90 [00:18<00:00,  4.90it/s]"
     ]
    },
    {
     "name": "stdout",
     "output_type": "stream",
     "text": [
      "2024-12-19 06:29:00,047 [INFO] computing flows for labels\n"
     ]
    },
    {
     "name": "stderr",
     "output_type": "stream",
     "text": [
      "\n",
      "100%|██████████| 10/10 [00:02<00:00,  4.74it/s]"
     ]
    },
    {
     "name": "stdout",
     "output_type": "stream",
     "text": [
      "2024-12-19 06:29:02,164 [INFO] >>> computing diameters\n"
     ]
    },
    {
     "name": "stderr",
     "output_type": "stream",
     "text": [
      "\n",
      "100%|██████████| 90/90 [00:00<00:00, 3222.89it/s]\n",
      "100%|██████████| 10/10 [00:00<00:00, 2005.21it/s]"
     ]
    },
    {
     "name": "stdout",
     "output_type": "stream",
     "text": [
      "2024-12-19 06:29:02,202 [WARNING] 27 train images with number of masks less than min_train_masks (5), removing from train set\n",
      "2024-12-19 06:29:02,205 [INFO] >>> using channels [0, 0]\n",
      "2024-12-19 06:29:02,206 [INFO] >>> normalizing {'lowhigh': None, 'percentile': None, 'normalize': True, 'norm3D': True, 'sharpen_radius': 0, 'smooth_radius': 0, 'tile_norm_blocksize': 0, 'tile_norm_smooth3D': 1, 'invert': False}\n"
     ]
    },
    {
     "name": "stderr",
     "output_type": "stream",
     "text": [
      "\n"
     ]
    },
    {
     "name": "stdout",
     "output_type": "stream",
     "text": [
      "2024-12-19 06:29:02,367 [INFO] >>> n_epochs=200, n_train=63, n_test=10\n",
      "2024-12-19 06:29:02,368 [INFO] >>> AdamW, learning_rate=0.00500, weight_decay=0.00001\n",
      "2024-12-19 06:29:02,371 [INFO] >>> saving model to D:\\images\\tnia-python-images\\imagesc\\2024_12_19_sem_grain_size_revisit\\models\\grains_20241219_060631\n",
      "2024-12-19 06:29:03,324 [INFO] 0, train_loss=0.8470, test_loss=0.6664, LR=0.000000, time 0.95s\n",
      "2024-12-19 06:29:07,575 [INFO] 5, train_loss=0.7498, test_loss=0.6832, LR=0.002778, time 5.20s\n",
      "2024-12-19 06:29:12,204 [INFO] 10, train_loss=0.8211, test_loss=0.6710, LR=0.005000, time 9.83s\n",
      "2024-12-19 06:29:20,952 [INFO] 20, train_loss=0.7729, test_loss=0.6687, LR=0.005000, time 18.58s\n",
      "2024-12-19 06:29:29,939 [INFO] 30, train_loss=0.8011, test_loss=0.6673, LR=0.005000, time 27.57s\n",
      "2024-12-19 06:29:38,796 [INFO] 40, train_loss=0.8260, test_loss=0.6905, LR=0.005000, time 36.43s\n",
      "2024-12-19 06:29:47,772 [INFO] 50, train_loss=0.7996, test_loss=0.6672, LR=0.005000, time 45.40s\n",
      "2024-12-19 06:29:56,479 [INFO] 60, train_loss=0.8187, test_loss=0.6685, LR=0.005000, time 54.11s\n",
      "2024-12-19 06:30:04,854 [INFO] 70, train_loss=0.7993, test_loss=0.6728, LR=0.005000, time 62.48s\n",
      "2024-12-19 06:30:13,317 [INFO] 80, train_loss=0.7889, test_loss=0.6657, LR=0.005000, time 70.95s\n",
      "2024-12-19 06:30:21,616 [INFO] 90, train_loss=0.8060, test_loss=0.6666, LR=0.005000, time 79.25s\n",
      "2024-12-19 06:30:29,868 [INFO] 100, train_loss=0.7463, test_loss=0.6637, LR=0.005000, time 87.50s\n",
      "2024-12-19 06:30:29,869 [INFO] saving network parameters to D:\\images\\tnia-python-images\\imagesc\\2024_12_19_sem_grain_size_revisit\\models\\grains_20241219_060631\n",
      "2024-12-19 06:30:38,305 [INFO] 110, train_loss=0.7972, test_loss=0.6631, LR=0.005000, time 95.94s\n",
      "2024-12-19 06:30:47,133 [INFO] 120, train_loss=0.8034, test_loss=0.6635, LR=0.005000, time 104.76s\n",
      "2024-12-19 06:30:56,236 [INFO] 130, train_loss=0.7655, test_loss=0.6693, LR=0.005000, time 113.87s\n",
      "2024-12-19 06:31:04,933 [INFO] 140, train_loss=0.7795, test_loss=0.6708, LR=0.005000, time 122.56s\n",
      "2024-12-19 06:31:13,798 [INFO] 150, train_loss=0.8027, test_loss=0.6725, LR=0.002500, time 131.43s\n",
      "2024-12-19 06:31:22,598 [INFO] 160, train_loss=0.8054, test_loss=0.6666, LR=0.000625, time 140.23s\n",
      "2024-12-19 06:31:30,985 [INFO] 170, train_loss=0.8019, test_loss=0.6663, LR=0.000156, time 148.61s\n",
      "2024-12-19 06:31:40,011 [INFO] 180, train_loss=0.8139, test_loss=0.6669, LR=0.000039, time 157.64s\n",
      "2024-12-19 06:31:49,084 [INFO] 190, train_loss=0.7833, test_loss=0.6674, LR=0.000010, time 166.71s\n",
      "2024-12-19 06:31:57,689 [INFO] saving network parameters to D:\\images\\tnia-python-images\\imagesc\\2024_12_19_sem_grain_size_revisit\\models\\grains_20241219_060631\n",
      "2024-12-19 06:33:01,159 [INFO] No cell pixels found.\n",
      "(256, 256)\n",
      "(256, 256)\n",
      "2024-12-19 06:36:14,802 [INFO] computing flows for labels\n"
     ]
    },
    {
     "name": "stderr",
     "output_type": "stream",
     "text": [
      "100%|██████████| 90/90 [00:15<00:00,  5.75it/s]"
     ]
    },
    {
     "name": "stdout",
     "output_type": "stream",
     "text": [
      "2024-12-19 06:36:30,472 [INFO] computing flows for labels\n"
     ]
    },
    {
     "name": "stderr",
     "output_type": "stream",
     "text": [
      "\n",
      "100%|██████████| 10/10 [00:01<00:00,  6.35it/s]"
     ]
    },
    {
     "name": "stdout",
     "output_type": "stream",
     "text": [
      "2024-12-19 06:36:32,056 [INFO] >>> computing diameters\n"
     ]
    },
    {
     "name": "stderr",
     "output_type": "stream",
     "text": [
      "\n",
      "100%|██████████| 90/90 [00:00<00:00, 3007.89it/s]\n",
      "100%|██████████| 10/10 [00:00<00:00, 2005.31it/s]\n"
     ]
    },
    {
     "name": "stdout",
     "output_type": "stream",
     "text": [
      "2024-12-19 06:36:32,098 [WARNING] 1 train images with number of masks less than min_train_masks (5), removing from train set\n",
      "2024-12-19 06:36:32,100 [INFO] >>> using channels [0, 0]\n",
      "2024-12-19 06:36:32,101 [INFO] >>> normalizing {'lowhigh': None, 'percentile': None, 'normalize': True, 'norm3D': True, 'sharpen_radius': 0, 'smooth_radius': 0, 'tile_norm_blocksize': 0, 'tile_norm_smooth3D': 1, 'invert': False}\n",
      "2024-12-19 06:36:32,319 [INFO] >>> n_epochs=200, n_train=89, n_test=10\n",
      "2024-12-19 06:36:32,321 [INFO] >>> AdamW, learning_rate=0.00500, weight_decay=0.00001\n",
      "2024-12-19 06:36:32,324 [INFO] >>> saving model to D:\\images\\tnia-python-images\\imagesc\\2024_12_19_sem_grain_size_revisit\\models\\grains_20241219_060631\n",
      "2024-12-19 06:36:33,640 [INFO] 0, train_loss=3.1981, test_loss=3.6221, LR=0.000000, time 1.32s\n",
      "2024-12-19 06:36:39,415 [INFO] 5, train_loss=1.7383, test_loss=0.6004, LR=0.002778, time 7.09s\n",
      "2024-12-19 06:36:45,427 [INFO] 10, train_loss=0.4441, test_loss=0.3447, LR=0.005000, time 13.10s\n",
      "2024-12-19 06:36:56,954 [INFO] 20, train_loss=0.3062, test_loss=0.2477, LR=0.005000, time 24.63s\n",
      "2024-12-19 06:37:08,805 [INFO] 30, train_loss=0.2702, test_loss=0.1979, LR=0.005000, time 36.48s\n",
      "2024-12-19 06:37:20,794 [INFO] 40, train_loss=0.2503, test_loss=0.1849, LR=0.005000, time 48.47s\n",
      "2024-12-19 06:37:33,046 [INFO] 50, train_loss=0.2393, test_loss=0.1695, LR=0.005000, time 60.72s\n",
      "2024-12-19 06:37:45,942 [INFO] 60, train_loss=0.2204, test_loss=0.1648, LR=0.005000, time 73.62s\n",
      "2024-12-19 06:37:58,281 [INFO] 70, train_loss=0.2246, test_loss=0.1728, LR=0.005000, time 85.96s\n",
      "2024-12-19 06:38:10,490 [INFO] 80, train_loss=0.2269, test_loss=0.1704, LR=0.005000, time 98.17s\n",
      "2024-12-19 06:38:22,417 [INFO] 90, train_loss=0.2029, test_loss=0.1626, LR=0.005000, time 110.09s\n",
      "2024-12-19 06:38:34,679 [INFO] 100, train_loss=0.2132, test_loss=0.1511, LR=0.005000, time 122.36s\n",
      "2024-12-19 06:38:34,681 [INFO] saving network parameters to D:\\images\\tnia-python-images\\imagesc\\2024_12_19_sem_grain_size_revisit\\models\\grains_20241219_060631\n",
      "2024-12-19 06:38:46,775 [INFO] 110, train_loss=0.1963, test_loss=0.1609, LR=0.005000, time 134.45s\n",
      "2024-12-19 06:38:59,334 [INFO] 120, train_loss=0.1975, test_loss=0.1533, LR=0.005000, time 147.01s\n",
      "2024-12-19 06:39:12,018 [INFO] 130, train_loss=0.2013, test_loss=0.1748, LR=0.005000, time 159.69s\n",
      "2024-12-19 06:39:24,069 [INFO] 140, train_loss=0.1950, test_loss=0.1622, LR=0.005000, time 171.75s\n",
      "2024-12-19 06:39:36,580 [INFO] 150, train_loss=0.1909, test_loss=0.1420, LR=0.002500, time 184.26s\n",
      "2024-12-19 06:39:48,486 [INFO] 160, train_loss=0.1840, test_loss=0.1434, LR=0.000625, time 196.16s\n",
      "2024-12-19 06:40:00,955 [INFO] 170, train_loss=0.1839, test_loss=0.1446, LR=0.000156, time 208.63s\n",
      "2024-12-19 06:40:13,758 [INFO] 180, train_loss=0.1764, test_loss=0.1449, LR=0.000039, time 221.43s\n",
      "2024-12-19 06:40:26,060 [INFO] 190, train_loss=0.1840, test_loss=0.1438, LR=0.000010, time 233.74s\n",
      "2024-12-19 06:40:37,835 [INFO] saving network parameters to D:\\images\\tnia-python-images\\imagesc\\2024_12_19_sem_grain_size_revisit\\models\\grains_20241219_060631\n",
      "Deleted file: D:\\images\\tnia-python-images\\imagesc\\2024_12_19_sem_grain_size_revisit\\labels\\input0\\211122_AM_Al2O3_SE_021_0.json\n",
      "Deleted file: D:\\images\\tnia-python-images\\imagesc\\2024_12_19_sem_grain_size_revisit\\labels\\input0\\211122_AM_Al2O3_SE_021_0.tif\n",
      "Deleted file: D:\\images\\tnia-python-images\\imagesc\\2024_12_19_sem_grain_size_revisit\\labels\\ground truth0\\211122_AM_Al2O3_SE_021_0.tif\n",
      "image file is  D:\\images\\tnia-python-images\\imagesc\\2024_12_19_sem_grain_size_revisit\\211122_AM_Al2O3_SE_021.ome.tiff\n",
      "labelsum is  131360300\n",
      "(720, 718) (720, 718)\n",
      "211122_AM_Al2O3_SE_021_0\n",
      "D:\\images\\tnia-python-images\\imagesc\\2024_12_19_sem_grain_size_revisit\\labels\\input0/211122_AM_Al2O3_SE_021_0.tif\n",
      "D:\\images\\tnia-python-images\\imagesc\\2024_12_19_sem_grain_size_revisit\\labels\\ground truth0/211122_AM_Al2O3_SE_021_0.tif\n",
      "D:\\images\\tnia-python-images\\imagesc\\2024_12_19_sem_grain_size_revisit\\labels\\input0/211122_AM_Al2O3_SE_021_0.tif\n",
      "D:\\images\\tnia-python-images\\imagesc\\2024_12_19_sem_grain_size_revisit\\labels\\ground truth0\n"
     ]
    },
    {
     "name": "stderr",
     "output_type": "stream",
     "text": [
      "deep_learning_project.py (421): D:\\images\\tnia-python-images\\imagesc\\2024_12_19_sem_grain_size_revisit\\labels\\ground truth0\\211122_AM_Al2O3_SE_021_0.tif is a low contrast image\n",
      "deep_learning_project.py (442): D:\\images\\tnia-python-images\\imagesc\\2024_12_19_sem_grain_size_revisit\\annotations\\class_0\\211122_AM_Al2O3_SE_021.ome.tif is a low contrast image\n",
      "deep_learning_project.py (447): D:\\images\\tnia-python-images\\imagesc\\2024_12_19_sem_grain_size_revisit\\predictions\\class_0\\211122_AM_Al2O3_SE_021.ome.tif is a low contrast image\n"
     ]
    }
   ],
   "source": [
    "\n",
    "viewer = napari.Viewer()\n",
    "\n",
    "batch_dl = easy_augment_batch_dl.NapariEasyAugmentBatchDL(viewer, label_only = False)\n",
    "\n",
    "viewer.window.add_dock_widget(\n",
    "    batch_dl\n",
    ")\n",
    "\n",
    "\n",
    "parent_path =r'D:\\images\\tnia-python-images\\\\imagesc\\\\2024_12_19_sem_grain_size_revisit'\n",
    "model_path = os.path.join(parent_path, 'models')\n",
    "model_name =  None\n",
    "batch_dl.load_image_directory(parent_path)\n",
    "\n",
    "# optionally set a pretrained model and settings so we can do prediction\n",
    "if model_name is not None:\n",
    "    batch_dl.network_architecture_drop_down.setCurrentText(model_type)\n",
    "    batch_dl.deep_learning_project.set_pretrained_model(os.path.join(model_path, model_name), model_type)\n",
    "\n",
    "    model = batch_dl.deep_learning_project.models[model_type]\n",
    "    model.prob_thresh = -1\n",
    "    model.flow_thresh = 0.4\n",
    "    model.chan_segment = 2\n",
    "    model.chan2 = 3\n",
    "\n",
    "    widget = batch_dl.param_widgets[model_type]\n",
    "    widget.sync_with_model()\n",
    "    \n",
    "\n",
    "\n",
    "\n"
   ]
  },
  {
   "cell_type": "code",
   "execution_count": 28,
   "metadata": {},
   "outputs": [
    {
     "data": {
      "text/plain": [
       "(0, 65535)"
      ]
     },
     "execution_count": 28,
     "metadata": {},
     "output_type": "execute_result"
    }
   ],
   "source": [
    "parent_path =r'D:\\images\\tnia-python-images\\\\imagesc\\\\2024_10_07_cellpose_multi_nuclear'\n",
    "\n",
    "test = io.imread(os.path.join(parent_path, 'Empty_02 - Copy.tif')).astype('uint16')\n",
    "\n",
    "test.min(), test.max()"
   ]
  }
 ],
 "metadata": {
  "kernelspec": {
   "display_name": "pytorch_and_SAM3",
   "language": "python",
   "name": "python3"
  },
  "language_info": {
   "codemirror_mode": {
    "name": "ipython",
    "version": 3
   },
   "file_extension": ".py",
   "mimetype": "text/x-python",
   "name": "python",
   "nbconvert_exporter": "python",
   "pygments_lexer": "ipython3",
   "version": "3.10.14"
  }
 },
 "nbformat": 4,
 "nbformat_minor": 2
}
