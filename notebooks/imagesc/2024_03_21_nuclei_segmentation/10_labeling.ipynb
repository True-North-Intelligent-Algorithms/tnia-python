{
 "cells": [
  {
   "cell_type": "markdown",
   "metadata": {},
   "source": [
    "## Generate labels for Nuclei Data\n",
    "\n",
    "This notebook has a subtle upgrade from previous versions of this.  We use SAM now to generate some of the labels with a single click.  (Manual adjustments are still needed when SAM fails) "
   ]
  },
  {
   "cell_type": "code",
   "execution_count": 1,
   "metadata": {},
   "outputs": [
    {
     "name": "stdout",
     "output_type": "stream",
     "text": [
      "labels loaded\n"
     ]
    }
   ],
   "source": [
    "from skimage.io import imread, imsave\n",
    "import napari\n",
    "import os\n",
    "import numpy as np\n",
    "from pathlib import Path\n",
    "\n",
    "tnia_images_path = Path(r'D:/images')\n",
    "parent_path=Path(tnia_images_path / r'tnia-python-images/imagesc/2024_03_21_nuclei_segmentation')\n",
    "label_path = Path(parent_path / r'labels')\n",
    "image_path = Path(label_path / r'inputs0')\n",
    "mask_path = Path(label_path / r'ground truth0')\n",
    "\n",
    "name = '2023-03-28T14-12-32_Alessio_Pilot_Run_8bit'\n",
    "\n",
    "im = imread(os.path.join(image_path / (name+\".tif\")))\n",
    "\n",
    "#labels = np.zeros(im.shape, dtype=np.uint8)\n",
    "try:\n",
    "    labels = imread(os.path.join(mask_path / (name+\".tif\")))\n",
    "    print('labels loaded')\n",
    "except:\n",
    "    print('labels not created yet', (os.path.join(label_path / (name+\".tif\"))))\n",
    "    labels = np.zeros(im.shape, dtype=np.uint8)"
   ]
  },
  {
   "cell_type": "code",
   "execution_count": 19,
   "metadata": {},
   "outputs": [
    {
     "data": {
      "text/plain": [
       "<Labels layer 'SAM labels' at 0x20a1a8b62c0>"
      ]
     },
     "execution_count": 19,
     "metadata": {},
     "output_type": "execute_result"
    }
   ],
   "source": [
    "viewer.layers['SAM labels'].data"
   ]
  },
  {
   "cell_type": "code",
   "execution_count": 3,
   "metadata": {},
   "outputs": [
    {
     "data": {
      "text/html": [
       "<div>\n",
       "<style scoped>\n",
       "    .dataframe tbody tr th:only-of-type {\n",
       "        vertical-align: middle;\n",
       "    }\n",
       "\n",
       "    .dataframe tbody tr th {\n",
       "        vertical-align: top;\n",
       "    }\n",
       "\n",
       "    .dataframe thead th {\n",
       "        text-align: right;\n",
       "    }\n",
       "</style>\n",
       "<table border=\"1\" class=\"dataframe\">\n",
       "  <thead>\n",
       "    <tr style=\"text-align: right;\">\n",
       "      <th></th>\n",
       "      <th></th>\n",
       "      <th>X</th>\n",
       "      <th>Y</th>\n",
       "    </tr>\n",
       "  </thead>\n",
       "  <tbody>\n",
       "    <tr>\n",
       "      <th>0</th>\n",
       "      <td>1</td>\n",
       "      <td>16.500</td>\n",
       "      <td>26.167</td>\n",
       "    </tr>\n",
       "    <tr>\n",
       "      <th>1</th>\n",
       "      <td>2</td>\n",
       "      <td>46.500</td>\n",
       "      <td>19.500</td>\n",
       "    </tr>\n",
       "    <tr>\n",
       "      <th>2</th>\n",
       "      <td>3</td>\n",
       "      <td>60.167</td>\n",
       "      <td>34.500</td>\n",
       "    </tr>\n",
       "    <tr>\n",
       "      <th>3</th>\n",
       "      <td>4</td>\n",
       "      <td>56.833</td>\n",
       "      <td>51.833</td>\n",
       "    </tr>\n",
       "    <tr>\n",
       "      <th>4</th>\n",
       "      <td>5</td>\n",
       "      <td>80.167</td>\n",
       "      <td>45.500</td>\n",
       "    </tr>\n",
       "  </tbody>\n",
       "</table>\n",
       "</div>"
      ],
      "text/plain": [
       "           X       Y\n",
       "0  1  16.500  26.167\n",
       "1  2  46.500  19.500\n",
       "2  3  60.167  34.500\n",
       "3  4  56.833  51.833\n",
       "4  5  80.167  45.500"
      ]
     },
     "execution_count": 3,
     "metadata": {},
     "output_type": "execute_result"
    }
   ],
   "source": [
    "import pandas as pd\n",
    "points = pd.read_csv(parent_path / 'Results.csv')\n",
    "\n",
    "points.head()\n"
   ]
  },
  {
   "cell_type": "code",
   "execution_count": 5,
   "metadata": {},
   "outputs": [],
   "source": [
    "viewer = napari.Viewer()\n",
    "\n",
    "# create points layer\n",
    "viewer.add_image(im, name='im')\n",
    "viewer.add_labels(labels, name='labels')\n",
    "points_layer = viewer.add_points(points[['Y', 'X']], size=5, face_color='blue', name='points')"
   ]
  },
  {
   "cell_type": "code",
   "execution_count": 24,
   "metadata": {},
   "outputs": [
    {
     "name": "stderr",
     "output_type": "stream",
     "text": [
      "C:\\Users\\bnort\\AppData\\Local\\Temp\\ipykernel_28104\\2874516953.py:1: UserWarning: D:\\images\\tnia-python-images\\imagesc\\2024_03_21_nuclei_segmentation\\labels\\ground truth0\\2023-03-28T14-12-32_Alessio_Pilot_Run_8bit.tif is a low contrast image\n",
      "  imsave(os.path.join(mask_path / (name+\".tif\")), viewer.layers['SAM labels'].data.astype(np.uint16))\n"
     ]
    }
   ],
   "source": [
    "imsave(os.path.join(mask_path / (name+\".tif\")), viewer.layers['SAM labels'].data.astype(np.uint16))"
   ]
  },
  {
   "cell_type": "code",
   "execution_count": null,
   "metadata": {},
   "outputs": [],
   "source": []
  }
 ],
 "metadata": {
  "kernelspec": {
   "display_name": "pytorch_and_SAM",
   "language": "python",
   "name": "python3"
  },
  "language_info": {
   "codemirror_mode": {
    "name": "ipython",
    "version": 3
   },
   "file_extension": ".py",
   "mimetype": "text/x-python",
   "name": "python",
   "nbconvert_exporter": "python",
   "pygments_lexer": "ipython3",
   "version": "3.10.13"
  }
 },
 "nbformat": 4,
 "nbformat_minor": 2
}
