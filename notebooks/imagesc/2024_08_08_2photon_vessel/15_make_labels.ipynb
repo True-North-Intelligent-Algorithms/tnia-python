{
 "cells": [
  {
   "cell_type": "markdown",
   "metadata": {},
   "source": [
    "# Label 2-photon retinal images \n",
    "\n",
    "This notebook is used to label 2 photon retinal images"
   ]
  },
  {
   "cell_type": "markdown",
   "metadata": {},
   "source": [
    "## Define helper to convert bounding box format\n",
    "\n",
    "Eventually this should be in a helper"
   ]
  },
  {
   "cell_type": "code",
   "execution_count": 37,
   "metadata": {},
   "outputs": [],
   "source": [
    "import numpy as np\n",
    "\n",
    "def x1y1x2y2_to_tltrblbr(x1, y1, x2, y2, n =-1):\n",
    "    \"\"\"\n",
    "    Convert a bounding box defined by its top-left and bottom-right coordinates to the \n",
    "    coordinates of its corners in pixel space (top-left, top-right, bottom-right, bottom-left).\n",
    "\n",
    "    Parameters:\n",
    "    - x1 (int): x-coordinate of the top-left corner of the bounding box.\n",
    "    - y1 (int): y-coordinate of the top-left corner of the bounding box.\n",
    "    - x2 (int): x-coordinate of the bottom-right corner of the bounding box.\n",
    "    - y2 (int): y-coordinate of the bottom-right corner of the bounding box.\n",
    "\n",
    "    Returns:\n",
    "    - np.ndarray: Array of shape (4, 2) containing the coordinates of the bounding box corners \n",
    "      in the format [[top_left_y, top_left_x], [top_right_y, top_right_x], \n",
    "      [bottom_right_y, bottom_right_x], [bottom_left_y, bottom_left_x]].\n",
    "    \"\"\"\n",
    "    if n == -1:\n",
    "        return np.array([[y1, x1], [y1, x2], [y2, x2], [y2, x1]])\n",
    "    else: \n",
    "      return np.array([[n, y1, x1], [n, y1, x2], [n, y2, x2], [n, y2, x1]]) "
   ]
  },
  {
   "cell_type": "markdown",
   "metadata": {},
   "source": [
    "## Open Image and (possibly) pre-existing label"
   ]
  },
  {
   "cell_type": "code",
   "execution_count": 38,
   "metadata": {},
   "outputs": [
    {
     "name": "stdout",
     "output_type": "stream",
     "text": [
      "labels not created yet /home/bnorthan/images/tnia-python-images/imagesc/2024_08_08_2photon_vessel/labels/image1.tif\n",
      "label name is  /home/bnorthan/images/tnia-python-images/imagesc/2024_08_08_2photon_vessel/labels/ground truth0/image1_0.tif\n",
      "json name is  /home/bnorthan/images/tnia-python-images/imagesc/2024_08_08_2photon_vessel/labels/input0/image1_0.json\n",
      "{'base_name': 'image1_0', 'bbox': [192, 487, 738, 748]}\n"
     ]
    }
   ],
   "source": [
    "from skimage.io import imread, imsave\n",
    "import napari\n",
    "import os\n",
    "import numpy as np\n",
    "from pathlib import Path\n",
    "from tnia.deeplearning.dl_helper import make_label_directory\n",
    "from glob import glob\n",
    "import json\n",
    "\n",
    "# define tnia images path\n",
    "#tnia_images_path = Path(r'D:/images/tnia-python-images')\n",
    "tnia_images_path = Path(r'/home/bnorthan/images/tnia-python-images')\n",
    "\n",
    "# define parent path of project and label and image path\n",
    "parent_path=Path(tnia_images_path / r'imagesc/2024_08_08_2photon_vessel')\n",
    "label_path = Path(parent_path / r'labels')\n",
    "image_path = Path(parent_path )\n",
    "\n",
    "name = 'image1'\n",
    "ext = '.jpg'\n",
    "\n",
    "image_label_paths, mask_label_paths = make_label_directory(1, 1, label_path)\n",
    "\n",
    "# open image that we will label\n",
    "im = imread(os.path.join(image_path / (name+ext)))\n",
    "\n",
    "c = 0 \n",
    "\n",
    "# get list of tif files in image_label_path (these correspond to previously existing labels)\n",
    "label_names = list(Path(mask_label_paths[c]).glob('*.tif'))\n",
    "json_names = list(Path(image_label_paths[c]).glob('*.json'))\n",
    "                \n",
    "# get all label names for this image\n",
    "label_names_ = [x for x in label_names if name in x.name]\n",
    "json_names_ = [x for x in json_names if name in x.name]\n",
    "\n",
    "# sort the label names and json names to make sure they correspond\n",
    "label_names_ = sorted(label_names_)\n",
    "json_names_ = sorted(json_names_)\n",
    "\n",
    "try:\n",
    "    label = imread(os.path.join(mask_label_path / (name+\".tif\")))\n",
    "except:\n",
    "    print('labels not created yet', (os.path.join(label_path / (name+\".tif\"))))\n",
    "    label = np.zeros([im.shape[0], im.shape[1]], dtype=np.uint8)\n",
    "\n",
    "labels_temp = []\n",
    "boxes = []\n",
    "n = 0\n",
    "\n",
    "for label_name_, json_name_ in zip(label_names_, json_names_):\n",
    "\n",
    "    print('label name is ', label_name_)\n",
    "    print('json name is ', json_name_)\n",
    "\n",
    "    with open(json_name_, 'r') as f:\n",
    "        json_ = json.load(f)\n",
    "        print(json_)\n",
    "                                                        \n",
    "        x1= json_['bbox'][0]\n",
    "        y1= json_['bbox'][1]\n",
    "        x2= json_['bbox'][2]\n",
    "        y2= json_['bbox'][3]\n",
    "\n",
    "        bbox = x1y1x2y2_to_tltrblbr(x1, y1, x2, y2, -1)\n",
    "        boxes.append(bbox)\n",
    "\n",
    "        label_crop = imread(label_name_)\n",
    "        label[y1:y2, x1:x2] = label_crop\n",
    "        #rois.append([[x1, y1], [x2, y2]])\n",
    "\n",
    "        labels_temp.append(label)\n",
    "\n"
   ]
  },
  {
   "cell_type": "markdown",
   "metadata": {},
   "source": [
    "## Edit an ROI of the labels in Napari\n",
    "\n",
    "Now edit the labels in Napari.  We can start from a blank image or alternatively a pre-existing set of labels (either generated by another method, or previous manual labels) that we want to improve.\n",
    "\n",
    "Use the box ROI to indicate which region of the image contains labels."
   ]
  },
  {
   "cell_type": "code",
   "execution_count": 39,
   "metadata": {},
   "outputs": [],
   "source": [
    "viewer = napari.Viewer()\n",
    "viewer.add_image(im, name='im')\n",
    "viewer.add_labels(label, name='labels')\n",
    "\n",
    "boxes_layer = viewer.add_shapes(\n",
    "            name=\"Label box\",\n",
    "            face_color=\"transparent\",\n",
    "            edge_color=\"green\",\n",
    "            edge_width=2,\n",
    "        )\n",
    "\n",
    "if len(boxes) > 0:\n",
    "    boxes_layer.add(boxes)\n",
    "else:\n",
    "    boxes_layer.add([[[0,0],[im.shape[0],im.shape[1]//2]]])\n"
   ]
  },
  {
   "cell_type": "markdown",
   "metadata": {},
   "source": [
    "## Get the ROI that was labeled"
   ]
  },
  {
   "cell_type": "code",
   "execution_count": 41,
   "metadata": {},
   "outputs": [
    {
     "name": "stdout",
     "output_type": "stream",
     "text": [
      "bounding box is 487 261 192 546\n"
     ]
    }
   ],
   "source": [
    "ystart = int(np.min(boxes_layer.data[0][:,0]))\n",
    "yend = int(np.max(boxes_layer.data[0][:,0]))\n",
    "xstart = int(np.min(boxes_layer.data[0][:,1]))\n",
    "xend = int(np.max(boxes_layer.data[0][:,1]))\n",
    "\n",
    "ystart = max(0, ystart)\n",
    "yend = min(im.shape[0], yend)\n",
    "xstart = max(0, xstart)\n",
    "xend = min(im.shape[1], xend)\n",
    "\n",
    "print('bounding box is',ystart, yend, xstart, xend)\n",
    "if np.ndim(im) == 3:\n",
    "    im = im[ystart:yend, xstart:xend, :]\n",
    "else:\n",
    "    im = im[ystart:yend, xstart:xend]\n",
    "\n",
    "label = label[ystart:yend, xstart:xend]"
   ]
  },
  {
   "cell_type": "markdown",
   "metadata": {},
   "source": [
    "## Save modified labels"
   ]
  },
  {
   "cell_type": "markdown",
   "metadata": {},
   "source": [
    "## Get next label names\n",
    "\n",
    "In this step we generate label names.  It should be based on the input file name, however if a label from that image already exists the label number should be incremented so we don't overwrite it. "
   ]
  },
  {
   "cell_type": "code",
   "execution_count": 42,
   "metadata": {},
   "outputs": [
    {
     "name": "stdout",
     "output_type": "stream",
     "text": [
      "/home/bnorthan/images/tnia-python-images/imagesc/2024_08_08_2photon_vessel/labels/input0/image1_1.tif\n",
      "/home/bnorthan/images/tnia-python-images/imagesc/2024_08_08_2photon_vessel/labels/ground truth0/image1_1.tif\n"
     ]
    }
   ],
   "source": [
    "from tnia.deeplearning.dl_helper import generate_label_names, generate_next_label_name\n",
    "\n",
    "image_name, mask_name = generate_label_names(str(image_label_paths[0]), str(mask_label_paths[0]), name)\n",
    "\n",
    "print(image_name)\n",
    "print(mask_name)\n",
    "\n"
   ]
  },
  {
   "cell_type": "code",
   "execution_count": null,
   "metadata": {},
   "outputs": [],
   "source": [
    "imsave(image_name, im)\n",
    "imsave(mask_name, label)"
   ]
  },
  {
   "cell_type": "code",
   "execution_count": null,
   "metadata": {},
   "outputs": [],
   "source": [
    "print(image_name)\n",
    "json_name = os.path.basename(image_name).split('.')[0]+'.json'\n",
    "print(json_name)"
   ]
  },
  {
   "cell_type": "markdown",
   "metadata": {},
   "source": [
    "# Save bounding box"
   ]
  },
  {
   "cell_type": "code",
   "execution_count": null,
   "metadata": {},
   "outputs": [],
   "source": [
    "# take away extension from image_name and replace with json\n",
    "json_name = os.path.basename(image_name).split('.')[0]+'.json'\n",
    "\n",
    "# save xstart, ystart, xend, yend to json \n",
    "import json\n",
    "json_name = os.path.join(image_label_paths[0], json_name)\n",
    "with open(json_name, 'w') as f:\n",
    "    json_ = {}\n",
    "    json_['source_name'] = name + ext\n",
    "    json_['bbox'] = [xstart, ystart, xend, yend]\n",
    "    json.dump(json_, f)"
   ]
  }
 ],
 "metadata": {
  "kernelspec": {
   "display_name": "dresden-decon-test1",
   "language": "python",
   "name": "python3"
  },
  "language_info": {
   "codemirror_mode": {
    "name": "ipython",
    "version": 3
   },
   "file_extension": ".py",
   "mimetype": "text/x-python",
   "name": "python",
   "nbconvert_exporter": "python",
   "pygments_lexer": "ipython3",
   "version": "3.12.3"
  }
 },
 "nbformat": 4,
 "nbformat_minor": 2
}
