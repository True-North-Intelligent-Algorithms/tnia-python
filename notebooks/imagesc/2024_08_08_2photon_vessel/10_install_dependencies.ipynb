{
 "cells": [
  {
   "cell_type": "markdown",
   "metadata": {},
   "source": [
    "## Installation\n",
    "\n",
    "You will also need to install the latest development version of tnia-python:\n",
    "\n",
    "```\n",
    "pip install git+https://github.com/True-North-Intelligent-Algorithms/tnia-python.git\n",
    "```\n",
    "\n",
    "If you want to do interactive labelling install napari-easy-augment-batch-dl from git\n",
    "\n",
    "```\n",
    "pip install git+https://github.com/True-North-Intelligent-Algorithms/napari-easy-augment-batch-dl.git\n",
    "```\n",
    "\n",
    "You will need to install napari and for augmentation you will need albumentations library.  Also explicitly install numpy 1.26.  (We have not tested with numpy 2.0 so it is a good idea to explicitly install numpy 1.26 to avoid another dependency installing numpy 2.x)\n",
    "\n",
    "```\n",
    "    pip install numpy==1.26\n",
    "    pip install napari[all]\n",
    "    pip install albumentations\n",
    "    pip install matplotlib\n",
    "```\n",
    "\n",
    "You will also need to install pytorch for unet segmentation\n",
    "\n",
    "```\n",
    "    pip3 install torch torchvision torchaudio --index-url https://download.pytorch.org/whl/cu118\n",
    "    pip install pytorch-lightning\n",
    "    pip install monai\n",
    "    pip install scipy\n",
    "    pip install tifffile\n",
    "```\n"
   ]
  },
  {
   "cell_type": "markdown",
   "metadata": {},
   "source": []
  }
 ],
 "metadata": {
  "language_info": {
   "name": "python"
  }
 },
 "nbformat": 4,
 "nbformat_minor": 2
}
