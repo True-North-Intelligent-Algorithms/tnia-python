{
 "cells": [
  {
   "cell_type": "code",
   "execution_count": 7,
   "metadata": {},
   "outputs": [],
   "source": [
    "import napari\n",
    "\n",
    "from napari_easy_augment_batch_dl import easy_augment_batch_dl\n"
   ]
  },
  {
   "cell_type": "code",
   "execution_count": 16,
   "metadata": {},
   "outputs": [
    {
     "data": {
      "text/plain": [
       "<napari._qt.widgets.qt_viewer_dock_widget.QtViewerDockWidget at 0x23e961e91f0>"
      ]
     },
     "execution_count": 16,
     "metadata": {},
     "output_type": "execute_result"
    },
    {
     "name": "stderr",
     "output_type": "stream",
     "text": [
      "WARNING: QWindowsWindow::setGeometry: Unable to set geometry 1920x1061+0+23 (frame: 1936x1100-8-8) on QWidgetWindow/\"_QtMainWindowClassWindow\" on \"\\\\.\\DISPLAY1\". Resulting geometry: 1920x1017+0+23 (frame: 1936x1056-8-8) margins: 8, 31, 8, 8 minimum size: 649x1061 MINMAXINFO maxSize=0,0 maxpos=0,0 mintrack=665,1100 maxtrack=0,0)\n",
      "WARNING:vispy:QWindowsWindow::setGeometry: Unable to set geometry 1920x1061+0+23 (frame: 1936x1100-8-8) on QWidgetWindow/\"_QtMainWindowClassWindow\" on \"\\\\.\\DISPLAY1\". Resulting geometry: 1920x1017+0+23 (frame: 1936x1056-8-8) margins: 8, 31, 8, 8 minimum size: 649x1061 MINMAXINFO maxSize=0,0 maxpos=0,0 mintrack=665,1100 maxtrack=0,0)\n"
     ]
    }
   ],
   "source": [
    "\n",
    "from napari_easy_augment_batch_dl import easy_augment_batch_dl\n",
    "\n",
    "viewer = napari.Viewer()\n",
    "\n",
    "batch_dl = easy_augment_batch_dl.NapariEasyAugmentBatchDL(viewer)\n",
    "\n",
    "viewer.window.add_dock_widget(\n",
    "    batch_dl\n",
    ")"
   ]
  },
  {
   "cell_type": "code",
   "execution_count": 17,
   "metadata": {},
   "outputs": [
    {
     "name": "stdout",
     "output_type": "stream",
     "text": [
      "(764, 762, 3)\n",
      "(763, 765, 3)\n",
      "there are 2 labels for class 0\n",
      "there are 2 json files for class 0\n",
      "image base name is  image1\n",
      "label name is  D:\\images\\tnia-python-images\\imagesc\\2024_08_08_2photon_vessel\\labels\\ground truth0\\image1_0.tif\n",
      "json name is  D:\\images\\tnia-python-images\\imagesc\\2024_08_08_2photon_vessel\\labels\\input0\\image1_0.json\n",
      "{'base_name': 'image1_0', 'bbox': [192, 487, 738, 748]}\n",
      "image base name is  image2\n",
      "label name is  D:\\images\\tnia-python-images\\imagesc\\2024_08_08_2photon_vessel\\labels\\ground truth0\\image2_0.tif\n",
      "json name is  D:\\images\\tnia-python-images\\imagesc\\2024_08_08_2photon_vessel\\labels\\input0\\image2_0.json\n",
      "{'base_name': 'image2_0', 'bbox': [162, 472, 730, 737]}\n"
     ]
    },
    {
     "name": "stderr",
     "output_type": "stream",
     "text": [
      "WARNING: QWindowsWindow::setGeometry: Unable to set geometry 1920x1061+0+23 (frame: 1936x1100-8-8) on QWidgetWindow/\"_QtMainWindowClassWindow\" on \"\\\\.\\DISPLAY1\". Resulting geometry: 1920x1017+0+23 (frame: 1936x1056-8-8) margins: 8, 31, 8, 8 minimum size: 702x1061 MINMAXINFO maxSize=0,0 maxpos=0,0 mintrack=718,1100 maxtrack=0,0)\n",
      "WARNING:vispy:QWindowsWindow::setGeometry: Unable to set geometry 1920x1061+0+23 (frame: 1936x1100-8-8) on QWidgetWindow/\"_QtMainWindowClassWindow\" on \"\\\\.\\DISPLAY1\". Resulting geometry: 1920x1017+0+23 (frame: 1936x1056-8-8) margins: 8, 31, 8, 8 minimum size: 702x1061 MINMAXINFO maxSize=0,0 maxpos=0,0 mintrack=718,1100 maxtrack=0,0)\n"
     ]
    }
   ],
   "source": [
    "batch_dl.load_image_directory(r'D:\\images\\tnia-python-images\\imagesc\\2024_08_08_2photon_vessel')"
   ]
  },
  {
   "cell_type": "code",
   "execution_count": null,
   "metadata": {},
   "outputs": [],
   "source": []
  }
 ],
 "metadata": {
  "kernelspec": {
   "display_name": "segment_bees_311",
   "language": "python",
   "name": "python3"
  },
  "language_info": {
   "codemirror_mode": {
    "name": "ipython",
    "version": 3
   },
   "file_extension": ".py",
   "mimetype": "text/x-python",
   "name": "python",
   "nbconvert_exporter": "python",
   "pygments_lexer": "ipython3",
   "version": "3.9.19"
  }
 },
 "nbformat": 4,
 "nbformat_minor": 2
}
