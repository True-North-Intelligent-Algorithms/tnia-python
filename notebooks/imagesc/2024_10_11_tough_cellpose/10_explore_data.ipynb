{
 "cells": [
  {
   "cell_type": "markdown",
   "metadata": {},
   "source": [
    "## Explore Data\n",
    "\n",
    "This notebook uses the ```napari-easy-augment-batch-dl``` widget to explore and label the data.  If we have a model trained we can also predict using that model. \n",
    "\n",
    "Note:  ```napari-easy-augment-batch-dl``` is a useful tool, especially for labelling, but is currently under construction for other uses.  Right now it **may** be best to use it for labelling and inspecting predictions and do other steps of the deep learning workflow (making patches, training) in notebooks.  (of course you are welcome to try the GUI for other steps and report and hiccups (or disasters) that occur)"
   ]
  },
  {
   "cell_type": "code",
   "execution_count": 12,
   "metadata": {},
   "outputs": [],
   "source": [
    "from cellpose import models, io\n",
    "import os\n",
    "import numpy as np\n",
    "import napari\n",
    "from napari_easy_augment_batch_dl import easy_augment_batch_dl\n",
    "\n",
    "from micro_sam_instance_framework import MicroSamInstanceFramework"
   ]
  },
  {
   "cell_type": "code",
   "execution_count": null,
   "metadata": {},
   "outputs": [
    {
     "name": "stderr",
     "output_type": "stream",
     "text": [
      "WARNING: QWindowsWindow::setGeometry: Unable to set geometry 1086x1108+2560+280 (frame: 1102x1147+2552+249) on QWidgetWindow/\"_QtMainWindowClassWindow\" on \"\\\\.\\DISPLAY2\". Resulting geometry: 1086x1061+2560+280 (frame: 1102x1100+2552+249) margins: 8, 31, 8, 8 minimum size: 385x497 MINMAXINFO maxSize=0,0 maxpos=0,0 mintrack=401,536 maxtrack=0,0)\n"
     ]
    },
    {
     "name": "stdout",
     "output_type": "stream",
     "text": [
      "2025-05-15 14:33:54,026 [WARNING] QWindowsWindow::setGeometry: Unable to set geometry 1086x1108+2560+280 (frame: 1102x1147+2552+249) on QWidgetWindow/\"_QtMainWindowClassWindow\" on \"\\\\.\\DISPLAY2\". Resulting geometry: 1086x1061+2560+280 (frame: 1102x1100+2552+249) margins: 8, 31, 8, 8 minimum size: 385x497 MINMAXINFO maxSize=0,0 maxpos=0,0 mintrack=401,536 maxtrack=0,0)\n"
     ]
    },
    {
     "name": "stderr",
     "output_type": "stream",
     "text": [
      "C:\\Users\\bnort\\AppData\\Local\\Temp\\ipykernel_23252\\3815684932.py:3: DeprecationWarning: The 'label_only' parameter is deprecated. Please use the 'mode' parameter instead.\n",
      "  batch_dl = easy_augment_batch_dl.NapariEasyAugmentBatchDL(viewer, label_only = False)\n"
     ]
    },
    {
     "name": "stdout",
     "output_type": "stream",
     "text": [
      "PytorchSemanticFramework not loaded\n",
      "No module named 'segment_everything'\n",
      "Found framework CellPoseInstanceFramework\n",
      "creating new log file\n",
      "2025-05-15 14:33:58,292 [INFO] WRITING LOG OUTPUT TO C:\\Users\\bnort\\.cellpose\\run.log\n",
      "2025-05-15 14:33:58,294 [INFO] \n",
      "cellpose version: \t4.0.1 \n",
      "platform:       \twin32 \n",
      "python version: \t3.11.12 \n",
      "torch version:  \t2.6.0\n",
      "Found framework RandomForestFramework\n",
      "Found framework MicroSamInstanceFramework\n",
      "Zarr store already up-to-date.\n",
      "Zarr store already up-to-date.\n",
      "Adding object boxes layer\n",
      "Adding predicted object boxes layer\n",
      "Adding label boxes\n",
      "Data changed\n",
      "Data changed\n",
      "Adding object boxes\n",
      "Adding predicted object boxes\n",
      "Setting object box classes\n",
      "Setting predicted object box classes\n"
     ]
    },
    {
     "ename": "AttributeError",
     "evalue": "'DeepLearningProject' object has no attribute 'set_pretrained_model'",
     "output_type": "error",
     "traceback": [
      "\u001b[31m---------------------------------------------------------------------------\u001b[39m",
      "\u001b[31mAttributeError\u001b[39m                            Traceback (most recent call last)",
      "\u001b[36mCell\u001b[39m\u001b[36m \u001b[39m\u001b[32mIn[13]\u001b[39m\u001b[32m, line 19\u001b[39m\n\u001b[32m     17\u001b[39m \u001b[38;5;28;01mif\u001b[39;00m model_name \u001b[38;5;129;01mis\u001b[39;00m \u001b[38;5;129;01mnot\u001b[39;00m \u001b[38;5;28;01mNone\u001b[39;00m:\n\u001b[32m     18\u001b[39m     batch_dl.network_architecture_drop_down.setCurrentText(model_type)\n\u001b[32m---> \u001b[39m\u001b[32m19\u001b[39m     \u001b[43mbatch_dl\u001b[49m\u001b[43m.\u001b[49m\u001b[43mdeep_learning_project\u001b[49m\u001b[43m.\u001b[49m\u001b[43mset_pretrained_model\u001b[49m(os.path.join(model_path, model_name), model_type)\n\u001b[32m     21\u001b[39m     model = batch_dl.deep_learning_project.models[model_type]\n\u001b[32m     22\u001b[39m     model.prob_thresh = -\u001b[32m1\u001b[39m\n",
      "\u001b[31mAttributeError\u001b[39m: 'DeepLearningProject' object has no attribute 'set_pretrained_model'"
     ]
    },
    {
     "name": "stderr",
     "output_type": "stream",
     "text": [
      "WARNING: QWindowsWindow::setGeometry: Unable to set geometry 1920x1108+1920+23 (frame: 1936x1147+1912-8) on QWidgetWindow/\"_QtMainWindowClassWindow\" on \"\\\\.\\DISPLAY2\". Resulting geometry: 1920x1017+1920+23 (frame: 1936x1056+1912-8) margins: 8, 31, 8, 8 minimum size: 898x1108 MINMAXINFO maxSize=0,0 maxpos=0,0 mintrack=914,1147 maxtrack=0,0)\n"
     ]
    },
    {
     "name": "stdout",
     "output_type": "stream",
     "text": [
      "2025-05-15 14:34:08,921 [WARNING] QWindowsWindow::setGeometry: Unable to set geometry 1920x1108+1920+23 (frame: 1936x1147+1912-8) on QWidgetWindow/\"_QtMainWindowClassWindow\" on \"\\\\.\\DISPLAY2\". Resulting geometry: 1920x1017+1920+23 (frame: 1936x1056+1912-8) margins: 8, 31, 8, 8 minimum size: 898x1108 MINMAXINFO maxSize=0,0 maxpos=0,0 mintrack=914,1147 maxtrack=0,0)\n",
      "Predicting using Micro-sam model\n",
      "Predicting using Micro-sam model\n",
      "Predicting using Micro-sam model\n",
      "Predicting using Micro-sam model\n",
      "2025-05-15 14:39:42,803 [INFO] ** TORCH CUDA version installed and working. **\n",
      "2025-05-15 14:39:42,805 [INFO] >>>> using GPU (CUDA)\n",
      "2025-05-15 14:39:44,878 [INFO] >>>> loading model D:/images/tnia-python-images/imagesc/2024_10_11_tough_cellpose_2/models/models/cellpose_testing_tnia_cpsam\n",
      "2025-05-15 14:39:46,754 [WARNING] channels deprecated in v4.0.1+. If data contain more than 3 channels, only the first 3 channels will be used\n",
      "2025-05-15 14:41:08,721 [WARNING] channels deprecated in v4.0.1+. If data contain more than 3 channels, only the first 3 channels will be used\n",
      "Predicting using Micro-sam model\n",
      "Predicting using Micro-sam model\n",
      "Predicting using Micro-sam model\n",
      "Predicting using Micro-sam model\n",
      "Predicting using Micro-sam model\n"
     ]
    },
    {
     "name": "stderr",
     "output_type": "stream",
     "text": [
      "WARNING: QObject::setParent: Cannot set parent, new parent is in a different thread\n"
     ]
    },
    {
     "name": "stdout",
     "output_type": "stream",
     "text": [
      "2025-05-15 14:44:59,181 [WARNING] QObject::setParent: Cannot set parent, new parent is in a different thread\n"
     ]
    },
    {
     "name": "stderr",
     "output_type": "stream",
     "text": [
      "WARNING: QObject::startTimer: Timers cannot be started from another thread\n"
     ]
    },
    {
     "name": "stdout",
     "output_type": "stream",
     "text": [
      "2025-05-15 14:44:59,189 [WARNING] QObject::startTimer: Timers cannot be started from another thread\n"
     ]
    },
    {
     "name": "stderr",
     "output_type": "stream",
     "text": [
      "WARNING: QObject::setParent: Cannot set parent, new parent is in a different thread\n"
     ]
    },
    {
     "name": "stdout",
     "output_type": "stream",
     "text": [
      "2025-05-15 14:44:59,191 [WARNING] QObject::setParent: Cannot set parent, new parent is in a different thread\n"
     ]
    },
    {
     "name": "stderr",
     "output_type": "stream",
     "text": [
      "WARNING: QObject::setParent: Cannot set parent, new parent is in a different thread\n"
     ]
    },
    {
     "name": "stdout",
     "output_type": "stream",
     "text": [
      "2025-05-15 14:44:59,195 [WARNING] QObject::setParent: Cannot set parent, new parent is in a different thread\n"
     ]
    },
    {
     "name": "stderr",
     "output_type": "stream",
     "text": [
      "WARNING: QObject::setParent: Cannot set parent, new parent is in a different thread\n"
     ]
    },
    {
     "name": "stdout",
     "output_type": "stream",
     "text": [
      "2025-05-15 14:44:59,198 [WARNING] QObject::setParent: Cannot set parent, new parent is in a different thread\n"
     ]
    },
    {
     "name": "stderr",
     "output_type": "stream",
     "text": [
      "WARNING: QObject::setParent: Cannot set parent, new parent is in a different thread\n"
     ]
    },
    {
     "name": "stdout",
     "output_type": "stream",
     "text": [
      "2025-05-15 14:44:59,206 [WARNING] QObject::setParent: Cannot set parent, new parent is in a different thread\n"
     ]
    },
    {
     "name": "stderr",
     "output_type": "stream",
     "text": [
      "WARNING: QObject::setParent: Cannot set parent, new parent is in a different thread\n"
     ]
    },
    {
     "name": "stdout",
     "output_type": "stream",
     "text": [
      "2025-05-15 14:45:02,429 [WARNING] QObject::setParent: Cannot set parent, new parent is in a different thread\n"
     ]
    },
    {
     "name": "stderr",
     "output_type": "stream",
     "text": [
      "WARNING: QObject::setParent: Cannot set parent, new parent is in a different thread\n"
     ]
    },
    {
     "name": "stdout",
     "output_type": "stream",
     "text": [
      "2025-05-15 14:45:03,562 [WARNING] QObject::setParent: Cannot set parent, new parent is in a different thread\n",
      "Predicting using Micro-sam model\n"
     ]
    },
    {
     "name": "stderr",
     "output_type": "stream",
     "text": [
      "WARNING: QObject::setParent: Cannot set parent, new parent is in a different thread\n"
     ]
    },
    {
     "name": "stdout",
     "output_type": "stream",
     "text": [
      "2025-05-15 14:45:05,693 [WARNING] QObject::setParent: Cannot set parent, new parent is in a different thread\n"
     ]
    },
    {
     "name": "stderr",
     "output_type": "stream",
     "text": [
      "WARNING: QObject::setParent: Cannot set parent, new parent is in a different thread\n"
     ]
    },
    {
     "name": "stdout",
     "output_type": "stream",
     "text": [
      "2025-05-15 14:45:09,014 [WARNING] QObject::setParent: Cannot set parent, new parent is in a different thread\n"
     ]
    },
    {
     "name": "stderr",
     "output_type": "stream",
     "text": [
      "WARNING: QObject::setParent: Cannot set parent, new parent is in a different thread\n"
     ]
    },
    {
     "name": "stdout",
     "output_type": "stream",
     "text": [
      "2025-05-15 14:45:10,132 [WARNING] QObject::setParent: Cannot set parent, new parent is in a different thread\n",
      "Predicting using Micro-sam model\n"
     ]
    },
    {
     "name": "stderr",
     "output_type": "stream",
     "text": [
      "WARNING: QObject::setParent: Cannot set parent, new parent is in a different thread\n"
     ]
    },
    {
     "name": "stdout",
     "output_type": "stream",
     "text": [
      "2025-05-15 14:45:12,339 [WARNING] QObject::setParent: Cannot set parent, new parent is in a different thread\n"
     ]
    },
    {
     "name": "stderr",
     "output_type": "stream",
     "text": [
      "WARNING: QObject::setParent: Cannot set parent, new parent is in a different thread\n"
     ]
    },
    {
     "name": "stdout",
     "output_type": "stream",
     "text": [
      "2025-05-15 14:45:15,639 [WARNING] QObject::setParent: Cannot set parent, new parent is in a different thread\n"
     ]
    },
    {
     "name": "stderr",
     "output_type": "stream",
     "text": [
      "WARNING: QObject::setParent: Cannot set parent, new parent is in a different thread\n"
     ]
    },
    {
     "name": "stdout",
     "output_type": "stream",
     "text": [
      "2025-05-15 14:45:16,759 [WARNING] QObject::setParent: Cannot set parent, new parent is in a different thread\n",
      "Predicting using Micro-sam model\n"
     ]
    },
    {
     "name": "stderr",
     "output_type": "stream",
     "text": [
      "WARNING: QObject::setParent: Cannot set parent, new parent is in a different thread\n"
     ]
    },
    {
     "name": "stdout",
     "output_type": "stream",
     "text": [
      "2025-05-15 14:45:19,049 [WARNING] QObject::setParent: Cannot set parent, new parent is in a different thread\n"
     ]
    },
    {
     "name": "stderr",
     "output_type": "stream",
     "text": [
      "WARNING: QObject::setParent: Cannot set parent, new parent is in a different thread\n"
     ]
    },
    {
     "name": "stdout",
     "output_type": "stream",
     "text": [
      "2025-05-15 14:45:22,292 [WARNING] QObject::setParent: Cannot set parent, new parent is in a different thread\n"
     ]
    },
    {
     "name": "stderr",
     "output_type": "stream",
     "text": [
      "WARNING: QObject::setParent: Cannot set parent, new parent is in a different thread\n"
     ]
    },
    {
     "name": "stdout",
     "output_type": "stream",
     "text": [
      "2025-05-15 14:45:23,430 [WARNING] QObject::setParent: Cannot set parent, new parent is in a different thread\n",
      "Predicting using Micro-sam model\n"
     ]
    },
    {
     "name": "stderr",
     "output_type": "stream",
     "text": [
      "WARNING: QObject::setParent: Cannot set parent, new parent is in a different thread\n"
     ]
    },
    {
     "name": "stdout",
     "output_type": "stream",
     "text": [
      "2025-05-15 14:45:25,559 [WARNING] QObject::setParent: Cannot set parent, new parent is in a different thread\n"
     ]
    },
    {
     "name": "stderr",
     "output_type": "stream",
     "text": [
      "WARNING: QObject::setParent: Cannot set parent, new parent is in a different thread\n"
     ]
    },
    {
     "name": "stdout",
     "output_type": "stream",
     "text": [
      "2025-05-15 14:45:28,820 [WARNING] QObject::setParent: Cannot set parent, new parent is in a different thread\n"
     ]
    },
    {
     "name": "stderr",
     "output_type": "stream",
     "text": [
      "WARNING: QObject::setParent: Cannot set parent, new parent is in a different thread\n"
     ]
    },
    {
     "name": "stdout",
     "output_type": "stream",
     "text": [
      "2025-05-15 14:45:29,990 [WARNING] QObject::setParent: Cannot set parent, new parent is in a different thread\n",
      "Predicting using Micro-sam model\n"
     ]
    },
    {
     "name": "stderr",
     "output_type": "stream",
     "text": [
      "WARNING: QObject::setParent: Cannot set parent, new parent is in a different thread\n"
     ]
    },
    {
     "name": "stdout",
     "output_type": "stream",
     "text": [
      "2025-05-15 14:45:32,218 [WARNING] QObject::setParent: Cannot set parent, new parent is in a different thread\n"
     ]
    },
    {
     "name": "stderr",
     "output_type": "stream",
     "text": [
      "WARNING: QObject::setParent: Cannot set parent, new parent is in a different thread\n"
     ]
    },
    {
     "name": "stdout",
     "output_type": "stream",
     "text": [
      "2025-05-15 14:45:35,662 [WARNING] QObject::setParent: Cannot set parent, new parent is in a different thread\n"
     ]
    },
    {
     "name": "stderr",
     "output_type": "stream",
     "text": [
      "WARNING: QObject::setParent: Cannot set parent, new parent is in a different thread\n"
     ]
    },
    {
     "name": "stdout",
     "output_type": "stream",
     "text": [
      "2025-05-15 14:45:36,790 [WARNING] QObject::setParent: Cannot set parent, new parent is in a different thread\n",
      "Predicting using Micro-sam model\n"
     ]
    },
    {
     "name": "stderr",
     "output_type": "stream",
     "text": [
      "WARNING: QObject::setParent: Cannot set parent, new parent is in a different thread\n"
     ]
    },
    {
     "name": "stdout",
     "output_type": "stream",
     "text": [
      "2025-05-15 14:45:38,965 [WARNING] QObject::setParent: Cannot set parent, new parent is in a different thread\n"
     ]
    },
    {
     "name": "stderr",
     "output_type": "stream",
     "text": [
      "WARNING: QObject::setParent: Cannot set parent, new parent is in a different thread\n"
     ]
    },
    {
     "name": "stdout",
     "output_type": "stream",
     "text": [
      "2025-05-15 14:45:42,166 [WARNING] QObject::setParent: Cannot set parent, new parent is in a different thread\n"
     ]
    },
    {
     "name": "stderr",
     "output_type": "stream",
     "text": [
      "WARNING: QObject::setParent: Cannot set parent, new parent is in a different thread\n"
     ]
    },
    {
     "name": "stdout",
     "output_type": "stream",
     "text": [
      "2025-05-15 14:45:43,376 [WARNING] QObject::setParent: Cannot set parent, new parent is in a different thread\n",
      "Predicting using Micro-sam model\n"
     ]
    },
    {
     "name": "stderr",
     "output_type": "stream",
     "text": [
      "WARNING: QObject::setParent: Cannot set parent, new parent is in a different thread\n"
     ]
    },
    {
     "name": "stdout",
     "output_type": "stream",
     "text": [
      "2025-05-15 14:45:45,559 [WARNING] QObject::setParent: Cannot set parent, new parent is in a different thread\n"
     ]
    },
    {
     "name": "stderr",
     "output_type": "stream",
     "text": [
      "WARNING: QObject::setParent: Cannot set parent, new parent is in a different thread\n"
     ]
    },
    {
     "name": "stdout",
     "output_type": "stream",
     "text": [
      "2025-05-15 14:45:48,765 [WARNING] QObject::setParent: Cannot set parent, new parent is in a different thread\n"
     ]
    },
    {
     "name": "stderr",
     "output_type": "stream",
     "text": [
      "WARNING: QObject::setParent: Cannot set parent, new parent is in a different thread\n"
     ]
    },
    {
     "name": "stdout",
     "output_type": "stream",
     "text": [
      "2025-05-15 14:45:49,942 [WARNING] QObject::setParent: Cannot set parent, new parent is in a different thread\n",
      "Predicting using Micro-sam model\n"
     ]
    },
    {
     "name": "stderr",
     "output_type": "stream",
     "text": [
      "WARNING: QObject::setParent: Cannot set parent, new parent is in a different thread\n"
     ]
    },
    {
     "name": "stdout",
     "output_type": "stream",
     "text": [
      "2025-05-15 14:45:52,151 [WARNING] QObject::setParent: Cannot set parent, new parent is in a different thread\n"
     ]
    },
    {
     "name": "stderr",
     "output_type": "stream",
     "text": [
      "WARNING: QObject::setParent: Cannot set parent, new parent is in a different thread\n"
     ]
    },
    {
     "name": "stdout",
     "output_type": "stream",
     "text": [
      "2025-05-15 14:45:55,401 [WARNING] QObject::setParent: Cannot set parent, new parent is in a different thread\n"
     ]
    },
    {
     "name": "stderr",
     "output_type": "stream",
     "text": [
      "WARNING: QObject::setParent: Cannot set parent, new parent is in a different thread\n"
     ]
    },
    {
     "name": "stdout",
     "output_type": "stream",
     "text": [
      "2025-05-15 14:45:56,526 [WARNING] QObject::setParent: Cannot set parent, new parent is in a different thread\n",
      "Predicting using Micro-sam model\n"
     ]
    },
    {
     "name": "stderr",
     "output_type": "stream",
     "text": [
      "WARNING: QObject::setParent: Cannot set parent, new parent is in a different thread\n"
     ]
    },
    {
     "name": "stdout",
     "output_type": "stream",
     "text": [
      "2025-05-15 14:45:58,719 [WARNING] QObject::setParent: Cannot set parent, new parent is in a different thread\n"
     ]
    },
    {
     "name": "stderr",
     "output_type": "stream",
     "text": [
      "WARNING: QObject::setParent: Cannot set parent, new parent is in a different thread\n"
     ]
    },
    {
     "name": "stdout",
     "output_type": "stream",
     "text": [
      "2025-05-15 14:46:01,919 [WARNING] QObject::setParent: Cannot set parent, new parent is in a different thread\n"
     ]
    },
    {
     "name": "stderr",
     "output_type": "stream",
     "text": [
      "WARNING: QObject::setParent: Cannot set parent, new parent is in a different thread\n"
     ]
    },
    {
     "name": "stdout",
     "output_type": "stream",
     "text": [
      "2025-05-15 14:46:03,098 [WARNING] QObject::setParent: Cannot set parent, new parent is in a different thread\n",
      "Predicting using Micro-sam model\n"
     ]
    },
    {
     "name": "stderr",
     "output_type": "stream",
     "text": [
      "WARNING: QObject::setParent: Cannot set parent, new parent is in a different thread\n"
     ]
    },
    {
     "name": "stdout",
     "output_type": "stream",
     "text": [
      "2025-05-15 14:46:05,269 [WARNING] QObject::setParent: Cannot set parent, new parent is in a different thread\n"
     ]
    },
    {
     "name": "stderr",
     "output_type": "stream",
     "text": [
      "WARNING: QObject::setParent: Cannot set parent, new parent is in a different thread\n"
     ]
    },
    {
     "name": "stdout",
     "output_type": "stream",
     "text": [
      "2025-05-15 14:46:08,524 [WARNING] QObject::setParent: Cannot set parent, new parent is in a different thread\n"
     ]
    },
    {
     "name": "stderr",
     "output_type": "stream",
     "text": [
      "WARNING: QObject::setParent: Cannot set parent, new parent is in a different thread\n"
     ]
    },
    {
     "name": "stdout",
     "output_type": "stream",
     "text": [
      "2025-05-15 14:46:09,691 [WARNING] QObject::setParent: Cannot set parent, new parent is in a different thread\n",
      "Predicting using Micro-sam model\n"
     ]
    },
    {
     "name": "stderr",
     "output_type": "stream",
     "text": [
      "WARNING: QObject::setParent: Cannot set parent, new parent is in a different thread\n"
     ]
    },
    {
     "name": "stdout",
     "output_type": "stream",
     "text": [
      "2025-05-15 14:46:11,873 [WARNING] QObject::setParent: Cannot set parent, new parent is in a different thread\n"
     ]
    },
    {
     "name": "stderr",
     "output_type": "stream",
     "text": [
      "WARNING: QObject::setParent: Cannot set parent, new parent is in a different thread\n"
     ]
    },
    {
     "name": "stdout",
     "output_type": "stream",
     "text": [
      "2025-05-15 14:46:15,129 [WARNING] QObject::setParent: Cannot set parent, new parent is in a different thread\n"
     ]
    },
    {
     "name": "stderr",
     "output_type": "stream",
     "text": [
      "WARNING: QObject::setParent: Cannot set parent, new parent is in a different thread\n"
     ]
    },
    {
     "name": "stdout",
     "output_type": "stream",
     "text": [
      "2025-05-15 14:46:16,311 [WARNING] QObject::setParent: Cannot set parent, new parent is in a different thread\n",
      "Predicting using Micro-sam model\n"
     ]
    },
    {
     "name": "stderr",
     "output_type": "stream",
     "text": [
      "WARNING: QObject::setParent: Cannot set parent, new parent is in a different thread\n"
     ]
    },
    {
     "name": "stdout",
     "output_type": "stream",
     "text": [
      "2025-05-15 14:46:18,458 [WARNING] QObject::setParent: Cannot set parent, new parent is in a different thread\n"
     ]
    },
    {
     "name": "stderr",
     "output_type": "stream",
     "text": [
      "WARNING: QObject::setParent: Cannot set parent, new parent is in a different thread\n"
     ]
    },
    {
     "name": "stdout",
     "output_type": "stream",
     "text": [
      "2025-05-15 14:46:21,672 [WARNING] QObject::setParent: Cannot set parent, new parent is in a different thread\n"
     ]
    },
    {
     "name": "stderr",
     "output_type": "stream",
     "text": [
      "WARNING: QObject::setParent: Cannot set parent, new parent is in a different thread\n"
     ]
    },
    {
     "name": "stdout",
     "output_type": "stream",
     "text": [
      "2025-05-15 14:46:22,824 [WARNING] QObject::setParent: Cannot set parent, new parent is in a different thread\n",
      "Predicting using Micro-sam model\n"
     ]
    },
    {
     "name": "stderr",
     "output_type": "stream",
     "text": [
      "WARNING: QObject::setParent: Cannot set parent, new parent is in a different thread\n"
     ]
    },
    {
     "name": "stdout",
     "output_type": "stream",
     "text": [
      "2025-05-15 14:46:24,958 [WARNING] QObject::setParent: Cannot set parent, new parent is in a different thread\n"
     ]
    },
    {
     "name": "stderr",
     "output_type": "stream",
     "text": [
      "WARNING: QObject::setParent: Cannot set parent, new parent is in a different thread\n"
     ]
    },
    {
     "name": "stdout",
     "output_type": "stream",
     "text": [
      "2025-05-15 14:46:28,148 [WARNING] QObject::setParent: Cannot set parent, new parent is in a different thread\n"
     ]
    },
    {
     "name": "stderr",
     "output_type": "stream",
     "text": [
      "WARNING: QObject::setParent: Cannot set parent, new parent is in a different thread\n"
     ]
    },
    {
     "name": "stdout",
     "output_type": "stream",
     "text": [
      "2025-05-15 14:46:29,351 [WARNING] QObject::setParent: Cannot set parent, new parent is in a different thread\n",
      "Predicting using Micro-sam model\n"
     ]
    },
    {
     "name": "stderr",
     "output_type": "stream",
     "text": [
      "WARNING: QObject::setParent: Cannot set parent, new parent is in a different thread\n"
     ]
    },
    {
     "name": "stdout",
     "output_type": "stream",
     "text": [
      "2025-05-15 14:46:31,518 [WARNING] QObject::setParent: Cannot set parent, new parent is in a different thread\n"
     ]
    },
    {
     "name": "stderr",
     "output_type": "stream",
     "text": [
      "WARNING: QObject::setParent: Cannot set parent, new parent is in a different thread\n"
     ]
    },
    {
     "name": "stdout",
     "output_type": "stream",
     "text": [
      "2025-05-15 14:46:34,715 [WARNING] QObject::setParent: Cannot set parent, new parent is in a different thread\n"
     ]
    },
    {
     "name": "stderr",
     "output_type": "stream",
     "text": [
      "WARNING: QObject::setParent: Cannot set parent, new parent is in a different thread\n"
     ]
    },
    {
     "name": "stdout",
     "output_type": "stream",
     "text": [
      "2025-05-15 14:46:35,894 [WARNING] QObject::setParent: Cannot set parent, new parent is in a different thread\n",
      "Predicting using Micro-sam model\n"
     ]
    },
    {
     "name": "stderr",
     "output_type": "stream",
     "text": [
      "WARNING: QObject::setParent: Cannot set parent, new parent is in a different thread\n"
     ]
    },
    {
     "name": "stdout",
     "output_type": "stream",
     "text": [
      "2025-05-15 14:46:38,077 [WARNING] QObject::setParent: Cannot set parent, new parent is in a different thread\n"
     ]
    },
    {
     "name": "stderr",
     "output_type": "stream",
     "text": [
      "WARNING: QObject::setParent: Cannot set parent, new parent is in a different thread\n"
     ]
    },
    {
     "name": "stdout",
     "output_type": "stream",
     "text": [
      "2025-05-15 14:46:41,346 [WARNING] QObject::setParent: Cannot set parent, new parent is in a different thread\n"
     ]
    },
    {
     "name": "stderr",
     "output_type": "stream",
     "text": [
      "WARNING: QObject::setParent: Cannot set parent, new parent is in a different thread\n"
     ]
    },
    {
     "name": "stdout",
     "output_type": "stream",
     "text": [
      "2025-05-15 14:46:42,499 [WARNING] QObject::setParent: Cannot set parent, new parent is in a different thread\n",
      "Predicting using Micro-sam model\n"
     ]
    },
    {
     "name": "stderr",
     "output_type": "stream",
     "text": [
      "WARNING: QObject::setParent: Cannot set parent, new parent is in a different thread\n"
     ]
    },
    {
     "name": "stdout",
     "output_type": "stream",
     "text": [
      "2025-05-15 14:46:44,674 [WARNING] QObject::setParent: Cannot set parent, new parent is in a different thread\n"
     ]
    },
    {
     "name": "stderr",
     "output_type": "stream",
     "text": [
      "WARNING: QObject::setParent: Cannot set parent, new parent is in a different thread\n"
     ]
    },
    {
     "name": "stdout",
     "output_type": "stream",
     "text": [
      "2025-05-15 14:46:47,899 [WARNING] QObject::setParent: Cannot set parent, new parent is in a different thread\n"
     ]
    },
    {
     "name": "stderr",
     "output_type": "stream",
     "text": [
      "WARNING: QObject::setParent: Cannot set parent, new parent is in a different thread\n"
     ]
    },
    {
     "name": "stdout",
     "output_type": "stream",
     "text": [
      "2025-05-15 14:46:49,142 [WARNING] QObject::setParent: Cannot set parent, new parent is in a different thread\n",
      "Predicting using Micro-sam model\n"
     ]
    },
    {
     "name": "stderr",
     "output_type": "stream",
     "text": [
      "WARNING: QObject::setParent: Cannot set parent, new parent is in a different thread\n"
     ]
    },
    {
     "name": "stdout",
     "output_type": "stream",
     "text": [
      "2025-05-15 14:46:51,329 [WARNING] QObject::setParent: Cannot set parent, new parent is in a different thread\n"
     ]
    },
    {
     "name": "stderr",
     "output_type": "stream",
     "text": [
      "WARNING: QObject::setParent: Cannot set parent, new parent is in a different thread\n"
     ]
    },
    {
     "name": "stdout",
     "output_type": "stream",
     "text": [
      "2025-05-15 14:46:54,571 [WARNING] QObject::setParent: Cannot set parent, new parent is in a different thread\n"
     ]
    },
    {
     "name": "stderr",
     "output_type": "stream",
     "text": [
      "WARNING: QObject::setParent: Cannot set parent, new parent is in a different thread\n"
     ]
    },
    {
     "name": "stdout",
     "output_type": "stream",
     "text": [
      "2025-05-15 14:46:55,741 [WARNING] QObject::setParent: Cannot set parent, new parent is in a different thread\n",
      "Predicting using Micro-sam model\n"
     ]
    },
    {
     "name": "stderr",
     "output_type": "stream",
     "text": [
      "WARNING: QObject::setParent: Cannot set parent, new parent is in a different thread\n"
     ]
    },
    {
     "name": "stdout",
     "output_type": "stream",
     "text": [
      "2025-05-15 14:46:57,965 [WARNING] QObject::setParent: Cannot set parent, new parent is in a different thread\n"
     ]
    },
    {
     "name": "stderr",
     "output_type": "stream",
     "text": [
      "WARNING: QObject::setParent: Cannot set parent, new parent is in a different thread\n"
     ]
    },
    {
     "name": "stdout",
     "output_type": "stream",
     "text": [
      "2025-05-15 14:47:01,266 [WARNING] QObject::setParent: Cannot set parent, new parent is in a different thread\n"
     ]
    },
    {
     "name": "stderr",
     "output_type": "stream",
     "text": [
      "WARNING: QObject::setParent: Cannot set parent, new parent is in a different thread\n"
     ]
    },
    {
     "name": "stdout",
     "output_type": "stream",
     "text": [
      "2025-05-15 14:47:02,412 [WARNING] QObject::setParent: Cannot set parent, new parent is in a different thread\n",
      "Predicting using Micro-sam model\n"
     ]
    },
    {
     "name": "stderr",
     "output_type": "stream",
     "text": [
      "WARNING: QObject::setParent: Cannot set parent, new parent is in a different thread\n"
     ]
    },
    {
     "name": "stdout",
     "output_type": "stream",
     "text": [
      "2025-05-15 14:47:04,553 [WARNING] QObject::setParent: Cannot set parent, new parent is in a different thread\n"
     ]
    },
    {
     "name": "stderr",
     "output_type": "stream",
     "text": [
      "WARNING: QObject::setParent: Cannot set parent, new parent is in a different thread\n"
     ]
    },
    {
     "name": "stdout",
     "output_type": "stream",
     "text": [
      "2025-05-15 14:47:07,742 [WARNING] QObject::setParent: Cannot set parent, new parent is in a different thread\n"
     ]
    },
    {
     "name": "stderr",
     "output_type": "stream",
     "text": [
      "WARNING: QObject::setParent: Cannot set parent, new parent is in a different thread\n"
     ]
    },
    {
     "name": "stdout",
     "output_type": "stream",
     "text": [
      "2025-05-15 14:47:08,888 [WARNING] QObject::setParent: Cannot set parent, new parent is in a different thread\n",
      "Predicting using Micro-sam model\n"
     ]
    },
    {
     "name": "stderr",
     "output_type": "stream",
     "text": [
      "WARNING: QObject::setParent: Cannot set parent, new parent is in a different thread\n"
     ]
    },
    {
     "name": "stdout",
     "output_type": "stream",
     "text": [
      "2025-05-15 14:47:11,050 [WARNING] QObject::setParent: Cannot set parent, new parent is in a different thread\n"
     ]
    },
    {
     "name": "stderr",
     "output_type": "stream",
     "text": [
      "WARNING: QObject::setParent: Cannot set parent, new parent is in a different thread\n"
     ]
    },
    {
     "name": "stdout",
     "output_type": "stream",
     "text": [
      "2025-05-15 14:47:14,282 [WARNING] QObject::setParent: Cannot set parent, new parent is in a different thread\n"
     ]
    },
    {
     "name": "stderr",
     "output_type": "stream",
     "text": [
      "WARNING: QObject::setParent: Cannot set parent, new parent is in a different thread\n"
     ]
    },
    {
     "name": "stdout",
     "output_type": "stream",
     "text": [
      "2025-05-15 14:47:15,458 [WARNING] QObject::setParent: Cannot set parent, new parent is in a different thread\n",
      "Predicting using Micro-sam model\n"
     ]
    },
    {
     "name": "stderr",
     "output_type": "stream",
     "text": [
      "WARNING: QObject::setParent: Cannot set parent, new parent is in a different thread\n"
     ]
    },
    {
     "name": "stdout",
     "output_type": "stream",
     "text": [
      "2025-05-15 14:47:17,658 [WARNING] QObject::setParent: Cannot set parent, new parent is in a different thread\n"
     ]
    },
    {
     "name": "stderr",
     "output_type": "stream",
     "text": [
      "WARNING: QObject::setParent: Cannot set parent, new parent is in a different thread\n"
     ]
    },
    {
     "name": "stdout",
     "output_type": "stream",
     "text": [
      "2025-05-15 14:47:20,861 [WARNING] QObject::setParent: Cannot set parent, new parent is in a different thread\n"
     ]
    },
    {
     "name": "stderr",
     "output_type": "stream",
     "text": [
      "WARNING: QObject::setParent: Cannot set parent, new parent is in a different thread\n"
     ]
    },
    {
     "name": "stdout",
     "output_type": "stream",
     "text": [
      "2025-05-15 14:47:22,000 [WARNING] QObject::setParent: Cannot set parent, new parent is in a different thread\n",
      "Predicting using Micro-sam model\n"
     ]
    },
    {
     "name": "stderr",
     "output_type": "stream",
     "text": [
      "WARNING: QObject::setParent: Cannot set parent, new parent is in a different thread\n"
     ]
    },
    {
     "name": "stdout",
     "output_type": "stream",
     "text": [
      "2025-05-15 14:47:24,166 [WARNING] QObject::setParent: Cannot set parent, new parent is in a different thread\n"
     ]
    },
    {
     "name": "stderr",
     "output_type": "stream",
     "text": [
      "WARNING: QObject::setParent: Cannot set parent, new parent is in a different thread\n"
     ]
    },
    {
     "name": "stdout",
     "output_type": "stream",
     "text": [
      "2025-05-15 14:47:27,481 [WARNING] QObject::setParent: Cannot set parent, new parent is in a different thread\n"
     ]
    },
    {
     "name": "stderr",
     "output_type": "stream",
     "text": [
      "WARNING: QObject::setParent: Cannot set parent, new parent is in a different thread\n"
     ]
    },
    {
     "name": "stdout",
     "output_type": "stream",
     "text": [
      "2025-05-15 14:47:28,610 [WARNING] QObject::setParent: Cannot set parent, new parent is in a different thread\n",
      "Predicting using Micro-sam model\n"
     ]
    },
    {
     "name": "stderr",
     "output_type": "stream",
     "text": [
      "WARNING: QObject::setParent: Cannot set parent, new parent is in a different thread\n"
     ]
    },
    {
     "name": "stdout",
     "output_type": "stream",
     "text": [
      "2025-05-15 14:47:30,751 [WARNING] QObject::setParent: Cannot set parent, new parent is in a different thread\n"
     ]
    },
    {
     "name": "stderr",
     "output_type": "stream",
     "text": [
      "WARNING: QObject::setParent: Cannot set parent, new parent is in a different thread\n"
     ]
    },
    {
     "name": "stdout",
     "output_type": "stream",
     "text": [
      "2025-05-15 14:47:33,956 [WARNING] QObject::setParent: Cannot set parent, new parent is in a different thread\n"
     ]
    },
    {
     "name": "stderr",
     "output_type": "stream",
     "text": [
      "WARNING: QObject::setParent: Cannot set parent, new parent is in a different thread\n"
     ]
    },
    {
     "name": "stdout",
     "output_type": "stream",
     "text": [
      "2025-05-15 14:47:35,093 [WARNING] QObject::setParent: Cannot set parent, new parent is in a different thread\n",
      "Predicting using Micro-sam model\n"
     ]
    },
    {
     "name": "stderr",
     "output_type": "stream",
     "text": [
      "WARNING: QObject::setParent: Cannot set parent, new parent is in a different thread\n"
     ]
    },
    {
     "name": "stdout",
     "output_type": "stream",
     "text": [
      "2025-05-15 14:47:37,286 [WARNING] QObject::setParent: Cannot set parent, new parent is in a different thread\n"
     ]
    },
    {
     "name": "stderr",
     "output_type": "stream",
     "text": [
      "WARNING: QObject::setParent: Cannot set parent, new parent is in a different thread\n"
     ]
    },
    {
     "name": "stdout",
     "output_type": "stream",
     "text": [
      "2025-05-15 14:47:40,639 [WARNING] QObject::setParent: Cannot set parent, new parent is in a different thread\n"
     ]
    },
    {
     "name": "stderr",
     "output_type": "stream",
     "text": [
      "WARNING: QObject::setParent: Cannot set parent, new parent is in a different thread\n"
     ]
    },
    {
     "name": "stdout",
     "output_type": "stream",
     "text": [
      "2025-05-15 14:47:41,780 [WARNING] QObject::setParent: Cannot set parent, new parent is in a different thread\n",
      "Predicting using Micro-sam model\n"
     ]
    },
    {
     "name": "stderr",
     "output_type": "stream",
     "text": [
      "WARNING: QObject::setParent: Cannot set parent, new parent is in a different thread\n"
     ]
    },
    {
     "name": "stdout",
     "output_type": "stream",
     "text": [
      "2025-05-15 14:47:43,920 [WARNING] QObject::setParent: Cannot set parent, new parent is in a different thread\n"
     ]
    },
    {
     "name": "stderr",
     "output_type": "stream",
     "text": [
      "WARNING: QObject::setParent: Cannot set parent, new parent is in a different thread\n"
     ]
    },
    {
     "name": "stdout",
     "output_type": "stream",
     "text": [
      "2025-05-15 14:47:47,148 [WARNING] QObject::setParent: Cannot set parent, new parent is in a different thread\n"
     ]
    },
    {
     "name": "stderr",
     "output_type": "stream",
     "text": [
      "WARNING: QObject::setParent: Cannot set parent, new parent is in a different thread\n"
     ]
    },
    {
     "name": "stdout",
     "output_type": "stream",
     "text": [
      "2025-05-15 14:47:48,293 [WARNING] QObject::setParent: Cannot set parent, new parent is in a different thread\n",
      "Predicting using Micro-sam model\n"
     ]
    },
    {
     "name": "stderr",
     "output_type": "stream",
     "text": [
      "WARNING: QObject::setParent: Cannot set parent, new parent is in a different thread\n"
     ]
    },
    {
     "name": "stdout",
     "output_type": "stream",
     "text": [
      "2025-05-15 14:47:50,450 [WARNING] QObject::setParent: Cannot set parent, new parent is in a different thread\n"
     ]
    },
    {
     "name": "stderr",
     "output_type": "stream",
     "text": [
      "WARNING: QObject::setParent: Cannot set parent, new parent is in a different thread\n"
     ]
    },
    {
     "name": "stdout",
     "output_type": "stream",
     "text": [
      "2025-05-15 14:47:53,695 [WARNING] QObject::setParent: Cannot set parent, new parent is in a different thread\n"
     ]
    },
    {
     "name": "stderr",
     "output_type": "stream",
     "text": [
      "WARNING: QObject::setParent: Cannot set parent, new parent is in a different thread\n"
     ]
    },
    {
     "name": "stdout",
     "output_type": "stream",
     "text": [
      "2025-05-15 14:47:54,827 [WARNING] QObject::setParent: Cannot set parent, new parent is in a different thread\n",
      "Predicting using Micro-sam model\n"
     ]
    },
    {
     "name": "stderr",
     "output_type": "stream",
     "text": [
      "WARNING: QObject::setParent: Cannot set parent, new parent is in a different thread\n"
     ]
    },
    {
     "name": "stdout",
     "output_type": "stream",
     "text": [
      "2025-05-15 14:47:57,988 [WARNING] QObject::setParent: Cannot set parent, new parent is in a different thread\n"
     ]
    },
    {
     "name": "stderr",
     "output_type": "stream",
     "text": [
      "WARNING: QObject::setParent: Cannot set parent, new parent is in a different thread\n"
     ]
    },
    {
     "name": "stdout",
     "output_type": "stream",
     "text": [
      "2025-05-15 14:48:01,254 [WARNING] QObject::setParent: Cannot set parent, new parent is in a different thread\n"
     ]
    },
    {
     "name": "stderr",
     "output_type": "stream",
     "text": [
      "WARNING: QObject::setParent: Cannot set parent, new parent is in a different thread\n"
     ]
    },
    {
     "name": "stdout",
     "output_type": "stream",
     "text": [
      "2025-05-15 14:48:02,377 [WARNING] QObject::setParent: Cannot set parent, new parent is in a different thread\n",
      "Predicting using Micro-sam model\n"
     ]
    },
    {
     "name": "stderr",
     "output_type": "stream",
     "text": [
      "WARNING: QObject::setParent: Cannot set parent, new parent is in a different thread\n"
     ]
    },
    {
     "name": "stdout",
     "output_type": "stream",
     "text": [
      "2025-05-15 14:48:04,596 [WARNING] QObject::setParent: Cannot set parent, new parent is in a different thread\n"
     ]
    },
    {
     "name": "stderr",
     "output_type": "stream",
     "text": [
      "WARNING: QObject::setParent: Cannot set parent, new parent is in a different thread\n"
     ]
    },
    {
     "name": "stdout",
     "output_type": "stream",
     "text": [
      "2025-05-15 14:48:07,848 [WARNING] QObject::setParent: Cannot set parent, new parent is in a different thread\n"
     ]
    },
    {
     "name": "stderr",
     "output_type": "stream",
     "text": [
      "WARNING: QObject::setParent: Cannot set parent, new parent is in a different thread\n"
     ]
    },
    {
     "name": "stdout",
     "output_type": "stream",
     "text": [
      "2025-05-15 14:48:08,984 [WARNING] QObject::setParent: Cannot set parent, new parent is in a different thread\n",
      "Predicting using Micro-sam model\n"
     ]
    },
    {
     "name": "stderr",
     "output_type": "stream",
     "text": [
      "WARNING: QObject::setParent: Cannot set parent, new parent is in a different thread\n"
     ]
    },
    {
     "name": "stdout",
     "output_type": "stream",
     "text": [
      "2025-05-15 14:48:11,193 [WARNING] QObject::setParent: Cannot set parent, new parent is in a different thread\n"
     ]
    },
    {
     "name": "stderr",
     "output_type": "stream",
     "text": [
      "WARNING: QObject::setParent: Cannot set parent, new parent is in a different thread\n"
     ]
    },
    {
     "name": "stdout",
     "output_type": "stream",
     "text": [
      "2025-05-15 14:48:14,381 [WARNING] QObject::setParent: Cannot set parent, new parent is in a different thread\n"
     ]
    },
    {
     "name": "stderr",
     "output_type": "stream",
     "text": [
      "WARNING: QObject::setParent: Cannot set parent, new parent is in a different thread\n"
     ]
    },
    {
     "name": "stdout",
     "output_type": "stream",
     "text": [
      "2025-05-15 14:48:15,509 [WARNING] QObject::setParent: Cannot set parent, new parent is in a different thread\n",
      "Predicting using Micro-sam model\n"
     ]
    },
    {
     "name": "stderr",
     "output_type": "stream",
     "text": [
      "WARNING: QObject::setParent: Cannot set parent, new parent is in a different thread\n"
     ]
    },
    {
     "name": "stdout",
     "output_type": "stream",
     "text": [
      "2025-05-15 14:48:17,730 [WARNING] QObject::setParent: Cannot set parent, new parent is in a different thread\n"
     ]
    },
    {
     "name": "stderr",
     "output_type": "stream",
     "text": [
      "WARNING: QObject::setParent: Cannot set parent, new parent is in a different thread\n"
     ]
    },
    {
     "name": "stdout",
     "output_type": "stream",
     "text": [
      "2025-05-15 14:48:20,908 [WARNING] QObject::setParent: Cannot set parent, new parent is in a different thread\n"
     ]
    },
    {
     "name": "stderr",
     "output_type": "stream",
     "text": [
      "WARNING: QObject::setParent: Cannot set parent, new parent is in a different thread\n"
     ]
    },
    {
     "name": "stdout",
     "output_type": "stream",
     "text": [
      "2025-05-15 14:48:22,047 [WARNING] QObject::setParent: Cannot set parent, new parent is in a different thread\n",
      "Predicting using Micro-sam model\n"
     ]
    },
    {
     "name": "stderr",
     "output_type": "stream",
     "text": [
      "WARNING: QObject::setParent: Cannot set parent, new parent is in a different thread\n"
     ]
    },
    {
     "name": "stdout",
     "output_type": "stream",
     "text": [
      "2025-05-15 14:48:24,235 [WARNING] QObject::setParent: Cannot set parent, new parent is in a different thread\n"
     ]
    },
    {
     "name": "stderr",
     "output_type": "stream",
     "text": [
      "WARNING: QObject::setParent: Cannot set parent, new parent is in a different thread\n"
     ]
    },
    {
     "name": "stdout",
     "output_type": "stream",
     "text": [
      "2025-05-15 14:48:27,428 [WARNING] QObject::setParent: Cannot set parent, new parent is in a different thread\n"
     ]
    },
    {
     "name": "stderr",
     "output_type": "stream",
     "text": [
      "WARNING: QObject::setParent: Cannot set parent, new parent is in a different thread\n"
     ]
    },
    {
     "name": "stdout",
     "output_type": "stream",
     "text": [
      "2025-05-15 14:48:28,579 [WARNING] QObject::setParent: Cannot set parent, new parent is in a different thread\n",
      "Predicting using Micro-sam model\n"
     ]
    },
    {
     "name": "stderr",
     "output_type": "stream",
     "text": [
      "WARNING: QObject::setParent: Cannot set parent, new parent is in a different thread\n"
     ]
    },
    {
     "name": "stdout",
     "output_type": "stream",
     "text": [
      "2025-05-15 14:48:30,764 [WARNING] QObject::setParent: Cannot set parent, new parent is in a different thread\n"
     ]
    },
    {
     "name": "stderr",
     "output_type": "stream",
     "text": [
      "WARNING: QObject::setParent: Cannot set parent, new parent is in a different thread\n"
     ]
    },
    {
     "name": "stdout",
     "output_type": "stream",
     "text": [
      "2025-05-15 14:48:34,079 [WARNING] QObject::setParent: Cannot set parent, new parent is in a different thread\n"
     ]
    },
    {
     "name": "stderr",
     "output_type": "stream",
     "text": [
      "WARNING: QObject::setParent: Cannot set parent, new parent is in a different thread\n"
     ]
    },
    {
     "name": "stdout",
     "output_type": "stream",
     "text": [
      "2025-05-15 14:48:35,208 [WARNING] QObject::setParent: Cannot set parent, new parent is in a different thread\n",
      "Predicting using Micro-sam model\n"
     ]
    },
    {
     "name": "stderr",
     "output_type": "stream",
     "text": [
      "WARNING: QObject::setParent: Cannot set parent, new parent is in a different thread\n"
     ]
    },
    {
     "name": "stdout",
     "output_type": "stream",
     "text": [
      "2025-05-15 14:48:37,464 [WARNING] QObject::setParent: Cannot set parent, new parent is in a different thread\n"
     ]
    },
    {
     "name": "stderr",
     "output_type": "stream",
     "text": [
      "WARNING: QObject::setParent: Cannot set parent, new parent is in a different thread\n"
     ]
    },
    {
     "name": "stdout",
     "output_type": "stream",
     "text": [
      "2025-05-15 14:48:40,673 [WARNING] QObject::setParent: Cannot set parent, new parent is in a different thread\n"
     ]
    },
    {
     "name": "stderr",
     "output_type": "stream",
     "text": [
      "WARNING: QObject::setParent: Cannot set parent, new parent is in a different thread\n"
     ]
    },
    {
     "name": "stdout",
     "output_type": "stream",
     "text": [
      "2025-05-15 14:48:41,828 [WARNING] QObject::setParent: Cannot set parent, new parent is in a different thread\n",
      "Predicting using Micro-sam model\n"
     ]
    },
    {
     "name": "stderr",
     "output_type": "stream",
     "text": [
      "WARNING: QObject::setParent: Cannot set parent, new parent is in a different thread\n"
     ]
    },
    {
     "name": "stdout",
     "output_type": "stream",
     "text": [
      "2025-05-15 14:48:43,982 [WARNING] QObject::setParent: Cannot set parent, new parent is in a different thread\n"
     ]
    },
    {
     "name": "stderr",
     "output_type": "stream",
     "text": [
      "WARNING: QObject::setParent: Cannot set parent, new parent is in a different thread\n"
     ]
    },
    {
     "name": "stdout",
     "output_type": "stream",
     "text": [
      "2025-05-15 14:48:47,285 [WARNING] QObject::setParent: Cannot set parent, new parent is in a different thread\n"
     ]
    },
    {
     "name": "stderr",
     "output_type": "stream",
     "text": [
      "WARNING: QObject::setParent: Cannot set parent, new parent is in a different thread\n"
     ]
    },
    {
     "name": "stdout",
     "output_type": "stream",
     "text": [
      "2025-05-15 14:48:48,414 [WARNING] QObject::setParent: Cannot set parent, new parent is in a different thread\n",
      "Predicting using Micro-sam model\n"
     ]
    },
    {
     "name": "stderr",
     "output_type": "stream",
     "text": [
      "WARNING: QObject::setParent: Cannot set parent, new parent is in a different thread\n"
     ]
    },
    {
     "name": "stdout",
     "output_type": "stream",
     "text": [
      "2025-05-15 14:48:50,564 [WARNING] QObject::setParent: Cannot set parent, new parent is in a different thread\n"
     ]
    },
    {
     "name": "stderr",
     "output_type": "stream",
     "text": [
      "WARNING: QObject::setParent: Cannot set parent, new parent is in a different thread\n"
     ]
    },
    {
     "name": "stdout",
     "output_type": "stream",
     "text": [
      "2025-05-15 14:48:53,913 [WARNING] QObject::setParent: Cannot set parent, new parent is in a different thread\n"
     ]
    },
    {
     "name": "stderr",
     "output_type": "stream",
     "text": [
      "WARNING: QObject::setParent: Cannot set parent, new parent is in a different thread\n"
     ]
    },
    {
     "name": "stdout",
     "output_type": "stream",
     "text": [
      "2025-05-15 14:48:55,058 [WARNING] QObject::setParent: Cannot set parent, new parent is in a different thread\n",
      "Predicting using Micro-sam model\n"
     ]
    },
    {
     "name": "stderr",
     "output_type": "stream",
     "text": [
      "WARNING: QObject::setParent: Cannot set parent, new parent is in a different thread\n"
     ]
    },
    {
     "name": "stdout",
     "output_type": "stream",
     "text": [
      "2025-05-15 14:48:57,228 [WARNING] QObject::setParent: Cannot set parent, new parent is in a different thread\n"
     ]
    },
    {
     "name": "stderr",
     "output_type": "stream",
     "text": [
      "WARNING: QObject::setParent: Cannot set parent, new parent is in a different thread\n"
     ]
    },
    {
     "name": "stdout",
     "output_type": "stream",
     "text": [
      "2025-05-15 14:49:00,449 [WARNING] QObject::setParent: Cannot set parent, new parent is in a different thread\n"
     ]
    },
    {
     "name": "stderr",
     "output_type": "stream",
     "text": [
      "WARNING: QObject::setParent: Cannot set parent, new parent is in a different thread\n"
     ]
    },
    {
     "name": "stdout",
     "output_type": "stream",
     "text": [
      "2025-05-15 14:49:01,602 [WARNING] QObject::setParent: Cannot set parent, new parent is in a different thread\n",
      "Predicting using Micro-sam model\n"
     ]
    },
    {
     "name": "stderr",
     "output_type": "stream",
     "text": [
      "WARNING: QObject::setParent: Cannot set parent, new parent is in a different thread\n"
     ]
    },
    {
     "name": "stdout",
     "output_type": "stream",
     "text": [
      "2025-05-15 14:49:03,793 [WARNING] QObject::setParent: Cannot set parent, new parent is in a different thread\n"
     ]
    },
    {
     "name": "stderr",
     "output_type": "stream",
     "text": [
      "WARNING: QObject::setParent: Cannot set parent, new parent is in a different thread\n"
     ]
    },
    {
     "name": "stdout",
     "output_type": "stream",
     "text": [
      "2025-05-15 14:49:07,059 [WARNING] QObject::setParent: Cannot set parent, new parent is in a different thread\n"
     ]
    },
    {
     "name": "stderr",
     "output_type": "stream",
     "text": [
      "WARNING: QObject::setParent: Cannot set parent, new parent is in a different thread\n"
     ]
    },
    {
     "name": "stdout",
     "output_type": "stream",
     "text": [
      "2025-05-15 14:49:08,208 [WARNING] QObject::setParent: Cannot set parent, new parent is in a different thread\n",
      "Predicting using Micro-sam model\n"
     ]
    },
    {
     "name": "stderr",
     "output_type": "stream",
     "text": [
      "WARNING: QObject::setParent: Cannot set parent, new parent is in a different thread\n"
     ]
    },
    {
     "name": "stdout",
     "output_type": "stream",
     "text": [
      "2025-05-15 14:49:10,420 [WARNING] QObject::setParent: Cannot set parent, new parent is in a different thread\n"
     ]
    },
    {
     "name": "stderr",
     "output_type": "stream",
     "text": [
      "WARNING: QObject::setParent: Cannot set parent, new parent is in a different thread\n"
     ]
    },
    {
     "name": "stdout",
     "output_type": "stream",
     "text": [
      "2025-05-15 14:49:13,679 [WARNING] QObject::setParent: Cannot set parent, new parent is in a different thread\n"
     ]
    },
    {
     "name": "stderr",
     "output_type": "stream",
     "text": [
      "WARNING: QObject::setParent: Cannot set parent, new parent is in a different thread\n"
     ]
    },
    {
     "name": "stdout",
     "output_type": "stream",
     "text": [
      "2025-05-15 14:49:14,826 [WARNING] QObject::setParent: Cannot set parent, new parent is in a different thread\n",
      "Predicting using Micro-sam model\n"
     ]
    },
    {
     "name": "stderr",
     "output_type": "stream",
     "text": [
      "WARNING: QObject::setParent: Cannot set parent, new parent is in a different thread\n"
     ]
    },
    {
     "name": "stdout",
     "output_type": "stream",
     "text": [
      "2025-05-15 14:49:17,087 [WARNING] QObject::setParent: Cannot set parent, new parent is in a different thread\n"
     ]
    },
    {
     "name": "stderr",
     "output_type": "stream",
     "text": [
      "WARNING: QObject::setParent: Cannot set parent, new parent is in a different thread\n"
     ]
    },
    {
     "name": "stdout",
     "output_type": "stream",
     "text": [
      "2025-05-15 14:49:20,273 [WARNING] QObject::setParent: Cannot set parent, new parent is in a different thread\n"
     ]
    },
    {
     "name": "stderr",
     "output_type": "stream",
     "text": [
      "WARNING: QObject::setParent: Cannot set parent, new parent is in a different thread\n"
     ]
    },
    {
     "name": "stdout",
     "output_type": "stream",
     "text": [
      "2025-05-15 14:49:21,450 [WARNING] QObject::setParent: Cannot set parent, new parent is in a different thread\n",
      "Predicting using Micro-sam model\n"
     ]
    },
    {
     "name": "stderr",
     "output_type": "stream",
     "text": [
      "WARNING: QObject::setParent: Cannot set parent, new parent is in a different thread\n"
     ]
    },
    {
     "name": "stdout",
     "output_type": "stream",
     "text": [
      "2025-05-15 14:49:23,665 [WARNING] QObject::setParent: Cannot set parent, new parent is in a different thread\n"
     ]
    },
    {
     "name": "stderr",
     "output_type": "stream",
     "text": [
      "WARNING: QObject::setParent: Cannot set parent, new parent is in a different thread\n"
     ]
    },
    {
     "name": "stdout",
     "output_type": "stream",
     "text": [
      "2025-05-15 14:49:26,937 [WARNING] QObject::setParent: Cannot set parent, new parent is in a different thread\n"
     ]
    },
    {
     "name": "stderr",
     "output_type": "stream",
     "text": [
      "WARNING: QObject::setParent: Cannot set parent, new parent is in a different thread\n"
     ]
    },
    {
     "name": "stdout",
     "output_type": "stream",
     "text": [
      "2025-05-15 14:49:28,110 [WARNING] QObject::setParent: Cannot set parent, new parent is in a different thread\n",
      "Predicting using Micro-sam model\n"
     ]
    },
    {
     "name": "stderr",
     "output_type": "stream",
     "text": [
      "WARNING: QObject::setParent: Cannot set parent, new parent is in a different thread\n"
     ]
    },
    {
     "name": "stdout",
     "output_type": "stream",
     "text": [
      "2025-05-15 14:49:30,293 [WARNING] QObject::setParent: Cannot set parent, new parent is in a different thread\n"
     ]
    },
    {
     "name": "stderr",
     "output_type": "stream",
     "text": [
      "WARNING: QObject::setParent: Cannot set parent, new parent is in a different thread\n"
     ]
    },
    {
     "name": "stdout",
     "output_type": "stream",
     "text": [
      "2025-05-15 14:49:33,492 [WARNING] QObject::setParent: Cannot set parent, new parent is in a different thread\n"
     ]
    },
    {
     "name": "stderr",
     "output_type": "stream",
     "text": [
      "WARNING: QObject::setParent: Cannot set parent, new parent is in a different thread\n"
     ]
    },
    {
     "name": "stdout",
     "output_type": "stream",
     "text": [
      "2025-05-15 14:49:34,651 [WARNING] QObject::setParent: Cannot set parent, new parent is in a different thread\n",
      "Predicting using Micro-sam model\n"
     ]
    },
    {
     "name": "stderr",
     "output_type": "stream",
     "text": [
      "WARNING: QObject::setParent: Cannot set parent, new parent is in a different thread\n"
     ]
    },
    {
     "name": "stdout",
     "output_type": "stream",
     "text": [
      "2025-05-15 14:49:36,923 [WARNING] QObject::setParent: Cannot set parent, new parent is in a different thread\n"
     ]
    },
    {
     "name": "stderr",
     "output_type": "stream",
     "text": [
      "WARNING: QObject::setParent: Cannot set parent, new parent is in a different thread\n"
     ]
    },
    {
     "name": "stdout",
     "output_type": "stream",
     "text": [
      "2025-05-15 14:49:40,449 [WARNING] QObject::setParent: Cannot set parent, new parent is in a different thread\n"
     ]
    },
    {
     "name": "stderr",
     "output_type": "stream",
     "text": [
      "WARNING: QObject::setParent: Cannot set parent, new parent is in a different thread\n"
     ]
    },
    {
     "name": "stdout",
     "output_type": "stream",
     "text": [
      "2025-05-15 14:49:41,653 [WARNING] QObject::setParent: Cannot set parent, new parent is in a different thread\n",
      "Predicting using Micro-sam model\n"
     ]
    },
    {
     "name": "stderr",
     "output_type": "stream",
     "text": [
      "WARNING: QObject::setParent: Cannot set parent, new parent is in a different thread\n"
     ]
    },
    {
     "name": "stdout",
     "output_type": "stream",
     "text": [
      "2025-05-15 14:49:43,959 [WARNING] QObject::setParent: Cannot set parent, new parent is in a different thread\n"
     ]
    },
    {
     "name": "stderr",
     "output_type": "stream",
     "text": [
      "WARNING: QObject::setParent: Cannot set parent, new parent is in a different thread\n"
     ]
    },
    {
     "name": "stdout",
     "output_type": "stream",
     "text": [
      "2025-05-15 14:49:47,237 [WARNING] QObject::setParent: Cannot set parent, new parent is in a different thread\n"
     ]
    },
    {
     "name": "stderr",
     "output_type": "stream",
     "text": [
      "WARNING: QObject::setParent: Cannot set parent, new parent is in a different thread\n"
     ]
    },
    {
     "name": "stdout",
     "output_type": "stream",
     "text": [
      "2025-05-15 14:49:48,379 [WARNING] QObject::setParent: Cannot set parent, new parent is in a different thread\n",
      "Predicting using Micro-sam model\n"
     ]
    },
    {
     "name": "stderr",
     "output_type": "stream",
     "text": [
      "WARNING: QObject::setParent: Cannot set parent, new parent is in a different thread\n"
     ]
    },
    {
     "name": "stdout",
     "output_type": "stream",
     "text": [
      "2025-05-15 14:49:50,571 [WARNING] QObject::setParent: Cannot set parent, new parent is in a different thread\n"
     ]
    },
    {
     "name": "stderr",
     "output_type": "stream",
     "text": [
      "WARNING: QObject::setParent: Cannot set parent, new parent is in a different thread\n"
     ]
    },
    {
     "name": "stdout",
     "output_type": "stream",
     "text": [
      "2025-05-15 14:49:53,902 [WARNING] QObject::setParent: Cannot set parent, new parent is in a different thread\n"
     ]
    },
    {
     "name": "stderr",
     "output_type": "stream",
     "text": [
      "WARNING: QObject::setParent: Cannot set parent, new parent is in a different thread\n"
     ]
    },
    {
     "name": "stdout",
     "output_type": "stream",
     "text": [
      "2025-05-15 14:49:55,077 [WARNING] QObject::setParent: Cannot set parent, new parent is in a different thread\n",
      "Predicting using Micro-sam model\n"
     ]
    },
    {
     "name": "stderr",
     "output_type": "stream",
     "text": [
      "WARNING: QObject::setParent: Cannot set parent, new parent is in a different thread\n"
     ]
    },
    {
     "name": "stdout",
     "output_type": "stream",
     "text": [
      "2025-05-15 14:49:57,301 [WARNING] QObject::setParent: Cannot set parent, new parent is in a different thread\n"
     ]
    },
    {
     "name": "stderr",
     "output_type": "stream",
     "text": [
      "WARNING: QObject::setParent: Cannot set parent, new parent is in a different thread\n"
     ]
    },
    {
     "name": "stdout",
     "output_type": "stream",
     "text": [
      "2025-05-15 14:50:00,604 [WARNING] QObject::setParent: Cannot set parent, new parent is in a different thread\n"
     ]
    },
    {
     "name": "stderr",
     "output_type": "stream",
     "text": [
      "WARNING: QObject::setParent: Cannot set parent, new parent is in a different thread\n"
     ]
    },
    {
     "name": "stdout",
     "output_type": "stream",
     "text": [
      "2025-05-15 14:50:01,784 [WARNING] QObject::setParent: Cannot set parent, new parent is in a different thread\n",
      "Predicting using Micro-sam model\n"
     ]
    },
    {
     "name": "stderr",
     "output_type": "stream",
     "text": [
      "WARNING: QObject::setParent: Cannot set parent, new parent is in a different thread\n"
     ]
    },
    {
     "name": "stdout",
     "output_type": "stream",
     "text": [
      "2025-05-15 14:50:04,066 [WARNING] QObject::setParent: Cannot set parent, new parent is in a different thread\n"
     ]
    },
    {
     "name": "stderr",
     "output_type": "stream",
     "text": [
      "WARNING: QObject::setParent: Cannot set parent, new parent is in a different thread\n"
     ]
    },
    {
     "name": "stdout",
     "output_type": "stream",
     "text": [
      "2025-05-15 14:50:07,377 [WARNING] QObject::setParent: Cannot set parent, new parent is in a different thread\n"
     ]
    },
    {
     "name": "stderr",
     "output_type": "stream",
     "text": [
      "WARNING: QObject::setParent: Cannot set parent, new parent is in a different thread\n"
     ]
    },
    {
     "name": "stdout",
     "output_type": "stream",
     "text": [
      "2025-05-15 14:50:08,631 [WARNING] QObject::setParent: Cannot set parent, new parent is in a different thread\n",
      "Predicting using Micro-sam model\n"
     ]
    },
    {
     "name": "stderr",
     "output_type": "stream",
     "text": [
      "WARNING: QObject::setParent: Cannot set parent, new parent is in a different thread\n"
     ]
    },
    {
     "name": "stdout",
     "output_type": "stream",
     "text": [
      "2025-05-15 14:50:10,804 [WARNING] QObject::setParent: Cannot set parent, new parent is in a different thread\n"
     ]
    },
    {
     "name": "stderr",
     "output_type": "stream",
     "text": [
      "WARNING: QObject::setParent: Cannot set parent, new parent is in a different thread\n"
     ]
    },
    {
     "name": "stdout",
     "output_type": "stream",
     "text": [
      "2025-05-15 14:50:14,093 [WARNING] QObject::setParent: Cannot set parent, new parent is in a different thread\n"
     ]
    },
    {
     "name": "stderr",
     "output_type": "stream",
     "text": [
      "WARNING: QObject::setParent: Cannot set parent, new parent is in a different thread\n"
     ]
    },
    {
     "name": "stdout",
     "output_type": "stream",
     "text": [
      "2025-05-15 14:50:15,310 [WARNING] QObject::setParent: Cannot set parent, new parent is in a different thread\n",
      "Predicting using Micro-sam model\n"
     ]
    },
    {
     "name": "stderr",
     "output_type": "stream",
     "text": [
      "WARNING: QObject::setParent: Cannot set parent, new parent is in a different thread\n"
     ]
    },
    {
     "name": "stdout",
     "output_type": "stream",
     "text": [
      "2025-05-15 14:50:17,605 [WARNING] QObject::setParent: Cannot set parent, new parent is in a different thread\n"
     ]
    },
    {
     "name": "stderr",
     "output_type": "stream",
     "text": [
      "WARNING: QObject::setParent: Cannot set parent, new parent is in a different thread\n"
     ]
    },
    {
     "name": "stdout",
     "output_type": "stream",
     "text": [
      "2025-05-15 14:50:20,864 [WARNING] QObject::setParent: Cannot set parent, new parent is in a different thread\n"
     ]
    },
    {
     "name": "stderr",
     "output_type": "stream",
     "text": [
      "WARNING: QObject::setParent: Cannot set parent, new parent is in a different thread\n"
     ]
    },
    {
     "name": "stdout",
     "output_type": "stream",
     "text": [
      "2025-05-15 14:50:22,073 [WARNING] QObject::setParent: Cannot set parent, new parent is in a different thread\n",
      "Predicting using Micro-sam model\n"
     ]
    },
    {
     "name": "stderr",
     "output_type": "stream",
     "text": [
      "WARNING: QObject::setParent: Cannot set parent, new parent is in a different thread\n"
     ]
    },
    {
     "name": "stdout",
     "output_type": "stream",
     "text": [
      "2025-05-15 14:50:24,236 [WARNING] QObject::setParent: Cannot set parent, new parent is in a different thread\n"
     ]
    },
    {
     "name": "stderr",
     "output_type": "stream",
     "text": [
      "WARNING: QObject::setParent: Cannot set parent, new parent is in a different thread\n"
     ]
    },
    {
     "name": "stdout",
     "output_type": "stream",
     "text": [
      "2025-05-15 14:50:27,521 [WARNING] QObject::setParent: Cannot set parent, new parent is in a different thread\n"
     ]
    },
    {
     "name": "stderr",
     "output_type": "stream",
     "text": [
      "WARNING: QObject::setParent: Cannot set parent, new parent is in a different thread\n"
     ]
    },
    {
     "name": "stdout",
     "output_type": "stream",
     "text": [
      "2025-05-15 14:50:28,693 [WARNING] QObject::setParent: Cannot set parent, new parent is in a different thread\n",
      "Predicting using Micro-sam model\n"
     ]
    },
    {
     "name": "stderr",
     "output_type": "stream",
     "text": [
      "WARNING: QObject::setParent: Cannot set parent, new parent is in a different thread\n"
     ]
    },
    {
     "name": "stdout",
     "output_type": "stream",
     "text": [
      "2025-05-15 14:50:30,895 [WARNING] QObject::setParent: Cannot set parent, new parent is in a different thread\n"
     ]
    },
    {
     "name": "stderr",
     "output_type": "stream",
     "text": [
      "WARNING: QObject::setParent: Cannot set parent, new parent is in a different thread\n"
     ]
    },
    {
     "name": "stdout",
     "output_type": "stream",
     "text": [
      "2025-05-15 14:50:34,132 [WARNING] QObject::setParent: Cannot set parent, new parent is in a different thread\n"
     ]
    },
    {
     "name": "stderr",
     "output_type": "stream",
     "text": [
      "WARNING: QObject::setParent: Cannot set parent, new parent is in a different thread\n"
     ]
    },
    {
     "name": "stdout",
     "output_type": "stream",
     "text": [
      "2025-05-15 14:50:35,293 [WARNING] QObject::setParent: Cannot set parent, new parent is in a different thread\n",
      "Predicting using Micro-sam model\n"
     ]
    },
    {
     "name": "stderr",
     "output_type": "stream",
     "text": [
      "WARNING: QObject::setParent: Cannot set parent, new parent is in a different thread\n"
     ]
    },
    {
     "name": "stdout",
     "output_type": "stream",
     "text": [
      "2025-05-15 14:50:37,508 [WARNING] QObject::setParent: Cannot set parent, new parent is in a different thread\n"
     ]
    },
    {
     "name": "stderr",
     "output_type": "stream",
     "text": [
      "WARNING: QObject::setParent: Cannot set parent, new parent is in a different thread\n"
     ]
    },
    {
     "name": "stdout",
     "output_type": "stream",
     "text": [
      "2025-05-15 14:50:40,850 [WARNING] QObject::setParent: Cannot set parent, new parent is in a different thread\n"
     ]
    },
    {
     "name": "stderr",
     "output_type": "stream",
     "text": [
      "WARNING: QObject::setParent: Cannot set parent, new parent is in a different thread\n"
     ]
    },
    {
     "name": "stdout",
     "output_type": "stream",
     "text": [
      "2025-05-15 14:50:42,012 [WARNING] QObject::setParent: Cannot set parent, new parent is in a different thread\n",
      "Predicting using Micro-sam model\n"
     ]
    },
    {
     "name": "stderr",
     "output_type": "stream",
     "text": [
      "WARNING: QObject::setParent: Cannot set parent, new parent is in a different thread\n"
     ]
    },
    {
     "name": "stdout",
     "output_type": "stream",
     "text": [
      "2025-05-15 14:50:44,215 [WARNING] QObject::setParent: Cannot set parent, new parent is in a different thread\n"
     ]
    },
    {
     "name": "stderr",
     "output_type": "stream",
     "text": [
      "WARNING: QObject::setParent: Cannot set parent, new parent is in a different thread\n"
     ]
    },
    {
     "name": "stdout",
     "output_type": "stream",
     "text": [
      "2025-05-15 14:50:47,480 [WARNING] QObject::setParent: Cannot set parent, new parent is in a different thread\n"
     ]
    },
    {
     "name": "stderr",
     "output_type": "stream",
     "text": [
      "WARNING: QObject::setParent: Cannot set parent, new parent is in a different thread\n"
     ]
    },
    {
     "name": "stdout",
     "output_type": "stream",
     "text": [
      "2025-05-15 14:50:48,626 [WARNING] QObject::setParent: Cannot set parent, new parent is in a different thread\n",
      "Predicting using Micro-sam model\n"
     ]
    },
    {
     "name": "stderr",
     "output_type": "stream",
     "text": [
      "WARNING: QObject::setParent: Cannot set parent, new parent is in a different thread\n"
     ]
    },
    {
     "name": "stdout",
     "output_type": "stream",
     "text": [
      "2025-05-15 14:50:50,851 [WARNING] QObject::setParent: Cannot set parent, new parent is in a different thread\n"
     ]
    },
    {
     "name": "stderr",
     "output_type": "stream",
     "text": [
      "WARNING: QObject::setParent: Cannot set parent, new parent is in a different thread\n"
     ]
    },
    {
     "name": "stdout",
     "output_type": "stream",
     "text": [
      "2025-05-15 14:50:54,073 [WARNING] QObject::setParent: Cannot set parent, new parent is in a different thread\n"
     ]
    },
    {
     "name": "stderr",
     "output_type": "stream",
     "text": [
      "WARNING: QObject::setParent: Cannot set parent, new parent is in a different thread\n"
     ]
    },
    {
     "name": "stdout",
     "output_type": "stream",
     "text": [
      "2025-05-15 14:50:55,233 [WARNING] QObject::setParent: Cannot set parent, new parent is in a different thread\n",
      "Predicting using Micro-sam model\n"
     ]
    },
    {
     "name": "stderr",
     "output_type": "stream",
     "text": [
      "WARNING: QObject::setParent: Cannot set parent, new parent is in a different thread\n"
     ]
    },
    {
     "name": "stdout",
     "output_type": "stream",
     "text": [
      "2025-05-15 14:50:57,464 [WARNING] QObject::setParent: Cannot set parent, new parent is in a different thread\n"
     ]
    },
    {
     "name": "stderr",
     "output_type": "stream",
     "text": [
      "WARNING: QObject::setParent: Cannot set parent, new parent is in a different thread\n"
     ]
    },
    {
     "name": "stdout",
     "output_type": "stream",
     "text": [
      "2025-05-15 14:51:00,679 [WARNING] QObject::setParent: Cannot set parent, new parent is in a different thread\n"
     ]
    },
    {
     "name": "stderr",
     "output_type": "stream",
     "text": [
      "WARNING: QObject::setParent: Cannot set parent, new parent is in a different thread\n"
     ]
    },
    {
     "name": "stdout",
     "output_type": "stream",
     "text": [
      "2025-05-15 14:51:01,871 [WARNING] QObject::setParent: Cannot set parent, new parent is in a different thread\n",
      "Predicting using Micro-sam model\n"
     ]
    },
    {
     "name": "stderr",
     "output_type": "stream",
     "text": [
      "WARNING: QObject::setParent: Cannot set parent, new parent is in a different thread\n"
     ]
    },
    {
     "name": "stdout",
     "output_type": "stream",
     "text": [
      "2025-05-15 14:51:04,100 [WARNING] QObject::setParent: Cannot set parent, new parent is in a different thread\n"
     ]
    },
    {
     "name": "stderr",
     "output_type": "stream",
     "text": [
      "WARNING: QObject::setParent: Cannot set parent, new parent is in a different thread\n"
     ]
    },
    {
     "name": "stdout",
     "output_type": "stream",
     "text": [
      "2025-05-15 14:51:07,547 [WARNING] QObject::setParent: Cannot set parent, new parent is in a different thread\n"
     ]
    },
    {
     "name": "stderr",
     "output_type": "stream",
     "text": [
      "WARNING: QObject::setParent: Cannot set parent, new parent is in a different thread\n"
     ]
    },
    {
     "name": "stdout",
     "output_type": "stream",
     "text": [
      "2025-05-15 14:51:08,724 [WARNING] QObject::setParent: Cannot set parent, new parent is in a different thread\n",
      "Predicting using Micro-sam model\n"
     ]
    },
    {
     "name": "stderr",
     "output_type": "stream",
     "text": [
      "WARNING: QObject::setParent: Cannot set parent, new parent is in a different thread\n"
     ]
    },
    {
     "name": "stdout",
     "output_type": "stream",
     "text": [
      "2025-05-15 14:51:10,941 [WARNING] QObject::setParent: Cannot set parent, new parent is in a different thread\n"
     ]
    },
    {
     "name": "stderr",
     "output_type": "stream",
     "text": [
      "WARNING: QObject::setParent: Cannot set parent, new parent is in a different thread\n"
     ]
    },
    {
     "name": "stdout",
     "output_type": "stream",
     "text": [
      "2025-05-15 14:51:14,234 [WARNING] QObject::setParent: Cannot set parent, new parent is in a different thread\n"
     ]
    },
    {
     "name": "stderr",
     "output_type": "stream",
     "text": [
      "WARNING: QObject::setParent: Cannot set parent, new parent is in a different thread\n"
     ]
    },
    {
     "name": "stdout",
     "output_type": "stream",
     "text": [
      "2025-05-15 14:51:15,378 [WARNING] QObject::setParent: Cannot set parent, new parent is in a different thread\n",
      "Predicting using Micro-sam model\n"
     ]
    },
    {
     "name": "stderr",
     "output_type": "stream",
     "text": [
      "WARNING: QObject::setParent: Cannot set parent, new parent is in a different thread\n"
     ]
    },
    {
     "name": "stdout",
     "output_type": "stream",
     "text": [
      "2025-05-15 14:51:17,541 [WARNING] QObject::setParent: Cannot set parent, new parent is in a different thread\n"
     ]
    },
    {
     "name": "stderr",
     "output_type": "stream",
     "text": [
      "WARNING: QObject::setParent: Cannot set parent, new parent is in a different thread\n"
     ]
    },
    {
     "name": "stdout",
     "output_type": "stream",
     "text": [
      "2025-05-15 14:51:20,972 [WARNING] QObject::setParent: Cannot set parent, new parent is in a different thread\n"
     ]
    },
    {
     "name": "stderr",
     "output_type": "stream",
     "text": [
      "WARNING: QObject::setParent: Cannot set parent, new parent is in a different thread\n"
     ]
    },
    {
     "name": "stdout",
     "output_type": "stream",
     "text": [
      "2025-05-15 14:51:22,143 [WARNING] QObject::setParent: Cannot set parent, new parent is in a different thread\n",
      "Predicting using Micro-sam model\n"
     ]
    },
    {
     "name": "stderr",
     "output_type": "stream",
     "text": [
      "WARNING: QObject::setParent: Cannot set parent, new parent is in a different thread\n"
     ]
    },
    {
     "name": "stdout",
     "output_type": "stream",
     "text": [
      "2025-05-15 14:51:24,353 [WARNING] QObject::setParent: Cannot set parent, new parent is in a different thread\n"
     ]
    },
    {
     "name": "stderr",
     "output_type": "stream",
     "text": [
      "WARNING: QObject::setParent: Cannot set parent, new parent is in a different thread\n"
     ]
    },
    {
     "name": "stdout",
     "output_type": "stream",
     "text": [
      "2025-05-15 14:51:27,614 [WARNING] QObject::setParent: Cannot set parent, new parent is in a different thread\n"
     ]
    },
    {
     "name": "stderr",
     "output_type": "stream",
     "text": [
      "WARNING: QObject::setParent: Cannot set parent, new parent is in a different thread\n"
     ]
    },
    {
     "name": "stdout",
     "output_type": "stream",
     "text": [
      "2025-05-15 14:51:28,784 [WARNING] QObject::setParent: Cannot set parent, new parent is in a different thread\n",
      "Predicting using Micro-sam model\n"
     ]
    },
    {
     "name": "stderr",
     "output_type": "stream",
     "text": [
      "WARNING: QObject::setParent: Cannot set parent, new parent is in a different thread\n"
     ]
    },
    {
     "name": "stdout",
     "output_type": "stream",
     "text": [
      "2025-05-15 14:51:31,040 [WARNING] QObject::setParent: Cannot set parent, new parent is in a different thread\n"
     ]
    },
    {
     "name": "stderr",
     "output_type": "stream",
     "text": [
      "WARNING: QObject::setParent: Cannot set parent, new parent is in a different thread\n"
     ]
    },
    {
     "name": "stdout",
     "output_type": "stream",
     "text": [
      "2025-05-15 14:51:34,341 [WARNING] QObject::setParent: Cannot set parent, new parent is in a different thread\n"
     ]
    },
    {
     "name": "stderr",
     "output_type": "stream",
     "text": [
      "WARNING: QObject::setParent: Cannot set parent, new parent is in a different thread\n"
     ]
    },
    {
     "name": "stdout",
     "output_type": "stream",
     "text": [
      "2025-05-15 14:51:35,509 [WARNING] QObject::setParent: Cannot set parent, new parent is in a different thread\n",
      "Predicting using Micro-sam model\n"
     ]
    },
    {
     "name": "stderr",
     "output_type": "stream",
     "text": [
      "WARNING: QObject::setParent: Cannot set parent, new parent is in a different thread\n"
     ]
    },
    {
     "name": "stdout",
     "output_type": "stream",
     "text": [
      "2025-05-15 14:51:37,719 [WARNING] QObject::setParent: Cannot set parent, new parent is in a different thread\n"
     ]
    },
    {
     "name": "stderr",
     "output_type": "stream",
     "text": [
      "WARNING: QObject::setParent: Cannot set parent, new parent is in a different thread\n"
     ]
    },
    {
     "name": "stdout",
     "output_type": "stream",
     "text": [
      "2025-05-15 14:51:41,010 [WARNING] QObject::setParent: Cannot set parent, new parent is in a different thread\n"
     ]
    },
    {
     "name": "stderr",
     "output_type": "stream",
     "text": [
      "WARNING: QObject::setParent: Cannot set parent, new parent is in a different thread\n"
     ]
    },
    {
     "name": "stdout",
     "output_type": "stream",
     "text": [
      "2025-05-15 14:51:42,210 [WARNING] QObject::setParent: Cannot set parent, new parent is in a different thread\n",
      "Predicting using Micro-sam model\n"
     ]
    },
    {
     "name": "stderr",
     "output_type": "stream",
     "text": [
      "WARNING: QObject::setParent: Cannot set parent, new parent is in a different thread\n"
     ]
    },
    {
     "name": "stdout",
     "output_type": "stream",
     "text": [
      "2025-05-15 14:51:44,560 [WARNING] QObject::setParent: Cannot set parent, new parent is in a different thread\n"
     ]
    },
    {
     "name": "stderr",
     "output_type": "stream",
     "text": [
      "WARNING: QObject::setParent: Cannot set parent, new parent is in a different thread\n"
     ]
    },
    {
     "name": "stdout",
     "output_type": "stream",
     "text": [
      "2025-05-15 14:51:47,902 [WARNING] QObject::setParent: Cannot set parent, new parent is in a different thread\n"
     ]
    },
    {
     "name": "stderr",
     "output_type": "stream",
     "text": [
      "WARNING: QObject::setParent: Cannot set parent, new parent is in a different thread\n"
     ]
    },
    {
     "name": "stdout",
     "output_type": "stream",
     "text": [
      "2025-05-15 14:51:49,052 [WARNING] QObject::setParent: Cannot set parent, new parent is in a different thread\n",
      "Predicting using Micro-sam model\n"
     ]
    },
    {
     "name": "stderr",
     "output_type": "stream",
     "text": [
      "WARNING: QObject::setParent: Cannot set parent, new parent is in a different thread\n"
     ]
    },
    {
     "name": "stdout",
     "output_type": "stream",
     "text": [
      "2025-05-15 14:51:52,234 [WARNING] QObject::setParent: Cannot set parent, new parent is in a different thread\n"
     ]
    },
    {
     "name": "stderr",
     "output_type": "stream",
     "text": [
      "WARNING: QObject::setParent: Cannot set parent, new parent is in a different thread\n"
     ]
    },
    {
     "name": "stdout",
     "output_type": "stream",
     "text": [
      "2025-05-15 14:51:55,598 [WARNING] QObject::setParent: Cannot set parent, new parent is in a different thread\n"
     ]
    },
    {
     "name": "stderr",
     "output_type": "stream",
     "text": [
      "WARNING: QObject::setParent: Cannot set parent, new parent is in a different thread\n"
     ]
    },
    {
     "name": "stdout",
     "output_type": "stream",
     "text": [
      "2025-05-15 14:51:56,783 [WARNING] QObject::setParent: Cannot set parent, new parent is in a different thread\n",
      "Predicting using Micro-sam model\n"
     ]
    },
    {
     "name": "stderr",
     "output_type": "stream",
     "text": [
      "WARNING: QObject::setParent: Cannot set parent, new parent is in a different thread\n"
     ]
    },
    {
     "name": "stdout",
     "output_type": "stream",
     "text": [
      "2025-05-15 14:51:59,089 [WARNING] QObject::setParent: Cannot set parent, new parent is in a different thread\n"
     ]
    },
    {
     "name": "stderr",
     "output_type": "stream",
     "text": [
      "WARNING: QObject::setParent: Cannot set parent, new parent is in a different thread\n"
     ]
    },
    {
     "name": "stdout",
     "output_type": "stream",
     "text": [
      "2025-05-15 14:52:02,446 [WARNING] QObject::setParent: Cannot set parent, new parent is in a different thread\n"
     ]
    },
    {
     "name": "stderr",
     "output_type": "stream",
     "text": [
      "WARNING: QObject::setParent: Cannot set parent, new parent is in a different thread\n"
     ]
    },
    {
     "name": "stdout",
     "output_type": "stream",
     "text": [
      "2025-05-15 14:52:03,627 [WARNING] QObject::setParent: Cannot set parent, new parent is in a different thread\n",
      "Predicting using Micro-sam model\n"
     ]
    },
    {
     "name": "stderr",
     "output_type": "stream",
     "text": [
      "WARNING: QObject::setParent: Cannot set parent, new parent is in a different thread\n"
     ]
    },
    {
     "name": "stdout",
     "output_type": "stream",
     "text": [
      "2025-05-15 14:52:05,926 [WARNING] QObject::setParent: Cannot set parent, new parent is in a different thread\n"
     ]
    },
    {
     "name": "stderr",
     "output_type": "stream",
     "text": [
      "WARNING: QObject::setParent: Cannot set parent, new parent is in a different thread\n"
     ]
    },
    {
     "name": "stdout",
     "output_type": "stream",
     "text": [
      "2025-05-15 14:52:09,340 [WARNING] QObject::setParent: Cannot set parent, new parent is in a different thread\n"
     ]
    },
    {
     "name": "stderr",
     "output_type": "stream",
     "text": [
      "WARNING: QObject::setParent: Cannot set parent, new parent is in a different thread\n"
     ]
    },
    {
     "name": "stdout",
     "output_type": "stream",
     "text": [
      "2025-05-15 14:52:10,597 [WARNING] QObject::setParent: Cannot set parent, new parent is in a different thread\n",
      "Predicting using Micro-sam model\n"
     ]
    },
    {
     "name": "stderr",
     "output_type": "stream",
     "text": [
      "WARNING: QObject::setParent: Cannot set parent, new parent is in a different thread\n"
     ]
    },
    {
     "name": "stdout",
     "output_type": "stream",
     "text": [
      "2025-05-15 14:52:12,997 [WARNING] QObject::setParent: Cannot set parent, new parent is in a different thread\n"
     ]
    },
    {
     "name": "stderr",
     "output_type": "stream",
     "text": [
      "WARNING: QObject::setParent: Cannot set parent, new parent is in a different thread\n"
     ]
    },
    {
     "name": "stdout",
     "output_type": "stream",
     "text": [
      "2025-05-15 14:52:16,294 [WARNING] QObject::setParent: Cannot set parent, new parent is in a different thread\n"
     ]
    },
    {
     "name": "stderr",
     "output_type": "stream",
     "text": [
      "WARNING: QObject::setParent: Cannot set parent, new parent is in a different thread\n"
     ]
    },
    {
     "name": "stdout",
     "output_type": "stream",
     "text": [
      "2025-05-15 14:52:17,511 [WARNING] QObject::setParent: Cannot set parent, new parent is in a different thread\n",
      "Predicting using Micro-sam model\n"
     ]
    },
    {
     "name": "stderr",
     "output_type": "stream",
     "text": [
      "WARNING: QObject::setParent: Cannot set parent, new parent is in a different thread\n"
     ]
    },
    {
     "name": "stdout",
     "output_type": "stream",
     "text": [
      "2025-05-15 14:52:19,733 [WARNING] QObject::setParent: Cannot set parent, new parent is in a different thread\n"
     ]
    },
    {
     "name": "stderr",
     "output_type": "stream",
     "text": [
      "WARNING: QObject::setParent: Cannot set parent, new parent is in a different thread\n"
     ]
    },
    {
     "name": "stdout",
     "output_type": "stream",
     "text": [
      "2025-05-15 14:52:22,999 [WARNING] QObject::setParent: Cannot set parent, new parent is in a different thread\n"
     ]
    },
    {
     "name": "stderr",
     "output_type": "stream",
     "text": [
      "WARNING: QObject::setParent: Cannot set parent, new parent is in a different thread\n"
     ]
    },
    {
     "name": "stdout",
     "output_type": "stream",
     "text": [
      "2025-05-15 14:52:24,193 [WARNING] QObject::setParent: Cannot set parent, new parent is in a different thread\n",
      "Predicting using Micro-sam model\n"
     ]
    },
    {
     "name": "stderr",
     "output_type": "stream",
     "text": [
      "WARNING: QObject::setParent: Cannot set parent, new parent is in a different thread\n"
     ]
    },
    {
     "name": "stdout",
     "output_type": "stream",
     "text": [
      "2025-05-15 14:52:26,483 [WARNING] QObject::setParent: Cannot set parent, new parent is in a different thread\n"
     ]
    },
    {
     "name": "stderr",
     "output_type": "stream",
     "text": [
      "WARNING: QObject::setParent: Cannot set parent, new parent is in a different thread\n"
     ]
    },
    {
     "name": "stdout",
     "output_type": "stream",
     "text": [
      "2025-05-15 14:52:29,948 [WARNING] QObject::setParent: Cannot set parent, new parent is in a different thread\n"
     ]
    },
    {
     "name": "stderr",
     "output_type": "stream",
     "text": [
      "WARNING: QObject::setParent: Cannot set parent, new parent is in a different thread\n"
     ]
    },
    {
     "name": "stdout",
     "output_type": "stream",
     "text": [
      "2025-05-15 14:52:31,102 [WARNING] QObject::setParent: Cannot set parent, new parent is in a different thread\n",
      "Predicting using Micro-sam model\n"
     ]
    },
    {
     "name": "stderr",
     "output_type": "stream",
     "text": [
      "WARNING: QObject::setParent: Cannot set parent, new parent is in a different thread\n"
     ]
    },
    {
     "name": "stdout",
     "output_type": "stream",
     "text": [
      "2025-05-15 14:52:33,278 [WARNING] QObject::setParent: Cannot set parent, new parent is in a different thread\n"
     ]
    },
    {
     "name": "stderr",
     "output_type": "stream",
     "text": [
      "WARNING: QObject::setParent: Cannot set parent, new parent is in a different thread\n"
     ]
    },
    {
     "name": "stdout",
     "output_type": "stream",
     "text": [
      "2025-05-15 14:52:36,550 [WARNING] QObject::setParent: Cannot set parent, new parent is in a different thread\n"
     ]
    },
    {
     "name": "stderr",
     "output_type": "stream",
     "text": [
      "WARNING: QObject::setParent: Cannot set parent, new parent is in a different thread\n"
     ]
    },
    {
     "name": "stdout",
     "output_type": "stream",
     "text": [
      "2025-05-15 14:52:37,745 [WARNING] QObject::setParent: Cannot set parent, new parent is in a different thread\n",
      "Predicting using Micro-sam model\n"
     ]
    },
    {
     "name": "stderr",
     "output_type": "stream",
     "text": [
      "WARNING: QObject::setParent: Cannot set parent, new parent is in a different thread\n"
     ]
    },
    {
     "name": "stdout",
     "output_type": "stream",
     "text": [
      "2025-05-15 14:52:39,996 [WARNING] QObject::setParent: Cannot set parent, new parent is in a different thread\n"
     ]
    },
    {
     "name": "stderr",
     "output_type": "stream",
     "text": [
      "WARNING: QObject::setParent: Cannot set parent, new parent is in a different thread\n"
     ]
    },
    {
     "name": "stdout",
     "output_type": "stream",
     "text": [
      "2025-05-15 14:52:43,419 [WARNING] QObject::setParent: Cannot set parent, new parent is in a different thread\n"
     ]
    },
    {
     "name": "stderr",
     "output_type": "stream",
     "text": [
      "WARNING: QObject::setParent: Cannot set parent, new parent is in a different thread\n"
     ]
    },
    {
     "name": "stdout",
     "output_type": "stream",
     "text": [
      "2025-05-15 14:52:44,586 [WARNING] QObject::setParent: Cannot set parent, new parent is in a different thread\n",
      "Predicting using Micro-sam model\n"
     ]
    },
    {
     "name": "stderr",
     "output_type": "stream",
     "text": [
      "WARNING: QObject::setParent: Cannot set parent, new parent is in a different thread\n"
     ]
    },
    {
     "name": "stdout",
     "output_type": "stream",
     "text": [
      "2025-05-15 14:52:46,897 [WARNING] QObject::setParent: Cannot set parent, new parent is in a different thread\n"
     ]
    },
    {
     "name": "stderr",
     "output_type": "stream",
     "text": [
      "WARNING: QObject::setParent: Cannot set parent, new parent is in a different thread\n"
     ]
    },
    {
     "name": "stdout",
     "output_type": "stream",
     "text": [
      "2025-05-15 14:52:50,223 [WARNING] QObject::setParent: Cannot set parent, new parent is in a different thread\n"
     ]
    },
    {
     "name": "stderr",
     "output_type": "stream",
     "text": [
      "WARNING: QObject::setParent: Cannot set parent, new parent is in a different thread\n"
     ]
    },
    {
     "name": "stdout",
     "output_type": "stream",
     "text": [
      "2025-05-15 14:52:51,349 [WARNING] QObject::setParent: Cannot set parent, new parent is in a different thread\n",
      "Predicting using Micro-sam model\n"
     ]
    },
    {
     "name": "stderr",
     "output_type": "stream",
     "text": [
      "WARNING: QObject::setParent: Cannot set parent, new parent is in a different thread\n"
     ]
    },
    {
     "name": "stdout",
     "output_type": "stream",
     "text": [
      "2025-05-15 14:52:53,554 [WARNING] QObject::setParent: Cannot set parent, new parent is in a different thread\n"
     ]
    },
    {
     "name": "stderr",
     "output_type": "stream",
     "text": [
      "WARNING: QObject::setParent: Cannot set parent, new parent is in a different thread\n"
     ]
    },
    {
     "name": "stdout",
     "output_type": "stream",
     "text": [
      "2025-05-15 14:52:56,936 [WARNING] QObject::setParent: Cannot set parent, new parent is in a different thread\n"
     ]
    },
    {
     "name": "stderr",
     "output_type": "stream",
     "text": [
      "WARNING: QObject::setParent: Cannot set parent, new parent is in a different thread\n"
     ]
    },
    {
     "name": "stdout",
     "output_type": "stream",
     "text": [
      "2025-05-15 14:52:58,138 [WARNING] QObject::setParent: Cannot set parent, new parent is in a different thread\n",
      "Predicting using Micro-sam model\n"
     ]
    },
    {
     "name": "stderr",
     "output_type": "stream",
     "text": [
      "WARNING: QObject::setParent: Cannot set parent, new parent is in a different thread\n"
     ]
    },
    {
     "name": "stdout",
     "output_type": "stream",
     "text": [
      "2025-05-15 14:53:00,432 [WARNING] QObject::setParent: Cannot set parent, new parent is in a different thread\n"
     ]
    },
    {
     "name": "stderr",
     "output_type": "stream",
     "text": [
      "WARNING: QObject::setParent: Cannot set parent, new parent is in a different thread\n"
     ]
    },
    {
     "name": "stdout",
     "output_type": "stream",
     "text": [
      "2025-05-15 14:53:03,872 [WARNING] QObject::setParent: Cannot set parent, new parent is in a different thread\n"
     ]
    },
    {
     "name": "stderr",
     "output_type": "stream",
     "text": [
      "WARNING: QObject::setParent: Cannot set parent, new parent is in a different thread\n"
     ]
    },
    {
     "name": "stdout",
     "output_type": "stream",
     "text": [
      "2025-05-15 14:53:05,141 [WARNING] QObject::setParent: Cannot set parent, new parent is in a different thread\n",
      "Predicting using Micro-sam model\n"
     ]
    },
    {
     "name": "stderr",
     "output_type": "stream",
     "text": [
      "WARNING: QObject::setParent: Cannot set parent, new parent is in a different thread\n"
     ]
    },
    {
     "name": "stdout",
     "output_type": "stream",
     "text": [
      "2025-05-15 14:53:07,370 [WARNING] QObject::setParent: Cannot set parent, new parent is in a different thread\n"
     ]
    },
    {
     "name": "stderr",
     "output_type": "stream",
     "text": [
      "WARNING: QObject::setParent: Cannot set parent, new parent is in a different thread\n"
     ]
    },
    {
     "name": "stdout",
     "output_type": "stream",
     "text": [
      "2025-05-15 14:53:10,754 [WARNING] QObject::setParent: Cannot set parent, new parent is in a different thread\n"
     ]
    },
    {
     "name": "stderr",
     "output_type": "stream",
     "text": [
      "WARNING: QObject::setParent: Cannot set parent, new parent is in a different thread\n"
     ]
    },
    {
     "name": "stdout",
     "output_type": "stream",
     "text": [
      "2025-05-15 14:53:11,954 [WARNING] QObject::setParent: Cannot set parent, new parent is in a different thread\n",
      "Predicting using Micro-sam model\n"
     ]
    },
    {
     "name": "stderr",
     "output_type": "stream",
     "text": [
      "WARNING: QObject::setParent: Cannot set parent, new parent is in a different thread\n"
     ]
    },
    {
     "name": "stdout",
     "output_type": "stream",
     "text": [
      "2025-05-15 14:53:14,258 [WARNING] QObject::setParent: Cannot set parent, new parent is in a different thread\n"
     ]
    },
    {
     "name": "stderr",
     "output_type": "stream",
     "text": [
      "WARNING: QObject::setParent: Cannot set parent, new parent is in a different thread\n"
     ]
    },
    {
     "name": "stdout",
     "output_type": "stream",
     "text": [
      "2025-05-15 14:53:17,802 [WARNING] QObject::setParent: Cannot set parent, new parent is in a different thread\n"
     ]
    },
    {
     "name": "stderr",
     "output_type": "stream",
     "text": [
      "WARNING: QObject::setParent: Cannot set parent, new parent is in a different thread\n"
     ]
    },
    {
     "name": "stdout",
     "output_type": "stream",
     "text": [
      "2025-05-15 14:53:19,033 [WARNING] QObject::setParent: Cannot set parent, new parent is in a different thread\n",
      "Predicting using Micro-sam model\n"
     ]
    },
    {
     "name": "stderr",
     "output_type": "stream",
     "text": [
      "WARNING: QObject::setParent: Cannot set parent, new parent is in a different thread\n"
     ]
    },
    {
     "name": "stdout",
     "output_type": "stream",
     "text": [
      "2025-05-15 14:53:21,364 [WARNING] QObject::setParent: Cannot set parent, new parent is in a different thread\n"
     ]
    },
    {
     "name": "stderr",
     "output_type": "stream",
     "text": [
      "WARNING: QObject::setParent: Cannot set parent, new parent is in a different thread\n"
     ]
    },
    {
     "name": "stdout",
     "output_type": "stream",
     "text": [
      "2025-05-15 14:53:24,797 [WARNING] QObject::setParent: Cannot set parent, new parent is in a different thread\n"
     ]
    },
    {
     "name": "stderr",
     "output_type": "stream",
     "text": [
      "WARNING: QObject::setParent: Cannot set parent, new parent is in a different thread\n"
     ]
    },
    {
     "name": "stdout",
     "output_type": "stream",
     "text": [
      "2025-05-15 14:53:26,022 [WARNING] QObject::setParent: Cannot set parent, new parent is in a different thread\n",
      "Predicting using Micro-sam model\n"
     ]
    },
    {
     "name": "stderr",
     "output_type": "stream",
     "text": [
      "WARNING: QObject::setParent: Cannot set parent, new parent is in a different thread\n"
     ]
    },
    {
     "name": "stdout",
     "output_type": "stream",
     "text": [
      "2025-05-15 14:53:28,368 [WARNING] QObject::setParent: Cannot set parent, new parent is in a different thread\n"
     ]
    },
    {
     "name": "stderr",
     "output_type": "stream",
     "text": [
      "WARNING: QObject::setParent: Cannot set parent, new parent is in a different thread\n"
     ]
    },
    {
     "name": "stdout",
     "output_type": "stream",
     "text": [
      "2025-05-15 14:53:31,763 [WARNING] QObject::setParent: Cannot set parent, new parent is in a different thread\n"
     ]
    },
    {
     "name": "stderr",
     "output_type": "stream",
     "text": [
      "WARNING: QObject::setParent: Cannot set parent, new parent is in a different thread\n"
     ]
    },
    {
     "name": "stdout",
     "output_type": "stream",
     "text": [
      "2025-05-15 14:53:32,948 [WARNING] QObject::setParent: Cannot set parent, new parent is in a different thread\n",
      "Predicting using Micro-sam model\n"
     ]
    },
    {
     "name": "stderr",
     "output_type": "stream",
     "text": [
      "WARNING: QObject::setParent: Cannot set parent, new parent is in a different thread\n"
     ]
    },
    {
     "name": "stdout",
     "output_type": "stream",
     "text": [
      "2025-05-15 14:53:35,221 [WARNING] QObject::setParent: Cannot set parent, new parent is in a different thread\n"
     ]
    },
    {
     "name": "stderr",
     "output_type": "stream",
     "text": [
      "WARNING: QObject::setParent: Cannot set parent, new parent is in a different thread\n"
     ]
    },
    {
     "name": "stdout",
     "output_type": "stream",
     "text": [
      "2025-05-15 14:53:38,681 [WARNING] QObject::setParent: Cannot set parent, new parent is in a different thread\n"
     ]
    },
    {
     "name": "stderr",
     "output_type": "stream",
     "text": [
      "WARNING: QObject::setParent: Cannot set parent, new parent is in a different thread\n"
     ]
    },
    {
     "name": "stdout",
     "output_type": "stream",
     "text": [
      "2025-05-15 14:53:39,840 [WARNING] QObject::setParent: Cannot set parent, new parent is in a different thread\n",
      "Predicting using Micro-sam model\n"
     ]
    },
    {
     "name": "stderr",
     "output_type": "stream",
     "text": [
      "WARNING: QObject::setParent: Cannot set parent, new parent is in a different thread\n"
     ]
    },
    {
     "name": "stdout",
     "output_type": "stream",
     "text": [
      "2025-05-15 14:53:42,011 [WARNING] QObject::setParent: Cannot set parent, new parent is in a different thread\n"
     ]
    },
    {
     "name": "stderr",
     "output_type": "stream",
     "text": [
      "WARNING: QObject::setParent: Cannot set parent, new parent is in a different thread\n"
     ]
    },
    {
     "name": "stdout",
     "output_type": "stream",
     "text": [
      "2025-05-15 14:53:45,277 [WARNING] QObject::setParent: Cannot set parent, new parent is in a different thread\n"
     ]
    },
    {
     "name": "stderr",
     "output_type": "stream",
     "text": [
      "WARNING: QObject::setParent: Cannot set parent, new parent is in a different thread\n"
     ]
    },
    {
     "name": "stdout",
     "output_type": "stream",
     "text": [
      "2025-05-15 14:53:46,413 [WARNING] QObject::setParent: Cannot set parent, new parent is in a different thread\n",
      "Predicting using Micro-sam model\n"
     ]
    },
    {
     "name": "stderr",
     "output_type": "stream",
     "text": [
      "WARNING: QObject::setParent: Cannot set parent, new parent is in a different thread\n"
     ]
    },
    {
     "name": "stdout",
     "output_type": "stream",
     "text": [
      "2025-05-15 14:53:48,655 [WARNING] QObject::setParent: Cannot set parent, new parent is in a different thread\n"
     ]
    },
    {
     "name": "stderr",
     "output_type": "stream",
     "text": [
      "WARNING: QObject::setParent: Cannot set parent, new parent is in a different thread\n"
     ]
    },
    {
     "name": "stdout",
     "output_type": "stream",
     "text": [
      "2025-05-15 14:53:52,009 [WARNING] QObject::setParent: Cannot set parent, new parent is in a different thread\n"
     ]
    },
    {
     "name": "stderr",
     "output_type": "stream",
     "text": [
      "WARNING: QObject::setParent: Cannot set parent, new parent is in a different thread\n"
     ]
    },
    {
     "name": "stdout",
     "output_type": "stream",
     "text": [
      "2025-05-15 14:53:53,200 [WARNING] QObject::setParent: Cannot set parent, new parent is in a different thread\n",
      "Predicting using Micro-sam model\n"
     ]
    },
    {
     "name": "stderr",
     "output_type": "stream",
     "text": [
      "WARNING: QObject::setParent: Cannot set parent, new parent is in a different thread\n"
     ]
    },
    {
     "name": "stdout",
     "output_type": "stream",
     "text": [
      "2025-05-15 14:53:55,521 [WARNING] QObject::setParent: Cannot set parent, new parent is in a different thread\n"
     ]
    },
    {
     "name": "stderr",
     "output_type": "stream",
     "text": [
      "WARNING: QObject::setParent: Cannot set parent, new parent is in a different thread\n"
     ]
    },
    {
     "name": "stdout",
     "output_type": "stream",
     "text": [
      "2025-05-15 14:53:58,802 [WARNING] QObject::setParent: Cannot set parent, new parent is in a different thread\n"
     ]
    },
    {
     "name": "stderr",
     "output_type": "stream",
     "text": [
      "WARNING: QObject::setParent: Cannot set parent, new parent is in a different thread\n"
     ]
    },
    {
     "name": "stdout",
     "output_type": "stream",
     "text": [
      "2025-05-15 14:53:59,974 [WARNING] QObject::setParent: Cannot set parent, new parent is in a different thread\n",
      "Predicting using Micro-sam model\n"
     ]
    },
    {
     "name": "stderr",
     "output_type": "stream",
     "text": [
      "WARNING: QObject::setParent: Cannot set parent, new parent is in a different thread\n"
     ]
    },
    {
     "name": "stdout",
     "output_type": "stream",
     "text": [
      "2025-05-15 14:54:02,148 [WARNING] QObject::setParent: Cannot set parent, new parent is in a different thread\n"
     ]
    },
    {
     "name": "stderr",
     "output_type": "stream",
     "text": [
      "WARNING: QObject::setParent: Cannot set parent, new parent is in a different thread\n"
     ]
    },
    {
     "name": "stdout",
     "output_type": "stream",
     "text": [
      "2025-05-15 14:54:05,364 [WARNING] QObject::setParent: Cannot set parent, new parent is in a different thread\n"
     ]
    },
    {
     "name": "stderr",
     "output_type": "stream",
     "text": [
      "WARNING: QObject::setParent: Cannot set parent, new parent is in a different thread\n"
     ]
    },
    {
     "name": "stdout",
     "output_type": "stream",
     "text": [
      "2025-05-15 14:54:06,475 [WARNING] QObject::setParent: Cannot set parent, new parent is in a different thread\n",
      "Predicting using Micro-sam model\n"
     ]
    },
    {
     "name": "stderr",
     "output_type": "stream",
     "text": [
      "WARNING: QObject::setParent: Cannot set parent, new parent is in a different thread\n"
     ]
    },
    {
     "name": "stdout",
     "output_type": "stream",
     "text": [
      "2025-05-15 14:54:08,685 [WARNING] QObject::setParent: Cannot set parent, new parent is in a different thread\n"
     ]
    },
    {
     "name": "stderr",
     "output_type": "stream",
     "text": [
      "WARNING: QObject::setParent: Cannot set parent, new parent is in a different thread\n"
     ]
    },
    {
     "name": "stdout",
     "output_type": "stream",
     "text": [
      "2025-05-15 14:54:11,930 [WARNING] QObject::setParent: Cannot set parent, new parent is in a different thread\n"
     ]
    },
    {
     "name": "stderr",
     "output_type": "stream",
     "text": [
      "WARNING: QObject::setParent: Cannot set parent, new parent is in a different thread\n"
     ]
    },
    {
     "name": "stdout",
     "output_type": "stream",
     "text": [
      "2025-05-15 14:54:13,009 [WARNING] QObject::setParent: Cannot set parent, new parent is in a different thread\n",
      "Predicting using Micro-sam model\n"
     ]
    },
    {
     "name": "stderr",
     "output_type": "stream",
     "text": [
      "WARNING: QObject::setParent: Cannot set parent, new parent is in a different thread\n"
     ]
    },
    {
     "name": "stdout",
     "output_type": "stream",
     "text": [
      "2025-05-15 14:54:15,203 [WARNING] QObject::setParent: Cannot set parent, new parent is in a different thread\n"
     ]
    },
    {
     "name": "stderr",
     "output_type": "stream",
     "text": [
      "WARNING: QObject::setParent: Cannot set parent, new parent is in a different thread\n"
     ]
    },
    {
     "name": "stdout",
     "output_type": "stream",
     "text": [
      "2025-05-15 14:54:18,408 [WARNING] QObject::setParent: Cannot set parent, new parent is in a different thread\n"
     ]
    },
    {
     "name": "stderr",
     "output_type": "stream",
     "text": [
      "WARNING: QObject::setParent: Cannot set parent, new parent is in a different thread\n"
     ]
    },
    {
     "name": "stdout",
     "output_type": "stream",
     "text": [
      "2025-05-15 14:54:19,488 [WARNING] QObject::setParent: Cannot set parent, new parent is in a different thread\n",
      "Predicting using Micro-sam model\n"
     ]
    },
    {
     "name": "stderr",
     "output_type": "stream",
     "text": [
      "WARNING: QObject::setParent: Cannot set parent, new parent is in a different thread\n"
     ]
    },
    {
     "name": "stdout",
     "output_type": "stream",
     "text": [
      "2025-05-15 14:54:21,648 [WARNING] QObject::setParent: Cannot set parent, new parent is in a different thread\n"
     ]
    },
    {
     "name": "stderr",
     "output_type": "stream",
     "text": [
      "WARNING: QObject::setParent: Cannot set parent, new parent is in a different thread\n"
     ]
    },
    {
     "name": "stdout",
     "output_type": "stream",
     "text": [
      "2025-05-15 14:54:24,959 [WARNING] QObject::setParent: Cannot set parent, new parent is in a different thread\n"
     ]
    },
    {
     "name": "stderr",
     "output_type": "stream",
     "text": [
      "WARNING: QObject::setParent: Cannot set parent, new parent is in a different thread\n"
     ]
    },
    {
     "name": "stdout",
     "output_type": "stream",
     "text": [
      "2025-05-15 14:54:26,086 [WARNING] QObject::setParent: Cannot set parent, new parent is in a different thread\n",
      "Predicting using Micro-sam model\n"
     ]
    },
    {
     "name": "stderr",
     "output_type": "stream",
     "text": [
      "WARNING: QObject::setParent: Cannot set parent, new parent is in a different thread\n"
     ]
    },
    {
     "name": "stdout",
     "output_type": "stream",
     "text": [
      "2025-05-15 14:54:28,310 [WARNING] QObject::setParent: Cannot set parent, new parent is in a different thread\n"
     ]
    },
    {
     "name": "stderr",
     "output_type": "stream",
     "text": [
      "WARNING: QObject::setParent: Cannot set parent, new parent is in a different thread\n"
     ]
    },
    {
     "name": "stdout",
     "output_type": "stream",
     "text": [
      "2025-05-15 14:54:31,533 [WARNING] QObject::setParent: Cannot set parent, new parent is in a different thread\n"
     ]
    },
    {
     "name": "stderr",
     "output_type": "stream",
     "text": [
      "WARNING: QObject::setParent: Cannot set parent, new parent is in a different thread\n"
     ]
    },
    {
     "name": "stdout",
     "output_type": "stream",
     "text": [
      "2025-05-15 14:54:32,635 [WARNING] QObject::setParent: Cannot set parent, new parent is in a different thread\n",
      "Predicting using Micro-sam model\n"
     ]
    },
    {
     "name": "stderr",
     "output_type": "stream",
     "text": [
      "WARNING: QObject::setParent: Cannot set parent, new parent is in a different thread\n"
     ]
    },
    {
     "name": "stdout",
     "output_type": "stream",
     "text": [
      "2025-05-15 14:54:34,836 [WARNING] QObject::setParent: Cannot set parent, new parent is in a different thread\n"
     ]
    },
    {
     "name": "stderr",
     "output_type": "stream",
     "text": [
      "WARNING: QObject::setParent: Cannot set parent, new parent is in a different thread\n"
     ]
    },
    {
     "name": "stdout",
     "output_type": "stream",
     "text": [
      "2025-05-15 14:54:38,144 [WARNING] QObject::setParent: Cannot set parent, new parent is in a different thread\n"
     ]
    },
    {
     "name": "stderr",
     "output_type": "stream",
     "text": [
      "WARNING: QObject::setParent: Cannot set parent, new parent is in a different thread\n"
     ]
    },
    {
     "name": "stdout",
     "output_type": "stream",
     "text": [
      "2025-05-15 14:54:39,248 [WARNING] QObject::setParent: Cannot set parent, new parent is in a different thread\n",
      "Predicting using Micro-sam model\n"
     ]
    },
    {
     "name": "stderr",
     "output_type": "stream",
     "text": [
      "WARNING: QObject::setParent: Cannot set parent, new parent is in a different thread\n"
     ]
    },
    {
     "name": "stdout",
     "output_type": "stream",
     "text": [
      "2025-05-15 14:54:41,418 [WARNING] QObject::setParent: Cannot set parent, new parent is in a different thread\n"
     ]
    },
    {
     "name": "stderr",
     "output_type": "stream",
     "text": [
      "WARNING: QObject::setParent: Cannot set parent, new parent is in a different thread\n"
     ]
    },
    {
     "name": "stdout",
     "output_type": "stream",
     "text": [
      "2025-05-15 14:54:44,627 [WARNING] QObject::setParent: Cannot set parent, new parent is in a different thread\n"
     ]
    },
    {
     "name": "stderr",
     "output_type": "stream",
     "text": [
      "WARNING: QObject::setParent: Cannot set parent, new parent is in a different thread\n"
     ]
    },
    {
     "name": "stdout",
     "output_type": "stream",
     "text": [
      "2025-05-15 14:54:45,754 [WARNING] QObject::setParent: Cannot set parent, new parent is in a different thread\n",
      "Predicting using Micro-sam model\n"
     ]
    },
    {
     "name": "stderr",
     "output_type": "stream",
     "text": [
      "WARNING: QObject::setParent: Cannot set parent, new parent is in a different thread\n"
     ]
    },
    {
     "name": "stdout",
     "output_type": "stream",
     "text": [
      "2025-05-15 14:54:48,018 [WARNING] QObject::setParent: Cannot set parent, new parent is in a different thread\n"
     ]
    },
    {
     "name": "stderr",
     "output_type": "stream",
     "text": [
      "WARNING: QObject::setParent: Cannot set parent, new parent is in a different thread\n"
     ]
    },
    {
     "name": "stdout",
     "output_type": "stream",
     "text": [
      "2025-05-15 14:54:51,171 [WARNING] QObject::setParent: Cannot set parent, new parent is in a different thread\n"
     ]
    },
    {
     "name": "stderr",
     "output_type": "stream",
     "text": [
      "WARNING: QObject::setParent: Cannot set parent, new parent is in a different thread\n"
     ]
    },
    {
     "name": "stdout",
     "output_type": "stream",
     "text": [
      "2025-05-15 14:54:52,306 [WARNING] QObject::setParent: Cannot set parent, new parent is in a different thread\n",
      "Predicting using Micro-sam model\n"
     ]
    },
    {
     "name": "stderr",
     "output_type": "stream",
     "text": [
      "WARNING: QObject::setParent: Cannot set parent, new parent is in a different thread\n"
     ]
    },
    {
     "name": "stdout",
     "output_type": "stream",
     "text": [
      "2025-05-15 14:54:54,445 [WARNING] QObject::setParent: Cannot set parent, new parent is in a different thread\n"
     ]
    },
    {
     "name": "stderr",
     "output_type": "stream",
     "text": [
      "WARNING: QObject::setParent: Cannot set parent, new parent is in a different thread\n"
     ]
    },
    {
     "name": "stdout",
     "output_type": "stream",
     "text": [
      "2025-05-15 14:54:57,837 [WARNING] QObject::setParent: Cannot set parent, new parent is in a different thread\n"
     ]
    },
    {
     "name": "stderr",
     "output_type": "stream",
     "text": [
      "WARNING: QObject::setParent: Cannot set parent, new parent is in a different thread\n"
     ]
    },
    {
     "name": "stdout",
     "output_type": "stream",
     "text": [
      "2025-05-15 14:54:58,939 [WARNING] QObject::setParent: Cannot set parent, new parent is in a different thread\n",
      "Predicting using Micro-sam model\n"
     ]
    },
    {
     "name": "stderr",
     "output_type": "stream",
     "text": [
      "WARNING: QObject::setParent: Cannot set parent, new parent is in a different thread\n"
     ]
    },
    {
     "name": "stdout",
     "output_type": "stream",
     "text": [
      "2025-05-15 14:55:01,108 [WARNING] QObject::setParent: Cannot set parent, new parent is in a different thread\n"
     ]
    },
    {
     "name": "stderr",
     "output_type": "stream",
     "text": [
      "WARNING: QObject::setParent: Cannot set parent, new parent is in a different thread\n"
     ]
    },
    {
     "name": "stdout",
     "output_type": "stream",
     "text": [
      "2025-05-15 14:55:04,312 [WARNING] QObject::setParent: Cannot set parent, new parent is in a different thread\n"
     ]
    },
    {
     "name": "stderr",
     "output_type": "stream",
     "text": [
      "WARNING: QObject::setParent: Cannot set parent, new parent is in a different thread\n"
     ]
    },
    {
     "name": "stdout",
     "output_type": "stream",
     "text": [
      "2025-05-15 14:55:05,434 [WARNING] QObject::setParent: Cannot set parent, new parent is in a different thread\n",
      "Predicting using Micro-sam model\n"
     ]
    },
    {
     "name": "stderr",
     "output_type": "stream",
     "text": [
      "WARNING: QObject::setParent: Cannot set parent, new parent is in a different thread\n"
     ]
    },
    {
     "name": "stdout",
     "output_type": "stream",
     "text": [
      "2025-05-15 14:55:07,613 [WARNING] QObject::setParent: Cannot set parent, new parent is in a different thread\n"
     ]
    },
    {
     "name": "stderr",
     "output_type": "stream",
     "text": [
      "WARNING: QObject::setParent: Cannot set parent, new parent is in a different thread\n"
     ]
    },
    {
     "name": "stdout",
     "output_type": "stream",
     "text": [
      "2025-05-15 14:55:10,836 [WARNING] QObject::setParent: Cannot set parent, new parent is in a different thread\n"
     ]
    },
    {
     "name": "stderr",
     "output_type": "stream",
     "text": [
      "WARNING: QObject::setParent: Cannot set parent, new parent is in a different thread\n"
     ]
    },
    {
     "name": "stdout",
     "output_type": "stream",
     "text": [
      "2025-05-15 14:55:11,982 [WARNING] QObject::setParent: Cannot set parent, new parent is in a different thread\n",
      "Predicting using Micro-sam model\n"
     ]
    },
    {
     "name": "stderr",
     "output_type": "stream",
     "text": [
      "WARNING: QObject::setParent: Cannot set parent, new parent is in a different thread\n"
     ]
    },
    {
     "name": "stdout",
     "output_type": "stream",
     "text": [
      "2025-05-15 14:55:14,179 [WARNING] QObject::setParent: Cannot set parent, new parent is in a different thread\n"
     ]
    },
    {
     "name": "stderr",
     "output_type": "stream",
     "text": [
      "WARNING: QObject::setParent: Cannot set parent, new parent is in a different thread\n"
     ]
    },
    {
     "name": "stdout",
     "output_type": "stream",
     "text": [
      "2025-05-15 14:55:17,384 [WARNING] QObject::setParent: Cannot set parent, new parent is in a different thread\n"
     ]
    },
    {
     "name": "stderr",
     "output_type": "stream",
     "text": [
      "WARNING: QObject::setParent: Cannot set parent, new parent is in a different thread\n"
     ]
    },
    {
     "name": "stdout",
     "output_type": "stream",
     "text": [
      "2025-05-15 14:55:18,573 [WARNING] QObject::setParent: Cannot set parent, new parent is in a different thread\n",
      "Predicting using Micro-sam model\n"
     ]
    },
    {
     "name": "stderr",
     "output_type": "stream",
     "text": [
      "WARNING: QObject::setParent: Cannot set parent, new parent is in a different thread\n"
     ]
    },
    {
     "name": "stdout",
     "output_type": "stream",
     "text": [
      "2025-05-15 14:55:20,719 [WARNING] QObject::setParent: Cannot set parent, new parent is in a different thread\n"
     ]
    },
    {
     "name": "stderr",
     "output_type": "stream",
     "text": [
      "WARNING: QObject::setParent: Cannot set parent, new parent is in a different thread\n"
     ]
    },
    {
     "name": "stdout",
     "output_type": "stream",
     "text": [
      "2025-05-15 14:55:23,937 [WARNING] QObject::setParent: Cannot set parent, new parent is in a different thread\n"
     ]
    },
    {
     "name": "stderr",
     "output_type": "stream",
     "text": [
      "WARNING: QObject::setParent: Cannot set parent, new parent is in a different thread\n"
     ]
    },
    {
     "name": "stdout",
     "output_type": "stream",
     "text": [
      "2025-05-15 14:55:25,040 [WARNING] QObject::setParent: Cannot set parent, new parent is in a different thread\n",
      "Predicting using Micro-sam model\n"
     ]
    },
    {
     "name": "stderr",
     "output_type": "stream",
     "text": [
      "WARNING: QObject::setParent: Cannot set parent, new parent is in a different thread\n"
     ]
    },
    {
     "name": "stdout",
     "output_type": "stream",
     "text": [
      "2025-05-15 14:55:27,225 [WARNING] QObject::setParent: Cannot set parent, new parent is in a different thread\n"
     ]
    },
    {
     "name": "stderr",
     "output_type": "stream",
     "text": [
      "WARNING: QObject::setParent: Cannot set parent, new parent is in a different thread\n"
     ]
    },
    {
     "name": "stdout",
     "output_type": "stream",
     "text": [
      "2025-05-15 14:55:30,613 [WARNING] QObject::setParent: Cannot set parent, new parent is in a different thread\n"
     ]
    },
    {
     "name": "stderr",
     "output_type": "stream",
     "text": [
      "WARNING: QObject::setParent: Cannot set parent, new parent is in a different thread\n"
     ]
    },
    {
     "name": "stdout",
     "output_type": "stream",
     "text": [
      "2025-05-15 14:55:31,760 [WARNING] QObject::setParent: Cannot set parent, new parent is in a different thread\n",
      "Predicting using Micro-sam model\n"
     ]
    },
    {
     "name": "stderr",
     "output_type": "stream",
     "text": [
      "WARNING: QObject::setParent: Cannot set parent, new parent is in a different thread\n"
     ]
    },
    {
     "name": "stdout",
     "output_type": "stream",
     "text": [
      "2025-05-15 14:55:33,894 [WARNING] QObject::setParent: Cannot set parent, new parent is in a different thread\n"
     ]
    },
    {
     "name": "stderr",
     "output_type": "stream",
     "text": [
      "WARNING: QObject::setParent: Cannot set parent, new parent is in a different thread\n"
     ]
    },
    {
     "name": "stdout",
     "output_type": "stream",
     "text": [
      "2025-05-15 14:55:37,150 [WARNING] QObject::setParent: Cannot set parent, new parent is in a different thread\n"
     ]
    },
    {
     "name": "stderr",
     "output_type": "stream",
     "text": [
      "WARNING: QObject::setParent: Cannot set parent, new parent is in a different thread\n"
     ]
    },
    {
     "name": "stdout",
     "output_type": "stream",
     "text": [
      "2025-05-15 14:55:38,235 [WARNING] QObject::setParent: Cannot set parent, new parent is in a different thread\n",
      "Predicting using Micro-sam model\n"
     ]
    },
    {
     "name": "stderr",
     "output_type": "stream",
     "text": [
      "WARNING: QObject::setParent: Cannot set parent, new parent is in a different thread\n"
     ]
    },
    {
     "name": "stdout",
     "output_type": "stream",
     "text": [
      "2025-05-15 14:55:40,406 [WARNING] QObject::setParent: Cannot set parent, new parent is in a different thread\n"
     ]
    },
    {
     "name": "stderr",
     "output_type": "stream",
     "text": [
      "WARNING: QObject::setParent: Cannot set parent, new parent is in a different thread\n"
     ]
    },
    {
     "name": "stdout",
     "output_type": "stream",
     "text": [
      "2025-05-15 14:55:43,741 [WARNING] QObject::setParent: Cannot set parent, new parent is in a different thread\n"
     ]
    },
    {
     "name": "stderr",
     "output_type": "stream",
     "text": [
      "WARNING: QObject::setParent: Cannot set parent, new parent is in a different thread\n"
     ]
    },
    {
     "name": "stdout",
     "output_type": "stream",
     "text": [
      "2025-05-15 14:55:44,886 [WARNING] QObject::setParent: Cannot set parent, new parent is in a different thread\n",
      "Predicting using Micro-sam model\n"
     ]
    },
    {
     "name": "stderr",
     "output_type": "stream",
     "text": [
      "WARNING: QObject::setParent: Cannot set parent, new parent is in a different thread\n"
     ]
    },
    {
     "name": "stdout",
     "output_type": "stream",
     "text": [
      "2025-05-15 14:55:47,029 [WARNING] QObject::setParent: Cannot set parent, new parent is in a different thread\n"
     ]
    },
    {
     "name": "stderr",
     "output_type": "stream",
     "text": [
      "WARNING: QObject::setParent: Cannot set parent, new parent is in a different thread\n"
     ]
    },
    {
     "name": "stdout",
     "output_type": "stream",
     "text": [
      "2025-05-15 14:55:50,320 [WARNING] QObject::setParent: Cannot set parent, new parent is in a different thread\n"
     ]
    },
    {
     "name": "stderr",
     "output_type": "stream",
     "text": [
      "WARNING: QObject::setParent: Cannot set parent, new parent is in a different thread\n"
     ]
    },
    {
     "name": "stdout",
     "output_type": "stream",
     "text": [
      "2025-05-15 14:55:51,486 [WARNING] QObject::setParent: Cannot set parent, new parent is in a different thread\n",
      "Predicting using Micro-sam model\n"
     ]
    },
    {
     "name": "stderr",
     "output_type": "stream",
     "text": [
      "WARNING: QObject::setParent: Cannot set parent, new parent is in a different thread\n"
     ]
    },
    {
     "name": "stdout",
     "output_type": "stream",
     "text": [
      "2025-05-15 14:55:53,633 [WARNING] QObject::setParent: Cannot set parent, new parent is in a different thread\n"
     ]
    },
    {
     "name": "stderr",
     "output_type": "stream",
     "text": [
      "WARNING: QObject::setParent: Cannot set parent, new parent is in a different thread\n"
     ]
    },
    {
     "name": "stdout",
     "output_type": "stream",
     "text": [
      "2025-05-15 14:55:56,915 [WARNING] QObject::setParent: Cannot set parent, new parent is in a different thread\n"
     ]
    },
    {
     "name": "stderr",
     "output_type": "stream",
     "text": [
      "WARNING: QObject::setParent: Cannot set parent, new parent is in a different thread\n"
     ]
    },
    {
     "name": "stdout",
     "output_type": "stream",
     "text": [
      "2025-05-15 14:55:58,098 [WARNING] QObject::setParent: Cannot set parent, new parent is in a different thread\n",
      "Predicting using Micro-sam model\n"
     ]
    },
    {
     "name": "stderr",
     "output_type": "stream",
     "text": [
      "WARNING: QObject::setParent: Cannot set parent, new parent is in a different thread\n"
     ]
    },
    {
     "name": "stdout",
     "output_type": "stream",
     "text": [
      "2025-05-15 14:56:00,249 [WARNING] QObject::setParent: Cannot set parent, new parent is in a different thread\n"
     ]
    },
    {
     "name": "stderr",
     "output_type": "stream",
     "text": [
      "WARNING: QObject::setParent: Cannot set parent, new parent is in a different thread\n"
     ]
    },
    {
     "name": "stdout",
     "output_type": "stream",
     "text": [
      "2025-05-15 14:56:03,698 [WARNING] QObject::setParent: Cannot set parent, new parent is in a different thread\n"
     ]
    },
    {
     "name": "stderr",
     "output_type": "stream",
     "text": [
      "WARNING: QObject::setParent: Cannot set parent, new parent is in a different thread\n"
     ]
    },
    {
     "name": "stdout",
     "output_type": "stream",
     "text": [
      "2025-05-15 14:56:04,790 [WARNING] QObject::setParent: Cannot set parent, new parent is in a different thread\n",
      "Predicting using Micro-sam model\n"
     ]
    },
    {
     "name": "stderr",
     "output_type": "stream",
     "text": [
      "WARNING: QObject::setParent: Cannot set parent, new parent is in a different thread\n"
     ]
    },
    {
     "name": "stdout",
     "output_type": "stream",
     "text": [
      "2025-05-15 14:56:07,880 [WARNING] QObject::setParent: Cannot set parent, new parent is in a different thread\n"
     ]
    },
    {
     "name": "stderr",
     "output_type": "stream",
     "text": [
      "WARNING: QObject::setParent: Cannot set parent, new parent is in a different thread\n"
     ]
    },
    {
     "name": "stdout",
     "output_type": "stream",
     "text": [
      "2025-05-15 14:56:11,199 [WARNING] QObject::setParent: Cannot set parent, new parent is in a different thread\n"
     ]
    },
    {
     "name": "stderr",
     "output_type": "stream",
     "text": [
      "WARNING: QObject::setParent: Cannot set parent, new parent is in a different thread\n"
     ]
    },
    {
     "name": "stdout",
     "output_type": "stream",
     "text": [
      "2025-05-15 14:56:12,344 [WARNING] QObject::setParent: Cannot set parent, new parent is in a different thread\n",
      "Predicting using Micro-sam model\n"
     ]
    },
    {
     "name": "stderr",
     "output_type": "stream",
     "text": [
      "WARNING: QObject::setParent: Cannot set parent, new parent is in a different thread\n"
     ]
    },
    {
     "name": "stdout",
     "output_type": "stream",
     "text": [
      "2025-05-15 14:56:14,474 [WARNING] QObject::setParent: Cannot set parent, new parent is in a different thread\n"
     ]
    },
    {
     "name": "stderr",
     "output_type": "stream",
     "text": [
      "WARNING: QObject::setParent: Cannot set parent, new parent is in a different thread\n"
     ]
    },
    {
     "name": "stdout",
     "output_type": "stream",
     "text": [
      "2025-05-15 14:56:17,757 [WARNING] QObject::setParent: Cannot set parent, new parent is in a different thread\n"
     ]
    },
    {
     "name": "stderr",
     "output_type": "stream",
     "text": [
      "WARNING: QObject::setParent: Cannot set parent, new parent is in a different thread\n"
     ]
    },
    {
     "name": "stdout",
     "output_type": "stream",
     "text": [
      "2025-05-15 14:56:18,881 [WARNING] QObject::setParent: Cannot set parent, new parent is in a different thread\n",
      "Predicting using Micro-sam model\n"
     ]
    },
    {
     "name": "stderr",
     "output_type": "stream",
     "text": [
      "WARNING: QObject::setParent: Cannot set parent, new parent is in a different thread\n"
     ]
    },
    {
     "name": "stdout",
     "output_type": "stream",
     "text": [
      "2025-05-15 14:56:21,055 [WARNING] QObject::setParent: Cannot set parent, new parent is in a different thread\n"
     ]
    },
    {
     "name": "stderr",
     "output_type": "stream",
     "text": [
      "WARNING: QObject::setParent: Cannot set parent, new parent is in a different thread\n"
     ]
    },
    {
     "name": "stdout",
     "output_type": "stream",
     "text": [
      "2025-05-15 14:56:24,438 [WARNING] QObject::setParent: Cannot set parent, new parent is in a different thread\n"
     ]
    },
    {
     "name": "stderr",
     "output_type": "stream",
     "text": [
      "WARNING: QObject::setParent: Cannot set parent, new parent is in a different thread\n"
     ]
    },
    {
     "name": "stdout",
     "output_type": "stream",
     "text": [
      "2025-05-15 14:56:25,564 [WARNING] QObject::setParent: Cannot set parent, new parent is in a different thread\n",
      "Predicting using Micro-sam model\n"
     ]
    },
    {
     "name": "stderr",
     "output_type": "stream",
     "text": [
      "WARNING: QObject::setParent: Cannot set parent, new parent is in a different thread\n"
     ]
    },
    {
     "name": "stdout",
     "output_type": "stream",
     "text": [
      "2025-05-15 14:56:27,738 [WARNING] QObject::setParent: Cannot set parent, new parent is in a different thread\n"
     ]
    },
    {
     "name": "stderr",
     "output_type": "stream",
     "text": [
      "WARNING: QObject::setParent: Cannot set parent, new parent is in a different thread\n"
     ]
    },
    {
     "name": "stdout",
     "output_type": "stream",
     "text": [
      "2025-05-15 14:56:31,016 [WARNING] QObject::setParent: Cannot set parent, new parent is in a different thread\n"
     ]
    },
    {
     "name": "stderr",
     "output_type": "stream",
     "text": [
      "WARNING: QObject::setParent: Cannot set parent, new parent is in a different thread\n"
     ]
    },
    {
     "name": "stdout",
     "output_type": "stream",
     "text": [
      "2025-05-15 14:56:32,142 [WARNING] QObject::setParent: Cannot set parent, new parent is in a different thread\n",
      "Predicting using Micro-sam model\n"
     ]
    },
    {
     "name": "stderr",
     "output_type": "stream",
     "text": [
      "WARNING: QObject::setParent: Cannot set parent, new parent is in a different thread\n"
     ]
    },
    {
     "name": "stdout",
     "output_type": "stream",
     "text": [
      "2025-05-15 14:56:34,334 [WARNING] QObject::setParent: Cannot set parent, new parent is in a different thread\n"
     ]
    },
    {
     "name": "stderr",
     "output_type": "stream",
     "text": [
      "WARNING: QObject::setParent: Cannot set parent, new parent is in a different thread\n"
     ]
    },
    {
     "name": "stdout",
     "output_type": "stream",
     "text": [
      "2025-05-15 14:56:37,544 [WARNING] QObject::setParent: Cannot set parent, new parent is in a different thread\n"
     ]
    },
    {
     "name": "stderr",
     "output_type": "stream",
     "text": [
      "WARNING: QObject::setParent: Cannot set parent, new parent is in a different thread\n"
     ]
    },
    {
     "name": "stdout",
     "output_type": "stream",
     "text": [
      "2025-05-15 14:56:38,699 [WARNING] QObject::setParent: Cannot set parent, new parent is in a different thread\n",
      "Predicting using Micro-sam model\n"
     ]
    },
    {
     "name": "stderr",
     "output_type": "stream",
     "text": [
      "WARNING: QObject::setParent: Cannot set parent, new parent is in a different thread\n"
     ]
    },
    {
     "name": "stdout",
     "output_type": "stream",
     "text": [
      "2025-05-15 14:56:40,850 [WARNING] QObject::setParent: Cannot set parent, new parent is in a different thread\n"
     ]
    },
    {
     "name": "stderr",
     "output_type": "stream",
     "text": [
      "WARNING: QObject::setParent: Cannot set parent, new parent is in a different thread\n"
     ]
    },
    {
     "name": "stdout",
     "output_type": "stream",
     "text": [
      "2025-05-15 14:56:44,264 [WARNING] QObject::setParent: Cannot set parent, new parent is in a different thread\n"
     ]
    },
    {
     "name": "stderr",
     "output_type": "stream",
     "text": [
      "WARNING: QObject::setParent: Cannot set parent, new parent is in a different thread\n"
     ]
    },
    {
     "name": "stdout",
     "output_type": "stream",
     "text": [
      "2025-05-15 14:56:45,373 [WARNING] QObject::setParent: Cannot set parent, new parent is in a different thread\n",
      "Predicting using Micro-sam model\n"
     ]
    },
    {
     "name": "stderr",
     "output_type": "stream",
     "text": [
      "WARNING: QObject::setParent: Cannot set parent, new parent is in a different thread\n"
     ]
    },
    {
     "name": "stdout",
     "output_type": "stream",
     "text": [
      "2025-05-15 14:56:47,528 [WARNING] QObject::setParent: Cannot set parent, new parent is in a different thread\n"
     ]
    },
    {
     "name": "stderr",
     "output_type": "stream",
     "text": [
      "WARNING: QObject::setParent: Cannot set parent, new parent is in a different thread\n"
     ]
    },
    {
     "name": "stdout",
     "output_type": "stream",
     "text": [
      "2025-05-15 14:56:50,748 [WARNING] QObject::setParent: Cannot set parent, new parent is in a different thread\n"
     ]
    },
    {
     "name": "stderr",
     "output_type": "stream",
     "text": [
      "WARNING: QObject::setParent: Cannot set parent, new parent is in a different thread\n"
     ]
    },
    {
     "name": "stdout",
     "output_type": "stream",
     "text": [
      "2025-05-15 14:56:51,841 [WARNING] QObject::setParent: Cannot set parent, new parent is in a different thread\n",
      "Predicting using Micro-sam model\n"
     ]
    },
    {
     "name": "stderr",
     "output_type": "stream",
     "text": [
      "WARNING: QObject::setParent: Cannot set parent, new parent is in a different thread\n"
     ]
    },
    {
     "name": "stdout",
     "output_type": "stream",
     "text": [
      "2025-05-15 14:56:53,960 [WARNING] QObject::setParent: Cannot set parent, new parent is in a different thread\n"
     ]
    },
    {
     "name": "stderr",
     "output_type": "stream",
     "text": [
      "WARNING: QObject::setParent: Cannot set parent, new parent is in a different thread\n"
     ]
    },
    {
     "name": "stdout",
     "output_type": "stream",
     "text": [
      "2025-05-15 14:56:57,146 [WARNING] QObject::setParent: Cannot set parent, new parent is in a different thread\n"
     ]
    },
    {
     "name": "stderr",
     "output_type": "stream",
     "text": [
      "WARNING: QObject::setParent: Cannot set parent, new parent is in a different thread\n"
     ]
    },
    {
     "name": "stdout",
     "output_type": "stream",
     "text": [
      "2025-05-15 14:56:58,234 [WARNING] QObject::setParent: Cannot set parent, new parent is in a different thread\n",
      "Predicting using Micro-sam model\n"
     ]
    },
    {
     "name": "stderr",
     "output_type": "stream",
     "text": [
      "WARNING: QObject::setParent: Cannot set parent, new parent is in a different thread\n"
     ]
    },
    {
     "name": "stdout",
     "output_type": "stream",
     "text": [
      "2025-05-15 14:57:00,409 [WARNING] QObject::setParent: Cannot set parent, new parent is in a different thread\n"
     ]
    },
    {
     "name": "stderr",
     "output_type": "stream",
     "text": [
      "WARNING: QObject::setParent: Cannot set parent, new parent is in a different thread\n"
     ]
    },
    {
     "name": "stdout",
     "output_type": "stream",
     "text": [
      "2025-05-15 14:57:03,759 [WARNING] QObject::setParent: Cannot set parent, new parent is in a different thread\n"
     ]
    },
    {
     "name": "stderr",
     "output_type": "stream",
     "text": [
      "WARNING: QObject::setParent: Cannot set parent, new parent is in a different thread\n"
     ]
    },
    {
     "name": "stdout",
     "output_type": "stream",
     "text": [
      "2025-05-15 14:57:04,933 [WARNING] QObject::setParent: Cannot set parent, new parent is in a different thread\n",
      "Predicting using Micro-sam model\n"
     ]
    },
    {
     "name": "stderr",
     "output_type": "stream",
     "text": [
      "WARNING: QObject::setParent: Cannot set parent, new parent is in a different thread\n"
     ]
    },
    {
     "name": "stdout",
     "output_type": "stream",
     "text": [
      "2025-05-15 14:57:07,091 [WARNING] QObject::setParent: Cannot set parent, new parent is in a different thread\n"
     ]
    },
    {
     "name": "stderr",
     "output_type": "stream",
     "text": [
      "WARNING: QObject::setParent: Cannot set parent, new parent is in a different thread\n"
     ]
    },
    {
     "name": "stdout",
     "output_type": "stream",
     "text": [
      "2025-05-15 14:57:10,352 [WARNING] QObject::setParent: Cannot set parent, new parent is in a different thread\n"
     ]
    },
    {
     "name": "stderr",
     "output_type": "stream",
     "text": [
      "WARNING: QObject::setParent: Cannot set parent, new parent is in a different thread\n"
     ]
    },
    {
     "name": "stdout",
     "output_type": "stream",
     "text": [
      "2025-05-15 14:57:11,456 [WARNING] QObject::setParent: Cannot set parent, new parent is in a different thread\n",
      "Predicting using Micro-sam model\n"
     ]
    },
    {
     "name": "stderr",
     "output_type": "stream",
     "text": [
      "WARNING: QObject::setParent: Cannot set parent, new parent is in a different thread\n"
     ]
    },
    {
     "name": "stdout",
     "output_type": "stream",
     "text": [
      "2025-05-15 14:57:13,637 [WARNING] QObject::setParent: Cannot set parent, new parent is in a different thread\n"
     ]
    },
    {
     "name": "stderr",
     "output_type": "stream",
     "text": [
      "WARNING: QObject::setParent: Cannot set parent, new parent is in a different thread\n"
     ]
    },
    {
     "name": "stdout",
     "output_type": "stream",
     "text": [
      "2025-05-15 14:57:16,989 [WARNING] QObject::setParent: Cannot set parent, new parent is in a different thread\n"
     ]
    },
    {
     "name": "stderr",
     "output_type": "stream",
     "text": [
      "WARNING: QObject::setParent: Cannot set parent, new parent is in a different thread\n"
     ]
    },
    {
     "name": "stdout",
     "output_type": "stream",
     "text": [
      "2025-05-15 14:57:18,120 [WARNING] QObject::setParent: Cannot set parent, new parent is in a different thread\n",
      "Predicting using Micro-sam model\n"
     ]
    },
    {
     "name": "stderr",
     "output_type": "stream",
     "text": [
      "WARNING: QObject::setParent: Cannot set parent, new parent is in a different thread\n"
     ]
    },
    {
     "name": "stdout",
     "output_type": "stream",
     "text": [
      "2025-05-15 14:57:20,276 [WARNING] QObject::setParent: Cannot set parent, new parent is in a different thread\n"
     ]
    },
    {
     "name": "stderr",
     "output_type": "stream",
     "text": [
      "WARNING: QObject::setParent: Cannot set parent, new parent is in a different thread\n"
     ]
    },
    {
     "name": "stdout",
     "output_type": "stream",
     "text": [
      "2025-05-15 14:57:23,576 [WARNING] QObject::setParent: Cannot set parent, new parent is in a different thread\n"
     ]
    },
    {
     "name": "stderr",
     "output_type": "stream",
     "text": [
      "WARNING: QObject::setParent: Cannot set parent, new parent is in a different thread\n"
     ]
    },
    {
     "name": "stdout",
     "output_type": "stream",
     "text": [
      "2025-05-15 14:57:24,673 [WARNING] QObject::setParent: Cannot set parent, new parent is in a different thread\n",
      "Predicting using Micro-sam model\n"
     ]
    },
    {
     "name": "stderr",
     "output_type": "stream",
     "text": [
      "WARNING: QObject::setParent: Cannot set parent, new parent is in a different thread\n"
     ]
    },
    {
     "name": "stdout",
     "output_type": "stream",
     "text": [
      "2025-05-15 14:57:26,827 [WARNING] QObject::setParent: Cannot set parent, new parent is in a different thread\n"
     ]
    },
    {
     "name": "stderr",
     "output_type": "stream",
     "text": [
      "WARNING: QObject::setParent: Cannot set parent, new parent is in a different thread\n"
     ]
    },
    {
     "name": "stdout",
     "output_type": "stream",
     "text": [
      "2025-05-15 14:57:30,163 [WARNING] QObject::setParent: Cannot set parent, new parent is in a different thread\n"
     ]
    },
    {
     "name": "stderr",
     "output_type": "stream",
     "text": [
      "WARNING: QObject::setParent: Cannot set parent, new parent is in a different thread\n"
     ]
    },
    {
     "name": "stdout",
     "output_type": "stream",
     "text": [
      "2025-05-15 14:57:31,325 [WARNING] QObject::setParent: Cannot set parent, new parent is in a different thread\n",
      "Predicting using Micro-sam model\n"
     ]
    },
    {
     "name": "stderr",
     "output_type": "stream",
     "text": [
      "WARNING: QObject::setParent: Cannot set parent, new parent is in a different thread\n"
     ]
    },
    {
     "name": "stdout",
     "output_type": "stream",
     "text": [
      "2025-05-15 14:57:33,447 [WARNING] QObject::setParent: Cannot set parent, new parent is in a different thread\n"
     ]
    },
    {
     "name": "stderr",
     "output_type": "stream",
     "text": [
      "WARNING: QObject::setParent: Cannot set parent, new parent is in a different thread\n"
     ]
    },
    {
     "name": "stdout",
     "output_type": "stream",
     "text": [
      "2025-05-15 14:57:36,701 [WARNING] QObject::setParent: Cannot set parent, new parent is in a different thread\n"
     ]
    },
    {
     "name": "stderr",
     "output_type": "stream",
     "text": [
      "WARNING: QObject::setParent: Cannot set parent, new parent is in a different thread\n"
     ]
    },
    {
     "name": "stdout",
     "output_type": "stream",
     "text": [
      "2025-05-15 14:57:37,827 [WARNING] QObject::setParent: Cannot set parent, new parent is in a different thread\n",
      "Predicting using Micro-sam model\n"
     ]
    },
    {
     "name": "stderr",
     "output_type": "stream",
     "text": [
      "WARNING: QObject::setParent: Cannot set parent, new parent is in a different thread\n"
     ]
    },
    {
     "name": "stdout",
     "output_type": "stream",
     "text": [
      "2025-05-15 14:57:40,019 [WARNING] QObject::setParent: Cannot set parent, new parent is in a different thread\n"
     ]
    },
    {
     "name": "stderr",
     "output_type": "stream",
     "text": [
      "WARNING: QObject::setParent: Cannot set parent, new parent is in a different thread\n"
     ]
    },
    {
     "name": "stdout",
     "output_type": "stream",
     "text": [
      "2025-05-15 14:57:43,381 [WARNING] QObject::setParent: Cannot set parent, new parent is in a different thread\n"
     ]
    },
    {
     "name": "stderr",
     "output_type": "stream",
     "text": [
      "WARNING: QObject::setParent: Cannot set parent, new parent is in a different thread\n"
     ]
    },
    {
     "name": "stdout",
     "output_type": "stream",
     "text": [
      "2025-05-15 14:57:44,523 [WARNING] QObject::setParent: Cannot set parent, new parent is in a different thread\n",
      "Predicting using Micro-sam model\n"
     ]
    },
    {
     "name": "stderr",
     "output_type": "stream",
     "text": [
      "WARNING: QObject::setParent: Cannot set parent, new parent is in a different thread\n"
     ]
    },
    {
     "name": "stdout",
     "output_type": "stream",
     "text": [
      "2025-05-15 14:57:46,672 [WARNING] QObject::setParent: Cannot set parent, new parent is in a different thread\n"
     ]
    },
    {
     "name": "stderr",
     "output_type": "stream",
     "text": [
      "WARNING: QObject::setParent: Cannot set parent, new parent is in a different thread\n"
     ]
    },
    {
     "name": "stdout",
     "output_type": "stream",
     "text": [
      "2025-05-15 14:57:49,906 [WARNING] QObject::setParent: Cannot set parent, new parent is in a different thread\n"
     ]
    },
    {
     "name": "stderr",
     "output_type": "stream",
     "text": [
      "WARNING: QObject::setParent: Cannot set parent, new parent is in a different thread\n"
     ]
    },
    {
     "name": "stdout",
     "output_type": "stream",
     "text": [
      "2025-05-15 14:57:51,049 [WARNING] QObject::setParent: Cannot set parent, new parent is in a different thread\n",
      "Predicting using Micro-sam model\n"
     ]
    },
    {
     "name": "stderr",
     "output_type": "stream",
     "text": [
      "WARNING: QObject::setParent: Cannot set parent, new parent is in a different thread\n"
     ]
    },
    {
     "name": "stdout",
     "output_type": "stream",
     "text": [
      "2025-05-15 14:57:53,232 [WARNING] QObject::setParent: Cannot set parent, new parent is in a different thread\n"
     ]
    },
    {
     "name": "stderr",
     "output_type": "stream",
     "text": [
      "WARNING: QObject::setParent: Cannot set parent, new parent is in a different thread\n"
     ]
    },
    {
     "name": "stdout",
     "output_type": "stream",
     "text": [
      "2025-05-15 14:57:56,518 [WARNING] QObject::setParent: Cannot set parent, new parent is in a different thread\n"
     ]
    },
    {
     "name": "stderr",
     "output_type": "stream",
     "text": [
      "WARNING: QObject::setParent: Cannot set parent, new parent is in a different thread\n"
     ]
    },
    {
     "name": "stdout",
     "output_type": "stream",
     "text": [
      "2025-05-15 14:57:57,621 [WARNING] QObject::setParent: Cannot set parent, new parent is in a different thread\n",
      "Predicting using Micro-sam model\n"
     ]
    },
    {
     "name": "stderr",
     "output_type": "stream",
     "text": [
      "WARNING: QObject::setParent: Cannot set parent, new parent is in a different thread\n"
     ]
    },
    {
     "name": "stdout",
     "output_type": "stream",
     "text": [
      "2025-05-15 14:57:59,752 [WARNING] QObject::setParent: Cannot set parent, new parent is in a different thread\n"
     ]
    },
    {
     "name": "stderr",
     "output_type": "stream",
     "text": [
      "WARNING: QObject::setParent: Cannot set parent, new parent is in a different thread\n"
     ]
    },
    {
     "name": "stdout",
     "output_type": "stream",
     "text": [
      "2025-05-15 14:58:02,899 [WARNING] QObject::setParent: Cannot set parent, new parent is in a different thread\n"
     ]
    },
    {
     "name": "stderr",
     "output_type": "stream",
     "text": [
      "WARNING: QObject::setParent: Cannot set parent, new parent is in a different thread\n"
     ]
    },
    {
     "name": "stdout",
     "output_type": "stream",
     "text": [
      "2025-05-15 14:58:03,973 [WARNING] QObject::setParent: Cannot set parent, new parent is in a different thread\n",
      "Predicting using Micro-sam model\n"
     ]
    },
    {
     "name": "stderr",
     "output_type": "stream",
     "text": [
      "WARNING: QObject::setParent: Cannot set parent, new parent is in a different thread\n"
     ]
    },
    {
     "name": "stdout",
     "output_type": "stream",
     "text": [
      "2025-05-15 14:58:06,118 [WARNING] QObject::setParent: Cannot set parent, new parent is in a different thread\n"
     ]
    },
    {
     "name": "stderr",
     "output_type": "stream",
     "text": [
      "WARNING: QObject::setParent: Cannot set parent, new parent is in a different thread\n"
     ]
    },
    {
     "name": "stdout",
     "output_type": "stream",
     "text": [
      "2025-05-15 14:58:09,321 [WARNING] QObject::setParent: Cannot set parent, new parent is in a different thread\n"
     ]
    },
    {
     "name": "stderr",
     "output_type": "stream",
     "text": [
      "WARNING: QObject::setParent: Cannot set parent, new parent is in a different thread\n"
     ]
    },
    {
     "name": "stdout",
     "output_type": "stream",
     "text": [
      "2025-05-15 14:58:10,430 [WARNING] QObject::setParent: Cannot set parent, new parent is in a different thread\n",
      "Predicting using Micro-sam model\n"
     ]
    },
    {
     "name": "stderr",
     "output_type": "stream",
     "text": [
      "WARNING: QObject::setParent: Cannot set parent, new parent is in a different thread\n"
     ]
    },
    {
     "name": "stdout",
     "output_type": "stream",
     "text": [
      "2025-05-15 14:58:12,574 [WARNING] QObject::setParent: Cannot set parent, new parent is in a different thread\n"
     ]
    },
    {
     "name": "stderr",
     "output_type": "stream",
     "text": [
      "WARNING: QObject::setParent: Cannot set parent, new parent is in a different thread\n"
     ]
    },
    {
     "name": "stdout",
     "output_type": "stream",
     "text": [
      "2025-05-15 14:58:15,925 [WARNING] QObject::setParent: Cannot set parent, new parent is in a different thread\n"
     ]
    },
    {
     "name": "stderr",
     "output_type": "stream",
     "text": [
      "WARNING: QObject::setParent: Cannot set parent, new parent is in a different thread\n"
     ]
    },
    {
     "name": "stdout",
     "output_type": "stream",
     "text": [
      "2025-05-15 14:58:17,045 [WARNING] QObject::setParent: Cannot set parent, new parent is in a different thread\n",
      "Predicting using Micro-sam model\n"
     ]
    },
    {
     "name": "stderr",
     "output_type": "stream",
     "text": [
      "WARNING: QObject::setParent: Cannot set parent, new parent is in a different thread\n"
     ]
    },
    {
     "name": "stdout",
     "output_type": "stream",
     "text": [
      "2025-05-15 14:58:19,182 [WARNING] QObject::setParent: Cannot set parent, new parent is in a different thread\n"
     ]
    },
    {
     "name": "stderr",
     "output_type": "stream",
     "text": [
      "WARNING: QObject::setParent: Cannot set parent, new parent is in a different thread\n"
     ]
    },
    {
     "name": "stdout",
     "output_type": "stream",
     "text": [
      "2025-05-15 14:58:22,507 [WARNING] QObject::setParent: Cannot set parent, new parent is in a different thread\n"
     ]
    },
    {
     "name": "stderr",
     "output_type": "stream",
     "text": [
      "WARNING: QObject::setParent: Cannot set parent, new parent is in a different thread\n"
     ]
    },
    {
     "name": "stdout",
     "output_type": "stream",
     "text": [
      "2025-05-15 14:58:23,655 [WARNING] QObject::setParent: Cannot set parent, new parent is in a different thread\n",
      "Predicting using Micro-sam model\n"
     ]
    },
    {
     "name": "stderr",
     "output_type": "stream",
     "text": [
      "WARNING: QObject::setParent: Cannot set parent, new parent is in a different thread\n"
     ]
    },
    {
     "name": "stdout",
     "output_type": "stream",
     "text": [
      "2025-05-15 14:58:25,791 [WARNING] QObject::setParent: Cannot set parent, new parent is in a different thread\n"
     ]
    },
    {
     "name": "stderr",
     "output_type": "stream",
     "text": [
      "WARNING: QObject::setParent: Cannot set parent, new parent is in a different thread\n"
     ]
    },
    {
     "name": "stdout",
     "output_type": "stream",
     "text": [
      "2025-05-15 14:58:29,109 [WARNING] QObject::setParent: Cannot set parent, new parent is in a different thread\n"
     ]
    },
    {
     "name": "stderr",
     "output_type": "stream",
     "text": [
      "WARNING: QObject::setParent: Cannot set parent, new parent is in a different thread\n"
     ]
    },
    {
     "name": "stdout",
     "output_type": "stream",
     "text": [
      "2025-05-15 14:58:30,234 [WARNING] QObject::setParent: Cannot set parent, new parent is in a different thread\n",
      "Predicting using Micro-sam model\n"
     ]
    },
    {
     "name": "stderr",
     "output_type": "stream",
     "text": [
      "WARNING: QObject::setParent: Cannot set parent, new parent is in a different thread\n"
     ]
    },
    {
     "name": "stdout",
     "output_type": "stream",
     "text": [
      "2025-05-15 14:58:32,390 [WARNING] QObject::setParent: Cannot set parent, new parent is in a different thread\n"
     ]
    },
    {
     "name": "stderr",
     "output_type": "stream",
     "text": [
      "WARNING: QObject::setParent: Cannot set parent, new parent is in a different thread\n"
     ]
    },
    {
     "name": "stdout",
     "output_type": "stream",
     "text": [
      "2025-05-15 14:58:35,697 [WARNING] QObject::setParent: Cannot set parent, new parent is in a different thread\n"
     ]
    },
    {
     "name": "stderr",
     "output_type": "stream",
     "text": [
      "WARNING: QObject::setParent: Cannot set parent, new parent is in a different thread\n"
     ]
    },
    {
     "name": "stdout",
     "output_type": "stream",
     "text": [
      "2025-05-15 14:58:36,888 [WARNING] QObject::setParent: Cannot set parent, new parent is in a different thread\n",
      "Predicting using Micro-sam model\n"
     ]
    },
    {
     "name": "stderr",
     "output_type": "stream",
     "text": [
      "WARNING: QObject::setParent: Cannot set parent, new parent is in a different thread\n"
     ]
    },
    {
     "name": "stdout",
     "output_type": "stream",
     "text": [
      "2025-05-15 14:58:39,094 [WARNING] QObject::setParent: Cannot set parent, new parent is in a different thread\n"
     ]
    },
    {
     "name": "stderr",
     "output_type": "stream",
     "text": [
      "WARNING: QObject::setParent: Cannot set parent, new parent is in a different thread\n"
     ]
    },
    {
     "name": "stdout",
     "output_type": "stream",
     "text": [
      "2025-05-15 14:58:42,329 [WARNING] QObject::setParent: Cannot set parent, new parent is in a different thread\n"
     ]
    },
    {
     "name": "stderr",
     "output_type": "stream",
     "text": [
      "WARNING: QObject::setParent: Cannot set parent, new parent is in a different thread\n"
     ]
    },
    {
     "name": "stdout",
     "output_type": "stream",
     "text": [
      "2025-05-15 14:58:43,449 [WARNING] QObject::setParent: Cannot set parent, new parent is in a different thread\n",
      "Predicting using Micro-sam model\n"
     ]
    },
    {
     "name": "stderr",
     "output_type": "stream",
     "text": [
      "WARNING: QObject::setParent: Cannot set parent, new parent is in a different thread\n"
     ]
    },
    {
     "name": "stdout",
     "output_type": "stream",
     "text": [
      "2025-05-15 14:58:45,611 [WARNING] QObject::setParent: Cannot set parent, new parent is in a different thread\n"
     ]
    },
    {
     "name": "stderr",
     "output_type": "stream",
     "text": [
      "WARNING: QObject::setParent: Cannot set parent, new parent is in a different thread\n"
     ]
    },
    {
     "name": "stdout",
     "output_type": "stream",
     "text": [
      "2025-05-15 14:58:49,016 [WARNING] QObject::setParent: Cannot set parent, new parent is in a different thread\n"
     ]
    },
    {
     "name": "stderr",
     "output_type": "stream",
     "text": [
      "WARNING: QObject::setParent: Cannot set parent, new parent is in a different thread\n"
     ]
    },
    {
     "name": "stdout",
     "output_type": "stream",
     "text": [
      "2025-05-15 14:58:50,169 [WARNING] QObject::setParent: Cannot set parent, new parent is in a different thread\n",
      "Predicting using Micro-sam model\n"
     ]
    },
    {
     "name": "stderr",
     "output_type": "stream",
     "text": [
      "WARNING: QObject::setParent: Cannot set parent, new parent is in a different thread\n"
     ]
    },
    {
     "name": "stdout",
     "output_type": "stream",
     "text": [
      "2025-05-15 14:58:52,303 [WARNING] QObject::setParent: Cannot set parent, new parent is in a different thread\n"
     ]
    },
    {
     "name": "stderr",
     "output_type": "stream",
     "text": [
      "WARNING: QObject::setParent: Cannot set parent, new parent is in a different thread\n"
     ]
    },
    {
     "name": "stdout",
     "output_type": "stream",
     "text": [
      "2025-05-15 14:58:55,535 [WARNING] QObject::setParent: Cannot set parent, new parent is in a different thread\n"
     ]
    },
    {
     "name": "stderr",
     "output_type": "stream",
     "text": [
      "WARNING: QObject::setParent: Cannot set parent, new parent is in a different thread\n"
     ]
    },
    {
     "name": "stdout",
     "output_type": "stream",
     "text": [
      "2025-05-15 14:58:56,659 [WARNING] QObject::setParent: Cannot set parent, new parent is in a different thread\n",
      "Predicting using Micro-sam model\n"
     ]
    },
    {
     "name": "stderr",
     "output_type": "stream",
     "text": [
      "WARNING: QObject::setParent: Cannot set parent, new parent is in a different thread\n"
     ]
    },
    {
     "name": "stdout",
     "output_type": "stream",
     "text": [
      "2025-05-15 14:58:58,877 [WARNING] QObject::setParent: Cannot set parent, new parent is in a different thread\n"
     ]
    },
    {
     "name": "stderr",
     "output_type": "stream",
     "text": [
      "WARNING: QObject::setParent: Cannot set parent, new parent is in a different thread\n"
     ]
    },
    {
     "name": "stdout",
     "output_type": "stream",
     "text": [
      "2025-05-15 14:59:02,148 [WARNING] QObject::setParent: Cannot set parent, new parent is in a different thread\n"
     ]
    },
    {
     "name": "stderr",
     "output_type": "stream",
     "text": [
      "WARNING: QObject::setParent: Cannot set parent, new parent is in a different thread\n"
     ]
    },
    {
     "name": "stdout",
     "output_type": "stream",
     "text": [
      "2025-05-15 14:59:03,245 [WARNING] QObject::setParent: Cannot set parent, new parent is in a different thread\n",
      "Predicting using Micro-sam model\n"
     ]
    },
    {
     "name": "stderr",
     "output_type": "stream",
     "text": [
      "WARNING: QObject::setParent: Cannot set parent, new parent is in a different thread\n"
     ]
    },
    {
     "name": "stdout",
     "output_type": "stream",
     "text": [
      "2025-05-15 14:59:05,364 [WARNING] QObject::setParent: Cannot set parent, new parent is in a different thread\n"
     ]
    },
    {
     "name": "stderr",
     "output_type": "stream",
     "text": [
      "WARNING: QObject::setParent: Cannot set parent, new parent is in a different thread\n"
     ]
    },
    {
     "name": "stdout",
     "output_type": "stream",
     "text": [
      "2025-05-15 14:59:08,725 [WARNING] QObject::setParent: Cannot set parent, new parent is in a different thread\n"
     ]
    },
    {
     "name": "stderr",
     "output_type": "stream",
     "text": [
      "WARNING: QObject::setParent: Cannot set parent, new parent is in a different thread\n"
     ]
    },
    {
     "name": "stdout",
     "output_type": "stream",
     "text": [
      "2025-05-15 14:59:09,857 [WARNING] QObject::setParent: Cannot set parent, new parent is in a different thread\n",
      "Predicting using Micro-sam model\n"
     ]
    },
    {
     "name": "stderr",
     "output_type": "stream",
     "text": [
      "WARNING: QObject::setParent: Cannot set parent, new parent is in a different thread\n"
     ]
    },
    {
     "name": "stdout",
     "output_type": "stream",
     "text": [
      "2025-05-15 14:59:12,016 [WARNING] QObject::setParent: Cannot set parent, new parent is in a different thread\n"
     ]
    },
    {
     "name": "stderr",
     "output_type": "stream",
     "text": [
      "WARNING: QObject::setParent: Cannot set parent, new parent is in a different thread\n"
     ]
    },
    {
     "name": "stdout",
     "output_type": "stream",
     "text": [
      "2025-05-15 14:59:15,249 [WARNING] QObject::setParent: Cannot set parent, new parent is in a different thread\n"
     ]
    },
    {
     "name": "stderr",
     "output_type": "stream",
     "text": [
      "WARNING: QObject::setParent: Cannot set parent, new parent is in a different thread\n"
     ]
    },
    {
     "name": "stdout",
     "output_type": "stream",
     "text": [
      "2025-05-15 14:59:16,337 [WARNING] QObject::setParent: Cannot set parent, new parent is in a different thread\n",
      "Predicting using Micro-sam model\n"
     ]
    },
    {
     "name": "stderr",
     "output_type": "stream",
     "text": [
      "WARNING: QObject::setParent: Cannot set parent, new parent is in a different thread\n"
     ]
    },
    {
     "name": "stdout",
     "output_type": "stream",
     "text": [
      "2025-05-15 14:59:18,532 [WARNING] QObject::setParent: Cannot set parent, new parent is in a different thread\n"
     ]
    },
    {
     "name": "stderr",
     "output_type": "stream",
     "text": [
      "WARNING: QObject::setParent: Cannot set parent, new parent is in a different thread\n"
     ]
    },
    {
     "name": "stdout",
     "output_type": "stream",
     "text": [
      "2025-05-15 14:59:21,726 [WARNING] QObject::setParent: Cannot set parent, new parent is in a different thread\n"
     ]
    },
    {
     "name": "stderr",
     "output_type": "stream",
     "text": [
      "WARNING: QObject::setParent: Cannot set parent, new parent is in a different thread\n"
     ]
    },
    {
     "name": "stdout",
     "output_type": "stream",
     "text": [
      "2025-05-15 14:59:22,828 [WARNING] QObject::setParent: Cannot set parent, new parent is in a different thread\n",
      "Predicting using Micro-sam model\n"
     ]
    },
    {
     "name": "stderr",
     "output_type": "stream",
     "text": [
      "WARNING: QObject::setParent: Cannot set parent, new parent is in a different thread\n"
     ]
    },
    {
     "name": "stdout",
     "output_type": "stream",
     "text": [
      "2025-05-15 14:59:24,984 [WARNING] QObject::setParent: Cannot set parent, new parent is in a different thread\n"
     ]
    },
    {
     "name": "stderr",
     "output_type": "stream",
     "text": [
      "WARNING: QObject::setParent: Cannot set parent, new parent is in a different thread\n"
     ]
    },
    {
     "name": "stdout",
     "output_type": "stream",
     "text": [
      "2025-05-15 14:59:28,265 [WARNING] QObject::setParent: Cannot set parent, new parent is in a different thread\n"
     ]
    },
    {
     "name": "stderr",
     "output_type": "stream",
     "text": [
      "WARNING: QObject::setParent: Cannot set parent, new parent is in a different thread\n"
     ]
    },
    {
     "name": "stdout",
     "output_type": "stream",
     "text": [
      "2025-05-15 14:59:29,366 [WARNING] QObject::setParent: Cannot set parent, new parent is in a different thread\n",
      "Predicting using Micro-sam model\n"
     ]
    },
    {
     "name": "stderr",
     "output_type": "stream",
     "text": [
      "WARNING: QObject::setParent: Cannot set parent, new parent is in a different thread\n"
     ]
    },
    {
     "name": "stdout",
     "output_type": "stream",
     "text": [
      "2025-05-15 14:59:31,531 [WARNING] QObject::setParent: Cannot set parent, new parent is in a different thread\n"
     ]
    },
    {
     "name": "stderr",
     "output_type": "stream",
     "text": [
      "WARNING: QObject::setParent: Cannot set parent, new parent is in a different thread\n"
     ]
    },
    {
     "name": "stdout",
     "output_type": "stream",
     "text": [
      "2025-05-15 14:59:34,886 [WARNING] QObject::setParent: Cannot set parent, new parent is in a different thread\n"
     ]
    },
    {
     "name": "stderr",
     "output_type": "stream",
     "text": [
      "WARNING: QObject::setParent: Cannot set parent, new parent is in a different thread\n"
     ]
    },
    {
     "name": "stdout",
     "output_type": "stream",
     "text": [
      "2025-05-15 14:59:36,039 [WARNING] QObject::setParent: Cannot set parent, new parent is in a different thread\n",
      "Predicting using Micro-sam model\n"
     ]
    },
    {
     "name": "stderr",
     "output_type": "stream",
     "text": [
      "WARNING: QObject::setParent: Cannot set parent, new parent is in a different thread\n"
     ]
    },
    {
     "name": "stdout",
     "output_type": "stream",
     "text": [
      "2025-05-15 14:59:38,164 [WARNING] QObject::setParent: Cannot set parent, new parent is in a different thread\n"
     ]
    },
    {
     "name": "stderr",
     "output_type": "stream",
     "text": [
      "WARNING: QObject::setParent: Cannot set parent, new parent is in a different thread\n"
     ]
    },
    {
     "name": "stdout",
     "output_type": "stream",
     "text": [
      "2025-05-15 14:59:41,451 [WARNING] QObject::setParent: Cannot set parent, new parent is in a different thread\n"
     ]
    },
    {
     "name": "stderr",
     "output_type": "stream",
     "text": [
      "WARNING: QObject::setParent: Cannot set parent, new parent is in a different thread\n"
     ]
    },
    {
     "name": "stdout",
     "output_type": "stream",
     "text": [
      "2025-05-15 14:59:42,590 [WARNING] QObject::setParent: Cannot set parent, new parent is in a different thread\n",
      "Predicting using Micro-sam model\n"
     ]
    },
    {
     "name": "stderr",
     "output_type": "stream",
     "text": [
      "WARNING: QObject::setParent: Cannot set parent, new parent is in a different thread\n"
     ]
    },
    {
     "name": "stdout",
     "output_type": "stream",
     "text": [
      "2025-05-15 14:59:44,717 [WARNING] QObject::setParent: Cannot set parent, new parent is in a different thread\n"
     ]
    },
    {
     "name": "stderr",
     "output_type": "stream",
     "text": [
      "WARNING: QObject::setParent: Cannot set parent, new parent is in a different thread\n"
     ]
    },
    {
     "name": "stdout",
     "output_type": "stream",
     "text": [
      "2025-05-15 14:59:47,907 [WARNING] QObject::setParent: Cannot set parent, new parent is in a different thread\n"
     ]
    },
    {
     "name": "stderr",
     "output_type": "stream",
     "text": [
      "WARNING: QObject::setParent: Cannot set parent, new parent is in a different thread\n"
     ]
    },
    {
     "name": "stdout",
     "output_type": "stream",
     "text": [
      "2025-05-15 14:59:49,018 [WARNING] QObject::setParent: Cannot set parent, new parent is in a different thread\n",
      "Predicting using Micro-sam model\n"
     ]
    },
    {
     "name": "stderr",
     "output_type": "stream",
     "text": [
      "WARNING: QObject::setParent: Cannot set parent, new parent is in a different thread\n"
     ]
    },
    {
     "name": "stdout",
     "output_type": "stream",
     "text": [
      "2025-05-15 14:59:52,066 [WARNING] QObject::setParent: Cannot set parent, new parent is in a different thread\n"
     ]
    },
    {
     "name": "stderr",
     "output_type": "stream",
     "text": [
      "WARNING: QObject::setParent: Cannot set parent, new parent is in a different thread\n"
     ]
    },
    {
     "name": "stdout",
     "output_type": "stream",
     "text": [
      "2025-05-15 14:59:55,295 [WARNING] QObject::setParent: Cannot set parent, new parent is in a different thread\n"
     ]
    },
    {
     "name": "stderr",
     "output_type": "stream",
     "text": [
      "WARNING: QObject::setParent: Cannot set parent, new parent is in a different thread\n"
     ]
    },
    {
     "name": "stdout",
     "output_type": "stream",
     "text": [
      "2025-05-15 14:59:56,398 [WARNING] QObject::setParent: Cannot set parent, new parent is in a different thread\n",
      "Predicting using Micro-sam model\n"
     ]
    },
    {
     "name": "stderr",
     "output_type": "stream",
     "text": [
      "WARNING: QObject::setParent: Cannot set parent, new parent is in a different thread\n"
     ]
    },
    {
     "name": "stdout",
     "output_type": "stream",
     "text": [
      "2025-05-15 14:59:58,544 [WARNING] QObject::setParent: Cannot set parent, new parent is in a different thread\n"
     ]
    },
    {
     "name": "stderr",
     "output_type": "stream",
     "text": [
      "WARNING: QObject::setParent: Cannot set parent, new parent is in a different thread\n"
     ]
    },
    {
     "name": "stdout",
     "output_type": "stream",
     "text": [
      "2025-05-15 15:00:01,954 [WARNING] QObject::setParent: Cannot set parent, new parent is in a different thread\n"
     ]
    },
    {
     "name": "stderr",
     "output_type": "stream",
     "text": [
      "WARNING: QObject::setParent: Cannot set parent, new parent is in a different thread\n"
     ]
    },
    {
     "name": "stdout",
     "output_type": "stream",
     "text": [
      "2025-05-15 15:00:03,073 [WARNING] QObject::setParent: Cannot set parent, new parent is in a different thread\n",
      "Predicting using Micro-sam model\n"
     ]
    },
    {
     "name": "stderr",
     "output_type": "stream",
     "text": [
      "WARNING: QObject::setParent: Cannot set parent, new parent is in a different thread\n"
     ]
    },
    {
     "name": "stdout",
     "output_type": "stream",
     "text": [
      "2025-05-15 15:00:05,214 [WARNING] QObject::setParent: Cannot set parent, new parent is in a different thread\n"
     ]
    },
    {
     "name": "stderr",
     "output_type": "stream",
     "text": [
      "WARNING: QObject::setParent: Cannot set parent, new parent is in a different thread\n"
     ]
    },
    {
     "name": "stdout",
     "output_type": "stream",
     "text": [
      "2025-05-15 15:00:08,577 [WARNING] QObject::setParent: Cannot set parent, new parent is in a different thread\n"
     ]
    },
    {
     "name": "stderr",
     "output_type": "stream",
     "text": [
      "WARNING: QObject::setParent: Cannot set parent, new parent is in a different thread\n"
     ]
    },
    {
     "name": "stdout",
     "output_type": "stream",
     "text": [
      "2025-05-15 15:00:09,713 [WARNING] QObject::setParent: Cannot set parent, new parent is in a different thread\n",
      "Predicting using Micro-sam model\n"
     ]
    },
    {
     "name": "stderr",
     "output_type": "stream",
     "text": [
      "WARNING: QObject::setParent: Cannot set parent, new parent is in a different thread\n"
     ]
    },
    {
     "name": "stdout",
     "output_type": "stream",
     "text": [
      "2025-05-15 15:00:11,897 [WARNING] QObject::setParent: Cannot set parent, new parent is in a different thread\n"
     ]
    },
    {
     "name": "stderr",
     "output_type": "stream",
     "text": [
      "WARNING: QObject::setParent: Cannot set parent, new parent is in a different thread\n"
     ]
    },
    {
     "name": "stdout",
     "output_type": "stream",
     "text": [
      "2025-05-15 15:00:15,091 [WARNING] QObject::setParent: Cannot set parent, new parent is in a different thread\n"
     ]
    },
    {
     "name": "stderr",
     "output_type": "stream",
     "text": [
      "WARNING: QObject::setParent: Cannot set parent, new parent is in a different thread\n"
     ]
    },
    {
     "name": "stdout",
     "output_type": "stream",
     "text": [
      "2025-05-15 15:00:16,181 [WARNING] QObject::setParent: Cannot set parent, new parent is in a different thread\n",
      "Predicting using Micro-sam model\n"
     ]
    },
    {
     "name": "stderr",
     "output_type": "stream",
     "text": [
      "WARNING: QObject::setParent: Cannot set parent, new parent is in a different thread\n"
     ]
    },
    {
     "name": "stdout",
     "output_type": "stream",
     "text": [
      "2025-05-15 15:00:18,323 [WARNING] QObject::setParent: Cannot set parent, new parent is in a different thread\n"
     ]
    },
    {
     "name": "stderr",
     "output_type": "stream",
     "text": [
      "WARNING: QObject::setParent: Cannot set parent, new parent is in a different thread\n"
     ]
    },
    {
     "name": "stdout",
     "output_type": "stream",
     "text": [
      "2025-05-15 15:00:21,697 [WARNING] QObject::setParent: Cannot set parent, new parent is in a different thread\n"
     ]
    },
    {
     "name": "stderr",
     "output_type": "stream",
     "text": [
      "WARNING: QObject::setParent: Cannot set parent, new parent is in a different thread\n"
     ]
    },
    {
     "name": "stdout",
     "output_type": "stream",
     "text": [
      "2025-05-15 15:00:22,803 [WARNING] QObject::setParent: Cannot set parent, new parent is in a different thread\n",
      "Predicting using Micro-sam model\n"
     ]
    },
    {
     "name": "stderr",
     "output_type": "stream",
     "text": [
      "WARNING: QObject::setParent: Cannot set parent, new parent is in a different thread\n"
     ]
    },
    {
     "name": "stdout",
     "output_type": "stream",
     "text": [
      "2025-05-15 15:00:24,925 [WARNING] QObject::setParent: Cannot set parent, new parent is in a different thread\n"
     ]
    },
    {
     "name": "stderr",
     "output_type": "stream",
     "text": [
      "WARNING: QObject::setParent: Cannot set parent, new parent is in a different thread\n"
     ]
    },
    {
     "name": "stdout",
     "output_type": "stream",
     "text": [
      "2025-05-15 15:00:28,195 [WARNING] QObject::setParent: Cannot set parent, new parent is in a different thread\n"
     ]
    },
    {
     "name": "stderr",
     "output_type": "stream",
     "text": [
      "WARNING: QObject::setParent: Cannot set parent, new parent is in a different thread\n"
     ]
    },
    {
     "name": "stdout",
     "output_type": "stream",
     "text": [
      "2025-05-15 15:00:29,347 [WARNING] QObject::setParent: Cannot set parent, new parent is in a different thread\n",
      "Predicting using Micro-sam model\n"
     ]
    },
    {
     "name": "stderr",
     "output_type": "stream",
     "text": [
      "WARNING: QObject::setParent: Cannot set parent, new parent is in a different thread\n"
     ]
    },
    {
     "name": "stdout",
     "output_type": "stream",
     "text": [
      "2025-05-15 15:00:31,488 [WARNING] QObject::setParent: Cannot set parent, new parent is in a different thread\n"
     ]
    },
    {
     "name": "stderr",
     "output_type": "stream",
     "text": [
      "WARNING: QObject::setParent: Cannot set parent, new parent is in a different thread\n"
     ]
    },
    {
     "name": "stdout",
     "output_type": "stream",
     "text": [
      "2025-05-15 15:00:34,682 [WARNING] QObject::setParent: Cannot set parent, new parent is in a different thread\n"
     ]
    },
    {
     "name": "stderr",
     "output_type": "stream",
     "text": [
      "WARNING: QObject::setParent: Cannot set parent, new parent is in a different thread\n"
     ]
    },
    {
     "name": "stdout",
     "output_type": "stream",
     "text": [
      "2025-05-15 15:00:35,814 [WARNING] QObject::setParent: Cannot set parent, new parent is in a different thread\n",
      "Predicting using Micro-sam model\n"
     ]
    },
    {
     "name": "stderr",
     "output_type": "stream",
     "text": [
      "WARNING: QObject::setParent: Cannot set parent, new parent is in a different thread\n"
     ]
    },
    {
     "name": "stdout",
     "output_type": "stream",
     "text": [
      "2025-05-15 15:00:38,018 [WARNING] QObject::setParent: Cannot set parent, new parent is in a different thread\n"
     ]
    },
    {
     "name": "stderr",
     "output_type": "stream",
     "text": [
      "WARNING: QObject::setParent: Cannot set parent, new parent is in a different thread\n"
     ]
    },
    {
     "name": "stdout",
     "output_type": "stream",
     "text": [
      "2025-05-15 15:00:41,315 [WARNING] QObject::setParent: Cannot set parent, new parent is in a different thread\n"
     ]
    },
    {
     "name": "stderr",
     "output_type": "stream",
     "text": [
      "WARNING: QObject::setParent: Cannot set parent, new parent is in a different thread\n"
     ]
    },
    {
     "name": "stdout",
     "output_type": "stream",
     "text": [
      "2025-05-15 15:00:42,433 [WARNING] QObject::setParent: Cannot set parent, new parent is in a different thread\n",
      "Predicting using Micro-sam model\n"
     ]
    },
    {
     "name": "stderr",
     "output_type": "stream",
     "text": [
      "WARNING: QObject::setParent: Cannot set parent, new parent is in a different thread\n"
     ]
    },
    {
     "name": "stdout",
     "output_type": "stream",
     "text": [
      "2025-05-15 15:00:44,612 [WARNING] QObject::setParent: Cannot set parent, new parent is in a different thread\n"
     ]
    },
    {
     "name": "stderr",
     "output_type": "stream",
     "text": [
      "WARNING: QObject::setParent: Cannot set parent, new parent is in a different thread\n"
     ]
    },
    {
     "name": "stdout",
     "output_type": "stream",
     "text": [
      "2025-05-15 15:00:55,787 [WARNING] QObject::setParent: Cannot set parent, new parent is in a different thread\n"
     ]
    },
    {
     "name": "stderr",
     "output_type": "stream",
     "text": [
      "WARNING: QObject::setParent: Cannot set parent, new parent is in a different thread\n"
     ]
    },
    {
     "name": "stdout",
     "output_type": "stream",
     "text": [
      "2025-05-15 15:01:00,028 [WARNING] QObject::setParent: Cannot set parent, new parent is in a different thread\n",
      "Deleted file: D:\\images\\tnia-python-images\\imagesc\\2024_10_11_tough_cellpose_2\\labels\\input0\\img153_0.json\n",
      "Deleted file: D:\\images\\tnia-python-images\\imagesc\\2024_10_11_tough_cellpose_2\\labels\\input0\\img153_0.tif\n",
      "Deleted file: D:\\images\\tnia-python-images\\imagesc\\2024_10_11_tough_cellpose_2\\labels\\input0\\img154_0.json\n",
      "Deleted file: D:\\images\\tnia-python-images\\imagesc\\2024_10_11_tough_cellpose_2\\labels\\input0\\img154_0.tif\n",
      "Deleted file: D:\\images\\tnia-python-images\\imagesc\\2024_10_11_tough_cellpose_2\\labels\\input0\\img220_0.json\n",
      "Deleted file: D:\\images\\tnia-python-images\\imagesc\\2024_10_11_tough_cellpose_2\\labels\\input0\\img220_0.tif\n",
      "Deleted file: D:\\images\\tnia-python-images\\imagesc\\2024_10_11_tough_cellpose_2\\labels\\input0\\img249_0.json\n",
      "Deleted file: D:\\images\\tnia-python-images\\imagesc\\2024_10_11_tough_cellpose_2\\labels\\input0\\img249_0.tif\n",
      "Deleted file: D:\\images\\tnia-python-images\\imagesc\\2024_10_11_tough_cellpose_2\\labels\\input0\\img260_0.json\n",
      "Deleted file: D:\\images\\tnia-python-images\\imagesc\\2024_10_11_tough_cellpose_2\\labels\\input0\\img260_0.tif\n",
      "Deleted file: D:\\images\\tnia-python-images\\imagesc\\2024_10_11_tough_cellpose_2\\labels\\input0\\img291_0.json\n",
      "Deleted file: D:\\images\\tnia-python-images\\imagesc\\2024_10_11_tough_cellpose_2\\labels\\input0\\img291_0.tif\n",
      "Deleted file: D:\\images\\tnia-python-images\\imagesc\\2024_10_11_tough_cellpose_2\\labels\\input0\\img309_0.json\n",
      "Deleted file: D:\\images\\tnia-python-images\\imagesc\\2024_10_11_tough_cellpose_2\\labels\\input0\\img309_0.tif\n",
      "Deleted file: D:\\images\\tnia-python-images\\imagesc\\2024_10_11_tough_cellpose_2\\labels\\input0\\img314_0.json\n",
      "Deleted file: D:\\images\\tnia-python-images\\imagesc\\2024_10_11_tough_cellpose_2\\labels\\input0\\img314_0.tif\n",
      "Deleted file: D:\\images\\tnia-python-images\\imagesc\\2024_10_11_tough_cellpose_2\\labels\\input0\\img350_0.json\n",
      "Deleted file: D:\\images\\tnia-python-images\\imagesc\\2024_10_11_tough_cellpose_2\\labels\\input0\\img350_0.tif\n",
      "Deleted file: D:\\images\\tnia-python-images\\imagesc\\2024_10_11_tough_cellpose_2\\labels\\input0\\img47_0.json\n",
      "Deleted file: D:\\images\\tnia-python-images\\imagesc\\2024_10_11_tough_cellpose_2\\labels\\input0\\img47_0.tif\n",
      "Deleted file: D:\\images\\tnia-python-images\\imagesc\\2024_10_11_tough_cellpose_2\\labels\\input0\\img492_0.json\n",
      "Deleted file: D:\\images\\tnia-python-images\\imagesc\\2024_10_11_tough_cellpose_2\\labels\\input0\\img492_0.tif\n",
      "Deleted file: D:\\images\\tnia-python-images\\imagesc\\2024_10_11_tough_cellpose_2\\labels\\input0\\img54_0.json\n",
      "Deleted file: D:\\images\\tnia-python-images\\imagesc\\2024_10_11_tough_cellpose_2\\labels\\input0\\img54_0.tif\n",
      "Deleted file: D:\\images\\tnia-python-images\\imagesc\\2024_10_11_tough_cellpose_2\\labels\\ground truth0\\img153_0.tif\n",
      "Deleted file: D:\\images\\tnia-python-images\\imagesc\\2024_10_11_tough_cellpose_2\\labels\\ground truth0\\img154_0.tif\n",
      "Deleted file: D:\\images\\tnia-python-images\\imagesc\\2024_10_11_tough_cellpose_2\\labels\\ground truth0\\img220_0.tif\n",
      "Deleted file: D:\\images\\tnia-python-images\\imagesc\\2024_10_11_tough_cellpose_2\\labels\\ground truth0\\img249_0.tif\n",
      "Deleted file: D:\\images\\tnia-python-images\\imagesc\\2024_10_11_tough_cellpose_2\\labels\\ground truth0\\img260_0.tif\n",
      "Deleted file: D:\\images\\tnia-python-images\\imagesc\\2024_10_11_tough_cellpose_2\\labels\\ground truth0\\img291_0.tif\n",
      "Deleted file: D:\\images\\tnia-python-images\\imagesc\\2024_10_11_tough_cellpose_2\\labels\\ground truth0\\img309_0.tif\n",
      "Deleted file: D:\\images\\tnia-python-images\\imagesc\\2024_10_11_tough_cellpose_2\\labels\\ground truth0\\img314_0.tif\n",
      "Deleted file: D:\\images\\tnia-python-images\\imagesc\\2024_10_11_tough_cellpose_2\\labels\\ground truth0\\img350_0.tif\n",
      "Deleted file: D:\\images\\tnia-python-images\\imagesc\\2024_10_11_tough_cellpose_2\\labels\\ground truth0\\img47_0.tif\n",
      "Deleted file: D:\\images\\tnia-python-images\\imagesc\\2024_10_11_tough_cellpose_2\\labels\\ground truth0\\img492_0.tif\n",
      "Deleted file: D:\\images\\tnia-python-images\\imagesc\\2024_10_11_tough_cellpose_2\\labels\\ground truth0\\img54_0.tif\n",
      "image file is  D:\\images\\tnia-python-images\\imagesc\\2024_10_11_tough_cellpose_2\\img153.tif\n",
      "labelsum is  1204997\n",
      "(712, 730, 3) (712, 730)\n",
      "img153_00000\n",
      "D:\\images\\tnia-python-images\\imagesc\\2024_10_11_tough_cellpose_2\\labels\\input0/img153_00000.tif\n",
      "D:\\images\\tnia-python-images\\imagesc\\2024_10_11_tough_cellpose_2\\labels\\ground truth0/img153_00000.tif\n",
      "D:\\images\\tnia-python-images\\imagesc\\2024_10_11_tough_cellpose_2\\labels\\input0/img153_00000.tif\n",
      "D:\\images\\tnia-python-images\\imagesc\\2024_10_11_tough_cellpose_2\\labels\\ground truth0\n",
      "image file is  D:\\images\\tnia-python-images\\imagesc\\2024_10_11_tough_cellpose_2\\img154.tif\n",
      "labelsum is  3093759\n",
      "(716, 735, 3) (716, 735)\n",
      "img154_00000\n",
      "D:\\images\\tnia-python-images\\imagesc\\2024_10_11_tough_cellpose_2\\labels\\input0/img154_00000.tif\n",
      "D:\\images\\tnia-python-images\\imagesc\\2024_10_11_tough_cellpose_2\\labels\\ground truth0/img154_00000.tif\n",
      "D:\\images\\tnia-python-images\\imagesc\\2024_10_11_tough_cellpose_2\\labels\\input0/img154_00000.tif\n",
      "D:\\images\\tnia-python-images\\imagesc\\2024_10_11_tough_cellpose_2\\labels\\ground truth0\n",
      "image file is  D:\\images\\tnia-python-images\\imagesc\\2024_10_11_tough_cellpose_2\\img220.tif\n",
      "labelsum is  3271744\n",
      "(733, 740, 3) (733, 740)\n",
      "img220_00000\n",
      "D:\\images\\tnia-python-images\\imagesc\\2024_10_11_tough_cellpose_2\\labels\\input0/img220_00000.tif\n",
      "D:\\images\\tnia-python-images\\imagesc\\2024_10_11_tough_cellpose_2\\labels\\ground truth0/img220_00000.tif\n",
      "D:\\images\\tnia-python-images\\imagesc\\2024_10_11_tough_cellpose_2\\labels\\input0/img220_00000.tif\n",
      "D:\\images\\tnia-python-images\\imagesc\\2024_10_11_tough_cellpose_2\\labels\\ground truth0\n",
      "image file is  D:\\images\\tnia-python-images\\imagesc\\2024_10_11_tough_cellpose_2\\img249.tif\n",
      "labelsum is  279380\n",
      "(703, 735, 3) (703, 735)\n",
      "img249_00000\n",
      "D:\\images\\tnia-python-images\\imagesc\\2024_10_11_tough_cellpose_2\\labels\\input0/img249_00000.tif\n",
      "D:\\images\\tnia-python-images\\imagesc\\2024_10_11_tough_cellpose_2\\labels\\ground truth0/img249_00000.tif\n",
      "D:\\images\\tnia-python-images\\imagesc\\2024_10_11_tough_cellpose_2\\labels\\input0/img249_00000.tif\n",
      "D:\\images\\tnia-python-images\\imagesc\\2024_10_11_tough_cellpose_2\\labels\\ground truth0\n",
      "image file is  D:\\images\\tnia-python-images\\imagesc\\2024_10_11_tough_cellpose_2\\img260.tif\n",
      "labelsum is  205141\n",
      "(611, 732, 3) (611, 732)\n",
      "img260_00000\n",
      "D:\\images\\tnia-python-images\\imagesc\\2024_10_11_tough_cellpose_2\\labels\\input0/img260_00000.tif\n",
      "D:\\images\\tnia-python-images\\imagesc\\2024_10_11_tough_cellpose_2\\labels\\ground truth0/img260_00000.tif\n",
      "D:\\images\\tnia-python-images\\imagesc\\2024_10_11_tough_cellpose_2\\labels\\input0/img260_00000.tif\n",
      "D:\\images\\tnia-python-images\\imagesc\\2024_10_11_tough_cellpose_2\\labels\\ground truth0\n",
      "image file is  D:\\images\\tnia-python-images\\imagesc\\2024_10_11_tough_cellpose_2\\img291.tif\n",
      "labelsum is  1535543\n",
      "(699, 735, 3) (699, 735)\n",
      "img291_00000\n",
      "D:\\images\\tnia-python-images\\imagesc\\2024_10_11_tough_cellpose_2\\labels\\input0/img291_00000.tif\n",
      "D:\\images\\tnia-python-images\\imagesc\\2024_10_11_tough_cellpose_2\\labels\\ground truth0/img291_00000.tif\n",
      "D:\\images\\tnia-python-images\\imagesc\\2024_10_11_tough_cellpose_2\\labels\\input0/img291_00000.tif\n",
      "D:\\images\\tnia-python-images\\imagesc\\2024_10_11_tough_cellpose_2\\labels\\ground truth0\n",
      "image file is  D:\\images\\tnia-python-images\\imagesc\\2024_10_11_tough_cellpose_2\\img309.tif\n",
      "labelsum is  1630016\n",
      "(704, 719, 3) (704, 719)\n",
      "img309_00000\n",
      "D:\\images\\tnia-python-images\\imagesc\\2024_10_11_tough_cellpose_2\\labels\\input0/img309_00000.tif\n",
      "D:\\images\\tnia-python-images\\imagesc\\2024_10_11_tough_cellpose_2\\labels\\ground truth0/img309_00000.tif\n",
      "D:\\images\\tnia-python-images\\imagesc\\2024_10_11_tough_cellpose_2\\labels\\input0/img309_00000.tif\n",
      "D:\\images\\tnia-python-images\\imagesc\\2024_10_11_tough_cellpose_2\\labels\\ground truth0\n",
      "image file is  D:\\images\\tnia-python-images\\imagesc\\2024_10_11_tough_cellpose_2\\img314.tif\n",
      "labelsum is  4378541\n",
      "(714, 728, 3) (714, 728)\n",
      "img314_00000\n",
      "D:\\images\\tnia-python-images\\imagesc\\2024_10_11_tough_cellpose_2\\labels\\input0/img314_00000.tif\n",
      "D:\\images\\tnia-python-images\\imagesc\\2024_10_11_tough_cellpose_2\\labels\\ground truth0/img314_00000.tif\n",
      "D:\\images\\tnia-python-images\\imagesc\\2024_10_11_tough_cellpose_2\\labels\\input0/img314_00000.tif\n",
      "D:\\images\\tnia-python-images\\imagesc\\2024_10_11_tough_cellpose_2\\labels\\ground truth0\n",
      "image file is  D:\\images\\tnia-python-images\\imagesc\\2024_10_11_tough_cellpose_2\\img350.tif\n",
      "labelsum is  5132186\n",
      "(715, 724, 3) (715, 724)\n",
      "img350_00000\n",
      "D:\\images\\tnia-python-images\\imagesc\\2024_10_11_tough_cellpose_2\\labels\\input0/img350_00000.tif\n",
      "D:\\images\\tnia-python-images\\imagesc\\2024_10_11_tough_cellpose_2\\labels\\ground truth0/img350_00000.tif\n",
      "D:\\images\\tnia-python-images\\imagesc\\2024_10_11_tough_cellpose_2\\labels\\input0/img350_00000.tif\n",
      "D:\\images\\tnia-python-images\\imagesc\\2024_10_11_tough_cellpose_2\\labels\\ground truth0\n",
      "image file is  D:\\images\\tnia-python-images\\imagesc\\2024_10_11_tough_cellpose_2\\img47.tif\n",
      "labelsum is  6437880\n",
      "(698, 739, 3) (698, 739)\n",
      "img47_00000\n",
      "D:\\images\\tnia-python-images\\imagesc\\2024_10_11_tough_cellpose_2\\labels\\input0/img47_00000.tif\n",
      "D:\\images\\tnia-python-images\\imagesc\\2024_10_11_tough_cellpose_2\\labels\\ground truth0/img47_00000.tif\n"
     ]
    },
    {
     "name": "stderr",
     "output_type": "stream",
     "text": [
      "c:\\Users\\bnort\\miniconda3\\envs\\microsam_cellose_sam\\Lib\\site-packages\\skimage\\_shared\\utils.py:328: UserWarning: D:\\images\\tnia-python-images\\imagesc\\2024_10_11_tough_cellpose_2\\labels\\ground truth0\\img153_00000.tif is a low contrast image\n",
      "  return func(*args, **kwargs)\n",
      "c:\\Users\\bnort\\miniconda3\\envs\\microsam_cellose_sam\\Lib\\site-packages\\skimage\\_shared\\utils.py:328: UserWarning: D:\\images\\tnia-python-images\\imagesc\\2024_10_11_tough_cellpose_2\\labels\\ground truth0\\img154_00000.tif is a low contrast image\n",
      "  return func(*args, **kwargs)\n",
      "c:\\Users\\bnort\\miniconda3\\envs\\microsam_cellose_sam\\Lib\\site-packages\\skimage\\_shared\\utils.py:328: UserWarning: D:\\images\\tnia-python-images\\imagesc\\2024_10_11_tough_cellpose_2\\labels\\ground truth0\\img220_00000.tif is a low contrast image\n",
      "  return func(*args, **kwargs)\n",
      "c:\\Users\\bnort\\miniconda3\\envs\\microsam_cellose_sam\\Lib\\site-packages\\skimage\\_shared\\utils.py:328: UserWarning: D:\\images\\tnia-python-images\\imagesc\\2024_10_11_tough_cellpose_2\\labels\\ground truth0\\img249_00000.tif is a low contrast image\n",
      "  return func(*args, **kwargs)\n",
      "c:\\Users\\bnort\\miniconda3\\envs\\microsam_cellose_sam\\Lib\\site-packages\\skimage\\_shared\\utils.py:328: UserWarning: D:\\images\\tnia-python-images\\imagesc\\2024_10_11_tough_cellpose_2\\labels\\ground truth0\\img260_00000.tif is a low contrast image\n",
      "  return func(*args, **kwargs)\n",
      "c:\\Users\\bnort\\miniconda3\\envs\\microsam_cellose_sam\\Lib\\site-packages\\skimage\\_shared\\utils.py:328: UserWarning: D:\\images\\tnia-python-images\\imagesc\\2024_10_11_tough_cellpose_2\\labels\\ground truth0\\img291_00000.tif is a low contrast image\n",
      "  return func(*args, **kwargs)\n",
      "c:\\Users\\bnort\\miniconda3\\envs\\microsam_cellose_sam\\Lib\\site-packages\\skimage\\_shared\\utils.py:328: UserWarning: D:\\images\\tnia-python-images\\imagesc\\2024_10_11_tough_cellpose_2\\labels\\ground truth0\\img309_00000.tif is a low contrast image\n",
      "  return func(*args, **kwargs)\n",
      "c:\\Users\\bnort\\miniconda3\\envs\\microsam_cellose_sam\\Lib\\site-packages\\skimage\\_shared\\utils.py:328: UserWarning: D:\\images\\tnia-python-images\\imagesc\\2024_10_11_tough_cellpose_2\\labels\\ground truth0\\img314_00000.tif is a low contrast image\n",
      "  return func(*args, **kwargs)\n",
      "c:\\Users\\bnort\\miniconda3\\envs\\microsam_cellose_sam\\Lib\\site-packages\\skimage\\_shared\\utils.py:328: UserWarning: D:\\images\\tnia-python-images\\imagesc\\2024_10_11_tough_cellpose_2\\labels\\ground truth0\\img350_00000.tif is a low contrast image\n",
      "  return func(*args, **kwargs)\n"
     ]
    },
    {
     "name": "stdout",
     "output_type": "stream",
     "text": [
      "D:\\images\\tnia-python-images\\imagesc\\2024_10_11_tough_cellpose_2\\labels\\input0/img47_00000.tif\n",
      "D:\\images\\tnia-python-images\\imagesc\\2024_10_11_tough_cellpose_2\\labels\\ground truth0\n",
      "image file is  D:\\images\\tnia-python-images\\imagesc\\2024_10_11_tough_cellpose_2\\img492.tif\n",
      "labelsum is  1456803\n",
      "(725, 721, 3) (725, 721)\n",
      "img492_00000\n",
      "D:\\images\\tnia-python-images\\imagesc\\2024_10_11_tough_cellpose_2\\labels\\input0/img492_00000.tif\n",
      "D:\\images\\tnia-python-images\\imagesc\\2024_10_11_tough_cellpose_2\\labels\\ground truth0/img492_00000.tif\n",
      "D:\\images\\tnia-python-images\\imagesc\\2024_10_11_tough_cellpose_2\\labels\\input0/img492_00000.tif\n",
      "D:\\images\\tnia-python-images\\imagesc\\2024_10_11_tough_cellpose_2\\labels\\ground truth0\n",
      "image file is  D:\\images\\tnia-python-images\\imagesc\\2024_10_11_tough_cellpose_2\\img54.tif\n",
      "labelsum is  2328374\n",
      "(721, 739, 3) (721, 739)\n",
      "img54_00000\n",
      "D:\\images\\tnia-python-images\\imagesc\\2024_10_11_tough_cellpose_2\\labels\\input0/img54_00000.tif\n",
      "D:\\images\\tnia-python-images\\imagesc\\2024_10_11_tough_cellpose_2\\labels\\ground truth0/img54_00000.tif\n",
      "D:\\images\\tnia-python-images\\imagesc\\2024_10_11_tough_cellpose_2\\labels\\input0/img54_00000.tif\n",
      "D:\\images\\tnia-python-images\\imagesc\\2024_10_11_tough_cellpose_2\\labels\\ground truth0\n"
     ]
    },
    {
     "name": "stderr",
     "output_type": "stream",
     "text": [
      "c:\\Users\\bnort\\miniconda3\\envs\\microsam_cellose_sam\\Lib\\site-packages\\skimage\\_shared\\utils.py:328: UserWarning: D:\\images\\tnia-python-images\\imagesc\\2024_10_11_tough_cellpose_2\\labels\\ground truth0\\img47_00000.tif is a low contrast image\n",
      "  return func(*args, **kwargs)\n",
      "c:\\Users\\bnort\\miniconda3\\envs\\microsam_cellose_sam\\Lib\\site-packages\\skimage\\_shared\\utils.py:328: UserWarning: D:\\images\\tnia-python-images\\imagesc\\2024_10_11_tough_cellpose_2\\labels\\ground truth0\\img492_00000.tif is a low contrast image\n",
      "  return func(*args, **kwargs)\n",
      "c:\\Users\\bnort\\miniconda3\\envs\\microsam_cellose_sam\\Lib\\site-packages\\skimage\\_shared\\utils.py:328: UserWarning: D:\\images\\tnia-python-images\\imagesc\\2024_10_11_tough_cellpose_2\\labels\\ground truth0\\img54_00000.tif is a low contrast image\n",
      "  return func(*args, **kwargs)\n",
      "c:\\Users\\bnort\\miniconda3\\envs\\microsam_cellose_sam\\Lib\\site-packages\\skimage\\_shared\\utils.py:328: UserWarning: D:\\images\\tnia-python-images\\imagesc\\2024_10_11_tough_cellpose_2\\annotations\\class_0\\img101.tif is a low contrast image\n",
      "  return func(*args, **kwargs)\n",
      "c:\\Users\\bnort\\miniconda3\\envs\\microsam_cellose_sam\\Lib\\site-packages\\skimage\\_shared\\utils.py:328: UserWarning: D:\\images\\tnia-python-images\\imagesc\\2024_10_11_tough_cellpose_2\\predictions\\class_0\\img101.tif is a low contrast image\n",
      "  return func(*args, **kwargs)\n",
      "c:\\Users\\bnort\\miniconda3\\envs\\microsam_cellose_sam\\Lib\\site-packages\\skimage\\_shared\\utils.py:328: UserWarning: D:\\images\\tnia-python-images\\imagesc\\2024_10_11_tough_cellpose_2\\annotations\\class_0\\img102.tif is a low contrast image\n",
      "  return func(*args, **kwargs)\n",
      "c:\\Users\\bnort\\miniconda3\\envs\\microsam_cellose_sam\\Lib\\site-packages\\skimage\\_shared\\utils.py:328: UserWarning: D:\\images\\tnia-python-images\\imagesc\\2024_10_11_tough_cellpose_2\\predictions\\class_0\\img102.tif is a low contrast image\n",
      "  return func(*args, **kwargs)\n",
      "c:\\Users\\bnort\\miniconda3\\envs\\microsam_cellose_sam\\Lib\\site-packages\\skimage\\_shared\\utils.py:328: UserWarning: D:\\images\\tnia-python-images\\imagesc\\2024_10_11_tough_cellpose_2\\annotations\\class_0\\img103.tif is a low contrast image\n",
      "  return func(*args, **kwargs)\n",
      "c:\\Users\\bnort\\miniconda3\\envs\\microsam_cellose_sam\\Lib\\site-packages\\skimage\\_shared\\utils.py:328: UserWarning: D:\\images\\tnia-python-images\\imagesc\\2024_10_11_tough_cellpose_2\\predictions\\class_0\\img103.tif is a low contrast image\n",
      "  return func(*args, **kwargs)\n",
      "c:\\Users\\bnort\\miniconda3\\envs\\microsam_cellose_sam\\Lib\\site-packages\\skimage\\_shared\\utils.py:328: UserWarning: D:\\images\\tnia-python-images\\imagesc\\2024_10_11_tough_cellpose_2\\annotations\\class_0\\img104.tif is a low contrast image\n",
      "  return func(*args, **kwargs)\n",
      "c:\\Users\\bnort\\miniconda3\\envs\\microsam_cellose_sam\\Lib\\site-packages\\skimage\\_shared\\utils.py:328: UserWarning: D:\\images\\tnia-python-images\\imagesc\\2024_10_11_tough_cellpose_2\\predictions\\class_0\\img104.tif is a low contrast image\n",
      "  return func(*args, **kwargs)\n",
      "c:\\Users\\bnort\\miniconda3\\envs\\microsam_cellose_sam\\Lib\\site-packages\\skimage\\_shared\\utils.py:328: UserWarning: D:\\images\\tnia-python-images\\imagesc\\2024_10_11_tough_cellpose_2\\annotations\\class_0\\img105.tif is a low contrast image\n",
      "  return func(*args, **kwargs)\n",
      "c:\\Users\\bnort\\miniconda3\\envs\\microsam_cellose_sam\\Lib\\site-packages\\skimage\\_shared\\utils.py:328: UserWarning: D:\\images\\tnia-python-images\\imagesc\\2024_10_11_tough_cellpose_2\\predictions\\class_0\\img105.tif is a low contrast image\n",
      "  return func(*args, **kwargs)\n",
      "c:\\Users\\bnort\\miniconda3\\envs\\microsam_cellose_sam\\Lib\\site-packages\\skimage\\_shared\\utils.py:328: UserWarning: D:\\images\\tnia-python-images\\imagesc\\2024_10_11_tough_cellpose_2\\annotations\\class_0\\img110.tif is a low contrast image\n",
      "  return func(*args, **kwargs)\n",
      "c:\\Users\\bnort\\miniconda3\\envs\\microsam_cellose_sam\\Lib\\site-packages\\skimage\\_shared\\utils.py:328: UserWarning: D:\\images\\tnia-python-images\\imagesc\\2024_10_11_tough_cellpose_2\\predictions\\class_0\\img110.tif is a low contrast image\n",
      "  return func(*args, **kwargs)\n",
      "c:\\Users\\bnort\\miniconda3\\envs\\microsam_cellose_sam\\Lib\\site-packages\\skimage\\_shared\\utils.py:328: UserWarning: D:\\images\\tnia-python-images\\imagesc\\2024_10_11_tough_cellpose_2\\annotations\\class_0\\img111.tif is a low contrast image\n",
      "  return func(*args, **kwargs)\n",
      "c:\\Users\\bnort\\miniconda3\\envs\\microsam_cellose_sam\\Lib\\site-packages\\skimage\\_shared\\utils.py:328: UserWarning: D:\\images\\tnia-python-images\\imagesc\\2024_10_11_tough_cellpose_2\\predictions\\class_0\\img111.tif is a low contrast image\n",
      "  return func(*args, **kwargs)\n",
      "c:\\Users\\bnort\\miniconda3\\envs\\microsam_cellose_sam\\Lib\\site-packages\\skimage\\_shared\\utils.py:328: UserWarning: D:\\images\\tnia-python-images\\imagesc\\2024_10_11_tough_cellpose_2\\annotations\\class_0\\img112.tif is a low contrast image\n",
      "  return func(*args, **kwargs)\n",
      "c:\\Users\\bnort\\miniconda3\\envs\\microsam_cellose_sam\\Lib\\site-packages\\skimage\\_shared\\utils.py:328: UserWarning: D:\\images\\tnia-python-images\\imagesc\\2024_10_11_tough_cellpose_2\\predictions\\class_0\\img112.tif is a low contrast image\n",
      "  return func(*args, **kwargs)\n",
      "c:\\Users\\bnort\\miniconda3\\envs\\microsam_cellose_sam\\Lib\\site-packages\\skimage\\_shared\\utils.py:328: UserWarning: D:\\images\\tnia-python-images\\imagesc\\2024_10_11_tough_cellpose_2\\annotations\\class_0\\img113.tif is a low contrast image\n",
      "  return func(*args, **kwargs)\n",
      "c:\\Users\\bnort\\miniconda3\\envs\\microsam_cellose_sam\\Lib\\site-packages\\skimage\\_shared\\utils.py:328: UserWarning: D:\\images\\tnia-python-images\\imagesc\\2024_10_11_tough_cellpose_2\\predictions\\class_0\\img113.tif is a low contrast image\n",
      "  return func(*args, **kwargs)\n",
      "c:\\Users\\bnort\\miniconda3\\envs\\microsam_cellose_sam\\Lib\\site-packages\\skimage\\_shared\\utils.py:328: UserWarning: D:\\images\\tnia-python-images\\imagesc\\2024_10_11_tough_cellpose_2\\annotations\\class_0\\img125.tif is a low contrast image\n",
      "  return func(*args, **kwargs)\n",
      "c:\\Users\\bnort\\miniconda3\\envs\\microsam_cellose_sam\\Lib\\site-packages\\skimage\\_shared\\utils.py:328: UserWarning: D:\\images\\tnia-python-images\\imagesc\\2024_10_11_tough_cellpose_2\\predictions\\class_0\\img125.tif is a low contrast image\n",
      "  return func(*args, **kwargs)\n",
      "c:\\Users\\bnort\\miniconda3\\envs\\microsam_cellose_sam\\Lib\\site-packages\\skimage\\_shared\\utils.py:328: UserWarning: D:\\images\\tnia-python-images\\imagesc\\2024_10_11_tough_cellpose_2\\annotations\\class_0\\img126.tif is a low contrast image\n",
      "  return func(*args, **kwargs)\n",
      "c:\\Users\\bnort\\miniconda3\\envs\\microsam_cellose_sam\\Lib\\site-packages\\skimage\\_shared\\utils.py:328: UserWarning: D:\\images\\tnia-python-images\\imagesc\\2024_10_11_tough_cellpose_2\\predictions\\class_0\\img126.tif is a low contrast image\n",
      "  return func(*args, **kwargs)\n",
      "c:\\Users\\bnort\\miniconda3\\envs\\microsam_cellose_sam\\Lib\\site-packages\\skimage\\_shared\\utils.py:328: UserWarning: D:\\images\\tnia-python-images\\imagesc\\2024_10_11_tough_cellpose_2\\annotations\\class_0\\img128.tif is a low contrast image\n",
      "  return func(*args, **kwargs)\n",
      "c:\\Users\\bnort\\miniconda3\\envs\\microsam_cellose_sam\\Lib\\site-packages\\skimage\\_shared\\utils.py:328: UserWarning: D:\\images\\tnia-python-images\\imagesc\\2024_10_11_tough_cellpose_2\\predictions\\class_0\\img128.tif is a low contrast image\n",
      "  return func(*args, **kwargs)\n",
      "c:\\Users\\bnort\\miniconda3\\envs\\microsam_cellose_sam\\Lib\\site-packages\\skimage\\_shared\\utils.py:328: UserWarning: D:\\images\\tnia-python-images\\imagesc\\2024_10_11_tough_cellpose_2\\annotations\\class_0\\img129.tif is a low contrast image\n",
      "  return func(*args, **kwargs)\n",
      "c:\\Users\\bnort\\miniconda3\\envs\\microsam_cellose_sam\\Lib\\site-packages\\skimage\\_shared\\utils.py:328: UserWarning: D:\\images\\tnia-python-images\\imagesc\\2024_10_11_tough_cellpose_2\\predictions\\class_0\\img129.tif is a low contrast image\n",
      "  return func(*args, **kwargs)\n",
      "c:\\Users\\bnort\\miniconda3\\envs\\microsam_cellose_sam\\Lib\\site-packages\\skimage\\_shared\\utils.py:328: UserWarning: D:\\images\\tnia-python-images\\imagesc\\2024_10_11_tough_cellpose_2\\annotations\\class_0\\img136.tif is a low contrast image\n",
      "  return func(*args, **kwargs)\n",
      "c:\\Users\\bnort\\miniconda3\\envs\\microsam_cellose_sam\\Lib\\site-packages\\skimage\\_shared\\utils.py:328: UserWarning: D:\\images\\tnia-python-images\\imagesc\\2024_10_11_tough_cellpose_2\\predictions\\class_0\\img136.tif is a low contrast image\n",
      "  return func(*args, **kwargs)\n",
      "c:\\Users\\bnort\\miniconda3\\envs\\microsam_cellose_sam\\Lib\\site-packages\\skimage\\_shared\\utils.py:328: UserWarning: D:\\images\\tnia-python-images\\imagesc\\2024_10_11_tough_cellpose_2\\annotations\\class_0\\img137.tif is a low contrast image\n",
      "  return func(*args, **kwargs)\n",
      "c:\\Users\\bnort\\miniconda3\\envs\\microsam_cellose_sam\\Lib\\site-packages\\skimage\\_shared\\utils.py:328: UserWarning: D:\\images\\tnia-python-images\\imagesc\\2024_10_11_tough_cellpose_2\\predictions\\class_0\\img137.tif is a low contrast image\n",
      "  return func(*args, **kwargs)\n",
      "c:\\Users\\bnort\\miniconda3\\envs\\microsam_cellose_sam\\Lib\\site-packages\\skimage\\_shared\\utils.py:328: UserWarning: D:\\images\\tnia-python-images\\imagesc\\2024_10_11_tough_cellpose_2\\annotations\\class_0\\img145.tif is a low contrast image\n",
      "  return func(*args, **kwargs)\n",
      "c:\\Users\\bnort\\miniconda3\\envs\\microsam_cellose_sam\\Lib\\site-packages\\skimage\\_shared\\utils.py:328: UserWarning: D:\\images\\tnia-python-images\\imagesc\\2024_10_11_tough_cellpose_2\\predictions\\class_0\\img145.tif is a low contrast image\n",
      "  return func(*args, **kwargs)\n",
      "c:\\Users\\bnort\\miniconda3\\envs\\microsam_cellose_sam\\Lib\\site-packages\\skimage\\_shared\\utils.py:328: UserWarning: D:\\images\\tnia-python-images\\imagesc\\2024_10_11_tough_cellpose_2\\annotations\\class_0\\img146.tif is a low contrast image\n",
      "  return func(*args, **kwargs)\n",
      "c:\\Users\\bnort\\miniconda3\\envs\\microsam_cellose_sam\\Lib\\site-packages\\skimage\\_shared\\utils.py:328: UserWarning: D:\\images\\tnia-python-images\\imagesc\\2024_10_11_tough_cellpose_2\\predictions\\class_0\\img146.tif is a low contrast image\n",
      "  return func(*args, **kwargs)\n",
      "c:\\Users\\bnort\\miniconda3\\envs\\microsam_cellose_sam\\Lib\\site-packages\\skimage\\_shared\\utils.py:328: UserWarning: D:\\images\\tnia-python-images\\imagesc\\2024_10_11_tough_cellpose_2\\annotations\\class_0\\img147.tif is a low contrast image\n",
      "  return func(*args, **kwargs)\n",
      "c:\\Users\\bnort\\miniconda3\\envs\\microsam_cellose_sam\\Lib\\site-packages\\skimage\\_shared\\utils.py:328: UserWarning: D:\\images\\tnia-python-images\\imagesc\\2024_10_11_tough_cellpose_2\\predictions\\class_0\\img147.tif is a low contrast image\n",
      "  return func(*args, **kwargs)\n",
      "c:\\Users\\bnort\\miniconda3\\envs\\microsam_cellose_sam\\Lib\\site-packages\\skimage\\_shared\\utils.py:328: UserWarning: D:\\images\\tnia-python-images\\imagesc\\2024_10_11_tough_cellpose_2\\annotations\\class_0\\img149.tif is a low contrast image\n",
      "  return func(*args, **kwargs)\n",
      "c:\\Users\\bnort\\miniconda3\\envs\\microsam_cellose_sam\\Lib\\site-packages\\skimage\\_shared\\utils.py:328: UserWarning: D:\\images\\tnia-python-images\\imagesc\\2024_10_11_tough_cellpose_2\\predictions\\class_0\\img149.tif is a low contrast image\n",
      "  return func(*args, **kwargs)\n",
      "c:\\Users\\bnort\\miniconda3\\envs\\microsam_cellose_sam\\Lib\\site-packages\\skimage\\_shared\\utils.py:328: UserWarning: D:\\images\\tnia-python-images\\imagesc\\2024_10_11_tough_cellpose_2\\annotations\\class_0\\img153.tif is a low contrast image\n",
      "  return func(*args, **kwargs)\n",
      "c:\\Users\\bnort\\miniconda3\\envs\\microsam_cellose_sam\\Lib\\site-packages\\skimage\\_shared\\utils.py:328: UserWarning: D:\\images\\tnia-python-images\\imagesc\\2024_10_11_tough_cellpose_2\\predictions\\class_0\\img153.tif is a low contrast image\n",
      "  return func(*args, **kwargs)\n",
      "c:\\Users\\bnort\\miniconda3\\envs\\microsam_cellose_sam\\Lib\\site-packages\\skimage\\_shared\\utils.py:328: UserWarning: D:\\images\\tnia-python-images\\imagesc\\2024_10_11_tough_cellpose_2\\annotations\\class_0\\img154.tif is a low contrast image\n",
      "  return func(*args, **kwargs)\n",
      "c:\\Users\\bnort\\miniconda3\\envs\\microsam_cellose_sam\\Lib\\site-packages\\skimage\\_shared\\utils.py:328: UserWarning: D:\\images\\tnia-python-images\\imagesc\\2024_10_11_tough_cellpose_2\\predictions\\class_0\\img154.tif is a low contrast image\n",
      "  return func(*args, **kwargs)\n",
      "c:\\Users\\bnort\\miniconda3\\envs\\microsam_cellose_sam\\Lib\\site-packages\\skimage\\_shared\\utils.py:328: UserWarning: D:\\images\\tnia-python-images\\imagesc\\2024_10_11_tough_cellpose_2\\annotations\\class_0\\img156.tif is a low contrast image\n",
      "  return func(*args, **kwargs)\n",
      "c:\\Users\\bnort\\miniconda3\\envs\\microsam_cellose_sam\\Lib\\site-packages\\skimage\\_shared\\utils.py:328: UserWarning: D:\\images\\tnia-python-images\\imagesc\\2024_10_11_tough_cellpose_2\\predictions\\class_0\\img156.tif is a low contrast image\n",
      "  return func(*args, **kwargs)\n",
      "c:\\Users\\bnort\\miniconda3\\envs\\microsam_cellose_sam\\Lib\\site-packages\\skimage\\_shared\\utils.py:328: UserWarning: D:\\images\\tnia-python-images\\imagesc\\2024_10_11_tough_cellpose_2\\annotations\\class_0\\img158.tif is a low contrast image\n",
      "  return func(*args, **kwargs)\n",
      "c:\\Users\\bnort\\miniconda3\\envs\\microsam_cellose_sam\\Lib\\site-packages\\skimage\\_shared\\utils.py:328: UserWarning: D:\\images\\tnia-python-images\\imagesc\\2024_10_11_tough_cellpose_2\\predictions\\class_0\\img158.tif is a low contrast image\n",
      "  return func(*args, **kwargs)\n",
      "c:\\Users\\bnort\\miniconda3\\envs\\microsam_cellose_sam\\Lib\\site-packages\\skimage\\_shared\\utils.py:328: UserWarning: D:\\images\\tnia-python-images\\imagesc\\2024_10_11_tough_cellpose_2\\annotations\\class_0\\img159.tif is a low contrast image\n",
      "  return func(*args, **kwargs)\n",
      "c:\\Users\\bnort\\miniconda3\\envs\\microsam_cellose_sam\\Lib\\site-packages\\skimage\\_shared\\utils.py:328: UserWarning: D:\\images\\tnia-python-images\\imagesc\\2024_10_11_tough_cellpose_2\\predictions\\class_0\\img159.tif is a low contrast image\n",
      "  return func(*args, **kwargs)\n",
      "c:\\Users\\bnort\\miniconda3\\envs\\microsam_cellose_sam\\Lib\\site-packages\\skimage\\_shared\\utils.py:328: UserWarning: D:\\images\\tnia-python-images\\imagesc\\2024_10_11_tough_cellpose_2\\annotations\\class_0\\img162.tif is a low contrast image\n",
      "  return func(*args, **kwargs)\n",
      "c:\\Users\\bnort\\miniconda3\\envs\\microsam_cellose_sam\\Lib\\site-packages\\skimage\\_shared\\utils.py:328: UserWarning: D:\\images\\tnia-python-images\\imagesc\\2024_10_11_tough_cellpose_2\\predictions\\class_0\\img162.tif is a low contrast image\n",
      "  return func(*args, **kwargs)\n",
      "c:\\Users\\bnort\\miniconda3\\envs\\microsam_cellose_sam\\Lib\\site-packages\\skimage\\_shared\\utils.py:328: UserWarning: D:\\images\\tnia-python-images\\imagesc\\2024_10_11_tough_cellpose_2\\annotations\\class_0\\img163.tif is a low contrast image\n",
      "  return func(*args, **kwargs)\n",
      "c:\\Users\\bnort\\miniconda3\\envs\\microsam_cellose_sam\\Lib\\site-packages\\skimage\\_shared\\utils.py:328: UserWarning: D:\\images\\tnia-python-images\\imagesc\\2024_10_11_tough_cellpose_2\\predictions\\class_0\\img163.tif is a low contrast image\n",
      "  return func(*args, **kwargs)\n",
      "c:\\Users\\bnort\\miniconda3\\envs\\microsam_cellose_sam\\Lib\\site-packages\\skimage\\_shared\\utils.py:328: UserWarning: D:\\images\\tnia-python-images\\imagesc\\2024_10_11_tough_cellpose_2\\annotations\\class_0\\img164.tif is a low contrast image\n",
      "  return func(*args, **kwargs)\n",
      "c:\\Users\\bnort\\miniconda3\\envs\\microsam_cellose_sam\\Lib\\site-packages\\skimage\\_shared\\utils.py:328: UserWarning: D:\\images\\tnia-python-images\\imagesc\\2024_10_11_tough_cellpose_2\\predictions\\class_0\\img164.tif is a low contrast image\n",
      "  return func(*args, **kwargs)\n",
      "c:\\Users\\bnort\\miniconda3\\envs\\microsam_cellose_sam\\Lib\\site-packages\\skimage\\_shared\\utils.py:328: UserWarning: D:\\images\\tnia-python-images\\imagesc\\2024_10_11_tough_cellpose_2\\annotations\\class_0\\img167.tif is a low contrast image\n",
      "  return func(*args, **kwargs)\n",
      "c:\\Users\\bnort\\miniconda3\\envs\\microsam_cellose_sam\\Lib\\site-packages\\skimage\\_shared\\utils.py:328: UserWarning: D:\\images\\tnia-python-images\\imagesc\\2024_10_11_tough_cellpose_2\\predictions\\class_0\\img167.tif is a low contrast image\n",
      "  return func(*args, **kwargs)\n",
      "c:\\Users\\bnort\\miniconda3\\envs\\microsam_cellose_sam\\Lib\\site-packages\\skimage\\_shared\\utils.py:328: UserWarning: D:\\images\\tnia-python-images\\imagesc\\2024_10_11_tough_cellpose_2\\annotations\\class_0\\img173.tif is a low contrast image\n",
      "  return func(*args, **kwargs)\n",
      "c:\\Users\\bnort\\miniconda3\\envs\\microsam_cellose_sam\\Lib\\site-packages\\skimage\\_shared\\utils.py:328: UserWarning: D:\\images\\tnia-python-images\\imagesc\\2024_10_11_tough_cellpose_2\\predictions\\class_0\\img173.tif is a low contrast image\n",
      "  return func(*args, **kwargs)\n",
      "c:\\Users\\bnort\\miniconda3\\envs\\microsam_cellose_sam\\Lib\\site-packages\\skimage\\_shared\\utils.py:328: UserWarning: D:\\images\\tnia-python-images\\imagesc\\2024_10_11_tough_cellpose_2\\annotations\\class_0\\img180.tif is a low contrast image\n",
      "  return func(*args, **kwargs)\n",
      "c:\\Users\\bnort\\miniconda3\\envs\\microsam_cellose_sam\\Lib\\site-packages\\skimage\\_shared\\utils.py:328: UserWarning: D:\\images\\tnia-python-images\\imagesc\\2024_10_11_tough_cellpose_2\\predictions\\class_0\\img180.tif is a low contrast image\n",
      "  return func(*args, **kwargs)\n",
      "c:\\Users\\bnort\\miniconda3\\envs\\microsam_cellose_sam\\Lib\\site-packages\\skimage\\_shared\\utils.py:328: UserWarning: D:\\images\\tnia-python-images\\imagesc\\2024_10_11_tough_cellpose_2\\annotations\\class_0\\img181.tif is a low contrast image\n",
      "  return func(*args, **kwargs)\n",
      "c:\\Users\\bnort\\miniconda3\\envs\\microsam_cellose_sam\\Lib\\site-packages\\skimage\\_shared\\utils.py:328: UserWarning: D:\\images\\tnia-python-images\\imagesc\\2024_10_11_tough_cellpose_2\\predictions\\class_0\\img181.tif is a low contrast image\n",
      "  return func(*args, **kwargs)\n",
      "c:\\Users\\bnort\\miniconda3\\envs\\microsam_cellose_sam\\Lib\\site-packages\\skimage\\_shared\\utils.py:328: UserWarning: D:\\images\\tnia-python-images\\imagesc\\2024_10_11_tough_cellpose_2\\annotations\\class_0\\img183.tif is a low contrast image\n",
      "  return func(*args, **kwargs)\n",
      "c:\\Users\\bnort\\miniconda3\\envs\\microsam_cellose_sam\\Lib\\site-packages\\skimage\\_shared\\utils.py:328: UserWarning: D:\\images\\tnia-python-images\\imagesc\\2024_10_11_tough_cellpose_2\\predictions\\class_0\\img183.tif is a low contrast image\n",
      "  return func(*args, **kwargs)\n",
      "c:\\Users\\bnort\\miniconda3\\envs\\microsam_cellose_sam\\Lib\\site-packages\\skimage\\_shared\\utils.py:328: UserWarning: D:\\images\\tnia-python-images\\imagesc\\2024_10_11_tough_cellpose_2\\annotations\\class_0\\img186.tif is a low contrast image\n",
      "  return func(*args, **kwargs)\n",
      "c:\\Users\\bnort\\miniconda3\\envs\\microsam_cellose_sam\\Lib\\site-packages\\skimage\\_shared\\utils.py:328: UserWarning: D:\\images\\tnia-python-images\\imagesc\\2024_10_11_tough_cellpose_2\\predictions\\class_0\\img186.tif is a low contrast image\n",
      "  return func(*args, **kwargs)\n",
      "c:\\Users\\bnort\\miniconda3\\envs\\microsam_cellose_sam\\Lib\\site-packages\\skimage\\_shared\\utils.py:328: UserWarning: D:\\images\\tnia-python-images\\imagesc\\2024_10_11_tough_cellpose_2\\annotations\\class_0\\img189.tif is a low contrast image\n",
      "  return func(*args, **kwargs)\n",
      "c:\\Users\\bnort\\miniconda3\\envs\\microsam_cellose_sam\\Lib\\site-packages\\skimage\\_shared\\utils.py:328: UserWarning: D:\\images\\tnia-python-images\\imagesc\\2024_10_11_tough_cellpose_2\\predictions\\class_0\\img189.tif is a low contrast image\n",
      "  return func(*args, **kwargs)\n",
      "c:\\Users\\bnort\\miniconda3\\envs\\microsam_cellose_sam\\Lib\\site-packages\\skimage\\_shared\\utils.py:328: UserWarning: D:\\images\\tnia-python-images\\imagesc\\2024_10_11_tough_cellpose_2\\annotations\\class_0\\img191.tif is a low contrast image\n",
      "  return func(*args, **kwargs)\n",
      "c:\\Users\\bnort\\miniconda3\\envs\\microsam_cellose_sam\\Lib\\site-packages\\skimage\\_shared\\utils.py:328: UserWarning: D:\\images\\tnia-python-images\\imagesc\\2024_10_11_tough_cellpose_2\\predictions\\class_0\\img191.tif is a low contrast image\n",
      "  return func(*args, **kwargs)\n",
      "c:\\Users\\bnort\\miniconda3\\envs\\microsam_cellose_sam\\Lib\\site-packages\\skimage\\_shared\\utils.py:328: UserWarning: D:\\images\\tnia-python-images\\imagesc\\2024_10_11_tough_cellpose_2\\annotations\\class_0\\img193.tif is a low contrast image\n",
      "  return func(*args, **kwargs)\n",
      "c:\\Users\\bnort\\miniconda3\\envs\\microsam_cellose_sam\\Lib\\site-packages\\skimage\\_shared\\utils.py:328: UserWarning: D:\\images\\tnia-python-images\\imagesc\\2024_10_11_tough_cellpose_2\\predictions\\class_0\\img193.tif is a low contrast image\n",
      "  return func(*args, **kwargs)\n",
      "c:\\Users\\bnort\\miniconda3\\envs\\microsam_cellose_sam\\Lib\\site-packages\\skimage\\_shared\\utils.py:328: UserWarning: D:\\images\\tnia-python-images\\imagesc\\2024_10_11_tough_cellpose_2\\annotations\\class_0\\img198.tif is a low contrast image\n",
      "  return func(*args, **kwargs)\n",
      "c:\\Users\\bnort\\miniconda3\\envs\\microsam_cellose_sam\\Lib\\site-packages\\skimage\\_shared\\utils.py:328: UserWarning: D:\\images\\tnia-python-images\\imagesc\\2024_10_11_tough_cellpose_2\\predictions\\class_0\\img198.tif is a low contrast image\n",
      "  return func(*args, **kwargs)\n",
      "c:\\Users\\bnort\\miniconda3\\envs\\microsam_cellose_sam\\Lib\\site-packages\\skimage\\_shared\\utils.py:328: UserWarning: D:\\images\\tnia-python-images\\imagesc\\2024_10_11_tough_cellpose_2\\annotations\\class_0\\img199.tif is a low contrast image\n",
      "  return func(*args, **kwargs)\n",
      "c:\\Users\\bnort\\miniconda3\\envs\\microsam_cellose_sam\\Lib\\site-packages\\skimage\\_shared\\utils.py:328: UserWarning: D:\\images\\tnia-python-images\\imagesc\\2024_10_11_tough_cellpose_2\\predictions\\class_0\\img199.tif is a low contrast image\n",
      "  return func(*args, **kwargs)\n",
      "c:\\Users\\bnort\\miniconda3\\envs\\microsam_cellose_sam\\Lib\\site-packages\\skimage\\_shared\\utils.py:328: UserWarning: D:\\images\\tnia-python-images\\imagesc\\2024_10_11_tough_cellpose_2\\annotations\\class_0\\img200.tif is a low contrast image\n",
      "  return func(*args, **kwargs)\n",
      "c:\\Users\\bnort\\miniconda3\\envs\\microsam_cellose_sam\\Lib\\site-packages\\skimage\\_shared\\utils.py:328: UserWarning: D:\\images\\tnia-python-images\\imagesc\\2024_10_11_tough_cellpose_2\\predictions\\class_0\\img200.tif is a low contrast image\n",
      "  return func(*args, **kwargs)\n",
      "c:\\Users\\bnort\\miniconda3\\envs\\microsam_cellose_sam\\Lib\\site-packages\\skimage\\_shared\\utils.py:328: UserWarning: D:\\images\\tnia-python-images\\imagesc\\2024_10_11_tough_cellpose_2\\annotations\\class_0\\img201.tif is a low contrast image\n",
      "  return func(*args, **kwargs)\n",
      "c:\\Users\\bnort\\miniconda3\\envs\\microsam_cellose_sam\\Lib\\site-packages\\skimage\\_shared\\utils.py:328: UserWarning: D:\\images\\tnia-python-images\\imagesc\\2024_10_11_tough_cellpose_2\\predictions\\class_0\\img201.tif is a low contrast image\n",
      "  return func(*args, **kwargs)\n",
      "c:\\Users\\bnort\\miniconda3\\envs\\microsam_cellose_sam\\Lib\\site-packages\\skimage\\_shared\\utils.py:328: UserWarning: D:\\images\\tnia-python-images\\imagesc\\2024_10_11_tough_cellpose_2\\annotations\\class_0\\img202.tif is a low contrast image\n",
      "  return func(*args, **kwargs)\n",
      "c:\\Users\\bnort\\miniconda3\\envs\\microsam_cellose_sam\\Lib\\site-packages\\skimage\\_shared\\utils.py:328: UserWarning: D:\\images\\tnia-python-images\\imagesc\\2024_10_11_tough_cellpose_2\\predictions\\class_0\\img202.tif is a low contrast image\n",
      "  return func(*args, **kwargs)\n",
      "c:\\Users\\bnort\\miniconda3\\envs\\microsam_cellose_sam\\Lib\\site-packages\\skimage\\_shared\\utils.py:328: UserWarning: D:\\images\\tnia-python-images\\imagesc\\2024_10_11_tough_cellpose_2\\annotations\\class_0\\img204.tif is a low contrast image\n",
      "  return func(*args, **kwargs)\n",
      "c:\\Users\\bnort\\miniconda3\\envs\\microsam_cellose_sam\\Lib\\site-packages\\skimage\\_shared\\utils.py:328: UserWarning: D:\\images\\tnia-python-images\\imagesc\\2024_10_11_tough_cellpose_2\\predictions\\class_0\\img204.tif is a low contrast image\n",
      "  return func(*args, **kwargs)\n",
      "c:\\Users\\bnort\\miniconda3\\envs\\microsam_cellose_sam\\Lib\\site-packages\\skimage\\_shared\\utils.py:328: UserWarning: D:\\images\\tnia-python-images\\imagesc\\2024_10_11_tough_cellpose_2\\annotations\\class_0\\img205.tif is a low contrast image\n",
      "  return func(*args, **kwargs)\n",
      "c:\\Users\\bnort\\miniconda3\\envs\\microsam_cellose_sam\\Lib\\site-packages\\skimage\\_shared\\utils.py:328: UserWarning: D:\\images\\tnia-python-images\\imagesc\\2024_10_11_tough_cellpose_2\\predictions\\class_0\\img205.tif is a low contrast image\n",
      "  return func(*args, **kwargs)\n",
      "c:\\Users\\bnort\\miniconda3\\envs\\microsam_cellose_sam\\Lib\\site-packages\\skimage\\_shared\\utils.py:328: UserWarning: D:\\images\\tnia-python-images\\imagesc\\2024_10_11_tough_cellpose_2\\annotations\\class_0\\img206.tif is a low contrast image\n",
      "  return func(*args, **kwargs)\n",
      "c:\\Users\\bnort\\miniconda3\\envs\\microsam_cellose_sam\\Lib\\site-packages\\skimage\\_shared\\utils.py:328: UserWarning: D:\\images\\tnia-python-images\\imagesc\\2024_10_11_tough_cellpose_2\\predictions\\class_0\\img206.tif is a low contrast image\n",
      "  return func(*args, **kwargs)\n",
      "c:\\Users\\bnort\\miniconda3\\envs\\microsam_cellose_sam\\Lib\\site-packages\\skimage\\_shared\\utils.py:328: UserWarning: D:\\images\\tnia-python-images\\imagesc\\2024_10_11_tough_cellpose_2\\annotations\\class_0\\img207.tif is a low contrast image\n",
      "  return func(*args, **kwargs)\n",
      "c:\\Users\\bnort\\miniconda3\\envs\\microsam_cellose_sam\\Lib\\site-packages\\skimage\\_shared\\utils.py:328: UserWarning: D:\\images\\tnia-python-images\\imagesc\\2024_10_11_tough_cellpose_2\\predictions\\class_0\\img207.tif is a low contrast image\n",
      "  return func(*args, **kwargs)\n",
      "c:\\Users\\bnort\\miniconda3\\envs\\microsam_cellose_sam\\Lib\\site-packages\\skimage\\_shared\\utils.py:328: UserWarning: D:\\images\\tnia-python-images\\imagesc\\2024_10_11_tough_cellpose_2\\annotations\\class_0\\img208.tif is a low contrast image\n",
      "  return func(*args, **kwargs)\n",
      "c:\\Users\\bnort\\miniconda3\\envs\\microsam_cellose_sam\\Lib\\site-packages\\skimage\\_shared\\utils.py:328: UserWarning: D:\\images\\tnia-python-images\\imagesc\\2024_10_11_tough_cellpose_2\\predictions\\class_0\\img208.tif is a low contrast image\n",
      "  return func(*args, **kwargs)\n",
      "c:\\Users\\bnort\\miniconda3\\envs\\microsam_cellose_sam\\Lib\\site-packages\\skimage\\_shared\\utils.py:328: UserWarning: D:\\images\\tnia-python-images\\imagesc\\2024_10_11_tough_cellpose_2\\annotations\\class_0\\img209.tif is a low contrast image\n",
      "  return func(*args, **kwargs)\n",
      "c:\\Users\\bnort\\miniconda3\\envs\\microsam_cellose_sam\\Lib\\site-packages\\skimage\\_shared\\utils.py:328: UserWarning: D:\\images\\tnia-python-images\\imagesc\\2024_10_11_tough_cellpose_2\\predictions\\class_0\\img209.tif is a low contrast image\n",
      "  return func(*args, **kwargs)\n",
      "c:\\Users\\bnort\\miniconda3\\envs\\microsam_cellose_sam\\Lib\\site-packages\\skimage\\_shared\\utils.py:328: UserWarning: D:\\images\\tnia-python-images\\imagesc\\2024_10_11_tough_cellpose_2\\annotations\\class_0\\img210.tif is a low contrast image\n",
      "  return func(*args, **kwargs)\n",
      "c:\\Users\\bnort\\miniconda3\\envs\\microsam_cellose_sam\\Lib\\site-packages\\skimage\\_shared\\utils.py:328: UserWarning: D:\\images\\tnia-python-images\\imagesc\\2024_10_11_tough_cellpose_2\\predictions\\class_0\\img210.tif is a low contrast image\n",
      "  return func(*args, **kwargs)\n",
      "c:\\Users\\bnort\\miniconda3\\envs\\microsam_cellose_sam\\Lib\\site-packages\\skimage\\_shared\\utils.py:328: UserWarning: D:\\images\\tnia-python-images\\imagesc\\2024_10_11_tough_cellpose_2\\annotations\\class_0\\img211.tif is a low contrast image\n",
      "  return func(*args, **kwargs)\n",
      "c:\\Users\\bnort\\miniconda3\\envs\\microsam_cellose_sam\\Lib\\site-packages\\skimage\\_shared\\utils.py:328: UserWarning: D:\\images\\tnia-python-images\\imagesc\\2024_10_11_tough_cellpose_2\\predictions\\class_0\\img211.tif is a low contrast image\n",
      "  return func(*args, **kwargs)\n",
      "c:\\Users\\bnort\\miniconda3\\envs\\microsam_cellose_sam\\Lib\\site-packages\\skimage\\_shared\\utils.py:328: UserWarning: D:\\images\\tnia-python-images\\imagesc\\2024_10_11_tough_cellpose_2\\annotations\\class_0\\img212.tif is a low contrast image\n",
      "  return func(*args, **kwargs)\n",
      "c:\\Users\\bnort\\miniconda3\\envs\\microsam_cellose_sam\\Lib\\site-packages\\skimage\\_shared\\utils.py:328: UserWarning: D:\\images\\tnia-python-images\\imagesc\\2024_10_11_tough_cellpose_2\\predictions\\class_0\\img212.tif is a low contrast image\n",
      "  return func(*args, **kwargs)\n",
      "c:\\Users\\bnort\\miniconda3\\envs\\microsam_cellose_sam\\Lib\\site-packages\\skimage\\_shared\\utils.py:328: UserWarning: D:\\images\\tnia-python-images\\imagesc\\2024_10_11_tough_cellpose_2\\annotations\\class_0\\img215.tif is a low contrast image\n",
      "  return func(*args, **kwargs)\n",
      "c:\\Users\\bnort\\miniconda3\\envs\\microsam_cellose_sam\\Lib\\site-packages\\skimage\\_shared\\utils.py:328: UserWarning: D:\\images\\tnia-python-images\\imagesc\\2024_10_11_tough_cellpose_2\\predictions\\class_0\\img215.tif is a low contrast image\n",
      "  return func(*args, **kwargs)\n",
      "c:\\Users\\bnort\\miniconda3\\envs\\microsam_cellose_sam\\Lib\\site-packages\\skimage\\_shared\\utils.py:328: UserWarning: D:\\images\\tnia-python-images\\imagesc\\2024_10_11_tough_cellpose_2\\annotations\\class_0\\img216.tif is a low contrast image\n",
      "  return func(*args, **kwargs)\n",
      "c:\\Users\\bnort\\miniconda3\\envs\\microsam_cellose_sam\\Lib\\site-packages\\skimage\\_shared\\utils.py:328: UserWarning: D:\\images\\tnia-python-images\\imagesc\\2024_10_11_tough_cellpose_2\\predictions\\class_0\\img216.tif is a low contrast image\n",
      "  return func(*args, **kwargs)\n",
      "c:\\Users\\bnort\\miniconda3\\envs\\microsam_cellose_sam\\Lib\\site-packages\\skimage\\_shared\\utils.py:328: UserWarning: D:\\images\\tnia-python-images\\imagesc\\2024_10_11_tough_cellpose_2\\annotations\\class_0\\img217.tif is a low contrast image\n",
      "  return func(*args, **kwargs)\n",
      "c:\\Users\\bnort\\miniconda3\\envs\\microsam_cellose_sam\\Lib\\site-packages\\skimage\\_shared\\utils.py:328: UserWarning: D:\\images\\tnia-python-images\\imagesc\\2024_10_11_tough_cellpose_2\\predictions\\class_0\\img217.tif is a low contrast image\n",
      "  return func(*args, **kwargs)\n",
      "c:\\Users\\bnort\\miniconda3\\envs\\microsam_cellose_sam\\Lib\\site-packages\\skimage\\_shared\\utils.py:328: UserWarning: D:\\images\\tnia-python-images\\imagesc\\2024_10_11_tough_cellpose_2\\annotations\\class_0\\img218.tif is a low contrast image\n",
      "  return func(*args, **kwargs)\n",
      "c:\\Users\\bnort\\miniconda3\\envs\\microsam_cellose_sam\\Lib\\site-packages\\skimage\\_shared\\utils.py:328: UserWarning: D:\\images\\tnia-python-images\\imagesc\\2024_10_11_tough_cellpose_2\\predictions\\class_0\\img218.tif is a low contrast image\n",
      "  return func(*args, **kwargs)\n",
      "c:\\Users\\bnort\\miniconda3\\envs\\microsam_cellose_sam\\Lib\\site-packages\\skimage\\_shared\\utils.py:328: UserWarning: D:\\images\\tnia-python-images\\imagesc\\2024_10_11_tough_cellpose_2\\annotations\\class_0\\img219.tif is a low contrast image\n",
      "  return func(*args, **kwargs)\n",
      "c:\\Users\\bnort\\miniconda3\\envs\\microsam_cellose_sam\\Lib\\site-packages\\skimage\\_shared\\utils.py:328: UserWarning: D:\\images\\tnia-python-images\\imagesc\\2024_10_11_tough_cellpose_2\\predictions\\class_0\\img219.tif is a low contrast image\n",
      "  return func(*args, **kwargs)\n",
      "c:\\Users\\bnort\\miniconda3\\envs\\microsam_cellose_sam\\Lib\\site-packages\\skimage\\_shared\\utils.py:328: UserWarning: D:\\images\\tnia-python-images\\imagesc\\2024_10_11_tough_cellpose_2\\annotations\\class_0\\img220.tif is a low contrast image\n",
      "  return func(*args, **kwargs)\n",
      "c:\\Users\\bnort\\miniconda3\\envs\\microsam_cellose_sam\\Lib\\site-packages\\skimage\\_shared\\utils.py:328: UserWarning: D:\\images\\tnia-python-images\\imagesc\\2024_10_11_tough_cellpose_2\\predictions\\class_0\\img220.tif is a low contrast image\n",
      "  return func(*args, **kwargs)\n",
      "c:\\Users\\bnort\\miniconda3\\envs\\microsam_cellose_sam\\Lib\\site-packages\\skimage\\_shared\\utils.py:328: UserWarning: D:\\images\\tnia-python-images\\imagesc\\2024_10_11_tough_cellpose_2\\annotations\\class_0\\img221.tif is a low contrast image\n",
      "  return func(*args, **kwargs)\n",
      "c:\\Users\\bnort\\miniconda3\\envs\\microsam_cellose_sam\\Lib\\site-packages\\skimage\\_shared\\utils.py:328: UserWarning: D:\\images\\tnia-python-images\\imagesc\\2024_10_11_tough_cellpose_2\\predictions\\class_0\\img221.tif is a low contrast image\n",
      "  return func(*args, **kwargs)\n",
      "c:\\Users\\bnort\\miniconda3\\envs\\microsam_cellose_sam\\Lib\\site-packages\\skimage\\_shared\\utils.py:328: UserWarning: D:\\images\\tnia-python-images\\imagesc\\2024_10_11_tough_cellpose_2\\annotations\\class_0\\img228.tif is a low contrast image\n",
      "  return func(*args, **kwargs)\n",
      "c:\\Users\\bnort\\miniconda3\\envs\\microsam_cellose_sam\\Lib\\site-packages\\skimage\\_shared\\utils.py:328: UserWarning: D:\\images\\tnia-python-images\\imagesc\\2024_10_11_tough_cellpose_2\\predictions\\class_0\\img228.tif is a low contrast image\n",
      "  return func(*args, **kwargs)\n",
      "c:\\Users\\bnort\\miniconda3\\envs\\microsam_cellose_sam\\Lib\\site-packages\\skimage\\_shared\\utils.py:328: UserWarning: D:\\images\\tnia-python-images\\imagesc\\2024_10_11_tough_cellpose_2\\annotations\\class_0\\img231.tif is a low contrast image\n",
      "  return func(*args, **kwargs)\n",
      "c:\\Users\\bnort\\miniconda3\\envs\\microsam_cellose_sam\\Lib\\site-packages\\skimage\\_shared\\utils.py:328: UserWarning: D:\\images\\tnia-python-images\\imagesc\\2024_10_11_tough_cellpose_2\\predictions\\class_0\\img231.tif is a low contrast image\n",
      "  return func(*args, **kwargs)\n",
      "c:\\Users\\bnort\\miniconda3\\envs\\microsam_cellose_sam\\Lib\\site-packages\\skimage\\_shared\\utils.py:328: UserWarning: D:\\images\\tnia-python-images\\imagesc\\2024_10_11_tough_cellpose_2\\annotations\\class_0\\img232.tif is a low contrast image\n",
      "  return func(*args, **kwargs)\n",
      "c:\\Users\\bnort\\miniconda3\\envs\\microsam_cellose_sam\\Lib\\site-packages\\skimage\\_shared\\utils.py:328: UserWarning: D:\\images\\tnia-python-images\\imagesc\\2024_10_11_tough_cellpose_2\\predictions\\class_0\\img232.tif is a low contrast image\n",
      "  return func(*args, **kwargs)\n",
      "c:\\Users\\bnort\\miniconda3\\envs\\microsam_cellose_sam\\Lib\\site-packages\\skimage\\_shared\\utils.py:328: UserWarning: D:\\images\\tnia-python-images\\imagesc\\2024_10_11_tough_cellpose_2\\annotations\\class_0\\img238.tif is a low contrast image\n",
      "  return func(*args, **kwargs)\n",
      "c:\\Users\\bnort\\miniconda3\\envs\\microsam_cellose_sam\\Lib\\site-packages\\skimage\\_shared\\utils.py:328: UserWarning: D:\\images\\tnia-python-images\\imagesc\\2024_10_11_tough_cellpose_2\\predictions\\class_0\\img238.tif is a low contrast image\n",
      "  return func(*args, **kwargs)\n",
      "c:\\Users\\bnort\\miniconda3\\envs\\microsam_cellose_sam\\Lib\\site-packages\\skimage\\_shared\\utils.py:328: UserWarning: D:\\images\\tnia-python-images\\imagesc\\2024_10_11_tough_cellpose_2\\annotations\\class_0\\img239.tif is a low contrast image\n",
      "  return func(*args, **kwargs)\n",
      "c:\\Users\\bnort\\miniconda3\\envs\\microsam_cellose_sam\\Lib\\site-packages\\skimage\\_shared\\utils.py:328: UserWarning: D:\\images\\tnia-python-images\\imagesc\\2024_10_11_tough_cellpose_2\\predictions\\class_0\\img239.tif is a low contrast image\n",
      "  return func(*args, **kwargs)\n",
      "c:\\Users\\bnort\\miniconda3\\envs\\microsam_cellose_sam\\Lib\\site-packages\\skimage\\_shared\\utils.py:328: UserWarning: D:\\images\\tnia-python-images\\imagesc\\2024_10_11_tough_cellpose_2\\annotations\\class_0\\img246.tif is a low contrast image\n",
      "  return func(*args, **kwargs)\n",
      "c:\\Users\\bnort\\miniconda3\\envs\\microsam_cellose_sam\\Lib\\site-packages\\skimage\\_shared\\utils.py:328: UserWarning: D:\\images\\tnia-python-images\\imagesc\\2024_10_11_tough_cellpose_2\\predictions\\class_0\\img246.tif is a low contrast image\n",
      "  return func(*args, **kwargs)\n",
      "c:\\Users\\bnort\\miniconda3\\envs\\microsam_cellose_sam\\Lib\\site-packages\\skimage\\_shared\\utils.py:328: UserWarning: D:\\images\\tnia-python-images\\imagesc\\2024_10_11_tough_cellpose_2\\annotations\\class_0\\img247.tif is a low contrast image\n",
      "  return func(*args, **kwargs)\n",
      "c:\\Users\\bnort\\miniconda3\\envs\\microsam_cellose_sam\\Lib\\site-packages\\skimage\\_shared\\utils.py:328: UserWarning: D:\\images\\tnia-python-images\\imagesc\\2024_10_11_tough_cellpose_2\\predictions\\class_0\\img247.tif is a low contrast image\n",
      "  return func(*args, **kwargs)\n",
      "c:\\Users\\bnort\\miniconda3\\envs\\microsam_cellose_sam\\Lib\\site-packages\\skimage\\_shared\\utils.py:328: UserWarning: D:\\images\\tnia-python-images\\imagesc\\2024_10_11_tough_cellpose_2\\annotations\\class_0\\img248.tif is a low contrast image\n",
      "  return func(*args, **kwargs)\n",
      "c:\\Users\\bnort\\miniconda3\\envs\\microsam_cellose_sam\\Lib\\site-packages\\skimage\\_shared\\utils.py:328: UserWarning: D:\\images\\tnia-python-images\\imagesc\\2024_10_11_tough_cellpose_2\\predictions\\class_0\\img248.tif is a low contrast image\n",
      "  return func(*args, **kwargs)\n",
      "c:\\Users\\bnort\\miniconda3\\envs\\microsam_cellose_sam\\Lib\\site-packages\\skimage\\_shared\\utils.py:328: UserWarning: D:\\images\\tnia-python-images\\imagesc\\2024_10_11_tough_cellpose_2\\annotations\\class_0\\img249.tif is a low contrast image\n",
      "  return func(*args, **kwargs)\n",
      "c:\\Users\\bnort\\miniconda3\\envs\\microsam_cellose_sam\\Lib\\site-packages\\skimage\\_shared\\utils.py:328: UserWarning: D:\\images\\tnia-python-images\\imagesc\\2024_10_11_tough_cellpose_2\\predictions\\class_0\\img249.tif is a low contrast image\n",
      "  return func(*args, **kwargs)\n",
      "c:\\Users\\bnort\\miniconda3\\envs\\microsam_cellose_sam\\Lib\\site-packages\\skimage\\_shared\\utils.py:328: UserWarning: D:\\images\\tnia-python-images\\imagesc\\2024_10_11_tough_cellpose_2\\annotations\\class_0\\img251.tif is a low contrast image\n",
      "  return func(*args, **kwargs)\n",
      "c:\\Users\\bnort\\miniconda3\\envs\\microsam_cellose_sam\\Lib\\site-packages\\skimage\\_shared\\utils.py:328: UserWarning: D:\\images\\tnia-python-images\\imagesc\\2024_10_11_tough_cellpose_2\\predictions\\class_0\\img251.tif is a low contrast image\n",
      "  return func(*args, **kwargs)\n",
      "c:\\Users\\bnort\\miniconda3\\envs\\microsam_cellose_sam\\Lib\\site-packages\\skimage\\_shared\\utils.py:328: UserWarning: D:\\images\\tnia-python-images\\imagesc\\2024_10_11_tough_cellpose_2\\annotations\\class_0\\img253.tif is a low contrast image\n",
      "  return func(*args, **kwargs)\n",
      "c:\\Users\\bnort\\miniconda3\\envs\\microsam_cellose_sam\\Lib\\site-packages\\skimage\\_shared\\utils.py:328: UserWarning: D:\\images\\tnia-python-images\\imagesc\\2024_10_11_tough_cellpose_2\\predictions\\class_0\\img253.tif is a low contrast image\n",
      "  return func(*args, **kwargs)\n",
      "c:\\Users\\bnort\\miniconda3\\envs\\microsam_cellose_sam\\Lib\\site-packages\\skimage\\_shared\\utils.py:328: UserWarning: D:\\images\\tnia-python-images\\imagesc\\2024_10_11_tough_cellpose_2\\annotations\\class_0\\img257.tif is a low contrast image\n",
      "  return func(*args, **kwargs)\n",
      "c:\\Users\\bnort\\miniconda3\\envs\\microsam_cellose_sam\\Lib\\site-packages\\skimage\\_shared\\utils.py:328: UserWarning: D:\\images\\tnia-python-images\\imagesc\\2024_10_11_tough_cellpose_2\\predictions\\class_0\\img257.tif is a low contrast image\n",
      "  return func(*args, **kwargs)\n",
      "c:\\Users\\bnort\\miniconda3\\envs\\microsam_cellose_sam\\Lib\\site-packages\\skimage\\_shared\\utils.py:328: UserWarning: D:\\images\\tnia-python-images\\imagesc\\2024_10_11_tough_cellpose_2\\annotations\\class_0\\img259.tif is a low contrast image\n",
      "  return func(*args, **kwargs)\n",
      "c:\\Users\\bnort\\miniconda3\\envs\\microsam_cellose_sam\\Lib\\site-packages\\skimage\\_shared\\utils.py:328: UserWarning: D:\\images\\tnia-python-images\\imagesc\\2024_10_11_tough_cellpose_2\\predictions\\class_0\\img259.tif is a low contrast image\n",
      "  return func(*args, **kwargs)\n",
      "c:\\Users\\bnort\\miniconda3\\envs\\microsam_cellose_sam\\Lib\\site-packages\\skimage\\_shared\\utils.py:328: UserWarning: D:\\images\\tnia-python-images\\imagesc\\2024_10_11_tough_cellpose_2\\annotations\\class_0\\img260.tif is a low contrast image\n",
      "  return func(*args, **kwargs)\n",
      "c:\\Users\\bnort\\miniconda3\\envs\\microsam_cellose_sam\\Lib\\site-packages\\skimage\\_shared\\utils.py:328: UserWarning: D:\\images\\tnia-python-images\\imagesc\\2024_10_11_tough_cellpose_2\\predictions\\class_0\\img260.tif is a low contrast image\n",
      "  return func(*args, **kwargs)\n",
      "c:\\Users\\bnort\\miniconda3\\envs\\microsam_cellose_sam\\Lib\\site-packages\\skimage\\_shared\\utils.py:328: UserWarning: D:\\images\\tnia-python-images\\imagesc\\2024_10_11_tough_cellpose_2\\annotations\\class_0\\img262.tif is a low contrast image\n",
      "  return func(*args, **kwargs)\n",
      "c:\\Users\\bnort\\miniconda3\\envs\\microsam_cellose_sam\\Lib\\site-packages\\skimage\\_shared\\utils.py:328: UserWarning: D:\\images\\tnia-python-images\\imagesc\\2024_10_11_tough_cellpose_2\\predictions\\class_0\\img262.tif is a low contrast image\n",
      "  return func(*args, **kwargs)\n",
      "c:\\Users\\bnort\\miniconda3\\envs\\microsam_cellose_sam\\Lib\\site-packages\\skimage\\_shared\\utils.py:328: UserWarning: D:\\images\\tnia-python-images\\imagesc\\2024_10_11_tough_cellpose_2\\annotations\\class_0\\img264.tif is a low contrast image\n",
      "  return func(*args, **kwargs)\n",
      "c:\\Users\\bnort\\miniconda3\\envs\\microsam_cellose_sam\\Lib\\site-packages\\skimage\\_shared\\utils.py:328: UserWarning: D:\\images\\tnia-python-images\\imagesc\\2024_10_11_tough_cellpose_2\\predictions\\class_0\\img264.tif is a low contrast image\n",
      "  return func(*args, **kwargs)\n",
      "c:\\Users\\bnort\\miniconda3\\envs\\microsam_cellose_sam\\Lib\\site-packages\\skimage\\_shared\\utils.py:328: UserWarning: D:\\images\\tnia-python-images\\imagesc\\2024_10_11_tough_cellpose_2\\annotations\\class_0\\img265.tif is a low contrast image\n",
      "  return func(*args, **kwargs)\n",
      "c:\\Users\\bnort\\miniconda3\\envs\\microsam_cellose_sam\\Lib\\site-packages\\skimage\\_shared\\utils.py:328: UserWarning: D:\\images\\tnia-python-images\\imagesc\\2024_10_11_tough_cellpose_2\\predictions\\class_0\\img265.tif is a low contrast image\n",
      "  return func(*args, **kwargs)\n",
      "c:\\Users\\bnort\\miniconda3\\envs\\microsam_cellose_sam\\Lib\\site-packages\\skimage\\_shared\\utils.py:328: UserWarning: D:\\images\\tnia-python-images\\imagesc\\2024_10_11_tough_cellpose_2\\annotations\\class_0\\img266.tif is a low contrast image\n",
      "  return func(*args, **kwargs)\n",
      "c:\\Users\\bnort\\miniconda3\\envs\\microsam_cellose_sam\\Lib\\site-packages\\skimage\\_shared\\utils.py:328: UserWarning: D:\\images\\tnia-python-images\\imagesc\\2024_10_11_tough_cellpose_2\\predictions\\class_0\\img266.tif is a low contrast image\n",
      "  return func(*args, **kwargs)\n",
      "c:\\Users\\bnort\\miniconda3\\envs\\microsam_cellose_sam\\Lib\\site-packages\\skimage\\_shared\\utils.py:328: UserWarning: D:\\images\\tnia-python-images\\imagesc\\2024_10_11_tough_cellpose_2\\annotations\\class_0\\img267.tif is a low contrast image\n",
      "  return func(*args, **kwargs)\n",
      "c:\\Users\\bnort\\miniconda3\\envs\\microsam_cellose_sam\\Lib\\site-packages\\skimage\\_shared\\utils.py:328: UserWarning: D:\\images\\tnia-python-images\\imagesc\\2024_10_11_tough_cellpose_2\\predictions\\class_0\\img267.tif is a low contrast image\n",
      "  return func(*args, **kwargs)\n",
      "c:\\Users\\bnort\\miniconda3\\envs\\microsam_cellose_sam\\Lib\\site-packages\\skimage\\_shared\\utils.py:328: UserWarning: D:\\images\\tnia-python-images\\imagesc\\2024_10_11_tough_cellpose_2\\annotations\\class_0\\img268.tif is a low contrast image\n",
      "  return func(*args, **kwargs)\n",
      "c:\\Users\\bnort\\miniconda3\\envs\\microsam_cellose_sam\\Lib\\site-packages\\skimage\\_shared\\utils.py:328: UserWarning: D:\\images\\tnia-python-images\\imagesc\\2024_10_11_tough_cellpose_2\\predictions\\class_0\\img268.tif is a low contrast image\n",
      "  return func(*args, **kwargs)\n",
      "c:\\Users\\bnort\\miniconda3\\envs\\microsam_cellose_sam\\Lib\\site-packages\\skimage\\_shared\\utils.py:328: UserWarning: D:\\images\\tnia-python-images\\imagesc\\2024_10_11_tough_cellpose_2\\annotations\\class_0\\img269.tif is a low contrast image\n",
      "  return func(*args, **kwargs)\n",
      "c:\\Users\\bnort\\miniconda3\\envs\\microsam_cellose_sam\\Lib\\site-packages\\skimage\\_shared\\utils.py:328: UserWarning: D:\\images\\tnia-python-images\\imagesc\\2024_10_11_tough_cellpose_2\\predictions\\class_0\\img269.tif is a low contrast image\n",
      "  return func(*args, **kwargs)\n",
      "c:\\Users\\bnort\\miniconda3\\envs\\microsam_cellose_sam\\Lib\\site-packages\\skimage\\_shared\\utils.py:328: UserWarning: D:\\images\\tnia-python-images\\imagesc\\2024_10_11_tough_cellpose_2\\annotations\\class_0\\img272.tif is a low contrast image\n",
      "  return func(*args, **kwargs)\n",
      "c:\\Users\\bnort\\miniconda3\\envs\\microsam_cellose_sam\\Lib\\site-packages\\skimage\\_shared\\utils.py:328: UserWarning: D:\\images\\tnia-python-images\\imagesc\\2024_10_11_tough_cellpose_2\\predictions\\class_0\\img272.tif is a low contrast image\n",
      "  return func(*args, **kwargs)\n",
      "c:\\Users\\bnort\\miniconda3\\envs\\microsam_cellose_sam\\Lib\\site-packages\\skimage\\_shared\\utils.py:328: UserWarning: D:\\images\\tnia-python-images\\imagesc\\2024_10_11_tough_cellpose_2\\annotations\\class_0\\img273.tif is a low contrast image\n",
      "  return func(*args, **kwargs)\n",
      "c:\\Users\\bnort\\miniconda3\\envs\\microsam_cellose_sam\\Lib\\site-packages\\skimage\\_shared\\utils.py:328: UserWarning: D:\\images\\tnia-python-images\\imagesc\\2024_10_11_tough_cellpose_2\\predictions\\class_0\\img273.tif is a low contrast image\n",
      "  return func(*args, **kwargs)\n",
      "c:\\Users\\bnort\\miniconda3\\envs\\microsam_cellose_sam\\Lib\\site-packages\\skimage\\_shared\\utils.py:328: UserWarning: D:\\images\\tnia-python-images\\imagesc\\2024_10_11_tough_cellpose_2\\annotations\\class_0\\img274.tif is a low contrast image\n",
      "  return func(*args, **kwargs)\n",
      "c:\\Users\\bnort\\miniconda3\\envs\\microsam_cellose_sam\\Lib\\site-packages\\skimage\\_shared\\utils.py:328: UserWarning: D:\\images\\tnia-python-images\\imagesc\\2024_10_11_tough_cellpose_2\\predictions\\class_0\\img274.tif is a low contrast image\n",
      "  return func(*args, **kwargs)\n",
      "c:\\Users\\bnort\\miniconda3\\envs\\microsam_cellose_sam\\Lib\\site-packages\\skimage\\_shared\\utils.py:328: UserWarning: D:\\images\\tnia-python-images\\imagesc\\2024_10_11_tough_cellpose_2\\annotations\\class_0\\img275.tif is a low contrast image\n",
      "  return func(*args, **kwargs)\n",
      "c:\\Users\\bnort\\miniconda3\\envs\\microsam_cellose_sam\\Lib\\site-packages\\skimage\\_shared\\utils.py:328: UserWarning: D:\\images\\tnia-python-images\\imagesc\\2024_10_11_tough_cellpose_2\\predictions\\class_0\\img275.tif is a low contrast image\n",
      "  return func(*args, **kwargs)\n",
      "c:\\Users\\bnort\\miniconda3\\envs\\microsam_cellose_sam\\Lib\\site-packages\\skimage\\_shared\\utils.py:328: UserWarning: D:\\images\\tnia-python-images\\imagesc\\2024_10_11_tough_cellpose_2\\annotations\\class_0\\img276.tif is a low contrast image\n",
      "  return func(*args, **kwargs)\n",
      "c:\\Users\\bnort\\miniconda3\\envs\\microsam_cellose_sam\\Lib\\site-packages\\skimage\\_shared\\utils.py:328: UserWarning: D:\\images\\tnia-python-images\\imagesc\\2024_10_11_tough_cellpose_2\\predictions\\class_0\\img276.tif is a low contrast image\n",
      "  return func(*args, **kwargs)\n",
      "c:\\Users\\bnort\\miniconda3\\envs\\microsam_cellose_sam\\Lib\\site-packages\\skimage\\_shared\\utils.py:328: UserWarning: D:\\images\\tnia-python-images\\imagesc\\2024_10_11_tough_cellpose_2\\annotations\\class_0\\img279.tif is a low contrast image\n",
      "  return func(*args, **kwargs)\n",
      "c:\\Users\\bnort\\miniconda3\\envs\\microsam_cellose_sam\\Lib\\site-packages\\skimage\\_shared\\utils.py:328: UserWarning: D:\\images\\tnia-python-images\\imagesc\\2024_10_11_tough_cellpose_2\\predictions\\class_0\\img279.tif is a low contrast image\n",
      "  return func(*args, **kwargs)\n",
      "c:\\Users\\bnort\\miniconda3\\envs\\microsam_cellose_sam\\Lib\\site-packages\\skimage\\_shared\\utils.py:328: UserWarning: D:\\images\\tnia-python-images\\imagesc\\2024_10_11_tough_cellpose_2\\annotations\\class_0\\img280.tif is a low contrast image\n",
      "  return func(*args, **kwargs)\n",
      "c:\\Users\\bnort\\miniconda3\\envs\\microsam_cellose_sam\\Lib\\site-packages\\skimage\\_shared\\utils.py:328: UserWarning: D:\\images\\tnia-python-images\\imagesc\\2024_10_11_tough_cellpose_2\\predictions\\class_0\\img280.tif is a low contrast image\n",
      "  return func(*args, **kwargs)\n",
      "c:\\Users\\bnort\\miniconda3\\envs\\microsam_cellose_sam\\Lib\\site-packages\\skimage\\_shared\\utils.py:328: UserWarning: D:\\images\\tnia-python-images\\imagesc\\2024_10_11_tough_cellpose_2\\annotations\\class_0\\img288.tif is a low contrast image\n",
      "  return func(*args, **kwargs)\n",
      "c:\\Users\\bnort\\miniconda3\\envs\\microsam_cellose_sam\\Lib\\site-packages\\skimage\\_shared\\utils.py:328: UserWarning: D:\\images\\tnia-python-images\\imagesc\\2024_10_11_tough_cellpose_2\\predictions\\class_0\\img288.tif is a low contrast image\n",
      "  return func(*args, **kwargs)\n",
      "c:\\Users\\bnort\\miniconda3\\envs\\microsam_cellose_sam\\Lib\\site-packages\\skimage\\_shared\\utils.py:328: UserWarning: D:\\images\\tnia-python-images\\imagesc\\2024_10_11_tough_cellpose_2\\annotations\\class_0\\img290.tif is a low contrast image\n",
      "  return func(*args, **kwargs)\n",
      "c:\\Users\\bnort\\miniconda3\\envs\\microsam_cellose_sam\\Lib\\site-packages\\skimage\\_shared\\utils.py:328: UserWarning: D:\\images\\tnia-python-images\\imagesc\\2024_10_11_tough_cellpose_2\\predictions\\class_0\\img290.tif is a low contrast image\n",
      "  return func(*args, **kwargs)\n",
      "c:\\Users\\bnort\\miniconda3\\envs\\microsam_cellose_sam\\Lib\\site-packages\\skimage\\_shared\\utils.py:328: UserWarning: D:\\images\\tnia-python-images\\imagesc\\2024_10_11_tough_cellpose_2\\annotations\\class_0\\img291.tif is a low contrast image\n",
      "  return func(*args, **kwargs)\n",
      "c:\\Users\\bnort\\miniconda3\\envs\\microsam_cellose_sam\\Lib\\site-packages\\skimage\\_shared\\utils.py:328: UserWarning: D:\\images\\tnia-python-images\\imagesc\\2024_10_11_tough_cellpose_2\\predictions\\class_0\\img291.tif is a low contrast image\n",
      "  return func(*args, **kwargs)\n",
      "c:\\Users\\bnort\\miniconda3\\envs\\microsam_cellose_sam\\Lib\\site-packages\\skimage\\_shared\\utils.py:328: UserWarning: D:\\images\\tnia-python-images\\imagesc\\2024_10_11_tough_cellpose_2\\annotations\\class_0\\img292.tif is a low contrast image\n",
      "  return func(*args, **kwargs)\n",
      "c:\\Users\\bnort\\miniconda3\\envs\\microsam_cellose_sam\\Lib\\site-packages\\skimage\\_shared\\utils.py:328: UserWarning: D:\\images\\tnia-python-images\\imagesc\\2024_10_11_tough_cellpose_2\\predictions\\class_0\\img292.tif is a low contrast image\n",
      "  return func(*args, **kwargs)\n",
      "c:\\Users\\bnort\\miniconda3\\envs\\microsam_cellose_sam\\Lib\\site-packages\\skimage\\_shared\\utils.py:328: UserWarning: D:\\images\\tnia-python-images\\imagesc\\2024_10_11_tough_cellpose_2\\annotations\\class_0\\img295.tif is a low contrast image\n",
      "  return func(*args, **kwargs)\n",
      "c:\\Users\\bnort\\miniconda3\\envs\\microsam_cellose_sam\\Lib\\site-packages\\skimage\\_shared\\utils.py:328: UserWarning: D:\\images\\tnia-python-images\\imagesc\\2024_10_11_tough_cellpose_2\\predictions\\class_0\\img295.tif is a low contrast image\n",
      "  return func(*args, **kwargs)\n",
      "c:\\Users\\bnort\\miniconda3\\envs\\microsam_cellose_sam\\Lib\\site-packages\\skimage\\_shared\\utils.py:328: UserWarning: D:\\images\\tnia-python-images\\imagesc\\2024_10_11_tough_cellpose_2\\annotations\\class_0\\img298.tif is a low contrast image\n",
      "  return func(*args, **kwargs)\n",
      "c:\\Users\\bnort\\miniconda3\\envs\\microsam_cellose_sam\\Lib\\site-packages\\skimage\\_shared\\utils.py:328: UserWarning: D:\\images\\tnia-python-images\\imagesc\\2024_10_11_tough_cellpose_2\\predictions\\class_0\\img298.tif is a low contrast image\n",
      "  return func(*args, **kwargs)\n",
      "c:\\Users\\bnort\\miniconda3\\envs\\microsam_cellose_sam\\Lib\\site-packages\\skimage\\_shared\\utils.py:328: UserWarning: D:\\images\\tnia-python-images\\imagesc\\2024_10_11_tough_cellpose_2\\annotations\\class_0\\img299.tif is a low contrast image\n",
      "  return func(*args, **kwargs)\n",
      "c:\\Users\\bnort\\miniconda3\\envs\\microsam_cellose_sam\\Lib\\site-packages\\skimage\\_shared\\utils.py:328: UserWarning: D:\\images\\tnia-python-images\\imagesc\\2024_10_11_tough_cellpose_2\\predictions\\class_0\\img299.tif is a low contrast image\n",
      "  return func(*args, **kwargs)\n",
      "c:\\Users\\bnort\\miniconda3\\envs\\microsam_cellose_sam\\Lib\\site-packages\\skimage\\_shared\\utils.py:328: UserWarning: D:\\images\\tnia-python-images\\imagesc\\2024_10_11_tough_cellpose_2\\annotations\\class_0\\img302.tif is a low contrast image\n",
      "  return func(*args, **kwargs)\n",
      "c:\\Users\\bnort\\miniconda3\\envs\\microsam_cellose_sam\\Lib\\site-packages\\skimage\\_shared\\utils.py:328: UserWarning: D:\\images\\tnia-python-images\\imagesc\\2024_10_11_tough_cellpose_2\\predictions\\class_0\\img302.tif is a low contrast image\n",
      "  return func(*args, **kwargs)\n",
      "c:\\Users\\bnort\\miniconda3\\envs\\microsam_cellose_sam\\Lib\\site-packages\\skimage\\_shared\\utils.py:328: UserWarning: D:\\images\\tnia-python-images\\imagesc\\2024_10_11_tough_cellpose_2\\annotations\\class_0\\img304.tif is a low contrast image\n",
      "  return func(*args, **kwargs)\n",
      "c:\\Users\\bnort\\miniconda3\\envs\\microsam_cellose_sam\\Lib\\site-packages\\skimage\\_shared\\utils.py:328: UserWarning: D:\\images\\tnia-python-images\\imagesc\\2024_10_11_tough_cellpose_2\\predictions\\class_0\\img304.tif is a low contrast image\n",
      "  return func(*args, **kwargs)\n",
      "c:\\Users\\bnort\\miniconda3\\envs\\microsam_cellose_sam\\Lib\\site-packages\\skimage\\_shared\\utils.py:328: UserWarning: D:\\images\\tnia-python-images\\imagesc\\2024_10_11_tough_cellpose_2\\annotations\\class_0\\img305.tif is a low contrast image\n",
      "  return func(*args, **kwargs)\n",
      "c:\\Users\\bnort\\miniconda3\\envs\\microsam_cellose_sam\\Lib\\site-packages\\skimage\\_shared\\utils.py:328: UserWarning: D:\\images\\tnia-python-images\\imagesc\\2024_10_11_tough_cellpose_2\\predictions\\class_0\\img305.tif is a low contrast image\n",
      "  return func(*args, **kwargs)\n",
      "c:\\Users\\bnort\\miniconda3\\envs\\microsam_cellose_sam\\Lib\\site-packages\\skimage\\_shared\\utils.py:328: UserWarning: D:\\images\\tnia-python-images\\imagesc\\2024_10_11_tough_cellpose_2\\annotations\\class_0\\img306.tif is a low contrast image\n",
      "  return func(*args, **kwargs)\n",
      "c:\\Users\\bnort\\miniconda3\\envs\\microsam_cellose_sam\\Lib\\site-packages\\skimage\\_shared\\utils.py:328: UserWarning: D:\\images\\tnia-python-images\\imagesc\\2024_10_11_tough_cellpose_2\\predictions\\class_0\\img306.tif is a low contrast image\n",
      "  return func(*args, **kwargs)\n",
      "c:\\Users\\bnort\\miniconda3\\envs\\microsam_cellose_sam\\Lib\\site-packages\\skimage\\_shared\\utils.py:328: UserWarning: D:\\images\\tnia-python-images\\imagesc\\2024_10_11_tough_cellpose_2\\annotations\\class_0\\img307.tif is a low contrast image\n",
      "  return func(*args, **kwargs)\n",
      "c:\\Users\\bnort\\miniconda3\\envs\\microsam_cellose_sam\\Lib\\site-packages\\skimage\\_shared\\utils.py:328: UserWarning: D:\\images\\tnia-python-images\\imagesc\\2024_10_11_tough_cellpose_2\\predictions\\class_0\\img307.tif is a low contrast image\n",
      "  return func(*args, **kwargs)\n",
      "c:\\Users\\bnort\\miniconda3\\envs\\microsam_cellose_sam\\Lib\\site-packages\\skimage\\_shared\\utils.py:328: UserWarning: D:\\images\\tnia-python-images\\imagesc\\2024_10_11_tough_cellpose_2\\annotations\\class_0\\img309.tif is a low contrast image\n",
      "  return func(*args, **kwargs)\n",
      "c:\\Users\\bnort\\miniconda3\\envs\\microsam_cellose_sam\\Lib\\site-packages\\skimage\\_shared\\utils.py:328: UserWarning: D:\\images\\tnia-python-images\\imagesc\\2024_10_11_tough_cellpose_2\\predictions\\class_0\\img309.tif is a low contrast image\n",
      "  return func(*args, **kwargs)\n",
      "c:\\Users\\bnort\\miniconda3\\envs\\microsam_cellose_sam\\Lib\\site-packages\\skimage\\_shared\\utils.py:328: UserWarning: D:\\images\\tnia-python-images\\imagesc\\2024_10_11_tough_cellpose_2\\annotations\\class_0\\img310.tif is a low contrast image\n",
      "  return func(*args, **kwargs)\n",
      "c:\\Users\\bnort\\miniconda3\\envs\\microsam_cellose_sam\\Lib\\site-packages\\skimage\\_shared\\utils.py:328: UserWarning: D:\\images\\tnia-python-images\\imagesc\\2024_10_11_tough_cellpose_2\\predictions\\class_0\\img310.tif is a low contrast image\n",
      "  return func(*args, **kwargs)\n",
      "c:\\Users\\bnort\\miniconda3\\envs\\microsam_cellose_sam\\Lib\\site-packages\\skimage\\_shared\\utils.py:328: UserWarning: D:\\images\\tnia-python-images\\imagesc\\2024_10_11_tough_cellpose_2\\annotations\\class_0\\img311.tif is a low contrast image\n",
      "  return func(*args, **kwargs)\n",
      "c:\\Users\\bnort\\miniconda3\\envs\\microsam_cellose_sam\\Lib\\site-packages\\skimage\\_shared\\utils.py:328: UserWarning: D:\\images\\tnia-python-images\\imagesc\\2024_10_11_tough_cellpose_2\\predictions\\class_0\\img311.tif is a low contrast image\n",
      "  return func(*args, **kwargs)\n",
      "c:\\Users\\bnort\\miniconda3\\envs\\microsam_cellose_sam\\Lib\\site-packages\\skimage\\_shared\\utils.py:328: UserWarning: D:\\images\\tnia-python-images\\imagesc\\2024_10_11_tough_cellpose_2\\annotations\\class_0\\img314.tif is a low contrast image\n",
      "  return func(*args, **kwargs)\n",
      "c:\\Users\\bnort\\miniconda3\\envs\\microsam_cellose_sam\\Lib\\site-packages\\skimage\\_shared\\utils.py:328: UserWarning: D:\\images\\tnia-python-images\\imagesc\\2024_10_11_tough_cellpose_2\\predictions\\class_0\\img314.tif is a low contrast image\n",
      "  return func(*args, **kwargs)\n",
      "c:\\Users\\bnort\\miniconda3\\envs\\microsam_cellose_sam\\Lib\\site-packages\\skimage\\_shared\\utils.py:328: UserWarning: D:\\images\\tnia-python-images\\imagesc\\2024_10_11_tough_cellpose_2\\annotations\\class_0\\img318.tif is a low contrast image\n",
      "  return func(*args, **kwargs)\n",
      "c:\\Users\\bnort\\miniconda3\\envs\\microsam_cellose_sam\\Lib\\site-packages\\skimage\\_shared\\utils.py:328: UserWarning: D:\\images\\tnia-python-images\\imagesc\\2024_10_11_tough_cellpose_2\\predictions\\class_0\\img318.tif is a low contrast image\n",
      "  return func(*args, **kwargs)\n",
      "c:\\Users\\bnort\\miniconda3\\envs\\microsam_cellose_sam\\Lib\\site-packages\\skimage\\_shared\\utils.py:328: UserWarning: D:\\images\\tnia-python-images\\imagesc\\2024_10_11_tough_cellpose_2\\annotations\\class_0\\img320.tif is a low contrast image\n",
      "  return func(*args, **kwargs)\n",
      "c:\\Users\\bnort\\miniconda3\\envs\\microsam_cellose_sam\\Lib\\site-packages\\skimage\\_shared\\utils.py:328: UserWarning: D:\\images\\tnia-python-images\\imagesc\\2024_10_11_tough_cellpose_2\\predictions\\class_0\\img320.tif is a low contrast image\n",
      "  return func(*args, **kwargs)\n",
      "c:\\Users\\bnort\\miniconda3\\envs\\microsam_cellose_sam\\Lib\\site-packages\\skimage\\_shared\\utils.py:328: UserWarning: D:\\images\\tnia-python-images\\imagesc\\2024_10_11_tough_cellpose_2\\annotations\\class_0\\img327.tif is a low contrast image\n",
      "  return func(*args, **kwargs)\n",
      "c:\\Users\\bnort\\miniconda3\\envs\\microsam_cellose_sam\\Lib\\site-packages\\skimage\\_shared\\utils.py:328: UserWarning: D:\\images\\tnia-python-images\\imagesc\\2024_10_11_tough_cellpose_2\\predictions\\class_0\\img327.tif is a low contrast image\n",
      "  return func(*args, **kwargs)\n",
      "c:\\Users\\bnort\\miniconda3\\envs\\microsam_cellose_sam\\Lib\\site-packages\\skimage\\_shared\\utils.py:328: UserWarning: D:\\images\\tnia-python-images\\imagesc\\2024_10_11_tough_cellpose_2\\annotations\\class_0\\img328.tif is a low contrast image\n",
      "  return func(*args, **kwargs)\n",
      "c:\\Users\\bnort\\miniconda3\\envs\\microsam_cellose_sam\\Lib\\site-packages\\skimage\\_shared\\utils.py:328: UserWarning: D:\\images\\tnia-python-images\\imagesc\\2024_10_11_tough_cellpose_2\\predictions\\class_0\\img328.tif is a low contrast image\n",
      "  return func(*args, **kwargs)\n",
      "c:\\Users\\bnort\\miniconda3\\envs\\microsam_cellose_sam\\Lib\\site-packages\\skimage\\_shared\\utils.py:328: UserWarning: D:\\images\\tnia-python-images\\imagesc\\2024_10_11_tough_cellpose_2\\annotations\\class_0\\img350.tif is a low contrast image\n",
      "  return func(*args, **kwargs)\n",
      "c:\\Users\\bnort\\miniconda3\\envs\\microsam_cellose_sam\\Lib\\site-packages\\skimage\\_shared\\utils.py:328: UserWarning: D:\\images\\tnia-python-images\\imagesc\\2024_10_11_tough_cellpose_2\\predictions\\class_0\\img350.tif is a low contrast image\n",
      "  return func(*args, **kwargs)\n",
      "c:\\Users\\bnort\\miniconda3\\envs\\microsam_cellose_sam\\Lib\\site-packages\\skimage\\_shared\\utils.py:328: UserWarning: D:\\images\\tnia-python-images\\imagesc\\2024_10_11_tough_cellpose_2\\annotations\\class_0\\img359.tif is a low contrast image\n",
      "  return func(*args, **kwargs)\n",
      "c:\\Users\\bnort\\miniconda3\\envs\\microsam_cellose_sam\\Lib\\site-packages\\skimage\\_shared\\utils.py:328: UserWarning: D:\\images\\tnia-python-images\\imagesc\\2024_10_11_tough_cellpose_2\\predictions\\class_0\\img359.tif is a low contrast image\n",
      "  return func(*args, **kwargs)\n",
      "c:\\Users\\bnort\\miniconda3\\envs\\microsam_cellose_sam\\Lib\\site-packages\\skimage\\_shared\\utils.py:328: UserWarning: D:\\images\\tnia-python-images\\imagesc\\2024_10_11_tough_cellpose_2\\annotations\\class_0\\img360.tif is a low contrast image\n",
      "  return func(*args, **kwargs)\n",
      "c:\\Users\\bnort\\miniconda3\\envs\\microsam_cellose_sam\\Lib\\site-packages\\skimage\\_shared\\utils.py:328: UserWarning: D:\\images\\tnia-python-images\\imagesc\\2024_10_11_tough_cellpose_2\\predictions\\class_0\\img360.tif is a low contrast image\n",
      "  return func(*args, **kwargs)\n",
      "c:\\Users\\bnort\\miniconda3\\envs\\microsam_cellose_sam\\Lib\\site-packages\\skimage\\_shared\\utils.py:328: UserWarning: D:\\images\\tnia-python-images\\imagesc\\2024_10_11_tough_cellpose_2\\annotations\\class_0\\img40.tif is a low contrast image\n",
      "  return func(*args, **kwargs)\n",
      "c:\\Users\\bnort\\miniconda3\\envs\\microsam_cellose_sam\\Lib\\site-packages\\skimage\\_shared\\utils.py:328: UserWarning: D:\\images\\tnia-python-images\\imagesc\\2024_10_11_tough_cellpose_2\\predictions\\class_0\\img40.tif is a low contrast image\n",
      "  return func(*args, **kwargs)\n",
      "c:\\Users\\bnort\\miniconda3\\envs\\microsam_cellose_sam\\Lib\\site-packages\\skimage\\_shared\\utils.py:328: UserWarning: D:\\images\\tnia-python-images\\imagesc\\2024_10_11_tough_cellpose_2\\annotations\\class_0\\img41.tif is a low contrast image\n",
      "  return func(*args, **kwargs)\n",
      "c:\\Users\\bnort\\miniconda3\\envs\\microsam_cellose_sam\\Lib\\site-packages\\skimage\\_shared\\utils.py:328: UserWarning: D:\\images\\tnia-python-images\\imagesc\\2024_10_11_tough_cellpose_2\\predictions\\class_0\\img41.tif is a low contrast image\n",
      "  return func(*args, **kwargs)\n",
      "c:\\Users\\bnort\\miniconda3\\envs\\microsam_cellose_sam\\Lib\\site-packages\\skimage\\_shared\\utils.py:328: UserWarning: D:\\images\\tnia-python-images\\imagesc\\2024_10_11_tough_cellpose_2\\annotations\\class_0\\img43.tif is a low contrast image\n",
      "  return func(*args, **kwargs)\n",
      "c:\\Users\\bnort\\miniconda3\\envs\\microsam_cellose_sam\\Lib\\site-packages\\skimage\\_shared\\utils.py:328: UserWarning: D:\\images\\tnia-python-images\\imagesc\\2024_10_11_tough_cellpose_2\\predictions\\class_0\\img43.tif is a low contrast image\n",
      "  return func(*args, **kwargs)\n",
      "c:\\Users\\bnort\\miniconda3\\envs\\microsam_cellose_sam\\Lib\\site-packages\\skimage\\_shared\\utils.py:328: UserWarning: D:\\images\\tnia-python-images\\imagesc\\2024_10_11_tough_cellpose_2\\annotations\\class_0\\img438.tif is a low contrast image\n",
      "  return func(*args, **kwargs)\n",
      "c:\\Users\\bnort\\miniconda3\\envs\\microsam_cellose_sam\\Lib\\site-packages\\skimage\\_shared\\utils.py:328: UserWarning: D:\\images\\tnia-python-images\\imagesc\\2024_10_11_tough_cellpose_2\\predictions\\class_0\\img438.tif is a low contrast image\n",
      "  return func(*args, **kwargs)\n",
      "c:\\Users\\bnort\\miniconda3\\envs\\microsam_cellose_sam\\Lib\\site-packages\\skimage\\_shared\\utils.py:328: UserWarning: D:\\images\\tnia-python-images\\imagesc\\2024_10_11_tough_cellpose_2\\annotations\\class_0\\img44.tif is a low contrast image\n",
      "  return func(*args, **kwargs)\n",
      "c:\\Users\\bnort\\miniconda3\\envs\\microsam_cellose_sam\\Lib\\site-packages\\skimage\\_shared\\utils.py:328: UserWarning: D:\\images\\tnia-python-images\\imagesc\\2024_10_11_tough_cellpose_2\\predictions\\class_0\\img44.tif is a low contrast image\n",
      "  return func(*args, **kwargs)\n",
      "c:\\Users\\bnort\\miniconda3\\envs\\microsam_cellose_sam\\Lib\\site-packages\\skimage\\_shared\\utils.py:328: UserWarning: D:\\images\\tnia-python-images\\imagesc\\2024_10_11_tough_cellpose_2\\annotations\\class_0\\img45.tif is a low contrast image\n",
      "  return func(*args, **kwargs)\n",
      "c:\\Users\\bnort\\miniconda3\\envs\\microsam_cellose_sam\\Lib\\site-packages\\skimage\\_shared\\utils.py:328: UserWarning: D:\\images\\tnia-python-images\\imagesc\\2024_10_11_tough_cellpose_2\\predictions\\class_0\\img45.tif is a low contrast image\n",
      "  return func(*args, **kwargs)\n",
      "c:\\Users\\bnort\\miniconda3\\envs\\microsam_cellose_sam\\Lib\\site-packages\\skimage\\_shared\\utils.py:328: UserWarning: D:\\images\\tnia-python-images\\imagesc\\2024_10_11_tough_cellpose_2\\annotations\\class_0\\img46.tif is a low contrast image\n",
      "  return func(*args, **kwargs)\n",
      "c:\\Users\\bnort\\miniconda3\\envs\\microsam_cellose_sam\\Lib\\site-packages\\skimage\\_shared\\utils.py:328: UserWarning: D:\\images\\tnia-python-images\\imagesc\\2024_10_11_tough_cellpose_2\\predictions\\class_0\\img46.tif is a low contrast image\n",
      "  return func(*args, **kwargs)\n",
      "c:\\Users\\bnort\\miniconda3\\envs\\microsam_cellose_sam\\Lib\\site-packages\\skimage\\_shared\\utils.py:328: UserWarning: D:\\images\\tnia-python-images\\imagesc\\2024_10_11_tough_cellpose_2\\annotations\\class_0\\img47.tif is a low contrast image\n",
      "  return func(*args, **kwargs)\n",
      "c:\\Users\\bnort\\miniconda3\\envs\\microsam_cellose_sam\\Lib\\site-packages\\skimage\\_shared\\utils.py:328: UserWarning: D:\\images\\tnia-python-images\\imagesc\\2024_10_11_tough_cellpose_2\\predictions\\class_0\\img47.tif is a low contrast image\n",
      "  return func(*args, **kwargs)\n",
      "c:\\Users\\bnort\\miniconda3\\envs\\microsam_cellose_sam\\Lib\\site-packages\\skimage\\_shared\\utils.py:328: UserWarning: D:\\images\\tnia-python-images\\imagesc\\2024_10_11_tough_cellpose_2\\annotations\\class_0\\img48.tif is a low contrast image\n",
      "  return func(*args, **kwargs)\n",
      "c:\\Users\\bnort\\miniconda3\\envs\\microsam_cellose_sam\\Lib\\site-packages\\skimage\\_shared\\utils.py:328: UserWarning: D:\\images\\tnia-python-images\\imagesc\\2024_10_11_tough_cellpose_2\\predictions\\class_0\\img48.tif is a low contrast image\n",
      "  return func(*args, **kwargs)\n",
      "c:\\Users\\bnort\\miniconda3\\envs\\microsam_cellose_sam\\Lib\\site-packages\\skimage\\_shared\\utils.py:328: UserWarning: D:\\images\\tnia-python-images\\imagesc\\2024_10_11_tough_cellpose_2\\annotations\\class_0\\img480.tif is a low contrast image\n",
      "  return func(*args, **kwargs)\n",
      "c:\\Users\\bnort\\miniconda3\\envs\\microsam_cellose_sam\\Lib\\site-packages\\skimage\\_shared\\utils.py:328: UserWarning: D:\\images\\tnia-python-images\\imagesc\\2024_10_11_tough_cellpose_2\\predictions\\class_0\\img480.tif is a low contrast image\n",
      "  return func(*args, **kwargs)\n",
      "c:\\Users\\bnort\\miniconda3\\envs\\microsam_cellose_sam\\Lib\\site-packages\\skimage\\_shared\\utils.py:328: UserWarning: D:\\images\\tnia-python-images\\imagesc\\2024_10_11_tough_cellpose_2\\annotations\\class_0\\img482.tif is a low contrast image\n",
      "  return func(*args, **kwargs)\n",
      "c:\\Users\\bnort\\miniconda3\\envs\\microsam_cellose_sam\\Lib\\site-packages\\skimage\\_shared\\utils.py:328: UserWarning: D:\\images\\tnia-python-images\\imagesc\\2024_10_11_tough_cellpose_2\\predictions\\class_0\\img482.tif is a low contrast image\n",
      "  return func(*args, **kwargs)\n",
      "c:\\Users\\bnort\\miniconda3\\envs\\microsam_cellose_sam\\Lib\\site-packages\\skimage\\_shared\\utils.py:328: UserWarning: D:\\images\\tnia-python-images\\imagesc\\2024_10_11_tough_cellpose_2\\annotations\\class_0\\img492.tif is a low contrast image\n",
      "  return func(*args, **kwargs)\n",
      "c:\\Users\\bnort\\miniconda3\\envs\\microsam_cellose_sam\\Lib\\site-packages\\skimage\\_shared\\utils.py:328: UserWarning: D:\\images\\tnia-python-images\\imagesc\\2024_10_11_tough_cellpose_2\\predictions\\class_0\\img492.tif is a low contrast image\n",
      "  return func(*args, **kwargs)\n",
      "c:\\Users\\bnort\\miniconda3\\envs\\microsam_cellose_sam\\Lib\\site-packages\\skimage\\_shared\\utils.py:328: UserWarning: D:\\images\\tnia-python-images\\imagesc\\2024_10_11_tough_cellpose_2\\annotations\\class_0\\img51.tif is a low contrast image\n",
      "  return func(*args, **kwargs)\n",
      "c:\\Users\\bnort\\miniconda3\\envs\\microsam_cellose_sam\\Lib\\site-packages\\skimage\\_shared\\utils.py:328: UserWarning: D:\\images\\tnia-python-images\\imagesc\\2024_10_11_tough_cellpose_2\\predictions\\class_0\\img51.tif is a low contrast image\n",
      "  return func(*args, **kwargs)\n",
      "c:\\Users\\bnort\\miniconda3\\envs\\microsam_cellose_sam\\Lib\\site-packages\\skimage\\_shared\\utils.py:328: UserWarning: D:\\images\\tnia-python-images\\imagesc\\2024_10_11_tough_cellpose_2\\annotations\\class_0\\img52.tif is a low contrast image\n",
      "  return func(*args, **kwargs)\n",
      "c:\\Users\\bnort\\miniconda3\\envs\\microsam_cellose_sam\\Lib\\site-packages\\skimage\\_shared\\utils.py:328: UserWarning: D:\\images\\tnia-python-images\\imagesc\\2024_10_11_tough_cellpose_2\\predictions\\class_0\\img52.tif is a low contrast image\n",
      "  return func(*args, **kwargs)\n",
      "c:\\Users\\bnort\\miniconda3\\envs\\microsam_cellose_sam\\Lib\\site-packages\\skimage\\_shared\\utils.py:328: UserWarning: D:\\images\\tnia-python-images\\imagesc\\2024_10_11_tough_cellpose_2\\annotations\\class_0\\img53.tif is a low contrast image\n",
      "  return func(*args, **kwargs)\n",
      "c:\\Users\\bnort\\miniconda3\\envs\\microsam_cellose_sam\\Lib\\site-packages\\skimage\\_shared\\utils.py:328: UserWarning: D:\\images\\tnia-python-images\\imagesc\\2024_10_11_tough_cellpose_2\\predictions\\class_0\\img53.tif is a low contrast image\n",
      "  return func(*args, **kwargs)\n",
      "c:\\Users\\bnort\\miniconda3\\envs\\microsam_cellose_sam\\Lib\\site-packages\\skimage\\_shared\\utils.py:328: UserWarning: D:\\images\\tnia-python-images\\imagesc\\2024_10_11_tough_cellpose_2\\annotations\\class_0\\img54.tif is a low contrast image\n",
      "  return func(*args, **kwargs)\n",
      "c:\\Users\\bnort\\miniconda3\\envs\\microsam_cellose_sam\\Lib\\site-packages\\skimage\\_shared\\utils.py:328: UserWarning: D:\\images\\tnia-python-images\\imagesc\\2024_10_11_tough_cellpose_2\\predictions\\class_0\\img54.tif is a low contrast image\n",
      "  return func(*args, **kwargs)\n",
      "c:\\Users\\bnort\\miniconda3\\envs\\microsam_cellose_sam\\Lib\\site-packages\\skimage\\_shared\\utils.py:328: UserWarning: D:\\images\\tnia-python-images\\imagesc\\2024_10_11_tough_cellpose_2\\annotations\\class_0\\img55.tif is a low contrast image\n",
      "  return func(*args, **kwargs)\n",
      "c:\\Users\\bnort\\miniconda3\\envs\\microsam_cellose_sam\\Lib\\site-packages\\skimage\\_shared\\utils.py:328: UserWarning: D:\\images\\tnia-python-images\\imagesc\\2024_10_11_tough_cellpose_2\\predictions\\class_0\\img55.tif is a low contrast image\n",
      "  return func(*args, **kwargs)\n",
      "c:\\Users\\bnort\\miniconda3\\envs\\microsam_cellose_sam\\Lib\\site-packages\\skimage\\_shared\\utils.py:328: UserWarning: D:\\images\\tnia-python-images\\imagesc\\2024_10_11_tough_cellpose_2\\annotations\\class_0\\img56.tif is a low contrast image\n",
      "  return func(*args, **kwargs)\n",
      "c:\\Users\\bnort\\miniconda3\\envs\\microsam_cellose_sam\\Lib\\site-packages\\skimage\\_shared\\utils.py:328: UserWarning: D:\\images\\tnia-python-images\\imagesc\\2024_10_11_tough_cellpose_2\\predictions\\class_0\\img56.tif is a low contrast image\n",
      "  return func(*args, **kwargs)\n",
      "c:\\Users\\bnort\\miniconda3\\envs\\microsam_cellose_sam\\Lib\\site-packages\\skimage\\_shared\\utils.py:328: UserWarning: D:\\images\\tnia-python-images\\imagesc\\2024_10_11_tough_cellpose_2\\annotations\\class_0\\img58.tif is a low contrast image\n",
      "  return func(*args, **kwargs)\n",
      "c:\\Users\\bnort\\miniconda3\\envs\\microsam_cellose_sam\\Lib\\site-packages\\skimage\\_shared\\utils.py:328: UserWarning: D:\\images\\tnia-python-images\\imagesc\\2024_10_11_tough_cellpose_2\\predictions\\class_0\\img58.tif is a low contrast image\n",
      "  return func(*args, **kwargs)\n",
      "c:\\Users\\bnort\\miniconda3\\envs\\microsam_cellose_sam\\Lib\\site-packages\\skimage\\_shared\\utils.py:328: UserWarning: D:\\images\\tnia-python-images\\imagesc\\2024_10_11_tough_cellpose_2\\annotations\\class_0\\img59.tif is a low contrast image\n",
      "  return func(*args, **kwargs)\n",
      "c:\\Users\\bnort\\miniconda3\\envs\\microsam_cellose_sam\\Lib\\site-packages\\skimage\\_shared\\utils.py:328: UserWarning: D:\\images\\tnia-python-images\\imagesc\\2024_10_11_tough_cellpose_2\\predictions\\class_0\\img59.tif is a low contrast image\n",
      "  return func(*args, **kwargs)\n",
      "c:\\Users\\bnort\\miniconda3\\envs\\microsam_cellose_sam\\Lib\\site-packages\\skimage\\_shared\\utils.py:328: UserWarning: D:\\images\\tnia-python-images\\imagesc\\2024_10_11_tough_cellpose_2\\annotations\\class_0\\img60.tif is a low contrast image\n",
      "  return func(*args, **kwargs)\n",
      "c:\\Users\\bnort\\miniconda3\\envs\\microsam_cellose_sam\\Lib\\site-packages\\skimage\\_shared\\utils.py:328: UserWarning: D:\\images\\tnia-python-images\\imagesc\\2024_10_11_tough_cellpose_2\\predictions\\class_0\\img60.tif is a low contrast image\n",
      "  return func(*args, **kwargs)\n",
      "c:\\Users\\bnort\\miniconda3\\envs\\microsam_cellose_sam\\Lib\\site-packages\\skimage\\_shared\\utils.py:328: UserWarning: D:\\images\\tnia-python-images\\imagesc\\2024_10_11_tough_cellpose_2\\annotations\\class_0\\img61.tif is a low contrast image\n",
      "  return func(*args, **kwargs)\n",
      "c:\\Users\\bnort\\miniconda3\\envs\\microsam_cellose_sam\\Lib\\site-packages\\skimage\\_shared\\utils.py:328: UserWarning: D:\\images\\tnia-python-images\\imagesc\\2024_10_11_tough_cellpose_2\\predictions\\class_0\\img61.tif is a low contrast image\n",
      "  return func(*args, **kwargs)\n",
      "c:\\Users\\bnort\\miniconda3\\envs\\microsam_cellose_sam\\Lib\\site-packages\\skimage\\_shared\\utils.py:328: UserWarning: D:\\images\\tnia-python-images\\imagesc\\2024_10_11_tough_cellpose_2\\annotations\\class_0\\img62.tif is a low contrast image\n",
      "  return func(*args, **kwargs)\n",
      "c:\\Users\\bnort\\miniconda3\\envs\\microsam_cellose_sam\\Lib\\site-packages\\skimage\\_shared\\utils.py:328: UserWarning: D:\\images\\tnia-python-images\\imagesc\\2024_10_11_tough_cellpose_2\\predictions\\class_0\\img62.tif is a low contrast image\n",
      "  return func(*args, **kwargs)\n",
      "c:\\Users\\bnort\\miniconda3\\envs\\microsam_cellose_sam\\Lib\\site-packages\\skimage\\_shared\\utils.py:328: UserWarning: D:\\images\\tnia-python-images\\imagesc\\2024_10_11_tough_cellpose_2\\annotations\\class_0\\img63.tif is a low contrast image\n",
      "  return func(*args, **kwargs)\n",
      "c:\\Users\\bnort\\miniconda3\\envs\\microsam_cellose_sam\\Lib\\site-packages\\skimage\\_shared\\utils.py:328: UserWarning: D:\\images\\tnia-python-images\\imagesc\\2024_10_11_tough_cellpose_2\\predictions\\class_0\\img63.tif is a low contrast image\n",
      "  return func(*args, **kwargs)\n",
      "c:\\Users\\bnort\\miniconda3\\envs\\microsam_cellose_sam\\Lib\\site-packages\\skimage\\_shared\\utils.py:328: UserWarning: D:\\images\\tnia-python-images\\imagesc\\2024_10_11_tough_cellpose_2\\annotations\\class_0\\img64.tif is a low contrast image\n",
      "  return func(*args, **kwargs)\n",
      "c:\\Users\\bnort\\miniconda3\\envs\\microsam_cellose_sam\\Lib\\site-packages\\skimage\\_shared\\utils.py:328: UserWarning: D:\\images\\tnia-python-images\\imagesc\\2024_10_11_tough_cellpose_2\\predictions\\class_0\\img64.tif is a low contrast image\n",
      "  return func(*args, **kwargs)\n",
      "c:\\Users\\bnort\\miniconda3\\envs\\microsam_cellose_sam\\Lib\\site-packages\\skimage\\_shared\\utils.py:328: UserWarning: D:\\images\\tnia-python-images\\imagesc\\2024_10_11_tough_cellpose_2\\annotations\\class_0\\img79.tif is a low contrast image\n",
      "  return func(*args, **kwargs)\n",
      "c:\\Users\\bnort\\miniconda3\\envs\\microsam_cellose_sam\\Lib\\site-packages\\skimage\\_shared\\utils.py:328: UserWarning: D:\\images\\tnia-python-images\\imagesc\\2024_10_11_tough_cellpose_2\\predictions\\class_0\\img79.tif is a low contrast image\n",
      "  return func(*args, **kwargs)\n",
      "c:\\Users\\bnort\\miniconda3\\envs\\microsam_cellose_sam\\Lib\\site-packages\\skimage\\_shared\\utils.py:328: UserWarning: D:\\images\\tnia-python-images\\imagesc\\2024_10_11_tough_cellpose_2\\annotations\\class_0\\img80.tif is a low contrast image\n",
      "  return func(*args, **kwargs)\n",
      "c:\\Users\\bnort\\miniconda3\\envs\\microsam_cellose_sam\\Lib\\site-packages\\skimage\\_shared\\utils.py:328: UserWarning: D:\\images\\tnia-python-images\\imagesc\\2024_10_11_tough_cellpose_2\\predictions\\class_0\\img80.tif is a low contrast image\n",
      "  return func(*args, **kwargs)\n",
      "c:\\Users\\bnort\\miniconda3\\envs\\microsam_cellose_sam\\Lib\\site-packages\\skimage\\_shared\\utils.py:328: UserWarning: D:\\images\\tnia-python-images\\imagesc\\2024_10_11_tough_cellpose_2\\annotations\\class_0\\img87.tif is a low contrast image\n",
      "  return func(*args, **kwargs)\n",
      "c:\\Users\\bnort\\miniconda3\\envs\\microsam_cellose_sam\\Lib\\site-packages\\skimage\\_shared\\utils.py:328: UserWarning: D:\\images\\tnia-python-images\\imagesc\\2024_10_11_tough_cellpose_2\\predictions\\class_0\\img87.tif is a low contrast image\n",
      "  return func(*args, **kwargs)\n",
      "c:\\Users\\bnort\\miniconda3\\envs\\microsam_cellose_sam\\Lib\\site-packages\\skimage\\_shared\\utils.py:328: UserWarning: D:\\images\\tnia-python-images\\imagesc\\2024_10_11_tough_cellpose_2\\annotations\\class_0\\img88.tif is a low contrast image\n",
      "  return func(*args, **kwargs)\n",
      "c:\\Users\\bnort\\miniconda3\\envs\\microsam_cellose_sam\\Lib\\site-packages\\skimage\\_shared\\utils.py:328: UserWarning: D:\\images\\tnia-python-images\\imagesc\\2024_10_11_tough_cellpose_2\\predictions\\class_0\\img88.tif is a low contrast image\n",
      "  return func(*args, **kwargs)\n",
      "c:\\Users\\bnort\\miniconda3\\envs\\microsam_cellose_sam\\Lib\\site-packages\\skimage\\_shared\\utils.py:328: UserWarning: D:\\images\\tnia-python-images\\imagesc\\2024_10_11_tough_cellpose_2\\annotations\\class_0\\img92.tif is a low contrast image\n",
      "  return func(*args, **kwargs)\n",
      "c:\\Users\\bnort\\miniconda3\\envs\\microsam_cellose_sam\\Lib\\site-packages\\skimage\\_shared\\utils.py:328: UserWarning: D:\\images\\tnia-python-images\\imagesc\\2024_10_11_tough_cellpose_2\\predictions\\class_0\\img92.tif is a low contrast image\n",
      "  return func(*args, **kwargs)\n",
      "c:\\Users\\bnort\\miniconda3\\envs\\microsam_cellose_sam\\Lib\\site-packages\\skimage\\_shared\\utils.py:328: UserWarning: D:\\images\\tnia-python-images\\imagesc\\2024_10_11_tough_cellpose_2\\annotations\\class_0\\img93.tif is a low contrast image\n",
      "  return func(*args, **kwargs)\n",
      "c:\\Users\\bnort\\miniconda3\\envs\\microsam_cellose_sam\\Lib\\site-packages\\skimage\\_shared\\utils.py:328: UserWarning: D:\\images\\tnia-python-images\\imagesc\\2024_10_11_tough_cellpose_2\\predictions\\class_0\\img93.tif is a low contrast image\n",
      "  return func(*args, **kwargs)\n",
      "c:\\Users\\bnort\\miniconda3\\envs\\microsam_cellose_sam\\Lib\\site-packages\\skimage\\_shared\\utils.py:328: UserWarning: D:\\images\\tnia-python-images\\imagesc\\2024_10_11_tough_cellpose_2\\annotations\\class_0\\img94.tif is a low contrast image\n",
      "  return func(*args, **kwargs)\n",
      "c:\\Users\\bnort\\miniconda3\\envs\\microsam_cellose_sam\\Lib\\site-packages\\skimage\\_shared\\utils.py:328: UserWarning: D:\\images\\tnia-python-images\\imagesc\\2024_10_11_tough_cellpose_2\\predictions\\class_0\\img94.tif is a low contrast image\n",
      "  return func(*args, **kwargs)\n",
      "c:\\Users\\bnort\\miniconda3\\envs\\microsam_cellose_sam\\Lib\\site-packages\\skimage\\_shared\\utils.py:328: UserWarning: D:\\images\\tnia-python-images\\imagesc\\2024_10_11_tough_cellpose_2\\annotations\\class_0\\img95.tif is a low contrast image\n",
      "  return func(*args, **kwargs)\n",
      "c:\\Users\\bnort\\miniconda3\\envs\\microsam_cellose_sam\\Lib\\site-packages\\skimage\\_shared\\utils.py:328: UserWarning: D:\\images\\tnia-python-images\\imagesc\\2024_10_11_tough_cellpose_2\\predictions\\class_0\\img95.tif is a low contrast image\n",
      "  return func(*args, **kwargs)\n",
      "c:\\Users\\bnort\\miniconda3\\envs\\microsam_cellose_sam\\Lib\\site-packages\\skimage\\_shared\\utils.py:328: UserWarning: D:\\images\\tnia-python-images\\imagesc\\2024_10_11_tough_cellpose_2\\annotations\\class_0\\img97.tif is a low contrast image\n",
      "  return func(*args, **kwargs)\n",
      "c:\\Users\\bnort\\miniconda3\\envs\\microsam_cellose_sam\\Lib\\site-packages\\skimage\\_shared\\utils.py:328: UserWarning: D:\\images\\tnia-python-images\\imagesc\\2024_10_11_tough_cellpose_2\\predictions\\class_0\\img97.tif is a low contrast image\n",
      "  return func(*args, **kwargs)\n",
      "c:\\Users\\bnort\\miniconda3\\envs\\microsam_cellose_sam\\Lib\\site-packages\\skimage\\_shared\\utils.py:328: UserWarning: D:\\images\\tnia-python-images\\imagesc\\2024_10_11_tough_cellpose_2\\annotations\\class_0\\part1.tif is a low contrast image\n",
      "  return func(*args, **kwargs)\n",
      "c:\\Users\\bnort\\miniconda3\\envs\\microsam_cellose_sam\\Lib\\site-packages\\skimage\\_shared\\utils.py:328: UserWarning: D:\\images\\tnia-python-images\\imagesc\\2024_10_11_tough_cellpose_2\\predictions\\class_0\\part1.tif is a low contrast image\n",
      "  return func(*args, **kwargs)\n"
     ]
    },
    {
     "name": "stdout",
     "output_type": "stream",
     "text": [
      "2025-05-16 06:05:07,390 [WARNING] channels deprecated in v4.0.1+. If data contain more than 3 channels, only the first 3 channels will be used\n",
      "2025-05-16 06:06:02,317 [WARNING] channels deprecated in v4.0.1+. If data contain more than 3 channels, only the first 3 channels will be used\n",
      "2025-05-16 06:06:11,871 [WARNING] channels deprecated in v4.0.1+. If data contain more than 3 channels, only the first 3 channels will be used\n",
      "2025-05-16 06:07:16,586 [WARNING] channels deprecated in v4.0.1+. If data contain more than 3 channels, only the first 3 channels will be used\n",
      "2025-05-16 06:08:04,471 [WARNING] channels deprecated in v4.0.1+. If data contain more than 3 channels, only the first 3 channels will be used\n",
      "2025-05-16 06:09:10,694 [WARNING] channels deprecated in v4.0.1+. If data contain more than 3 channels, only the first 3 channels will be used\n",
      "2025-05-16 06:09:25,401 [WARNING] channels deprecated in v4.0.1+. If data contain more than 3 channels, only the first 3 channels will be used\n",
      "2025-05-16 06:10:54,804 [WARNING] channels deprecated in v4.0.1+. If data contain more than 3 channels, only the first 3 channels will be used\n",
      "2025-05-16 06:29:24,821 [WARNING] channels deprecated in v4.0.1+. If data contain more than 3 channels, only the first 3 channels will be used\n",
      "2025-05-16 06:30:35,845 [WARNING] channels deprecated in v4.0.1+. If data contain more than 3 channels, only the first 3 channels will be used\n"
     ]
    }
   ],
   "source": [
    "\n",
    "viewer = napari.Viewer()\n",
    "\n",
    "batch_dl = easy_augment_batch_dl.NapariEasyAugmentBatchDL(viewer, label_only = False)\n",
    "\n",
    "viewer.window.add_dock_widget(\n",
    "    batch_dl\n",
    ")\n",
    "\n",
    "parent_path =r'D:\\images\\tnia-python-images\\\\imagesc\\\\2024_10_11_tough_cellpose_2'\n",
    "model_path = os.path.join(parent_path, 'models')\n",
    "model_name = 'cellpose_for_protrusions_3'\n",
    "#mod = models.Cellpose(gpu=True, model_type=\"cyto3\")\n",
    "model_type = \"CellPose Instance Model\"\n",
    "batch_dl.load_image_directory(parent_path)\n",
    "\n",
    "# optionally set a pretrained model and settings so we can do prediction\n",
    "if model_name is not None:\n",
    "    batch_dl.network_architecture_drop_down.setCurrentText(model_type)\n",
    "    batch_dl.deep_learning_project.set_pretrained_model(os.path.join(model_path, model_name), model_type)\n",
    "\n",
    "    model = batch_dl.deep_learning_project.models[model_type]\n",
    "    model.prob_thresh = -1\n",
    "    model.flow_thresh = 0.4\n",
    "    model.chan_segment = 2\n",
    "    model.chan2 = 3\n",
    "\n",
    "    widget = batch_dl.param_widgets[model_type]\n",
    "    widget.sync_with_model()\n",
    "    \n",
    "\n",
    "\n",
    "\n"
   ]
  },
  {
   "cell_type": "code",
   "execution_count": 28,
   "metadata": {},
   "outputs": [
    {
     "data": {
      "text/plain": [
       "(0, 65535)"
      ]
     },
     "execution_count": 28,
     "metadata": {},
     "output_type": "execute_result"
    }
   ],
   "source": [
    "parent_path =r'D:\\images\\tnia-python-images\\\\imagesc\\\\2024_10_07_cellpose_multi_nuclear'\n",
    "\n",
    "test = io.imread(os.path.join(parent_path, 'Empty_02 - Copy.tif')).astype('uint16')\n",
    "\n",
    "test.min(), test.max()"
   ]
  }
 ],
 "metadata": {
  "kernelspec": {
   "display_name": "microsam_cellose_sam",
   "language": "python",
   "name": "python3"
  },
  "language_info": {
   "codemirror_mode": {
    "name": "ipython",
    "version": 3
   },
   "file_extension": ".py",
   "mimetype": "text/x-python",
   "name": "python",
   "nbconvert_exporter": "python",
   "pygments_lexer": "ipython3",
   "version": "3.11.12"
  }
 },
 "nbformat": 4,
 "nbformat_minor": 2
}
