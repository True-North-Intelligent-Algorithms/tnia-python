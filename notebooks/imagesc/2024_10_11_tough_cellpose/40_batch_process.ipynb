{
 "cells": [
  {
   "cell_type": "code",
   "execution_count": 2,
   "metadata": {},
   "outputs": [],
   "source": [
    "from pathlib import Path\n",
    "from skimage.io import imread, imsave\n",
    "from cellpose import models, io, utils\n",
    "import os\n",
    "import numpy as np\n",
    "from tnia.deeplearning.dl_helper import quantile_normalization \n",
    "import matplotlib.pyplot as plt"
   ]
  },
  {
   "cell_type": "code",
   "execution_count": 3,
   "metadata": {},
   "outputs": [],
   "source": [
    "parent_path = r'D:\\images\\tnia-python-images\\imagesc\\2024_10_11_tough_cellpose_2'\n",
    "overlay_path = os.path.join(parent_path, 'overlay_niter_2000') \n",
    "model_path = os.path.join(parent_path, 'models')\n",
    "\n",
    "model = models.CellposeModel(gpu=True, model_type=None, pretrained_model= os.path.join(model_path, 'cellpose_for_protrusions_3'))\n"
   ]
  },
  {
   "cell_type": "code",
   "execution_count": 4,
   "metadata": {},
   "outputs": [
    {
     "name": "stdout",
     "output_type": "stream",
     "text": [
      "diameter mean 60.48541 30.0\n"
     ]
    }
   ],
   "source": [
    "print('diameter mean', model.diam_labels, model.diam_mean)"
   ]
  },
  {
   "cell_type": "code",
   "execution_count": 5,
   "metadata": {},
   "outputs": [],
   "source": [
    "def mask_overlay(img, masks, colors=None):\n",
    "    \"\"\"Overlay masks on image (set image to grayscale).\n",
    "\n",
    "    Args:\n",
    "        img (int or float, 2D or 3D array): Image of size [Ly x Lx (x nchan)].\n",
    "        masks (int, 2D array): Masks where 0=NO masks; 1,2,...=mask labels.\n",
    "        colors (int, 2D array, optional): Size [nmasks x 3], each entry is a color in 0-255 range.\n",
    "\n",
    "    Returns:\n",
    "        RGB (uint8, 3D array): Array of masks overlaid on grayscale image.\n",
    "    \"\"\"\n",
    "    if colors is not None:\n",
    "        if colors.max() > 1:\n",
    "            colors = np.float32(colors)\n",
    "            colors /= 255\n",
    "        colors = utils.rgb_to_hsv(colors)\n",
    "    if img.ndim > 2:\n",
    "        img = img.astype(np.float32).mean(axis=-1)\n",
    "    else:\n",
    "        img = img.astype(np.float32)\n",
    "\n",
    "    HSV = np.zeros((img.shape[0], img.shape[1], 3), np.float32)\n",
    "    HSV[:, :, 2] = np.clip((img / 255. if img.max() > 1 else img) * 1.5, 0, 1)\n",
    "    hues = np.linspace(0, 1, masks.max() + 1)[np.random.permutation(masks.max())]\n",
    "    for n in range(int(masks.max())):\n",
    "        ipix = (masks == n + 1).nonzero()\n",
    "        if colors is None:\n",
    "            HSV[ipix[0], ipix[1], 0] = hues[n]\n",
    "        else:\n",
    "            HSV[ipix[0], ipix[1], 0] = colors[n, 0]\n",
    "        HSV[ipix[0], ipix[1], 1] = 1.0\n",
    "    RGB = (utils.hsv_to_rgb(HSV) * 255).astype(np.uint8)\n",
    "    return RGB"
   ]
  },
  {
   "cell_type": "code",
   "execution_count": 8,
   "metadata": {},
   "outputs": [
    {
     "ename": "SyntaxError",
     "evalue": "invalid syntax. Perhaps you forgot a comma? (3607186750.py, line 11)",
     "output_type": "error",
     "traceback": [
      "\u001b[1;36m  Cell \u001b[1;32mIn[8], line 11\u001b[1;36m\u001b[0m\n\u001b[1;33m    masks = model.eval(img, channels=[2, 3], diameter=30, cellprob_threshold=-1, flow_threshold = 0.5, normalize = False niter=2000)\u001b[0m\n\u001b[1;37m                                                                                                                   ^\u001b[0m\n\u001b[1;31mSyntaxError\u001b[0m\u001b[1;31m:\u001b[0m invalid syntax. Perhaps you forgot a comma?\n"
     ]
    }
   ],
   "source": [
    "if not Path(overlay_path).exists():\n",
    "    Path(overlay_path).mkdir()\n",
    "\n",
    "files = Path(parent_path).glob('*.tif')\n",
    "\n",
    "for file in files:\n",
    "    print(file)\n",
    "    img = imread(file)\n",
    "    img = quantile_normalization(img, channels=True).astype(np.float32)\n",
    "\n",
    "    masks = model.eval(img, channels=[2, 3], diameter=30, cellprob_threshold=-1, flow_threshold = 0.5, normalize = False, niter=2000)\n",
    "\n",
    "    img_ = (255)*(img/img.max())\n",
    "    img_ = img_.astype(np.uint8)\n",
    "\n",
    "    outlines = utils.masks_to_outlines(masks[0])\n",
    "    overlay = mask_overlay(img_, masks[0])\n",
    "    imsave(overlay_path + '\\\\' + file.name, overlay)\n",
    "    \n"
   ]
  },
  {
   "cell_type": "code",
   "execution_count": null,
   "metadata": {},
   "outputs": [],
   "source": []
  }
 ],
 "metadata": {
  "kernelspec": {
   "display_name": "pytorch_and_SAM3",
   "language": "python",
   "name": "python3"
  },
  "language_info": {
   "codemirror_mode": {
    "name": "ipython",
    "version": 3
   },
   "file_extension": ".py",
   "mimetype": "text/x-python",
   "name": "python",
   "nbconvert_exporter": "python",
   "pygments_lexer": "ipython3",
   "version": "3.10.14"
  }
 },
 "nbformat": 4,
 "nbformat_minor": 2
}
