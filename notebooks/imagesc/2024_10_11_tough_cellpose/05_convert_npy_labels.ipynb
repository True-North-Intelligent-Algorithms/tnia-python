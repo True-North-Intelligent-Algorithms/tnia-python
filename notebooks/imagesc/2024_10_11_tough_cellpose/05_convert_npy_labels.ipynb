{
 "cells": [
  {
   "cell_type": "markdown",
   "metadata": {},
   "source": [
    "## Convert _seg.npy to .tif labels\n",
    "\n",
    "This notebook takes the _seg.npy labels, converts them to .tif, and puts them into the ```annotations/class0``` directory.  This is where the ```napari-easy-augment-batch-dl``` widget expects them to be, and will make it possible to use that widget for labelling and viewing the entire series of images. "
   ]
  },
  {
   "cell_type": "code",
   "execution_count": 2,
   "metadata": {},
   "outputs": [],
   "source": [
    "import os\n",
    "import numpy as np\n",
    "from pathlib import Path\n",
    "from skimage.io import imread, imsave"
   ]
  },
  {
   "cell_type": "code",
   "execution_count": 3,
   "metadata": {},
   "outputs": [],
   "source": [
    "\n",
    "parent_path = Path(r'/home/bnorthan/images/tnia-python-images/imagesc/2024_10_11_tough_cellpose_2')\n",
    "mask_path =  parent_path / 'images_and_masks' \n",
    "annotation_path = parent_path / 'annotations' / 'class0'\n",
    "\n",
    "if not os.path.exists(annotation_path):\n",
    "    os.makedirs(annotation_path)"
   ]
  },
  {
   "cell_type": "code",
   "execution_count": null,
   "metadata": {},
   "outputs": [],
   "source": [
    "# get all npy files\n",
    "mask_files = list(mask_path.glob('*.npy'))\n",
    "len(mask_files)"
   ]
  },
  {
   "cell_type": "code",
   "execution_count": null,
   "metadata": {},
   "outputs": [],
   "source": [
    "for mask_file in mask_files:\n",
    "    temp = np.load(mask_file, allow_pickle=True)\n",
    "    mask = temp.item().get('masks')\n",
    "\n",
    "    tif_file = Path(str(mask_file).replace('_seg.npy', '.tif'))\n",
    "    base_name = os.path.basename(tif_file)\n",
    "    tif_file = annotation_path / base_name\n",
    "    imsave(tif_file, mask)\n",
    "    print(mask.shape)"
   ]
  }
 ],
 "metadata": {
  "kernelspec": {
   "display_name": "pytorch_and_SAM3",
   "language": "python",
   "name": "python3"
  },
  "language_info": {
   "codemirror_mode": {
    "name": "ipython",
    "version": 3
   },
   "file_extension": ".py",
   "mimetype": "text/x-python",
   "name": "python",
   "nbconvert_exporter": "python",
   "pygments_lexer": "ipython3",
   "version": "3.10.14"
  }
 },
 "nbformat": 4,
 "nbformat_minor": 2
}
