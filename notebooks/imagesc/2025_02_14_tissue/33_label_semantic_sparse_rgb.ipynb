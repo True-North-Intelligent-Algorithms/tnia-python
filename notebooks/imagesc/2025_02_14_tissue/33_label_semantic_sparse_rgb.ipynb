{
 "cells": [
  {
   "cell_type": "markdown",
   "metadata": {},
   "source": [
    "## Label and create patches\n",
    "\n",
    "This notebook uses the napari-easy-augment-batch-dl plugin to label and create patches. \n",
    "\n",
    "Todo:  Add video"
   ]
  },
  {
   "cell_type": "code",
   "execution_count": 1,
   "metadata": {},
   "outputs": [
    {
     "name": "stderr",
     "output_type": "stream",
     "text": [
      "c:\\Users\\bnort\\miniconda3\\envs\\pytorch_and_SAM3\\lib\\site-packages\\tqdm\\auto.py:21: TqdmWarning: IProgress not found. Please update jupyter and ipywidgets. See https://ipywidgets.readthedocs.io/en/stable/user_install.html\n",
      "  from .autonotebook import tqdm as notebook_tqdm\n"
     ]
    }
   ],
   "source": [
    "from cellpose import models, io\n",
    "import os\n",
    "import numpy as np\n",
    "import napari\n",
    "from napari_easy_augment_batch_dl import easy_augment_batch_dl"
   ]
  },
  {
   "cell_type": "code",
   "execution_count": 2,
   "metadata": {},
   "outputs": [
    {
     "name": "stdout",
     "output_type": "stream",
     "text": [
      "VIT checkpoint loaded successfully\n",
      "found framework is  MobileSAMFramework\n",
      "found framework is  YoloSAMFramework\n",
      "found framework is  RandomForestFramework\n",
      "found framework is  PytorchSemanticFramework\n",
      "found framework is  CellPoseInstanceFramework\n",
      "creating new log file\n",
      "2025-02-14 09:21:26,465 [INFO] WRITING LOG OUTPUT TO C:\\Users\\bnort\\.cellpose\\run.log\n",
      "2025-02-14 09:21:26,466 [INFO] \n",
      "cellpose version: \t3.1.0 \n",
      "platform:       \twin32 \n",
      "python version: \t3.10.14 \n",
      "torch version:  \t2.2.2+cu118\n",
      "D:\\images\\tnia-python-images\\imagesc\\2025_02_14_tissue\\noisyPSR.jpeg\n",
      "D:\\images\\tnia-python-images\\imagesc\\2025_02_14_tissue\\normPSR.jpeg\n",
      "Created new Zarr store.\n",
      "Created new Zarr store.\n"
     ]
    },
    {
     "name": "stdout",
     "output_type": "stream",
     "text": [
      "2025-02-14 09:21:57,568 [INFO] >> cyto3 << model set to be used\n",
      "2025-02-14 09:21:57,571 [INFO] ** TORCH CUDA version installed and working. **\n",
      "2025-02-14 09:21:57,571 [INFO] >>>> using GPU (CUDA)\n",
      "2025-02-14 09:21:57,708 [INFO] >>>> loading model C:\\Users\\bnort\\.cellpose\\models\\cyto3\n",
      "2025-02-14 09:21:57,872 [INFO] >>>> model diam_mean =  30.000 (ROIs rescaled to this size during training)\n"
     ]
    },
    {
     "name": "stderr",
     "output_type": "stream",
     "text": [
      "WARNING: QWindowsWindow::setGeometry: Unable to set geometry 1920x1023+1920+23 (frame: 1936x1062+1912-8) on QWidgetWindow/\"_QtMainWindowClassWindow\" on \"\\\\.\\DISPLAY2\". Resulting geometry: 1920x1017+1920+23 (frame: 1936x1056+1912-8) margins: 8, 31, 8, 8 minimum size: 868x1023 MINMAXINFO maxSize=0,0 maxpos=0,0 mintrack=884,1062 maxtrack=0,0)\n"
     ]
    },
    {
     "name": "stdout",
     "output_type": "stream",
     "text": [
      "2025-02-14 11:50:32,524 [WARNING] QWindowsWindow::setGeometry: Unable to set geometry 1920x1023+1920+23 (frame: 1936x1062+1912-8) on QWidgetWindow/\"_QtMainWindowClassWindow\" on \"\\\\.\\DISPLAY2\". Resulting geometry: 1920x1017+1920+23 (frame: 1936x1056+1912-8) margins: 8, 31, 8, 8 minimum size: 868x1023 MINMAXINFO maxSize=0,0 maxpos=0,0 mintrack=884,1062 maxtrack=0,0)\n"
     ]
    }
   ],
   "source": [
    "viewer = napari.Viewer()\n",
    "\n",
    "batch_dl = easy_augment_batch_dl.NapariEasyAugmentBatchDL(viewer, label_only = False)\n",
    "\n",
    "parent_path = r\"D:\\images\\tnia-python-images\\imagesc\\2025_02_14_tissue\"\n",
    "\n",
    "viewer.window.add_dock_widget(\n",
    "    batch_dl\n",
    ")\n",
    "\n",
    "batch_dl.load_image_directory(parent_path)\n",
    "\n"
   ]
  },
  {
   "cell_type": "code",
   "execution_count": null,
   "metadata": {},
   "outputs": [],
   "source": []
  }
 ],
 "metadata": {
  "kernelspec": {
   "display_name": "pytorch_and_SAM3",
   "language": "python",
   "name": "python3"
  },
  "language_info": {
   "codemirror_mode": {
    "name": "ipython",
    "version": 3
   },
   "file_extension": ".py",
   "mimetype": "text/x-python",
   "name": "python",
   "nbconvert_exporter": "python",
   "pygments_lexer": "ipython3",
   "version": "3.10.14"
  }
 },
 "nbformat": 4,
 "nbformat_minor": 2
}
