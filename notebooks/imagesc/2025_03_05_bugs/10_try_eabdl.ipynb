{
 "cells": [
  {
   "cell_type": "code",
   "execution_count": 1,
   "metadata": {},
   "outputs": [
    {
     "name": "stderr",
     "output_type": "stream",
     "text": [
      "c:\\Users\\bnort\\miniconda3\\envs\\pytorch_and_SAM3\\lib\\site-packages\\tqdm\\auto.py:21: TqdmWarning: IProgress not found. Please update jupyter and ipywidgets. See https://ipywidgets.readthedocs.io/en/stable/user_install.html\n",
      "  from .autonotebook import tqdm as notebook_tqdm\n"
     ]
    }
   ],
   "source": [
    "import napari\n",
    "\n",
    "from napari_easy_augment_batch_dl import easy_augment_batch_dl"
   ]
  },
  {
   "cell_type": "code",
   "execution_count": 2,
   "metadata": {},
   "outputs": [
    {
     "name": "stdout",
     "output_type": "stream",
     "text": [
      "VIT checkpoint loaded successfully\n"
     ]
    },
    {
     "data": {
      "text/plain": [
       "<napari._qt.widgets.qt_viewer_dock_widget.QtViewerDockWidget at 0x21b8f239cf0>"
      ]
     },
     "execution_count": 2,
     "metadata": {},
     "output_type": "execute_result"
    }
   ],
   "source": [
    "viewer = napari.Viewer()\n",
    "\n",
    "batch_dl = easy_augment_batch_dl.NapariEasyAugmentBatchDL(viewer)\n",
    "\n",
    "viewer.window.add_dock_widget(\n",
    "    batch_dl\n",
    ")"
   ]
  },
  {
   "cell_type": "code",
   "execution_count": null,
   "metadata": {},
   "outputs": [
    {
     "name": "stdout",
     "output_type": "stream",
     "text": [
      "found framework is  CellPoseInstanceFramework\n",
      "2025-03-05 20:10:06,299 [INFO] WRITING LOG OUTPUT TO C:\\Users\\bnort\\.cellpose\\run.log\n",
      "2025-03-05 20:10:06,301 [INFO] \n",
      "cellpose version: \t3.1.0 \n",
      "platform:       \twin32 \n",
      "python version: \t3.10.14 \n",
      "torch version:  \t2.2.2+cu118\n",
      "found framework is  PytorchSemanticFramework\n",
      "found framework is  MobileSAMFramework\n",
      "found framework is  YoloSAMFramework\n",
      "found framework is  RandomForestFramework\n",
      "Zarr store already up-to-date.\n",
      "Zarr store already up-to-date.\n"
     ]
    },
    {
     "name": "stderr",
     "output_type": "stream",
     "text": [
      "100%|██████████| 100/100 [00:07<00:00, 13.56it/s]"
     ]
    },
    {
     "name": "stdout",
     "output_type": "stream",
     "text": [
      "2025-03-05 20:12:26,350 [INFO] ** TORCH CUDA version installed and working. **\n",
      "2025-03-05 20:12:26,353 [INFO] >>>> using GPU (CUDA)\n"
     ]
    },
    {
     "name": "stderr",
     "output_type": "stream",
     "text": [
      "\n"
     ]
    },
    {
     "name": "stdout",
     "output_type": "stream",
     "text": [
      "2025-03-05 20:12:26,488 [INFO] >>>> no model weights loaded\n",
      "2025-03-05 20:12:26,490 [INFO] computing flows for labels\n"
     ]
    },
    {
     "name": "stderr",
     "output_type": "stream",
     "text": [
      "100%|██████████| 90/90 [00:09<00:00,  9.32it/s]"
     ]
    },
    {
     "name": "stdout",
     "output_type": "stream",
     "text": [
      "2025-03-05 20:12:36,256 [INFO] computing flows for labels\n"
     ]
    },
    {
     "name": "stderr",
     "output_type": "stream",
     "text": [
      "\n",
      "100%|██████████| 10/10 [00:01<00:00,  9.50it/s]"
     ]
    },
    {
     "name": "stdout",
     "output_type": "stream",
     "text": [
      "2025-03-05 20:12:37,322 [INFO] >>> computing diameters\n"
     ]
    },
    {
     "name": "stderr",
     "output_type": "stream",
     "text": [
      "\n",
      "100%|██████████| 90/90 [00:00<00:00, 642.86it/s]\n",
      "100%|██████████| 10/10 [00:00<00:00, 769.17it/s]"
     ]
    },
    {
     "name": "stdout",
     "output_type": "stream",
     "text": [
      "2025-03-05 20:12:37,487 [WARNING] 3 train images with number of masks less than min_train_masks (5), removing from train set\n",
      "2025-03-05 20:12:37,489 [INFO] >>> using channels [0, 0]\n"
     ]
    },
    {
     "name": "stderr",
     "output_type": "stream",
     "text": [
      "\n"
     ]
    },
    {
     "name": "stdout",
     "output_type": "stream",
     "text": [
      "2025-03-05 20:12:37,995 [INFO] >>> n_epochs=10, n_train=87, n_test=10\n",
      "2025-03-05 20:12:37,996 [INFO] >>> AdamW, learning_rate=0.00500, weight_decay=0.00001\n",
      "2025-03-05 20:12:37,999 [INFO] >>> saving model to D:\\images\\tnia-python-images\\imagesc\\2025_03_05_bugs\\models\\cellpose_20250305_201006\n",
      "2025-03-05 20:12:46,054 [INFO] 0, train_loss=1.5190, test_loss=1.3393, LR=0.000000, time 8.06s\n",
      "2025-03-05 20:13:17,441 [INFO] 5, train_loss=0.7086, test_loss=0.5815, LR=0.002778, time 39.44s\n",
      "2025-03-05 20:13:42,687 [INFO] saving network parameters to D:\\images\\tnia-python-images\\imagesc\\2025_03_05_bugs\\models\\cellpose_20250305_201006\n",
      "'QCheckBox' object has no attribute 'setValue'\n",
      "[array([[          0,        2951,        3885],\n",
      "       [          0,        2951,        4625],\n",
      "       [          0,        3709,        4625],\n",
      "       [          0,        3709,        3885]]), array([[          0,      2152.9,      3717.3],\n",
      "       [          0,      2152.9,      4511.8],\n",
      "       [          0,      2887.7,      4511.8],\n",
      "       [          0,      2887.7,      3717.3]])]\n",
      "Deleted file: D:\\images\\tnia-python-images\\imagesc\\2025_03_05_bugs\\labels\\input0\\_8005930_0.json\n",
      "Deleted file: D:\\images\\tnia-python-images\\imagesc\\2025_03_05_bugs\\labels\\input0\\_8005930_0.tif\n",
      "Deleted file: D:\\images\\tnia-python-images\\imagesc\\2025_03_05_bugs\\labels\\ground truth0\\_8005930_0.tif\n",
      "image file is  D:\\images\\tnia-python-images\\imagesc\\2025_03_05_bugs\\_8005930.JPG\n",
      "labelsum is  1170305\n",
      "(758, 740, 3) (758, 740)\n",
      "_8005930_0\n",
      "D:\\images\\tnia-python-images\\imagesc\\2025_03_05_bugs\\labels\\input0/_8005930_0.tif\n",
      "D:\\images\\tnia-python-images\\imagesc\\2025_03_05_bugs\\labels\\ground truth0/_8005930_0.tif\n",
      "D:\\images\\tnia-python-images\\imagesc\\2025_03_05_bugs\\labels\\input0/_8005930_0.tif\n",
      "D:\\images\\tnia-python-images\\imagesc\\2025_03_05_bugs\\labels\\ground truth0\n",
      "image file is  D:\\images\\tnia-python-images\\imagesc\\2025_03_05_bugs\\_8005930.JPG\n",
      "labelsum is  45838846\n",
      "(735, 794, 3) (735, 794)\n",
      "_8005930_1\n",
      "D:\\images\\tnia-python-images\\imagesc\\2025_03_05_bugs\\labels\\input0/_8005930_1.tif\n",
      "D:\\images\\tnia-python-images\\imagesc\\2025_03_05_bugs\\labels\\ground truth0/_8005930_1.tif\n",
      "D:\\images\\tnia-python-images\\imagesc\\2025_03_05_bugs\\labels\\input0/_8005930_1.tif\n",
      "D:\\images\\tnia-python-images\\imagesc\\2025_03_05_bugs\\labels\\ground truth0\n"
     ]
    },
    {
     "name": "stderr",
     "output_type": "stream",
     "text": [
      "deep_learning_project.py (346): D:\\images\\tnia-python-images\\imagesc\\2025_03_05_bugs\\labels\\ground truth0\\_8005930_0.tif is a low contrast image\n",
      "deep_learning_project.py (346): D:\\images\\tnia-python-images\\imagesc\\2025_03_05_bugs\\labels\\ground truth0\\_8005930_1.tif is a low contrast image\n",
      "deep_learning_project.py (367): D:\\images\\tnia-python-images\\imagesc\\2025_03_05_bugs\\annotations\\class_0\\_8005930.tif is a low contrast image\n",
      "deep_learning_project.py (372): D:\\images\\tnia-python-images\\imagesc\\2025_03_05_bugs\\predictions\\class_0\\_8005930.tif is a low contrast image\n",
      "augmentation.py (227): D:\\images\\tnia-python-images\\imagesc\\2025_03_05_bugs\\patches\\ground truth0\\grid_100.tif is a low contrast image\n",
      "augmentation.py (227): D:\\images\\tnia-python-images\\imagesc\\2025_03_05_bugs\\patches\\ground truth0\\grid_101.tif is a low contrast image\n",
      "augmentation.py (227): D:\\images\\tnia-python-images\\imagesc\\2025_03_05_bugs\\patches\\ground truth0\\grid_102.tif is a low contrast image\n",
      "augmentation.py (227): D:\\images\\tnia-python-images\\imagesc\\2025_03_05_bugs\\patches\\ground truth0\\grid_103.tif is a low contrast image\n",
      "augmentation.py (227): D:\\images\\tnia-python-images\\imagesc\\2025_03_05_bugs\\patches\\ground truth0\\grid_104.tif is a low contrast image\n",
      "augmentation.py (227): D:\\images\\tnia-python-images\\imagesc\\2025_03_05_bugs\\patches\\ground truth0\\grid_105.tif is a low contrast image\n",
      "augmentation.py (227): D:\\images\\tnia-python-images\\imagesc\\2025_03_05_bugs\\patches\\ground truth0\\grid_106.tif is a low contrast image\n",
      "augmentation.py (227): D:\\images\\tnia-python-images\\imagesc\\2025_03_05_bugs\\patches\\ground truth0\\grid_107.tif is a low contrast image\n",
      "augmentation.py (227): D:\\images\\tnia-python-images\\imagesc\\2025_03_05_bugs\\patches\\ground truth0\\grid_108.tif is a low contrast image\n",
      "augmentation.py (227): D:\\images\\tnia-python-images\\imagesc\\2025_03_05_bugs\\patches\\ground truth0\\grid_109.tif is a low contrast image\n",
      "augmentation.py (227): D:\\images\\tnia-python-images\\imagesc\\2025_03_05_bugs\\patches\\ground truth0\\grid_110.tif is a low contrast image\n",
      "augmentation.py (227): D:\\images\\tnia-python-images\\imagesc\\2025_03_05_bugs\\patches\\ground truth0\\grid_111.tif is a low contrast image\n",
      "augmentation.py (227): D:\\images\\tnia-python-images\\imagesc\\2025_03_05_bugs\\patches\\ground truth0\\grid_112.tif is a low contrast image\n",
      "augmentation.py (227): D:\\images\\tnia-python-images\\imagesc\\2025_03_05_bugs\\patches\\ground truth0\\grid_113.tif is a low contrast image\n",
      "augmentation.py (227): D:\\images\\tnia-python-images\\imagesc\\2025_03_05_bugs\\patches\\ground truth0\\grid_114.tif is a low contrast image\n",
      "augmentation.py (227): D:\\images\\tnia-python-images\\imagesc\\2025_03_05_bugs\\patches\\ground truth0\\grid_115.tif is a low contrast image\n",
      "augmentation.py (227): D:\\images\\tnia-python-images\\imagesc\\2025_03_05_bugs\\patches\\ground truth0\\grid_116.tif is a low contrast image\n",
      "augmentation.py (227): D:\\images\\tnia-python-images\\imagesc\\2025_03_05_bugs\\patches\\ground truth0\\grid_117.tif is a low contrast image\n",
      "augmentation.py (227): D:\\images\\tnia-python-images\\imagesc\\2025_03_05_bugs\\patches\\ground truth0\\grid_118.tif is a low contrast image\n",
      "augmentation.py (227): D:\\images\\tnia-python-images\\imagesc\\2025_03_05_bugs\\patches\\ground truth0\\grid_119.tif is a low contrast image\n",
      "augmentation.py (227): D:\\images\\tnia-python-images\\imagesc\\2025_03_05_bugs\\patches\\ground truth0\\grid_120.tif is a low contrast image\n",
      "augmentation.py (227): D:\\images\\tnia-python-images\\imagesc\\2025_03_05_bugs\\patches\\ground truth0\\grid_121.tif is a low contrast image\n",
      "augmentation.py (227): D:\\images\\tnia-python-images\\imagesc\\2025_03_05_bugs\\patches\\ground truth0\\grid_122.tif is a low contrast image\n",
      "augmentation.py (227): D:\\images\\tnia-python-images\\imagesc\\2025_03_05_bugs\\patches\\ground truth0\\grid_123.tif is a low contrast image\n",
      "augmentation.py (227): D:\\images\\tnia-python-images\\imagesc\\2025_03_05_bugs\\patches\\ground truth0\\grid_124.tif is a low contrast image\n",
      "augmentation.py (227): D:\\images\\tnia-python-images\\imagesc\\2025_03_05_bugs\\patches\\ground truth0\\grid_125.tif is a low contrast image\n",
      "augmentation.py (227): D:\\images\\tnia-python-images\\imagesc\\2025_03_05_bugs\\patches\\ground truth0\\grid_126.tif is a low contrast image\n",
      "augmentation.py (227): D:\\images\\tnia-python-images\\imagesc\\2025_03_05_bugs\\patches\\ground truth0\\grid_127.tif is a low contrast image\n",
      "augmentation.py (227): D:\\images\\tnia-python-images\\imagesc\\2025_03_05_bugs\\patches\\ground truth0\\grid_128.tif is a low contrast image\n",
      "augmentation.py (227): D:\\images\\tnia-python-images\\imagesc\\2025_03_05_bugs\\patches\\ground truth0\\grid_129.tif is a low contrast image\n",
      "augmentation.py (227): D:\\images\\tnia-python-images\\imagesc\\2025_03_05_bugs\\patches\\ground truth0\\grid_130.tif is a low contrast image\n",
      "augmentation.py (227): D:\\images\\tnia-python-images\\imagesc\\2025_03_05_bugs\\patches\\ground truth0\\grid_131.tif is a low contrast image\n",
      "augmentation.py (227): D:\\images\\tnia-python-images\\imagesc\\2025_03_05_bugs\\patches\\ground truth0\\grid_132.tif is a low contrast image\n",
      "augmentation.py (227): D:\\images\\tnia-python-images\\imagesc\\2025_03_05_bugs\\patches\\ground truth0\\grid_133.tif is a low contrast image\n",
      "augmentation.py (227): D:\\images\\tnia-python-images\\imagesc\\2025_03_05_bugs\\patches\\ground truth0\\grid_134.tif is a low contrast image\n",
      "augmentation.py (227): D:\\images\\tnia-python-images\\imagesc\\2025_03_05_bugs\\patches\\ground truth0\\grid_135.tif is a low contrast image\n",
      "augmentation.py (227): D:\\images\\tnia-python-images\\imagesc\\2025_03_05_bugs\\patches\\ground truth0\\grid_136.tif is a low contrast image\n",
      "augmentation.py (227): D:\\images\\tnia-python-images\\imagesc\\2025_03_05_bugs\\patches\\ground truth0\\grid_137.tif is a low contrast image\n",
      "augmentation.py (227): D:\\images\\tnia-python-images\\imagesc\\2025_03_05_bugs\\patches\\ground truth0\\grid_138.tif is a low contrast image\n",
      "augmentation.py (227): D:\\images\\tnia-python-images\\imagesc\\2025_03_05_bugs\\patches\\ground truth0\\grid_139.tif is a low contrast image\n",
      "augmentation.py (227): D:\\images\\tnia-python-images\\imagesc\\2025_03_05_bugs\\patches\\ground truth0\\grid_140.tif is a low contrast image\n",
      "augmentation.py (227): D:\\images\\tnia-python-images\\imagesc\\2025_03_05_bugs\\patches\\ground truth0\\grid_141.tif is a low contrast image\n",
      "augmentation.py (227): D:\\images\\tnia-python-images\\imagesc\\2025_03_05_bugs\\patches\\ground truth0\\grid_142.tif is a low contrast image\n",
      "augmentation.py (227): D:\\images\\tnia-python-images\\imagesc\\2025_03_05_bugs\\patches\\ground truth0\\grid_143.tif is a low contrast image\n",
      "augmentation.py (227): D:\\images\\tnia-python-images\\imagesc\\2025_03_05_bugs\\patches\\ground truth0\\grid_144.tif is a low contrast image\n",
      "augmentation.py (227): D:\\images\\tnia-python-images\\imagesc\\2025_03_05_bugs\\patches\\ground truth0\\grid_145.tif is a low contrast image\n",
      "augmentation.py (227): D:\\images\\tnia-python-images\\imagesc\\2025_03_05_bugs\\patches\\ground truth0\\grid_146.tif is a low contrast image\n",
      "augmentation.py (227): D:\\images\\tnia-python-images\\imagesc\\2025_03_05_bugs\\patches\\ground truth0\\grid_147.tif is a low contrast image\n",
      "augmentation.py (227): D:\\images\\tnia-python-images\\imagesc\\2025_03_05_bugs\\patches\\ground truth0\\grid_148.tif is a low contrast image\n",
      "augmentation.py (227): D:\\images\\tnia-python-images\\imagesc\\2025_03_05_bugs\\patches\\ground truth0\\grid_149.tif is a low contrast image\n",
      "augmentation.py (227): D:\\images\\tnia-python-images\\imagesc\\2025_03_05_bugs\\patches\\ground truth0\\grid_150.tif is a low contrast image\n",
      "augmentation.py (227): D:\\images\\tnia-python-images\\imagesc\\2025_03_05_bugs\\patches\\ground truth0\\grid_151.tif is a low contrast image\n",
      "augmentation.py (227): D:\\images\\tnia-python-images\\imagesc\\2025_03_05_bugs\\patches\\ground truth0\\grid_152.tif is a low contrast image\n",
      "augmentation.py (227): D:\\images\\tnia-python-images\\imagesc\\2025_03_05_bugs\\patches\\ground truth0\\grid_153.tif is a low contrast image\n",
      "augmentation.py (227): D:\\images\\tnia-python-images\\imagesc\\2025_03_05_bugs\\patches\\ground truth0\\grid_154.tif is a low contrast image\n",
      "augmentation.py (227): D:\\images\\tnia-python-images\\imagesc\\2025_03_05_bugs\\patches\\ground truth0\\grid_155.tif is a low contrast image\n",
      "augmentation.py (227): D:\\images\\tnia-python-images\\imagesc\\2025_03_05_bugs\\patches\\ground truth0\\grid_156.tif is a low contrast image\n",
      "augmentation.py (227): D:\\images\\tnia-python-images\\imagesc\\2025_03_05_bugs\\patches\\ground truth0\\grid_157.tif is a low contrast image\n",
      "augmentation.py (227): D:\\images\\tnia-python-images\\imagesc\\2025_03_05_bugs\\patches\\ground truth0\\grid_158.tif is a low contrast image\n",
      "augmentation.py (227): D:\\images\\tnia-python-images\\imagesc\\2025_03_05_bugs\\patches\\ground truth0\\grid_159.tif is a low contrast image\n",
      "augmentation.py (227): D:\\images\\tnia-python-images\\imagesc\\2025_03_05_bugs\\patches\\ground truth0\\grid_160.tif is a low contrast image\n",
      "augmentation.py (227): D:\\images\\tnia-python-images\\imagesc\\2025_03_05_bugs\\patches\\ground truth0\\grid_161.tif is a low contrast image\n",
      "augmentation.py (227): D:\\images\\tnia-python-images\\imagesc\\2025_03_05_bugs\\patches\\ground truth0\\grid_162.tif is a low contrast image\n",
      "augmentation.py (227): D:\\images\\tnia-python-images\\imagesc\\2025_03_05_bugs\\patches\\ground truth0\\grid_163.tif is a low contrast image\n",
      "augmentation.py (227): D:\\images\\tnia-python-images\\imagesc\\2025_03_05_bugs\\patches\\ground truth0\\grid_164.tif is a low contrast image\n",
      "augmentation.py (227): D:\\images\\tnia-python-images\\imagesc\\2025_03_05_bugs\\patches\\ground truth0\\grid_165.tif is a low contrast image\n",
      "augmentation.py (227): D:\\images\\tnia-python-images\\imagesc\\2025_03_05_bugs\\patches\\ground truth0\\grid_166.tif is a low contrast image\n",
      "augmentation.py (227): D:\\images\\tnia-python-images\\imagesc\\2025_03_05_bugs\\patches\\ground truth0\\grid_167.tif is a low contrast image\n",
      "augmentation.py (227): D:\\images\\tnia-python-images\\imagesc\\2025_03_05_bugs\\patches\\ground truth0\\grid_168.tif is a low contrast image\n",
      "augmentation.py (227): D:\\images\\tnia-python-images\\imagesc\\2025_03_05_bugs\\patches\\ground truth0\\grid_169.tif is a low contrast image\n",
      "augmentation.py (227): D:\\images\\tnia-python-images\\imagesc\\2025_03_05_bugs\\patches\\ground truth0\\grid_170.tif is a low contrast image\n",
      "augmentation.py (227): D:\\images\\tnia-python-images\\imagesc\\2025_03_05_bugs\\patches\\ground truth0\\grid_171.tif is a low contrast image\n",
      "augmentation.py (227): D:\\images\\tnia-python-images\\imagesc\\2025_03_05_bugs\\patches\\ground truth0\\grid_172.tif is a low contrast image\n",
      "augmentation.py (227): D:\\images\\tnia-python-images\\imagesc\\2025_03_05_bugs\\patches\\ground truth0\\grid_173.tif is a low contrast image\n",
      "augmentation.py (227): D:\\images\\tnia-python-images\\imagesc\\2025_03_05_bugs\\patches\\ground truth0\\grid_174.tif is a low contrast image\n",
      "augmentation.py (227): D:\\images\\tnia-python-images\\imagesc\\2025_03_05_bugs\\patches\\ground truth0\\grid_175.tif is a low contrast image\n",
      "augmentation.py (227): D:\\images\\tnia-python-images\\imagesc\\2025_03_05_bugs\\patches\\ground truth0\\grid_176.tif is a low contrast image\n",
      "augmentation.py (227): D:\\images\\tnia-python-images\\imagesc\\2025_03_05_bugs\\patches\\ground truth0\\grid_177.tif is a low contrast image\n",
      "augmentation.py (227): D:\\images\\tnia-python-images\\imagesc\\2025_03_05_bugs\\patches\\ground truth0\\grid_178.tif is a low contrast image\n",
      "augmentation.py (227): D:\\images\\tnia-python-images\\imagesc\\2025_03_05_bugs\\patches\\ground truth0\\grid_179.tif is a low contrast image\n",
      "augmentation.py (227): D:\\images\\tnia-python-images\\imagesc\\2025_03_05_bugs\\patches\\ground truth0\\grid_180.tif is a low contrast image\n",
      "augmentation.py (227): D:\\images\\tnia-python-images\\imagesc\\2025_03_05_bugs\\patches\\ground truth0\\grid_181.tif is a low contrast image\n",
      "augmentation.py (227): D:\\images\\tnia-python-images\\imagesc\\2025_03_05_bugs\\patches\\ground truth0\\grid_182.tif is a low contrast image\n",
      "augmentation.py (227): D:\\images\\tnia-python-images\\imagesc\\2025_03_05_bugs\\patches\\ground truth0\\grid_183.tif is a low contrast image\n",
      "augmentation.py (227): D:\\images\\tnia-python-images\\imagesc\\2025_03_05_bugs\\patches\\ground truth0\\grid_184.tif is a low contrast image\n",
      "augmentation.py (227): D:\\images\\tnia-python-images\\imagesc\\2025_03_05_bugs\\patches\\ground truth0\\grid_185.tif is a low contrast image\n",
      "augmentation.py (227): D:\\images\\tnia-python-images\\imagesc\\2025_03_05_bugs\\patches\\ground truth0\\grid_186.tif is a low contrast image\n",
      "augmentation.py (227): D:\\images\\tnia-python-images\\imagesc\\2025_03_05_bugs\\patches\\ground truth0\\grid_187.tif is a low contrast image\n",
      "augmentation.py (227): D:\\images\\tnia-python-images\\imagesc\\2025_03_05_bugs\\patches\\ground truth0\\grid_188.tif is a low contrast image\n",
      "augmentation.py (227): D:\\images\\tnia-python-images\\imagesc\\2025_03_05_bugs\\patches\\ground truth0\\grid_189.tif is a low contrast image\n",
      "augmentation.py (227): D:\\images\\tnia-python-images\\imagesc\\2025_03_05_bugs\\patches\\ground truth0\\grid_190.tif is a low contrast image\n",
      "augmentation.py (227): D:\\images\\tnia-python-images\\imagesc\\2025_03_05_bugs\\patches\\ground truth0\\grid_191.tif is a low contrast image\n",
      "augmentation.py (227): D:\\images\\tnia-python-images\\imagesc\\2025_03_05_bugs\\patches\\ground truth0\\grid_192.tif is a low contrast image\n",
      "augmentation.py (227): D:\\images\\tnia-python-images\\imagesc\\2025_03_05_bugs\\patches\\ground truth0\\grid_193.tif is a low contrast image\n",
      "augmentation.py (227): D:\\images\\tnia-python-images\\imagesc\\2025_03_05_bugs\\patches\\ground truth0\\grid_194.tif is a low contrast image\n",
      "augmentation.py (227): D:\\images\\tnia-python-images\\imagesc\\2025_03_05_bugs\\patches\\ground truth0\\grid_195.tif is a low contrast image\n",
      "augmentation.py (227): D:\\images\\tnia-python-images\\imagesc\\2025_03_05_bugs\\patches\\ground truth0\\grid_196.tif is a low contrast image\n",
      "augmentation.py (227): D:\\images\\tnia-python-images\\imagesc\\2025_03_05_bugs\\patches\\ground truth0\\grid_197.tif is a low contrast image\n",
      "augmentation.py (227): D:\\images\\tnia-python-images\\imagesc\\2025_03_05_bugs\\patches\\ground truth0\\grid_198.tif is a low contrast image\n",
      "augmentation.py (227): D:\\images\\tnia-python-images\\imagesc\\2025_03_05_bugs\\patches\\ground truth0\\grid_199.tif is a low contrast image\n",
      "augmentation.py (227): D:\\images\\tnia-python-images\\imagesc\\2025_03_05_bugs\\patches\\ground truth0\\grid_200.tif is a low contrast image\n",
      "augmentation.py (227): D:\\images\\tnia-python-images\\imagesc\\2025_03_05_bugs\\patches\\ground truth0\\grid_201.tif is a low contrast image\n",
      "augmentation.py (227): D:\\images\\tnia-python-images\\imagesc\\2025_03_05_bugs\\patches\\ground truth0\\grid_202.tif is a low contrast image\n",
      "augmentation.py (227): D:\\images\\tnia-python-images\\imagesc\\2025_03_05_bugs\\patches\\ground truth0\\grid_203.tif is a low contrast image\n",
      "augmentation.py (227): D:\\images\\tnia-python-images\\imagesc\\2025_03_05_bugs\\patches\\ground truth0\\grid_204.tif is a low contrast image\n",
      "augmentation.py (227): D:\\images\\tnia-python-images\\imagesc\\2025_03_05_bugs\\patches\\ground truth0\\grid_205.tif is a low contrast image\n",
      "augmentation.py (227): D:\\images\\tnia-python-images\\imagesc\\2025_03_05_bugs\\patches\\ground truth0\\grid_206.tif is a low contrast image\n",
      "augmentation.py (227): D:\\images\\tnia-python-images\\imagesc\\2025_03_05_bugs\\patches\\ground truth0\\grid_207.tif is a low contrast image\n",
      "augmentation.py (227): D:\\images\\tnia-python-images\\imagesc\\2025_03_05_bugs\\patches\\ground truth0\\grid_208.tif is a low contrast image\n",
      "augmentation.py (227): D:\\images\\tnia-python-images\\imagesc\\2025_03_05_bugs\\patches\\ground truth0\\grid_209.tif is a low contrast image\n",
      "augmentation.py (227): D:\\images\\tnia-python-images\\imagesc\\2025_03_05_bugs\\patches\\ground truth0\\grid_210.tif is a low contrast image\n",
      "augmentation.py (227): D:\\images\\tnia-python-images\\imagesc\\2025_03_05_bugs\\patches\\ground truth0\\grid_211.tif is a low contrast image\n",
      "augmentation.py (227): D:\\images\\tnia-python-images\\imagesc\\2025_03_05_bugs\\patches\\ground truth0\\grid_212.tif is a low contrast image\n",
      "augmentation.py (227): D:\\images\\tnia-python-images\\imagesc\\2025_03_05_bugs\\patches\\ground truth0\\grid_213.tif is a low contrast image\n",
      "augmentation.py (227): D:\\images\\tnia-python-images\\imagesc\\2025_03_05_bugs\\patches\\ground truth0\\grid_214.tif is a low contrast image\n",
      "augmentation.py (227): D:\\images\\tnia-python-images\\imagesc\\2025_03_05_bugs\\patches\\ground truth0\\grid_215.tif is a low contrast image\n",
      "augmentation.py (227): D:\\images\\tnia-python-images\\imagesc\\2025_03_05_bugs\\patches\\ground truth0\\grid_216.tif is a low contrast image\n",
      "augmentation.py (227): D:\\images\\tnia-python-images\\imagesc\\2025_03_05_bugs\\patches\\ground truth0\\grid_217.tif is a low contrast image\n",
      "augmentation.py (227): D:\\images\\tnia-python-images\\imagesc\\2025_03_05_bugs\\patches\\ground truth0\\grid_218.tif is a low contrast image\n",
      "augmentation.py (227): D:\\images\\tnia-python-images\\imagesc\\2025_03_05_bugs\\patches\\ground truth0\\grid_219.tif is a low contrast image\n",
      "augmentation.py (227): D:\\images\\tnia-python-images\\imagesc\\2025_03_05_bugs\\patches\\ground truth0\\grid_220.tif is a low contrast image\n",
      "augmentation.py (222): D:\\images\\tnia-python-images\\imagesc\\2025_03_05_bugs\\patches\\input0\\grid_221.tif is a low contrast image\n",
      "augmentation.py (227): D:\\images\\tnia-python-images\\imagesc\\2025_03_05_bugs\\patches\\ground truth0\\grid_221.tif is a low contrast image\n",
      "augmentation.py (227): D:\\images\\tnia-python-images\\imagesc\\2025_03_05_bugs\\patches\\ground truth0\\grid_222.tif is a low contrast image\n",
      "augmentation.py (227): D:\\images\\tnia-python-images\\imagesc\\2025_03_05_bugs\\patches\\ground truth0\\grid_223.tif is a low contrast image\n",
      "augmentation.py (227): D:\\images\\tnia-python-images\\imagesc\\2025_03_05_bugs\\patches\\ground truth0\\grid_224.tif is a low contrast image\n",
      "augmentation.py (227): D:\\images\\tnia-python-images\\imagesc\\2025_03_05_bugs\\patches\\ground truth0\\grid_225.tif is a low contrast image\n",
      "augmentation.py (227): D:\\images\\tnia-python-images\\imagesc\\2025_03_05_bugs\\patches\\ground truth0\\grid_226.tif is a low contrast image\n",
      "augmentation.py (227): D:\\images\\tnia-python-images\\imagesc\\2025_03_05_bugs\\patches\\ground truth0\\grid_227.tif is a low contrast image\n",
      "augmentation.py (227): D:\\images\\tnia-python-images\\imagesc\\2025_03_05_bugs\\patches\\ground truth0\\grid_228.tif is a low contrast image\n",
      "augmentation.py (227): D:\\images\\tnia-python-images\\imagesc\\2025_03_05_bugs\\patches\\ground truth0\\grid_229.tif is a low contrast image\n",
      "augmentation.py (227): D:\\images\\tnia-python-images\\imagesc\\2025_03_05_bugs\\patches\\ground truth0\\grid_230.tif is a low contrast image\n",
      "augmentation.py (227): D:\\images\\tnia-python-images\\imagesc\\2025_03_05_bugs\\patches\\ground truth0\\grid_231.tif is a low contrast image\n",
      "augmentation.py (227): D:\\images\\tnia-python-images\\imagesc\\2025_03_05_bugs\\patches\\ground truth0\\grid_232.tif is a low contrast image\n",
      "augmentation.py (227): D:\\images\\tnia-python-images\\imagesc\\2025_03_05_bugs\\patches\\ground truth0\\grid_233.tif is a low contrast image\n",
      "augmentation.py (227): D:\\images\\tnia-python-images\\imagesc\\2025_03_05_bugs\\patches\\ground truth0\\grid_234.tif is a low contrast image\n",
      "augmentation.py (227): D:\\images\\tnia-python-images\\imagesc\\2025_03_05_bugs\\patches\\ground truth0\\grid_235.tif is a low contrast image\n",
      "augmentation.py (227): D:\\images\\tnia-python-images\\imagesc\\2025_03_05_bugs\\patches\\ground truth0\\grid_236.tif is a low contrast image\n",
      "augmentation.py (227): D:\\images\\tnia-python-images\\imagesc\\2025_03_05_bugs\\patches\\ground truth0\\grid_237.tif is a low contrast image\n",
      "augmentation.py (227): D:\\images\\tnia-python-images\\imagesc\\2025_03_05_bugs\\patches\\ground truth0\\grid_238.tif is a low contrast image\n",
      "augmentation.py (227): D:\\images\\tnia-python-images\\imagesc\\2025_03_05_bugs\\patches\\ground truth0\\grid_239.tif is a low contrast image\n",
      "augmentation.py (227): D:\\images\\tnia-python-images\\imagesc\\2025_03_05_bugs\\patches\\ground truth0\\grid_240.tif is a low contrast image\n",
      "augmentation.py (227): D:\\images\\tnia-python-images\\imagesc\\2025_03_05_bugs\\patches\\ground truth0\\grid_241.tif is a low contrast image\n",
      "augmentation.py (227): D:\\images\\tnia-python-images\\imagesc\\2025_03_05_bugs\\patches\\ground truth0\\grid_242.tif is a low contrast image\n",
      "augmentation.py (227): D:\\images\\tnia-python-images\\imagesc\\2025_03_05_bugs\\patches\\ground truth0\\grid_243.tif is a low contrast image\n",
      "augmentation.py (227): D:\\images\\tnia-python-images\\imagesc\\2025_03_05_bugs\\patches\\ground truth0\\grid_244.tif is a low contrast image\n",
      "augmentation.py (227): D:\\images\\tnia-python-images\\imagesc\\2025_03_05_bugs\\patches\\ground truth0\\grid_245.tif is a low contrast image\n",
      "augmentation.py (227): D:\\images\\tnia-python-images\\imagesc\\2025_03_05_bugs\\patches\\ground truth0\\grid_246.tif is a low contrast image\n",
      "augmentation.py (227): D:\\images\\tnia-python-images\\imagesc\\2025_03_05_bugs\\patches\\ground truth0\\grid_247.tif is a low contrast image\n",
      "augmentation.py (227): D:\\images\\tnia-python-images\\imagesc\\2025_03_05_bugs\\patches\\ground truth0\\grid_248.tif is a low contrast image\n",
      "augmentation.py (227): D:\\images\\tnia-python-images\\imagesc\\2025_03_05_bugs\\patches\\ground truth0\\grid_249.tif is a low contrast image\n",
      "augmentation.py (227): D:\\images\\tnia-python-images\\imagesc\\2025_03_05_bugs\\patches\\ground truth0\\grid_250.tif is a low contrast image\n",
      "augmentation.py (227): D:\\images\\tnia-python-images\\imagesc\\2025_03_05_bugs\\patches\\ground truth0\\grid_251.tif is a low contrast image\n",
      "augmentation.py (227): D:\\images\\tnia-python-images\\imagesc\\2025_03_05_bugs\\patches\\ground truth0\\grid_252.tif is a low contrast image\n",
      "augmentation.py (227): D:\\images\\tnia-python-images\\imagesc\\2025_03_05_bugs\\patches\\ground truth0\\grid_253.tif is a low contrast image\n",
      "augmentation.py (227): D:\\images\\tnia-python-images\\imagesc\\2025_03_05_bugs\\patches\\ground truth0\\grid_254.tif is a low contrast image\n",
      "augmentation.py (227): D:\\images\\tnia-python-images\\imagesc\\2025_03_05_bugs\\patches\\ground truth0\\grid_255.tif is a low contrast image\n",
      "augmentation.py (227): D:\\images\\tnia-python-images\\imagesc\\2025_03_05_bugs\\patches\\ground truth0\\grid_256.tif is a low contrast image\n",
      "augmentation.py (227): D:\\images\\tnia-python-images\\imagesc\\2025_03_05_bugs\\patches\\ground truth0\\grid_257.tif is a low contrast image\n",
      "augmentation.py (227): D:\\images\\tnia-python-images\\imagesc\\2025_03_05_bugs\\patches\\ground truth0\\grid_258.tif is a low contrast image\n",
      "augmentation.py (222): D:\\images\\tnia-python-images\\imagesc\\2025_03_05_bugs\\patches\\input0\\grid_259.tif is a low contrast image\n",
      "augmentation.py (227): D:\\images\\tnia-python-images\\imagesc\\2025_03_05_bugs\\patches\\ground truth0\\grid_259.tif is a low contrast image\n",
      "augmentation.py (227): D:\\images\\tnia-python-images\\imagesc\\2025_03_05_bugs\\patches\\ground truth0\\grid_260.tif is a low contrast image\n",
      "augmentation.py (227): D:\\images\\tnia-python-images\\imagesc\\2025_03_05_bugs\\patches\\ground truth0\\grid_261.tif is a low contrast image\n",
      "augmentation.py (227): D:\\images\\tnia-python-images\\imagesc\\2025_03_05_bugs\\patches\\ground truth0\\grid_262.tif is a low contrast image\n",
      "augmentation.py (227): D:\\images\\tnia-python-images\\imagesc\\2025_03_05_bugs\\patches\\ground truth0\\grid_263.tif is a low contrast image\n",
      "augmentation.py (227): D:\\images\\tnia-python-images\\imagesc\\2025_03_05_bugs\\patches\\ground truth0\\grid_264.tif is a low contrast image\n",
      "augmentation.py (227): D:\\images\\tnia-python-images\\imagesc\\2025_03_05_bugs\\patches\\ground truth0\\grid_265.tif is a low contrast image\n",
      "augmentation.py (227): D:\\images\\tnia-python-images\\imagesc\\2025_03_05_bugs\\patches\\ground truth0\\grid_266.tif is a low contrast image\n",
      "augmentation.py (227): D:\\images\\tnia-python-images\\imagesc\\2025_03_05_bugs\\patches\\ground truth0\\grid_267.tif is a low contrast image\n",
      "augmentation.py (222): D:\\images\\tnia-python-images\\imagesc\\2025_03_05_bugs\\patches\\input0\\grid_268.tif is a low contrast image\n",
      "augmentation.py (227): D:\\images\\tnia-python-images\\imagesc\\2025_03_05_bugs\\patches\\ground truth0\\grid_268.tif is a low contrast image\n",
      "augmentation.py (227): D:\\images\\tnia-python-images\\imagesc\\2025_03_05_bugs\\patches\\ground truth0\\grid_269.tif is a low contrast image\n",
      "augmentation.py (227): D:\\images\\tnia-python-images\\imagesc\\2025_03_05_bugs\\patches\\ground truth0\\grid_270.tif is a low contrast image\n",
      "augmentation.py (227): D:\\images\\tnia-python-images\\imagesc\\2025_03_05_bugs\\patches\\ground truth0\\grid_271.tif is a low contrast image\n",
      "augmentation.py (227): D:\\images\\tnia-python-images\\imagesc\\2025_03_05_bugs\\patches\\ground truth0\\grid_272.tif is a low contrast image\n",
      "augmentation.py (227): D:\\images\\tnia-python-images\\imagesc\\2025_03_05_bugs\\patches\\ground truth0\\grid_273.tif is a low contrast image\n",
      "augmentation.py (227): D:\\images\\tnia-python-images\\imagesc\\2025_03_05_bugs\\patches\\ground truth0\\grid_274.tif is a low contrast image\n",
      "augmentation.py (227): D:\\images\\tnia-python-images\\imagesc\\2025_03_05_bugs\\patches\\ground truth0\\grid_275.tif is a low contrast image\n",
      "augmentation.py (227): D:\\images\\tnia-python-images\\imagesc\\2025_03_05_bugs\\patches\\ground truth0\\grid_276.tif is a low contrast image\n",
      "augmentation.py (227): D:\\images\\tnia-python-images\\imagesc\\2025_03_05_bugs\\patches\\ground truth0\\grid_277.tif is a low contrast image\n",
      "augmentation.py (227): D:\\images\\tnia-python-images\\imagesc\\2025_03_05_bugs\\patches\\ground truth0\\grid_278.tif is a low contrast image\n",
      "augmentation.py (227): D:\\images\\tnia-python-images\\imagesc\\2025_03_05_bugs\\patches\\ground truth0\\grid_279.tif is a low contrast image\n",
      "augmentation.py (222): D:\\images\\tnia-python-images\\imagesc\\2025_03_05_bugs\\patches\\input0\\grid_280.tif is a low contrast image\n",
      "augmentation.py (227): D:\\images\\tnia-python-images\\imagesc\\2025_03_05_bugs\\patches\\ground truth0\\grid_280.tif is a low contrast image\n",
      "augmentation.py (227): D:\\images\\tnia-python-images\\imagesc\\2025_03_05_bugs\\patches\\ground truth0\\grid_281.tif is a low contrast image\n",
      "augmentation.py (227): D:\\images\\tnia-python-images\\imagesc\\2025_03_05_bugs\\patches\\ground truth0\\grid_282.tif is a low contrast image\n",
      "augmentation.py (227): D:\\images\\tnia-python-images\\imagesc\\2025_03_05_bugs\\patches\\ground truth0\\grid_283.tif is a low contrast image\n",
      "augmentation.py (227): D:\\images\\tnia-python-images\\imagesc\\2025_03_05_bugs\\patches\\ground truth0\\grid_284.tif is a low contrast image\n",
      "augmentation.py (227): D:\\images\\tnia-python-images\\imagesc\\2025_03_05_bugs\\patches\\ground truth0\\grid_285.tif is a low contrast image\n",
      "augmentation.py (227): D:\\images\\tnia-python-images\\imagesc\\2025_03_05_bugs\\patches\\ground truth0\\grid_286.tif is a low contrast image\n",
      "augmentation.py (227): D:\\images\\tnia-python-images\\imagesc\\2025_03_05_bugs\\patches\\ground truth0\\grid_287.tif is a low contrast image\n",
      "augmentation.py (227): D:\\images\\tnia-python-images\\imagesc\\2025_03_05_bugs\\patches\\ground truth0\\grid_288.tif is a low contrast image\n",
      "augmentation.py (227): D:\\images\\tnia-python-images\\imagesc\\2025_03_05_bugs\\patches\\ground truth0\\grid_289.tif is a low contrast image\n",
      "augmentation.py (227): D:\\images\\tnia-python-images\\imagesc\\2025_03_05_bugs\\patches\\ground truth0\\grid_290.tif is a low contrast image\n",
      "augmentation.py (227): D:\\images\\tnia-python-images\\imagesc\\2025_03_05_bugs\\patches\\ground truth0\\grid_291.tif is a low contrast image\n",
      "augmentation.py (227): D:\\images\\tnia-python-images\\imagesc\\2025_03_05_bugs\\patches\\ground truth0\\grid_292.tif is a low contrast image\n",
      "augmentation.py (227): D:\\images\\tnia-python-images\\imagesc\\2025_03_05_bugs\\patches\\ground truth0\\grid_293.tif is a low contrast image\n",
      "augmentation.py (227): D:\\images\\tnia-python-images\\imagesc\\2025_03_05_bugs\\patches\\ground truth0\\grid_294.tif is a low contrast image\n",
      "augmentation.py (227): D:\\images\\tnia-python-images\\imagesc\\2025_03_05_bugs\\patches\\ground truth0\\grid_295.tif is a low contrast image\n",
      "augmentation.py (227): D:\\images\\tnia-python-images\\imagesc\\2025_03_05_bugs\\patches\\ground truth0\\grid_296.tif is a low contrast image\n",
      "augmentation.py (227): D:\\images\\tnia-python-images\\imagesc\\2025_03_05_bugs\\patches\\ground truth0\\grid_297.tif is a low contrast image\n",
      "augmentation.py (227): D:\\images\\tnia-python-images\\imagesc\\2025_03_05_bugs\\patches\\ground truth0\\grid_298.tif is a low contrast image\n",
      "augmentation.py (227): D:\\images\\tnia-python-images\\imagesc\\2025_03_05_bugs\\patches\\ground truth0\\grid_299.tif is a low contrast image\n",
      "100%|██████████| 300/300 [00:03<00:00, 84.06it/s] "
     ]
    },
    {
     "name": "stdout",
     "output_type": "stream",
     "text": [
      "2025-03-05 20:31:36,601 [INFO] computing flows for labels\n"
     ]
    },
    {
     "name": "stderr",
     "output_type": "stream",
     "text": [
      "\n",
      " 10%|█         | 27/270 [00:02<00:23, 10.46it/s]"
     ]
    },
    {
     "name": "stdout",
     "output_type": "stream",
     "text": [
      "2025-03-05 20:31:39,418 [WARNING] empty masks!\n"
     ]
    },
    {
     "name": "stderr",
     "output_type": "stream",
     "text": [
      " 19%|█▊        | 50/270 [00:04<00:19, 11.20it/s]"
     ]
    },
    {
     "name": "stdout",
     "output_type": "stream",
     "text": [
      "2025-03-05 20:31:41,444 [WARNING] empty masks!\n"
     ]
    },
    {
     "name": "stderr",
     "output_type": "stream",
     "text": [
      " 40%|████      | 109/270 [00:09<00:13, 12.07it/s]"
     ]
    },
    {
     "name": "stdout",
     "output_type": "stream",
     "text": [
      "2025-03-05 20:31:46,238 [WARNING] empty masks!\n"
     ]
    },
    {
     "name": "stderr",
     "output_type": "stream",
     "text": [
      " 45%|████▌     | 122/270 [00:10<00:13, 10.88it/s]"
     ]
    },
    {
     "name": "stdout",
     "output_type": "stream",
     "text": [
      "2025-03-05 20:31:47,487 [WARNING] empty masks!\n"
     ]
    },
    {
     "name": "stderr",
     "output_type": "stream",
     "text": [
      " 50%|█████     | 136/270 [00:12<00:14,  9.23it/s]"
     ]
    },
    {
     "name": "stdout",
     "output_type": "stream",
     "text": [
      "2025-03-05 20:31:48,825 [WARNING] empty masks!\n",
      "2025-03-05 20:31:48,828 [WARNING] empty masks!\n"
     ]
    },
    {
     "name": "stderr",
     "output_type": "stream",
     "text": [
      " 66%|██████▌   | 177/270 [00:16<00:09,  9.65it/s]"
     ]
    },
    {
     "name": "stdout",
     "output_type": "stream",
     "text": [
      "2025-03-05 20:31:53,248 [WARNING] empty masks!\n"
     ]
    },
    {
     "name": "stderr",
     "output_type": "stream",
     "text": [
      " 70%|██████▉   | 188/270 [00:17<00:07, 10.42it/s]"
     ]
    },
    {
     "name": "stdout",
     "output_type": "stream",
     "text": [
      "2025-03-05 20:31:54,188 [WARNING] empty masks!\n"
     ]
    },
    {
     "name": "stderr",
     "output_type": "stream",
     "text": [
      " 75%|███████▍  | 202/270 [00:19<00:07,  8.84it/s]"
     ]
    },
    {
     "name": "stdout",
     "output_type": "stream",
     "text": [
      "2025-03-05 20:31:55,891 [WARNING] empty masks!\n"
     ]
    },
    {
     "name": "stderr",
     "output_type": "stream",
     "text": [
      "100%|██████████| 270/270 [00:27<00:00,  9.96it/s]"
     ]
    },
    {
     "name": "stdout",
     "output_type": "stream",
     "text": [
      "2025-03-05 20:32:03,847 [INFO] computing flows for labels\n"
     ]
    },
    {
     "name": "stderr",
     "output_type": "stream",
     "text": [
      "\n",
      "100%|██████████| 30/30 [00:04<00:00,  7.22it/s]"
     ]
    },
    {
     "name": "stdout",
     "output_type": "stream",
     "text": [
      "2025-03-05 20:32:08,038 [INFO] >>> computing diameters\n"
     ]
    },
    {
     "name": "stderr",
     "output_type": "stream",
     "text": [
      "\n",
      "  0%|          | 0/270 [00:00<?, ?it/s]fromnumeric.py (3504): Mean of empty slice.\n",
      "_methods.py (129): invalid value encountered in scalar divide\n",
      "100%|██████████| 270/270 [00:00<00:00, 1824.34it/s]\n",
      "100%|██████████| 30/30 [00:00<00:00, 750.11it/s]"
     ]
    },
    {
     "name": "stdout",
     "output_type": "stream",
     "text": [
      "2025-03-05 20:32:08,234 [WARNING] 55 train images with number of masks less than min_train_masks (5), removing from train set\n",
      "2025-03-05 20:32:08,239 [INFO] >>> using channels [0, 0]\n"
     ]
    },
    {
     "name": "stderr",
     "output_type": "stream",
     "text": [
      "\n"
     ]
    },
    {
     "name": "stdout",
     "output_type": "stream",
     "text": [
      "2025-03-05 20:32:08,950 [INFO] >>> n_epochs=30, n_train=215, n_test=30\n",
      "2025-03-05 20:32:08,952 [INFO] >>> AdamW, learning_rate=0.00500, weight_decay=0.00001\n",
      "2025-03-05 20:32:08,955 [INFO] >>> saving model to D:\\images\\tnia-python-images\\imagesc\\2025_03_05_bugs\\models\\cellpose_20250305_201006\n",
      "2025-03-05 20:32:23,732 [INFO] 0, train_loss=0.2357, test_loss=0.3318, LR=0.000000, time 14.78s\n",
      "2025-03-05 20:33:38,592 [INFO] 5, train_loss=0.1903, test_loss=0.3019, LR=0.002778, time 89.64s\n",
      "2025-03-05 20:34:56,401 [INFO] 10, train_loss=0.1607, test_loss=0.3583, LR=0.005000, time 167.45s\n",
      "2025-03-05 20:37:33,018 [INFO] 20, train_loss=0.1435, test_loss=0.5109, LR=0.005000, time 324.06s\n",
      "2025-03-05 20:39:54,884 [INFO] saving network parameters to D:\\images\\tnia-python-images\\imagesc\\2025_03_05_bugs\\models\\cellpose_20250305_201006\n",
      "'QCheckBox' object has no attribute 'setValue'\n"
     ]
    }
   ],
   "source": [
    "from pathlib import Path\n",
    "\n",
    "parent_path = Path(r'D:\\images\\tnia-python-images\\\\imagesc\\\\2025_03_05_bugs')\n",
    "\n",
    "batch_dl.load_image_directory(parent_path)\n",
    "#"
   ]
  },
  {
   "cell_type": "code",
   "execution_count": null,
   "metadata": {},
   "outputs": [],
   "source": []
  }
 ],
 "metadata": {
  "kernelspec": {
   "display_name": "pytorch_and_SAM3",
   "language": "python",
   "name": "python3"
  },
  "language_info": {
   "codemirror_mode": {
    "name": "ipython",
    "version": 3
   },
   "file_extension": ".py",
   "mimetype": "text/x-python",
   "name": "python",
   "nbconvert_exporter": "python",
   "pygments_lexer": "ipython3",
   "version": "3.10.14"
  }
 },
 "nbformat": 4,
 "nbformat_minor": 2
}
