{
 "cells": [
  {
   "cell_type": "markdown",
   "metadata": {},
   "source": [
    "# Specialist model for Blood sample Dapi\n",
    "\n",
    "In this example we generate a specialist model for blood sample Dapi images discussed [here](https://forum.image.sc/t/challenge-to-stardist/99668)"
   ]
  },
  {
   "cell_type": "markdown",
   "metadata": {},
   "source": [
    "# Step 1:\n",
    "\n",
    "Collect and rescale images.\n",
    "\n",
    "1.  Make a directory that will act as a parent directory for your deep learning project.\n",
    "2.  Put the (rescaled?) images in that directory."
   ]
  },
  {
   "cell_type": "markdown",
   "metadata": {},
   "source": []
  }
 ],
 "metadata": {
  "language_info": {
   "name": "python"
  }
 },
 "nbformat": 4,
 "nbformat_minor": 2
}
