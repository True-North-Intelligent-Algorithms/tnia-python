{
 "cells": [
  {
   "cell_type": "code",
   "execution_count": 5,
   "metadata": {},
   "outputs": [],
   "source": [
    "import napari\n",
    "import os\n",
    "from napari_easy_augment_batch_dl import easy_augment_batch_dl\n",
    "from napari_easy_augment_batch_dl.deep_learning_project import DLModel"
   ]
  },
  {
   "cell_type": "code",
   "execution_count": 6,
   "metadata": {},
   "outputs": [
    {
     "name": "stdout",
     "output_type": "stream",
     "text": [
      "creating new log file\n",
      "2024-08-29 21:10:00,093 [INFO] WRITING LOG OUTPUT TO C:\\Users\\bnort\\.cellpose\\run.log\n",
      "2024-08-29 21:10:00,094 [INFO] \n",
      "cellpose version: \t3.0.9 \n",
      "platform:       \twin32 \n",
      "python version: \t3.10.14 \n",
      "torch version:  \t2.2.2+cu118\n",
      "2024-08-29 21:10:00,097 [INFO] ** TORCH CUDA version installed and working. **\n",
      "2024-08-29 21:10:00,098 [INFO] >>>> using GPU\n",
      "2024-08-29 21:10:00,194 [INFO] >>>> loading model D:\\images\\tnia-python-images\\imagesc\\2024_08_19_Dapi_CJ\\models\\models\\cellpose_testing\n",
      "2024-08-29 21:10:00,307 [INFO] >>>> model diam_mean =  30.000 (ROIs rescaled to this size during training)\n",
      "2024-08-29 21:10:00,309 [INFO] >>>> model diam_labels =  57.279 (mean diameter of training ROIs)\n"
     ]
    },
    {
     "name": "stdout",
     "output_type": "stream",
     "text": [
      "in the update\n",
      "in the update\n"
     ]
    }
   ],
   "source": [
    "from napari_easy_augment_batch_dl import easy_augment_batch_dl\n",
    "\n",
    "viewer = napari.Viewer()\n",
    "\n",
    "batch_dl = easy_augment_batch_dl.NapariEasyAugmentBatchDL(viewer, label_only = True)\n",
    "\n",
    "viewer.window.add_dock_widget(\n",
    "    batch_dl\n",
    ")\n",
    "_\n",
    "parent_path =r'D:\\images\\tnia-python-images\\imagesc\\2024_08_19_Dapi_CJ' \n",
    "model_path = os.path.join(parent_path, 'model')\n",
    "\n",
    "batch_dl.load_image_directory(parent_path)\n",
    "\n",
    "# try loading the model (at the beginning it may not exist yet, so don't worry if it fails)\n",
    "try:\n",
    "    #batch_dl.deep_learning_project.set_pretrained_model(os.path.join(model_path, 'model2'), DLModel.STARDIST)\n",
    "    #batch_dl.network_architecture_drop_down.setCurrentText(DLModel.STARDIST)\n",
    "    model_path = os.path.join(parent_path, 'models\\models\\cellpose_testing')\n",
    "    batch_dl.deep_learning_project.set_pretrained_model(model_path, DLModel.CELLPOSE)\n",
    "    batch_dl.network_architecture_drop_down.setCurrentText(DLModel.CELLPOSE)\n",
    "except:\n",
    "    print('No model found')\n"
   ]
  },
  {
   "cell_type": "code",
   "execution_count": null,
   "metadata": {},
   "outputs": [],
   "source": []
  }
 ],
 "metadata": {
  "kernelspec": {
   "display_name": "segment_bees_311",
   "language": "python",
   "name": "python3"
  },
  "language_info": {
   "codemirror_mode": {
    "name": "ipython",
    "version": 3
   },
   "file_extension": ".py",
   "mimetype": "text/x-python",
   "name": "python",
   "nbconvert_exporter": "python",
   "pygments_lexer": "ipython3",
   "version": "3.10.14"
  }
 },
 "nbformat": 4,
 "nbformat_minor": 2
}
