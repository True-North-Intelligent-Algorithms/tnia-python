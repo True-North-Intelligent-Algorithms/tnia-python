{
 "cells": [
  {
   "cell_type": "markdown",
   "metadata": {},
   "source": [
    "## Installation\n",
    "\n",
    "You will need to install napari and for augmentation you will need albumentations library.  Also explicitly install numpy 1.26.  (We have not tested with numpy 2.0 so it is a good idea to explicitly install numpy 1.26 to avoid another dependency installing numpy 2.x)\n",
    "\n",
    "```\n",
    "    pip install numpy==1.26\n",
    "    pip install napari[all]\n",
    "    pip install albumentations\n",
    "    pip install matplotlib\n",
    "```\n",
    "\n",
    "You will also need one or more of stardist, cellpose, segment-everything or Yolo\n",
    "\n",
    "### Stardist\n",
    "\n",
    "#### Windows\n",
    "\n",
    "Note: Tensorflow version after 2.11 do not support GPU mode on Windows.  \n",
    "\n",
    "```\n",
    "    conda install -c conda-forge cudatoolkit=11.2 cudnn=8.1.0\n",
    "    pip install \"tensorflow<2.11\"\n",
    "    pip install stardist\n",
    "    (if training is slow try pip install stardist==0.85)\n",
    "    pip install gputools\n",
    "    pip install edt\n",
    "```\n",
    "\n",
    "#### Linux\n",
    "\n",
    "```\n",
    "    pip install tensorflow[and-cuda]\n",
    "    pip install stardist\n",
    "    pip install gputools\n",
    "    pip install edt\n",
    "```\n",
    "\n",
    "## TNIA-Python and Napari-easy-augment-batch-dl\n",
    "\n",
    "To install the latest development version of the napari widget we use for labelling :\n",
    "\n",
    "    pip install git+https://github.com/bnorthan/napari-easy-augment-batch-dl.git\n",
    "\n",
    "You will also need to install the latest development version of tnia-python:\n",
    "\n",
    "    pip install git+https://github.com/True-North-Intelligent-Algorithms/tnia-python.git\n",
    "\n"
   ]
  },
  {
   "cell_type": "code",
   "execution_count": null,
   "metadata": {},
   "outputs": [],
   "source": []
  }
 ],
 "metadata": {
  "language_info": {
   "name": "python"
  }
 },
 "nbformat": 4,
 "nbformat_minor": 2
}
