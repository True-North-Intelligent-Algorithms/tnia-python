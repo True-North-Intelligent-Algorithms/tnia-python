{
 "cells": [
  {
   "cell_type": "code",
   "execution_count": 19,
   "id": "0942d6f7",
   "metadata": {},
   "outputs": [
    {
     "name": "stdout",
     "output_type": "stream",
     "text": [
      "Friendly name: nuclei2\n"
     ]
    }
   ],
   "source": [
    "from skimage.io import imread\n",
    "import pandas as pd\n",
    "import os\n",
    "from utility import get_friendly_name\n",
    "\n",
    "base_name = 'out_c90_dr90'\n",
    "\n",
    "im_name = r'{}_image.tif'.format(base_name)\n",
    "label_name = r'{}_label.tif'.format(base_name)\n",
    "\n",
    "im = imread(im_name)\n",
    "label = imread(label_name)\n",
    "\n",
    "scale = [.2, .124, .124]\n",
    "label_scale = [.124, .124, .124]\n",
    "\n",
    "friendly_name = get_friendly_name(f\"{base_name}_label.tif\")\n",
    "print(f\"Friendly name: {friendly_name}\")"
   ]
  },
  {
   "cell_type": "code",
   "execution_count": 20,
   "id": "6293d93d",
   "metadata": {},
   "outputs": [
    {
     "data": {
      "text/plain": [
       "<Labels layer 'label' at 0x26e04fdf9a0>"
      ]
     },
     "execution_count": 20,
     "metadata": {},
     "output_type": "execute_result"
    }
   ],
   "source": [
    "import napari\n",
    "viewer = napari.Viewer()\n",
    "viewer.add_image(im, name='image', scale=scale)\n",
    "viewer.add_labels(label, name='label', scale=label_scale)"
   ]
  },
  {
   "cell_type": "code",
   "execution_count": 21,
   "id": "5c5fe312",
   "metadata": {},
   "outputs": [
    {
     "name": "stdout",
     "output_type": "stream",
     "text": [
      "(544, 7)\n"
     ]
    },
    {
     "data": {
      "text/html": [
       "<div>\n",
       "<style scoped>\n",
       "    .dataframe tbody tr th:only-of-type {\n",
       "        vertical-align: middle;\n",
       "    }\n",
       "\n",
       "    .dataframe tbody tr th {\n",
       "        vertical-align: top;\n",
       "    }\n",
       "\n",
       "    .dataframe thead th {\n",
       "        text-align: right;\n",
       "    }\n",
       "</style>\n",
       "<table border=\"1\" class=\"dataframe\">\n",
       "  <thead>\n",
       "    <tr style=\"text-align: right;\">\n",
       "      <th></th>\n",
       "      <th>x</th>\n",
       "      <th>y</th>\n",
       "      <th>z</th>\n",
       "      <th>intensity</th>\n",
       "      <th>volume</th>\n",
       "      <th>csv_path</th>\n",
       "      <th>Unnamed: 6</th>\n",
       "    </tr>\n",
       "  </thead>\n",
       "  <tbody>\n",
       "    <tr>\n",
       "      <th>0</th>\n",
       "      <td>22.803</td>\n",
       "      <td>9.024</td>\n",
       "      <td>4.181</td>\n",
       "      <td>56620971.0</td>\n",
       "      <td>437.896</td>\n",
       "      <td>Q6.13/R_3Rxaf07hES8CPgE_nuclei1.csv</td>\n",
       "      <td>NaN</td>\n",
       "    </tr>\n",
       "    <tr>\n",
       "      <th>1</th>\n",
       "      <td>5.669</td>\n",
       "      <td>9.164</td>\n",
       "      <td>5.376</td>\n",
       "      <td>63811635.0</td>\n",
       "      <td>482.954</td>\n",
       "      <td>Q6.13/R_3Rxaf07hES8CPgE_nuclei1.csv</td>\n",
       "      <td>NaN</td>\n",
       "    </tr>\n",
       "    <tr>\n",
       "      <th>2</th>\n",
       "      <td>24.999</td>\n",
       "      <td>8.223</td>\n",
       "      <td>13.036</td>\n",
       "      <td>57406958.0</td>\n",
       "      <td>441.048</td>\n",
       "      <td>Q6.13/R_3Rxaf07hES8CPgE_nuclei1.csv</td>\n",
       "      <td>NaN</td>\n",
       "    </tr>\n",
       "    <tr>\n",
       "      <th>3</th>\n",
       "      <td>13.722</td>\n",
       "      <td>23.521</td>\n",
       "      <td>8.778</td>\n",
       "      <td>78224458.0</td>\n",
       "      <td>522.320</td>\n",
       "      <td>Q6.13/R_3Rxaf07hES8CPgE_nuclei1.csv</td>\n",
       "      <td>NaN</td>\n",
       "    </tr>\n",
       "    <tr>\n",
       "      <th>4</th>\n",
       "      <td>22.547</td>\n",
       "      <td>26.006</td>\n",
       "      <td>9.650</td>\n",
       "      <td>69841365.0</td>\n",
       "      <td>473.768</td>\n",
       "      <td>Q6.13/R_3Rxaf07hES8CPgE_nuclei1.csv</td>\n",
       "      <td>NaN</td>\n",
       "    </tr>\n",
       "  </tbody>\n",
       "</table>\n",
       "</div>"
      ],
      "text/plain": [
       "        x       y       z   intensity   volume  \\\n",
       "0  22.803   9.024   4.181  56620971.0  437.896   \n",
       "1   5.669   9.164   5.376  63811635.0  482.954   \n",
       "2  24.999   8.223  13.036  57406958.0  441.048   \n",
       "3  13.722  23.521   8.778  78224458.0  522.320   \n",
       "4  22.547  26.006   9.650  69841365.0  473.768   \n",
       "\n",
       "                              csv_path Unnamed: 6  \n",
       "0  Q6.13/R_3Rxaf07hES8CPgE_nuclei1.csv        NaN  \n",
       "1  Q6.13/R_3Rxaf07hES8CPgE_nuclei1.csv        NaN  \n",
       "2  Q6.13/R_3Rxaf07hES8CPgE_nuclei1.csv        NaN  \n",
       "3  Q6.13/R_3Rxaf07hES8CPgE_nuclei1.csv        NaN  \n",
       "4  Q6.13/R_3Rxaf07hES8CPgE_nuclei1.csv        NaN  "
      ]
     },
     "execution_count": 21,
     "metadata": {},
     "output_type": "execute_result"
    }
   ],
   "source": [
    "\n",
    "data_file = r'coordinate_data_deidentified.csv'\n",
    "\n",
    "data = pd.read_csv(data_file)\n",
    "data = data[data.csv_path.str.contains('nuclei', na=False)]\n",
    "print(data.shape)\n",
    "data.head()\n"
   ]
  },
  {
   "cell_type": "code",
   "execution_count": 22,
   "id": "0829ff69",
   "metadata": {},
   "outputs": [
    {
     "data": {
      "text/html": [
       "<div>\n",
       "<style scoped>\n",
       "    .dataframe tbody tr th:only-of-type {\n",
       "        vertical-align: middle;\n",
       "    }\n",
       "\n",
       "    .dataframe tbody tr th {\n",
       "        vertical-align: top;\n",
       "    }\n",
       "\n",
       "    .dataframe thead th {\n",
       "        text-align: right;\n",
       "    }\n",
       "</style>\n",
       "<table border=\"1\" class=\"dataframe\">\n",
       "  <thead>\n",
       "    <tr style=\"text-align: right;\">\n",
       "      <th></th>\n",
       "      <th>Unnamed: 0</th>\n",
       "      <th>x</th>\n",
       "      <th>y</th>\n",
       "      <th>z</th>\n",
       "      <th>path</th>\n",
       "      <th>base_name</th>\n",
       "    </tr>\n",
       "  </thead>\n",
       "  <tbody>\n",
       "    <tr>\n",
       "      <th>0</th>\n",
       "      <td>0</td>\n",
       "      <td>5.628644</td>\n",
       "      <td>9.198676</td>\n",
       "      <td>8.751923</td>\n",
       "      <td>../../ground truth/nuclei/out_c00_dr90_label.tif</td>\n",
       "      <td>out_c00_dr90_label.tif</td>\n",
       "    </tr>\n",
       "    <tr>\n",
       "      <th>1</th>\n",
       "      <td>1</td>\n",
       "      <td>22.816774</td>\n",
       "      <td>9.033185</td>\n",
       "      <td>6.689963</td>\n",
       "      <td>../../ground truth/nuclei/out_c00_dr90_label.tif</td>\n",
       "      <td>out_c00_dr90_label.tif</td>\n",
       "    </tr>\n",
       "    <tr>\n",
       "      <th>2</th>\n",
       "      <td>2</td>\n",
       "      <td>22.618367</td>\n",
       "      <td>26.020343</td>\n",
       "      <td>15.707744</td>\n",
       "      <td>../../ground truth/nuclei/out_c00_dr90_label.tif</td>\n",
       "      <td>out_c00_dr90_label.tif</td>\n",
       "    </tr>\n",
       "    <tr>\n",
       "      <th>3</th>\n",
       "      <td>3</td>\n",
       "      <td>13.676880</td>\n",
       "      <td>23.516335</td>\n",
       "      <td>14.263662</td>\n",
       "      <td>../../ground truth/nuclei/out_c00_dr90_label.tif</td>\n",
       "      <td>out_c00_dr90_label.tif</td>\n",
       "    </tr>\n",
       "    <tr>\n",
       "      <th>4</th>\n",
       "      <td>4</td>\n",
       "      <td>25.001824</td>\n",
       "      <td>8.219340</td>\n",
       "      <td>21.236781</td>\n",
       "      <td>../../ground truth/nuclei/out_c00_dr90_label.tif</td>\n",
       "      <td>out_c00_dr90_label.tif</td>\n",
       "    </tr>\n",
       "  </tbody>\n",
       "</table>\n",
       "</div>"
      ],
      "text/plain": [
       "   Unnamed: 0          x          y          z  \\\n",
       "0           0   5.628644   9.198676   8.751923   \n",
       "1           1  22.816774   9.033185   6.689963   \n",
       "2           2  22.618367  26.020343  15.707744   \n",
       "3           3  13.676880  23.516335  14.263662   \n",
       "4           4  25.001824   8.219340  21.236781   \n",
       "\n",
       "                                               path               base_name  \n",
       "0  ../../ground truth/nuclei/out_c00_dr90_label.tif  out_c00_dr90_label.tif  \n",
       "1  ../../ground truth/nuclei/out_c00_dr90_label.tif  out_c00_dr90_label.tif  \n",
       "2  ../../ground truth/nuclei/out_c00_dr90_label.tif  out_c00_dr90_label.tif  \n",
       "3  ../../ground truth/nuclei/out_c00_dr90_label.tif  out_c00_dr90_label.tif  \n",
       "4  ../../ground truth/nuclei/out_c00_dr90_label.tif  out_c00_dr90_label.tif  "
      ]
     },
     "execution_count": 22,
     "metadata": {},
     "output_type": "execute_result"
    }
   ],
   "source": [
    "ground_truth_file = r'ground_truth_coords.csv'\n",
    "\n",
    "ground_truth = pd.read_csv(ground_truth_file)\n",
    "# Display the first few rows of the ground truth data\n",
    "ground_truth['base_name'] = ground_truth['path'].apply(os.path.basename)\n",
    "ground_truth.head()"
   ]
  },
  {
   "cell_type": "code",
   "execution_count": 23,
   "id": "174cb2ca",
   "metadata": {},
   "outputs": [
    {
     "name": "stdout",
     "output_type": "stream",
     "text": [
      "Points to plot: [[14.32452416 20.66721831 23.21402827]\n",
      " [ 7.07436442 16.38500694 17.13494687]\n",
      " [18.43247991 12.88932978 15.47183664]\n",
      " [10.69533726 13.53573209  7.89428851]\n",
      " [10.99361676  4.07232747  7.5495818 ]]\n"
     ]
    },
    {
     "data": {
      "text/plain": [
       "<Points layer 'ground_truth_points_scaled' at 0x26e0ac8fd30>"
      ]
     },
     "execution_count": 23,
     "metadata": {},
     "output_type": "execute_result"
    }
   ],
   "source": [
    "points = ground_truth[ground_truth['base_name'].str.contains(base_name)][['z', 'y', 'x']].values\n",
    "print('Points to plot:', points)\n",
    "viewer.add_points(points, face_color='red', size=.5, name='ground_truth_points')\n",
    "\n",
    "points_scaled = points*[.124/.2, 1, 1]\n",
    "points_scaled\n",
    "viewer.add_points(points_scaled, face_color='blue', size=.5, name='ground_truth_points_scaled')"
   ]
  },
  {
   "cell_type": "code",
   "execution_count": null,
   "id": "9e1aff7f",
   "metadata": {},
   "outputs": [
    {
     "name": "stdout",
     "output_type": "stream",
     "text": [
      "             x          y          z     intensity     volume  \\\n",
      "237  16.516616  16.055415   4.527207  8.391065e+07  311.41728   \n",
      "238   7.762065  13.079686   6.582166  1.330768e+08  393.16320   \n",
      "239   7.405012   4.023586   6.721949  8.708195e+07  323.89344   \n",
      "240  22.515173  20.029281   8.721849  1.162233e+08  357.90624   \n",
      "241  15.007630  12.487325  11.283053  9.276081e+07  317.14560   \n",
      "\n",
      "                                csv_path Unnamed: 6  \n",
      "237  Q7.13/R_3kpixa7Fm6wlFk2_nuclei2.csv        NaN  \n",
      "238  Q7.13/R_3kpixa7Fm6wlFk2_nuclei2.csv        NaN  \n",
      "239  Q7.13/R_3kpixa7Fm6wlFk2_nuclei2.csv        NaN  \n",
      "240  Q7.13/R_3kpixa7Fm6wlFk2_nuclei2.csv        NaN  \n",
      "241  Q7.13/R_3kpixa7Fm6wlFk2_nuclei2.csv        NaN  \n"
     ]
    },
    {
     "data": {
      "text/plain": [
       "<Points layer 'solution_points' at 0x26e0b30f940>"
      ]
     },
     "execution_count": 24,
     "metadata": {},
     "output_type": "execute_result"
    }
   ],
   "source": [
    "response_id = 'R_3kpixa7Fm6wlFk2'\n",
    "responses = data[data.csv_path.str.contains(response_id, na=False)]\n",
    "responses = responses[responses.csv_path.str.contains(friendly_name, na=false)]\n",
    "print(responses)\n",
    "response_points = responses[['z', 'y', 'x']].values.astype(float)\n",
    "viewer.add_points(response_points, face_color='green', size=.5, name='solution_points')"
   ]
  }
 ],
 "metadata": {
  "kernelspec": {
   "display_name": "stardist_napari_windows",
   "language": "python",
   "name": "python3"
  },
  "language_info": {
   "codemirror_mode": {
    "name": "ipython",
    "version": 3
   },
   "file_extension": ".py",
   "mimetype": "text/x-python",
   "name": "python",
   "nbconvert_exporter": "python",
   "pygments_lexer": "ipython3",
   "version": "3.10.17"
  }
 },
 "nbformat": 4,
 "nbformat_minor": 5
}
