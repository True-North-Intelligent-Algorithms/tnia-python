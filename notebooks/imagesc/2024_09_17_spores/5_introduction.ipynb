{
 "cells": [
  {
   "cell_type": "markdown",
   "metadata": {},
   "source": [
    "# Sparse spore labelling + YOLO + SAM (Mobile SAM) !\n",
    "\n",
    "This series of notebooks applies sparse stardist labelling and tests mobile SAM on the spores image from [this question](https://forum.image.sc/t/making-image-of-spores-binary-for-analysis/101717) \n",
    "\n",
    "Stardist now supports [sparse label masks](https://github.com/stardist/stardist/commit/7a68fa7b8476a8d2e7b4860ab57836d0ae500aaa).  \n",
    "\n",
    "We also take a quick moment to look at [Mobile SAM](https://github.com/ChaoningZhang/MobileSAM) (a YOLO + SAM )\n"
   ]
  },
  {
   "cell_type": "markdown",
   "metadata": {},
   "source": []
  }
 ],
 "metadata": {
  "language_info": {
   "name": "python"
  }
 },
 "nbformat": 4,
 "nbformat_minor": 2
}
