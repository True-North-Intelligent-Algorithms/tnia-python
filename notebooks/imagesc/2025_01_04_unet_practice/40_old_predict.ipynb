{
 "cells": [
  {
   "cell_type": "code",
   "execution_count": null,
   "metadata": {},
   "outputs": [],
   "source": [
    "from skimage.io import imread as skimread\n",
    "from pathlib import Path\n",
    "import torch\n",
    "import numpy as np\n",
    "from tnia.deeplearning.dl_helper import quantile_normalization\n",
    "from torchvision import transforms\n",
    "from torchvision.transforms import v2"
   ]
  },
  {
   "cell_type": "code",
   "execution_count": null,
   "metadata": {},
   "outputs": [],
   "source": [
    "from pathlib import Path\n",
    "import os\n",
    "\n",
    "tnia_images_path = Path(r\"D:\\images\")\n",
    "parent_path = r'C:\\Users\\bnort\\Documents\\bcs-stardist\\images\\Columbia_Semantic_Sparse'\n",
    "model_path = os.path.join(parent_path,'models')"
   ]
  },
  {
   "cell_type": "code",
   "execution_count": null,
   "metadata": {},
   "outputs": [],
   "source": [
    "net = torch.load( Path(model_path) / 'model1')\n",
    "device = torch.device(\"cuda\")\n",
    "net.to(device)"
   ]
  },
  {
   "cell_type": "code",
   "execution_count": null,
   "metadata": {},
   "outputs": [],
   "source": [
    "from skimage.io import imread\n",
    "im = imread(r'C:\\Users\\bnort\\Documents\\bcs-stardist\\images\\Columbia_Semantic_Sparse\\20240910205928_SEP10ERSP2424346.jpg')\n",
    "im = np.transpose(im, (2,0,1))  \n",
    "im.shape\n",
    "im = im[:,:2048,:2048]"
   ]
  },
  {
   "cell_type": "code",
   "execution_count": null,
   "metadata": {},
   "outputs": [],
   "source": [
    "# Visualize predictions\n",
    "from tnia.deeplearning.dl_helper import quantile_normalization\n",
    "\n",
    "#im, raw = train_dataset[10]\n",
    "\n",
    "net.eval()\n",
    "\n",
    "print(im.shape, im.min(), im.max())\n",
    "im = quantile_normalization(im)\n",
    "im = im.astype(np.float32)\n",
    "print(im.shape, im.min(), im.max())\n",
    "im_tensor = torch.from_numpy(im).unsqueeze(0).to(device)       \n",
    "print(im_tensor.shape)\n",
    "\n",
    "logits=net(im_tensor)\n"
   ]
  },
  {
   "cell_type": "code",
   "execution_count": null,
   "metadata": {},
   "outputs": [],
   "source": [
    "from tnia.plotting.plt_helper import imshow_multi2d\n",
    "\n",
    "im = np.transpose(im, (1,2,0))\n",
    "\n",
    "logits.shape\n",
    "c1 = logits[0,0,:,:].cpu().detach().numpy()\n",
    "c2 = logits[0,1,:,:].cpu().detach().numpy()\n",
    "c3 = logits[0,2,:,:].cpu().detach().numpy()\n",
    "\n",
    "fig = imshow_multi2d([im, c1, c2, c3], ['Image', 'Class 1', 'Class 2', 'Class 3'], 1, 4, 10, 10,colormaps=['gray', 'viridis', 'viridis', 'viridis'])"
   ]
  },
  {
   "cell_type": "code",
   "execution_count": null,
   "metadata": {},
   "outputs": [],
   "source": [
    "# go through 3 classes and take highest\n",
    "\n",
    "class1 = (c1>c2)&(c1>c3)\n",
    "class2 = (c2>c1)&(c2>c3)\n",
    "class3 = (c3>c1)&(c3>c2)\n",
    "\n",
    "labels = class1+2*class2+3*class3"
   ]
  },
  {
   "cell_type": "code",
   "execution_count": null,
   "metadata": {},
   "outputs": [],
   "source": [
    "import napari\n",
    "viewer = napari.Viewer()\n",
    "viewer.add_image(im)\n",
    "viewer.add_labels(labels)\n",
    "#viewer.add_image(c1)\n",
    "#viewer.add_image(c2)\n",
    "#viewer.add_image(c3)"
   ]
  },
  {
   "cell_type": "code",
   "execution_count": null,
   "metadata": {},
   "outputs": [],
   "source": [
    "thresholded = c2 > 3.0\n",
    "viewer.add_labels(thresholded*2)"
   ]
  },
  {
   "cell_type": "code",
   "execution_count": null,
   "metadata": {},
   "outputs": [],
   "source": [
    "thresholded3 = c3 > 10.0\n",
    "viewer.add_labels(thresholded3*3)"
   ]
  },
  {
   "cell_type": "code",
   "execution_count": null,
   "metadata": {},
   "outputs": [],
   "source": []
  }
 ],
 "metadata": {
  "kernelspec": {
   "display_name": "pytorch_and_SAM3",
   "language": "python",
   "name": "python3"
  },
  "language_info": {
   "codemirror_mode": {
    "name": "ipython",
    "version": 3
   },
   "file_extension": ".py",
   "mimetype": "text/x-python",
   "name": "python",
   "nbconvert_exporter": "python",
   "pygments_lexer": "ipython3",
   "version": "3.10.14"
  }
 },
 "nbformat": 4,
 "nbformat_minor": 2
}
