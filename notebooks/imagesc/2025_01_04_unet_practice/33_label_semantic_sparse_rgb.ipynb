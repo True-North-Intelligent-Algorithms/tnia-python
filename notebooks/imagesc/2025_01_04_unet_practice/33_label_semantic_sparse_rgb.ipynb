{
 "cells": [
  {
   "cell_type": "code",
   "execution_count": 1,
   "metadata": {},
   "outputs": [
    {
     "name": "stderr",
     "output_type": "stream",
     "text": [
      "c:\\Users\\bnort\\miniconda3\\envs\\pytorch_and_SAM3\\lib\\site-packages\\tqdm\\auto.py:21: TqdmWarning: IProgress not found. Please update jupyter and ipywidgets. See https://ipywidgets.readthedocs.io/en/stable/user_install.html\n",
      "  from .autonotebook import tqdm as notebook_tqdm\n"
     ]
    }
   ],
   "source": [
    "from cellpose import models, io\n",
    "import os\n",
    "import numpy as np\n",
    "import napari\n",
    "from napari_easy_augment_batch_dl import easy_augment_batch_dl"
   ]
  },
  {
   "cell_type": "code",
   "execution_count": 2,
   "metadata": {},
   "outputs": [
    {
     "name": "stdout",
     "output_type": "stream",
     "text": [
      "VIT checkpoint loaded successfully\n",
      "found class  PytorchSemanticFramework\n",
      "Error instantiating class PytorchSemanticFramework: descriptor '__init__' requires a 'super' object but received a 'WindowsPath'\n",
      "found class  CellPoseInstanceFramework\n",
      "2025-01-10 18:55:49,164 [INFO] WRITING LOG OUTPUT TO C:\\Users\\bnort\\.cellpose\\run.log\n",
      "2025-01-10 18:55:49,165 [INFO] \n",
      "cellpose version: \t3.1.0 \n",
      "platform:       \twin32 \n",
      "python version: \t3.10.14 \n",
      "torch version:  \t2.2.2+cu118\n",
      "found class  MobileSAMFramework\n",
      "found class  YoloSAMFramework\n",
      "found class  RandomForestFramework\n",
      "Zarr store already up-to-date.\n",
      "Zarr store already up-to-date.\n"
     ]
    },
    {
     "name": "stderr",
     "output_type": "stream",
     "text": [
      "WARNING: QWindowsWindow::setGeometry: Unable to set geometry 1920x1047+1920+23 (frame: 1936x1086+1912-8) on QWidgetWindow/\"_QtMainWindowClassWindow\" on \"\\\\.\\DISPLAY2\". Resulting geometry: 1920x1017+1920+23 (frame: 1936x1056+1912-8) margins: 8, 31, 8, 8 minimum size: 768x1047 MINMAXINFO maxSize=0,0 maxpos=0,0 mintrack=784,1086 maxtrack=0,0)\n"
     ]
    },
    {
     "name": "stdout",
     "output_type": "stream",
     "text": [
      "2025-01-10 18:56:03,811 [WARNING] QWindowsWindow::setGeometry: Unable to set geometry 1920x1047+1920+23 (frame: 1936x1086+1912-8) on QWidgetWindow/\"_QtMainWindowClassWindow\" on \"\\\\.\\DISPLAY2\". Resulting geometry: 1920x1017+1920+23 (frame: 1936x1056+1912-8) margins: 8, 31, 8, 8 minimum size: 768x1047 MINMAXINFO maxSize=0,0 maxpos=0,0 mintrack=784,1086 maxtrack=0,0)\n"
     ]
    },
    {
     "name": "stderr",
     "output_type": "stream",
     "text": [
      "WARNING: QWindowsWindow::setGeometry: Unable to set geometry 1920x1047+1920+23 (frame: 1936x1086+1912-8) on QWidgetWindow/\"_QtMainWindowClassWindow\" on \"\\\\.\\DISPLAY2\". Resulting geometry: 1920x1017+1920+23 (frame: 1936x1056+1912-8) margins: 8, 31, 8, 8 minimum size: 864x1047 MINMAXINFO maxSize=0,0 maxpos=0,0 mintrack=880,1086 maxtrack=0,0)\n"
     ]
    },
    {
     "name": "stdout",
     "output_type": "stream",
     "text": [
      "2025-01-10 18:56:04,264 [WARNING] QWindowsWindow::setGeometry: Unable to set geometry 1920x1047+1920+23 (frame: 1936x1086+1912-8) on QWidgetWindow/\"_QtMainWindowClassWindow\" on \"\\\\.\\DISPLAY2\". Resulting geometry: 1920x1017+1920+23 (frame: 1936x1056+1912-8) margins: 8, 31, 8, 8 minimum size: 864x1047 MINMAXINFO maxSize=0,0 maxpos=0,0 mintrack=880,1086 maxtrack=0,0)\n"
     ]
    },
    {
     "name": "stderr",
     "output_type": "stream",
     "text": [
      "WARNING: QWindowsWindow::setGeometry: Unable to set geometry 1920x1047+1920+23 (frame: 1936x1086+1912-8) on QWidgetWindow/\"_QtMainWindowClassWindow\" on \"\\\\.\\DISPLAY2\". Resulting geometry: 1920x1017+1920+23 (frame: 1936x1056+1912-8) margins: 8, 31, 8, 8 minimum size: 886x1047 MINMAXINFO maxSize=0,0 maxpos=0,0 mintrack=902,1086 maxtrack=0,0)\n"
     ]
    },
    {
     "name": "stdout",
     "output_type": "stream",
     "text": [
      "2025-01-10 18:56:04,654 [WARNING] QWindowsWindow::setGeometry: Unable to set geometry 1920x1047+1920+23 (frame: 1936x1086+1912-8) on QWidgetWindow/\"_QtMainWindowClassWindow\" on \"\\\\.\\DISPLAY2\". Resulting geometry: 1920x1017+1920+23 (frame: 1936x1056+1912-8) margins: 8, 31, 8, 8 minimum size: 886x1047 MINMAXINFO maxSize=0,0 maxpos=0,0 mintrack=902,1086 maxtrack=0,0)\n"
     ]
    },
    {
     "name": "stderr",
     "output_type": "stream",
     "text": [
      "WARNING: QWindowsWindow::setGeometry: Unable to set geometry 1920x1049+1920+23 (frame: 1936x1088+1912-8) on QWidgetWindow/\"_QtMainWindowClassWindow\" on \"\\\\.\\DISPLAY2\". Resulting geometry: 1920x1017+1920+23 (frame: 1936x1056+1912-8) margins: 8, 31, 8, 8 minimum size: 886x1049 MINMAXINFO maxSize=0,0 maxpos=0,0 mintrack=902,1088 maxtrack=0,0)\n"
     ]
    },
    {
     "name": "stdout",
     "output_type": "stream",
     "text": [
      "2025-01-10 21:45:51,089 [WARNING] QWindowsWindow::setGeometry: Unable to set geometry 1920x1049+1920+23 (frame: 1936x1088+1912-8) on QWidgetWindow/\"_QtMainWindowClassWindow\" on \"\\\\.\\DISPLAY2\". Resulting geometry: 1920x1017+1920+23 (frame: 1936x1056+1912-8) margins: 8, 31, 8, 8 minimum size: 886x1049 MINMAXINFO maxSize=0,0 maxpos=0,0 mintrack=902,1088 maxtrack=0,0)\n"
     ]
    }
   ],
   "source": [
    "viewer = napari.Viewer()\n",
    "\n",
    "batch_dl = easy_augment_batch_dl.NapariEasyAugmentBatchDL(viewer, label_only = False)\n",
    "\n",
    "viewer.window.add_dock_widget(\n",
    "    batch_dl\n",
    ")\n",
    "\n",
    "parent_path =r'C:\\Users\\bnort\\Documents\\...'\n",
    "model_path = os.path.join(parent_path, 'models')\n",
    "model_name = 'cellpose_for_protrusions_3'\n",
    "#mod = models.Cellpose(gpu=True, model_type=\"cyto3\")\n",
    "model_type = \"CellPose Instance Model\"\n",
    "batch_dl.load_image_directory(parent_path)\n",
    "\n"
   ]
  },
  {
   "cell_type": "code",
   "execution_count": null,
   "metadata": {},
   "outputs": [],
   "source": []
  }
 ],
 "metadata": {
  "kernelspec": {
   "display_name": "pytorch_and_SAM3",
   "language": "python",
   "name": "python3"
  },
  "language_info": {
   "codemirror_mode": {
    "name": "ipython",
    "version": 3
   },
   "file_extension": ".py",
   "mimetype": "text/x-python",
   "name": "python",
   "nbconvert_exporter": "python",
   "pygments_lexer": "ipython3",
   "version": "3.10.14"
  }
 },
 "nbformat": 4,
 "nbformat_minor": 2
}
