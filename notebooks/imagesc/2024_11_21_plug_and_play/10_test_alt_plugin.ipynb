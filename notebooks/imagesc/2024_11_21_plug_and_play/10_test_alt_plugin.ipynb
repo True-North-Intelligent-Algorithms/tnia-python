{
 "cells": [
  {
   "cell_type": "markdown",
   "metadata": {},
   "source": [
    "## Test plugin approach "
   ]
  },
  {
   "cell_type": "code",
   "execution_count": 1,
   "metadata": {},
   "outputs": [
    {
     "name": "stderr",
     "output_type": "stream",
     "text": [
      "c:\\Users\\bnort\\miniconda3\\envs\\pytorch_and_SAM3\\lib\\site-packages\\tqdm\\auto.py:21: TqdmWarning: IProgress not found. Please update jupyter and ipywidgets. See https://ipywidgets.readthedocs.io/en/stable/user_install.html\n",
      "  from .autonotebook import tqdm as notebook_tqdm\n"
     ]
    }
   ],
   "source": [
    "import napari\n",
    "viewer = napari.Viewer()\n",
    "import os\n",
    "# from napari_easy_augment_batch_dl import easy_augment_batch_dl\n",
    "from napari_easy_augment_batch_dl.deep_learning_project import DLModel\n",
    "from napari_easy_augment_batch_dl import easy_augment_batch_dl\n",
    "\n",
    "# when we import plugins they should be registered\n",
    "from alt_cellpose_instance_framework import AltCellPoseInstanceFramework "
   ]
  },
  {
   "cell_type": "markdown",
   "metadata": {},
   "source": [
    "Add the ```napari-easy-augment-batch-dl``` plugin "
   ]
  },
  {
   "cell_type": "code",
   "execution_count": 2,
   "metadata": {},
   "outputs": [
    {
     "name": "stdout",
     "output_type": "stream",
     "text": [
      "found framework is  PytorchSemanticFramework\n",
      "found framework is  CellPoseInstanceFramework\n",
      "2025-01-13 17:41:39,509 [INFO] WRITING LOG OUTPUT TO C:\\Users\\bnort\\.cellpose\\run.log\n",
      "2025-01-13 17:41:39,511 [INFO] \n",
      "cellpose version: \t3.1.0 \n",
      "platform:       \twin32 \n",
      "python version: \t3.10.14 \n",
      "torch version:  \t2.2.2+cu118\n",
      "found framework is  RandomForestFramework\n",
      "found framework is  alt cellpose\n",
      "creating new log file\n",
      "2025-01-13 17:41:39,513 [INFO] WRITING LOG OUTPUT TO C:\\Users\\bnort\\.cellpose\\run.log\n",
      "2025-01-13 17:41:39,514 [INFO] \n",
      "cellpose version: \t3.1.0 \n",
      "platform:       \twin32 \n",
      "python version: \t3.10.14 \n",
      "torch version:  \t2.2.2+cu118\n",
      "Zarr store already up-to-date.\n",
      "Zarr store already up-to-date.\n"
     ]
    },
    {
     "name": "stderr",
     "output_type": "stream",
     "text": [
      "WARNING: QWindowsWindow::setGeometry: Unable to set geometry 1920x1047+1920+23 (frame: 1936x1086+1912-8) on QWidgetWindow/\"_QtMainWindowClassWindow\" on \"\\\\.\\DISPLAY2\". Resulting geometry: 1920x1017+1920+23 (frame: 1936x1056+1912-8) margins: 8, 31, 8, 8 minimum size: 768x1047 MINMAXINFO maxSize=0,0 maxpos=0,0 mintrack=784,1086 maxtrack=0,0)\n"
     ]
    },
    {
     "name": "stdout",
     "output_type": "stream",
     "text": [
      "2025-01-13 17:41:41,522 [WARNING] QWindowsWindow::setGeometry: Unable to set geometry 1920x1047+1920+23 (frame: 1936x1086+1912-8) on QWidgetWindow/\"_QtMainWindowClassWindow\" on \"\\\\.\\DISPLAY2\". Resulting geometry: 1920x1017+1920+23 (frame: 1936x1056+1912-8) margins: 8, 31, 8, 8 minimum size: 768x1047 MINMAXINFO maxSize=0,0 maxpos=0,0 mintrack=784,1086 maxtrack=0,0)\n"
     ]
    }
   ],
   "source": [
    "\n",
    "batch_dl = easy_augment_batch_dl.NapariEasyAugmentBatchDL(viewer, label_only = False)\n",
    "\n",
    "viewer.window.add_dock_widget(\n",
    "    batch_dl\n",
    ")\n",
    "\n",
    "parent_path = r'/home/bnorthan/code/i2k/tnia/notebooks-and-napari-widgets-for-dl/data/ladybugs_series'\n",
    "parent_path = r'D:\\images\\tnia-python-images\\imagesc\\2024_10_03_cellpose_ladybugs'\n",
    "model_path = os.path.join(parent_path, 'models')\n",
    "\n",
    "batch_dl.load_image_directory(parent_path)\n",
    "\n"
   ]
  },
  {
   "cell_type": "markdown",
   "metadata": {},
   "source": [
    "List the frameworks available, we should see the ```CellPose Alt Model``` framework we registered (via import)"
   ]
  },
  {
   "cell_type": "code",
   "execution_count": 3,
   "metadata": {},
   "outputs": [
    {
     "name": "stdout",
     "output_type": "stream",
     "text": [
      "Pytorch Semantic Model\n",
      "CellPose Instance Framework\n",
      "Random Forest Model\n",
      "CellPose Alt Model\n"
     ]
    }
   ],
   "source": [
    "for framework in batch_dl.deep_learning_project.frameworks.values():\n",
    "    print(framework.descriptor)"
   ]
  },
  {
   "cell_type": "code",
   "execution_count": 4,
   "metadata": {},
   "outputs": [],
   "source": [
    "widget=batch_dl.deep_learning_widgets['CellPose Alt Model']\n",
    "model = widget.model\n",
    "model.diameter363 = 36\n",
    "model.prob_thresh = -2.\n",
    "widget.sync_with_model()"
   ]
  },
  {
   "cell_type": "code",
   "execution_count": null,
   "metadata": {},
   "outputs": [],
   "source": []
  }
 ],
 "metadata": {
  "kernelspec": {
   "display_name": "bekonbitsstardist",
   "language": "python",
   "name": "python3"
  },
  "language_info": {
   "codemirror_mode": {
    "name": "ipython",
    "version": 3
   },
   "file_extension": ".py",
   "mimetype": "text/x-python",
   "name": "python",
   "nbconvert_exporter": "python",
   "pygments_lexer": "ipython3",
   "version": "3.10.14"
  }
 },
 "nbformat": 4,
 "nbformat_minor": 2
}
