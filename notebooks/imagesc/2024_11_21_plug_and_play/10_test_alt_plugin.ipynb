{
 "cells": [
  {
   "cell_type": "markdown",
   "metadata": {},
   "source": [
    "## Test plugin approach "
   ]
  },
  {
   "cell_type": "code",
   "execution_count": 1,
   "metadata": {},
   "outputs": [
    {
     "name": "stdout",
     "output_type": "stream",
     "text": [
      "raster_geometry not imported.  This is only needed for the ellipsoid rendering in apply_stardist\n"
     ]
    },
    {
     "name": "stderr",
     "output_type": "stream",
     "text": [
      "/home/bnorthan/mambaforge/envs/easy_augment_pytorch/lib/python3.12/site-packages/tqdm/auto.py:21: TqdmWarning: IProgress not found. Please update jupyter and ipywidgets. See https://ipywidgets.readthedocs.io/en/stable/user_install.html\n",
      "  from .autonotebook import tqdm as notebook_tqdm\n",
      "INFO:albumentations.check_version:A new version of Albumentations is available: 1.4.21 (you have 1.4.12). Upgrade using: pip install -U albumentations. To disable automatic update checks, set the environment variable NO_ALBUMENTATIONS_UPDATE to 1.\n",
      "/home/bnorthan/mambaforge/envs/easy_augment_pytorch/lib/python3.12/site-packages/timm/models/layers/__init__.py:48: FutureWarning: Importing from timm.models.layers is deprecated, please import via timm.layers\n",
      "  warnings.warn(f\"Importing from {__name__} is deprecated, please import via timm.layers\", FutureWarning)\n",
      "/home/bnorthan/mambaforge/envs/easy_augment_pytorch/lib/python3.12/site-packages/timm/models/registry.py:4: FutureWarning: Importing from timm.models.registry is deprecated, please import via timm.models\n",
      "  warnings.warn(f\"Importing from {__name__} is deprecated, please import via timm.models\", FutureWarning)\n",
      "/home/bnorthan/code/i2k/tnia/segment-everything/src/segment_everything/vendored/efficientvit/models/nn/ops.py:407: FutureWarning: `torch.cuda.amp.autocast(args...)` is deprecated. Please use `torch.amp.autocast('cuda', args...)` instead.\n",
      "  @autocast(enabled=False)\n"
     ]
    }
   ],
   "source": [
    "import napari\n",
    "viewer = napari.Viewer()\n",
    "import os\n",
    "# from napari_easy_augment_batch_dl import easy_augment_batch_dl\n",
    "from napari_easy_augment_batch_dl.deep_learning_project import DLModel\n",
    "from napari_easy_augment_batch_dl import easy_augment_batch_dl"
   ]
  },
  {
   "cell_type": "markdown",
   "metadata": {},
   "source": [
    "## Add new model\n",
    "\n",
    "Current approach to add a new model dynamically is to use a function called ```new_import```.   Pass the module name and class name and ```new_import``` will import the new class and add it to the list of globals.  Then ```napari_easy_augment_batch_dl``` should find it.\n",
    "\n",
    "Call ```new_import``` passing a test module called ```alt_cellpose_instance_model``` and the calls ```AltCellposeInstanceModel```.  "
   ]
  },
  {
   "cell_type": "code",
   "execution_count": 2,
   "metadata": {},
   "outputs": [],
   "source": [
    "from napari_easy_augment_batch_dl.deep_learning_project import new_import\n",
    "new_import(\"alt_cellpose_instance_model\", \"AltCellPoseInstanceModel\")"
   ]
  },
  {
   "cell_type": "code",
   "execution_count": 3,
   "metadata": {},
   "outputs": [],
   "source": [
    "import inspect\n",
    "import sys\n",
    "from napari_easy_augment_batch_dl.base_model import BaseModel\n"
   ]
  },
  {
   "cell_type": "code",
   "execution_count": 4,
   "metadata": {},
   "outputs": [
    {
     "data": {
      "text/plain": [
       "dict"
      ]
     },
     "execution_count": 4,
     "metadata": {},
     "output_type": "execute_result"
    }
   ],
   "source": [
    "type(globals().copy())"
   ]
  },
  {
   "cell_type": "code",
   "execution_count": 5,
   "metadata": {},
   "outputs": [],
   "source": [
    "import sys\n",
    "\n",
    "globals_ = globals().copy()\n",
    "\n",
    "for name, obj in globals_.items():  \n",
    "        \n",
    "    if inspect.isclass(obj) and issubclass(obj, BaseModel) and obj is not BaseModel:\n",
    "        print('found class ', name)\n",
    "\n",
    "# Access the global namespace of the main module (the notebook)\n",
    "main_globals = sys.modules['__main__'].__dict__\n",
    "\n",
    "for name, obj in main_globals.items():  \n",
    "        \n",
    "    if inspect.isclass(obj) and issubclass(obj, BaseModel) and obj is not BaseModel:\n",
    "        print('found class ', name)\n"
   ]
  },
  {
   "cell_type": "code",
   "execution_count": null,
   "metadata": {},
   "outputs": [
    {
     "name": "stderr",
     "output_type": "stream",
     "text": [
      "/home/bnorthan/code/i2k/tnia/segment-everything/src/segment_everything/vendored/mobilesamv2/build_sam.py:229: FutureWarning: You are using `torch.load` with `weights_only=False` (the current default value), which uses the default pickle module implicitly. It is possible to construct malicious pickle data which will execute arbitrary code during unpickling (See https://github.com/pytorch/pytorch/blob/main/SECURITY.md#untrusted-models for more details). In a future release, the default value for `weights_only` will be flipped to `True`. This limits the functions that could be executed during unpickling. Arbitrary objects will no longer be allowed to be loaded via this mode unless they are explicitly allowlisted by the user via `torch.serialization.add_safe_globals`. We recommend you start setting `weights_only=True` for any use case where you don't have full control of the loaded file. Please open an issue on GitHub for any issues related to this experimental feature.\n",
      "  state_dict = torch.load(f)\n",
      "/home/bnorthan/code/i2k/tnia/segment-everything/src/segment_everything/vendored/mobilesamv2/build_sam.py:159: FutureWarning: You are using `torch.load` with `weights_only=False` (the current default value), which uses the default pickle module implicitly. It is possible to construct malicious pickle data which will execute arbitrary code during unpickling (See https://github.com/pytorch/pytorch/blob/main/SECURITY.md#untrusted-models for more details). In a future release, the default value for `weights_only` will be flipped to `True`. This limits the functions that could be executed during unpickling. Arbitrary objects will no longer be allowed to be loaded via this mode unless they are explicitly allowlisted by the user via `torch.serialization.add_safe_globals`. We recommend you start setting `weights_only=True` for any use case where you don't have full control of the loaded file. Please open an issue on GitHub for any issues related to this experimental feature.\n",
      "  checkpoints = torch.load(checkpoint)\n"
     ]
    },
    {
     "name": "stdout",
     "output_type": "stream",
     "text": [
      "VIT checkpoint loaded successfully\n"
     ]
    },
    {
     "name": "stderr",
     "output_type": "stream",
     "text": [
      "INFO:cellpose.io:WRITING LOG OUTPUT TO /home/bnorthan/.cellpose/run.log\n",
      "INFO:cellpose.io:\n",
      "cellpose version: \t3.0.10 \n",
      "platform:       \tlinux \n",
      "python version: \t3.12.4 \n",
      "torch version:  \t2.5.1+cu124\n"
     ]
    },
    {
     "name": "stdout",
     "output_type": "stream",
     "text": [
      "found class  PytorchSemanticModel\n",
      "found class  CellPoseInstanceModel\n",
      "found class  MobileSAMModel\n"
     ]
    },
    {
     "name": "stderr",
     "output_type": "stream",
     "text": [
      "/home/bnorthan/code/i2k/tnia/segment-everything/src/segment_everything/vendored/object_detection/ultralytics/nn/tasks.py:680: FutureWarning: You are using `torch.load` with `weights_only=False` (the current default value), which uses the default pickle module implicitly. It is possible to construct malicious pickle data which will execute arbitrary code during unpickling (See https://github.com/pytorch/pytorch/blob/main/SECURITY.md#untrusted-models for more details). In a future release, the default value for `weights_only` will be flipped to `True`. This limits the functions that could be executed during unpickling. Arbitrary objects will no longer be allowed to be loaded via this mode unless they are explicitly allowlisted by the user via `torch.serialization.add_safe_globals`. We recommend you start setting `weights_only=True` for any use case where you don't have full control of the loaded file. Please open an issue on GitHub for any issues related to this experimental feature.\n",
      "  return torch.load(file, map_location=\"cpu\"), file  # load\n",
      "INFO:cellpose.io:WRITING LOG OUTPUT TO /home/bnorthan/.cellpose/run.log\n",
      "INFO:cellpose.io:\n",
      "cellpose version: \t3.0.10 \n",
      "platform:       \tlinux \n",
      "python version: \t3.12.4 \n",
      "torch version:  \t2.5.1+cu124\n"
     ]
    },
    {
     "name": "stdout",
     "output_type": "stream",
     "text": [
      "found class  YoloSAMModel\n",
      "found class  AltCellPoseInstanceModel\n",
      "Pytorch Semantic Model\n",
      "CellPose Instance Model\n",
      "MobileSAM Model\n",
      "Yolo SAM Model\n",
      "CellPose Alt Model\n"
     ]
    },
    {
     "data": {
      "text/plain": [
       "\"\\nif model_name is not None:\\n    batch_dl.deep_learning_project.set_pretrained_model(os.path.join(model_path, model_name), DLModel.STARDIST)\\n\\nmodel=batch_dl.deep_learning_project.models['Stardist Model']\\n\\nmodel.quantile_low = 0.050\\nmodel.quantile_high = 0.998\\nmodel.prob_thresh = 0.5\\n\""
      ]
     },
     "execution_count": 6,
     "metadata": {},
     "output_type": "execute_result"
    },
    {
     "name": "stderr",
     "output_type": "stream",
     "text": [
      "INFO:cellpose.models:>> cyto3 << model set to be used\n",
      "INFO:cellpose.core:** TORCH CUDA version installed and working. **\n",
      "INFO:cellpose.core:>>>> using GPU\n",
      "INFO:cellpose.models:>>>> loading model /home/bnorthan/.cellpose/models/cyto3\n",
      "/home/bnorthan/mambaforge/envs/easy_augment_pytorch/lib/python3.12/site-packages/cellpose/resnet_torch.py:276: FutureWarning: You are using `torch.load` with `weights_only=False` (the current default value), which uses the default pickle module implicitly. It is possible to construct malicious pickle data which will execute arbitrary code during unpickling (See https://github.com/pytorch/pytorch/blob/main/SECURITY.md#untrusted-models for more details). In a future release, the default value for `weights_only` will be flipped to `True`. This limits the functions that could be executed during unpickling. Arbitrary objects will no longer be allowed to be loaded via this mode unless they are explicitly allowlisted by the user via `torch.serialization.add_safe_globals`. We recommend you start setting `weights_only=True` for any use case where you don't have full control of the loaded file. Please open an issue on GitHub for any issues related to this experimental feature.\n",
      "  state_dict = torch.load(filename, map_location=device)\n",
      "INFO:cellpose.models:>>>> model diam_mean =  30.000 (ROIs rescaled to this size during training)\n"
     ]
    }
   ],
   "source": [
    "\n",
    "batch_dl = easy_augment_batch_dl.NapariEasyAugmentBatchDL(viewer, label_only = False)\n",
    "\n",
    "viewer.window.add_dock_widget(\n",
    "    batch_dl\n",
    ")\n",
    "\n",
    "parent_path = r'/home/bnorthan/code/i2k/tnia/notebooks-and-napari-widgets-for-dl/data/ladybugs_series'\n",
    "model_path = os.path.join(parent_path, 'models')\n",
    "\n",
    "#model_name =  'stardist_' # None\n",
    "#model_name =  'stardist_' # None\n",
    "\n",
    "batch_dl.load_image_directory(parent_path)\n",
    "\n",
    "for model in batch_dl.deep_learning_project.models.values():\n",
    "    print(model.descriptor)\n",
    "\n",
    "\n",
    "'''\n",
    "if model_name is not None:\n",
    "    batch_dl.deep_learning_project.set_pretrained_model(os.path.join(model_path, model_name), DLModel.STARDIST)\n",
    "\n",
    "model=batch_dl.deep_learning_project.models['Stardist Model']\n",
    "\n",
    "model.quantile_low = 0.050\n",
    "model.quantile_high = 0.998\n",
    "model.prob_thresh = 0.5\n",
    "'''"
   ]
  }
 ],
 "metadata": {
  "kernelspec": {
   "display_name": "bekonbitsstardist",
   "language": "python",
   "name": "python3"
  },
  "language_info": {
   "codemirror_mode": {
    "name": "ipython",
    "version": 3
   },
   "file_extension": ".py",
   "mimetype": "text/x-python",
   "name": "python",
   "nbconvert_exporter": "python",
   "pygments_lexer": "ipython3",
   "version": "3.12.4"
  }
 },
 "nbformat": 4,
 "nbformat_minor": 2
}
