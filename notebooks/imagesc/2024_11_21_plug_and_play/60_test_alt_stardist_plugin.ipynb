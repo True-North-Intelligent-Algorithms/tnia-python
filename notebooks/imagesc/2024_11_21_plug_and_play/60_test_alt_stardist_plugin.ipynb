{
 "cells": [
  {
   "cell_type": "markdown",
   "metadata": {},
   "source": [
    "## labels with GUI"
   ]
  },
  {
   "cell_type": "code",
   "execution_count": null,
   "metadata": {},
   "outputs": [],
   "source": [
    "import napari\n",
    "#from bekonbits_stardist_instance_model import BekonBitsStardistInstanceModel\n",
    "import os\n",
    "# from napari_easy_augment_batch_dl import easy_augment_batch_dl\n",
    "from napari_easy_augment_batch_dl.deep_learning_project import DLModel\n",
    "from napari_easy_augment_batch_dl import easy_augment_batch_dl"
   ]
  },
  {
   "cell_type": "code",
   "execution_count": null,
   "metadata": {},
   "outputs": [],
   "source": [
    "from napari_easy_augment_batch_dl.deep_learning_project import new_import"
   ]
  },
  {
   "cell_type": "code",
   "execution_count": null,
   "metadata": {},
   "outputs": [],
   "source": [
    "new_import(\"alt_stardist_instance_model\", \"AltStardistInstanceModel\")"
   ]
  },
  {
   "cell_type": "code",
   "execution_count": null,
   "metadata": {},
   "outputs": [],
   "source": [
    "import inspect\n",
    "import sys\n",
    "from napari_easy_augment_batch_dl.base_model import BaseModel\n"
   ]
  },
  {
   "cell_type": "code",
   "execution_count": null,
   "metadata": {},
   "outputs": [],
   "source": [
    "import sys\n",
    "\n",
    "for name, obj in globals().items():  \n",
    "        \n",
    "    if inspect.isclass(obj) and issubclass(obj, BaseModel) and obj is not BaseModel:\n",
    "        print('found class ', name)\n",
    "\n",
    "# Access the global namespace of the main module (the notebook)\n",
    "main_globals = sys.modules['__main__'].__dict__\n",
    "\n",
    "for name, obj in main_globals.items():  \n",
    "        \n",
    "    if inspect.isclass(obj) and issubclass(obj, BaseModel) and obj is not BaseModel:\n",
    "        print('found class ', name)\n"
   ]
  },
  {
   "cell_type": "code",
   "execution_count": null,
   "metadata": {},
   "outputs": [],
   "source": [
    "altbitsstardist = AltStardistInstanceModel()"
   ]
  },
  {
   "cell_type": "code",
   "execution_count": null,
   "metadata": {},
   "outputs": [],
   "source": [
    "viewer = napari.Viewer()\n",
    "\n",
    "batch_dl = easy_augment_batch_dl.NapariEasyAugmentBatchDL(viewer, label_only = False)\n",
    "\n",
    "viewer.window.add_dock_widget(\n",
    "    batch_dl\n",
    ")\n",
    "\n",
    "parent_path = r'...todo'\n",
    "model_path = os.path.join(parent_path, 'models')\n",
    "\n",
    "model_name =  'stardist_' # None\n",
    "#model_name =  'stardist_' # None\n",
    "\n",
    "batch_dl.load_image_directory(parent_path)\n",
    "\n",
    "for model in batch_dl.deep_learning_project.models.values():\n",
    "    print(model.descriptor)\n",
    "\n",
    "\n",
    "'''\n",
    "if model_name is not None:\n",
    "    batch_dl.deep_learning_project.set_pretrained_model(os.path.join(model_path, model_name), DLModel.STARDIST)\n",
    "\n",
    "model=batch_dl.deep_learning_project.models['Stardist Model']\n",
    "\n",
    "model.quantile_low = 0.050\n",
    "model.quantile_high = 0.998\n",
    "model.prob_thresh = 0.5\n",
    "'''"
   ]
  },
  {
   "cell_type": "markdown",
   "metadata": {},
   "source": [
    "## Change parameters to see effect of different settings\n",
    "\n",
    "If you run the below cell the parameters will change in Napari.  You can run prediction again to observe the effect of changing these settings.  The parameters ```quantile_low``` and ```quantile_high``` change how normalization is applied.  The parameter ```prob_thresh``` changes the acceptance probability for objects.  Raise ```prob_thresh``` if there are too many false positives, lower ```prob_thresh``` if there are too many false negatives. "
   ]
  },
  {
   "cell_type": "code",
   "execution_count": null,
   "metadata": {},
   "outputs": [],
   "source": [
    "model.quantile_low = 0.003\n",
    "model.quantile_high = 0.998\n",
    "model.prob_thresh = 0.5"
   ]
  }
 ],
 "metadata": {
  "kernelspec": {
   "display_name": "bekonbitsstardist",
   "language": "python",
   "name": "python3"
  },
  "language_info": {
   "codemirror_mode": {
    "name": "ipython",
    "version": 3
   },
   "file_extension": ".py",
   "mimetype": "text/x-python",
   "name": "python",
   "nbconvert_exporter": "python",
   "pygments_lexer": "ipython3",
   "version": "3.10.14"
  }
 },
 "nbformat": 4,
 "nbformat_minor": 2
}
