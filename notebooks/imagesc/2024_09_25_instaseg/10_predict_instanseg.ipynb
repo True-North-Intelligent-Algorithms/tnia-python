{
 "cells": [
  {
   "cell_type": "markdown",
   "metadata": {},
   "source": [
    "## Additional installs\n",
    "\n",
    "```\n",
    "pip rasterio\n",
    "pip colorcet\n",
    "pip aicsimageio\n",
    "pip install --upgrade urlib3\n",
    "```"
   ]
  },
  {
   "cell_type": "code",
   "execution_count": 1,
   "metadata": {},
   "outputs": [
    {
     "name": "stderr",
     "output_type": "stream",
     "text": [
      "c:\\Users\\bnort\\miniconda3\\envs\\pytorch_and_SAM3\\lib\\site-packages\\tqdm\\auto.py:21: TqdmWarning: IProgress not found. Please update jupyter and ipywidgets. See https://ipywidgets.readthedocs.io/en/stable/user_install.html\n",
      "  from .autonotebook import tqdm as notebook_tqdm\n"
     ]
    }
   ],
   "source": [
    "from InstanSeg.models import InstanSegModel"
   ]
  },
  {
   "cell_type": "code",
   "execution_count": 2,
   "metadata": {},
   "outputs": [
    {
     "name": "stdout",
     "output_type": "stream",
     "text": [
      "Requesting default device: cuda\n",
      "### Device set: cuda ###\n"
     ]
    }
   ],
   "source": [
    "model = InstanSegModel(\"fluorescence_nuclei_and_cells\", gpu=True)"
   ]
  },
  {
   "cell_type": "code",
   "execution_count": 17,
   "metadata": {},
   "outputs": [],
   "source": [
    "from skimage.io import imread\n",
    "\n",
    "parent_path =r'D:\\images\\tnia-python-images\\imagesc\\2024_09_25_InstanSeg' \n",
    "\n",
    "im_name = 'cell_00809.png'\n",
    "\n",
    "im = imread(parent_path + '\\\\' + im_name)\n",
    "im = imread(r'D:\\images\\tnia-python-images\\imagesc\\2024_08_27_bees_sparse\\bee1-s.tif')"
   ]
  },
  {
   "cell_type": "code",
   "execution_count": 18,
   "metadata": {},
   "outputs": [
    {
     "name": "stdout",
     "output_type": "stream",
     "text": [
      "### Predicting from image array ###\n",
      "Processing image\n",
      "Rescaling image from 0.5 to match the model's pixel 0.5 size\n",
      "Processing without tiling\n",
      "Number of unique labels = 1405\n",
      "Number of unique labels = 3513\n"
     ]
    }
   ],
   "source": [
    "test = model.predict(im, 0.5)"
   ]
  },
  {
   "cell_type": "code",
   "execution_count": 19,
   "metadata": {},
   "outputs": [
    {
     "data": {
      "text/plain": [
       "<Labels layer 'Labels [1]' at 0x206b230ec80>"
      ]
     },
     "execution_count": 19,
     "metadata": {},
     "output_type": "execute_result"
    }
   ],
   "source": [
    "import napari\n",
    "viewer = napari.Viewer()\n",
    "viewer.add_image(im)\n",
    "viewer.add_labels(test[0])  \n",
    "viewer.add_labels(test[1])  "
   ]
  },
  {
   "cell_type": "code",
   "execution_count": 13,
   "metadata": {},
   "outputs": [
    {
     "data": {
      "text/plain": [
       "(512, 512)"
      ]
     },
     "execution_count": 13,
     "metadata": {},
     "output_type": "execute_result"
    }
   ],
   "source": [
    "test[0].shape"
   ]
  },
  {
   "cell_type": "code",
   "execution_count": null,
   "metadata": {},
   "outputs": [],
   "source": []
  }
 ],
 "metadata": {
  "kernelspec": {
   "display_name": "pytorch_and_SAM3",
   "language": "python",
   "name": "python3"
  },
  "language_info": {
   "codemirror_mode": {
    "name": "ipython",
    "version": 3
   },
   "file_extension": ".py",
   "mimetype": "text/x-python",
   "name": "python",
   "nbconvert_exporter": "python",
   "pygments_lexer": "ipython3",
   "version": "3.10.14"
  }
 },
 "nbformat": 4,
 "nbformat_minor": 2
}
