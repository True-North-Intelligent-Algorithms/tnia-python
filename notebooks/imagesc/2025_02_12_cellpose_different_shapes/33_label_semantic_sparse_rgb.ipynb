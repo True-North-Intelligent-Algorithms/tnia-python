{
 "cells": [
  {
   "cell_type": "markdown",
   "metadata": {},
   "source": [
    "## Label and create patches\n",
    "\n",
    "This notebook uses the napari-easy-augment-batch-dl plugin to label and create patches. \n",
    "\n",
    "Todo:  Add video"
   ]
  },
  {
   "cell_type": "code",
   "execution_count": 1,
   "metadata": {},
   "outputs": [
    {
     "name": "stderr",
     "output_type": "stream",
     "text": [
      "c:\\Users\\bnort\\miniconda3\\envs\\pytorch_and_SAM3\\lib\\site-packages\\tqdm\\auto.py:21: TqdmWarning: IProgress not found. Please update jupyter and ipywidgets. See https://ipywidgets.readthedocs.io/en/stable/user_install.html\n",
      "  from .autonotebook import tqdm as notebook_tqdm\n"
     ]
    }
   ],
   "source": [
    "from cellpose import models, io\n",
    "import os\n",
    "import numpy as np\n",
    "import napari\n",
    "from napari_easy_augment_batch_dl import easy_augment_batch_dl"
   ]
  },
  {
   "cell_type": "code",
   "execution_count": 3,
   "metadata": {},
   "outputs": [
    {
     "name": "stdout",
     "output_type": "stream",
     "text": [
      "VIT checkpoint loaded successfully\n",
      "found framework is  MobileSAMFramework\n",
      "found framework is  YoloSAMFramework\n",
      "found framework is  RandomForestFramework\n",
      "found framework is  PytorchSemanticFramework\n",
      "found framework is  CellPoseInstanceFramework\n",
      "creating new log file\n",
      "2025-02-12 10:40:26,464 [INFO] WRITING LOG OUTPUT TO C:\\Users\\bnort\\.cellpose\\run.log\n",
      "2025-02-12 10:40:26,465 [INFO] \n",
      "cellpose version: \t3.1.0 \n",
      "platform:       \twin32 \n",
      "python version: \t3.10.14 \n",
      "torch version:  \t2.2.2+cu118\n",
      "D:\\images\\tnia-python-images\\imagesc\\2025_02_12_cellpose_different_shapes\\testcellpose.jpg\n",
      "Zarr store already up-to-date.\n",
      "Zarr store already up-to-date.\n"
     ]
    },
    {
     "name": "stdout",
     "output_type": "stream",
     "text": [
      "image file is  D:\\images\\tnia-python-images\\imagesc\\2025_02_12_cellpose_different_shapes\\testcellpose.jpg\n",
      "labelsum is  749806\n",
      "(243, 326, 3) (243, 326)\n",
      "testcellpose_0\n",
      "D:\\images\\tnia-python-images\\imagesc\\2025_02_12_cellpose_different_shapes\\labels\\input0/testcellpose_0.tif\n",
      "D:\\images\\tnia-python-images\\imagesc\\2025_02_12_cellpose_different_shapes\\labels\\ground truth0/testcellpose_0.tif\n",
      "D:\\images\\tnia-python-images\\imagesc\\2025_02_12_cellpose_different_shapes\\labels\\input0/testcellpose_0.tif\n",
      "D:\\images\\tnia-python-images\\imagesc\\2025_02_12_cellpose_different_shapes\\labels\\ground truth0\n"
     ]
    },
    {
     "name": "stderr",
     "output_type": "stream",
     "text": [
      "deep_learning_project.py (346): D:\\images\\tnia-python-images\\imagesc\\2025_02_12_cellpose_different_shapes\\labels\\ground truth0\\testcellpose_0.tif is a low contrast image\n",
      "deep_learning_project.py (367): D:\\images\\tnia-python-images\\imagesc\\2025_02_12_cellpose_different_shapes\\annotations\\class_0\\testcellpose.tif is a low contrast image\n",
      "deep_learning_project.py (372): D:\\images\\tnia-python-images\\imagesc\\2025_02_12_cellpose_different_shapes\\predictions\\class_0\\testcellpose.tif is a low contrast image\n"
     ]
    },
    {
     "name": "stdout",
     "output_type": "stream",
     "text": [
      "Deleted file: D:\\images\\tnia-python-images\\imagesc\\2025_02_12_cellpose_different_shapes\\labels\\input0\\testcellpose_0.json\n",
      "Deleted file: D:\\images\\tnia-python-images\\imagesc\\2025_02_12_cellpose_different_shapes\\labels\\input0\\testcellpose_0.tif\n",
      "Deleted file: D:\\images\\tnia-python-images\\imagesc\\2025_02_12_cellpose_different_shapes\\labels\\ground truth0\\testcellpose_0.tif\n",
      "image file is  D:\\images\\tnia-python-images\\imagesc\\2025_02_12_cellpose_different_shapes\\testcellpose.jpg\n",
      "labelsum is  749806\n",
      "(243, 326, 3) (243, 326)\n",
      "testcellpose_0\n",
      "D:\\images\\tnia-python-images\\imagesc\\2025_02_12_cellpose_different_shapes\\labels\\input0/testcellpose_0.tif\n",
      "D:\\images\\tnia-python-images\\imagesc\\2025_02_12_cellpose_different_shapes\\labels\\ground truth0/testcellpose_0.tif\n",
      "D:\\images\\tnia-python-images\\imagesc\\2025_02_12_cellpose_different_shapes\\labels\\input0/testcellpose_0.tif\n",
      "D:\\images\\tnia-python-images\\imagesc\\2025_02_12_cellpose_different_shapes\\labels\\ground truth0\n",
      "image file is  D:\\images\\tnia-python-images\\imagesc\\2025_02_12_cellpose_different_shapes\\testcellpose.jpg\n",
      "labelsum is  3550285\n",
      "(275, 296, 3) (275, 296)\n",
      "testcellpose_1\n",
      "D:\\images\\tnia-python-images\\imagesc\\2025_02_12_cellpose_different_shapes\\labels\\input0/testcellpose_1.tif\n",
      "D:\\images\\tnia-python-images\\imagesc\\2025_02_12_cellpose_different_shapes\\labels\\ground truth0/testcellpose_1.tif\n",
      "D:\\images\\tnia-python-images\\imagesc\\2025_02_12_cellpose_different_shapes\\labels\\input0/testcellpose_1.tif\n",
      "D:\\images\\tnia-python-images\\imagesc\\2025_02_12_cellpose_different_shapes\\labels\\ground truth0\n"
     ]
    },
    {
     "name": "stderr",
     "output_type": "stream",
     "text": [
      "deep_learning_project.py (346): D:\\images\\tnia-python-images\\imagesc\\2025_02_12_cellpose_different_shapes\\labels\\ground truth0\\testcellpose_0.tif is a low contrast image\n",
      "deep_learning_project.py (346): D:\\images\\tnia-python-images\\imagesc\\2025_02_12_cellpose_different_shapes\\labels\\ground truth0\\testcellpose_1.tif is a low contrast image\n",
      "deep_learning_project.py (367): D:\\images\\tnia-python-images\\imagesc\\2025_02_12_cellpose_different_shapes\\annotations\\class_0\\testcellpose.tif is a low contrast image\n",
      "deep_learning_project.py (372): D:\\images\\tnia-python-images\\imagesc\\2025_02_12_cellpose_different_shapes\\predictions\\class_0\\testcellpose.tif is a low contrast image\n"
     ]
    },
    {
     "name": "stdout",
     "output_type": "stream",
     "text": [
      "Deleted file: D:\\images\\tnia-python-images\\imagesc\\2025_02_12_cellpose_different_shapes\\labels\\input0\\testcellpose_0.json\n",
      "Deleted file: D:\\images\\tnia-python-images\\imagesc\\2025_02_12_cellpose_different_shapes\\labels\\input0\\testcellpose_0.tif\n",
      "Deleted file: D:\\images\\tnia-python-images\\imagesc\\2025_02_12_cellpose_different_shapes\\labels\\input0\\testcellpose_1.json\n",
      "Deleted file: D:\\images\\tnia-python-images\\imagesc\\2025_02_12_cellpose_different_shapes\\labels\\input0\\testcellpose_1.tif\n",
      "Deleted file: D:\\images\\tnia-python-images\\imagesc\\2025_02_12_cellpose_different_shapes\\labels\\ground truth0\\testcellpose_0.tif\n",
      "Deleted file: D:\\images\\tnia-python-images\\imagesc\\2025_02_12_cellpose_different_shapes\\labels\\ground truth0\\testcellpose_1.tif\n",
      "image file is  D:\\images\\tnia-python-images\\imagesc\\2025_02_12_cellpose_different_shapes\\testcellpose.jpg\n",
      "labelsum is  749806\n",
      "(243, 326, 3) (243, 326)\n",
      "testcellpose_0\n",
      "D:\\images\\tnia-python-images\\imagesc\\2025_02_12_cellpose_different_shapes\\labels\\input0/testcellpose_0.tif\n",
      "D:\\images\\tnia-python-images\\imagesc\\2025_02_12_cellpose_different_shapes\\labels\\ground truth0/testcellpose_0.tif\n",
      "D:\\images\\tnia-python-images\\imagesc\\2025_02_12_cellpose_different_shapes\\labels\\input0/testcellpose_0.tif\n",
      "D:\\images\\tnia-python-images\\imagesc\\2025_02_12_cellpose_different_shapes\\labels\\ground truth0\n",
      "image file is  D:\\images\\tnia-python-images\\imagesc\\2025_02_12_cellpose_different_shapes\\testcellpose.jpg\n",
      "labelsum is  3550285\n",
      "(275, 296, 3) (275, 296)\n",
      "testcellpose_1\n",
      "D:\\images\\tnia-python-images\\imagesc\\2025_02_12_cellpose_different_shapes\\labels\\input0/testcellpose_1.tif\n",
      "D:\\images\\tnia-python-images\\imagesc\\2025_02_12_cellpose_different_shapes\\labels\\ground truth0/testcellpose_1.tif\n",
      "D:\\images\\tnia-python-images\\imagesc\\2025_02_12_cellpose_different_shapes\\labels\\input0/testcellpose_1.tif\n",
      "D:\\images\\tnia-python-images\\imagesc\\2025_02_12_cellpose_different_shapes\\labels\\ground truth0\n"
     ]
    },
    {
     "name": "stderr",
     "output_type": "stream",
     "text": [
      "deep_learning_project.py (346): D:\\images\\tnia-python-images\\imagesc\\2025_02_12_cellpose_different_shapes\\labels\\ground truth0\\testcellpose_0.tif is a low contrast image\n",
      "deep_learning_project.py (346): D:\\images\\tnia-python-images\\imagesc\\2025_02_12_cellpose_different_shapes\\labels\\ground truth0\\testcellpose_1.tif is a low contrast image\n",
      "deep_learning_project.py (367): D:\\images\\tnia-python-images\\imagesc\\2025_02_12_cellpose_different_shapes\\annotations\\class_0\\testcellpose.tif is a low contrast image\n",
      "deep_learning_project.py (372): D:\\images\\tnia-python-images\\imagesc\\2025_02_12_cellpose_different_shapes\\predictions\\class_0\\testcellpose.tif is a low contrast image\n"
     ]
    },
    {
     "ename": "",
     "evalue": "",
     "output_type": "error",
     "traceback": [
      "\u001b[1;31mThe Kernel crashed while executing code in the current cell or a previous cell. \n",
      "\u001b[1;31mPlease review the code in the cell(s) to identify a possible cause of the failure. \n",
      "\u001b[1;31mClick <a href='https://aka.ms/vscodeJupyterKernelCrash'>here</a> for more info. \n",
      "\u001b[1;31mView Jupyter <a href='command:jupyter.viewOutput'>log</a> for further details."
     ]
    }
   ],
   "source": [
    "viewer = napari.Viewer()\n",
    "\n",
    "batch_dl = easy_augment_batch_dl.NapariEasyAugmentBatchDL(viewer, label_only = False)\n",
    "\n",
    "parent_path = r'D:\\images\\tnia-python-images\\imagesc\\2025_02_12_cellpose_different_shapes'\n",
    "\n",
    "viewer.window.add_dock_widget(\n",
    "    batch_dl\n",
    ")\n",
    "\n",
    "batch_dl.load_image_directory(parent_path)\n",
    "\n"
   ]
  },
  {
   "cell_type": "code",
   "execution_count": null,
   "metadata": {},
   "outputs": [],
   "source": []
  }
 ],
 "metadata": {
  "kernelspec": {
   "display_name": "pytorch_and_SAM3",
   "language": "python",
   "name": "python3"
  },
  "language_info": {
   "codemirror_mode": {
    "name": "ipython",
    "version": 3
   },
   "file_extension": ".py",
   "mimetype": "text/x-python",
   "name": "python",
   "nbconvert_exporter": "python",
   "pygments_lexer": "ipython3",
   "version": "3.10.14"
  }
 },
 "nbformat": 4,
 "nbformat_minor": 2
}
