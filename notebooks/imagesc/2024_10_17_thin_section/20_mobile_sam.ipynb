{
 "cells": [
  {
   "cell_type": "markdown",
   "metadata": {},
   "source": [
    "## Thin section example\n",
    "\n",
    "For this example need to install segment-everything and napari-segment-everything\n",
    "\n",
    "pip install git+https://github.com/True-North-Intelligent-Algorithms/segment-everything.git\n",
    "pip install git+https://github.com/bnorthan/napari-easy-augment-batch-dl.git\n",
    "    "
   ]
  },
  {
   "cell_type": "code",
   "execution_count": 1,
   "metadata": {},
   "outputs": [
    {
     "name": "stderr",
     "output_type": "stream",
     "text": [
      "c:\\Users\\bnort\\miniconda3\\envs\\pytorch_and_SAM3\\lib\\site-packages\\tqdm\\auto.py:21: TqdmWarning: IProgress not found. Please update jupyter and ipywidgets. See https://ipywidgets.readthedocs.io/en/stable/user_install.html\n",
      "  from .autonotebook import tqdm as notebook_tqdm\n"
     ]
    }
   ],
   "source": [
    "from segment_everything.detect_and_segment import segment_from_stacked_labels\n",
    "from segment_everything.prompt_generator import YoloDetector\n",
    "from segment_everything.weights_helper import get_weights_path\n",
    "from segment_everything.stacked_labels import StackedLabels\n",
    "from segment_everything.detect_and_segment import segment_from_stacked_labels"
   ]
  },
  {
   "cell_type": "code",
   "execution_count": 2,
   "metadata": {},
   "outputs": [],
   "source": [
    "conf = 0.01\n",
    "iou = 0.8\n",
    "imagesz = 4096\n",
    "descriptor = \"MobileSAM Model\"\n",
    "boxes = True\n",
    "\n",
    "yolo_detecter = YoloDetector(str(get_weights_path(\"ObjectAwareModel\")), \"ObjectAwareModelFromMobileSamV2\", device='cuda')\n",
    "        "
   ]
  },
  {
   "cell_type": "code",
   "execution_count": 3,
   "metadata": {},
   "outputs": [],
   "source": [
    "from skimage.io import imread\n",
    "image_name = r'D:\\images\\tnia-python-images\\imagesc\\2024_10_17_thin_section\\7-1-.tif'\n",
    "img = imread(image_name)"
   ]
  },
  {
   "cell_type": "code",
   "execution_count": 4,
   "metadata": {},
   "outputs": [
    {
     "name": "stderr",
     "output_type": "stream",
     "text": [
      "\n",
      "0: 3072x4096 801 objects, 542.4ms\n",
      "Speed: 87.8ms preprocess, 542.4ms inference, 137.6ms postprocess per image at shape (1, 3, 4096, 4096)\n"
     ]
    },
    {
     "name": "stdout",
     "output_type": "stream",
     "text": [
      "VIT checkpoint loaded successfully\n"
     ]
    }
   ],
   "source": [
    "results = yolo_detecter.get_results(img, conf=conf, iou= iou, imgsz=imagesz, max_det=10000)\n",
    "bbs=results[0].boxes.xyxy.cpu().numpy()\n",
    "stacked_labels = StackedLabels.from_yolo_results(bbs, None, img)\n",
    "segmented_stacked_labels = segment_from_stacked_labels(stacked_labels, \"MobileSamV2\")\n",
    "segmented_stacked_labels.sort_largest_to_smallest()\n",
    "labels = segmented_stacked_labels.make_2d_labels(type=\"min\")\n",
    "        "
   ]
  },
  {
   "cell_type": "code",
   "execution_count": 5,
   "metadata": {},
   "outputs": [
    {
     "name": "stdout",
     "output_type": "stream",
     "text": [
      "area 6.0 298919.0\n",
      "label_num 1 800\n",
      "solidity 0.2648746555478724 1.0\n",
      "circularity 0.027910230663158647 1\n",
      "mean_intensity 22.654865514118065 211.24613140082752\n",
      "10th_percentile_intensity 6.0 192.0\n",
      "mean_hue 43.777833772405316 166.92958084627938\n",
      "mean_saturation 7.6902403978114195 140.7984994305259\n",
      "predicted_iou 0.3695458471775055 0.9803380370140076\n",
      "stability_score 0.08018271625041962 1.0\n"
     ]
    }
   ],
   "source": [
    "import napari\n",
    "from  napari_segment_everything import segment_everything\n",
    "\n",
    "viewer = napari.Viewer()\n",
    "segment_everything_widget=segment_everything.NapariSegmentEverything(viewer)\n",
    "viewer.window.add_dock_widget(segment_everything_widget)\n",
    "segment_everything_widget.load_project(segmented_stacked_labels.image, segmented_stacked_labels.mask_list)\n"
   ]
  },
  {
   "cell_type": "code",
   "execution_count": null,
   "metadata": {},
   "outputs": [],
   "source": []
  }
 ],
 "metadata": {
  "kernelspec": {
   "display_name": "pytorch_and_SAM3",
   "language": "python",
   "name": "python3"
  },
  "language_info": {
   "codemirror_mode": {
    "name": "ipython",
    "version": 3
   },
   "file_extension": ".py",
   "mimetype": "text/x-python",
   "name": "python",
   "nbconvert_exporter": "python",
   "pygments_lexer": "ipython3",
   "version": "3.10.14"
  }
 },
 "nbformat": 4,
 "nbformat_minor": 2
}
