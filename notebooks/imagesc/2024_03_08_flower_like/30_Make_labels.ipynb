{
 "cells": [
  {
   "cell_type": "markdown",
   "metadata": {},
   "source": [
    "## Make labels\n",
    "\n",
    "Crop one quadrant of the image to make a label.  Idea is to keep 3/4 of the image 'hidden' so we can do 'validation'"
   ]
  },
  {
   "cell_type": "code",
   "execution_count": 14,
   "metadata": {},
   "outputs": [
    {
     "data": {
      "text/plain": [
       "<matplotlib.image.AxesImage at 0x1beffa277c0>"
      ]
     },
     "execution_count": 14,
     "metadata": {},
     "output_type": "execute_result"
    },
    {
     "data": {
      "image/png": "[encoded data removed]",
      "text/plain": [
       "<Figure size 640x480 with 1 Axes>"
      ]
     },
     "metadata": {},
     "output_type": "display_data"
    }
   ],
   "source": [
    "from skimage.io import imread\n",
    "from pathlib import Path\n",
    "from matplotlib import pyplot as plt\n",
    "import napari\n",
    "import numpy as np\n",
    "\n",
    "tnia_images_path = Path(\"D:/images/tnia-python-images\")\n",
    "parent_path = tnia_images_path / \"imagesc/2024_03_08_flower_like\"\n",
    "\n",
    "image = imread(str(parent_path / (\"HP_1week_screenshot.jpg\")))\n",
    "segmented = imread(str(parent_path / (\"segmented_ML_pixel.tif\")))\n",
    "\n",
    "outlines = np.zeros_like(segmented)\n",
    "#outlines[segmented==3]=1\n",
    "\n",
    "crop = np.s_[:image.shape[0]//2,image.shape[1]//2:image.shape[1]]\n",
    "\n",
    "#label = outlines[:512,:512]\n",
    "\n",
    "plt.imshow(outlines[crop])"
   ]
  },
  {
   "cell_type": "code",
   "execution_count": 20,
   "metadata": {},
   "outputs": [
    {
     "data": {
      "text/plain": [
       "<Labels layer 'labels' at 0x1bea5cdb190>"
      ]
     },
     "execution_count": 20,
     "metadata": {},
     "output_type": "execute_result"
    }
   ],
   "source": [
    "viewer = napari.Viewer()\n",
    "viewer.add_image(image[crop], name='image')\n",
    "viewer.add_labels(outlines[crop], name='labels')"
   ]
  },
  {
   "cell_type": "code",
   "execution_count": 21,
   "metadata": {},
   "outputs": [
    {
     "name": "stderr",
     "output_type": "stream",
     "text": [
      "C:\\Users\\bnort\\AppData\\Local\\Temp\\ipykernel_20928\\1952159752.py:2: UserWarning: D:\\images\\tnia-python-images\\imagesc\\2024_03_08_flower_like\\label.tif is a low contrast image\n",
      "  imsave(parent_path / \"label.tif\", outlines[crop].astype('uint16'))\n"
     ]
    }
   ],
   "source": [
    "from skimage.io import imsave\n",
    "imsave(parent_path / \"label.tif\", outlines[crop].astype('uint16'))"
   ]
  },
  {
   "cell_type": "code",
   "execution_count": 22,
   "metadata": {},
   "outputs": [
    {
     "name": "stderr",
     "output_type": "stream",
     "text": [
      "C:\\Users\\bnort\\AppData\\Local\\Temp\\ipykernel_20928\\2474443712.py:1: UserWarning: D:\\images\\tnia-python-images\\imagesc\\2024_03_08_flower_like\\image.tif is a low contrast image\n",
      "  imsave(parent_path / \"image.tif\", image[crop].astype('uint16'))\n"
     ]
    }
   ],
   "source": [
    "imsave(parent_path / \"image.tif\", image[crop].astype('uint16'))"
   ]
  },
  {
   "cell_type": "code",
   "execution_count": 8,
   "metadata": {},
   "outputs": [
    {
     "data": {
      "text/plain": [
       "(dtype('int32'), dtype('<u2'))"
      ]
     },
     "execution_count": 8,
     "metadata": {},
     "output_type": "execute_result"
    }
   ],
   "source": [
    "label.dtype, image.dtype"
   ]
  },
  {
   "cell_type": "code",
   "execution_count": null,
   "metadata": {},
   "outputs": [],
   "source": []
  }
 ],
 "metadata": {
  "kernelspec": {
   "display_name": "dresden-decon-test1",
   "language": "python",
   "name": "python3"
  },
  "language_info": {
   "codemirror_mode": {
    "name": "ipython",
    "version": 3
   },
   "file_extension": ".py",
   "mimetype": "text/x-python",
   "name": "python",
   "nbconvert_exporter": "python",
   "pygments_lexer": "ipython3",
   "version": "3.9.16"
  }
 },
 "nbformat": 4,
 "nbformat_minor": 2
}
