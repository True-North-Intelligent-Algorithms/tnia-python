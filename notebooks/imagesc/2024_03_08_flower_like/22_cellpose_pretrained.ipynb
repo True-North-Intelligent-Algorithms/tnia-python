{
 "cells": [
  {
   "cell_type": "markdown",
   "metadata": {},
   "source": [
    "## Call Cellpose pre-trained model\n",
    "\n",
    "Here we try the cellpose cyto2 model on the same image"
   ]
  },
  {
   "cell_type": "code",
   "execution_count": 1,
   "metadata": {},
   "outputs": [
    {
     "name": "stdout",
     "output_type": "stream",
     "text": [
      "(1850, 1848, 3)\n"
     ]
    }
   ],
   "source": [
    "from cellpose import models\n",
    "from pathlib import Path\n",
    "from skimage.io import imread, imsave\n",
    "from skimage.color import rgb2gray\n",
    "from pathlib import Path\n",
    "\n",
    "tnia_images_path = Path(\"D:/images/tnia-python-images\")\n",
    "parent_path = tnia_images_path / \"imagesc/2024_03_08_flower_like\"\n",
    "image = imread(str(parent_path / (\"HP_1week_screenshot.jpg\")))\n",
    "print(image.shape)\n",
    "image = rgb2gray(image)"
   ]
  },
  {
   "cell_type": "code",
   "execution_count": 2,
   "metadata": {},
   "outputs": [],
   "source": [
    "model = models.CellposeModel(gpu=True, model_type=\"cyto2\")"
   ]
  },
  {
   "cell_type": "code",
   "execution_count": 7,
   "metadata": {},
   "outputs": [],
   "source": [
    "\n",
    "labels = model.eval(image, channels=[0, 0],diameter=200,flow_threshold=0.8, cellprob_threshold=-0.8)[0]\n"
   ]
  },
  {
   "cell_type": "code",
   "execution_count": 8,
   "metadata": {},
   "outputs": [
    {
     "data": {
      "text/plain": [
       "<Labels layer 'labels' at 0x1d59cc41400>"
      ]
     },
     "execution_count": 8,
     "metadata": {},
     "output_type": "execute_result"
    }
   ],
   "source": [
    "import napari\n",
    "\n",
    "viewer = napari.Viewer()\n",
    "viewer.add_image(image)\n",
    "viewer.add_labels(labels)\n"
   ]
  }
 ],
 "metadata": {
  "kernelspec": {
   "display_name": "decon-dl-with-cellpose",
   "language": "python",
   "name": "python3"
  },
  "language_info": {
   "codemirror_mode": {
    "name": "ipython",
    "version": 3
   },
   "file_extension": ".py",
   "mimetype": "text/x-python",
   "name": "python",
   "nbconvert_exporter": "python",
   "pygments_lexer": "ipython3",
   "version": "3.9.16"
  }
 },
 "nbformat": 4,
 "nbformat_minor": 2
}
