{
 "cells": [
  {
   "cell_type": "markdown",
   "id": "7d5000e3",
   "metadata": {},
   "source": [
    "## Test Napari dirty flag\n",
    "\n",
    "Simple example to test marking Napari layers 'dirty' if a change is made. "
   ]
  },
  {
   "cell_type": "code",
   "execution_count": 1,
   "id": "4f52de03",
   "metadata": {},
   "outputs": [
    {
     "name": "stderr",
     "output_type": "stream",
     "text": [
      "WARNING: QWindowsWindow::setGeometry: Unable to set geometry 1086x1108+2560+280 (frame: 1102x1147+2552+249) on QWidgetWindow/\"_QtMainWindowClassWindow\" on \"\\\\.\\DISPLAY2\". Resulting geometry: 1086x1061+2560+280 (frame: 1102x1100+2552+249) margins: 8, 31, 8, 8 minimum size: 385x497 MINMAXINFO maxSize=0,0 maxpos=0,0 mintrack=401,536 maxtrack=0,0)\n"
     ]
    }
   ],
   "source": [
    "import napari\n",
    "from skimage import data\n",
    "\n",
    "dirty = False\n",
    "\n",
    "# Load an example image (e.g., 'camera')\n",
    "image = data.camera()\n",
    "viewer = napari.Viewer()\n",
    "\n",
    "image.shape\n",
    "image_layer = viewer.add_image(image)\n",
    "import numpy as np\n",
    "\n",
    "empty = np.zeros_like(image, dtype=np.uint16)\n",
    "label_layer= viewer.add_labels(empty, name='empty')\n",
    "\n",
    "shapes_layer=viewer.add_shapes(name='shapes')"
   ]
  },
  {
   "cell_type": "code",
   "execution_count": 2,
   "id": "49732307",
   "metadata": {},
   "outputs": [
    {
     "data": {
      "text/plain": [
       "<function __main__.mark_dirty_data(event)>"
      ]
     },
     "execution_count": 2,
     "metadata": {},
     "output_type": "execute_result"
    }
   ],
   "source": [
    "dirty = False\n",
    "def mark_dirty_data(event):\n",
    "    global dirty\n",
    "    dirty = True\n",
    "    print(f\"Data changed in: {event.source.name} — dirty = True\")\n",
    "\n",
    "def mark_dirty_paint(event):\n",
    "    global dirty\n",
    "    dirty = True\n",
    "    print(f\"Data painted in: {event.source.name} — dirty = True\")\n",
    "\n",
    "\n",
    "label_layer.events.paint.connect(mark_dirty_paint)\n",
    "label_layer.events.data.connect(mark_dirty_data)\n",
    "shapes_layer.events.data.connect(mark_dirty_data)"
   ]
  },
  {
   "cell_type": "code",
   "execution_count": null,
   "id": "19a233f4",
   "metadata": {},
   "outputs": [
    {
     "data": {
      "text/plain": [
       "False"
      ]
     },
     "execution_count": 3,
     "metadata": {},
     "output_type": "execute_result"
    },
    {
     "name": "stdout",
     "output_type": "stream",
     "text": [
      "Data changed in: shapes — dirty = True\n",
      "Data changed in: shapes — dirty = True\n",
      "Data painted in: empty — dirty = True\n",
      "Data painted in: empty — dirty = True\n"
     ]
    }
   ],
   "source": [
    "dirty"
   ]
  },
  {
   "cell_type": "code",
   "execution_count": null,
   "id": "cc671bcd",
   "metadata": {},
   "outputs": [],
   "source": []
  }
 ],
 "metadata": {
  "kernelspec": {
   "display_name": "microsam_cellose_sam",
   "language": "python",
   "name": "python3"
  },
  "language_info": {
   "codemirror_mode": {
    "name": "ipython",
    "version": 3
   },
   "file_extension": ".py",
   "mimetype": "text/x-python",
   "name": "python",
   "nbconvert_exporter": "python",
   "pygments_lexer": "ipython3",
   "version": "3.11.12"
  }
 },
 "nbformat": 4,
 "nbformat_minor": 5
}
