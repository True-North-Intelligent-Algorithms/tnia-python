{
 "cells": [
  {
   "cell_type": "code",
   "execution_count": 122,
   "id": "0942d6f7",
   "metadata": {},
   "outputs": [
    {
     "name": "stdout",
     "output_type": "stream",
     "text": [
      "Friendly name: fish2\n"
     ]
    }
   ],
   "source": [
    "from email.mime import base\n",
    "from skimage.io import imread\n",
    "import pandas as pd\n",
    "import os\n",
    "from utility import get_friendly_name\n",
    "\n",
    "base_name = 'celegans_dyn-90_ceff-0'\n",
    "base_name = 'celegans_dyn-90_ceff-90'\n",
    "#base_name = 'celegans_dyn-10_ceff-0'\n",
    "#base_name = 'celegans_dyn-10_ceff-90'\n",
    "\n",
    "im_name = r'D:\\images\\tnia-python-images\\imagesc\\2025_06_02_check_ABRF_labels\\{}_final.ics.ome.tiff'.format(base_name)\n",
    "label_name = r'D:\\images\\tnia-python-images\\imagesc\\2025_06_02_check_ABRF_labels\\{}_label.ics.ome.tiff'.format(base_name)\n",
    "\n",
    "im = imread(im_name)\n",
    "label = imread(label_name)\n",
    "\n",
    "scale = [.2, .161616, .161616]\n",
    "label_scale = [.161616, .161616, .161616]\n",
    "\n",
    "friendly_name = get_friendly_name(f\"{base_name}_label.ics.ome.tiff\")\n",
    "print(f\"Friendly name: {friendly_name}\")"
   ]
  },
  {
   "cell_type": "code",
   "execution_count": 123,
   "id": "6293d93d",
   "metadata": {},
   "outputs": [
    {
     "data": {
      "text/plain": [
       "<Labels layer 'label' at 0x25936f478e0>"
      ]
     },
     "execution_count": 123,
     "metadata": {},
     "output_type": "execute_result"
    }
   ],
   "source": [
    "import napari\n",
    "viewer = napari.Viewer()\n",
    "viewer.add_image(im, name='image', scale=scale)\n",
    "viewer.add_labels(label, name='label', scale=label_scale)"
   ]
  },
  {
   "cell_type": "code",
   "execution_count": 124,
   "id": "5c5fe312",
   "metadata": {},
   "outputs": [
    {
     "name": "stdout",
     "output_type": "stream",
     "text": [
      "(91499, 7)\n"
     ]
    },
    {
     "data": {
      "text/html": [
       "<div>\n",
       "<style scoped>\n",
       "    .dataframe tbody tr th:only-of-type {\n",
       "        vertical-align: middle;\n",
       "    }\n",
       "\n",
       "    .dataframe tbody tr th {\n",
       "        vertical-align: top;\n",
       "    }\n",
       "\n",
       "    .dataframe thead th {\n",
       "        text-align: right;\n",
       "    }\n",
       "</style>\n",
       "<table border=\"1\" class=\"dataframe\">\n",
       "  <thead>\n",
       "    <tr style=\"text-align: right;\">\n",
       "      <th></th>\n",
       "      <th>x</th>\n",
       "      <th>y</th>\n",
       "      <th>z</th>\n",
       "      <th>intensity</th>\n",
       "      <th>volume</th>\n",
       "      <th>csv_path</th>\n",
       "      <th>Unnamed: 6</th>\n",
       "    </tr>\n",
       "  </thead>\n",
       "  <tbody>\n",
       "    <tr>\n",
       "      <th>544</th>\n",
       "      <td>8.91024</td>\n",
       "      <td>19.5320</td>\n",
       "      <td>0.790119</td>\n",
       "      <td>240863.0</td>\n",
       "      <td>NaN</td>\n",
       "      <td>Q10.13/R_1M6DoAmYEY3Jrvm_fish1.csv</td>\n",
       "      <td>NaN</td>\n",
       "    </tr>\n",
       "    <tr>\n",
       "      <th>545</th>\n",
       "      <td>1.46720</td>\n",
       "      <td>17.2517</td>\n",
       "      <td>1.072000</td>\n",
       "      <td>174002.0</td>\n",
       "      <td>NaN</td>\n",
       "      <td>Q10.13/R_1M6DoAmYEY3Jrvm_fish1.csv</td>\n",
       "      <td>NaN</td>\n",
       "    </tr>\n",
       "    <tr>\n",
       "      <th>546</th>\n",
       "      <td>4.84922</td>\n",
       "      <td>18.7622</td>\n",
       "      <td>1.107680</td>\n",
       "      <td>173950.0</td>\n",
       "      <td>NaN</td>\n",
       "      <td>Q10.13/R_1M6DoAmYEY3Jrvm_fish1.csv</td>\n",
       "      <td>NaN</td>\n",
       "    </tr>\n",
       "    <tr>\n",
       "      <th>547</th>\n",
       "      <td>7.95575</td>\n",
       "      <td>20.6853</td>\n",
       "      <td>1.270390</td>\n",
       "      <td>179664.0</td>\n",
       "      <td>NaN</td>\n",
       "      <td>Q10.13/R_1M6DoAmYEY3Jrvm_fish1.csv</td>\n",
       "      <td>NaN</td>\n",
       "    </tr>\n",
       "    <tr>\n",
       "      <th>548</th>\n",
       "      <td>5.68442</td>\n",
       "      <td>19.7118</td>\n",
       "      <td>1.743760</td>\n",
       "      <td>167963.0</td>\n",
       "      <td>NaN</td>\n",
       "      <td>Q10.13/R_1M6DoAmYEY3Jrvm_fish1.csv</td>\n",
       "      <td>NaN</td>\n",
       "    </tr>\n",
       "  </tbody>\n",
       "</table>\n",
       "</div>"
      ],
      "text/plain": [
       "           x        y         z  intensity  volume  \\\n",
       "544  8.91024  19.5320  0.790119   240863.0     NaN   \n",
       "545  1.46720  17.2517  1.072000   174002.0     NaN   \n",
       "546  4.84922  18.7622  1.107680   173950.0     NaN   \n",
       "547  7.95575  20.6853  1.270390   179664.0     NaN   \n",
       "548  5.68442  19.7118  1.743760   167963.0     NaN   \n",
       "\n",
       "                               csv_path Unnamed: 6  \n",
       "544  Q10.13/R_1M6DoAmYEY3Jrvm_fish1.csv        NaN  \n",
       "545  Q10.13/R_1M6DoAmYEY3Jrvm_fish1.csv        NaN  \n",
       "546  Q10.13/R_1M6DoAmYEY3Jrvm_fish1.csv        NaN  \n",
       "547  Q10.13/R_1M6DoAmYEY3Jrvm_fish1.csv        NaN  \n",
       "548  Q10.13/R_1M6DoAmYEY3Jrvm_fish1.csv        NaN  "
      ]
     },
     "execution_count": 124,
     "metadata": {},
     "output_type": "execute_result"
    }
   ],
   "source": [
    "\n",
    "data_file = r'D:\\images\\tnia-python-images\\imagesc\\2025_06_02_check_ABRF_labels\\coordinate_data_deidentified.csv'\n",
    "\n",
    "data = pd.read_csv(data_file)\n",
    "data = data[data.csv_path.str.contains('fish', na=False, case=False)]\n",
    "print(data.shape)\n",
    "data.head()\n"
   ]
  },
  {
   "cell_type": "code",
   "execution_count": 125,
   "id": "0829ff69",
   "metadata": {},
   "outputs": [
    {
     "name": "stdout",
     "output_type": "stream",
     "text": [
      "(6024, 6)\n"
     ]
    },
    {
     "data": {
      "text/html": [
       "<div>\n",
       "<style scoped>\n",
       "    .dataframe tbody tr th:only-of-type {\n",
       "        vertical-align: middle;\n",
       "    }\n",
       "\n",
       "    .dataframe tbody tr th {\n",
       "        vertical-align: top;\n",
       "    }\n",
       "\n",
       "    .dataframe thead th {\n",
       "        text-align: right;\n",
       "    }\n",
       "</style>\n",
       "<table border=\"1\" class=\"dataframe\">\n",
       "  <thead>\n",
       "    <tr style=\"text-align: right;\">\n",
       "      <th></th>\n",
       "      <th>Unnamed: 0</th>\n",
       "      <th>x</th>\n",
       "      <th>y</th>\n",
       "      <th>z</th>\n",
       "      <th>path</th>\n",
       "      <th>base_name</th>\n",
       "    </tr>\n",
       "  </thead>\n",
       "  <tbody>\n",
       "    <tr>\n",
       "      <th>0</th>\n",
       "      <td>0</td>\n",
       "      <td>5.628644</td>\n",
       "      <td>9.198676</td>\n",
       "      <td>8.751923</td>\n",
       "      <td>../../ground truth/nuclei/out_c00_dr90_label.tif</td>\n",
       "      <td>out_c00_dr90_label.tif</td>\n",
       "    </tr>\n",
       "    <tr>\n",
       "      <th>1</th>\n",
       "      <td>1</td>\n",
       "      <td>22.816774</td>\n",
       "      <td>9.033185</td>\n",
       "      <td>6.689963</td>\n",
       "      <td>../../ground truth/nuclei/out_c00_dr90_label.tif</td>\n",
       "      <td>out_c00_dr90_label.tif</td>\n",
       "    </tr>\n",
       "    <tr>\n",
       "      <th>2</th>\n",
       "      <td>2</td>\n",
       "      <td>22.618367</td>\n",
       "      <td>26.020343</td>\n",
       "      <td>15.707744</td>\n",
       "      <td>../../ground truth/nuclei/out_c00_dr90_label.tif</td>\n",
       "      <td>out_c00_dr90_label.tif</td>\n",
       "    </tr>\n",
       "    <tr>\n",
       "      <th>3</th>\n",
       "      <td>3</td>\n",
       "      <td>13.676880</td>\n",
       "      <td>23.516335</td>\n",
       "      <td>14.263662</td>\n",
       "      <td>../../ground truth/nuclei/out_c00_dr90_label.tif</td>\n",
       "      <td>out_c00_dr90_label.tif</td>\n",
       "    </tr>\n",
       "    <tr>\n",
       "      <th>4</th>\n",
       "      <td>4</td>\n",
       "      <td>25.001824</td>\n",
       "      <td>8.219340</td>\n",
       "      <td>21.236781</td>\n",
       "      <td>../../ground truth/nuclei/out_c00_dr90_label.tif</td>\n",
       "      <td>out_c00_dr90_label.tif</td>\n",
       "    </tr>\n",
       "  </tbody>\n",
       "</table>\n",
       "</div>"
      ],
      "text/plain": [
       "   Unnamed: 0          x          y          z  \\\n",
       "0           0   5.628644   9.198676   8.751923   \n",
       "1           1  22.816774   9.033185   6.689963   \n",
       "2           2  22.618367  26.020343  15.707744   \n",
       "3           3  13.676880  23.516335  14.263662   \n",
       "4           4  25.001824   8.219340  21.236781   \n",
       "\n",
       "                                               path               base_name  \n",
       "0  ../../ground truth/nuclei/out_c00_dr90_label.tif  out_c00_dr90_label.tif  \n",
       "1  ../../ground truth/nuclei/out_c00_dr90_label.tif  out_c00_dr90_label.tif  \n",
       "2  ../../ground truth/nuclei/out_c00_dr90_label.tif  out_c00_dr90_label.tif  \n",
       "3  ../../ground truth/nuclei/out_c00_dr90_label.tif  out_c00_dr90_label.tif  \n",
       "4  ../../ground truth/nuclei/out_c00_dr90_label.tif  out_c00_dr90_label.tif  "
      ]
     },
     "execution_count": 125,
     "metadata": {},
     "output_type": "execute_result"
    }
   ],
   "source": [
    "ground_truth_file = r'D:\\images\\tnia-python-images\\imagesc\\2025_06_02_check_ABRF_labels\\ground_truth_coords.csv'\n",
    "\n",
    "ground_truth = pd.read_csv(ground_truth_file)\n",
    "# Display the first few rows of the ground truth data\n",
    "ground_truth['base_name'] = ground_truth['path'].apply(os.path.basename)\n",
    "print(ground_truth.shape)\n",
    "ground_truth.head()"
   ]
  },
  {
   "cell_type": "code",
   "execution_count": 126,
   "id": "983eee37",
   "metadata": {},
   "outputs": [
    {
     "name": "stdout",
     "output_type": "stream",
     "text": [
      "Points shape: (1501, 3)\n",
      "Points to plot: [[ 6.14871912 46.68053096 31.2572908 ]\n",
      " [10.020192   53.946      29.808     ]\n",
      " [11.636352   59.94       40.5       ]\n",
      " ...\n",
      " [ 9.858576   40.662      14.904     ]\n",
      " [ 8.88888    34.182      14.904     ]\n",
      " [ 2.585856   58.644      43.254     ]]\n"
     ]
    },
    {
     "data": {
      "text/plain": [
       "<Points layer 'ground_truth_points' at 0x259393fe440>"
      ]
     },
     "execution_count": 126,
     "metadata": {},
     "output_type": "execute_result"
    }
   ],
   "source": [
    "ground_truth['z'] = ground_truth['z']*.161616/.2\n",
    "ground_truth = ground_truth[ground_truth['base_name'].str.contains(base_name)]\n",
    "points = ground_truth[['z', 'y', 'x']].values\n",
    "print('Points shape:', points.shape)\n",
    "print('Points to plot:', points)\n",
    "viewer.add_points(points, face_color='red', size=.5, name='ground_truth_points')"
   ]
  },
  {
   "cell_type": "code",
   "execution_count": 130,
   "id": "9e1aff7f",
   "metadata": {},
   "outputs": [
    {
     "name": "stdout",
     "output_type": "stream",
     "text": [
      "Responses shape: (3409, 7)\n",
      "Responses shape: (112, 7)\n"
     ]
    },
    {
     "data": {
      "text/html": [
       "<div>\n",
       "<style scoped>\n",
       "    .dataframe tbody tr th:only-of-type {\n",
       "        vertical-align: middle;\n",
       "    }\n",
       "\n",
       "    .dataframe tbody tr th {\n",
       "        vertical-align: top;\n",
       "    }\n",
       "\n",
       "    .dataframe thead th {\n",
       "        text-align: right;\n",
       "    }\n",
       "</style>\n",
       "<table border=\"1\" class=\"dataframe\">\n",
       "  <thead>\n",
       "    <tr style=\"text-align: right;\">\n",
       "      <th></th>\n",
       "      <th>x</th>\n",
       "      <th>y</th>\n",
       "      <th>z</th>\n",
       "      <th>intensity</th>\n",
       "      <th>volume</th>\n",
       "      <th>csv_path</th>\n",
       "      <th>Unnamed: 6</th>\n",
       "    </tr>\n",
       "  </thead>\n",
       "  <tbody>\n",
       "    <tr>\n",
       "      <th>30969</th>\n",
       "      <td>234.682927</td>\n",
       "      <td>317.243902</td>\n",
       "      <td>57.536585</td>\n",
       "      <td>1041444.0</td>\n",
       "      <td>NaN</td>\n",
       "      <td>Q11.13/R_31bjqd6Mm8wBxN5_fish2.csv</td>\n",
       "      <td>NaN</td>\n",
       "    </tr>\n",
       "    <tr>\n",
       "      <th>30970</th>\n",
       "      <td>240.482759</td>\n",
       "      <td>293.413793</td>\n",
       "      <td>58.344828</td>\n",
       "      <td>1302853.0</td>\n",
       "      <td>NaN</td>\n",
       "      <td>Q11.13/R_31bjqd6Mm8wBxN5_fish2.csv</td>\n",
       "      <td>NaN</td>\n",
       "    </tr>\n",
       "    <tr>\n",
       "      <th>30971</th>\n",
       "      <td>305.483871</td>\n",
       "      <td>377.569892</td>\n",
       "      <td>57.548387</td>\n",
       "      <td>1312429.0</td>\n",
       "      <td>NaN</td>\n",
       "      <td>Q11.13/R_31bjqd6Mm8wBxN5_fish2.csv</td>\n",
       "      <td>NaN</td>\n",
       "    </tr>\n",
       "    <tr>\n",
       "      <th>30972</th>\n",
       "      <td>219.324675</td>\n",
       "      <td>305.428571</td>\n",
       "      <td>57.610390</td>\n",
       "      <td>1014691.0</td>\n",
       "      <td>NaN</td>\n",
       "      <td>Q11.13/R_31bjqd6Mm8wBxN5_fish2.csv</td>\n",
       "      <td>NaN</td>\n",
       "    </tr>\n",
       "    <tr>\n",
       "      <th>30973</th>\n",
       "      <td>224.782051</td>\n",
       "      <td>302.269231</td>\n",
       "      <td>56.653846</td>\n",
       "      <td>1034010.0</td>\n",
       "      <td>NaN</td>\n",
       "      <td>Q11.13/R_31bjqd6Mm8wBxN5_fish2.csv</td>\n",
       "      <td>NaN</td>\n",
       "    </tr>\n",
       "  </tbody>\n",
       "</table>\n",
       "</div>"
      ],
      "text/plain": [
       "                x           y          z  intensity  volume  \\\n",
       "30969  234.682927  317.243902  57.536585  1041444.0     NaN   \n",
       "30970  240.482759  293.413793  58.344828  1302853.0     NaN   \n",
       "30971  305.483871  377.569892  57.548387  1312429.0     NaN   \n",
       "30972  219.324675  305.428571  57.610390  1014691.0     NaN   \n",
       "30973  224.782051  302.269231  56.653846  1034010.0     NaN   \n",
       "\n",
       "                                 csv_path Unnamed: 6  \n",
       "30969  Q11.13/R_31bjqd6Mm8wBxN5_fish2.csv        NaN  \n",
       "30970  Q11.13/R_31bjqd6Mm8wBxN5_fish2.csv        NaN  \n",
       "30971  Q11.13/R_31bjqd6Mm8wBxN5_fish2.csv        NaN  \n",
       "30972  Q11.13/R_31bjqd6Mm8wBxN5_fish2.csv        NaN  \n",
       "30973  Q11.13/R_31bjqd6Mm8wBxN5_fish2.csv        NaN  "
      ]
     },
     "execution_count": 130,
     "metadata": {},
     "output_type": "execute_result"
    }
   ],
   "source": [
    "#response_id = 'R_3Rxaf07hES8CPgE'\n",
    "response_id = 'R_3lAJ9xY4kGlL99f' # x and y mixed up\n",
    "#response_id = 'R_3kpixa7Fm6wlFk2'\n",
    "#response_id = 'R_6E6PxT3N1gr93yh' # not numbered and repeated\n",
    "response_id = 'R_31bjqd6Mm8wBxN5' # scale is pixels\n",
    "#response_id = 'R_2c14tLfUPR1Vnua' # z in pixels, 3993 total?  675 for 3\n",
    "\n",
    "#response_id = 'R_1q7MrEdSr6yhykH' # scale is pixels\n",
    "#response_id = 'R_24HIjcCJh6uI3bu' # scale is pixels\n",
    "#response_id = 'R_24Nwgngl83ucQ8B' # doesn't exist? \n",
    "#response_id = 'R_2rCMx6wAGE7bFJh'\n",
    "#response_id = 'R_2DNRFrAvCDUX1EL' \n",
    "#response_id = 'R_3RxOa8kaiyul4bG'\n",
    "#response_id = 'R_2cCJjlMU7i9XjMQ'\n",
    "#response_id = 'R_2DNRFrAvCDUX1EL \n",
    "#response_id = 'R_2q3KgZzjsLNwxgU'\n",
    "#response_id = 'R_1qdHCwPCdNvs9xi'\n",
    "\n",
    "responses = data[data.csv_path.str.contains(response_id, na=False)]\n",
    "\n",
    "print('Responses shape:', responses.shape)\n",
    "#responses=responses[:1000]\n",
    "responses = responses[responses.csv_path.str.contains(friendly_name, na=False, case=False)]\n",
    "print('Responses shape:', responses.shape)\n",
    "\n",
    "#print(responses)\n",
    "responses.head()"
   ]
  },
  {
   "cell_type": "code",
   "execution_count": 128,
   "id": "33e1c90f",
   "metadata": {},
   "outputs": [
    {
     "name": "stdout",
     "output_type": "stream",
     "text": [
      "373.2588235294 377.5698924731 58.3448275862\n"
     ]
    }
   ],
   "source": [
    "responses['z'] = pd.to_numeric(responses['z'], errors='coerce').fillna(0)\n",
    "print(responses['x'].max(), responses['y'].max(), responses['z'].max())"
   ]
  },
  {
   "cell_type": "code",
   "execution_count": 131,
   "id": "141bd702",
   "metadata": {},
   "outputs": [],
   "source": [
    "#responses['z'] = pd.to_numeric(responses['z'], errors='coerce').fillna(0) * 1.237 # 0.001\n",
    "responses['z'] = pd.to_numeric(responses['z'], errors='coerce').fillna(0) * 0.2\n",
    "responses['y'] = pd.to_numeric(responses['y'], errors='coerce').fillna(0) * 0.161616\n",
    "responses['x'] = pd.to_numeric(responses['x'], errors='coerce').fillna(0) * 0.161616"
   ]
  },
  {
   "cell_type": "code",
   "execution_count": 119,
   "id": "5aa45a9d",
   "metadata": {},
   "outputs": [],
   "source": [
    "copy = responses.copy()\n",
    "responses['x'] = copy['y']\n",
    "responses['y'] = copy['x']"
   ]
  },
  {
   "cell_type": "code",
   "execution_count": 133,
   "id": "c0afc055",
   "metadata": {},
   "outputs": [
    {
     "data": {
      "text/plain": [
       "<Points layer 'solution_points [1]' at 0x259333ca740>"
      ]
     },
     "execution_count": 133,
     "metadata": {},
     "output_type": "execute_result"
    }
   ],
   "source": [
    "response_points = responses[['z', 'y', 'x']].values.astype(float)\n",
    "#response_points[:, [1,2]] = response_points[:, [2,1]]  # Swap y and x\n",
    "viewer.add_points(response_points, face_color='blue', size=.5, name='solution_points')"
   ]
  },
  {
   "cell_type": "code",
   "execution_count": 60,
   "id": "4a435e50",
   "metadata": {},
   "outputs": [],
   "source": [
    "responses.z = pd.to_numeric(responses.z, errors='coerce').fillna(0)"
   ]
  },
  {
   "cell_type": "code",
   "execution_count": 69,
   "id": "583d16d3",
   "metadata": {},
   "outputs": [
    {
     "name": "stdout",
     "output_type": "stream",
     "text": [
      "detected scale: [[1.00248398 1.00248398 1.19997089]], detected translation: [[-0.15084672 -0.14348796 -0.14056566]]\n"
     ]
    }
   ],
   "source": [
    "from utility import find_scale_and_translation\n",
    "\n",
    "scale, translation = find_scale_and_translation(ground_truth, responses)\n",
    "print(f'detected scale: {scale}, detected translation: {translation}')"
   ]
  },
  {
   "cell_type": "code",
   "execution_count": 62,
   "id": "86343ca4",
   "metadata": {},
   "outputs": [
    {
     "name": "stdout",
     "output_type": "stream",
     "text": [
      "1003.0361503658219\n"
     ]
    }
   ],
   "source": [
    "from utility import compute_lsa_distance\n",
    "gt = ground_truth[['z', 'y', 'x']].values.astype(float)\n",
    "td = responses[['z', 'y', 'x']].values.astype(float)\n",
    "a, b, lse_mse = compute_lsa_distance(gt, td)\n",
    "print(lse_mse)"
   ]
  },
  {
   "cell_type": "code",
   "execution_count": 63,
   "id": "b60285e5",
   "metadata": {},
   "outputs": [
    {
     "name": "stdout",
     "output_type": "stream",
     "text": [
      "detected scale: [[   1.66095527    1.66095527 1232.8920741 ]], detected translation: [[-41.04244341  -0.2415498   -0.11149889]]\n",
      "detected scale: [[   1.5862508     1.5862508  1238.95672052]], detected translation: [[-38.24824418  -0.75863697  -0.26545262]]\n"
     ]
    }
   ],
   "source": [
    "\n",
    "from utility import find_scale_and_translation\n",
    "\n",
    "scale, translation = find_scale_and_translation(ground_truth, responses, False)\n",
    "print(f'detected scale: {scale}, detected translation: {translation}')\n",
    "\n",
    "scale, translation = find_scale_and_translation(ground_truth, responses)\n",
    "print(f'detected scale: {scale}, detected translation: {translation}')"
   ]
  },
  {
   "cell_type": "code",
   "execution_count": 64,
   "id": "a89ce3f0",
   "metadata": {},
   "outputs": [],
   "source": [
    "corrected = responses.copy()\n",
    "\n",
    "corrected['x'] = responses['x'] * scale[0,0] + translation[0,0]\n",
    "corrected['y'] = responses['y'] * scale[0,1] + translation[0,1]\n",
    "corrected['z'] = responses['z'] * scale[0,2] + translation[0,2]"
   ]
  },
  {
   "cell_type": "code",
   "execution_count": 65,
   "id": "cf9c125b",
   "metadata": {},
   "outputs": [
    {
     "data": {
      "text/plain": [
       "<Points layer 'corrected' at 0x25912539a80>"
      ]
     },
     "execution_count": 65,
     "metadata": {},
     "output_type": "execute_result"
    }
   ],
   "source": [
    "tdc = corrected[['z', 'y', 'x']].values.astype(float)\n",
    "viewer.add_points(tdc, face_color='blue', size=.5, name='corrected')"
   ]
  },
  {
   "cell_type": "code",
   "execution_count": 147,
   "id": "11f8a14e",
   "metadata": {},
   "outputs": [
    {
     "name": "stdout",
     "output_type": "stream",
     "text": [
      "tp: 1316, fp: 89, fn: 0\n",
      "2.084080882544857\n",
      "0.9366548042704627\n"
     ]
    }
   ],
   "source": [
    "import numpy as np\n",
    "test = response_points[a]\n",
    "ground = points_scaled[b]\n",
    "\n",
    "displacement =  ground - test\n",
    "distance = np.sqrt(np.sum(displacement**2, axis=1))\n",
    "lsa_mean = np.mean(distance)\n",
    "lsa_std = np.std(distance)\n",
    "lsa_mse = np.mean(distance**2)\n",
    "\n",
    "j_distance = distance\n",
    "#j_distance = np.sqrt(np.sum((displacement / [[.290] * 2 + [.182]])**2, axis=1))\n",
    "\n",
    "tp = np.sum(j_distance <= 1)\n",
    "fp = (test.shape[0] - ground.shape[0] if test.shape[0] >= ground.shape[0] else 0) \\\n",
    "+ np.sum(j_distance > 1)\n",
    "fn = ground.shape[0] - test.shape[0] if test.shape[0] < ground.shape[0] else 0\n",
    "jac = tp / (tp + fp + fn)\n",
    "\n",
    "print(f\"tp: {tp}, fp: {fp}, fn: {fn}\")\n",
    "print(lsa_mse)\n",
    "print(jac)\n"
   ]
  },
  {
   "cell_type": "code",
   "execution_count": 18,
   "id": "328dba1e",
   "metadata": {},
   "outputs": [
    {
     "data": {
      "text/plain": [
       "<Points layer 'response_points_scaled' at 0x2577e243550>"
      ]
     },
     "execution_count": 18,
     "metadata": {},
     "output_type": "execute_result"
    }
   ],
   "source": [
    "temp = response_points*[1, 5, 5]\n",
    "viewer.add_points(temp, face_color='orange', size=.5, name='response_points_scaled')"
   ]
  },
  {
   "cell_type": "code",
   "execution_count": 85,
   "id": "6f286bbd",
   "metadata": {},
   "outputs": [
    {
     "data": {
      "text/plain": [
       "<Points layer 'response_points_scaled_transposed' at 0x1921a0bae60>"
      ]
     },
     "execution_count": 85,
     "metadata": {},
     "output_type": "execute_result"
    }
   ],
   "source": [
    "# switch x and y axis in response points\n",
    "temp = response_points*[4, 4, 4]\n",
    "temp = temp[:, [0, 2, 1]]  # Transpose x and y\n",
    "viewer.add_points(temp, face_color='purple', size=1, name='response_points_scaled_transposed')"
   ]
  },
  {
   "cell_type": "code",
   "execution_count": 77,
   "id": "109760ed",
   "metadata": {},
   "outputs": [
    {
     "data": {
      "text/plain": [
       "(5, 3)"
      ]
     },
     "execution_count": 77,
     "metadata": {},
     "output_type": "execute_result"
    }
   ],
   "source": [
    "temp.shape"
   ]
  },
  {
   "cell_type": "code",
   "execution_count": 84,
   "id": "93878145",
   "metadata": {},
   "outputs": [
    {
     "data": {
      "text/plain": [
       "array([[ 9.75761719, 26.49867891, 15.61615312],\n",
       "       [10.61968641, 29.16740854, 25.52096603],\n",
       "       [ 4.48748759, 10.16230487, 25.60704667],\n",
       "       [14.48781575,  9.27457355, 28.22501634],\n",
       "       [ 5.98760017, 10.16590806,  6.49925264]])"
      ]
     },
     "execution_count": 84,
     "metadata": {},
     "output_type": "execute_result"
    }
   ],
   "source": [
    "temp"
   ]
  },
  {
   "cell_type": "code",
   "execution_count": null,
   "id": "65614625",
   "metadata": {},
   "outputs": [],
   "source": []
  }
 ],
 "metadata": {
  "kernelspec": {
   "display_name": "stardist_napari_windows",
   "language": "python",
   "name": "python3"
  },
  "language_info": {
   "codemirror_mode": {
    "name": "ipython",
    "version": 3
   },
   "file_extension": ".py",
   "mimetype": "text/x-python",
   "name": "python",
   "nbconvert_exporter": "python",
   "pygments_lexer": "ipython3",
   "version": "3.10.17"
  }
 },
 "nbformat": 4,
 "nbformat_minor": 5
}
