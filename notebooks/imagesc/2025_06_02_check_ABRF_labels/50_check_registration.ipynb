{
 "cells": [
  {
   "cell_type": "code",
   "execution_count": 25,
   "id": "625fd41e",
   "metadata": {},
   "outputs": [
    {
     "name": "stdout",
     "output_type": "stream",
     "text": [
      "Friendly name: nuclei1\n"
     ]
    }
   ],
   "source": [
    "\n",
    "import pandas as pd\n",
    "import os \n",
    "from utility import get_friendly_name\n",
    "\n",
    "ground_truth_file = r'D:\\images\\tnia-python-images\\imagesc\\2025_06_02_check_ABRF_labels\\ground_truth_coords.csv'\n",
    "coordinate_data_file = r'D:\\images\\tnia-python-images\\imagesc\\2025_06_02_check_ABRF_labels\\coordinate_data_deidentified.csv'\n",
    "\n",
    "base_name = 'out_c00_dr90'\n",
    "\n",
    "friendly_name = get_friendly_name(f\"{base_name}_label.tif\")\n",
    "print(f\"Friendly name: {friendly_name}\")"
   ]
  },
  {
   "cell_type": "code",
   "execution_count": 92,
   "id": "85fd4a8d",
   "metadata": {},
   "outputs": [
    {
     "data": {
      "text/html": [
       "<div>\n",
       "<style scoped>\n",
       "    .dataframe tbody tr th:only-of-type {\n",
       "        vertical-align: middle;\n",
       "    }\n",
       "\n",
       "    .dataframe tbody tr th {\n",
       "        vertical-align: top;\n",
       "    }\n",
       "\n",
       "    .dataframe thead th {\n",
       "        text-align: right;\n",
       "    }\n",
       "</style>\n",
       "<table border=\"1\" class=\"dataframe\">\n",
       "  <thead>\n",
       "    <tr style=\"text-align: right;\">\n",
       "      <th></th>\n",
       "      <th>Unnamed: 0</th>\n",
       "      <th>x</th>\n",
       "      <th>y</th>\n",
       "      <th>z</th>\n",
       "      <th>path</th>\n",
       "      <th>base_name</th>\n",
       "    </tr>\n",
       "  </thead>\n",
       "  <tbody>\n",
       "    <tr>\n",
       "      <th>0</th>\n",
       "      <td>0</td>\n",
       "      <td>5.628644</td>\n",
       "      <td>9.198676</td>\n",
       "      <td>8.751923</td>\n",
       "      <td>../../ground truth/nuclei/out_c00_dr90_label.tif</td>\n",
       "      <td>out_c00_dr90_label.tif</td>\n",
       "    </tr>\n",
       "    <tr>\n",
       "      <th>1</th>\n",
       "      <td>1</td>\n",
       "      <td>22.816774</td>\n",
       "      <td>9.033185</td>\n",
       "      <td>6.689963</td>\n",
       "      <td>../../ground truth/nuclei/out_c00_dr90_label.tif</td>\n",
       "      <td>out_c00_dr90_label.tif</td>\n",
       "    </tr>\n",
       "    <tr>\n",
       "      <th>2</th>\n",
       "      <td>2</td>\n",
       "      <td>22.618367</td>\n",
       "      <td>26.020343</td>\n",
       "      <td>15.707744</td>\n",
       "      <td>../../ground truth/nuclei/out_c00_dr90_label.tif</td>\n",
       "      <td>out_c00_dr90_label.tif</td>\n",
       "    </tr>\n",
       "    <tr>\n",
       "      <th>3</th>\n",
       "      <td>3</td>\n",
       "      <td>13.676880</td>\n",
       "      <td>23.516335</td>\n",
       "      <td>14.263662</td>\n",
       "      <td>../../ground truth/nuclei/out_c00_dr90_label.tif</td>\n",
       "      <td>out_c00_dr90_label.tif</td>\n",
       "    </tr>\n",
       "    <tr>\n",
       "      <th>4</th>\n",
       "      <td>4</td>\n",
       "      <td>25.001824</td>\n",
       "      <td>8.219340</td>\n",
       "      <td>21.236781</td>\n",
       "      <td>../../ground truth/nuclei/out_c00_dr90_label.tif</td>\n",
       "      <td>out_c00_dr90_label.tif</td>\n",
       "    </tr>\n",
       "  </tbody>\n",
       "</table>\n",
       "</div>"
      ],
      "text/plain": [
       "   Unnamed: 0          x          y          z  \\\n",
       "0           0   5.628644   9.198676   8.751923   \n",
       "1           1  22.816774   9.033185   6.689963   \n",
       "2           2  22.618367  26.020343  15.707744   \n",
       "3           3  13.676880  23.516335  14.263662   \n",
       "4           4  25.001824   8.219340  21.236781   \n",
       "\n",
       "                                               path               base_name  \n",
       "0  ../../ground truth/nuclei/out_c00_dr90_label.tif  out_c00_dr90_label.tif  \n",
       "1  ../../ground truth/nuclei/out_c00_dr90_label.tif  out_c00_dr90_label.tif  \n",
       "2  ../../ground truth/nuclei/out_c00_dr90_label.tif  out_c00_dr90_label.tif  \n",
       "3  ../../ground truth/nuclei/out_c00_dr90_label.tif  out_c00_dr90_label.tif  \n",
       "4  ../../ground truth/nuclei/out_c00_dr90_label.tif  out_c00_dr90_label.tif  "
      ]
     },
     "execution_count": 92,
     "metadata": {},
     "output_type": "execute_result"
    }
   ],
   "source": [
    "ground_truth = pd.read_csv(ground_truth_file)\n",
    "ground_truth['base_name'] = ground_truth['path'].apply(os.path.basename)\n",
    "ground_truth.head()"
   ]
  },
  {
   "cell_type": "code",
   "execution_count": 93,
   "id": "8c76bebd",
   "metadata": {},
   "outputs": [
    {
     "name": "stdout",
     "output_type": "stream",
     "text": [
      "(537, 6)\n"
     ]
    },
    {
     "data": {
      "text/html": [
       "<div>\n",
       "<style scoped>\n",
       "    .dataframe tbody tr th:only-of-type {\n",
       "        vertical-align: middle;\n",
       "    }\n",
       "\n",
       "    .dataframe tbody tr th {\n",
       "        vertical-align: top;\n",
       "    }\n",
       "\n",
       "    .dataframe thead th {\n",
       "        text-align: right;\n",
       "    }\n",
       "</style>\n",
       "<table border=\"1\" class=\"dataframe\">\n",
       "  <thead>\n",
       "    <tr style=\"text-align: right;\">\n",
       "      <th></th>\n",
       "      <th>x</th>\n",
       "      <th>y</th>\n",
       "      <th>z</th>\n",
       "      <th>intensity</th>\n",
       "      <th>volume</th>\n",
       "      <th>csv_path</th>\n",
       "    </tr>\n",
       "  </thead>\n",
       "  <tbody>\n",
       "    <tr>\n",
       "      <th>0</th>\n",
       "      <td>22.803</td>\n",
       "      <td>9.024</td>\n",
       "      <td>4.181</td>\n",
       "      <td>56620971.0</td>\n",
       "      <td>437.896</td>\n",
       "      <td>Q6.13/R_3Rxaf07hES8CPgE_nuclei1.csv</td>\n",
       "    </tr>\n",
       "    <tr>\n",
       "      <th>1</th>\n",
       "      <td>5.669</td>\n",
       "      <td>9.164</td>\n",
       "      <td>5.376</td>\n",
       "      <td>63811635.0</td>\n",
       "      <td>482.954</td>\n",
       "      <td>Q6.13/R_3Rxaf07hES8CPgE_nuclei1.csv</td>\n",
       "    </tr>\n",
       "    <tr>\n",
       "      <th>2</th>\n",
       "      <td>24.999</td>\n",
       "      <td>8.223</td>\n",
       "      <td>13.036</td>\n",
       "      <td>57406958.0</td>\n",
       "      <td>441.048</td>\n",
       "      <td>Q6.13/R_3Rxaf07hES8CPgE_nuclei1.csv</td>\n",
       "    </tr>\n",
       "    <tr>\n",
       "      <th>3</th>\n",
       "      <td>13.722</td>\n",
       "      <td>23.521</td>\n",
       "      <td>8.778</td>\n",
       "      <td>78224458.0</td>\n",
       "      <td>522.320</td>\n",
       "      <td>Q6.13/R_3Rxaf07hES8CPgE_nuclei1.csv</td>\n",
       "    </tr>\n",
       "    <tr>\n",
       "      <th>4</th>\n",
       "      <td>22.547</td>\n",
       "      <td>26.006</td>\n",
       "      <td>9.65</td>\n",
       "      <td>69841365.0</td>\n",
       "      <td>473.768</td>\n",
       "      <td>Q6.13/R_3Rxaf07hES8CPgE_nuclei1.csv</td>\n",
       "    </tr>\n",
       "  </tbody>\n",
       "</table>\n",
       "</div>"
      ],
      "text/plain": [
       "        x       y       z   intensity   volume  \\\n",
       "0  22.803   9.024   4.181  56620971.0  437.896   \n",
       "1   5.669   9.164   5.376  63811635.0  482.954   \n",
       "2  24.999   8.223  13.036  57406958.0  441.048   \n",
       "3  13.722  23.521   8.778  78224458.0  522.320   \n",
       "4  22.547  26.006    9.65  69841365.0  473.768   \n",
       "\n",
       "                              csv_path  \n",
       "0  Q6.13/R_3Rxaf07hES8CPgE_nuclei1.csv  \n",
       "1  Q6.13/R_3Rxaf07hES8CPgE_nuclei1.csv  \n",
       "2  Q6.13/R_3Rxaf07hES8CPgE_nuclei1.csv  \n",
       "3  Q6.13/R_3Rxaf07hES8CPgE_nuclei1.csv  \n",
       "4  Q6.13/R_3Rxaf07hES8CPgE_nuclei1.csv  "
      ]
     },
     "execution_count": 93,
     "metadata": {},
     "output_type": "execute_result"
    }
   ],
   "source": [
    "data = pd.read_csv(coordinate_data_file)\n",
    "data = data[data.csv_path.str.contains('nuclei', na=False)]\n",
    "print(data.shape)\n",
    "data.head()"
   ]
  },
  {
   "cell_type": "code",
   "execution_count": 94,
   "id": "cbaaf7dc",
   "metadata": {},
   "outputs": [],
   "source": [
    "response_id = r'R_31bjqd6Mm8wBxN5'\n",
    "response_id = 'R_3RxOa8kaiyul4bG'\n",
    "response_id = 'R_1M6DoAmYEY3Jrvm'\n",
    "response_id = 'R_3lAJ9xY4kGlL99f'"
   ]
  },
  {
   "cell_type": "code",
   "execution_count": 95,
   "id": "1950593d",
   "metadata": {},
   "outputs": [
    {
     "name": "stdout",
     "output_type": "stream",
     "text": [
      "out_c00_dr90\n",
      "[[ 5.62864416  9.19867592  8.75192296]\n",
      " [22.8167741   9.0331853   6.68996262]\n",
      " [22.61836734 26.02034264 15.707744  ]\n",
      " [13.67688018 23.51633499 14.26366235]\n",
      " [25.00182357  8.21933956 21.2367806 ]]\n"
     ]
    }
   ],
   "source": [
    "print(base_name)\n",
    "points = ground_truth[ground_truth['base_name'].str.contains(base_name)][['x', 'y', 'z']].values\n",
    "print(points)"
   ]
  },
  {
   "cell_type": "code",
   "execution_count": 96,
   "id": "b210daab",
   "metadata": {},
   "outputs": [
    {
     "name": "stdout",
     "output_type": "stream",
     "text": [
      "Responses shape: (5, 3)\n"
     ]
    }
   ],
   "source": [
    "responses = data[data.csv_path.str.contains(response_id, na=False)]\n",
    "responses = responses[responses.csv_path.str.contains(friendly_name, na=False)]\n",
    "responses = responses[['x', 'y', 'z']].values.astype(float)\n",
    "print('Responses shape:', responses.shape)\n"
   ]
  },
  {
   "cell_type": "code",
   "execution_count": 97,
   "id": "8dc2c8b9",
   "metadata": {},
   "outputs": [
    {
     "name": "stdout",
     "output_type": "stream",
     "text": [
      "ground truth\n",
      " [[ 5.62864416  9.19867592  8.75192296]\n",
      " [22.8167741   9.0331853   6.68996262]\n",
      " [22.61836734 26.02034264 15.707744  ]\n",
      " [13.67688018 23.51633499 14.26366235]\n",
      " [25.00182357  8.21933956 21.2367806 ]]\n",
      "response\n",
      " [[5.88859531 3.47025625 2.16835938]\n",
      " [6.48164634 5.67132578 2.35993031]\n",
      " [2.25828997 5.69045482 0.99721946]\n",
      " [2.06101634 6.27222585 3.21951461]\n",
      " [2.25909068 1.44427836 1.33057782]]\n"
     ]
    }
   ],
   "source": [
    "print('ground truth\\n', points)\n",
    "print('response\\n', responses)\n"
   ]
  },
  {
   "cell_type": "code",
   "execution_count": 98,
   "id": "668e0ec4",
   "metadata": {},
   "outputs": [
    {
     "name": "stdout",
     "output_type": "stream",
     "text": [
      "rotated response\n",
      " [[3.47025625 5.88859531]\n",
      " [5.67132578 6.48164634]\n",
      " [5.69045482 2.25828997]\n",
      " [6.27222585 2.06101634]\n",
      " [1.44427836 2.25909068]]\n"
     ]
    }
   ],
   "source": [
    "\n",
    "import numpy as np\n",
    "temp=np.rot90(responses[:,:2], k=1, axes=(0, 1))\n",
    "responses=np.transpose(temp)\n",
    "print('rotated response\\n', responses)\n"
   ]
  },
  {
   "cell_type": "code",
   "execution_count": 99,
   "id": "0fc34db2",
   "metadata": {},
   "outputs": [],
   "source": [
    "points_ = points.copy()\n",
    "response_ = responses.copy()"
   ]
  },
  {
   "cell_type": "code",
   "execution_count": null,
   "id": "dc8fb658",
   "metadata": {},
   "outputs": [
    {
     "name": "stdout",
     "output_type": "stream",
     "text": [
      "Scale: 0.20069910118738982\n",
      "Translation: [[72.2456664  60.59697891]]\n",
      "[[ 69.405125   117.77190625]\n",
      " [113.42651568 129.63292683]\n",
      " [113.80909633  45.1657994 ]\n",
      " [125.44451709  41.22032689]\n",
      " [ 28.88556727  45.18181358]]\n"
     ]
    }
   ],
   "source": [
    "points = points_\n",
    "gt = points\n",
    "responses = response_*20\n",
    "td = responses\n",
    "\n",
    "scale = gt[:, :2].std(axis=0).mean() / td[:, :2].std(axis=0).mean()\n",
    "td[:, :2] *= scale\n",
    "translation = np.array([(td[:, :2].mean(axis=0) - gt[:, :2].mean(axis=0))])\n",
    "\n",
    "print('Scale:', scale)\n",
    "print('Translation:', translation)\n",
    "\n",
    "print(td)"
   ]
  },
  {
   "cell_type": "code",
   "execution_count": 139,
   "id": "a1f3f9f5",
   "metadata": {},
   "outputs": [],
   "source": [
    "from pycpd import RigidRegistration\n",
    "registration_params = {\n",
    "    'max_iterations': 10000,\n",
    "}"
   ]
  },
  {
   "cell_type": "code",
   "execution_count": 145,
   "id": "ee99602a",
   "metadata": {},
   "outputs": [],
   "source": [
    "reg = RigidRegistration(\n",
    "                X=points[:, :2],\n",
    "                Y=responses[:, :2],\n",
    "                #s=scale,\n",
    "                #t=translation,\n",
    "                **registration_params,\n",
    "            )\n",
    "\n",
    "test_coords_tf, test_tf = reg.register()\n",
    "\n"
   ]
  },
  {
   "cell_type": "code",
   "execution_count": 148,
   "id": "df30ef4d",
   "metadata": {},
   "outputs": [
    {
     "name": "stdout",
     "output_type": "stream",
     "text": [
      "Help on class RigidRegistration in module pycpd.rigid_registration:\n",
      "\n",
      "class RigidRegistration(pycpd.emregistration.EMRegistration)\n",
      " |  RigidRegistration(R=None, t=None, s=None, *args, **kwargs)\n",
      " |  \n",
      " |  Rigid registration.\n",
      " |  \n",
      " |  Attributes\n",
      " |  ----------\n",
      " |  R: numpy array (semi-positive definite)\n",
      " |      DxD rotation matrix. Any well behaved matrix will do,\n",
      " |      since the next estimate is a rotation matrix.\n",
      " |  \n",
      " |  t: numpy array\n",
      " |      1xD initial translation vector.\n",
      " |  \n",
      " |  s: float (positive)\n",
      " |      scaling parameter.\n",
      " |  \n",
      " |  A: numpy array\n",
      " |      Utility array used to calculate the rotation matrix.\n",
      " |      Defined in Fig. 2 of https://arxiv.org/pdf/0905.2635.pdf.\n",
      " |  \n",
      " |  YPY: float\n",
      " |      Denominator value used to update the scale factor.\n",
      " |      Defined in Fig. 2 and Eq. 8 of https://arxiv.org/pdf/0905.2635.pdf.\n",
      " |  \n",
      " |  X_hat: numpy array\n",
      " |      Centered target point cloud.\n",
      " |      Defined in Fig. 2 of https://arxiv.org/pdf/0905.2635.pdf.\n",
      " |  \n",
      " |  Method resolution order:\n",
      " |      RigidRegistration\n",
      " |      pycpd.emregistration.EMRegistration\n",
      " |      builtins.object\n",
      " |  \n",
      " |  Methods defined here:\n",
      " |  \n",
      " |  __init__(self, R=None, t=None, s=None, *args, **kwargs)\n",
      " |      Initialize self.  See help(type(self)) for accurate signature.\n",
      " |  \n",
      " |  get_registration_parameters(self)\n",
      " |      Return the current estimate of the rigid transformation parameters.\n",
      " |  \n",
      " |  transform_point_cloud(self, Y=None)\n",
      " |      Update a point cloud using the new estimate of the rigid transformation.\n",
      " |  \n",
      " |  update_transform(self)\n",
      " |      Calculate a new estimate of the rigid transformation.\n",
      " |  \n",
      " |  update_variance(self)\n",
      " |      Update the variance of the mixture model using the new estimate of the rigid transformation.\n",
      " |      See the update rule for sigma2 in Fig. 2 of of https://arxiv.org/pdf/0905.2635.pdf.\n",
      " |  \n",
      " |  ----------------------------------------------------------------------\n",
      " |  Methods inherited from pycpd.emregistration.EMRegistration:\n",
      " |  \n",
      " |  expectation(self)\n",
      " |  \n",
      " |  iterate(self)\n",
      " |  \n",
      " |  maximization(self)\n",
      " |  \n",
      " |  register(self, callback=<function EMRegistration.<lambda> at 0x0000025D4D5C0EE0>)\n",
      " |  \n",
      " |  ----------------------------------------------------------------------\n",
      " |  Data descriptors inherited from pycpd.emregistration.EMRegistration:\n",
      " |  \n",
      " |  __dict__\n",
      " |      dictionary for instance variables (if defined)\n",
      " |  \n",
      " |  __weakref__\n",
      " |      list of weak references to the object (if defined)\n",
      "\n"
     ]
    }
   ],
   "source": [
    "help(RigidRegistration)"
   ]
  },
  {
   "cell_type": "code",
   "execution_count": 146,
   "id": "a689196e",
   "metadata": {},
   "outputs": [
    {
     "data": {
      "text/plain": [
       "array([[17.73196387, 15.62058374],\n",
       "       [18.17693628, 15.74681472],\n",
       "       [18.19215653, 14.89000909],\n",
       "       [18.31071899, 14.85154716],\n",
       "       [17.33066753, 14.87877102]])"
      ]
     },
     "execution_count": 146,
     "metadata": {},
     "output_type": "execute_result"
    }
   ],
   "source": [
    "test_coords_tf"
   ]
  },
  {
   "cell_type": "code",
   "execution_count": 42,
   "id": "b7296d48",
   "metadata": {},
   "outputs": [
    {
     "data": {
      "text/plain": [
       "(1.0232684916840524,\n",
       " array([[ 0.8048173 , -0.59352263],\n",
       "        [ 0.59352263,  0.8048173 ]]),\n",
       " array([-3.90553282, 10.83651613]))"
      ]
     },
     "execution_count": 42,
     "metadata": {},
     "output_type": "execute_result"
    }
   ],
   "source": [
    "test_tf"
   ]
  },
  {
   "cell_type": "code",
   "execution_count": 43,
   "id": "1c584de6",
   "metadata": {},
   "outputs": [
    {
     "data": {
      "text/plain": [
       "array([[ 5.62864416,  9.19867592],\n",
       "       [22.8167741 ,  9.0331853 ],\n",
       "       [22.61836734, 26.02034264],\n",
       "       [13.67688018, 23.51633499],\n",
       "       [25.00182357,  8.21933956]])"
      ]
     },
     "execution_count": 43,
     "metadata": {},
     "output_type": "execute_result"
    }
   ],
   "source": [
    "points[:,:2]"
   ]
  },
  {
   "cell_type": "code",
   "execution_count": 46,
   "id": "4221b631",
   "metadata": {},
   "outputs": [
    {
     "data": {
      "text/plain": [
       "array([[ 9.19867592,  5.62864416],\n",
       "       [ 9.0331853 , 22.8167741 ],\n",
       "       [26.02034264, 22.61836734],\n",
       "       [23.51633499, 13.67688018],\n",
       "       [ 8.21933956, 25.00182357]])"
      ]
     },
     "execution_count": 46,
     "metadata": {},
     "output_type": "execute_result"
    }
   ],
   "source": [
    "import numpy as np\n",
    "temp=np.rot90(points[:,:2], k=1, axes=(0, 1))\n",
    "np.transpose(temp)"
   ]
  },
  {
   "cell_type": "code",
   "execution_count": 47,
   "id": "5189f3b0",
   "metadata": {},
   "outputs": [
    {
     "data": {
      "text/plain": [
       "array([[  9.19867592,  -5.62864416],\n",
       "       [  9.0331853 , -22.8167741 ],\n",
       "       [ 26.02034264, -22.61836734],\n",
       "       [ 23.51633499, -13.67688018],\n",
       "       [  8.21933956, -25.00182357]])"
      ]
     },
     "execution_count": 47,
     "metadata": {},
     "output_type": "execute_result"
    }
   ],
   "source": [
    "(np.array([[0.0, 1.0], [-1.0, 0.0]]) @ points[:, :2].T).T"
   ]
  },
  {
   "cell_type": "code",
   "execution_count": 44,
   "id": "a054033d",
   "metadata": {},
   "outputs": [
    {
     "name": "stdout",
     "output_type": "stream",
     "text": [
      "Help on class RigidRegistration in module pycpd.rigid_registration:\n",
      "\n",
      "class RigidRegistration(pycpd.emregistration.EMRegistration)\n",
      " |  RigidRegistration(R=None, t=None, s=None, *args, **kwargs)\n",
      " |  \n",
      " |  Rigid registration.\n",
      " |  \n",
      " |  Attributes\n",
      " |  ----------\n",
      " |  R: numpy array (semi-positive definite)\n",
      " |      DxD rotation matrix. Any well behaved matrix will do,\n",
      " |      since the next estimate is a rotation matrix.\n",
      " |  \n",
      " |  t: numpy array\n",
      " |      1xD initial translation vector.\n",
      " |  \n",
      " |  s: float (positive)\n",
      " |      scaling parameter.\n",
      " |  \n",
      " |  A: numpy array\n",
      " |      Utility array used to calculate the rotation matrix.\n",
      " |      Defined in Fig. 2 of https://arxiv.org/pdf/0905.2635.pdf.\n",
      " |  \n",
      " |  YPY: float\n",
      " |      Denominator value used to update the scale factor.\n",
      " |      Defined in Fig. 2 and Eq. 8 of https://arxiv.org/pdf/0905.2635.pdf.\n",
      " |  \n",
      " |  X_hat: numpy array\n",
      " |      Centered target point cloud.\n",
      " |      Defined in Fig. 2 of https://arxiv.org/pdf/0905.2635.pdf.\n",
      " |  \n",
      " |  Method resolution order:\n",
      " |      RigidRegistration\n",
      " |      pycpd.emregistration.EMRegistration\n",
      " |      builtins.object\n",
      " |  \n",
      " |  Methods defined here:\n",
      " |  \n",
      " |  __init__(self, R=None, t=None, s=None, *args, **kwargs)\n",
      " |      Initialize self.  See help(type(self)) for accurate signature.\n",
      " |  \n",
      " |  get_registration_parameters(self)\n",
      " |      Return the current estimate of the rigid transformation parameters.\n",
      " |  \n",
      " |  transform_point_cloud(self, Y=None)\n",
      " |      Update a point cloud using the new estimate of the rigid transformation.\n",
      " |  \n",
      " |  update_transform(self)\n",
      " |      Calculate a new estimate of the rigid transformation.\n",
      " |  \n",
      " |  update_variance(self)\n",
      " |      Update the variance of the mixture model using the new estimate of the rigid transformation.\n",
      " |      See the update rule for sigma2 in Fig. 2 of of https://arxiv.org/pdf/0905.2635.pdf.\n",
      " |  \n",
      " |  ----------------------------------------------------------------------\n",
      " |  Methods inherited from pycpd.emregistration.EMRegistration:\n",
      " |  \n",
      " |  expectation(self)\n",
      " |  \n",
      " |  iterate(self)\n",
      " |  \n",
      " |  maximization(self)\n",
      " |  \n",
      " |  register(self, callback=<function EMRegistration.<lambda> at 0x0000025D4D5C0EE0>)\n",
      " |  \n",
      " |  ----------------------------------------------------------------------\n",
      " |  Data descriptors inherited from pycpd.emregistration.EMRegistration:\n",
      " |  \n",
      " |  __dict__\n",
      " |      dictionary for instance variables (if defined)\n",
      " |  \n",
      " |  __weakref__\n",
      " |      list of weak references to the object (if defined)\n",
      "\n"
     ]
    }
   ],
   "source": [
    "help(RigidRegistration)"
   ]
  },
  {
   "cell_type": "code",
   "execution_count": null,
   "id": "164c8076",
   "metadata": {},
   "outputs": [],
   "source": []
  }
 ],
 "metadata": {
  "kernelspec": {
   "display_name": "stardist_napari_windows",
   "language": "python",
   "name": "python3"
  },
  "language_info": {
   "codemirror_mode": {
    "name": "ipython",
    "version": 3
   },
   "file_extension": ".py",
   "mimetype": "text/x-python",
   "name": "python",
   "nbconvert_exporter": "python",
   "pygments_lexer": "ipython3",
   "version": "3.10.17"
  }
 },
 "nbformat": 4,
 "nbformat_minor": 5
}
