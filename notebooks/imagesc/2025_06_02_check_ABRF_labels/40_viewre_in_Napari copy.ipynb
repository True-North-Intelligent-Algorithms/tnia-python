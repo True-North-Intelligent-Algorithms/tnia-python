{
 "cells": [
  {
   "cell_type": "code",
   "execution_count": 2,
   "id": "0942d6f7",
   "metadata": {},
   "outputs": [
    {
     "name": "stdout",
     "output_type": "stream",
     "text": [
      "Friendly name: nuclei1\n"
     ]
    }
   ],
   "source": [
    "from skimage.io import imread\n",
    "import pandas as pd\n",
    "import os\n",
    "from utility import get_friendly_name\n",
    "\n",
    "base_name = 'out_c00_dr90'\n",
    "\n",
    "im_name = r'D:\\images\\tnia-python-images\\imagesc\\2025_06_02_check_ABRF_labels\\{}_image.tif'.format(base_name)\n",
    "label_name = r'D:\\images\\tnia-python-images\\imagesc\\2025_06_02_check_ABRF_labels\\{}_label.tif'.format(base_name)\n",
    "\n",
    "im = imread(im_name)\n",
    "label = imread(label_name)\n",
    "\n",
    "friendly_name = get_friendly_name(f\"{base_name}_label.tif\")\n",
    "print(f\"Friendly name: {friendly_name}\")"
   ]
  },
  {
   "cell_type": "code",
   "execution_count": 3,
   "id": "6293d93d",
   "metadata": {},
   "outputs": [
    {
     "data": {
      "text/plain": [
       "<Image layer 'image' at 0x1d6cdba07c0>"
      ]
     },
     "execution_count": 3,
     "metadata": {},
     "output_type": "execute_result"
    }
   ],
   "source": [
    "import napari\n",
    "viewer = napari.Viewer()\n",
    "viewer.add_image(im, name='image')\n",
    "#viewer.add_labels(label, name='label', scale=label_scale)"
   ]
  },
  {
   "cell_type": "code",
   "execution_count": 4,
   "id": "5c5fe312",
   "metadata": {},
   "outputs": [
    {
     "name": "stdout",
     "output_type": "stream",
     "text": [
      "(537, 6)\n"
     ]
    },
    {
     "data": {
      "text/html": [
       "<div>\n",
       "<style scoped>\n",
       "    .dataframe tbody tr th:only-of-type {\n",
       "        vertical-align: middle;\n",
       "    }\n",
       "\n",
       "    .dataframe tbody tr th {\n",
       "        vertical-align: top;\n",
       "    }\n",
       "\n",
       "    .dataframe thead th {\n",
       "        text-align: right;\n",
       "    }\n",
       "</style>\n",
       "<table border=\"1\" class=\"dataframe\">\n",
       "  <thead>\n",
       "    <tr style=\"text-align: right;\">\n",
       "      <th></th>\n",
       "      <th>x</th>\n",
       "      <th>y</th>\n",
       "      <th>z</th>\n",
       "      <th>intensity</th>\n",
       "      <th>volume</th>\n",
       "      <th>csv_path</th>\n",
       "    </tr>\n",
       "  </thead>\n",
       "  <tbody>\n",
       "    <tr>\n",
       "      <th>0</th>\n",
       "      <td>22.803</td>\n",
       "      <td>9.024</td>\n",
       "      <td>4.181</td>\n",
       "      <td>56620971.0</td>\n",
       "      <td>437.896</td>\n",
       "      <td>Q6.13/R_3Rxaf07hES8CPgE_nuclei1.csv</td>\n",
       "    </tr>\n",
       "    <tr>\n",
       "      <th>1</th>\n",
       "      <td>5.669</td>\n",
       "      <td>9.164</td>\n",
       "      <td>5.376</td>\n",
       "      <td>63811635.0</td>\n",
       "      <td>482.954</td>\n",
       "      <td>Q6.13/R_3Rxaf07hES8CPgE_nuclei1.csv</td>\n",
       "    </tr>\n",
       "    <tr>\n",
       "      <th>2</th>\n",
       "      <td>24.999</td>\n",
       "      <td>8.223</td>\n",
       "      <td>13.036</td>\n",
       "      <td>57406958.0</td>\n",
       "      <td>441.048</td>\n",
       "      <td>Q6.13/R_3Rxaf07hES8CPgE_nuclei1.csv</td>\n",
       "    </tr>\n",
       "    <tr>\n",
       "      <th>3</th>\n",
       "      <td>13.722</td>\n",
       "      <td>23.521</td>\n",
       "      <td>8.778</td>\n",
       "      <td>78224458.0</td>\n",
       "      <td>522.320</td>\n",
       "      <td>Q6.13/R_3Rxaf07hES8CPgE_nuclei1.csv</td>\n",
       "    </tr>\n",
       "    <tr>\n",
       "      <th>4</th>\n",
       "      <td>22.547</td>\n",
       "      <td>26.006</td>\n",
       "      <td>9.65</td>\n",
       "      <td>69841365.0</td>\n",
       "      <td>473.768</td>\n",
       "      <td>Q6.13/R_3Rxaf07hES8CPgE_nuclei1.csv</td>\n",
       "    </tr>\n",
       "  </tbody>\n",
       "</table>\n",
       "</div>"
      ],
      "text/plain": [
       "        x       y       z   intensity   volume  \\\n",
       "0  22.803   9.024   4.181  56620971.0  437.896   \n",
       "1   5.669   9.164   5.376  63811635.0  482.954   \n",
       "2  24.999   8.223  13.036  57406958.0  441.048   \n",
       "3  13.722  23.521   8.778  78224458.0  522.320   \n",
       "4  22.547  26.006    9.65  69841365.0  473.768   \n",
       "\n",
       "                              csv_path  \n",
       "0  Q6.13/R_3Rxaf07hES8CPgE_nuclei1.csv  \n",
       "1  Q6.13/R_3Rxaf07hES8CPgE_nuclei1.csv  \n",
       "2  Q6.13/R_3Rxaf07hES8CPgE_nuclei1.csv  \n",
       "3  Q6.13/R_3Rxaf07hES8CPgE_nuclei1.csv  \n",
       "4  Q6.13/R_3Rxaf07hES8CPgE_nuclei1.csv  "
      ]
     },
     "execution_count": 4,
     "metadata": {},
     "output_type": "execute_result"
    }
   ],
   "source": [
    "\n",
    "data_file = r'D:\\images\\tnia-python-images\\imagesc\\2025_06_02_check_ABRF_labels\\coordinate_data_deidentified.csv'\n",
    "\n",
    "data = pd.read_csv(data_file)\n",
    "data = data[data.csv_path.str.contains('nuclei', na=False)]\n",
    "print(data.shape)\n",
    "data.head()\n"
   ]
  },
  {
   "cell_type": "code",
   "execution_count": 5,
   "id": "0829ff69",
   "metadata": {},
   "outputs": [
    {
     "data": {
      "text/html": [
       "<div>\n",
       "<style scoped>\n",
       "    .dataframe tbody tr th:only-of-type {\n",
       "        vertical-align: middle;\n",
       "    }\n",
       "\n",
       "    .dataframe tbody tr th {\n",
       "        vertical-align: top;\n",
       "    }\n",
       "\n",
       "    .dataframe thead th {\n",
       "        text-align: right;\n",
       "    }\n",
       "</style>\n",
       "<table border=\"1\" class=\"dataframe\">\n",
       "  <thead>\n",
       "    <tr style=\"text-align: right;\">\n",
       "      <th></th>\n",
       "      <th>Unnamed: 0</th>\n",
       "      <th>x</th>\n",
       "      <th>y</th>\n",
       "      <th>z</th>\n",
       "      <th>path</th>\n",
       "      <th>base_name</th>\n",
       "    </tr>\n",
       "  </thead>\n",
       "  <tbody>\n",
       "    <tr>\n",
       "      <th>0</th>\n",
       "      <td>0</td>\n",
       "      <td>5.628644</td>\n",
       "      <td>9.198676</td>\n",
       "      <td>8.751923</td>\n",
       "      <td>../../ground truth/nuclei/out_c00_dr90_label.tif</td>\n",
       "      <td>out_c00_dr90_label.tif</td>\n",
       "    </tr>\n",
       "    <tr>\n",
       "      <th>1</th>\n",
       "      <td>1</td>\n",
       "      <td>22.816774</td>\n",
       "      <td>9.033185</td>\n",
       "      <td>6.689963</td>\n",
       "      <td>../../ground truth/nuclei/out_c00_dr90_label.tif</td>\n",
       "      <td>out_c00_dr90_label.tif</td>\n",
       "    </tr>\n",
       "    <tr>\n",
       "      <th>2</th>\n",
       "      <td>2</td>\n",
       "      <td>22.618367</td>\n",
       "      <td>26.020343</td>\n",
       "      <td>15.707744</td>\n",
       "      <td>../../ground truth/nuclei/out_c00_dr90_label.tif</td>\n",
       "      <td>out_c00_dr90_label.tif</td>\n",
       "    </tr>\n",
       "    <tr>\n",
       "      <th>3</th>\n",
       "      <td>3</td>\n",
       "      <td>13.676880</td>\n",
       "      <td>23.516335</td>\n",
       "      <td>14.263662</td>\n",
       "      <td>../../ground truth/nuclei/out_c00_dr90_label.tif</td>\n",
       "      <td>out_c00_dr90_label.tif</td>\n",
       "    </tr>\n",
       "    <tr>\n",
       "      <th>4</th>\n",
       "      <td>4</td>\n",
       "      <td>25.001824</td>\n",
       "      <td>8.219340</td>\n",
       "      <td>21.236781</td>\n",
       "      <td>../../ground truth/nuclei/out_c00_dr90_label.tif</td>\n",
       "      <td>out_c00_dr90_label.tif</td>\n",
       "    </tr>\n",
       "  </tbody>\n",
       "</table>\n",
       "</div>"
      ],
      "text/plain": [
       "   Unnamed: 0          x          y          z  \\\n",
       "0           0   5.628644   9.198676   8.751923   \n",
       "1           1  22.816774   9.033185   6.689963   \n",
       "2           2  22.618367  26.020343  15.707744   \n",
       "3           3  13.676880  23.516335  14.263662   \n",
       "4           4  25.001824   8.219340  21.236781   \n",
       "\n",
       "                                               path               base_name  \n",
       "0  ../../ground truth/nuclei/out_c00_dr90_label.tif  out_c00_dr90_label.tif  \n",
       "1  ../../ground truth/nuclei/out_c00_dr90_label.tif  out_c00_dr90_label.tif  \n",
       "2  ../../ground truth/nuclei/out_c00_dr90_label.tif  out_c00_dr90_label.tif  \n",
       "3  ../../ground truth/nuclei/out_c00_dr90_label.tif  out_c00_dr90_label.tif  \n",
       "4  ../../ground truth/nuclei/out_c00_dr90_label.tif  out_c00_dr90_label.tif  "
      ]
     },
     "execution_count": 5,
     "metadata": {},
     "output_type": "execute_result"
    }
   ],
   "source": [
    "ground_truth_file = r'D:\\images\\tnia-python-images\\imagesc\\2025_06_02_check_ABRF_labels\\ground_truth_coords.csv'\n",
    "\n",
    "ground_truth = pd.read_csv(ground_truth_file)\n",
    "# Display the first few rows of the ground truth data\n",
    "ground_truth['base_name'] = ground_truth['path'].apply(os.path.basename)\n",
    "ground_truth.head()"
   ]
  },
  {
   "cell_type": "code",
   "execution_count": 5,
   "id": "174cb2ca",
   "metadata": {},
   "outputs": [
    {
     "name": "stdout",
     "output_type": "stream",
     "text": [
      "Points to plot: [[ 8.75192296  9.19867592  5.62864416]\n",
      " [ 6.68996262  9.0331853  22.8167741 ]\n",
      " [15.707744   26.02034264 22.61836734]\n",
      " [14.26366235 23.51633499 13.67688018]\n",
      " [21.2367806   8.21933956 25.00182357]]\n"
     ]
    }
   ],
   "source": [
    "points = ground_truth[ground_truth['base_name'].str.contains(base_name)][['z', 'y', 'x']].values\n",
    "\n",
    "print('Points to plot:', points)"
   ]
  },
  {
   "cell_type": "code",
   "execution_count": 17,
   "id": "61b46414",
   "metadata": {},
   "outputs": [
    {
     "data": {
      "text/plain": [
       "<Points layer 'ground_truth_points' at 0x2577e3bc3d0>"
      ]
     },
     "execution_count": 17,
     "metadata": {},
     "output_type": "execute_result"
    }
   ],
   "source": [
    "viewer.add_points(points, face_color='red', size=.5, name='ground_truth_points')"
   ]
  },
  {
   "cell_type": "code",
   "execution_count": 6,
   "id": "9e1aff7f",
   "metadata": {},
   "outputs": [
    {
     "name": "stdout",
     "output_type": "stream",
     "text": [
      "Responses shape: (5, 6)\n",
      "          x       y      z  intensity  volume  \\\n",
      "145  183.74   73.03  20.48        NaN     NaN   \n",
      "146   45.59   73.74  26.76        NaN     NaN   \n",
      "147  201.58   66.31  65.48        NaN     NaN   \n",
      "148  111.51  190.38  43.68        NaN     NaN   \n",
      "149  180.88  209.51  48.43        NaN     NaN   \n",
      "\n",
      "                                csv_path  \n",
      "145  Q6.13/R_3RxOa8kaiyul4bG_nuclei1.csv  \n",
      "146  Q6.13/R_3RxOa8kaiyul4bG_nuclei1.csv  \n",
      "147  Q6.13/R_3RxOa8kaiyul4bG_nuclei1.csv  \n",
      "148  Q6.13/R_3RxOa8kaiyul4bG_nuclei1.csv  \n",
      "149  Q6.13/R_3RxOa8kaiyul4bG_nuclei1.csv  \n"
     ]
    }
   ],
   "source": [
    "response_id = 'R_3Rxaf07hES8CPgE'\n",
    "#response_id = 'R_3lAJ9xY4kGlL99f'\n",
    "#response_id = 'R_3kpixa7Fm6wlFk2'\n",
    "response_id = r'R_3RxOa8kaiyul4bG'\n",
    "\n",
    "responses = data[data.csv_path.str.contains(response_id, na=False)]\n",
    "responses = responses[responses.csv_path.str.contains(friendly_name, na=False)]\n",
    "print('Responses shape:', responses.shape)\n",
    "\n",
    "print(responses)"
   ]
  },
  {
   "cell_type": "code",
   "execution_count": 8,
   "id": "c0afc055",
   "metadata": {},
   "outputs": [
    {
     "data": {
      "text/plain": [
       "<Points layer 'solution_points [1]' at 0x1d705690760>"
      ]
     },
     "execution_count": 8,
     "metadata": {},
     "output_type": "execute_result"
    }
   ],
   "source": [
    "\n",
    "\n",
    "response_points = responses[['z', 'y', 'x']].values.astype(float)\n",
    "viewer.add_points(response_points, face_color='green', size=10, name='solution_points')"
   ]
  },
  {
   "cell_type": "code",
   "execution_count": 9,
   "id": "fbbb3d77",
   "metadata": {},
   "outputs": [
    {
     "data": {
      "text/plain": [
       "array([[ 5.42619224,  9.19867592,  5.62864416],\n",
       "       [ 4.14777683,  9.0331853 , 22.8167741 ],\n",
       "       [ 9.73880128, 26.02034264, 22.61836734],\n",
       "       [ 8.84347065, 23.51633499, 13.67688018],\n",
       "       [13.16680397,  8.21933956, 25.00182357]])"
      ]
     },
     "execution_count": 9,
     "metadata": {},
     "output_type": "execute_result"
    }
   ],
   "source": [
    "points_scaled = points*[.124/.2, 1, 1]\n",
    "points_scaled\n"
   ]
  },
  {
   "cell_type": "code",
   "execution_count": 20,
   "id": "1611cef8",
   "metadata": {},
   "outputs": [
    {
     "data": {
      "text/plain": [
       "<Points layer 'ground_truth_points_scaled' at 0x257868b2f50>"
      ]
     },
     "execution_count": 20,
     "metadata": {},
     "output_type": "execute_result"
    }
   ],
   "source": [
    "viewer.add_points(points_scaled, face_color='blue', size=.5, name='ground_truth_points_scaled')"
   ]
  },
  {
   "cell_type": "code",
   "execution_count": 74,
   "id": "86343ca4",
   "metadata": {},
   "outputs": [
    {
     "data": {
      "text/plain": [
       "array([[2.16835938, 3.47025625, 5.88859531],\n",
       "       [2.35993031, 5.67132578, 6.48164634],\n",
       "       [0.99721946, 5.69045482, 2.25828997],\n",
       "       [3.21951461, 6.27222585, 2.06101634],\n",
       "       [1.33057782, 1.44427836, 2.25909068]])"
      ]
     },
     "execution_count": 74,
     "metadata": {},
     "output_type": "execute_result"
    }
   ],
   "source": [
    "response_points"
   ]
  },
  {
   "cell_type": "code",
   "execution_count": 18,
   "id": "328dba1e",
   "metadata": {},
   "outputs": [
    {
     "data": {
      "text/plain": [
       "<Points layer 'response_points_scaled' at 0x2577e243550>"
      ]
     },
     "execution_count": 18,
     "metadata": {},
     "output_type": "execute_result"
    }
   ],
   "source": [
    "temp = response_points*[1, 5, 5]\n",
    "viewer.add_points(temp, face_color='orange', size=.5, name='response_points_scaled')"
   ]
  },
  {
   "cell_type": "code",
   "execution_count": 85,
   "id": "6f286bbd",
   "metadata": {},
   "outputs": [
    {
     "data": {
      "text/plain": [
       "<Points layer 'response_points_scaled_transposed' at 0x1921a0bae60>"
      ]
     },
     "execution_count": 85,
     "metadata": {},
     "output_type": "execute_result"
    }
   ],
   "source": [
    "# switch x and y axis in response points\n",
    "temp = response_points*[4, 4, 4]\n",
    "temp = temp[:, [0, 2, 1]]  # Transpose x and y\n",
    "viewer.add_points(temp, face_color='purple', size=1, name='response_points_scaled_transposed')"
   ]
  },
  {
   "cell_type": "code",
   "execution_count": 77,
   "id": "109760ed",
   "metadata": {},
   "outputs": [
    {
     "data": {
      "text/plain": [
       "(5, 3)"
      ]
     },
     "execution_count": 77,
     "metadata": {},
     "output_type": "execute_result"
    }
   ],
   "source": [
    "temp.shape"
   ]
  },
  {
   "cell_type": "code",
   "execution_count": 84,
   "id": "93878145",
   "metadata": {},
   "outputs": [
    {
     "data": {
      "text/plain": [
       "array([[ 9.75761719, 26.49867891, 15.61615312],\n",
       "       [10.61968641, 29.16740854, 25.52096603],\n",
       "       [ 4.48748759, 10.16230487, 25.60704667],\n",
       "       [14.48781575,  9.27457355, 28.22501634],\n",
       "       [ 5.98760017, 10.16590806,  6.49925264]])"
      ]
     },
     "execution_count": 84,
     "metadata": {},
     "output_type": "execute_result"
    }
   ],
   "source": [
    "temp"
   ]
  },
  {
   "cell_type": "code",
   "execution_count": null,
   "id": "65614625",
   "metadata": {},
   "outputs": [],
   "source": []
  }
 ],
 "metadata": {
  "kernelspec": {
   "display_name": "stardist_napari_windows",
   "language": "python",
   "name": "python3"
  },
  "language_info": {
   "codemirror_mode": {
    "name": "ipython",
    "version": 3
   },
   "file_extension": ".py",
   "mimetype": "text/x-python",
   "name": "python",
   "nbconvert_exporter": "python",
   "pygments_lexer": "ipython3",
   "version": "3.10.17"
  }
 },
 "nbformat": 4,
 "nbformat_minor": 5
}
