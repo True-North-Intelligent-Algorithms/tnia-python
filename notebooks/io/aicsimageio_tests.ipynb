{
 "cells": [
  {
   "cell_type": "code",
   "execution_count": 11,
   "metadata": {},
   "outputs": [
    {
     "data": {
      "text/plain": [
       "slice(None, [0, 1, 2, 3, 4], None)"
      ]
     },
     "execution_count": 11,
     "metadata": {},
     "output_type": "execute_result"
    }
   ],
   "source": [
    "test = [0,1,2,3,4]\n",
    "slice(test)"
   ]
  },
  {
   "cell_type": "code",
   "execution_count": 8,
   "metadata": {},
   "outputs": [],
   "source": [
    "from aicsimageio import AICSImage\n",
    "import numpy as np"
   ]
  },
  {
   "cell_type": "code",
   "execution_count": 9,
   "metadata": {},
   "outputs": [
    {
     "name": "stdout",
     "output_type": "stream",
     "text": [
      "<Dimensions [T: 1, C: 5, Z: 1, Y: 14980, X: 17787]>\n",
      "TCZYX\n",
      "(1, 5, 1, 14980, 17787)\n"
     ]
    }
   ],
   "source": [
    "input_name = r\"D:\\images\\From Chen Zhao\\2022_10_14__0662.czi\"\n",
    "img = AICSImage(input_name)\n",
    "print(img.dims)\n",
    "print(img.dims.order)\n",
    "print(img.shape)"
   ]
  },
  {
   "cell_type": "code",
   "execution_count": 10,
   "metadata": {},
   "outputs": [
    {
     "name": "stdout",
     "output_type": "stream",
     "text": [
      "<Dimensions [T: 1, C: 1, Z: 238, Y: 342, X: 378]>\n",
      "TCZYX\n",
      "(1, 1, 238, 342, 378)\n",
      "(1, 1, 238, 342, 378)\n",
      "(238, 342, 378)\n"
     ]
    }
   ],
   "source": [
    "input_name = r\"D:\\testspsfs\\psfs\\Theoretical PSF_psf.tif\"\n",
    "img = AICSImage(input_name)\n",
    "data=np.squeeze(img.data)\n",
    "print(img.dims)\n",
    "print(img.dims.order)\n",
    "print(img.shape)\n",
    "print(img.data.shape)\n",
    "print(data.shape)"
   ]
  },
  {
   "cell_type": "code",
   "execution_count": null,
   "metadata": {},
   "outputs": [],
   "source": []
  }
 ],
 "metadata": {
  "kernelspec": {
   "display_name": "dresden-decon-test1",
   "language": "python",
   "name": "python3"
  },
  "language_info": {
   "codemirror_mode": {
    "name": "ipython",
    "version": 3
   },
   "file_extension": ".py",
   "mimetype": "text/x-python",
   "name": "python",
   "nbconvert_exporter": "python",
   "pygments_lexer": "ipython3",
   "version": "3.9.16"
  }
 },
 "nbformat": 4,
 "nbformat_minor": 2
}
