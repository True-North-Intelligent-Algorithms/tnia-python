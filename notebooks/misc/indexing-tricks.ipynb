{
 "cells": [
  {
   "cell_type": "markdown",
   "metadata": {},
   "source": [
    "# Make a markdown cell to test with"
   ]
  },
  {
   "cell_type": "code",
   "execution_count": 11,
   "id": "c70823e3",
   "metadata": {},
   "outputs": [
    {
     "name": "stdout",
     "output_type": "stream",
     "text": [
      "(30, 100, 100)\n"
     ]
    }
   ],
   "source": [
    "import numpy as np\n",
    "\n",
    "# make a random 3d array with numpy\n",
    "arr = np.random.rand(30, 100, 100)\n",
    "print (arr.shape)"
   ]
  },
  {
   "cell_type": "markdown",
   "metadata": {},
   "source": [
    "# Get the location of the max of a 3D array"
   ]
  },
  {
   "cell_type": "code",
   "execution_count": 12,
   "metadata": {},
   "outputs": [
    {
     "name": "stdout",
     "output_type": "stream",
     "text": [
      "max is 0.9999958679756411\n",
      "location of max is 138653\n",
      "3d index of max is (13, 86, 53)\n"
     ]
    }
   ],
   "source": [
    "print('max is',arr.max())\n",
    "print('location of max is', arr.argmax())\n",
    "print('3d index of max is', np.unravel_index(arr.argmax(), arr.shape))"
   ]
  },
  {
   "cell_type": "markdown",
   "metadata": {},
   "source": [
    "# Make an index a variable trick\n",
    "\n",
    "Sometimes it is useful to make an index into a variable to re-use and keep track of it. This can be done with the np.s_ function. Below is an example."
   ]
  },
  {
   "cell_type": "code",
   "execution_count": 15,
   "metadata": {},
   "outputs": [
    {
     "name": "stdout",
     "output_type": "stream",
     "text": [
      "(12, 12, 12)\n"
     ]
    }
   ],
   "source": [
    "x=10\n",
    "y=10\n",
    "z=10\n",
    "size=12\n",
    "\n",
    "ind = np.s_[z:z+size, y:y+size, x:x+size]\n",
    "roi = arr[ind]\n",
    "print(roi.shape)"
   ]
  }
 ],
 "metadata": {
  "kernelspec": {
   "display_name": "Python 3 (ipykernel)",
   "language": "python",
   "name": "python3"
  },
  "language_info": {
   "codemirror_mode": {
    "name": "ipython",
    "version": 3
   },
   "file_extension": ".py",
   "mimetype": "text/x-python",
   "name": "python",
   "nbconvert_exporter": "python",
   "pygments_lexer": "ipython3",
   "version": "3.9.16"
  }
 },
 "nbformat": 4,
 "nbformat_minor": 5
}
