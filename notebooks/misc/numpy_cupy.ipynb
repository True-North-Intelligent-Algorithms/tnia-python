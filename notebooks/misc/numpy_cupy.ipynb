{
 "cells": [
  {
   "attachments": {},
   "cell_type": "markdown",
   "metadata": {},
   "source": [
    "## A way to map numpy to cupy\n",
    "\n",
    "[CuPy](https://cupy.dev/) is a NumPy/SciPy-compatible Library for GPU-accelerated Computing with Python\n",
    "\n",
    "I've been experimenting with ways to quickly convert numpy code to cupy and this notebook shows a potential approach. \n",
    "\n",
    "### Cavaets\n",
    "\n",
    "I program in a lot of languages, an expert in none, so I am possibly missing an already existing pattern or utility to do this.  Also mapping numpy to cupy would probably cause a bunch of bugs if you did it all over the place in an existing code base.  For new code you might even consider using an alias for np then mapping cupy or numpy to it depending on whether cupy is available.\n",
    "\n",
    "That being said this technique might be useful if you have small well contained scripts, notebook cells or functions and want to quickly see if cupy will accelerate performance. "
   ]
  },
  {
   "attachments": {},
   "cell_type": "markdown",
   "metadata": {},
   "source": [
    "## Dependencies\n",
    "\n",
    "This notebook requires a python environment that supports notebook and numpy and also requires cupy. \n",
    "\n",
    "To insatll cupy for your OS and Cuda version you may have to research the exact installation command.  For Windows 10 and Cuda-11 I have used\n",
    "\n",
    "```\n",
    "conda install -c conda-forge cupy cudatoolkit=11.\n",
    "```"
   ]
  },
  {
   "attachments": {},
   "cell_type": "markdown",
   "metadata": {},
   "source": [
    "## Create some test arrays\n",
    "\n",
    "Create test arrays and also push them to the GPU.\n",
    "\n",
    "In this small fun example I create 3 test arrays.  This is because my notebooks, which I run in VSCode, output the time each cell takes to run.\n",
    "\n",
    "In order for these times to be 'a bit' more reliable I process 3 arrays, to dillute the potential effect of initialization., \n",
    "\n",
    "For more formal benchmarking one would research code timing and profiling libraries and think through how to properly do initialization and 'warm up' stages to avoid biasing timing results. "
   ]
  },
  {
   "cell_type": "code",
   "execution_count": 15,
   "metadata": {},
   "outputs": [],
   "source": [
    "import numpy as np\n",
    "import cupy as cp\n",
    "\n",
    "n=500\n",
    "\n",
    "# create random image of size 1000x1000x1000\n",
    "img1 = np.random.rand(n,n,n)\n",
    "img2 = np.random.rand(n,n,n)\n",
    "img3 = np.random.rand(n,n,n)\n",
    "\n",
    "img_gpu1 = cp.asarray(img1)\n",
    "img_gpu2 = cp.asarray(img2)\n",
    "img_gpu3 = cp.asarray(img3)\n"
   ]
  },
  {
   "attachments": {},
   "cell_type": "markdown",
   "metadata": {},
   "source": [
    "## Define utilities to switch between numpy and cupy\n",
    "\n",
    "Here we define a utility to check if cupy is installed, and a utility to check an array to see if it is a cupy array, and if so return cupy, if not return numpy."
   ]
  },
  {
   "cell_type": "code",
   "execution_count": 16,
   "metadata": {},
   "outputs": [],
   "source": [
    "import numpy as np\n",
    "import importlib\n",
    "\n",
    "try:\n",
    "    cupy = importlib.import_module('cupy')\n",
    "    has_cupy = True\n",
    "except ImportError:\n",
    "    has_cupy = False\n",
    "\n",
    "def is_cupy_installed():\n",
    "    \"\"\"\n",
    "    Returns True if Cupy is installed, False otherwise.\n",
    "    \"\"\"\n",
    "    return has_cupy\n",
    "\n",
    "def get_platform(x):\n",
    "    \"\"\"\n",
    "    Returns the appropriate package (NumPy or Cupy) depending on whether Cupy is installed and `x` is a\n",
    "    Cupy array.\n",
    "\n",
    "    Args:\n",
    "        x (ndarray): Input array\n",
    "\n",
    "    Returns:\n",
    "        Module: The appropriate package (either NumPy or Cupy)\n",
    "    \"\"\"\n",
    "    if has_cupy:\n",
    "        if hasattr(cupy, 'ndarray') and isinstance(x, cupy.ndarray):\n",
    "            return cupy\n",
    "    return np\n"
   ]
  },
  {
   "attachments": {},
   "cell_type": "markdown",
   "metadata": {},
   "source": [
    "## Test with a numpy array\n",
    "\n",
    "Here we get the platform for a numpy array, then run some simple numpy style code.\n",
    "\n",
    "Note we print out the np object to check if it is a numpy module or cupy.  In this case it should be ```numpy```."
   ]
  },
  {
   "cell_type": "code",
   "execution_count": 17,
   "metadata": {},
   "outputs": [],
   "source": [
    "import time"
   ]
  },
  {
   "attachments": {},
   "cell_type": "markdown",
   "metadata": {},
   "source": [
    "### 1. Warmup stage\n",
    "\n",
    "Here we do what is called a warmup stage.  When profiling fairly short code it is a good idea to call it once without timing, then call it multiple times in a timing stage.\n",
    "\n",
    "Behind the scenes python may do some initialization of the numpy, cupy or other libraries that would bias timing results. "
   ]
  },
  {
   "cell_type": "code",
   "execution_count": 18,
   "metadata": {},
   "outputs": [
    {
     "name": "stdout",
     "output_type": "stream",
     "text": [
      "<module 'numpy' from 'c:\\\\Users\\\\bnort\\\\miniconda3\\\\envs\\\\decon_bioformats\\\\lib\\\\site-packages\\\\numpy\\\\__init__.py'>\n"
     ]
    }
   ],
   "source": [
    "np = get_platform(img1)\n",
    "print(np)\n",
    "test1=np.sum(img1, 0)"
   ]
  },
  {
   "attachments": {},
   "cell_type": "markdown",
   "metadata": {},
   "source": [
    "### 2. Timing Stage"
   ]
  },
  {
   "cell_type": "code",
   "execution_count": 19,
   "metadata": {},
   "outputs": [
    {
     "name": "stdout",
     "output_type": "stream",
     "text": [
      "0.4059131145477295\n"
     ]
    }
   ],
   "source": [
    "\n",
    "start = time.time()\n",
    "test1=np.sum(img1, 0)\n",
    "test2=np.sum(img2, 0)\n",
    "test3=np.sum(img3, 0)\n",
    "end = time.time()\n",
    "print(end - start)"
   ]
  },
  {
   "attachments": {},
   "cell_type": "markdown",
   "metadata": {},
   "source": [
    "## Test with a CuPy array\n",
    "\n",
    "Run the same tests with the cupy array.  We should see the ```np``` variable get mapped to cupy instead of numpy.\n",
    "\n",
    "First map ```np``` to the right module and run a warmup.  Then time 3 applications of the sum function. "
   ]
  },
  {
   "cell_type": "code",
   "execution_count": 13,
   "metadata": {},
   "outputs": [
    {
     "name": "stdout",
     "output_type": "stream",
     "text": [
      "<module 'cupy' from 'c:\\\\Users\\\\bnort\\\\miniconda3\\\\envs\\\\decon_bioformats\\\\lib\\\\site-packages\\\\cupy\\\\__init__.py'>\n"
     ]
    }
   ],
   "source": [
    "np = get_platform(img_gpu1)\n",
    "print(np)\n",
    "test1=np.sum(img_gpu1, 0)"
   ]
  },
  {
   "cell_type": "code",
   "execution_count": 14,
   "metadata": {},
   "outputs": [
    {
     "name": "stdout",
     "output_type": "stream",
     "text": [
      "0.000997304916381836\n"
     ]
    }
   ],
   "source": [
    "\n",
    "start = time.time()\n",
    "test1=np.sum(img_gpu1, 0)\n",
    "test2=np.sum(img_gpu2, 0)\n",
    "test3=np.sum(img_gpu3, 0)\n",
    "end = time.time()\n",
    "print(end - start)"
   ]
  },
  {
   "cell_type": "code",
   "execution_count": null,
   "metadata": {},
   "outputs": [],
   "source": []
  }
 ],
 "metadata": {
  "kernelspec": {
   "display_name": "decon_bioformats",
   "language": "python",
   "name": "python3"
  },
  "language_info": {
   "codemirror_mode": {
    "name": "ipython",
    "version": 3
   },
   "file_extension": ".py",
   "mimetype": "text/x-python",
   "name": "python",
   "nbconvert_exporter": "python",
   "pygments_lexer": "ipython3",
   "version": "3.9.15"
  },
  "orig_nbformat": 4
 },
 "nbformat": 4,
 "nbformat_minor": 2
}
