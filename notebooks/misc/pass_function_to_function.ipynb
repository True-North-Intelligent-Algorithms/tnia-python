{
 "cells": [
  {
   "cell_type": "code",
   "execution_count": 7,
   "id": "641910a2",
   "metadata": {},
   "outputs": [],
   "source": [
    "# simple example showing how to pass one function to another (very easy in Python)\n",
    "def hi_there():\n",
    "    print('hi there')"
   ]
  },
  {
   "cell_type": "code",
   "execution_count": 8,
   "id": "44ce00f5",
   "metadata": {},
   "outputs": [],
   "source": [
    "def pass_the_function(func):\n",
    "    func()"
   ]
  },
  {
   "cell_type": "code",
   "execution_count": 9,
   "id": "2bbbc791",
   "metadata": {},
   "outputs": [
    {
     "name": "stdout",
     "output_type": "stream",
     "text": [
      "hi there\n"
     ]
    }
   ],
   "source": [
    "pass_the_function(hi_there)"
   ]
  },
  {
   "cell_type": "code",
   "execution_count": null,
   "id": "16fa3b8e",
   "metadata": {},
   "outputs": [],
   "source": []
  }
 ],
 "metadata": {
  "kernelspec": {
   "display_name": "Python 3 (ipykernel)",
   "language": "python",
   "name": "python3"
  },
  "language_info": {
   "codemirror_mode": {
    "name": "ipython",
    "version": 3
   },
   "file_extension": ".py",
   "mimetype": "text/x-python",
   "name": "python",
   "nbconvert_exporter": "python",
   "pygments_lexer": "ipython3",
   "version": "3.9.12"
  }
 },
 "nbformat": 4,
 "nbformat_minor": 5
}
