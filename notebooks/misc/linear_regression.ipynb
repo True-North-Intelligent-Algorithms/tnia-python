{
 "cells": [
  {
   "attachments": {},
   "cell_type": "markdown",
   "id": "e77269e1",
   "metadata": {},
   "source": [
    "## Simple notebook showing how to do linear regression with scipy"
   ]
  },
  {
   "cell_type": "code",
   "execution_count": 13,
   "id": "9ebde195",
   "metadata": {},
   "outputs": [],
   "source": [
    "import numpy as np\n",
    "import scipy.stats\n",
    "x=np.array([1,2,3,4,5])\n",
    "y=np.array([1.1,6.7,9,10.5,18.5])\n"
   ]
  },
  {
   "cell_type": "code",
   "execution_count": 14,
   "id": "98d2f7da",
   "metadata": {},
   "outputs": [
    {
     "name": "stdout",
     "output_type": "stream",
     "text": [
      "LinregressResult(slope=3.8600000000000003, intercept=-2.4200000000000017, rvalue=0.9647829482522186, pvalue=0.007891431329452614, stderr=0.6076183012385316, intercept_stderr=2.015241920961349)\n",
      "0.007891431329452614 0.9647829482522186 3.8600000000000003 -2.4200000000000017\n"
     ]
    }
   ],
   "source": [
    "result=scipy.stats.linregress(x,y)\n",
    "\n",
    "print(result)\n",
    "print(result.pvalue,result.rvalue, result.slope, result.intercept)"
   ]
  }
 ],
 "metadata": {
  "kernelspec": {
   "display_name": "decon_bioformats",
   "language": "python",
   "name": "python3"
  },
  "language_info": {
   "codemirror_mode": {
    "name": "ipython",
    "version": 3
   },
   "file_extension": ".py",
   "mimetype": "text/x-python",
   "name": "python",
   "nbconvert_exporter": "python",
   "pygments_lexer": "ipython3",
   "version": "3.9.15"
  },
  "vscode": {
   "interpreter": {
    "hash": "770893361776778c83d069234daefadf0c2235f4af4f4ab69a2b667910abd1d6"
   }
  }
 },
 "nbformat": 4,
 "nbformat_minor": 5
}
