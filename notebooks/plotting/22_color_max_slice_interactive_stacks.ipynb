{
 "cells": [
  {
   "cell_type": "markdown",
   "metadata": {},
   "source": [
    "## Color Max Slice Interactive Example\n",
    "\n",
    "This is a cool interactive max slice view.  Color max projections are generated from center locations and a thickness.  "
   ]
  },
  {
   "cell_type": "code",
   "execution_count": 2,
   "metadata": {},
   "outputs": [
    {
     "data": {
      "application/vnd.jupyter.widget-view+json": {
       "model_id": "928a18f5669d4e3389f43b305cc7b6da",
       "version_major": 2,
       "version_minor": 0
      },
      "text/plain": [
       "interactive(children=(IntSlider(value=128, description='x_s', layout=Layout(width='70%'), max=251, min=4), Int…"
      ]
     },
     "metadata": {},
     "output_type": "display_data"
    }
   ],
   "source": [
    "from tnia.plotting.interactive_projections import show_xyz_max_slice_interactive\n",
    "\n",
    "from skimage.data import cells3d\n",
    "\n",
    "img_raw = cells3d()\n",
    "membranes = img_raw[:,0,...]\n",
    "nuclei = img_raw[:,1,...]\n",
    "\n",
    "\n",
    "show_xyz_max_slice_interactive([membranes, nuclei],\n",
    "                               gamma= [0.5, 1.0],\n",
    "                               vmin = [0.05, 0.1],\n",
    "                               vmax = [0.9, 1.],\n",
    "                               sz = 1.0,\n",
    "                               colors = ['limegreen', 'magenta'],\n",
    "                               )"
   ]
  },
  {
   "cell_type": "markdown",
   "metadata": {},
   "source": [
    "## Test on a single channel\n",
    "\n",
    "For testing purposes lets also make sure it works on a single channel"
   ]
  },
  {
   "cell_type": "code",
   "execution_count": null,
   "metadata": {},
   "outputs": [
    {
     "data": {
      "application/vnd.jupyter.widget-view+json": {
       "model_id": "3bf8ab8983004060b0b4a0b0bbd6422b",
       "version_major": 2,
       "version_minor": 0
      },
      "text/plain": [
       "interactive(children=(IntSlider(value=128, description='x_s', layout=Layout(width='70%'), max=251, min=4), Int…"
      ]
     },
     "metadata": {},
     "output_type": "display_data"
    }
   ],
   "source": [
    "show_xyz_max_slice_interactive(membranes,\n",
    "                               gamma= 0.5,\n",
    "                               vmin = 0.05,\n",
    "                               vmax = membranes.max()/3,\n",
    "                               sz = 1.0,\n",
    "                               )"
   ]
  },
  {
   "cell_type": "code",
   "execution_count": null,
   "metadata": {},
   "outputs": [],
   "source": []
  }
 ],
 "metadata": {
  "kernelspec": {
   "display_name": "decon_env_ts",
   "language": "python",
   "name": "python3"
  },
  "language_info": {
   "codemirror_mode": {
    "name": "ipython",
    "version": 3
   },
   "file_extension": ".py",
   "mimetype": "text/x-python",
   "name": "python",
   "nbconvert_exporter": "python",
   "pygments_lexer": "ipython3",
   "version": "3.9.15"
  }
 },
 "nbformat": 4,
 "nbformat_minor": 2
}
