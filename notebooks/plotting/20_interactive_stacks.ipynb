{
 "cells": [
  {
   "cell_type": "markdown",
   "metadata": {},
   "source": [
    "## Interactive Stacks\n",
    "\n",
    "This notebook shows some examples as to how to work with stacks interactively.\n",
    "\n",
    "Requires ipywidgets to be installed.\n",
    "\n",
    "First load a test image...."
   ]
  },
  {
   "cell_type": "code",
   "execution_count": null,
   "metadata": {},
   "outputs": [],
   "source": [
    "from skimage.io import imread\n",
    "import os\n",
    "import matplotlib.pyplot as plt\n",
    "from ipywidgets import interact, IntSlider \n",
    "\n",
    "dir_name=r'/home/bnorthan/Images/'\n",
    "dir_name= r'D:\\images'\n",
    "\n",
    "im_name = os.path.join(dir_name, r'tnia-python-images/deconvolution/microtubules/input.tif')\n",
    "im=imread(im_name)"
   ]
  },
  {
   "cell_type": "markdown",
   "metadata": {},
   "source": [
    "## Example 1 \n",
    "\n",
    "Use IntSlider to change frame, and plt.imshow to show image.\n",
    "\n",
    "This method is a bit slow because each time the slider is moved the entire frame is redrawn using ```plt.imshow``` however the code is short and simple.  "
   ]
  },
  {
   "cell_type": "code",
   "execution_count": null,
   "metadata": {},
   "outputs": [],
   "source": [
    "%matplotlib inline\n",
    "\n",
    "# Define a function to display a 2D frame of the array with a given intensity range\n",
    "def display_frame(frame):\n",
    "    plt.imshow(im[frame])\n",
    "    plt.show()\n",
    "\n",
    "# Use the interact function to create slider widgets that control the frame number and intensity range\n",
    "frame_slider = IntSlider(min=0, max=im.shape[0]-1, step=1, value=0)\n",
    "\n",
    "# Use the interact function to create a slider widget that controls the frame number\n",
    "interact(display_frame, frame=frame_slider)"
   ]
  },
  {
   "cell_type": "markdown",
   "metadata": {},
   "source": [
    "## Example 2 \n",
    "\n",
    "In method 2 we create the plot before hand and call ```imshow``` from the axes object.  This is much faster but the coded is a bit more complicated and we have to go into ```%matplotlib widget``` mode. "
   ]
  },
  {
   "cell_type": "code",
   "execution_count": null,
   "metadata": {},
   "outputs": [],
   "source": [
    "# Ensure an interactive backend (only needed if running in Jupyter)\n",
    "%matplotlib widget\n",
    "\n",
    "fig=plt.figure()\n",
    "xy = im[im.shape[0]//2,:,:]\n",
    "zy = im[:,im.shape[1]//2,:]\n",
    "\n",
    "ax0=fig.add_subplot(211)\n",
    "ax1=fig.add_subplot(212)\n",
    "\n",
    "img0 = ax0.imshow(xy)\n",
    "ax0.set_title('xy')\n",
    "img1 = ax1.imshow(zy)\n",
    "ax1.set_title('zy')\n",
    "\n",
    "# Define a function to display a 2D frame of the array with a given intensity range\n",
    "def display_z(z):\n",
    "    xy = im[z,:,:]\n",
    "    \n",
    "    img0.set_data(xy)\n",
    "    ax0.set_title(f'xy (slice={z})')\n",
    "    fig.canvas.draw_idle()\n",
    "    #ax0.imshow(xy)\n",
    "\n",
    "    #fig.canvas.draw()\n",
    "    print('slice is '+str(z))\n",
    "\n",
    "def display_x(x):\n",
    "    zy = im[:,x,:]\n",
    "    img1.set_data(zy)\n",
    "    ax1.set_title(f'zy (slice={x})')\n",
    "    fig.canvas.draw_idle()\n",
    "    #ax1.imshow(zy)\n",
    "    print('slice is '+str(x))\n",
    "\n",
    "z_slider = IntSlider(min=0, max=im.shape[0]-1, step=1, value=0)\n",
    "x_slider = IntSlider(min=0, max=im.shape[1]-1, step=1, value=0)\n",
    "\n",
    "interact(display_z, z=z_slider)\n",
    "interact(display_x, x=x_slider)\n",
    "\n"
   ]
  },
  {
   "cell_type": "markdown",
   "metadata": {},
   "source": [
    "## Example 3\n",
    "\n",
    "Here we use the interactive projections utility from ```tnia.plotting``` to show a xy/zy/xz projection with cross hairs.  Right now this utility is a bit slow as it uses plt.imshow() under the hood.  When I get some time I'll probably try re-writing it to be faster by using ```set_data```."
   ]
  },
  {
   "cell_type": "code",
   "execution_count": null,
   "metadata": {},
   "outputs": [],
   "source": [
    "%matplotlib inline\n",
    "\n",
    "from tnia.plotting.interactive_projections import show_xyz_slice_interactive\n",
    "\n",
    "show_xyz_slice_interactive(im, sxy=1, sz=1,figsize=(10,7), colormap=None, vmax=None)\n",
    "\n"
   ]
  },
  {
   "cell_type": "markdown",
   "metadata": {},
   "source": [
    "## Example 4\n",
    "\n",
    "Here we show how to control both frame number and intensity range. "
   ]
  },
  {
   "cell_type": "code",
   "execution_count": null,
   "metadata": {},
   "outputs": [],
   "source": [
    "import numpy as np\n",
    "import matplotlib.pyplot as plt\n",
    "from ipywidgets import interact, IntSlider, FloatRangeSlider\n",
    "\n",
    "# Define a function to display a 2D frame of the array with a given intensity range\n",
    "def display_frame(frame, intensity_range):\n",
    "    plt.imshow(im[frame], cmap='gray', vmin=intensity_range[0], vmax=intensity_range[1])\n",
    "    plt.show()\n",
    "\n",
    "# Use the interact function to create slider widgets that control the frame number and intensity range\n",
    "frame_slider = IntSlider(min=0, max=im.shape[0]-1, step=1, value=0)\n",
    "range_slider = FloatRangeSlider(min=np.min(im), max=np.max(im), step=0.1,\n",
    "                                value=[np.min(im), np.max(im)], description='Intensity Range')\n",
    "\n",
    "\n",
    "# Use the interact function to create a slider widget that controls the frame number\n",
    "interact(display_frame, frame=frame_slider, intensity_range=range_slider)"
   ]
  },
  {
   "cell_type": "markdown",
   "metadata": {},
   "source": [
    "## Example 5\n",
    "\n",
    "Here we use a second interactive slice viewer tool from tnia.plotting.  The second implementation calls ```set_data``` from the axis and is faster but needs to run with ```%matplotlib widget```"
   ]
  },
  {
   "cell_type": "code",
   "execution_count": null,
   "metadata": {},
   "outputs": [],
   "source": [
    "%matplotlib widget\n",
    "\n",
    "from tnia.plotting.interactive_projections import show_xyz_slice_interactive_2\n",
    "\n",
    "fig = show_xyz_slice_interactive_2(im, sxy=1, sz=1,figsize=(8,7), colormap=None, vmax=None)"
   ]
  },
  {
   "cell_type": "code",
   "execution_count": null,
   "metadata": {},
   "outputs": [],
   "source": []
  }
 ],
 "metadata": {
  "kernelspec": {
   "display_name": "Python 3 (ipykernel)",
   "language": "python",
   "name": "python3"
  },
  "language_info": {
   "codemirror_mode": {
    "name": "ipython",
    "version": 3
   },
   "file_extension": ".py",
   "mimetype": "text/x-python",
   "name": "python",
   "nbconvert_exporter": "python",
   "pygments_lexer": "ipython3",
   "version": "3.9.15"
  }
 },
 "nbformat": 4,
 "nbformat_minor": 2
}
