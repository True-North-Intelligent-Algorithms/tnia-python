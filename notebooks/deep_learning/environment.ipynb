{
 "cells": [
  {
   "cell_type": "markdown",
   "metadata": {},
   "source": [
    "## Instructions to set up a DL environment using just pip\n",
    "\n",
    "```\n",
    "pip install tensorflow[and-cuda]\n",
    "pip install ipykernel\n",
    "pip install tnia-python (locally pip install -e .)\n",
    "pip install matplotlib\n",
    "pip install tqdm\n",
    "pip install tifffile\n",
    "pip install scikit-image\n",
    "pip install stardist\n",
    "pip install raster-geometry\n",
    "```"
   ]
  },
  {
   "cell_type": "code",
   "execution_count": null,
   "metadata": {},
   "outputs": [],
   "source": []
  }
 ],
 "metadata": {
  "kernelspec": {
   "display_name": "decon-dl-env5",
   "language": "python",
   "name": "python3"
  },
  "language_info": {
   "codemirror_mode": {
    "name": "ipython",
    "version": 3
   },
   "file_extension": ".py",
   "mimetype": "text/x-python",
   "name": "python",
   "nbconvert_exporter": "python",
   "pygments_lexer": "ipython3",
   "version": "3.9.18"
  },
  "orig_nbformat": 4
 },
 "nbformat": 4,
 "nbformat_minor": 2
}
