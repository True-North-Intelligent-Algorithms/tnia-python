{
 "cells": [
  {
   "cell_type": "code",
   "execution_count": 1,
   "id": "b50d7c62",
   "metadata": {},
   "outputs": [],
   "source": [
    "import numpy as np"
   ]
  },
  {
   "cell_type": "code",
   "execution_count": 32,
   "id": "b629f7b9",
   "metadata": {},
   "outputs": [],
   "source": [
    "# 4 channels\n",
    "nc=4\n",
    "# 50 slices\n",
    "nz = 2\n",
    "# 512 by 512\n",
    "ny = 512\n",
    "nx = 512\n",
    "\n",
    "test=((2**16-1)*np.random.rand(nc, nz, ny, nx)).astype('uint16')"
   ]
  },
  {
   "cell_type": "code",
   "execution_count": 33,
   "id": "8bd873a7",
   "metadata": {},
   "outputs": [
    {
     "name": "stdout",
     "output_type": "stream",
     "text": [
      "(4, 2, 512, 512)\n",
      "65534\n"
     ]
    }
   ],
   "source": [
    "print(test.shape)\n",
    "print(test.max())"
   ]
  },
  {
   "cell_type": "code",
   "execution_count": 34,
   "id": "149e101a",
   "metadata": {},
   "outputs": [],
   "source": [
    "import imagej"
   ]
  },
  {
   "cell_type": "code",
   "execution_count": 35,
   "id": "0d460cda",
   "metadata": {},
   "outputs": [
    {
     "ename": "TypeError",
     "evalue": "Unable to cast 'type' to java type 'java.lang.Class'",
     "output_type": "error",
     "traceback": [
      "\u001b[1;31m---------------------------------------------------------------------------\u001b[0m",
      "\u001b[1;31mTypeError\u001b[0m                                 Traceback (most recent call last)",
      "\u001b[1;32m<ipython-input-35-c619ba593a5e>\u001b[0m in \u001b[0;36m<module>\u001b[1;34m\u001b[0m\n\u001b[1;32m----> 1\u001b[1;33m \u001b[0mij\u001b[0m\u001b[1;33m=\u001b[0m\u001b[0mimagej\u001b[0m\u001b[1;33m.\u001b[0m\u001b[0minit\u001b[0m\u001b[1;33m(\u001b[0m\u001b[1;33m)\u001b[0m\u001b[1;33m\u001b[0m\u001b[1;33m\u001b[0m\u001b[0m\n\u001b[0m",
      "\u001b[1;32m~\\anaconda3\\lib\\site-packages\\imagej\\__init__.py\u001b[0m in \u001b[0;36minit\u001b[1;34m(ij_dir_or_version_or_endpoint, headless)\u001b[0m\n\u001b[0;32m    212\u001b[0m                 \"\"\"\n\u001b[0;32m    213\u001b[0m                 \u001b[1;32mraise\u001b[0m \u001b[0mImportError\u001b[0m\u001b[1;33m(\u001b[0m\u001b[1;34m\"Your ImageJ installation does not support IJ1. This function does not work.\"\u001b[0m\u001b[1;33m)\u001b[0m\u001b[1;33m\u001b[0m\u001b[1;33m\u001b[0m\u001b[0m\n\u001b[1;32m--> 214\u001b[1;33m         \u001b[0mWindowManager\u001b[0m \u001b[1;33m=\u001b[0m \u001b[0mJObject\u001b[0m\u001b[1;33m(\u001b[0m\u001b[0m_WindowManager\u001b[0m\u001b[1;33m)\u001b[0m\u001b[1;33m\u001b[0m\u001b[1;33m\u001b[0m\u001b[0m\n\u001b[0m\u001b[0;32m    215\u001b[0m \u001b[1;33m\u001b[0m\u001b[0m\n\u001b[0;32m    216\u001b[0m     \u001b[1;32mclass\u001b[0m \u001b[0mImageJPython\u001b[0m\u001b[1;33m:\u001b[0m\u001b[1;33m\u001b[0m\u001b[1;33m\u001b[0m\u001b[0m\n",
      "\u001b[1;32m~\\anaconda3\\lib\\site-packages\\jpype\\_jobject.py\u001b[0m in \u001b[0;36m__new__\u001b[1;34m(cls, *args, **kwargs)\u001b[0m\n\u001b[0;32m     57\u001b[0m         \u001b[1;32mif\u001b[0m \u001b[0mlen\u001b[0m\u001b[1;33m(\u001b[0m\u001b[0margs\u001b[0m\u001b[1;33m)\u001b[0m \u001b[1;33m==\u001b[0m \u001b[1;36m0\u001b[0m\u001b[1;33m:\u001b[0m\u001b[1;33m\u001b[0m\u001b[1;33m\u001b[0m\u001b[0m\n\u001b[0;32m     58\u001b[0m             \u001b[1;32mreturn\u001b[0m \u001b[0m_jpype\u001b[0m\u001b[1;33m.\u001b[0m\u001b[0m_java_lang_Object\u001b[0m\u001b[1;33m(\u001b[0m\u001b[1;33m)\u001b[0m\u001b[1;33m\u001b[0m\u001b[1;33m\u001b[0m\u001b[0m\n\u001b[1;32m---> 59\u001b[1;33m         \u001b[1;32mreturn\u001b[0m \u001b[0m_JObjectFactory\u001b[0m\u001b[1;33m(\u001b[0m\u001b[1;33m*\u001b[0m\u001b[0margs\u001b[0m\u001b[1;33m,\u001b[0m \u001b[1;33m**\u001b[0m\u001b[0mkwargs\u001b[0m\u001b[1;33m)\u001b[0m\u001b[1;33m\u001b[0m\u001b[1;33m\u001b[0m\u001b[0m\n\u001b[0m\u001b[0;32m     60\u001b[0m \u001b[1;33m\u001b[0m\u001b[0m\n\u001b[0;32m     61\u001b[0m \u001b[1;33m\u001b[0m\u001b[0m\n",
      "\u001b[1;32m~\\anaconda3\\lib\\site-packages\\jpype\\_jobject.py\u001b[0m in \u001b[0;36m_JObjectFactory\u001b[1;34m(v, tp)\u001b[0m\n\u001b[0;32m    109\u001b[0m     \u001b[1;31m# Given a Java class\u001b[0m\u001b[1;33m\u001b[0m\u001b[1;33m\u001b[0m\u001b[1;33m\u001b[0m\u001b[0m\n\u001b[0;32m    110\u001b[0m     \u001b[1;32mif\u001b[0m \u001b[0misinstance\u001b[0m\u001b[1;33m(\u001b[0m\u001b[0mtp\u001b[0m\u001b[1;33m,\u001b[0m \u001b[0m_jpype\u001b[0m\u001b[1;33m.\u001b[0m\u001b[0m_JClass\u001b[0m\u001b[1;33m)\u001b[0m\u001b[1;33m:\u001b[0m\u001b[1;33m\u001b[0m\u001b[1;33m\u001b[0m\u001b[0m\n\u001b[1;32m--> 111\u001b[1;33m         \u001b[1;32mreturn\u001b[0m \u001b[0mtp\u001b[0m\u001b[1;33m.\u001b[0m\u001b[0m_cast\u001b[0m\u001b[1;33m(\u001b[0m\u001b[0mv\u001b[0m\u001b[1;33m)\u001b[0m\u001b[1;33m\u001b[0m\u001b[1;33m\u001b[0m\u001b[0m\n\u001b[0m\u001b[0;32m    112\u001b[0m \u001b[1;33m\u001b[0m\u001b[0m\n\u001b[0;32m    113\u001b[0m     \u001b[1;32mraise\u001b[0m \u001b[0mTypeError\u001b[0m\u001b[1;33m(\u001b[0m\u001b[1;34m\"Invalid type conversion to %s requested.\"\u001b[0m \u001b[1;33m%\u001b[0m \u001b[0mtp\u001b[0m\u001b[1;33m)\u001b[0m\u001b[1;33m\u001b[0m\u001b[1;33m\u001b[0m\u001b[0m\n",
      "\u001b[1;31mTypeError\u001b[0m: Unable to cast 'type' to java type 'java.lang.Class'"
     ]
    }
   ],
   "source": [
    "ij=imagej.init()"
   ]
  },
  {
   "cell_type": "code",
   "execution_count": 40,
   "id": "92376ff3",
   "metadata": {},
   "outputs": [],
   "source": [
    "import scyjava as sj"
   ]
  },
  {
   "cell_type": "code",
   "execution_count": 41,
   "id": "283488ae",
   "metadata": {},
   "outputs": [
    {
     "name": "stdout",
     "output_type": "stream",
     "text": [
      "X\n",
      "Y\n",
      "Unknown\n",
      "Unknown\n"
     ]
    }
   ],
   "source": [
    "print(dataset.axis(0).type())\n",
    "print(dataset.axis(1).type())\n",
    "print(dataset.axis(2).type())\n",
    "print(dataset.axis(3).type())"
   ]
  },
  {
   "cell_type": "code",
   "execution_count": 42,
   "id": "93c22bc3",
   "metadata": {},
   "outputs": [],
   "source": [
    "dataset=ij.py.to_dataset(test)"
   ]
  },
  {
   "cell_type": "code",
   "execution_count": 43,
   "id": "de088c65",
   "metadata": {},
   "outputs": [
    {
     "ename": "ImportError",
     "evalue": "Your IJ endpoint does not support IJ1, and thus cannot use IJ1 macros.",
     "output_type": "error",
     "traceback": [
      "\u001b[1;31m---------------------------------------------------------------------------\u001b[0m",
      "\u001b[1;31mImportError\u001b[0m                               Traceback (most recent call last)",
      "\u001b[1;32m<ipython-input-43-7ebd2b5923a5>\u001b[0m in \u001b[0;36m<module>\u001b[1;34m\u001b[0m\n\u001b[1;32m----> 1\u001b[1;33m \u001b[0mij\u001b[0m\u001b[1;33m.\u001b[0m\u001b[0mpy\u001b[0m\u001b[1;33m.\u001b[0m\u001b[0mrun_macro\u001b[0m\u001b[1;33m(\u001b[0m\u001b[1;34m\"\"\"saveAs(\"Tiff\", \"HyperStack.tif\");\"\"\"\u001b[0m\u001b[1;33m)\u001b[0m\u001b[1;33m\u001b[0m\u001b[1;33m\u001b[0m\u001b[0m\n\u001b[0m",
      "\u001b[1;32m~\\anaconda3\\lib\\site-packages\\imagej\\__init__.py\u001b[0m in \u001b[0;36mrun_macro\u001b[1;34m(self, macro, args)\u001b[0m\n\u001b[0;32m    329\u001b[0m             \"\"\"\n\u001b[0;32m    330\u001b[0m             \u001b[1;32mif\u001b[0m \u001b[1;32mnot\u001b[0m \u001b[0mij\u001b[0m\u001b[1;33m.\u001b[0m\u001b[0mlegacy\u001b[0m\u001b[1;33m.\u001b[0m\u001b[0misActive\u001b[0m\u001b[1;33m(\u001b[0m\u001b[1;33m)\u001b[0m\u001b[1;33m:\u001b[0m\u001b[1;33m\u001b[0m\u001b[1;33m\u001b[0m\u001b[0m\n\u001b[1;32m--> 331\u001b[1;33m                 \u001b[1;32mraise\u001b[0m \u001b[0mImportError\u001b[0m\u001b[1;33m(\u001b[0m\u001b[1;34m\"Your IJ endpoint does not support IJ1, and thus cannot use IJ1 macros.\"\u001b[0m\u001b[1;33m)\u001b[0m\u001b[1;33m\u001b[0m\u001b[1;33m\u001b[0m\u001b[0m\n\u001b[0m\u001b[0;32m    332\u001b[0m \u001b[1;33m\u001b[0m\u001b[0m\n\u001b[0;32m    333\u001b[0m             \u001b[1;32mtry\u001b[0m\u001b[1;33m:\u001b[0m\u001b[1;33m\u001b[0m\u001b[1;33m\u001b[0m\u001b[0m\n",
      "\u001b[1;31mImportError\u001b[0m: Your IJ endpoint does not support IJ1, and thus cannot use IJ1 macros."
     ]
    }
   ],
   "source": [
    "ij.py.run_macro(\"\"\"saveAs(\"Tiff\", \"HyperStack.tif\");\"\"\")"
   ]
  },
  {
   "cell_type": "code",
   "execution_count": 44,
   "id": "14adc800",
   "metadata": {},
   "outputs": [],
   "source": [
    "Axes = sj.jimport('net.imagej.axis.Axes')\n",
    "\n",
    "#axisTypes[0]=Axes.X\n",
    "#axisTypes[1]=Axes.Y\n",
    "\n",
    "#from net.imagej.axis import Axes\n",
    "#dataset.setAxis(Axes.X,0)"
   ]
  },
  {
   "cell_type": "code",
   "execution_count": 45,
   "id": "b487c9c0",
   "metadata": {},
   "outputs": [
    {
     "name": "stdout",
     "output_type": "stream",
     "text": [
      "Help on function setAxis in module _jpype:\n",
      "\n",
      "setAxis(*args) -> jpype._jclass.void\n",
      "    Java method dispatch 'setAxis' for 'net.imagej.DefaultDataset'\n",
      "    \n",
      "    Virtual Methods:\n",
      "      * void setAxis(net.imagej.axis.CalibratedAxis, int)\n",
      "      * void setAxis(net.imagej.axis.Axis, int)\n",
      "\n"
     ]
    }
   ],
   "source": [
    "help (dataset.setAxis)"
   ]
  },
  {
   "cell_type": "code",
   "execution_count": 46,
   "id": "1d392b18",
   "metadata": {},
   "outputs": [
    {
     "name": "stdout",
     "output_type": "stream",
     "text": [
      "512\n",
      "512\n",
      "2\n",
      "4\n"
     ]
    }
   ],
   "source": [
    "dataset.numDimensions()\n",
    "print(dataset.dimension(0))\n",
    "print(dataset.dimension(1))\n",
    "print(dataset.dimension(2))\n",
    "print(dataset.dimension(3))\n"
   ]
  },
  {
   "cell_type": "code",
   "execution_count": 53,
   "id": "c378b95f",
   "metadata": {},
   "outputs": [],
   "source": [
    "import xarray as xr\n",
    "data = xr.DataArray(test, dims=('C','z','y','x'))"
   ]
  },
  {
   "cell_type": "code",
   "execution_count": 54,
   "id": "44359dfd",
   "metadata": {},
   "outputs": [],
   "source": [
    "dataset = ij.py.to_dataset(data)"
   ]
  },
  {
   "cell_type": "code",
   "execution_count": 55,
   "id": "ba49514b",
   "metadata": {},
   "outputs": [
    {
     "name": "stdout",
     "output_type": "stream",
     "text": [
      "512 X\n",
      "512 Y\n",
      "2 Z\n",
      "4 C\n"
     ]
    }
   ],
   "source": [
    "print(dataset.dimension(0),dataset.axis(0).type())\n",
    "print(dataset.dimension(1),dataset.axis(1).type())\n",
    "print(dataset.dimension(2),dataset.axis(2).type())\n",
    "print(dataset.dimension(3),dataset.axis(3).type())"
   ]
  },
  {
   "cell_type": "code",
   "execution_count": 56,
   "id": "a66dc79c",
   "metadata": {},
   "outputs": [
    {
     "name": "stdout",
     "output_type": "stream",
     "text": [
      "Help on function setAxes in module _jpype:\n",
      "\n",
      "setAxes(*args) -> jpype._jclass.void\n",
      "    Java method dispatch 'setAxes' for 'net.imagej.DefaultDataset'\n",
      "    \n",
      "    Virtual Methods:\n",
      "      * void setAxes(net.imagej.axis.CalibratedAxis[])\n",
      "\n"
     ]
    }
   ],
   "source": [
    "help(dataset.setAxes)"
   ]
  },
  {
   "cell_type": "code",
   "execution_count": 58,
   "id": "3d5983db",
   "metadata": {},
   "outputs": [],
   "source": [
    "ij.io().save(dataset, 'frompyimagej10.tif')"
   ]
  },
  {
   "cell_type": "code",
   "execution_count": 21,
   "id": "79c12a71",
   "metadata": {},
   "outputs": [
    {
     "ename": "TypeError",
     "evalue": "No matching overloads found for net.imagej.DefaultDatasetService.save(net.imagej.ImgPlus,str), options are:\n\tpublic java.lang.Object net.imagej.DefaultDatasetService.save(net.imagej.Dataset,java.lang.String,java.lang.Object) throws java.io.IOException\n\tpublic java.lang.Object net.imagej.DefaultDatasetService.save(net.imagej.Dataset,java.lang.String) throws java.io.IOException\n\n",
     "output_type": "error",
     "traceback": [
      "\u001b[1;31m---------------------------------------------------------------------------\u001b[0m",
      "\u001b[1;31mTypeError\u001b[0m                                 Traceback (most recent call last)",
      "\u001b[1;32m<ipython-input-21-5473e521ea6a>\u001b[0m in \u001b[0;36m<module>\u001b[1;34m\u001b[0m\n\u001b[1;32m----> 1\u001b[1;33m \u001b[0mij\u001b[0m\u001b[1;33m.\u001b[0m\u001b[0mdataset\u001b[0m\u001b[1;33m(\u001b[0m\u001b[1;33m)\u001b[0m\u001b[1;33m.\u001b[0m\u001b[0msave\u001b[0m\u001b[1;33m(\u001b[0m\u001b[0mdataset\u001b[0m\u001b[1;33m.\u001b[0m\u001b[0mgetImgPlus\u001b[0m\u001b[1;33m(\u001b[0m\u001b[1;33m)\u001b[0m\u001b[1;33m,\u001b[0m \u001b[1;34m'frompyimagej6.tif'\u001b[0m\u001b[1;33m)\u001b[0m\u001b[1;33m\u001b[0m\u001b[1;33m\u001b[0m\u001b[0m\n\u001b[0m",
      "\u001b[1;31mTypeError\u001b[0m: No matching overloads found for net.imagej.DefaultDatasetService.save(net.imagej.ImgPlus,str), options are:\n\tpublic java.lang.Object net.imagej.DefaultDatasetService.save(net.imagej.Dataset,java.lang.String,java.lang.Object) throws java.io.IOException\n\tpublic java.lang.Object net.imagej.DefaultDatasetService.save(net.imagej.Dataset,java.lang.String) throws java.io.IOException\n\n"
     ]
    }
   ],
   "source": [
    "ij.dataset().save(dataset.getImgPlus(), 'frompyimagej6.tif')"
   ]
  },
  {
   "cell_type": "code",
   "execution_count": 30,
   "id": "19700697",
   "metadata": {},
   "outputs": [],
   "source": [
    "import bioformats as bf"
   ]
  },
  {
   "cell_type": "code",
   "execution_count": 35,
   "id": "8ed50d7b",
   "metadata": {},
   "outputs": [
    {
     "ename": "AttributeError",
     "evalue": "'NoneType' object has no attribute 'make_byte_array'",
     "output_type": "error",
     "traceback": [
      "\u001b[1;31m---------------------------------------------------------------------------\u001b[0m",
      "\u001b[1;31mAttributeError\u001b[0m                            Traceback (most recent call last)",
      "\u001b[1;32m<ipython-input-35-9a7b90612c51>\u001b[0m in \u001b[0;36m<module>\u001b[1;34m\u001b[0m\n\u001b[1;32m----> 1\u001b[1;33m \u001b[0mbf\u001b[0m\u001b[1;33m.\u001b[0m\u001b[0mwrite_image\u001b[0m\u001b[1;33m(\u001b[0m\u001b[1;34m\"test.tif\"\u001b[0m\u001b[1;33m,\u001b[0m\u001b[0mtest\u001b[0m\u001b[1;33m,\u001b[0m\u001b[0mbf\u001b[0m\u001b[1;33m.\u001b[0m\u001b[0mPT_UINT16\u001b[0m\u001b[1;33m)\u001b[0m\u001b[1;33m\u001b[0m\u001b[1;33m\u001b[0m\u001b[0m\n\u001b[0m",
      "\u001b[1;32m~\\anaconda3\\lib\\site-packages\\bioformats\\formatwriter.py\u001b[0m in \u001b[0;36mwrite_image\u001b[1;34m(pathname, pixels, pixel_type, c, z, t, size_c, size_z, size_t, channel_names)\u001b[0m\n\u001b[0;32m     91\u001b[0m         \u001b[0mp\u001b[0m\u001b[1;33m.\u001b[0m\u001b[0mchannel_count\u001b[0m \u001b[1;33m=\u001b[0m \u001b[0msize_c\u001b[0m\u001b[1;33m\u001b[0m\u001b[1;33m\u001b[0m\u001b[0m\n\u001b[0;32m     92\u001b[0m \u001b[1;33m\u001b[0m\u001b[0m\n\u001b[1;32m---> 93\u001b[1;33m     \u001b[0mpixel_buffer\u001b[0m \u001b[1;33m=\u001b[0m \u001b[0mconvert_pixels_to_buffer\u001b[0m\u001b[1;33m(\u001b[0m\u001b[0mpixels\u001b[0m\u001b[1;33m,\u001b[0m \u001b[0mpixel_type\u001b[0m\u001b[1;33m)\u001b[0m\u001b[1;33m\u001b[0m\u001b[1;33m\u001b[0m\u001b[0m\n\u001b[0m\u001b[0;32m     94\u001b[0m     \u001b[0mxml\u001b[0m \u001b[1;33m=\u001b[0m \u001b[0momexml\u001b[0m\u001b[1;33m.\u001b[0m\u001b[0mto_xml\u001b[0m\u001b[1;33m(\u001b[0m\u001b[1;33m)\u001b[0m\u001b[1;33m\u001b[0m\u001b[1;33m\u001b[0m\u001b[0m\n\u001b[0;32m     95\u001b[0m     script = \"\"\"\n",
      "\u001b[1;32m~\\anaconda3\\lib\\site-packages\\bioformats\\formatwriter.py\u001b[0m in \u001b[0;36mconvert_pixels_to_buffer\u001b[1;34m(pixels, pixel_type)\u001b[0m\n\u001b[0;32m    135\u001b[0m     \u001b[0mbuf\u001b[0m \u001b[1;33m=\u001b[0m \u001b[0mnp\u001b[0m\u001b[1;33m.\u001b[0m\u001b[0mfrombuffer\u001b[0m\u001b[1;33m(\u001b[0m\u001b[0mnp\u001b[0m\u001b[1;33m.\u001b[0m\u001b[0mascontiguousarray\u001b[0m\u001b[1;33m(\u001b[0m\u001b[0mpixels\u001b[0m\u001b[1;33m,\u001b[0m \u001b[0mas_dtype\u001b[0m\u001b[1;33m)\u001b[0m\u001b[1;33m.\u001b[0m\u001b[0mdata\u001b[0m\u001b[1;33m,\u001b[0m \u001b[0mnp\u001b[0m\u001b[1;33m.\u001b[0m\u001b[0muint8\u001b[0m\u001b[1;33m)\u001b[0m\u001b[1;33m\u001b[0m\u001b[1;33m\u001b[0m\u001b[0m\n\u001b[0;32m    136\u001b[0m     \u001b[0menv\u001b[0m \u001b[1;33m=\u001b[0m \u001b[0mjutil\u001b[0m\u001b[1;33m.\u001b[0m\u001b[0mget_env\u001b[0m\u001b[1;33m(\u001b[0m\u001b[1;33m)\u001b[0m\u001b[1;33m\u001b[0m\u001b[1;33m\u001b[0m\u001b[0m\n\u001b[1;32m--> 137\u001b[1;33m     \u001b[1;32mreturn\u001b[0m \u001b[0menv\u001b[0m\u001b[1;33m.\u001b[0m\u001b[0mmake_byte_array\u001b[0m\u001b[1;33m(\u001b[0m\u001b[0mbuf\u001b[0m\u001b[1;33m)\u001b[0m\u001b[1;33m\u001b[0m\u001b[1;33m\u001b[0m\u001b[0m\n\u001b[0m\u001b[0;32m    138\u001b[0m \u001b[1;33m\u001b[0m\u001b[0m\n\u001b[0;32m    139\u001b[0m \u001b[1;32mdef\u001b[0m \u001b[0mmake_iformat_writer_class\u001b[0m\u001b[1;33m(\u001b[0m\u001b[0mclass_name\u001b[0m\u001b[1;33m)\u001b[0m\u001b[1;33m:\u001b[0m\u001b[1;33m\u001b[0m\u001b[1;33m\u001b[0m\u001b[0m\n",
      "\u001b[1;31mAttributeError\u001b[0m: 'NoneType' object has no attribute 'make_byte_array'"
     ]
    }
   ],
   "source": [
    "bf.write_image(\"test.tif\",test,bf.PT_UINT16)"
   ]
  },
  {
   "cell_type": "code",
   "execution_count": 28,
   "id": "817ed7ac",
   "metadata": {},
   "outputs": [],
   "source": [
    "import bioformats as bf"
   ]
  },
  {
   "cell_type": "code",
   "execution_count": null,
   "id": "c3fe56a3",
   "metadata": {},
   "outputs": [],
   "source": [
    "bf."
   ]
  }
 ],
 "metadata": {
  "kernelspec": {
   "display_name": "Python 3",
   "language": "python",
   "name": "python3"
  },
  "language_info": {
   "codemirror_mode": {
    "name": "ipython",
    "version": 3
   },
   "file_extension": ".py",
   "mimetype": "text/x-python",
   "name": "python",
   "nbconvert_exporter": "python",
   "pygments_lexer": "ipython3",
   "version": "3.8.5"
  }
 },
 "nbformat": 4,
 "nbformat_minor": 5
}
